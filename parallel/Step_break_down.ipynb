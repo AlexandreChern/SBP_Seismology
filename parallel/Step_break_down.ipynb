{
 "cells": [
  {
   "cell_type": "code",
   "execution_count": 3,
   "metadata": {},
   "outputs": [],
   "source": [
    "if (typeof(Base.find_package(\"UnicodePlots\")) == Nothing)\n",
    "    println(\"Package Unicode not installed\")\n",
    "    using Pkg;\n",
    "    Pkg.add(\"UnicodePlots\")\n",
    "end\n",
    "using UnicodePlots"
   ]
  },
  {
   "cell_type": "markdown",
   "metadata": {},
   "source": [
    "## Using Packages"
   ]
  },
  {
   "cell_type": "code",
   "execution_count": 4,
   "metadata": {},
   "outputs": [],
   "source": [
    "using .Threads\n",
    "using BenchmarkTools\n",
    "using SparseArrays\n",
    "using LinearAlgebra"
   ]
  },
  {
   "cell_type": "markdown",
   "metadata": {},
   "source": [
    "## Including External Files|"
   ]
  },
  {
   "cell_type": "code",
   "execution_count": 163,
   "metadata": {},
   "outputs": [
    {
     "data": {
      "text/plain": [
       "plot_blocks (generic function with 1 method)"
      ]
     },
     "execution_count": 163,
     "metadata": {},
     "output_type": "execute_result"
    }
   ],
   "source": [
    "include(\"global_curved_multithreading.jl\")"
   ]
  },
  {
   "cell_type": "markdown",
   "metadata": {},
   "source": [
    "## Setting SBP operator Orders"
   ]
  },
  {
   "cell_type": "code",
   "execution_count": 6,
   "metadata": {},
   "outputs": [
    {
     "data": {
      "text/plain": [
       "6"
      ]
     },
     "execution_count": 6,
     "metadata": {},
     "output_type": "execute_result"
    }
   ],
   "source": [
    "SBPp = 6"
   ]
  },
  {
   "cell_type": "markdown",
   "metadata": {},
   "source": [
    "## Reading .inp files and initializing boundary conditions"
   ]
  },
  {
   "cell_type": "code",
   "execution_count": 7,
   "metadata": {},
   "outputs": [
    {
     "data": {
      "text/plain": [
       "5-element Array{Int64,1}:\n",
       " 1\n",
       " 1\n",
       " 2\n",
       " 2\n",
       " 7"
      ]
     },
     "execution_count": 7,
     "metadata": {},
     "output_type": "execute_result"
    }
   ],
   "source": [
    "bc_map = [BC_DIRICHLET, BC_DIRICHLET, BC_NEUMANN, BC_NEUMANN, BC_JUMP_INTERFACE]\n",
    "# 1 refers to Dirichlet boundary condition\n",
    "# 2 refers to Neumann boundary condition\n",
    "# 7 refers to Jump interface condition"
   ]
  },
  {
   "cell_type": "code",
   "execution_count": 193,
   "metadata": {},
   "outputs": [
    {
     "data": {
      "text/plain": [
       "([0.5 -0.5 … 0.125 0.125; 0.5 0.5 … -0.5 -0.375], [24 4 … 22 16; 73 70 … 65 47; 72 73 … 58 65; 74 74 … 69 69], [1 5 … 122 136; 2 6 … 144 141; 3 7 … 137 93; 4 2 … 143 144], [0, 0, 1, 0, 1, 0, 1, 1, 0, 0  …  0, 0, 0, 0, 0, 1, 0, 1, 0, 0], [1, 1, 1, 1, 1, 1, 1, 1, 1, 1  …  1, 1, 1, 1, 1, 1, 1, 1, 1, 1])"
      ]
     },
     "execution_count": 193,
     "metadata": {},
     "output_type": "execute_result"
    }
   ],
   "source": [
    "(verts, EToV, EToF, FToB, EToDomain) = read_inp_2d(\"../meshes/8_8_block.inp\", bc_map=bc_map)"
   ]
  },
  {
   "cell_type": "code",
   "execution_count": 194,
   "metadata": {},
   "outputs": [
    {
     "data": {
      "text/plain": [
       "81×2 Array{Float64,2}:\n",
       "  0.5     0.5  \n",
       " -0.5     0.5  \n",
       " -0.5    -0.5  \n",
       "  0.5    -0.5  \n",
       "  0.0     0.5  \n",
       " -0.5     0.0  \n",
       "  0.0    -0.5  \n",
       "  0.5     0.0  \n",
       "  0.0     0.0  \n",
       "  0.25    0.5  \n",
       "  0.0     0.25 \n",
       "  0.25    0.0  \n",
       "  0.5     0.25 \n",
       "  ⋮            \n",
       "  0.5    -0.375\n",
       "  0.375  -0.25 \n",
       "  0.25   -0.375\n",
       "  0.375  -0.5  \n",
       "  0.375  -0.375\n",
       "  0.25   -0.125\n",
       "  0.5    -0.125\n",
       "  0.375  -0.125\n",
       "  0.125  -0.25 \n",
       "  0.125  -0.125\n",
       "  0.125  -0.5  \n",
       "  0.125  -0.375"
      ]
     },
     "execution_count": 194,
     "metadata": {},
     "output_type": "execute_result"
    }
   ],
   "source": [
    "verts'"
   ]
  },
  {
   "cell_type": "code",
   "execution_count": 195,
   "metadata": {},
   "outputs": [
    {
     "data": {
      "text/plain": [
       "4×64 Array{Int64,2}:\n",
       " 24   4  23  25  20  25  24   7  12  …  19   9  16  22  20   6  21  22  16\n",
       " 73  70  71  72  61  78  72  80  35     63  52  65  62  66  68  58  65  47\n",
       " 72  73  70  71  78  72  80  61  75     57  66  52  65  62  47  68  58  65\n",
       " 74  74  74  74  81  81  81  81  79     64  67  67  67  67  69  69  69  69"
      ]
     },
     "execution_count": 195,
     "metadata": {},
     "output_type": "execute_result"
    }
   ],
   "source": [
    "EToV"
   ]
  },
  {
   "cell_type": "code",
   "execution_count": 196,
   "metadata": {},
   "outputs": [
    {
     "data": {
      "text/plain": [
       "144-element Array{Int64,1}:\n",
       " 0\n",
       " 0\n",
       " 1\n",
       " 0\n",
       " 1\n",
       " 0\n",
       " 1\n",
       " 1\n",
       " 0\n",
       " 0\n",
       " 0\n",
       " 0\n",
       " 0\n",
       " ⋮\n",
       " 0\n",
       " 0\n",
       " 0\n",
       " 0\n",
       " 0\n",
       " 0\n",
       " 0\n",
       " 1\n",
       " 0\n",
       " 1\n",
       " 0\n",
       " 0"
      ]
     },
     "execution_count": 196,
     "metadata": {},
     "output_type": "execute_result"
    }
   ],
   "source": [
    "FToB"
   ]
  },
  {
   "cell_type": "code",
   "execution_count": 197,
   "metadata": {},
   "outputs": [
    {
     "data": {
      "text/plain": [
       "64-element Array{Int64,1}:\n",
       " 1\n",
       " 1\n",
       " 1\n",
       " 1\n",
       " 1\n",
       " 1\n",
       " 1\n",
       " 1\n",
       " 1\n",
       " 1\n",
       " 1\n",
       " 1\n",
       " 1\n",
       " ⋮\n",
       " 1\n",
       " 1\n",
       " 1\n",
       " 1\n",
       " 1\n",
       " 1\n",
       " 1\n",
       " 1\n",
       " 1\n",
       " 1\n",
       " 1\n",
       " 1"
      ]
     },
     "execution_count": 197,
     "metadata": {},
     "output_type": "execute_result"
    }
   ],
   "source": [
    "EToDomain"
   ]
  },
  {
   "cell_type": "code",
   "execution_count": 198,
   "metadata": {},
   "outputs": [
    {
     "name": "stdout",
     "output_type": "stream",
     "text": [
      "(nelems, nfaces) = (64, 144)\n"
     ]
    },
    {
     "data": {
      "text/plain": [
       "(64, 144)"
      ]
     },
     "execution_count": 198,
     "metadata": {},
     "output_type": "execute_result"
    }
   ],
   "source": [
    "(nelems, nfaces) = (size(EToV, 2), size(FToB, 1))\n",
    "@show (nelems, nfaces)"
   ]
  },
  {
   "cell_type": "code",
   "execution_count": 199,
   "metadata": {},
   "outputs": [],
   "source": [
    "# This is needed to fix up points that should be on the boundary of the\n",
    "# circle, but the mesh didn't quite put them there\n",
    "for v in 1:size(verts, 2)\n",
    "    x,y = verts[1,v], verts[2,v]\n",
    "    if abs(hypot(x,y) - 1) < 1e-5\n",
    "        Q = atan(y,x)\n",
    "        verts[1,v], verts[2,v] = cos(Q), sin(Q)\n",
    "    end\n",
    "end\n"
   ]
  },
  {
   "cell_type": "code",
   "execution_count": 200,
   "metadata": {},
   "outputs": [
    {
     "data": {
      "text/plain": [
       "\u001b[1m                                        connectivity\u001b[22m\n",
       "\u001b[90m      ┌────────────────────────────────────────────────────────────────────────────────┐\u001b[39m \n",
       "    \u001b[90m1\u001b[39m\u001b[90m │\u001b[39m\u001b[0m⠀\u001b[0m⠀\u001b[0m⠀\u001b[0m⠀\u001b[0m⠀\u001b[0m⠀\u001b[0m⠀\u001b[0m⠀\u001b[0m⠀\u001b[0m⠀\u001b[0m⠀\u001b[0m⠀\u001b[0m⠀\u001b[0m⠀\u001b[0m⠀\u001b[0m⠀\u001b[0m⠀\u001b[0m⠀\u001b[0m⠀\u001b[0m⠀\u001b[0m⠀\u001b[0m⠀\u001b[0m⠀\u001b[0m⠀\u001b[0m⠀\u001b[0m⠀\u001b[0m⠀\u001b[0m⠀\u001b[0m⠀\u001b[0m⠀\u001b[0m⠀\u001b[0m⠀\u001b[0m⠀\u001b[0m⠀\u001b[0m⠀\u001b[0m⠀\u001b[0m⠀\u001b[0m⠀\u001b[0m⠀\u001b[0m⠀\u001b[0m⠀\u001b[0m⠀\u001b[0m⠀\u001b[0m⠀\u001b[0m⠀\u001b[0m⠀\u001b[0m⠀\u001b[0m⠀\u001b[0m⠀\u001b[0m⠀\u001b[0m⠀\u001b[0m⠀\u001b[0m⠀\u001b[0m⠀\u001b[0m⠀\u001b[0m⠀\u001b[0m⠀\u001b[0m⠀\u001b[0m⠀\u001b[0m⠀\u001b[0m⠀\u001b[0m⠀\u001b[0m⠀\u001b[0m⠀\u001b[0m⠀\u001b[0m⠀\u001b[0m⠀\u001b[0m⠀\u001b[0m⠀\u001b[0m⠀\u001b[0m⠀\u001b[0m⠀\u001b[0m⠀\u001b[0m⠀\u001b[0m⠀\u001b[0m⠀\u001b[0m⠀\u001b[0m⠀\u001b[0m⠀\u001b[0m⠀\u001b[90m│\u001b[39m \n",
       "     \u001b[90m │\u001b[39m\u001b[0m⠀\u001b[0m⠀\u001b[0m⠀\u001b[0m⠀\u001b[0m⠀\u001b[0m⠀\u001b[0m⠀\u001b[0m⠀\u001b[0m⠀\u001b[0m⠀\u001b[0m⠀\u001b[0m⠀\u001b[0m⠀\u001b[0m⠀\u001b[0m⠀\u001b[0m⠀\u001b[0m⠀\u001b[0m⠀\u001b[0m⠀\u001b[0m⠀\u001b[0m⠀\u001b[0m⠀\u001b[0m⠀\u001b[0m⠀\u001b[0m⠀\u001b[0m⠀\u001b[0m⠀\u001b[0m⠀\u001b[0m⠀\u001b[0m⠀\u001b[0m⠀\u001b[0m⠀\u001b[0m⠀\u001b[0m⠀\u001b[0m⠀\u001b[0m⠀\u001b[0m⠀\u001b[0m⠀\u001b[0m⠀\u001b[0m⠀\u001b[0m⠀\u001b[0m⠀\u001b[0m⠀\u001b[0m⠀\u001b[0m⠀\u001b[0m⠀\u001b[0m⠀\u001b[0m⠀\u001b[0m⠀\u001b[0m⠀\u001b[0m⠀\u001b[0m⠀\u001b[0m⠀\u001b[0m⠀\u001b[0m⠀\u001b[0m⠀\u001b[0m⠀\u001b[0m⠀\u001b[0m⠀\u001b[0m⠀\u001b[0m⠀\u001b[0m⠀\u001b[0m⠀\u001b[0m⠀\u001b[0m⠀\u001b[0m⠀\u001b[0m⠀\u001b[0m⠀\u001b[0m⠀\u001b[0m⠀\u001b[0m⠀\u001b[0m⠀\u001b[0m⠀\u001b[0m⠀\u001b[0m⠀\u001b[0m⠀\u001b[0m⠀\u001b[0m⠀\u001b[0m⠀\u001b[0m⠀\u001b[90m│\u001b[39m \n",
       "     \u001b[90m │\u001b[39m\u001b[0m⠀\u001b[0m⠀\u001b[0m⠀\u001b[0m⠀\u001b[0m⠀\u001b[0m⠀\u001b[0m⠀\u001b[0m⠀\u001b[0m⠀\u001b[0m⠀\u001b[0m⠀\u001b[0m⠀\u001b[0m⠀\u001b[0m⠀\u001b[0m⠀\u001b[0m⠀\u001b[0m⠀\u001b[0m⠀\u001b[0m⠀\u001b[0m⠀\u001b[0m⠀\u001b[0m⠀\u001b[0m⠀\u001b[0m⠀\u001b[0m⠀\u001b[0m⠀\u001b[0m⠀\u001b[0m⠀\u001b[0m⠀\u001b[0m⠀\u001b[0m⠀\u001b[0m⠀\u001b[0m⠀\u001b[0m⠀\u001b[0m⠀\u001b[0m⠀\u001b[0m⠀\u001b[0m⠀\u001b[0m⠀\u001b[0m⠀\u001b[0m⠀\u001b[0m⠀\u001b[0m⠀\u001b[0m⠀\u001b[0m⠀\u001b[0m⠀\u001b[0m⠀\u001b[0m⠀\u001b[0m⠀\u001b[0m⠀\u001b[0m⠀\u001b[0m⠀\u001b[0m⠀\u001b[0m⠀\u001b[0m⠀\u001b[0m⠀\u001b[0m⠀\u001b[0m⠀\u001b[0m⠀\u001b[0m⠀\u001b[0m⠀\u001b[0m⠀\u001b[0m⠀\u001b[0m⠀\u001b[0m⠀\u001b[0m⠀\u001b[0m⠀\u001b[0m⠀\u001b[0m⠀\u001b[0m⠀\u001b[0m⠀\u001b[0m⠀\u001b[0m⠀\u001b[0m⠀\u001b[0m⠀\u001b[0m⠀\u001b[0m⠀\u001b[0m⠀\u001b[0m⠀\u001b[0m⠀\u001b[90m│\u001b[39m \n",
       "     \u001b[90m │\u001b[39m\u001b[0m⠀\u001b[0m⠀\u001b[0m⠀\u001b[0m⠀\u001b[0m⠀\u001b[0m⠀\u001b[0m⠀\u001b[0m⠀\u001b[0m⠀\u001b[0m⠀\u001b[0m⠀\u001b[0m⠀\u001b[0m⠀\u001b[0m⠀\u001b[0m⠀\u001b[0m⠀\u001b[0m⠀\u001b[0m⠀\u001b[0m⠀\u001b[0m⠀\u001b[0m⠀\u001b[0m⠀\u001b[0m⠀\u001b[0m⠀\u001b[0m⠀\u001b[0m⠀\u001b[0m⠀\u001b[0m⠀\u001b[0m⠀\u001b[0m⠀\u001b[0m⠀\u001b[0m⠀\u001b[0m⠀\u001b[0m⠀\u001b[0m⠀\u001b[0m⠀\u001b[0m⠀\u001b[0m⠀\u001b[0m⠀\u001b[0m⠀\u001b[0m⠀\u001b[0m⠀\u001b[0m⠀\u001b[0m⠀\u001b[0m⠀\u001b[0m⠀\u001b[0m⠀\u001b[0m⠀\u001b[0m⠀\u001b[0m⠀\u001b[0m⠀\u001b[0m⠀\u001b[0m⠀\u001b[0m⠀\u001b[0m⠀\u001b[0m⠀\u001b[0m⠀\u001b[0m⠀\u001b[0m⠀\u001b[0m⠀\u001b[0m⠀\u001b[0m⠀\u001b[0m⠀\u001b[0m⠀\u001b[0m⠀\u001b[0m⠀\u001b[0m⠀\u001b[0m⠀\u001b[0m⠀\u001b[0m⠀\u001b[0m⠀\u001b[0m⠀\u001b[0m⠀\u001b[0m⠀\u001b[0m⠀\u001b[0m⠀\u001b[0m⠀\u001b[0m⠀\u001b[0m⠀\u001b[0m⠀\u001b[90m│\u001b[39m \n",
       "     \u001b[90m │\u001b[39m\u001b[0m⠀\u001b[0m⠀\u001b[0m⠀\u001b[0m⠀\u001b[0m⠀\u001b[0m⠀\u001b[0m⠀\u001b[0m⠀\u001b[0m⠀\u001b[0m⠀\u001b[0m⠀\u001b[0m⠀\u001b[0m⠀\u001b[0m⠀\u001b[0m⠀\u001b[0m⠀\u001b[0m⠀\u001b[0m⠀\u001b[0m⠀\u001b[0m⠀\u001b[0m⠀\u001b[0m⠀\u001b[0m⠀\u001b[0m⠀\u001b[0m⠀\u001b[0m⠀\u001b[0m⠀\u001b[0m⠀\u001b[0m⠀\u001b[0m⠀\u001b[0m⠀\u001b[0m⠀\u001b[0m⠀\u001b[0m⠀\u001b[0m⠀\u001b[0m⠀\u001b[0m⠀\u001b[0m⠀\u001b[0m⠀\u001b[0m⠀\u001b[0m⠀\u001b[0m⠀\u001b[0m⠀\u001b[0m⠀\u001b[0m⠀\u001b[0m⠀\u001b[0m⠀\u001b[0m⠀\u001b[0m⠀\u001b[0m⠀\u001b[0m⠀\u001b[0m⠀\u001b[0m⠀\u001b[0m⠀\u001b[0m⠀\u001b[0m⠀\u001b[0m⠀\u001b[0m⠀\u001b[0m⠀\u001b[0m⠀\u001b[0m⠀\u001b[0m⠀\u001b[0m⠀\u001b[0m⠀\u001b[0m⠀\u001b[0m⠀\u001b[0m⠀\u001b[0m⠀\u001b[0m⠀\u001b[0m⠀\u001b[0m⠀\u001b[0m⠀\u001b[0m⠀\u001b[0m⠀\u001b[0m⠀\u001b[0m⠀\u001b[0m⠀\u001b[0m⠀\u001b[0m⠀\u001b[0m⠀\u001b[90m│\u001b[39m \n",
       "     \u001b[90m │\u001b[39m\u001b[0m⠀\u001b[0m⠀\u001b[0m⠀\u001b[0m⠀\u001b[0m⠀\u001b[0m⠀\u001b[0m⠀\u001b[0m⠀\u001b[0m⠀\u001b[0m⠀\u001b[0m⠀\u001b[0m⠀\u001b[0m⠀\u001b[0m⠀\u001b[0m⠀\u001b[0m⠀\u001b[0m⠀\u001b[0m⠀\u001b[0m⠀\u001b[0m⠀\u001b[0m⠀\u001b[0m⠀\u001b[0m⠀\u001b[0m⠀\u001b[0m⠀\u001b[0m⠀\u001b[0m⠀\u001b[0m⠀\u001b[0m⠀\u001b[0m⠀\u001b[0m⠀\u001b[0m⠀\u001b[0m⠀\u001b[0m⠀\u001b[0m⠀\u001b[0m⠀\u001b[0m⠀\u001b[0m⠀\u001b[0m⠀\u001b[0m⠀\u001b[0m⠀\u001b[0m⠀\u001b[0m⠀\u001b[0m⠀\u001b[0m⠀\u001b[0m⠀\u001b[0m⠀\u001b[0m⠀\u001b[0m⠀\u001b[0m⠀\u001b[0m⠀\u001b[0m⠀\u001b[0m⠀\u001b[0m⠀\u001b[0m⠀\u001b[0m⠀\u001b[0m⠀\u001b[0m⠀\u001b[0m⠀\u001b[0m⠀\u001b[0m⠀\u001b[0m⠀\u001b[0m⠀\u001b[0m⠀\u001b[0m⠀\u001b[0m⠀\u001b[0m⠀\u001b[0m⠀\u001b[0m⠀\u001b[0m⠀\u001b[0m⠀\u001b[0m⠀\u001b[0m⠀\u001b[0m⠀\u001b[0m⠀\u001b[0m⠀\u001b[0m⠀\u001b[0m⠀\u001b[0m⠀\u001b[0m⠀\u001b[90m│\u001b[39m \n",
       "     \u001b[90m │\u001b[39m\u001b[0m⠀\u001b[0m⠀\u001b[0m⠀\u001b[0m⠀\u001b[0m⠀\u001b[0m⠀\u001b[0m⠀\u001b[0m⠀\u001b[0m⠀\u001b[0m⠀\u001b[0m⠀\u001b[0m⠀\u001b[0m⠀\u001b[0m⠀\u001b[0m⠀\u001b[0m⠀\u001b[0m⠀\u001b[0m⠀\u001b[0m⠀\u001b[0m⠀\u001b[0m⠀\u001b[0m⠀\u001b[0m⠀\u001b[0m⠀\u001b[0m⠀\u001b[0m⠀\u001b[0m⠀\u001b[0m⠀\u001b[0m⠀\u001b[0m⠀\u001b[0m⠀\u001b[0m⠀\u001b[0m⠀\u001b[0m⠀\u001b[0m⠀\u001b[0m⠀\u001b[0m⠀\u001b[0m⠀\u001b[0m⠀\u001b[0m⠀\u001b[0m⠀\u001b[0m⠀\u001b[0m⠀\u001b[0m⠀\u001b[0m⠀\u001b[0m⠀\u001b[0m⠀\u001b[0m⠀\u001b[0m⠀\u001b[0m⠀\u001b[0m⠀\u001b[0m⠀\u001b[0m⠀\u001b[0m⠀\u001b[0m⠀\u001b[0m⠀\u001b[0m⠀\u001b[0m⠀\u001b[0m⠀\u001b[0m⠀\u001b[0m⠀\u001b[0m⠀\u001b[0m⠀\u001b[0m⠀\u001b[0m⠀\u001b[0m⠀\u001b[0m⠀\u001b[0m⠀\u001b[0m⠀\u001b[0m⠀\u001b[0m⠀\u001b[0m⠀\u001b[0m⠀\u001b[0m⠀\u001b[0m⠀\u001b[0m⠀\u001b[0m⠀\u001b[0m⠀\u001b[0m⠀\u001b[0m⠀\u001b[90m│\u001b[39m \n",
       "     \u001b[90m │\u001b[39m\u001b[0m⠀\u001b[0m⠀\u001b[0m⠀\u001b[0m⠀\u001b[0m⠀\u001b[0m⠀\u001b[0m⠀\u001b[0m⠀\u001b[0m⠀\u001b[0m⠀\u001b[0m⠀\u001b[0m⠀\u001b[0m⠀\u001b[0m⠀\u001b[0m⠀\u001b[0m⠀\u001b[0m⠀\u001b[0m⠀\u001b[0m⠀\u001b[0m⠀\u001b[0m⠀\u001b[0m⠀\u001b[0m⠀\u001b[0m⠀\u001b[0m⠀\u001b[0m⠀\u001b[0m⠀\u001b[0m⠀\u001b[0m⠀\u001b[0m⠀\u001b[0m⠀\u001b[0m⠀\u001b[0m⠀\u001b[0m⠀\u001b[0m⠀\u001b[0m⠀\u001b[0m⠀\u001b[0m⠀\u001b[0m⠀\u001b[0m⠀\u001b[0m⠀\u001b[0m⠀\u001b[0m⠀\u001b[0m⠀\u001b[0m⠀\u001b[0m⠀\u001b[0m⠀\u001b[0m⠀\u001b[0m⠀\u001b[0m⠀\u001b[0m⠀\u001b[0m⠀\u001b[0m⠀\u001b[0m⠀\u001b[0m⠀\u001b[0m⠀\u001b[0m⠀\u001b[0m⠀\u001b[0m⠀\u001b[0m⠀\u001b[0m⠀\u001b[0m⠀\u001b[0m⠀\u001b[0m⠀\u001b[0m⠀\u001b[0m⠀\u001b[0m⠀\u001b[0m⠀\u001b[0m⠀\u001b[0m⠀\u001b[0m⠀\u001b[0m⠀\u001b[0m⠀\u001b[0m⠀\u001b[0m⠀\u001b[0m⠀\u001b[0m⠀\u001b[0m⠀\u001b[0m⠀\u001b[0m⠀\u001b[90m│\u001b[39m \n",
       "     \u001b[90m │\u001b[39m\u001b[0m⠀\u001b[0m⠀\u001b[0m⠀\u001b[0m⠀\u001b[0m⠀\u001b[0m⠀\u001b[0m⠀\u001b[0m⠀\u001b[0m⠀\u001b[0m⠀\u001b[0m⠀\u001b[0m⠀\u001b[0m⠀\u001b[0m⠀\u001b[0m⠀\u001b[0m⠀\u001b[0m⠀\u001b[0m⠀\u001b[0m⠀\u001b[0m⠀\u001b[0m⠀\u001b[0m⠀\u001b[0m⠀\u001b[0m⠀\u001b[0m⠀\u001b[0m⠀\u001b[0m⠀\u001b[0m⠀\u001b[0m⠀\u001b[0m⠀\u001b[0m⠀\u001b[0m⠀\u001b[0m⠀\u001b[0m⠀\u001b[0m⠀\u001b[0m⠀\u001b[0m⠀\u001b[0m⠀\u001b[0m⠀\u001b[0m⠀\u001b[0m⠀\u001b[0m⠀\u001b[0m⠀\u001b[0m⠀\u001b[0m⠀\u001b[0m⠀\u001b[0m⠀\u001b[0m⠀\u001b[0m⠀\u001b[0m⠀\u001b[0m⠀\u001b[0m⠀\u001b[0m⠀\u001b[0m⠀\u001b[0m⠀\u001b[0m⠀\u001b[0m⠀\u001b[0m⠀\u001b[0m⠀\u001b[0m⠀\u001b[0m⠀\u001b[0m⠀\u001b[0m⠀\u001b[0m⠀\u001b[0m⠀\u001b[0m⠀\u001b[0m⠀\u001b[0m⠀\u001b[0m⠀\u001b[0m⠀\u001b[0m⠀\u001b[0m⠀\u001b[0m⠀\u001b[0m⠀\u001b[0m⠀\u001b[0m⠀\u001b[0m⠀\u001b[0m⠀\u001b[0m⠀\u001b[0m⠀\u001b[90m│\u001b[39m \n",
       "     \u001b[90m │\u001b[39m\u001b[0m⠀\u001b[0m⠀\u001b[0m⠀\u001b[0m⠀\u001b[0m⠀\u001b[0m⠀\u001b[0m⠀\u001b[0m⠀\u001b[0m⠀\u001b[0m⠀\u001b[0m⠀\u001b[0m⠀\u001b[0m⠀\u001b[0m⠀\u001b[0m⠀\u001b[0m⠀\u001b[0m⠀\u001b[0m⠀\u001b[0m⠀\u001b[0m⠀\u001b[0m⠀\u001b[0m⠀\u001b[0m⠀\u001b[0m⠀\u001b[0m⠀\u001b[0m⠀\u001b[0m⠀\u001b[0m⠀\u001b[0m⠀\u001b[0m⠀\u001b[0m⠀\u001b[0m⠀\u001b[0m⠀\u001b[0m⠀\u001b[0m⠀\u001b[0m⠀\u001b[0m⠀\u001b[0m⠀\u001b[0m⠀\u001b[0m⠀\u001b[0m⠀\u001b[0m⠀\u001b[0m⠀\u001b[0m⠀\u001b[0m⠀\u001b[0m⠀\u001b[0m⠀\u001b[0m⠀\u001b[0m⠀\u001b[0m⠀\u001b[0m⠀\u001b[0m⠀\u001b[0m⠀\u001b[0m⠀\u001b[0m⠀\u001b[0m⠀\u001b[0m⠀\u001b[0m⠀\u001b[0m⠀\u001b[0m⠀\u001b[0m⠀\u001b[0m⠀\u001b[0m⠀\u001b[0m⠀\u001b[0m⠀\u001b[0m⠀\u001b[0m⠀\u001b[0m⠀\u001b[0m⠀\u001b[0m⠀\u001b[0m⠀\u001b[0m⠀\u001b[0m⠀\u001b[0m⠀\u001b[0m⠀\u001b[0m⠀\u001b[0m⠀\u001b[0m⠀\u001b[0m⠀\u001b[0m⠀\u001b[90m│\u001b[39m \n",
       "     \u001b[90m │\u001b[39m\u001b[0m⠀\u001b[0m⠀\u001b[0m⠀\u001b[0m⠀\u001b[0m⠀\u001b[0m⠀\u001b[0m⠀\u001b[0m⠀\u001b[0m⠀\u001b[0m⠀\u001b[0m⠀\u001b[0m⠀\u001b[0m⠀\u001b[0m⠀\u001b[0m⠀\u001b[0m⠀\u001b[0m⠀\u001b[0m⠀\u001b[0m⠀\u001b[0m⠀\u001b[31m⡏\u001b[39m\u001b[31m⠉\u001b[39m\u001b[31m⠉\u001b[39m\u001b[31m⠉\u001b[39m\u001b[31m⠉\u001b[39m\u001b[37m⡏\u001b[39m\u001b[36m⠉\u001b[39m\u001b[36m⠉\u001b[39m\u001b[36m⠉\u001b[39m\u001b[36m⠉\u001b[39m\u001b[37m⡏\u001b[39m\u001b[35m⠉\u001b[39m\u001b[35m⠉\u001b[39m\u001b[35m⠉\u001b[39m\u001b[35m⠉\u001b[39m\u001b[35m⡏\u001b[39m\u001b[31m⠉\u001b[39m\u001b[31m⠉\u001b[39m\u001b[31m⠉\u001b[39m\u001b[31m⠉\u001b[39m\u001b[31m⡏\u001b[39m\u001b[31m⠉\u001b[39m\u001b[31m⠉\u001b[39m\u001b[31m⠉\u001b[39m\u001b[31m⠉\u001b[39m\u001b[37m⡏\u001b[39m\u001b[36m⠉\u001b[39m\u001b[36m⠉\u001b[39m\u001b[36m⠉\u001b[39m\u001b[36m⠉\u001b[39m\u001b[36m⡏\u001b[39m\u001b[36m⠉\u001b[39m\u001b[36m⠉\u001b[39m\u001b[36m⠉\u001b[39m\u001b[36m⠉\u001b[39m\u001b[37m⡏\u001b[39m\u001b[33m⠉\u001b[39m\u001b[33m⠉\u001b[39m\u001b[33m⠉\u001b[39m\u001b[33m⠉\u001b[39m\u001b[33m⡇\u001b[39m\u001b[0m⠀\u001b[0m⠀\u001b[0m⠀\u001b[0m⠀\u001b[0m⠀\u001b[0m⠀\u001b[0m⠀\u001b[0m⠀\u001b[0m⠀\u001b[0m⠀\u001b[0m⠀\u001b[0m⠀\u001b[0m⠀\u001b[0m⠀\u001b[0m⠀\u001b[0m⠀\u001b[0m⠀\u001b[0m⠀\u001b[0m⠀\u001b[90m│\u001b[39m \n",
       "     \u001b[90m │\u001b[39m\u001b[0m⠀\u001b[0m⠀\u001b[0m⠀\u001b[0m⠀\u001b[0m⠀\u001b[0m⠀\u001b[0m⠀\u001b[0m⠀\u001b[0m⠀\u001b[0m⠀\u001b[0m⠀\u001b[0m⠀\u001b[0m⠀\u001b[0m⠀\u001b[0m⠀\u001b[0m⠀\u001b[0m⠀\u001b[0m⠀\u001b[0m⠀\u001b[0m⠀\u001b[31m⡇\u001b[39m\u001b[0m⠀\u001b[0m⠀\u001b[0m⠀\u001b[0m⠀\u001b[37m⡇\u001b[39m\u001b[0m⠀\u001b[0m⠀\u001b[0m⠀\u001b[0m⠀\u001b[37m⡇\u001b[39m\u001b[0m⠀\u001b[0m⠀\u001b[0m⠀\u001b[0m⠀\u001b[35m⡇\u001b[39m\u001b[0m⠀\u001b[0m⠀\u001b[0m⠀\u001b[0m⠀\u001b[31m⡇\u001b[39m\u001b[0m⠀\u001b[0m⠀\u001b[0m⠀\u001b[0m⠀\u001b[37m⡇\u001b[39m\u001b[0m⠀\u001b[0m⠀\u001b[0m⠀\u001b[0m⠀\u001b[36m⡇\u001b[39m\u001b[0m⠀\u001b[0m⠀\u001b[0m⠀\u001b[0m⠀\u001b[37m⡇\u001b[39m\u001b[0m⠀\u001b[0m⠀\u001b[0m⠀\u001b[0m⠀\u001b[33m⡇\u001b[39m\u001b[0m⠀\u001b[0m⠀\u001b[0m⠀\u001b[0m⠀\u001b[0m⠀\u001b[0m⠀\u001b[0m⠀\u001b[0m⠀\u001b[0m⠀\u001b[0m⠀\u001b[0m⠀\u001b[0m⠀\u001b[0m⠀\u001b[0m⠀\u001b[0m⠀\u001b[0m⠀\u001b[0m⠀\u001b[0m⠀\u001b[0m⠀\u001b[90m│\u001b[39m \n",
       "     \u001b[90m │\u001b[39m\u001b[0m⠀\u001b[0m⠀\u001b[0m⠀\u001b[0m⠀\u001b[0m⠀\u001b[0m⠀\u001b[0m⠀\u001b[0m⠀\u001b[0m⠀\u001b[0m⠀\u001b[0m⠀\u001b[0m⠀\u001b[0m⠀\u001b[0m⠀\u001b[0m⠀\u001b[0m⠀\u001b[0m⠀\u001b[0m⠀\u001b[0m⠀\u001b[0m⠀\u001b[35m⡧\u001b[39m\u001b[35m⠤\u001b[39m\u001b[35m⠤\u001b[39m\u001b[35m⠤\u001b[39m\u001b[35m⠤\u001b[39m\u001b[37m⡧\u001b[39m\u001b[37m⠤\u001b[39m\u001b[37m⠤\u001b[39m\u001b[37m⠤\u001b[39m\u001b[37m⠤\u001b[39m\u001b[37m⡧\u001b[39m\u001b[37m⠤\u001b[39m\u001b[37m⠤\u001b[39m\u001b[37m⠤\u001b[39m\u001b[37m⠤\u001b[39m\u001b[37m⡧\u001b[39m\u001b[37m⠤\u001b[39m\u001b[37m⠤\u001b[39m\u001b[37m⠤\u001b[39m\u001b[37m⠤\u001b[39m\u001b[37m⡧\u001b[39m\u001b[35m⠤\u001b[39m\u001b[35m⠤\u001b[39m\u001b[35m⠤\u001b[39m\u001b[35m⠤\u001b[39m\u001b[37m⡧\u001b[39m\u001b[37m⠤\u001b[39m\u001b[37m⠤\u001b[39m\u001b[37m⠤\u001b[39m\u001b[37m⠤\u001b[39m\u001b[37m⡧\u001b[39m\u001b[36m⠤\u001b[39m\u001b[36m⠤\u001b[39m\u001b[36m⠤\u001b[39m\u001b[36m⠤\u001b[39m\u001b[37m⡧\u001b[39m\u001b[37m⠤\u001b[39m\u001b[37m⠤\u001b[39m\u001b[37m⠤\u001b[39m\u001b[37m⠤\u001b[39m\u001b[37m⡇\u001b[39m\u001b[0m⠀\u001b[0m⠀\u001b[0m⠀\u001b[0m⠀\u001b[0m⠀\u001b[0m⠀\u001b[0m⠀\u001b[0m⠀\u001b[0m⠀\u001b[0m⠀\u001b[0m⠀\u001b[0m⠀\u001b[0m⠀\u001b[0m⠀\u001b[0m⠀\u001b[0m⠀\u001b[0m⠀\u001b[0m⠀\u001b[0m⠀\u001b[90m│\u001b[39m \n",
       "     \u001b[90m │\u001b[39m\u001b[0m⠀\u001b[0m⠀\u001b[0m⠀\u001b[0m⠀\u001b[0m⠀\u001b[0m⠀\u001b[0m⠀\u001b[0m⠀\u001b[0m⠀\u001b[0m⠀\u001b[0m⠀\u001b[0m⠀\u001b[0m⠀\u001b[0m⠀\u001b[0m⠀\u001b[0m⠀\u001b[0m⠀\u001b[0m⠀\u001b[0m⠀\u001b[0m⠀\u001b[35m⡇\u001b[39m\u001b[0m⠀\u001b[0m⠀\u001b[0m⠀\u001b[0m⠀\u001b[37m⡇\u001b[39m\u001b[0m⠀\u001b[0m⠀\u001b[0m⠀\u001b[0m⠀\u001b[33m⡇\u001b[39m\u001b[0m⠀\u001b[0m⠀\u001b[0m⠀\u001b[0m⠀\u001b[37m⡇\u001b[39m\u001b[0m⠀\u001b[0m⠀\u001b[0m⠀\u001b[0m⠀\u001b[37m⡇\u001b[39m\u001b[0m⠀\u001b[0m⠀\u001b[0m⠀\u001b[0m⠀\u001b[37m⡇\u001b[39m\u001b[0m⠀\u001b[0m⠀\u001b[0m⠀\u001b[0m⠀\u001b[33m⡇\u001b[39m\u001b[0m⠀\u001b[0m⠀\u001b[0m⠀\u001b[0m⠀\u001b[36m⡇\u001b[39m\u001b[0m⠀\u001b[0m⠀\u001b[0m⠀\u001b[0m⠀\u001b[34m⡇\u001b[39m\u001b[0m⠀\u001b[0m⠀\u001b[0m⠀\u001b[0m⠀\u001b[0m⠀\u001b[0m⠀\u001b[0m⠀\u001b[0m⠀\u001b[0m⠀\u001b[0m⠀\u001b[0m⠀\u001b[0m⠀\u001b[0m⠀\u001b[0m⠀\u001b[0m⠀\u001b[0m⠀\u001b[0m⠀\u001b[0m⠀\u001b[0m⠀\u001b[90m│\u001b[39m \n",
       "     \u001b[90m │\u001b[39m\u001b[0m⠀\u001b[0m⠀\u001b[0m⠀\u001b[0m⠀\u001b[0m⠀\u001b[0m⠀\u001b[0m⠀\u001b[0m⠀\u001b[0m⠀\u001b[0m⠀\u001b[0m⠀\u001b[0m⠀\u001b[0m⠀\u001b[0m⠀\u001b[0m⠀\u001b[0m⠀\u001b[0m⠀\u001b[0m⠀\u001b[0m⠀\u001b[0m⠀\u001b[35m⡇\u001b[39m\u001b[0m⠀\u001b[0m⠀\u001b[0m⠀\u001b[0m⠀\u001b[37m⡇\u001b[39m\u001b[0m⠀\u001b[0m⠀\u001b[0m⠀\u001b[0m⠀\u001b[33m⡇\u001b[39m\u001b[0m⠀\u001b[0m⠀\u001b[0m⠀\u001b[0m⠀\u001b[37m⡇\u001b[39m\u001b[0m⠀\u001b[0m⠀\u001b[0m⠀\u001b[0m⠀\u001b[37m⡇\u001b[39m\u001b[0m⠀\u001b[0m⠀\u001b[0m⠀\u001b[0m⠀\u001b[37m⡇\u001b[39m\u001b[0m⠀\u001b[0m⠀\u001b[0m⠀\u001b[0m⠀\u001b[33m⡇\u001b[39m\u001b[0m⠀\u001b[0m⠀\u001b[0m⠀\u001b[0m⠀\u001b[36m⡇\u001b[39m\u001b[0m⠀\u001b[0m⠀\u001b[0m⠀\u001b[0m⠀\u001b[34m⡇\u001b[39m\u001b[0m⠀\u001b[0m⠀\u001b[0m⠀\u001b[0m⠀\u001b[0m⠀\u001b[0m⠀\u001b[0m⠀\u001b[0m⠀\u001b[0m⠀\u001b[0m⠀\u001b[0m⠀\u001b[0m⠀\u001b[0m⠀\u001b[0m⠀\u001b[0m⠀\u001b[0m⠀\u001b[0m⠀\u001b[0m⠀\u001b[0m⠀\u001b[90m│\u001b[39m \n",
       "     \u001b[90m │\u001b[39m\u001b[0m⠀\u001b[0m⠀\u001b[0m⠀\u001b[0m⠀\u001b[0m⠀\u001b[0m⠀\u001b[0m⠀\u001b[0m⠀\u001b[0m⠀\u001b[0m⠀\u001b[0m⠀\u001b[0m⠀\u001b[0m⠀\u001b[0m⠀\u001b[0m⠀\u001b[0m⠀\u001b[0m⠀\u001b[0m⠀\u001b[0m⠀\u001b[0m⠀\u001b[35m⡏\u001b[39m\u001b[35m⠉\u001b[39m\u001b[35m⠉\u001b[39m\u001b[35m⠉\u001b[39m\u001b[35m⠉\u001b[39m\u001b[37m⡏\u001b[39m\u001b[33m⠉\u001b[39m\u001b[33m⠉\u001b[39m\u001b[33m⠉\u001b[39m\u001b[33m⠉\u001b[39m\u001b[33m⡏\u001b[39m\u001b[33m⠉\u001b[39m\u001b[33m⠉\u001b[39m\u001b[33m⠉\u001b[39m\u001b[33m⠉\u001b[39m\u001b[37m⡏\u001b[39m\u001b[36m⠉\u001b[39m\u001b[36m⠉\u001b[39m\u001b[36m⠉\u001b[39m\u001b[36m⠉\u001b[39m\u001b[37m⡏\u001b[39m\u001b[35m⠉\u001b[39m\u001b[35m⠉\u001b[39m\u001b[35m⠉\u001b[39m\u001b[35m⠉\u001b[39m\u001b[37m⡏\u001b[39m\u001b[33m⠉\u001b[39m\u001b[33m⠉\u001b[39m\u001b[33m⠉\u001b[39m\u001b[33m⠉\u001b[39m\u001b[33m⡏\u001b[39m\u001b[32m⠉\u001b[39m\u001b[32m⠉\u001b[39m\u001b[32m⠉\u001b[39m\u001b[32m⠉\u001b[39m\u001b[36m⡏\u001b[39m\u001b[36m⠉\u001b[39m\u001b[36m⠉\u001b[39m\u001b[36m⠉\u001b[39m\u001b[36m⠉\u001b[39m\u001b[36m⡇\u001b[39m\u001b[0m⠀\u001b[0m⠀\u001b[0m⠀\u001b[0m⠀\u001b[0m⠀\u001b[0m⠀\u001b[0m⠀\u001b[0m⠀\u001b[0m⠀\u001b[0m⠀\u001b[0m⠀\u001b[0m⠀\u001b[0m⠀\u001b[0m⠀\u001b[0m⠀\u001b[0m⠀\u001b[0m⠀\u001b[0m⠀\u001b[0m⠀\u001b[90m│\u001b[39m \n",
       "     \u001b[90m │\u001b[39m\u001b[0m⠀\u001b[0m⠀\u001b[0m⠀\u001b[0m⠀\u001b[0m⠀\u001b[0m⠀\u001b[0m⠀\u001b[0m⠀\u001b[0m⠀\u001b[0m⠀\u001b[0m⠀\u001b[0m⠀\u001b[0m⠀\u001b[0m⠀\u001b[0m⠀\u001b[0m⠀\u001b[0m⠀\u001b[0m⠀\u001b[0m⠀\u001b[0m⠀\u001b[35m⡇\u001b[39m\u001b[0m⠀\u001b[0m⠀\u001b[0m⠀\u001b[0m⠀\u001b[35m⡇\u001b[39m\u001b[0m⠀\u001b[0m⠀\u001b[0m⠀\u001b[0m⠀\u001b[33m⡇\u001b[39m\u001b[0m⠀\u001b[0m⠀\u001b[0m⠀\u001b[0m⠀\u001b[36m⡇\u001b[39m\u001b[0m⠀\u001b[0m⠀\u001b[0m⠀\u001b[0m⠀\u001b[37m⡇\u001b[39m\u001b[0m⠀\u001b[0m⠀\u001b[0m⠀\u001b[0m⠀\u001b[35m⡇\u001b[39m\u001b[0m⠀\u001b[0m⠀\u001b[0m⠀\u001b[0m⠀\u001b[33m⡇\u001b[39m\u001b[0m⠀\u001b[0m⠀\u001b[0m⠀\u001b[0m⠀\u001b[36m⡇\u001b[39m\u001b[0m⠀\u001b[0m⠀\u001b[0m⠀\u001b[0m⠀\u001b[36m⡇\u001b[39m\u001b[0m⠀\u001b[0m⠀\u001b[0m⠀\u001b[0m⠀\u001b[0m⠀\u001b[0m⠀\u001b[0m⠀\u001b[0m⠀\u001b[0m⠀\u001b[0m⠀\u001b[0m⠀\u001b[0m⠀\u001b[0m⠀\u001b[0m⠀\u001b[0m⠀\u001b[0m⠀\u001b[0m⠀\u001b[0m⠀\u001b[0m⠀\u001b[90m│\u001b[39m \n",
       "     \u001b[90m │\u001b[39m\u001b[0m⠀\u001b[0m⠀\u001b[0m⠀\u001b[0m⠀\u001b[0m⠀\u001b[0m⠀\u001b[0m⠀\u001b[0m⠀\u001b[0m⠀\u001b[0m⠀\u001b[0m⠀\u001b[0m⠀\u001b[0m⠀\u001b[0m⠀\u001b[0m⠀\u001b[0m⠀\u001b[0m⠀\u001b[0m⠀\u001b[0m⠀\u001b[0m⠀\u001b[37m⡧\u001b[39m\u001b[37m⠤\u001b[39m\u001b[37m⠤\u001b[39m\u001b[37m⠤\u001b[39m\u001b[37m⠤\u001b[39m\u001b[37m⡧\u001b[39m\u001b[35m⠤\u001b[39m\u001b[35m⠤\u001b[39m\u001b[35m⠤\u001b[39m\u001b[35m⠤\u001b[39m\u001b[37m⡧\u001b[39m\u001b[36m⠤\u001b[39m\u001b[36m⠤\u001b[39m\u001b[36m⠤\u001b[39m\u001b[36m⠤\u001b[39m\u001b[37m⡧\u001b[39m\u001b[37m⠤\u001b[39m\u001b[37m⠤\u001b[39m\u001b[37m⠤\u001b[39m\u001b[37m⠤\u001b[39m\u001b[37m⡧\u001b[39m\u001b[37m⠤\u001b[39m\u001b[37m⠤\u001b[39m\u001b[37m⠤\u001b[39m\u001b[37m⠤\u001b[39m\u001b[37m⡧\u001b[39m\u001b[35m⠤\u001b[39m\u001b[35m⠤\u001b[39m\u001b[35m⠤\u001b[39m\u001b[35m⠤\u001b[39m\u001b[37m⡧\u001b[39m\u001b[36m⠤\u001b[39m\u001b[36m⠤\u001b[39m\u001b[36m⠤\u001b[39m\u001b[36m⠤\u001b[39m\u001b[37m⡧\u001b[39m\u001b[37m⠤\u001b[39m\u001b[37m⠤\u001b[39m\u001b[37m⠤\u001b[39m\u001b[37m⠤\u001b[39m\u001b[37m⡇\u001b[39m\u001b[0m⠀\u001b[0m⠀\u001b[0m⠀\u001b[0m⠀\u001b[0m⠀\u001b[0m⠀\u001b[0m⠀\u001b[0m⠀\u001b[0m⠀\u001b[0m⠀\u001b[0m⠀\u001b[0m⠀\u001b[0m⠀\u001b[0m⠀\u001b[0m⠀\u001b[0m⠀\u001b[0m⠀\u001b[0m⠀\u001b[0m⠀\u001b[90m│\u001b[39m \n",
       "     \u001b[90m │\u001b[39m\u001b[0m⠀\u001b[0m⠀\u001b[0m⠀\u001b[0m⠀\u001b[0m⠀\u001b[0m⠀\u001b[0m⠀\u001b[0m⠀\u001b[0m⠀\u001b[0m⠀\u001b[0m⠀\u001b[0m⠀\u001b[0m⠀\u001b[0m⠀\u001b[0m⠀\u001b[0m⠀\u001b[0m⠀\u001b[0m⠀\u001b[0m⠀\u001b[0m⠀\u001b[32m⡇\u001b[39m\u001b[0m⠀\u001b[0m⠀\u001b[0m⠀\u001b[0m⠀\u001b[36m⡇\u001b[39m\u001b[0m⠀\u001b[0m⠀\u001b[0m⠀\u001b[0m⠀\u001b[34m⡇\u001b[39m\u001b[0m⠀\u001b[0m⠀\u001b[0m⠀\u001b[0m⠀\u001b[37m⡇\u001b[39m\u001b[0m⠀\u001b[0m⠀\u001b[0m⠀\u001b[0m⠀\u001b[33m⡇\u001b[39m\u001b[0m⠀\u001b[0m⠀\u001b[0m⠀\u001b[0m⠀\u001b[36m⡇\u001b[39m\u001b[0m⠀\u001b[0m⠀\u001b[0m⠀\u001b[0m⠀\u001b[34m⡇\u001b[39m\u001b[0m⠀\u001b[0m⠀\u001b[0m⠀\u001b[0m⠀\u001b[37m⡇\u001b[39m\u001b[0m⠀\u001b[0m⠀\u001b[0m⠀\u001b[0m⠀\u001b[33m⡇\u001b[39m\u001b[0m⠀\u001b[0m⠀\u001b[0m⠀\u001b[0m⠀\u001b[0m⠀\u001b[0m⠀\u001b[0m⠀\u001b[0m⠀\u001b[0m⠀\u001b[0m⠀\u001b[0m⠀\u001b[0m⠀\u001b[0m⠀\u001b[0m⠀\u001b[0m⠀\u001b[0m⠀\u001b[0m⠀\u001b[0m⠀\u001b[0m⠀\u001b[90m│\u001b[39m \n",
       "     \u001b[90m │\u001b[39m\u001b[0m⠀\u001b[0m⠀\u001b[0m⠀\u001b[0m⠀\u001b[0m⠀\u001b[0m⠀\u001b[0m⠀\u001b[0m⠀\u001b[0m⠀\u001b[0m⠀\u001b[0m⠀\u001b[0m⠀\u001b[0m⠀\u001b[0m⠀\u001b[0m⠀\u001b[0m⠀\u001b[0m⠀\u001b[0m⠀\u001b[0m⠀\u001b[0m⠀\u001b[32m⡇\u001b[39m\u001b[0m⠀\u001b[0m⠀\u001b[0m⠀\u001b[0m⠀\u001b[36m⡇\u001b[39m\u001b[0m⠀\u001b[0m⠀\u001b[0m⠀\u001b[0m⠀\u001b[34m⡇\u001b[39m\u001b[0m⠀\u001b[0m⠀\u001b[0m⠀\u001b[0m⠀\u001b[37m⡇\u001b[39m\u001b[0m⠀\u001b[0m⠀\u001b[0m⠀\u001b[0m⠀\u001b[33m⡇\u001b[39m\u001b[0m⠀\u001b[0m⠀\u001b[0m⠀\u001b[0m⠀\u001b[36m⡇\u001b[39m\u001b[0m⠀\u001b[0m⠀\u001b[0m⠀\u001b[0m⠀\u001b[34m⡇\u001b[39m\u001b[0m⠀\u001b[0m⠀\u001b[0m⠀\u001b[0m⠀\u001b[37m⡇\u001b[39m\u001b[0m⠀\u001b[0m⠀\u001b[0m⠀\u001b[0m⠀\u001b[33m⡇\u001b[39m\u001b[0m⠀\u001b[0m⠀\u001b[0m⠀\u001b[0m⠀\u001b[0m⠀\u001b[0m⠀\u001b[0m⠀\u001b[0m⠀\u001b[0m⠀\u001b[0m⠀\u001b[0m⠀\u001b[0m⠀\u001b[0m⠀\u001b[0m⠀\u001b[0m⠀\u001b[0m⠀\u001b[0m⠀\u001b[0m⠀\u001b[0m⠀\u001b[90m│\u001b[39m \n",
       "     \u001b[90m │\u001b[39m\u001b[0m⠀\u001b[0m⠀\u001b[0m⠀\u001b[0m⠀\u001b[0m⠀\u001b[0m⠀\u001b[0m⠀\u001b[0m⠀\u001b[0m⠀\u001b[0m⠀\u001b[0m⠀\u001b[0m⠀\u001b[0m⠀\u001b[0m⠀\u001b[0m⠀\u001b[0m⠀\u001b[0m⠀\u001b[0m⠀\u001b[0m⠀\u001b[0m⠀\u001b[32m⡏\u001b[39m\u001b[32m⠉\u001b[39m\u001b[32m⠉\u001b[39m\u001b[32m⠉\u001b[39m\u001b[32m⠉\u001b[39m\u001b[37m⡏\u001b[39m\u001b[35m⠉\u001b[39m\u001b[35m⠉\u001b[39m\u001b[35m⠉\u001b[39m\u001b[35m⠉\u001b[39m\u001b[35m⡏\u001b[39m\u001b[35m⠉\u001b[39m\u001b[35m⠉\u001b[39m\u001b[35m⠉\u001b[39m\u001b[35m⠉\u001b[39m\u001b[37m⡏\u001b[39m\u001b[33m⠉\u001b[39m\u001b[33m⠉\u001b[39m\u001b[33m⠉\u001b[39m\u001b[33m⠉\u001b[39m\u001b[37m⡏\u001b[39m\u001b[36m⠉\u001b[39m\u001b[36m⠉\u001b[39m\u001b[36m⠉\u001b[39m\u001b[36m⠉\u001b[39m\u001b[37m⡏\u001b[39m\u001b[35m⠉\u001b[39m\u001b[35m⠉\u001b[39m\u001b[35m⠉\u001b[39m\u001b[35m⠉\u001b[39m\u001b[35m⡏\u001b[39m\u001b[35m⠉\u001b[39m\u001b[35m⠉\u001b[39m\u001b[35m⠉\u001b[39m\u001b[35m⠉\u001b[39m\u001b[37m⡏\u001b[39m\u001b[37m⠉\u001b[39m\u001b[37m⠉\u001b[39m\u001b[37m⠉\u001b[39m\u001b[37m⠉\u001b[39m\u001b[37m⡇\u001b[39m\u001b[0m⠀\u001b[0m⠀\u001b[0m⠀\u001b[0m⠀\u001b[0m⠀\u001b[0m⠀\u001b[0m⠀\u001b[0m⠀\u001b[0m⠀\u001b[0m⠀\u001b[0m⠀\u001b[0m⠀\u001b[0m⠀\u001b[0m⠀\u001b[0m⠀\u001b[0m⠀\u001b[0m⠀\u001b[0m⠀\u001b[0m⠀\u001b[90m│\u001b[39m \n",
       "     \u001b[90m │\u001b[39m\u001b[0m⠀\u001b[0m⠀\u001b[0m⠀\u001b[0m⠀\u001b[0m⠀\u001b[0m⠀\u001b[0m⠀\u001b[0m⠀\u001b[0m⠀\u001b[0m⠀\u001b[0m⠀\u001b[0m⠀\u001b[0m⠀\u001b[0m⠀\u001b[0m⠀\u001b[0m⠀\u001b[0m⠀\u001b[0m⠀\u001b[0m⠀\u001b[0m⠀\u001b[32m⡇\u001b[39m\u001b[0m⠀\u001b[0m⠀\u001b[0m⠀\u001b[0m⠀\u001b[37m⡇\u001b[39m\u001b[0m⠀\u001b[0m⠀\u001b[0m⠀\u001b[0m⠀\u001b[35m⡇\u001b[39m\u001b[0m⠀\u001b[0m⠀\u001b[0m⠀\u001b[0m⠀\u001b[35m⡇\u001b[39m\u001b[0m⠀\u001b[0m⠀\u001b[0m⠀\u001b[0m⠀\u001b[37m⡇\u001b[39m\u001b[0m⠀\u001b[0m⠀\u001b[0m⠀\u001b[0m⠀\u001b[37m⡇\u001b[39m\u001b[0m⠀\u001b[0m⠀\u001b[0m⠀\u001b[0m⠀\u001b[31m⡇\u001b[39m\u001b[0m⠀\u001b[0m⠀\u001b[0m⠀\u001b[0m⠀\u001b[35m⡇\u001b[39m\u001b[0m⠀\u001b[0m⠀\u001b[0m⠀\u001b[0m⠀\u001b[35m⡇\u001b[39m\u001b[0m⠀\u001b[0m⠀\u001b[0m⠀\u001b[0m⠀\u001b[0m⠀\u001b[0m⠀\u001b[0m⠀\u001b[0m⠀\u001b[0m⠀\u001b[0m⠀\u001b[0m⠀\u001b[0m⠀\u001b[0m⠀\u001b[0m⠀\u001b[0m⠀\u001b[0m⠀\u001b[0m⠀\u001b[0m⠀\u001b[0m⠀\u001b[90m│\u001b[39m \n",
       "     \u001b[90m │\u001b[39m\u001b[0m⠀\u001b[0m⠀\u001b[0m⠀\u001b[0m⠀\u001b[0m⠀\u001b[0m⠀\u001b[0m⠀\u001b[0m⠀\u001b[0m⠀\u001b[0m⠀\u001b[0m⠀\u001b[0m⠀\u001b[0m⠀\u001b[0m⠀\u001b[0m⠀\u001b[0m⠀\u001b[0m⠀\u001b[0m⠀\u001b[0m⠀\u001b[0m⠀\u001b[36m⡧\u001b[39m\u001b[36m⠤\u001b[39m\u001b[36m⠤\u001b[39m\u001b[36m⠤\u001b[39m\u001b[36m⠤\u001b[39m\u001b[37m⡧\u001b[39m\u001b[35m⠤\u001b[39m\u001b[35m⠤\u001b[39m\u001b[35m⠤\u001b[39m\u001b[35m⠤\u001b[39m\u001b[37m⡧\u001b[39m\u001b[37m⠤\u001b[39m\u001b[37m⠤\u001b[39m\u001b[37m⠤\u001b[39m\u001b[37m⠤\u001b[39m\u001b[37m⡧\u001b[39m\u001b[37m⠤\u001b[39m\u001b[37m⠤\u001b[39m\u001b[37m⠤\u001b[39m\u001b[37m⠤\u001b[39m\u001b[37m⡧\u001b[39m\u001b[37m⠤\u001b[39m\u001b[37m⠤\u001b[39m\u001b[37m⠤\u001b[39m\u001b[37m⠤\u001b[39m\u001b[37m⡧\u001b[39m\u001b[35m⠤\u001b[39m\u001b[35m⠤\u001b[39m\u001b[35m⠤\u001b[39m\u001b[35m⠤\u001b[39m\u001b[35m⡧\u001b[39m\u001b[35m⠤\u001b[39m\u001b[35m⠤\u001b[39m\u001b[35m⠤\u001b[39m\u001b[35m⠤\u001b[39m\u001b[37m⡧\u001b[39m\u001b[37m⠤\u001b[39m\u001b[37m⠤\u001b[39m\u001b[37m⠤\u001b[39m\u001b[37m⠤\u001b[39m\u001b[37m⡇\u001b[39m\u001b[0m⠀\u001b[0m⠀\u001b[0m⠀\u001b[0m⠀\u001b[0m⠀\u001b[0m⠀\u001b[0m⠀\u001b[0m⠀\u001b[0m⠀\u001b[0m⠀\u001b[0m⠀\u001b[0m⠀\u001b[0m⠀\u001b[0m⠀\u001b[0m⠀\u001b[0m⠀\u001b[0m⠀\u001b[0m⠀\u001b[0m⠀\u001b[90m│\u001b[39m \n",
       "     \u001b[90m │\u001b[39m\u001b[0m⠀\u001b[0m⠀\u001b[0m⠀\u001b[0m⠀\u001b[0m⠀\u001b[0m⠀\u001b[0m⠀\u001b[0m⠀\u001b[0m⠀\u001b[0m⠀\u001b[0m⠀\u001b[0m⠀\u001b[0m⠀\u001b[0m⠀\u001b[0m⠀\u001b[0m⠀\u001b[0m⠀\u001b[0m⠀\u001b[0m⠀\u001b[0m⠀\u001b[34m⡇\u001b[39m\u001b[0m⠀\u001b[0m⠀\u001b[0m⠀\u001b[0m⠀\u001b[35m⡇\u001b[39m\u001b[0m⠀\u001b[0m⠀\u001b[0m⠀\u001b[0m⠀\u001b[33m⡇\u001b[39m\u001b[0m⠀\u001b[0m⠀\u001b[0m⠀\u001b[0m⠀\u001b[37m⡇\u001b[39m\u001b[0m⠀\u001b[0m⠀\u001b[0m⠀\u001b[0m⠀\u001b[37m⡇\u001b[39m\u001b[0m⠀\u001b[0m⠀\u001b[0m⠀\u001b[0m⠀\u001b[37m⡇\u001b[39m\u001b[0m⠀\u001b[0m⠀\u001b[0m⠀\u001b[0m⠀\u001b[35m⡇\u001b[39m\u001b[0m⠀\u001b[0m⠀\u001b[0m⠀\u001b[0m⠀\u001b[36m⡇\u001b[39m\u001b[0m⠀\u001b[0m⠀\u001b[0m⠀\u001b[0m⠀\u001b[32m⡇\u001b[39m\u001b[0m⠀\u001b[0m⠀\u001b[0m⠀\u001b[0m⠀\u001b[0m⠀\u001b[0m⠀\u001b[0m⠀\u001b[0m⠀\u001b[0m⠀\u001b[0m⠀\u001b[0m⠀\u001b[0m⠀\u001b[0m⠀\u001b[0m⠀\u001b[0m⠀\u001b[0m⠀\u001b[0m⠀\u001b[0m⠀\u001b[0m⠀\u001b[90m│\u001b[39m \n",
       "     \u001b[90m │\u001b[39m\u001b[0m⠀\u001b[0m⠀\u001b[0m⠀\u001b[0m⠀\u001b[0m⠀\u001b[0m⠀\u001b[0m⠀\u001b[0m⠀\u001b[0m⠀\u001b[0m⠀\u001b[0m⠀\u001b[0m⠀\u001b[0m⠀\u001b[0m⠀\u001b[0m⠀\u001b[0m⠀\u001b[0m⠀\u001b[0m⠀\u001b[0m⠀\u001b[0m⠀\u001b[34m⡇\u001b[39m\u001b[0m⠀\u001b[0m⠀\u001b[0m⠀\u001b[0m⠀\u001b[35m⡇\u001b[39m\u001b[0m⠀\u001b[0m⠀\u001b[0m⠀\u001b[0m⠀\u001b[33m⡇\u001b[39m\u001b[0m⠀\u001b[0m⠀\u001b[0m⠀\u001b[0m⠀\u001b[37m⡇\u001b[39m\u001b[0m⠀\u001b[0m⠀\u001b[0m⠀\u001b[0m⠀\u001b[37m⡇\u001b[39m\u001b[0m⠀\u001b[0m⠀\u001b[0m⠀\u001b[0m⠀\u001b[37m⡇\u001b[39m\u001b[0m⠀\u001b[0m⠀\u001b[0m⠀\u001b[0m⠀\u001b[35m⡇\u001b[39m\u001b[0m⠀\u001b[0m⠀\u001b[0m⠀\u001b[0m⠀\u001b[36m⡇\u001b[39m\u001b[0m⠀\u001b[0m⠀\u001b[0m⠀\u001b[0m⠀\u001b[32m⡇\u001b[39m\u001b[0m⠀\u001b[0m⠀\u001b[0m⠀\u001b[0m⠀\u001b[0m⠀\u001b[0m⠀\u001b[0m⠀\u001b[0m⠀\u001b[0m⠀\u001b[0m⠀\u001b[0m⠀\u001b[0m⠀\u001b[0m⠀\u001b[0m⠀\u001b[0m⠀\u001b[0m⠀\u001b[0m⠀\u001b[0m⠀\u001b[0m⠀\u001b[90m│\u001b[39m \n",
       "     \u001b[90m │\u001b[39m\u001b[0m⠀\u001b[0m⠀\u001b[0m⠀\u001b[0m⠀\u001b[0m⠀\u001b[0m⠀\u001b[0m⠀\u001b[0m⠀\u001b[0m⠀\u001b[0m⠀\u001b[0m⠀\u001b[0m⠀\u001b[0m⠀\u001b[0m⠀\u001b[0m⠀\u001b[0m⠀\u001b[0m⠀\u001b[0m⠀\u001b[0m⠀\u001b[0m⠀\u001b[35m⡏\u001b[39m\u001b[35m⠉\u001b[39m\u001b[35m⠉\u001b[39m\u001b[35m⠉\u001b[39m\u001b[35m⠉\u001b[39m\u001b[35m⡏\u001b[39m\u001b[31m⠉\u001b[39m\u001b[31m⠉\u001b[39m\u001b[31m⠉\u001b[39m\u001b[31m⠉\u001b[39m\u001b[33m⡏\u001b[39m\u001b[33m⠉\u001b[39m\u001b[33m⠉\u001b[39m\u001b[33m⠉\u001b[39m\u001b[33m⠉\u001b[39m\u001b[37m⡏\u001b[39m\u001b[36m⠉\u001b[39m\u001b[36m⠉\u001b[39m\u001b[36m⠉\u001b[39m\u001b[36m⠉\u001b[39m\u001b[37m⡏\u001b[39m\u001b[33m⠉\u001b[39m\u001b[33m⠉\u001b[39m\u001b[33m⠉\u001b[39m\u001b[33m⠉\u001b[39m\u001b[37m⡏\u001b[39m\u001b[37m⠉\u001b[39m\u001b[37m⠉\u001b[39m\u001b[37m⠉\u001b[39m\u001b[37m⠉\u001b[39m\u001b[37m⡏\u001b[39m\u001b[35m⠉\u001b[39m\u001b[35m⠉\u001b[39m\u001b[35m⠉\u001b[39m\u001b[35m⠉\u001b[39m\u001b[37m⡏\u001b[39m\u001b[33m⠉\u001b[39m\u001b[33m⠉\u001b[39m\u001b[33m⠉\u001b[39m\u001b[33m⠉\u001b[39m\u001b[33m⡇\u001b[39m\u001b[0m⠀\u001b[0m⠀\u001b[0m⠀\u001b[0m⠀\u001b[0m⠀\u001b[0m⠀\u001b[0m⠀\u001b[0m⠀\u001b[0m⠀\u001b[0m⠀\u001b[0m⠀\u001b[0m⠀\u001b[0m⠀\u001b[0m⠀\u001b[0m⠀\u001b[0m⠀\u001b[0m⠀\u001b[0m⠀\u001b[0m⠀\u001b[90m│\u001b[39m \n",
       "     \u001b[90m │\u001b[39m\u001b[0m⠀\u001b[0m⠀\u001b[0m⠀\u001b[0m⠀\u001b[0m⠀\u001b[0m⠀\u001b[0m⠀\u001b[0m⠀\u001b[0m⠀\u001b[0m⠀\u001b[0m⠀\u001b[0m⠀\u001b[0m⠀\u001b[0m⠀\u001b[0m⠀\u001b[0m⠀\u001b[0m⠀\u001b[0m⠀\u001b[0m⠀\u001b[0m⠀\u001b[35m⡇\u001b[39m\u001b[0m⠀\u001b[0m⠀\u001b[0m⠀\u001b[0m⠀\u001b[35m⡇\u001b[39m\u001b[0m⠀\u001b[0m⠀\u001b[0m⠀\u001b[0m⠀\u001b[33m⡇\u001b[39m\u001b[0m⠀\u001b[0m⠀\u001b[0m⠀\u001b[0m⠀\u001b[36m⡇\u001b[39m\u001b[0m⠀\u001b[0m⠀\u001b[0m⠀\u001b[0m⠀\u001b[37m⡇\u001b[39m\u001b[0m⠀\u001b[0m⠀\u001b[0m⠀\u001b[0m⠀\u001b[37m⡇\u001b[39m\u001b[0m⠀\u001b[0m⠀\u001b[0m⠀\u001b[0m⠀\u001b[37m⡇\u001b[39m\u001b[0m⠀\u001b[0m⠀\u001b[0m⠀\u001b[0m⠀\u001b[35m⡇\u001b[39m\u001b[0m⠀\u001b[0m⠀\u001b[0m⠀\u001b[0m⠀\u001b[31m⡇\u001b[39m\u001b[0m⠀\u001b[0m⠀\u001b[0m⠀\u001b[0m⠀\u001b[0m⠀\u001b[0m⠀\u001b[0m⠀\u001b[0m⠀\u001b[0m⠀\u001b[0m⠀\u001b[0m⠀\u001b[0m⠀\u001b[0m⠀\u001b[0m⠀\u001b[0m⠀\u001b[0m⠀\u001b[0m⠀\u001b[0m⠀\u001b[0m⠀\u001b[90m│\u001b[39m \n",
       "     \u001b[90m │\u001b[39m\u001b[0m⠀\u001b[0m⠀\u001b[0m⠀\u001b[0m⠀\u001b[0m⠀\u001b[0m⠀\u001b[0m⠀\u001b[0m⠀\u001b[0m⠀\u001b[0m⠀\u001b[0m⠀\u001b[0m⠀\u001b[0m⠀\u001b[0m⠀\u001b[0m⠀\u001b[0m⠀\u001b[0m⠀\u001b[0m⠀\u001b[0m⠀\u001b[0m⠀\u001b[37m⡧\u001b[39m\u001b[37m⠤\u001b[39m\u001b[37m⠤\u001b[39m\u001b[37m⠤\u001b[39m\u001b[37m⠤\u001b[39m\u001b[37m⡧\u001b[39m\u001b[35m⠤\u001b[39m\u001b[35m⠤\u001b[39m\u001b[35m⠤\u001b[39m\u001b[35m⠤\u001b[39m\u001b[37m⡧\u001b[39m\u001b[36m⠤\u001b[39m\u001b[36m⠤\u001b[39m\u001b[36m⠤\u001b[39m\u001b[36m⠤\u001b[39m\u001b[37m⡧\u001b[39m\u001b[37m⠤\u001b[39m\u001b[37m⠤\u001b[39m\u001b[37m⠤\u001b[39m\u001b[37m⠤\u001b[39m\u001b[37m⡧\u001b[39m\u001b[37m⠤\u001b[39m\u001b[37m⠤\u001b[39m\u001b[37m⠤\u001b[39m\u001b[37m⠤\u001b[39m\u001b[37m⡧\u001b[39m\u001b[36m⠤\u001b[39m\u001b[36m⠤\u001b[39m\u001b[36m⠤\u001b[39m\u001b[36m⠤\u001b[39m\u001b[37m⡧\u001b[39m\u001b[37m⠤\u001b[39m\u001b[37m⠤\u001b[39m\u001b[37m⠤\u001b[39m\u001b[37m⠤\u001b[39m\u001b[37m⡧\u001b[39m\u001b[35m⠤\u001b[39m\u001b[35m⠤\u001b[39m\u001b[35m⠤\u001b[39m\u001b[35m⠤\u001b[39m\u001b[35m⡇\u001b[39m\u001b[0m⠀\u001b[0m⠀\u001b[0m⠀\u001b[0m⠀\u001b[0m⠀\u001b[0m⠀\u001b[0m⠀\u001b[0m⠀\u001b[0m⠀\u001b[0m⠀\u001b[0m⠀\u001b[0m⠀\u001b[0m⠀\u001b[0m⠀\u001b[0m⠀\u001b[0m⠀\u001b[0m⠀\u001b[0m⠀\u001b[0m⠀\u001b[90m│\u001b[39m \n",
       "     \u001b[90m │\u001b[39m\u001b[0m⠀\u001b[0m⠀\u001b[0m⠀\u001b[0m⠀\u001b[0m⠀\u001b[0m⠀\u001b[0m⠀\u001b[0m⠀\u001b[0m⠀\u001b[0m⠀\u001b[0m⠀\u001b[0m⠀\u001b[0m⠀\u001b[0m⠀\u001b[0m⠀\u001b[0m⠀\u001b[0m⠀\u001b[0m⠀\u001b[0m⠀\u001b[0m⠀\u001b[32m⡇\u001b[39m\u001b[0m⠀\u001b[0m⠀\u001b[0m⠀\u001b[0m⠀\u001b[36m⡇\u001b[39m\u001b[0m⠀\u001b[0m⠀\u001b[0m⠀\u001b[0m⠀\u001b[34m⡇\u001b[39m\u001b[0m⠀\u001b[0m⠀\u001b[0m⠀\u001b[0m⠀\u001b[37m⡇\u001b[39m\u001b[0m⠀\u001b[0m⠀\u001b[0m⠀\u001b[0m⠀\u001b[37m⡇\u001b[39m\u001b[0m⠀\u001b[0m⠀\u001b[0m⠀\u001b[0m⠀\u001b[36m⡇\u001b[39m\u001b[0m⠀\u001b[0m⠀\u001b[0m⠀\u001b[0m⠀\u001b[32m⡇\u001b[39m\u001b[0m⠀\u001b[0m⠀\u001b[0m⠀\u001b[0m⠀\u001b[36m⡇\u001b[39m\u001b[0m⠀\u001b[0m⠀\u001b[0m⠀\u001b[0m⠀\u001b[34m⡇\u001b[39m\u001b[0m⠀\u001b[0m⠀\u001b[0m⠀\u001b[0m⠀\u001b[0m⠀\u001b[0m⠀\u001b[0m⠀\u001b[0m⠀\u001b[0m⠀\u001b[0m⠀\u001b[0m⠀\u001b[0m⠀\u001b[0m⠀\u001b[0m⠀\u001b[0m⠀\u001b[0m⠀\u001b[0m⠀\u001b[0m⠀\u001b[0m⠀\u001b[90m│\u001b[39m \n",
       "     \u001b[90m │\u001b[39m\u001b[0m⠀\u001b[0m⠀\u001b[0m⠀\u001b[0m⠀\u001b[0m⠀\u001b[0m⠀\u001b[0m⠀\u001b[0m⠀\u001b[0m⠀\u001b[0m⠀\u001b[0m⠀\u001b[0m⠀\u001b[0m⠀\u001b[0m⠀\u001b[0m⠀\u001b[0m⠀\u001b[0m⠀\u001b[0m⠀\u001b[0m⠀\u001b[0m⠀\u001b[32m⡇\u001b[39m\u001b[0m⠀\u001b[0m⠀\u001b[0m⠀\u001b[0m⠀\u001b[36m⡇\u001b[39m\u001b[0m⠀\u001b[0m⠀\u001b[0m⠀\u001b[0m⠀\u001b[34m⡇\u001b[39m\u001b[0m⠀\u001b[0m⠀\u001b[0m⠀\u001b[0m⠀\u001b[37m⡇\u001b[39m\u001b[0m⠀\u001b[0m⠀\u001b[0m⠀\u001b[0m⠀\u001b[37m⡇\u001b[39m\u001b[0m⠀\u001b[0m⠀\u001b[0m⠀\u001b[0m⠀\u001b[36m⡇\u001b[39m\u001b[0m⠀\u001b[0m⠀\u001b[0m⠀\u001b[0m⠀\u001b[32m⡇\u001b[39m\u001b[0m⠀\u001b[0m⠀\u001b[0m⠀\u001b[0m⠀\u001b[36m⡇\u001b[39m\u001b[0m⠀\u001b[0m⠀\u001b[0m⠀\u001b[0m⠀\u001b[34m⡇\u001b[39m\u001b[0m⠀\u001b[0m⠀\u001b[0m⠀\u001b[0m⠀\u001b[0m⠀\u001b[0m⠀\u001b[0m⠀\u001b[0m⠀\u001b[0m⠀\u001b[0m⠀\u001b[0m⠀\u001b[0m⠀\u001b[0m⠀\u001b[0m⠀\u001b[0m⠀\u001b[0m⠀\u001b[0m⠀\u001b[0m⠀\u001b[0m⠀\u001b[90m│\u001b[39m \n",
       "     \u001b[90m │\u001b[39m\u001b[0m⠀\u001b[0m⠀\u001b[0m⠀\u001b[0m⠀\u001b[0m⠀\u001b[0m⠀\u001b[0m⠀\u001b[0m⠀\u001b[0m⠀\u001b[0m⠀\u001b[0m⠀\u001b[0m⠀\u001b[0m⠀\u001b[0m⠀\u001b[0m⠀\u001b[0m⠀\u001b[0m⠀\u001b[0m⠀\u001b[0m⠀\u001b[0m⠀\u001b[32m⠉\u001b[39m\u001b[32m⠉\u001b[39m\u001b[32m⠉\u001b[39m\u001b[32m⠉\u001b[39m\u001b[32m⠉\u001b[39m\u001b[36m⠉\u001b[39m\u001b[34m⠉\u001b[39m\u001b[34m⠉\u001b[39m\u001b[34m⠉\u001b[39m\u001b[34m⠉\u001b[39m\u001b[34m⠉\u001b[39m\u001b[34m⠉\u001b[39m\u001b[34m⠉\u001b[39m\u001b[34m⠉\u001b[39m\u001b[34m⠉\u001b[39m\u001b[37m⠉\u001b[39m\u001b[33m⠉\u001b[39m\u001b[33m⠉\u001b[39m\u001b[33m⠉\u001b[39m\u001b[33m⠉\u001b[39m\u001b[37m⠉\u001b[39m\u001b[34m⠉\u001b[39m\u001b[34m⠉\u001b[39m\u001b[34m⠉\u001b[39m\u001b[34m⠉\u001b[39m\u001b[36m⠉\u001b[39m\u001b[32m⠉\u001b[39m\u001b[32m⠉\u001b[39m\u001b[32m⠉\u001b[39m\u001b[32m⠉\u001b[39m\u001b[32m⠉\u001b[39m\u001b[32m⠉\u001b[39m\u001b[32m⠉\u001b[39m\u001b[32m⠉\u001b[39m\u001b[32m⠉\u001b[39m\u001b[36m⠉\u001b[39m\u001b[34m⠉\u001b[39m\u001b[34m⠉\u001b[39m\u001b[34m⠉\u001b[39m\u001b[34m⠉\u001b[39m\u001b[34m⠁\u001b[39m\u001b[0m⠀\u001b[0m⠀\u001b[0m⠀\u001b[0m⠀\u001b[0m⠀\u001b[0m⠀\u001b[0m⠀\u001b[0m⠀\u001b[0m⠀\u001b[0m⠀\u001b[0m⠀\u001b[0m⠀\u001b[0m⠀\u001b[0m⠀\u001b[0m⠀\u001b[0m⠀\u001b[0m⠀\u001b[0m⠀\u001b[0m⠀\u001b[90m│\u001b[39m \n",
       "     \u001b[90m │\u001b[39m\u001b[0m⠀\u001b[0m⠀\u001b[0m⠀\u001b[0m⠀\u001b[0m⠀\u001b[0m⠀\u001b[0m⠀\u001b[0m⠀\u001b[0m⠀\u001b[0m⠀\u001b[0m⠀\u001b[0m⠀\u001b[0m⠀\u001b[0m⠀\u001b[0m⠀\u001b[0m⠀\u001b[0m⠀\u001b[0m⠀\u001b[0m⠀\u001b[0m⠀\u001b[0m⠀\u001b[0m⠀\u001b[0m⠀\u001b[0m⠀\u001b[0m⠀\u001b[0m⠀\u001b[0m⠀\u001b[0m⠀\u001b[0m⠀\u001b[0m⠀\u001b[0m⠀\u001b[0m⠀\u001b[0m⠀\u001b[0m⠀\u001b[0m⠀\u001b[0m⠀\u001b[0m⠀\u001b[0m⠀\u001b[0m⠀\u001b[0m⠀\u001b[0m⠀\u001b[0m⠀\u001b[0m⠀\u001b[0m⠀\u001b[0m⠀\u001b[0m⠀\u001b[0m⠀\u001b[0m⠀\u001b[0m⠀\u001b[0m⠀\u001b[0m⠀\u001b[0m⠀\u001b[0m⠀\u001b[0m⠀\u001b[0m⠀\u001b[0m⠀\u001b[0m⠀\u001b[0m⠀\u001b[0m⠀\u001b[0m⠀\u001b[0m⠀\u001b[0m⠀\u001b[0m⠀\u001b[0m⠀\u001b[0m⠀\u001b[0m⠀\u001b[0m⠀\u001b[0m⠀\u001b[0m⠀\u001b[0m⠀\u001b[0m⠀\u001b[0m⠀\u001b[0m⠀\u001b[0m⠀\u001b[0m⠀\u001b[0m⠀\u001b[0m⠀\u001b[0m⠀\u001b[0m⠀\u001b[0m⠀\u001b[90m│\u001b[39m \n",
       "     \u001b[90m │\u001b[39m\u001b[0m⠀\u001b[0m⠀\u001b[0m⠀\u001b[0m⠀\u001b[0m⠀\u001b[0m⠀\u001b[0m⠀\u001b[0m⠀\u001b[0m⠀\u001b[0m⠀\u001b[0m⠀\u001b[0m⠀\u001b[0m⠀\u001b[0m⠀\u001b[0m⠀\u001b[0m⠀\u001b[0m⠀\u001b[0m⠀\u001b[0m⠀\u001b[0m⠀\u001b[0m⠀\u001b[0m⠀\u001b[0m⠀\u001b[0m⠀\u001b[0m⠀\u001b[0m⠀\u001b[0m⠀\u001b[0m⠀\u001b[0m⠀\u001b[0m⠀\u001b[0m⠀\u001b[0m⠀\u001b[0m⠀\u001b[0m⠀\u001b[0m⠀\u001b[0m⠀\u001b[0m⠀\u001b[0m⠀\u001b[0m⠀\u001b[0m⠀\u001b[0m⠀\u001b[0m⠀\u001b[0m⠀\u001b[0m⠀\u001b[0m⠀\u001b[0m⠀\u001b[0m⠀\u001b[0m⠀\u001b[0m⠀\u001b[0m⠀\u001b[0m⠀\u001b[0m⠀\u001b[0m⠀\u001b[0m⠀\u001b[0m⠀\u001b[0m⠀\u001b[0m⠀\u001b[0m⠀\u001b[0m⠀\u001b[0m⠀\u001b[0m⠀\u001b[0m⠀\u001b[0m⠀\u001b[0m⠀\u001b[0m⠀\u001b[0m⠀\u001b[0m⠀\u001b[0m⠀\u001b[0m⠀\u001b[0m⠀\u001b[0m⠀\u001b[0m⠀\u001b[0m⠀\u001b[0m⠀\u001b[0m⠀\u001b[0m⠀\u001b[0m⠀\u001b[0m⠀\u001b[0m⠀\u001b[0m⠀\u001b[90m│\u001b[39m \n",
       "     \u001b[90m │\u001b[39m\u001b[0m⠀\u001b[0m⠀\u001b[0m⠀\u001b[0m⠀\u001b[0m⠀\u001b[0m⠀\u001b[0m⠀\u001b[0m⠀\u001b[0m⠀\u001b[0m⠀\u001b[0m⠀\u001b[0m⠀\u001b[0m⠀\u001b[0m⠀\u001b[0m⠀\u001b[0m⠀\u001b[0m⠀\u001b[0m⠀\u001b[0m⠀\u001b[0m⠀\u001b[0m⠀\u001b[0m⠀\u001b[0m⠀\u001b[0m⠀\u001b[0m⠀\u001b[0m⠀\u001b[0m⠀\u001b[0m⠀\u001b[0m⠀\u001b[0m⠀\u001b[0m⠀\u001b[0m⠀\u001b[0m⠀\u001b[0m⠀\u001b[0m⠀\u001b[0m⠀\u001b[0m⠀\u001b[0m⠀\u001b[0m⠀\u001b[0m⠀\u001b[0m⠀\u001b[0m⠀\u001b[0m⠀\u001b[0m⠀\u001b[0m⠀\u001b[0m⠀\u001b[0m⠀\u001b[0m⠀\u001b[0m⠀\u001b[0m⠀\u001b[0m⠀\u001b[0m⠀\u001b[0m⠀\u001b[0m⠀\u001b[0m⠀\u001b[0m⠀\u001b[0m⠀\u001b[0m⠀\u001b[0m⠀\u001b[0m⠀\u001b[0m⠀\u001b[0m⠀\u001b[0m⠀\u001b[0m⠀\u001b[0m⠀\u001b[0m⠀\u001b[0m⠀\u001b[0m⠀\u001b[0m⠀\u001b[0m⠀\u001b[0m⠀\u001b[0m⠀\u001b[0m⠀\u001b[0m⠀\u001b[0m⠀\u001b[0m⠀\u001b[0m⠀\u001b[0m⠀\u001b[0m⠀\u001b[0m⠀\u001b[90m│\u001b[39m \n",
       "     \u001b[90m │\u001b[39m\u001b[0m⠀\u001b[0m⠀\u001b[0m⠀\u001b[0m⠀\u001b[0m⠀\u001b[0m⠀\u001b[0m⠀\u001b[0m⠀\u001b[0m⠀\u001b[0m⠀\u001b[0m⠀\u001b[0m⠀\u001b[0m⠀\u001b[0m⠀\u001b[0m⠀\u001b[0m⠀\u001b[0m⠀\u001b[0m⠀\u001b[0m⠀\u001b[0m⠀\u001b[0m⠀\u001b[0m⠀\u001b[0m⠀\u001b[0m⠀\u001b[0m⠀\u001b[0m⠀\u001b[0m⠀\u001b[0m⠀\u001b[0m⠀\u001b[0m⠀\u001b[0m⠀\u001b[0m⠀\u001b[0m⠀\u001b[0m⠀\u001b[0m⠀\u001b[0m⠀\u001b[0m⠀\u001b[0m⠀\u001b[0m⠀\u001b[0m⠀\u001b[0m⠀\u001b[0m⠀\u001b[0m⠀\u001b[0m⠀\u001b[0m⠀\u001b[0m⠀\u001b[0m⠀\u001b[0m⠀\u001b[0m⠀\u001b[0m⠀\u001b[0m⠀\u001b[0m⠀\u001b[0m⠀\u001b[0m⠀\u001b[0m⠀\u001b[0m⠀\u001b[0m⠀\u001b[0m⠀\u001b[0m⠀\u001b[0m⠀\u001b[0m⠀\u001b[0m⠀\u001b[0m⠀\u001b[0m⠀\u001b[0m⠀\u001b[0m⠀\u001b[0m⠀\u001b[0m⠀\u001b[0m⠀\u001b[0m⠀\u001b[0m⠀\u001b[0m⠀\u001b[0m⠀\u001b[0m⠀\u001b[0m⠀\u001b[0m⠀\u001b[0m⠀\u001b[0m⠀\u001b[0m⠀\u001b[0m⠀\u001b[90m│\u001b[39m \n",
       "     \u001b[90m │\u001b[39m\u001b[0m⠀\u001b[0m⠀\u001b[0m⠀\u001b[0m⠀\u001b[0m⠀\u001b[0m⠀\u001b[0m⠀\u001b[0m⠀\u001b[0m⠀\u001b[0m⠀\u001b[0m⠀\u001b[0m⠀\u001b[0m⠀\u001b[0m⠀\u001b[0m⠀\u001b[0m⠀\u001b[0m⠀\u001b[0m⠀\u001b[0m⠀\u001b[0m⠀\u001b[0m⠀\u001b[0m⠀\u001b[0m⠀\u001b[0m⠀\u001b[0m⠀\u001b[0m⠀\u001b[0m⠀\u001b[0m⠀\u001b[0m⠀\u001b[0m⠀\u001b[0m⠀\u001b[0m⠀\u001b[0m⠀\u001b[0m⠀\u001b[0m⠀\u001b[0m⠀\u001b[0m⠀\u001b[0m⠀\u001b[0m⠀\u001b[0m⠀\u001b[0m⠀\u001b[0m⠀\u001b[0m⠀\u001b[0m⠀\u001b[0m⠀\u001b[0m⠀\u001b[0m⠀\u001b[0m⠀\u001b[0m⠀\u001b[0m⠀\u001b[0m⠀\u001b[0m⠀\u001b[0m⠀\u001b[0m⠀\u001b[0m⠀\u001b[0m⠀\u001b[0m⠀\u001b[0m⠀\u001b[0m⠀\u001b[0m⠀\u001b[0m⠀\u001b[0m⠀\u001b[0m⠀\u001b[0m⠀\u001b[0m⠀\u001b[0m⠀\u001b[0m⠀\u001b[0m⠀\u001b[0m⠀\u001b[0m⠀\u001b[0m⠀\u001b[0m⠀\u001b[0m⠀\u001b[0m⠀\u001b[0m⠀\u001b[0m⠀\u001b[0m⠀\u001b[0m⠀\u001b[0m⠀\u001b[0m⠀\u001b[90m│\u001b[39m \n",
       "     \u001b[90m │\u001b[39m\u001b[0m⠀\u001b[0m⠀\u001b[0m⠀\u001b[0m⠀\u001b[0m⠀\u001b[0m⠀\u001b[0m⠀\u001b[0m⠀\u001b[0m⠀\u001b[0m⠀\u001b[0m⠀\u001b[0m⠀\u001b[0m⠀\u001b[0m⠀\u001b[0m⠀\u001b[0m⠀\u001b[0m⠀\u001b[0m⠀\u001b[0m⠀\u001b[0m⠀\u001b[0m⠀\u001b[0m⠀\u001b[0m⠀\u001b[0m⠀\u001b[0m⠀\u001b[0m⠀\u001b[0m⠀\u001b[0m⠀\u001b[0m⠀\u001b[0m⠀\u001b[0m⠀\u001b[0m⠀\u001b[0m⠀\u001b[0m⠀\u001b[0m⠀\u001b[0m⠀\u001b[0m⠀\u001b[0m⠀\u001b[0m⠀\u001b[0m⠀\u001b[0m⠀\u001b[0m⠀\u001b[0m⠀\u001b[0m⠀\u001b[0m⠀\u001b[0m⠀\u001b[0m⠀\u001b[0m⠀\u001b[0m⠀\u001b[0m⠀\u001b[0m⠀\u001b[0m⠀\u001b[0m⠀\u001b[0m⠀\u001b[0m⠀\u001b[0m⠀\u001b[0m⠀\u001b[0m⠀\u001b[0m⠀\u001b[0m⠀\u001b[0m⠀\u001b[0m⠀\u001b[0m⠀\u001b[0m⠀\u001b[0m⠀\u001b[0m⠀\u001b[0m⠀\u001b[0m⠀\u001b[0m⠀\u001b[0m⠀\u001b[0m⠀\u001b[0m⠀\u001b[0m⠀\u001b[0m⠀\u001b[0m⠀\u001b[0m⠀\u001b[0m⠀\u001b[0m⠀\u001b[0m⠀\u001b[0m⠀\u001b[90m│\u001b[39m \n",
       "     \u001b[90m │\u001b[39m\u001b[0m⠀\u001b[0m⠀\u001b[0m⠀\u001b[0m⠀\u001b[0m⠀\u001b[0m⠀\u001b[0m⠀\u001b[0m⠀\u001b[0m⠀\u001b[0m⠀\u001b[0m⠀\u001b[0m⠀\u001b[0m⠀\u001b[0m⠀\u001b[0m⠀\u001b[0m⠀\u001b[0m⠀\u001b[0m⠀\u001b[0m⠀\u001b[0m⠀\u001b[0m⠀\u001b[0m⠀\u001b[0m⠀\u001b[0m⠀\u001b[0m⠀\u001b[0m⠀\u001b[0m⠀\u001b[0m⠀\u001b[0m⠀\u001b[0m⠀\u001b[0m⠀\u001b[0m⠀\u001b[0m⠀\u001b[0m⠀\u001b[0m⠀\u001b[0m⠀\u001b[0m⠀\u001b[0m⠀\u001b[0m⠀\u001b[0m⠀\u001b[0m⠀\u001b[0m⠀\u001b[0m⠀\u001b[0m⠀\u001b[0m⠀\u001b[0m⠀\u001b[0m⠀\u001b[0m⠀\u001b[0m⠀\u001b[0m⠀\u001b[0m⠀\u001b[0m⠀\u001b[0m⠀\u001b[0m⠀\u001b[0m⠀\u001b[0m⠀\u001b[0m⠀\u001b[0m⠀\u001b[0m⠀\u001b[0m⠀\u001b[0m⠀\u001b[0m⠀\u001b[0m⠀\u001b[0m⠀\u001b[0m⠀\u001b[0m⠀\u001b[0m⠀\u001b[0m⠀\u001b[0m⠀\u001b[0m⠀\u001b[0m⠀\u001b[0m⠀\u001b[0m⠀\u001b[0m⠀\u001b[0m⠀\u001b[0m⠀\u001b[0m⠀\u001b[0m⠀\u001b[0m⠀\u001b[0m⠀\u001b[90m│\u001b[39m \n",
       "     \u001b[90m │\u001b[39m\u001b[0m⠀\u001b[0m⠀\u001b[0m⠀\u001b[0m⠀\u001b[0m⠀\u001b[0m⠀\u001b[0m⠀\u001b[0m⠀\u001b[0m⠀\u001b[0m⠀\u001b[0m⠀\u001b[0m⠀\u001b[0m⠀\u001b[0m⠀\u001b[0m⠀\u001b[0m⠀\u001b[0m⠀\u001b[0m⠀\u001b[0m⠀\u001b[0m⠀\u001b[0m⠀\u001b[0m⠀\u001b[0m⠀\u001b[0m⠀\u001b[0m⠀\u001b[0m⠀\u001b[0m⠀\u001b[0m⠀\u001b[0m⠀\u001b[0m⠀\u001b[0m⠀\u001b[0m⠀\u001b[0m⠀\u001b[0m⠀\u001b[0m⠀\u001b[0m⠀\u001b[0m⠀\u001b[0m⠀\u001b[0m⠀\u001b[0m⠀\u001b[0m⠀\u001b[0m⠀\u001b[0m⠀\u001b[0m⠀\u001b[0m⠀\u001b[0m⠀\u001b[0m⠀\u001b[0m⠀\u001b[0m⠀\u001b[0m⠀\u001b[0m⠀\u001b[0m⠀\u001b[0m⠀\u001b[0m⠀\u001b[0m⠀\u001b[0m⠀\u001b[0m⠀\u001b[0m⠀\u001b[0m⠀\u001b[0m⠀\u001b[0m⠀\u001b[0m⠀\u001b[0m⠀\u001b[0m⠀\u001b[0m⠀\u001b[0m⠀\u001b[0m⠀\u001b[0m⠀\u001b[0m⠀\u001b[0m⠀\u001b[0m⠀\u001b[0m⠀\u001b[0m⠀\u001b[0m⠀\u001b[0m⠀\u001b[0m⠀\u001b[0m⠀\u001b[0m⠀\u001b[0m⠀\u001b[0m⠀\u001b[90m│\u001b[39m \n",
       "   \u001b[90m-1\u001b[39m\u001b[90m │\u001b[39m\u001b[0m⠀\u001b[0m⠀\u001b[0m⠀\u001b[0m⠀\u001b[0m⠀\u001b[0m⠀\u001b[0m⠀\u001b[0m⠀\u001b[0m⠀\u001b[0m⠀\u001b[0m⠀\u001b[0m⠀\u001b[0m⠀\u001b[0m⠀\u001b[0m⠀\u001b[0m⠀\u001b[0m⠀\u001b[0m⠀\u001b[0m⠀\u001b[0m⠀\u001b[0m⠀\u001b[0m⠀\u001b[0m⠀\u001b[0m⠀\u001b[0m⠀\u001b[0m⠀\u001b[0m⠀\u001b[0m⠀\u001b[0m⠀\u001b[0m⠀\u001b[0m⠀\u001b[0m⠀\u001b[0m⠀\u001b[0m⠀\u001b[0m⠀\u001b[0m⠀\u001b[0m⠀\u001b[0m⠀\u001b[0m⠀\u001b[0m⠀\u001b[0m⠀\u001b[0m⠀\u001b[0m⠀\u001b[0m⠀\u001b[0m⠀\u001b[0m⠀\u001b[0m⠀\u001b[0m⠀\u001b[0m⠀\u001b[0m⠀\u001b[0m⠀\u001b[0m⠀\u001b[0m⠀\u001b[0m⠀\u001b[0m⠀\u001b[0m⠀\u001b[0m⠀\u001b[0m⠀\u001b[0m⠀\u001b[0m⠀\u001b[0m⠀\u001b[0m⠀\u001b[0m⠀\u001b[0m⠀\u001b[0m⠀\u001b[0m⠀\u001b[0m⠀\u001b[0m⠀\u001b[0m⠀\u001b[0m⠀\u001b[0m⠀\u001b[0m⠀\u001b[0m⠀\u001b[0m⠀\u001b[0m⠀\u001b[0m⠀\u001b[0m⠀\u001b[0m⠀\u001b[0m⠀\u001b[0m⠀\u001b[90m│\u001b[39m \n",
       "\u001b[90m      └────────────────────────────────────────────────────────────────────────────────┘\u001b[39m \n",
       "\u001b[90m      -1\u001b[39m\u001b[90m                                      \u001b[39m\u001b[90m                                         1\u001b[39m"
      ]
     },
     "metadata": {},
     "output_type": "display_data"
    }
   ],
   "source": [
    "plot_connectivity(verts, EToV)"
   ]
  },
  {
   "cell_type": "markdown",
   "metadata": {},
   "source": [
    "## Setting base mesh sizes in each direction"
   ]
  },
  {
   "cell_type": "code",
   "execution_count": 201,
   "metadata": {},
   "outputs": [
    {
     "data": {
      "text/plain": [
       "16"
      ]
     },
     "execution_count": 201,
     "metadata": {},
     "output_type": "execute_result"
    }
   ],
   "source": [
    "N1 = N0 = 16"
   ]
  },
  {
   "cell_type": "code",
   "execution_count": 202,
   "metadata": {},
   "outputs": [
    {
     "name": "stdout",
     "output_type": "stream",
     "text": [
      "EToN0 = [16 16 16 16 16 16 16 16 16 16 16 16 16 16 16 16 16 16 16 16 16 16 16 16 16 16 16 16 16 16 16 16 16 16 16 16 16 16 16 16 16 16 16 16 16 16 16 16 16 16 16 16 16 16 16 16 16 16 16 16 16 16 16 16; 0 0 0 0 0 0 0 0 0 0 0 0 0 0 0 0 0 0 0 0 0 0 0 0 0 0 0 0 0 0 0 0 0 0 0 0 0 0 0 0 0 0 0 0 0 0 0 0 0 0 0 0 0 0 0 0 0 0 0 0 0 0 0 0]\n",
      "EToN0 = [16 16 16 16 16 16 16 16 16 16 16 16 16 16 16 16 16 16 16 16 16 16 16 16 16 16 16 16 16 16 16 16 16 16 16 16 16 16 16 16 16 16 16 16 16 16 16 16 16 16 16 16 16 16 16 16 16 16 16 16 16 16 16 16; 16 16 16 16 16 16 16 16 16 16 16 16 16 16 16 16 16 16 16 16 16 16 16 16 16 16 16 16 16 16 16 16 16 16 16 16 16 16 16 16 16 16 16 16 16 16 16 16 16 16 16 16 16 16 16 16 16 16 16 16 16 16 16 16]\n"
     ]
    },
    {
     "data": {
      "text/plain": [
       "2×64 Array{Int64,2}:\n",
       " 16  16  16  16  16  16  16  16  16  …  16  16  16  16  16  16  16  16  16\n",
       " 16  16  16  16  16  16  16  16  16     16  16  16  16  16  16  16  16  16"
      ]
     },
     "execution_count": 202,
     "metadata": {},
     "output_type": "execute_result"
    }
   ],
   "source": [
    "EToN0 = zeros(Int64, 2, nelems)\n",
    "EToN0[1,:] .= N0;\n",
    "@show EToN0\n",
    "EToN0[2,:] .= N1;\n",
    "@show EToN0"
   ]
  },
  {
   "cell_type": "code",
   "execution_count": 203,
   "metadata": {},
   "outputs": [],
   "source": [
    "# Checking types and sizes \n",
    "@assert typeof(EToV) == Array{Int, 2} && size(EToV) == (4, nelems)\n",
    "@assert typeof(EToF) == Array{Int, 2} && size(EToF) == (4, nelems)\n",
    "@assert maximum(maximum(EToF)) == nfaces   # The maximum number of EToF element should equal the number of faces \n",
    "\n",
    "# Determine secondary arrays\n",
    "# FToE : Unique Global Face to Element Number\n",
    "#        (the i'th column of this stores the element numbers that share the\n",
    "#        global face number i)\n",
    "# FToLF: Unique Global Face to Element local face number\n",
    "#        (the i'th column of this stores the element local face numbers that\n",
    "#        shares the global face number i)\n",
    "# EToO : Element to Unique Global Faces Orientation\n",
    "#        (the i'th column of this stores the whether the element and global\n",
    "#        face are oriented in the same way in physical memory or need to be\n",
    "#        rotated)\n",
    "# EToS : Element to Unique Global Face Side\n",
    "#        (the i'th column of this stores whether an element is on the\n",
    "#        plus side or minus side of the global face)\n"
   ]
  },
  {
   "cell_type": "code",
   "execution_count": 204,
   "metadata": {},
   "outputs": [
    {
     "data": {
      "text/plain": [
       "([1 1 … 62 63; 7 2 … 63 64], [1 2 … 2 2; 3 4 … 4 4], Bool[1 1 … 1 1; 1 1 … 1 1; 1 1 … 1 1; 1 1 … 1 1], [1 1 … 2 2; 1 1 … 1 2; 1 1 … 2 2; 1 2 … 2 2])"
      ]
     },
     "execution_count": 204,
     "metadata": {},
     "output_type": "execute_result"
    }
   ],
   "source": [
    "# connectivity arrays\n",
    "(FToE, FToLF, EToO, EToS) = connectivityarrays(EToV, EToF)"
   ]
  },
  {
   "cell_type": "markdown",
   "metadata": {},
   "source": [
    "## Forming exact solutions"
   ]
  },
  {
   "cell_type": "code",
   "execution_count": 205,
   "metadata": {},
   "outputs": [
    {
     "name": "stdout",
     "output_type": "stream",
     "text": [
      "Lx = 0.5\n",
      "Ly = 0.5\n"
     ]
    },
    {
     "data": {
      "text/plain": [
       "0.5"
      ]
     },
     "execution_count": 205,
     "metadata": {},
     "output_type": "execute_result"
    }
   ],
   "source": [
    "Lx = maximum(verts[1,:])\n",
    "@show Lx\n",
    "Ly = maximum(abs.(verts[2,:]))\n",
    "@show Ly"
   ]
  },
  {
   "cell_type": "code",
   "execution_count": 206,
   "metadata": {},
   "outputs": [
    {
     "data": {
      "text/plain": [
       "(12.566370614359172, 25.132741228718345)"
      ]
     },
     "execution_count": 206,
     "metadata": {},
     "output_type": "execute_result"
    }
   ],
   "source": [
    "(kx, ky) = (2*π / Lx, 4*π / Ly)"
   ]
  },
  {
   "cell_type": "code",
   "execution_count": 207,
   "metadata": {},
   "outputs": [
    {
     "data": {
      "text/plain": [
       "vex (generic function with 1 method)"
      ]
     },
     "execution_count": 207,
     "metadata": {},
     "output_type": "execute_result"
    }
   ],
   "source": [
    "vex(x,y,e) = begin\n",
    "    if EToDomain[e] == 1\n",
    "        return cos.(kx * x) .* cosh.(ky * y)\n",
    "    elseif EToDomain[e] == 2\n",
    "        return 10 .+ cos.(kx * x) .* cosh.(ky * y)\n",
    "    else\n",
    "        error(\"invalid block\")\n",
    "    end\n",
    "end"
   ]
  },
  {
   "cell_type": "code",
   "execution_count": 208,
   "metadata": {},
   "outputs": [
    {
     "data": {
      "text/plain": [
       "vex_x (generic function with 1 method)"
      ]
     },
     "execution_count": 208,
     "metadata": {},
     "output_type": "execute_result"
    }
   ],
   "source": [
    "vex_x(x,y,e) = begin\n",
    "  if EToDomain[e] == 1\n",
    "    return -kx * sin.(kx * x) .* cosh.(ky * y)\n",
    "  elseif EToDomain[e] == 2\n",
    "    return -kx * sin.(kx * x) .* cosh.(ky * y)\n",
    "  else\n",
    "    error(\"invalid block\")\n",
    "  end\n",
    "end"
   ]
  },
  {
   "cell_type": "code",
   "execution_count": 209,
   "metadata": {},
   "outputs": [
    {
     "data": {
      "text/plain": [
       "vex_y (generic function with 1 method)"
      ]
     },
     "execution_count": 209,
     "metadata": {},
     "output_type": "execute_result"
    }
   ],
   "source": [
    "vex_y(x,y,e) = begin\n",
    "  if EToDomain[e] == 1\n",
    "    return ky * cos.(kx * x) .* sinh.(ky * y)\n",
    "  elseif EToDomain[e] == 2\n",
    "    return ky * cos.(kx * x) .* sinh.(ky * y)\n",
    "  else\n",
    "    error(\"invalid block\")\n",
    "  end\n",
    "end"
   ]
  },
  {
   "cell_type": "code",
   "execution_count": 210,
   "metadata": {},
   "outputs": [
    {
     "data": {
      "text/plain": [
       "vex_xx (generic function with 1 method)"
      ]
     },
     "execution_count": 210,
     "metadata": {},
     "output_type": "execute_result"
    }
   ],
   "source": [
    "vex_xx(x,y,e) = begin\n",
    "  if EToDomain[e] == 1\n",
    "    return -kx^2 * cos.(kx * x) .* cosh.(ky * y)\n",
    "  elseif EToDomain[e] == 2\n",
    "    return -kx^2 * cos.(kx * x) .* cosh.(ky * y)\n",
    "  else\n",
    "    error(\"invalid block\")\n",
    "  end\n",
    "end"
   ]
  },
  {
   "cell_type": "code",
   "execution_count": 211,
   "metadata": {},
   "outputs": [
    {
     "data": {
      "text/plain": [
       "vex_xy (generic function with 1 method)"
      ]
     },
     "execution_count": 211,
     "metadata": {},
     "output_type": "execute_result"
    }
   ],
   "source": [
    "vex_xy(x,y,e) = begin\n",
    "  if EToDomain[e] == 1\n",
    "    return -kx * ky * sin.(kx * x) .* sinh.(ky * y)\n",
    "  elseif EToDomain[e] == 2\n",
    "    return -kx * ky * sin.(kx * x) .* sinh.(ky * y)\n",
    "  else\n",
    "    error(\"invalid block\")\n",
    "  end\n",
    "end"
   ]
  },
  {
   "cell_type": "code",
   "execution_count": 212,
   "metadata": {},
   "outputs": [
    {
     "data": {
      "text/plain": [
       "vex_yy (generic function with 1 method)"
      ]
     },
     "execution_count": 212,
     "metadata": {},
     "output_type": "execute_result"
    }
   ],
   "source": [
    "vex_yy(x,y,e) = begin\n",
    "  if EToDomain[e] == 1\n",
    "    return ky^2 * cos.(kx * x) .* cosh.(ky * y)\n",
    "  elseif EToDomain[e] == 2\n",
    "    return ky^2 * cos.(kx * x) .* cosh.(ky * y)\n",
    "  else\n",
    "    error(\"invalid block\")\n",
    "  end\n",
    "end"
   ]
  },
  {
   "cell_type": "code",
   "execution_count": 213,
   "metadata": {},
   "outputs": [
    {
     "data": {
      "text/plain": [
       "4-element Array{Float64,1}:\n",
       " 0.0\n",
       " 0.0\n",
       " 0.0\n",
       " 0.0"
      ]
     },
     "execution_count": 213,
     "metadata": {},
     "output_type": "execute_result"
    }
   ],
   "source": [
    "ϵ = zeros(4)"
   ]
  },
  {
   "cell_type": "code",
   "execution_count": 214,
   "metadata": {},
   "outputs": [
    {
     "data": {
      "text/plain": [
       "1"
      ]
     },
     "execution_count": 214,
     "metadata": {},
     "output_type": "execute_result"
    }
   ],
   "source": [
    "lvl = 1"
   ]
  },
  {
   "cell_type": "code",
   "execution_count": 215,
   "metadata": {},
   "outputs": [
    {
     "data": {
      "text/plain": [
       "64-element Array{Int64,1}:\n",
       " 16\n",
       " 16\n",
       " 16\n",
       " 16\n",
       " 16\n",
       " 16\n",
       " 16\n",
       " 16\n",
       " 16\n",
       " 16\n",
       " 16\n",
       " 16\n",
       " 16\n",
       "  ⋮\n",
       " 16\n",
       " 16\n",
       " 16\n",
       " 16\n",
       " 16\n",
       " 16\n",
       " 16\n",
       " 16\n",
       " 16\n",
       " 16\n",
       " 16\n",
       " 16"
      ]
     },
     "execution_count": 215,
     "metadata": {},
     "output_type": "execute_result"
    }
   ],
   "source": [
    "# generate base mesh size for each element\n",
    "Nr = EToN0[1,:] * (2^(lvl - 1))\n",
    "Ns = EToN0[2,:] * (2^(lvl - 1))"
   ]
  },
  {
   "cell_type": "code",
   "execution_count": null,
   "metadata": {},
   "outputs": [],
   "source": []
  },
  {
   "cell_type": "code",
   "execution_count": 216,
   "metadata": {},
   "outputs": [
    {
     "data": {
      "text/plain": [
       "NamedTuple{(:M̃, :F, :coord, :facecoord, :JH, :sJ, :nx, :ny, :Hf, :HfI, :τ, :bctype),Tuple{SparseMatrixCSC{Float64,Int64},NTuple{4,SparseMatrixCSC{Float64,Int64}},Tuple{Array{Float64,2},Array{Float64,2}},Tuple{Tuple{SubArray{Float64,1,Array{Float64,2},Tuple{Int64,Base.Slice{Base.OneTo{Int64}}},true},SubArray{Float64,1,Array{Float64,2},Tuple{Int64,Base.Slice{Base.OneTo{Int64}}},true},SubArray{Float64,1,Array{Float64,2},Tuple{Base.Slice{Base.OneTo{Int64}},Int64},true},SubArray{Float64,1,Array{Float64,2},Tuple{Base.Slice{Base.OneTo{Int64}},Int64},true}},Tuple{SubArray{Float64,1,Array{Float64,2},Tuple{Int64,Base.Slice{Base.OneTo{Int64}}},true},SubArray{Float64,1,Array{Float64,2},Tuple{Int64,Base.Slice{Base.OneTo{Int64}}},true},SubArray{Float64,1,Array{Float64,2},Tuple{Base.Slice{Base.OneTo{Int64}},Int64},true},SubArray{Float64,1,Array{Float64,2},Tuple{Base.Slice{Base.OneTo{Int64}},Int64},true}}},SparseMatrixCSC{Float64,Int64},NTuple{4,Array{Float64,1}},NTuple{4,Array{Float64,1}},NTuple{4,Array{Float64,1}},NTuple{4,SparseMatrixCSC{Float64,Int64}},NTuple{4,SparseMatrixCSC{Float64,Int64}},NTuple{4,SparseMatrixCSC{Float64,Int64}},NTuple{4,Int64}}}"
      ]
     },
     "execution_count": 216,
     "metadata": {},
     "output_type": "execute_result"
    }
   ],
   "source": [
    "OPTYPE = typeof(locoperator(2,8,8))"
   ]
  },
  {
   "cell_type": "code",
   "execution_count": 217,
   "metadata": {},
   "outputs": [
    {
     "data": {
      "text/plain": [
       "Dict{Int64,NamedTuple{(:M̃, :F, :coord, :facecoord, :JH, :sJ, :nx, :ny, :Hf, :HfI, :τ, :bctype),Tuple{SparseMatrixCSC{Float64,Int64},NTuple{4,SparseMatrixCSC{Float64,Int64}},Tuple{Array{Float64,2},Array{Float64,2}},Tuple{Tuple{SubArray{Float64,1,Array{Float64,2},Tuple{Int64,Base.Slice{Base.OneTo{Int64}}},true},SubArray{Float64,1,Array{Float64,2},Tuple{Int64,Base.Slice{Base.OneTo{Int64}}},true},SubArray{Float64,1,Array{Float64,2},Tuple{Base.Slice{Base.OneTo{Int64}},Int64},true},SubArray{Float64,1,Array{Float64,2},Tuple{Base.Slice{Base.OneTo{Int64}},Int64},true}},Tuple{SubArray{Float64,1,Array{Float64,2},Tuple{Int64,Base.Slice{Base.OneTo{Int64}}},true},SubArray{Float64,1,Array{Float64,2},Tuple{Int64,Base.Slice{Base.OneTo{Int64}}},true},SubArray{Float64,1,Array{Float64,2},Tuple{Base.Slice{Base.OneTo{Int64}},Int64},true},SubArray{Float64,1,Array{Float64,2},Tuple{Base.Slice{Base.OneTo{Int64}},Int64},true}}},SparseMatrixCSC{Float64,Int64},NTuple{4,Array{Float64,1}},NTuple{4,Array{Float64,1}},NTuple{4,Array{Float64,1}},NTuple{4,SparseMatrixCSC{Float64,Int64}},NTuple{4,SparseMatrixCSC{Float64,Int64}},NTuple{4,SparseMatrixCSC{Float64,Int64}},NTuple{4,Int64}}}} with 0 entries"
      ]
     },
     "execution_count": 217,
     "metadata": {},
     "output_type": "execute_result"
    }
   ],
   "source": [
    "lop = Dict{Int64, OPTYPE}()"
   ]
  },
  {
   "cell_type": "code",
   "execution_count": 218,
   "metadata": {},
   "outputs": [
    {
     "data": {
      "text/plain": [
       "BenchmarkTools.Trial: \n",
       "  memory estimate:  466.80 MiB\n",
       "  allocs estimate:  904641\n",
       "  --------------\n",
       "  minimum time:     166.211 ms (12.78% GC)\n",
       "  median time:      173.839 ms (13.23% GC)\n",
       "  mean time:        186.241 ms (16.32% GC)\n",
       "  maximum time:     400.632 ms (54.31% GC)\n",
       "  --------------\n",
       "  samples:          27\n",
       "  evals/sample:     1"
      ]
     },
     "execution_count": 218,
     "metadata": {},
     "output_type": "execute_result"
    }
   ],
   "source": [
    "@benchmark for e = 1:nelems\n",
    "      # Get the element corners\n",
    "      (x1, x2, x3, x4) = verts[1, EToV[:, e]]\n",
    "      (y1, y2, y3, y4) = verts[2, EToV[:, e]]\n",
    "\n",
    "      # Initialize the block transformations as transfinite between the corners\n",
    "      ex = [(α) -> x1 * (1 .- α) / 2 + x3 * (1 .+ α) / 2,\n",
    "            (α) -> x2 * (1 .- α) / 2 + x4 * (1 .+ α) / 2,\n",
    "            (α) -> x1 * (1 .- α) / 2 + x2 * (1 .+ α) / 2,\n",
    "            (α) -> x3 * (1 .- α) / 2 + x4 * (1 .+ α) / 2]\n",
    "      exα = [(α) -> -x1 / 2 + x3 / 2,\n",
    "             (α) -> -x2 / 2 + x4 / 2,\n",
    "             (α) -> -x1 / 2 + x2 / 2,\n",
    "             (α) -> -x3 / 2 + x4 / 2]\n",
    "      ey = [(α) -> y1 * (1 .- α) / 2 + y3 * (1 .+ α) / 2,\n",
    "            (α) -> y2 * (1 .- α) / 2 + y4 * (1 .+ α) / 2,\n",
    "            (α) -> y1 * (1 .- α) / 2 + y2 * (1 .+ α) / 2,\n",
    "            (α) -> y3 * (1 .- α) / 2 + y4 * (1 .+ α) / 2]\n",
    "      eyα = [(α) -> -y1 / 2 + y3 / 2,\n",
    "             (α) -> -y2 / 2 + y4 / 2,\n",
    "             (α) -> -y1 / 2 + y2 / 2,\n",
    "             (α) -> -y3 / 2 + y4 / 2]\n",
    "\n",
    "      # For blocks on the circle, put in the curved edge transform\n",
    "      if FToB[EToF[1, e]] == BC_JUMP_INTERFACE\n",
    "        error(\"curved face 1 not implemented yet\")\n",
    "      end\n",
    "      if FToB[EToF[2, e]] == BC_JUMP_INTERFACE\n",
    "        error(\"curved face 2 not implemented yet\")\n",
    "      end\n",
    "      if FToB[EToF[3, e]] == BC_JUMP_INTERFACE\n",
    "        Q1 = atan(y1, x1)\n",
    "        Q2 = atan(y2, x2)\n",
    "        if !(-π/2 < Q1 - Q2 < π/2)\n",
    "          Q2 -= sign(Q2) * 2 * π\n",
    "        end\n",
    "        ex[3] = (α) -> cos.(Q1 * (1 .- α) / 2 + Q2 * (1 .+ α) / 2)\n",
    "        ey[3] = (α) -> sin.(Q1 * (1 .- α) / 2 + Q2 * (1 .+ α) / 2)\n",
    "        β3 = (Q2 - Q1) / 2\n",
    "        exα[3] = (α) -> -β3 .* sin.(Q1 * (1 .- α) / 2 + Q2 * (1 .+ α) / 2)\n",
    "        eyα[3] = (α) -> +β3 .* cos.(Q1 * (1 .- α) / 2 + Q2 * (1 .+ α) / 2)\n",
    "      end\n",
    "      if FToB[EToF[4, e]] == BC_JUMP_INTERFACE\n",
    "        Q3 = atan(y3, x3)\n",
    "        Q4 = atan(y4, x4)\n",
    "        if !(-π/2 < Q3 - Q4 < π/2)\n",
    "          error(\"curved face 4 angle correction not implemented yet\")\n",
    "        end\n",
    "        ex[4] = (α) -> cos.(Q3 * (1 .- α) / 2 + Q4 * (1 .+ α) / 2)\n",
    "        ey[4] = (α) -> sin.(Q3 * (1 .- α) / 2 + Q4 * (1 .+ α) / 2)\n",
    "        β4 = (Q4 - Q3) / 2\n",
    "        exα[4] = (α) -> -β4 .* sin.(Q3 * (1 .- α) / 2 + Q4 * (1 .+ α) / 2)\n",
    "        eyα[4] = (α) -> +β4 .* cos.(Q3 * (1 .- α) / 2 + Q4 * (1 .+ α) / 2)\n",
    "      end\n",
    "\n",
    "      # Create the volume transform as the transfinite blending of the edge\n",
    "      # transformations\n",
    "      xt(r,s) = transfinite_blend(ex[1], ex[2], ex[3], ex[4],\n",
    "                                  exα[1], exα[2], exα[3], exα[4],\n",
    "                                  r, s)\n",
    "      yt(r,s) = transfinite_blend(ey[1], ey[2], ey[3], ey[4],\n",
    "                                  eyα[1], eyα[2], eyα[3], eyα[4],\n",
    "                                  r, s)\n",
    "\n",
    "\n",
    "      metrics = create_metrics(SBPp, Nr[e], Ns[e], xt, yt)\n",
    "\n",
    "      # Build local operators\n",
    "      lop[e] = locoperator(SBPp, Nr[e], Ns[e], metrics, FToB[EToF[:, e]])\n",
    "    end"
   ]
  },
  {
   "cell_type": "code",
   "execution_count": 219,
   "metadata": {},
   "outputs": [
    {
     "data": {
      "text/plain": [
       "BenchmarkTools.Trial: \n",
       "  memory estimate:  466.80 MiB\n",
       "  allocs estimate:  904609\n",
       "  --------------\n",
       "  minimum time:     71.012 ms (22.80% GC)\n",
       "  median time:      92.369 ms (39.01% GC)\n",
       "  mean time:        92.782 ms (37.61% GC)\n",
       "  maximum time:     118.904 ms (49.15% GC)\n",
       "  --------------\n",
       "  samples:          54\n",
       "  evals/sample:     1"
      ]
     },
     "execution_count": 219,
     "metadata": {},
     "output_type": "execute_result"
    }
   ],
   "source": [
    "@benchmark @threads for e = 1:nelems\n",
    "      # Get the element corners\n",
    "      (x1, x2, x3, x4) = verts[1, EToV[:, e]]\n",
    "      (y1, y2, y3, y4) = verts[2, EToV[:, e]]\n",
    "\n",
    "      # Initialize the block transformations as transfinite between the corners\n",
    "      ex = [(α) -> x1 * (1 .- α) / 2 + x3 * (1 .+ α) / 2,\n",
    "            (α) -> x2 * (1 .- α) / 2 + x4 * (1 .+ α) / 2,\n",
    "            (α) -> x1 * (1 .- α) / 2 + x2 * (1 .+ α) / 2,\n",
    "            (α) -> x3 * (1 .- α) / 2 + x4 * (1 .+ α) / 2]\n",
    "      exα = [(α) -> -x1 / 2 + x3 / 2,\n",
    "             (α) -> -x2 / 2 + x4 / 2,\n",
    "             (α) -> -x1 / 2 + x2 / 2,\n",
    "             (α) -> -x3 / 2 + x4 / 2]\n",
    "      ey = [(α) -> y1 * (1 .- α) / 2 + y3 * (1 .+ α) / 2,\n",
    "            (α) -> y2 * (1 .- α) / 2 + y4 * (1 .+ α) / 2,\n",
    "            (α) -> y1 * (1 .- α) / 2 + y2 * (1 .+ α) / 2,\n",
    "            (α) -> y3 * (1 .- α) / 2 + y4 * (1 .+ α) / 2]\n",
    "      eyα = [(α) -> -y1 / 2 + y3 / 2,\n",
    "             (α) -> -y2 / 2 + y4 / 2,\n",
    "             (α) -> -y1 / 2 + y2 / 2,\n",
    "             (α) -> -y3 / 2 + y4 / 2]\n",
    "\n",
    "      # For blocks on the circle, put in the curved edge transform\n",
    "      if FToB[EToF[1, e]] == BC_JUMP_INTERFACE\n",
    "        error(\"curved face 1 not implemented yet\")\n",
    "      end\n",
    "      if FToB[EToF[2, e]] == BC_JUMP_INTERFACE\n",
    "        error(\"curved face 2 not implemented yet\")\n",
    "      end\n",
    "      if FToB[EToF[3, e]] == BC_JUMP_INTERFACE\n",
    "        Q1 = atan(y1, x1)\n",
    "        Q2 = atan(y2, x2)\n",
    "        if !(-π/2 < Q1 - Q2 < π/2)\n",
    "          Q2 -= sign(Q2) * 2 * π\n",
    "        end\n",
    "        ex[3] = (α) -> cos.(Q1 * (1 .- α) / 2 + Q2 * (1 .+ α) / 2)\n",
    "        ey[3] = (α) -> sin.(Q1 * (1 .- α) / 2 + Q2 * (1 .+ α) / 2)\n",
    "        β3 = (Q2 - Q1) / 2\n",
    "        exα[3] = (α) -> -β3 .* sin.(Q1 * (1 .- α) / 2 + Q2 * (1 .+ α) / 2)\n",
    "        eyα[3] = (α) -> +β3 .* cos.(Q1 * (1 .- α) / 2 + Q2 * (1 .+ α) / 2)\n",
    "      end\n",
    "      if FToB[EToF[4, e]] == BC_JUMP_INTERFACE\n",
    "        Q3 = atan(y3, x3)\n",
    "        Q4 = atan(y4, x4)\n",
    "        if !(-π/2 < Q3 - Q4 < π/2)\n",
    "          error(\"curved face 4 angle correction not implemented yet\")\n",
    "        end\n",
    "        ex[4] = (α) -> cos.(Q3 * (1 .- α) / 2 + Q4 * (1 .+ α) / 2)\n",
    "        ey[4] = (α) -> sin.(Q3 * (1 .- α) / 2 + Q4 * (1 .+ α) / 2)\n",
    "        β4 = (Q4 - Q3) / 2\n",
    "        exα[4] = (α) -> -β4 .* sin.(Q3 * (1 .- α) / 2 + Q4 * (1 .+ α) / 2)\n",
    "        eyα[4] = (α) -> +β4 .* cos.(Q3 * (1 .- α) / 2 + Q4 * (1 .+ α) / 2)\n",
    "      end\n",
    "\n",
    "      # Create the volume transform as the transfinite blending of the edge\n",
    "      # transformations\n",
    "      xt(r,s) = transfinite_blend(ex[1], ex[2], ex[3], ex[4],\n",
    "                                  exα[1], exα[2], exα[3], exα[4],\n",
    "                                  r, s)\n",
    "      yt(r,s) = transfinite_blend(ey[1], ey[2], ey[3], ey[4],\n",
    "                                  eyα[1], eyα[2], eyα[3], eyα[4],\n",
    "                                  r, s)\n",
    "\n",
    "\n",
    "      metrics = create_metrics(SBPp, Nr[e], Ns[e], xt, yt)\n",
    "\n",
    "      # Build local operators\n",
    "      lop[e] = locoperator(SBPp, Nr[e], Ns[e], metrics, FToB[EToF[:, e]])\n",
    "    end"
   ]
  },
  {
   "cell_type": "markdown",
   "metadata": {},
   "source": [
    "Conclusing 1: Using @threads macro could improve performance for building local operators"
   ]
  },
  {
   "cell_type": "code",
   "execution_count": 220,
   "metadata": {},
   "outputs": [
    {
     "data": {
      "text/plain": [
       "(SBPLocalOperator1{Float64,SuiteSparse.CHOLMOD.Factor{Float64}}([1, 290, 579, 868, 1157, 1446, 1735, 2024, 2313, 2602  …  15896, 16185, 16474, 16763, 17052, 17341, 17630, 17919, 18208, 18497], [6.092762292984909e-6, 2.6812350144929195e-5, 1.2101603470057945e-5, 2.3921981924028226e-5, 1.7581027394623096e-5, 1.9552280840723275e-5, 1.9284001103153935e-5, 1.9284001103153935e-5, 1.9284001103153935e-5, 1.9284001103153935e-5  …  1.9284001103153935e-5, 1.9284001103153935e-5, 1.9284001103153935e-5, 1.9284001103153935e-5, 1.9552280840723275e-5, 1.7581027394623096e-5, 2.3921981924028226e-5, 1.2101603470057945e-5, 2.6812350144929195e-5, 6.092762292984909e-6], [0.25, 0.2578125, 0.265625, 0.2734375, 0.28125, 0.2890625, 0.296875, 0.3046875, 0.3125, 0.3203125  …  -0.3046875, -0.3125, -0.3203125, -0.328125, -0.3359375, -0.34375, -0.3515625, -0.359375, -0.3671875, -0.375], [-0.5, -0.5, -0.5, -0.5, -0.5, -0.5, -0.5, -0.5, -0.5, -0.5  …  -0.125, -0.125, -0.125, -0.125, -0.125, -0.125, -0.125, -0.125, -0.125, -0.125], [1, 1, 1, 1, 1, 1, 1, 1, 1, 1  …  64, 64, 64, 64, 64, 64, 64, 64, 64, 64], SuiteSparse.CHOLMOD.Factor{Float64}[SuiteSparse.CHOLMOD.Factor{Float64}\n",
       "type:    LLt\n",
       "method:  supernodal\n",
       "maxnnz:  0\n",
       "nnz:     15033\n",
       "success: true\n",
       ", SuiteSparse.CHOLMOD.Factor{Float64}\n",
       "type:    LLt\n",
       "method:  supernodal\n",
       "maxnnz:  0\n",
       "nnz:     15033\n",
       "success: true\n",
       ", SuiteSparse.CHOLMOD.Factor{Float64}\n",
       "type:    LLt\n",
       "method:  supernodal\n",
       "maxnnz:  0\n",
       "nnz:     15033\n",
       "success: true\n",
       ", SuiteSparse.CHOLMOD.Factor{Float64}\n",
       "type:    LLt\n",
       "method:  supernodal\n",
       "maxnnz:  0\n",
       "nnz:     15033\n",
       "success: true\n",
       ", SuiteSparse.CHOLMOD.Factor{Float64}\n",
       "type:    LLt\n",
       "method:  supernodal\n",
       "maxnnz:  0\n",
       "nnz:     15033\n",
       "success: true\n",
       ", SuiteSparse.CHOLMOD.Factor{Float64}\n",
       "type:    LLt\n",
       "method:  supernodal\n",
       "maxnnz:  0\n",
       "nnz:     15033\n",
       "success: true\n",
       ", SuiteSparse.CHOLMOD.Factor{Float64}\n",
       "type:    LLt\n",
       "method:  supernodal\n",
       "maxnnz:  0\n",
       "nnz:     15033\n",
       "success: true\n",
       ", SuiteSparse.CHOLMOD.Factor{Float64}\n",
       "type:    LLt\n",
       "method:  supernodal\n",
       "maxnnz:  0\n",
       "nnz:     15033\n",
       "success: true\n",
       ", SuiteSparse.CHOLMOD.Factor{Float64}\n",
       "type:    LLt\n",
       "method:  supernodal\n",
       "maxnnz:  0\n",
       "nnz:     15033\n",
       "success: true\n",
       ", SuiteSparse.CHOLMOD.Factor{Float64}\n",
       "type:    LLt\n",
       "method:  supernodal\n",
       "maxnnz:  0\n",
       "nnz:     15033\n",
       "success: true\n",
       "  …  SuiteSparse.CHOLMOD.Factor{Float64}\n",
       "type:    LLt\n",
       "method:  supernodal\n",
       "maxnnz:  0\n",
       "nnz:     15033\n",
       "success: true\n",
       ", SuiteSparse.CHOLMOD.Factor{Float64}\n",
       "type:    LLt\n",
       "method:  supernodal\n",
       "maxnnz:  0\n",
       "nnz:     15033\n",
       "success: true\n",
       ", SuiteSparse.CHOLMOD.Factor{Float64}\n",
       "type:    LLt\n",
       "method:  supernodal\n",
       "maxnnz:  0\n",
       "nnz:     15033\n",
       "success: true\n",
       ", SuiteSparse.CHOLMOD.Factor{Float64}\n",
       "type:    LLt\n",
       "method:  supernodal\n",
       "maxnnz:  0\n",
       "nnz:     15033\n",
       "success: true\n",
       ", SuiteSparse.CHOLMOD.Factor{Float64}\n",
       "type:    LLt\n",
       "method:  supernodal\n",
       "maxnnz:  0\n",
       "nnz:     15033\n",
       "success: true\n",
       ", SuiteSparse.CHOLMOD.Factor{Float64}\n",
       "type:    LLt\n",
       "method:  supernodal\n",
       "maxnnz:  0\n",
       "nnz:     15033\n",
       "success: true\n",
       ", SuiteSparse.CHOLMOD.Factor{Float64}\n",
       "type:    LLt\n",
       "method:  supernodal\n",
       "maxnnz:  0\n",
       "nnz:     15033\n",
       "success: true\n",
       ", SuiteSparse.CHOLMOD.Factor{Float64}\n",
       "type:    LLt\n",
       "method:  supernodal\n",
       "maxnnz:  0\n",
       "nnz:     15033\n",
       "success: true\n",
       ", SuiteSparse.CHOLMOD.Factor{Float64}\n",
       "type:    LLt\n",
       "method:  supernodal\n",
       "maxnnz:  0\n",
       "nnz:     15033\n",
       "success: true\n",
       ", SuiteSparse.CHOLMOD.Factor{Float64}\n",
       "type:    LLt\n",
       "method:  supernodal\n",
       "maxnnz:  0\n",
       "nnz:     15033\n",
       "success: true\n",
       "]), \n",
       "  [1   ,     1]  =  -6.06879\n",
       "  [1   ,     2]  =  -1.2638\n",
       "  [1   ,     3]  =  0.947847\n",
       "  [1   ,     4]  =  -0.421265\n",
       "  [1   ,     5]  =  0.0789873\n",
       "  [18  ,    13]  =  0.0789873\n",
       "  [18  ,    14]  =  -0.421265\n",
       "  [18  ,    15]  =  0.947847\n",
       "  [18  ,    16]  =  -1.2638\n",
       "  [18  ,    17]  =  -6.06879\n",
       "  [2   ,    18]  =  -26.7069\n",
       "  [2   ,    19]  =  -5.56157\n",
       "  ⋮\n",
       "  [1897, 18489]  =  -19.2081\n",
       "  [1898, 18490]  =  -19.2081\n",
       "  [1899, 18491]  =  -19.4754\n",
       "  [1870, 18492]  =  0.0789873\n",
       "  [1900, 18492]  =  -17.5119\n",
       "  [1870, 18493]  =  -0.421265\n",
       "  [1901, 18493]  =  -23.8279\n",
       "  [1870, 18494]  =  0.947847\n",
       "  [1902, 18494]  =  -12.054\n",
       "  [1870, 18495]  =  -1.2638\n",
       "  [1903, 18495]  =  -26.7069\n",
       "  [1870, 18496]  =  -6.06879\n",
       "  [1904, 18496]  =  -6.06879, [13.454037234304037, 59.20702956102806, 26.722759866802143, 52.824518674361, 38.822423362375595, 43.17534507288087, 42.58292977668213, 42.58292977668213, 42.58292977668213, 42.58292977668213  …  42.58292977668213, 42.58292977668213, 42.58292977668213, 42.58292977668213, 43.17534507288087, 38.822423362375595, 52.824518674361, 26.722759866802143, 59.20702956102806, 13.454037234304037], [1, 290, 579, 868, 1157, 1446, 1735, 2024, 2313, 2602  …  15896, 16185, 16474, 16763, 17052, 17341, 17630, 17919, 18208, 18497], [1, 18, 35, 35, 52, 52, 69, 69, 69, 86  …  1786, 1803, 1820, 1837, 1854, 1854, 1871, 1871, 1888, 1905])"
      ]
     },
     "execution_count": 220,
     "metadata": {},
     "output_type": "execute_result"
    }
   ],
   "source": [
    "(M, FbarT, D, vstarts, FToλstarts) = threaded_LocalGlobalOperators(lop, Nr, Ns, FToB, FToE, FToLF, EToO, EToS, (x) -> cholesky(Symmetric(x)))"
   ]
  },
  {
   "cell_type": "code",
   "execution_count": 221,
   "metadata": {},
   "outputs": [
    {
     "name": "stdout",
     "output_type": "stream",
     "text": [
      "lvl = 1\n"
     ]
    },
    {
     "data": {
      "text/plain": [
       "1"
      ]
     },
     "execution_count": 221,
     "metadata": {},
     "output_type": "execute_result"
    }
   ],
   "source": [
    "@show lvl"
   ]
  },
  {
   "cell_type": "code",
   "execution_count": 222,
   "metadata": {},
   "outputs": [
    {
     "data": {
      "text/plain": [
       "SBPLocalOperator1{Float64,SuiteSparse.CHOLMOD.Factor{Float64}}([1, 290, 579, 868, 1157, 1446, 1735, 2024, 2313, 2602  …  15896, 16185, 16474, 16763, 17052, 17341, 17630, 17919, 18208, 18497], [6.092762292984909e-6, 2.6812350144929195e-5, 1.2101603470057945e-5, 2.3921981924028226e-5, 1.7581027394623096e-5, 1.9552280840723275e-5, 1.9284001103153935e-5, 1.9284001103153935e-5, 1.9284001103153935e-5, 1.9284001103153935e-5  …  1.9284001103153935e-5, 1.9284001103153935e-5, 1.9284001103153935e-5, 1.9284001103153935e-5, 1.9552280840723275e-5, 1.7581027394623096e-5, 2.3921981924028226e-5, 1.2101603470057945e-5, 2.6812350144929195e-5, 6.092762292984909e-6], [0.25, 0.2578125, 0.265625, 0.2734375, 0.28125, 0.2890625, 0.296875, 0.3046875, 0.3125, 0.3203125  …  -0.3046875, -0.3125, -0.3203125, -0.328125, -0.3359375, -0.34375, -0.3515625, -0.359375, -0.3671875, -0.375], [-0.5, -0.5, -0.5, -0.5, -0.5, -0.5, -0.5, -0.5, -0.5, -0.5  …  -0.125, -0.125, -0.125, -0.125, -0.125, -0.125, -0.125, -0.125, -0.125, -0.125], [1, 1, 1, 1, 1, 1, 1, 1, 1, 1  …  64, 64, 64, 64, 64, 64, 64, 64, 64, 64], SuiteSparse.CHOLMOD.Factor{Float64}[SuiteSparse.CHOLMOD.Factor{Float64}\n",
       "type:    LLt\n",
       "method:  supernodal\n",
       "maxnnz:  0\n",
       "nnz:     15033\n",
       "success: true\n",
       ", SuiteSparse.CHOLMOD.Factor{Float64}\n",
       "type:    LLt\n",
       "method:  supernodal\n",
       "maxnnz:  0\n",
       "nnz:     15033\n",
       "success: true\n",
       ", SuiteSparse.CHOLMOD.Factor{Float64}\n",
       "type:    LLt\n",
       "method:  supernodal\n",
       "maxnnz:  0\n",
       "nnz:     15033\n",
       "success: true\n",
       ", SuiteSparse.CHOLMOD.Factor{Float64}\n",
       "type:    LLt\n",
       "method:  supernodal\n",
       "maxnnz:  0\n",
       "nnz:     15033\n",
       "success: true\n",
       ", SuiteSparse.CHOLMOD.Factor{Float64}\n",
       "type:    LLt\n",
       "method:  supernodal\n",
       "maxnnz:  0\n",
       "nnz:     15033\n",
       "success: true\n",
       ", SuiteSparse.CHOLMOD.Factor{Float64}\n",
       "type:    LLt\n",
       "method:  supernodal\n",
       "maxnnz:  0\n",
       "nnz:     15033\n",
       "success: true\n",
       ", SuiteSparse.CHOLMOD.Factor{Float64}\n",
       "type:    LLt\n",
       "method:  supernodal\n",
       "maxnnz:  0\n",
       "nnz:     15033\n",
       "success: true\n",
       ", SuiteSparse.CHOLMOD.Factor{Float64}\n",
       "type:    LLt\n",
       "method:  supernodal\n",
       "maxnnz:  0\n",
       "nnz:     15033\n",
       "success: true\n",
       ", SuiteSparse.CHOLMOD.Factor{Float64}\n",
       "type:    LLt\n",
       "method:  supernodal\n",
       "maxnnz:  0\n",
       "nnz:     15033\n",
       "success: true\n",
       ", SuiteSparse.CHOLMOD.Factor{Float64}\n",
       "type:    LLt\n",
       "method:  supernodal\n",
       "maxnnz:  0\n",
       "nnz:     15033\n",
       "success: true\n",
       "  …  SuiteSparse.CHOLMOD.Factor{Float64}\n",
       "type:    LLt\n",
       "method:  supernodal\n",
       "maxnnz:  0\n",
       "nnz:     15033\n",
       "success: true\n",
       ", SuiteSparse.CHOLMOD.Factor{Float64}\n",
       "type:    LLt\n",
       "method:  supernodal\n",
       "maxnnz:  0\n",
       "nnz:     15033\n",
       "success: true\n",
       ", SuiteSparse.CHOLMOD.Factor{Float64}\n",
       "type:    LLt\n",
       "method:  supernodal\n",
       "maxnnz:  0\n",
       "nnz:     15033\n",
       "success: true\n",
       ", SuiteSparse.CHOLMOD.Factor{Float64}\n",
       "type:    LLt\n",
       "method:  supernodal\n",
       "maxnnz:  0\n",
       "nnz:     15033\n",
       "success: true\n",
       ", SuiteSparse.CHOLMOD.Factor{Float64}\n",
       "type:    LLt\n",
       "method:  supernodal\n",
       "maxnnz:  0\n",
       "nnz:     15033\n",
       "success: true\n",
       ", SuiteSparse.CHOLMOD.Factor{Float64}\n",
       "type:    LLt\n",
       "method:  supernodal\n",
       "maxnnz:  0\n",
       "nnz:     15033\n",
       "success: true\n",
       ", SuiteSparse.CHOLMOD.Factor{Float64}\n",
       "type:    LLt\n",
       "method:  supernodal\n",
       "maxnnz:  0\n",
       "nnz:     15033\n",
       "success: true\n",
       ", SuiteSparse.CHOLMOD.Factor{Float64}\n",
       "type:    LLt\n",
       "method:  supernodal\n",
       "maxnnz:  0\n",
       "nnz:     15033\n",
       "success: true\n",
       ", SuiteSparse.CHOLMOD.Factor{Float64}\n",
       "type:    LLt\n",
       "method:  supernodal\n",
       "maxnnz:  0\n",
       "nnz:     15033\n",
       "success: true\n",
       ", SuiteSparse.CHOLMOD.Factor{Float64}\n",
       "type:    LLt\n",
       "method:  supernodal\n",
       "maxnnz:  0\n",
       "nnz:     15033\n",
       "success: true\n",
       "])"
      ]
     },
     "execution_count": 222,
     "metadata": {},
     "output_type": "execute_result"
    }
   ],
   "source": [
    "M"
   ]
  },
  {
   "cell_type": "code",
   "execution_count": 223,
   "metadata": {},
   "outputs": [
    {
     "data": {
      "text/plain": [
       "64-element Array{SuiteSparse.CHOLMOD.Factor{Float64},1}:\n",
       " SuiteSparse.CHOLMOD.Factor{Float64}\n",
       "type:    LLt\n",
       "method:  supernodal\n",
       "maxnnz:  0\n",
       "nnz:     15033\n",
       "success: true\n",
       "\n",
       " SuiteSparse.CHOLMOD.Factor{Float64}\n",
       "type:    LLt\n",
       "method:  supernodal\n",
       "maxnnz:  0\n",
       "nnz:     15033\n",
       "success: true\n",
       "\n",
       " SuiteSparse.CHOLMOD.Factor{Float64}\n",
       "type:    LLt\n",
       "method:  supernodal\n",
       "maxnnz:  0\n",
       "nnz:     15033\n",
       "success: true\n",
       "\n",
       " SuiteSparse.CHOLMOD.Factor{Float64}\n",
       "type:    LLt\n",
       "method:  supernodal\n",
       "maxnnz:  0\n",
       "nnz:     15033\n",
       "success: true\n",
       "\n",
       " SuiteSparse.CHOLMOD.Factor{Float64}\n",
       "type:    LLt\n",
       "method:  supernodal\n",
       "maxnnz:  0\n",
       "nnz:     15033\n",
       "success: true\n",
       "\n",
       " SuiteSparse.CHOLMOD.Factor{Float64}\n",
       "type:    LLt\n",
       "method:  supernodal\n",
       "maxnnz:  0\n",
       "nnz:     15033\n",
       "success: true\n",
       "\n",
       " SuiteSparse.CHOLMOD.Factor{Float64}\n",
       "type:    LLt\n",
       "method:  supernodal\n",
       "maxnnz:  0\n",
       "nnz:     15033\n",
       "success: true\n",
       "\n",
       " SuiteSparse.CHOLMOD.Factor{Float64}\n",
       "type:    LLt\n",
       "method:  supernodal\n",
       "maxnnz:  0\n",
       "nnz:     15033\n",
       "success: true\n",
       "\n",
       " SuiteSparse.CHOLMOD.Factor{Float64}\n",
       "type:    LLt\n",
       "method:  supernodal\n",
       "maxnnz:  0\n",
       "nnz:     15033\n",
       "success: true\n",
       "\n",
       " SuiteSparse.CHOLMOD.Factor{Float64}\n",
       "type:    LLt\n",
       "method:  supernodal\n",
       "maxnnz:  0\n",
       "nnz:     15033\n",
       "success: true\n",
       "\n",
       " SuiteSparse.CHOLMOD.Factor{Float64}\n",
       "type:    LLt\n",
       "method:  supernodal\n",
       "maxnnz:  0\n",
       "nnz:     15033\n",
       "success: true\n",
       "\n",
       " SuiteSparse.CHOLMOD.Factor{Float64}\n",
       "type:    LLt\n",
       "method:  supernodal\n",
       "maxnnz:  0\n",
       "nnz:     15033\n",
       "success: true\n",
       "\n",
       " SuiteSparse.CHOLMOD.Factor{Float64}\n",
       "type:    LLt\n",
       "method:  supernodal\n",
       "maxnnz:  0\n",
       "nnz:     15033\n",
       "success: true\n",
       "\n",
       " ⋮                                                                                                            \n",
       " SuiteSparse.CHOLMOD.Factor{Float64}\n",
       "type:    LLt\n",
       "method:  supernodal\n",
       "maxnnz:  0\n",
       "nnz:     15033\n",
       "success: true\n",
       "\n",
       " SuiteSparse.CHOLMOD.Factor{Float64}\n",
       "type:    LLt\n",
       "method:  supernodal\n",
       "maxnnz:  0\n",
       "nnz:     15033\n",
       "success: true\n",
       "\n",
       " SuiteSparse.CHOLMOD.Factor{Float64}\n",
       "type:    LLt\n",
       "method:  supernodal\n",
       "maxnnz:  0\n",
       "nnz:     15033\n",
       "success: true\n",
       "\n",
       " SuiteSparse.CHOLMOD.Factor{Float64}\n",
       "type:    LLt\n",
       "method:  supernodal\n",
       "maxnnz:  0\n",
       "nnz:     15033\n",
       "success: true\n",
       "\n",
       " SuiteSparse.CHOLMOD.Factor{Float64}\n",
       "type:    LLt\n",
       "method:  supernodal\n",
       "maxnnz:  0\n",
       "nnz:     15033\n",
       "success: true\n",
       "\n",
       " SuiteSparse.CHOLMOD.Factor{Float64}\n",
       "type:    LLt\n",
       "method:  supernodal\n",
       "maxnnz:  0\n",
       "nnz:     15033\n",
       "success: true\n",
       "\n",
       " SuiteSparse.CHOLMOD.Factor{Float64}\n",
       "type:    LLt\n",
       "method:  supernodal\n",
       "maxnnz:  0\n",
       "nnz:     15033\n",
       "success: true\n",
       "\n",
       " SuiteSparse.CHOLMOD.Factor{Float64}\n",
       "type:    LLt\n",
       "method:  supernodal\n",
       "maxnnz:  0\n",
       "nnz:     15033\n",
       "success: true\n",
       "\n",
       " SuiteSparse.CHOLMOD.Factor{Float64}\n",
       "type:    LLt\n",
       "method:  supernodal\n",
       "maxnnz:  0\n",
       "nnz:     15033\n",
       "success: true\n",
       "\n",
       " SuiteSparse.CHOLMOD.Factor{Float64}\n",
       "type:    LLt\n",
       "method:  supernodal\n",
       "maxnnz:  0\n",
       "nnz:     15033\n",
       "success: true\n",
       "\n",
       " SuiteSparse.CHOLMOD.Factor{Float64}\n",
       "type:    LLt\n",
       "method:  supernodal\n",
       "maxnnz:  0\n",
       "nnz:     15033\n",
       "success: true\n",
       "\n",
       " SuiteSparse.CHOLMOD.Factor{Float64}\n",
       "type:    LLt\n",
       "method:  supernodal\n",
       "maxnnz:  0\n",
       "nnz:     15033\n",
       "success: true\n"
      ]
     },
     "execution_count": 223,
     "metadata": {},
     "output_type": "execute_result"
    }
   ],
   "source": [
    "locfactors = M.F"
   ]
  },
  {
   "cell_type": "code",
   "execution_count": 224,
   "metadata": {},
   "outputs": [
    {
     "data": {
      "text/plain": [
       "(M̃ = \n",
       "  [1  ,   1]  =  11.5809\n",
       "  [2  ,   1]  =  0.801039\n",
       "  [3  ,   1]  =  -0.820124\n",
       "  [4  ,   1]  =  0.337643\n",
       "  [5  ,   1]  =  -0.0274042\n",
       "  [6  ,   1]  =  -0.0128202\n",
       "  [7  ,   1]  =  -1.09617e-18\n",
       "  [9  ,   1]  =  3.42553e-20\n",
       "  [18 ,   1]  =  0.801039\n",
       "  [35 ,   1]  =  -0.820124\n",
       "  [52 ,   1]  =  0.337643\n",
       "  [69 ,   1]  =  -0.0274042\n",
       "  ⋮\n",
       "  [204, 289]  =  -0.0128202\n",
       "  [221, 289]  =  -0.0274042\n",
       "  [238, 289]  =  0.337643\n",
       "  [255, 289]  =  -0.820124\n",
       "  [272, 289]  =  0.801039\n",
       "  [281, 289]  =  3.42553e-20\n",
       "  [283, 289]  =  -1.09617e-18\n",
       "  [284, 289]  =  -0.0128202\n",
       "  [285, 289]  =  -0.0274042\n",
       "  [286, 289]  =  0.337643\n",
       "  [287, 289]  =  -0.820124\n",
       "  [288, 289]  =  0.801039\n",
       "  [289, 289]  =  11.5809, F = (\n",
       "  [1  ,  1]  =  -6.06879\n",
       "  [2  ,  1]  =  -1.2638\n",
       "  [3  ,  1]  =  0.947847\n",
       "  [4  ,  1]  =  -0.421265\n",
       "  [5  ,  1]  =  0.0789873\n",
       "  [18 ,  2]  =  -26.7069\n",
       "  [19 ,  2]  =  -5.56157\n",
       "  [20 ,  2]  =  4.17118\n",
       "  [21 ,  2]  =  -1.85386\n",
       "  [22 ,  2]  =  0.347598\n",
       "  [35 ,  3]  =  -12.054\n",
       "  [36 ,  3]  =  -2.51019\n",
       "  ⋮\n",
       "  [241, 15]  =  1.88264\n",
       "  [242, 15]  =  -0.836728\n",
       "  [243, 15]  =  0.156887\n",
       "  [256, 16]  =  -26.7069\n",
       "  [257, 16]  =  -5.56157\n",
       "  [258, 16]  =  4.17118\n",
       "  [259, 16]  =  -1.85386\n",
       "  [260, 16]  =  0.347598\n",
       "  [273, 17]  =  -6.06879\n",
       "  [274, 17]  =  -1.2638\n",
       "  [275, 17]  =  0.947847\n",
       "  [276, 17]  =  -0.421265\n",
       "  [277, 17]  =  0.0789873, \n",
       "  [13 ,  1]  =  0.0789873\n",
       "  [14 ,  1]  =  -0.421265\n",
       "  [15 ,  1]  =  0.947847\n",
       "  [16 ,  1]  =  -1.2638\n",
       "  [17 ,  1]  =  -6.06879\n",
       "  [30 ,  2]  =  0.347598\n",
       "  [31 ,  2]  =  -1.85386\n",
       "  [32 ,  2]  =  4.17118\n",
       "  [33 ,  2]  =  -5.56157\n",
       "  [34 ,  2]  =  -26.7069\n",
       "  [47 ,  3]  =  0.156887\n",
       "  [48 ,  3]  =  -0.836728\n",
       "  ⋮\n",
       "  [253, 15]  =  1.88264\n",
       "  [254, 15]  =  -2.51019\n",
       "  [255, 15]  =  -12.054\n",
       "  [268, 16]  =  0.347598\n",
       "  [269, 16]  =  -1.85386\n",
       "  [270, 16]  =  4.17118\n",
       "  [271, 16]  =  -5.56157\n",
       "  [272, 16]  =  -26.7069\n",
       "  [285, 17]  =  0.0789873\n",
       "  [286, 17]  =  -0.421265\n",
       "  [287, 17]  =  0.947847\n",
       "  [288, 17]  =  -1.2638\n",
       "  [289, 17]  =  -6.06879, \n",
       "  [1 ,  1]  =  -6.06879\n",
       "  [18,  1]  =  -1.2638\n",
       "  [35,  1]  =  0.947847\n",
       "  [52,  1]  =  -0.421265\n",
       "  [69,  1]  =  0.0789873\n",
       "  [2 ,  2]  =  -26.7069\n",
       "  [19,  2]  =  -5.56157\n",
       "  [36,  2]  =  4.17118\n",
       "  [53,  2]  =  -1.85386\n",
       "  [70,  2]  =  0.347598\n",
       "  [3 ,  3]  =  -12.054\n",
       "  [20,  3]  =  -2.51019\n",
       "  ⋮\n",
       "  [49, 15]  =  1.88264\n",
       "  [66, 15]  =  -0.836728\n",
       "  [83, 15]  =  0.156887\n",
       "  [16, 16]  =  -26.7069\n",
       "  [33, 16]  =  -5.56157\n",
       "  [50, 16]  =  4.17118\n",
       "  [67, 16]  =  -1.85386\n",
       "  [84, 16]  =  0.347598\n",
       "  [17, 17]  =  -6.06879\n",
       "  [34, 17]  =  -1.2638\n",
       "  [51, 17]  =  0.947847\n",
       "  [68, 17]  =  -0.421265\n",
       "  [85, 17]  =  0.0789873, \n",
       "  [205,  1]  =  0.0789873\n",
       "  [222,  1]  =  -0.421265\n",
       "  [239,  1]  =  0.947847\n",
       "  [256,  1]  =  -1.2638\n",
       "  [273,  1]  =  -6.06879\n",
       "  [206,  2]  =  0.347598\n",
       "  [223,  2]  =  -1.85386\n",
       "  [240,  2]  =  4.17118\n",
       "  [257,  2]  =  -5.56157\n",
       "  [274,  2]  =  -26.7069\n",
       "  [207,  3]  =  0.156887\n",
       "  [224,  3]  =  -0.836728\n",
       "  ⋮\n",
       "  [253, 15]  =  1.88264\n",
       "  [270, 15]  =  -2.51019\n",
       "  [287, 15]  =  -12.054\n",
       "  [220, 16]  =  0.347598\n",
       "  [237, 16]  =  -1.85386\n",
       "  [254, 16]  =  4.17118\n",
       "  [271, 16]  =  -5.56157\n",
       "  [288, 16]  =  -26.7069\n",
       "  [221, 17]  =  0.0789873\n",
       "  [238, 17]  =  -0.421265\n",
       "  [255, 17]  =  0.947847\n",
       "  [272, 17]  =  -1.2638\n",
       "  [289, 17]  =  -6.06879), coord = ([0.25 0.25 … 0.25 0.25; 0.2578125 0.2578125 … 0.2578125 0.2578125; … ; 0.3671875 0.3671875 … 0.3671875 0.3671875; 0.375 0.375 … 0.375 0.375], [-0.5 -0.4921875 … -0.3828125 -0.375; -0.5 -0.4921875 … -0.3828125 -0.375; … ; -0.5 -0.4921875 … -0.3828125 -0.375; -0.5 -0.4921875 … -0.3828125 -0.375]), facecoord = (([0.25, 0.25, 0.25, 0.25, 0.25, 0.25, 0.25, 0.25, 0.25, 0.25, 0.25, 0.25, 0.25, 0.25, 0.25, 0.25, 0.25], [0.375, 0.375, 0.375, 0.375, 0.375, 0.375, 0.375, 0.375, 0.375, 0.375, 0.375, 0.375, 0.375, 0.375, 0.375, 0.375, 0.375], [0.25, 0.2578125, 0.265625, 0.2734375, 0.28125, 0.2890625, 0.296875, 0.3046875, 0.3125, 0.3203125, 0.328125, 0.3359375, 0.34375, 0.3515625, 0.359375, 0.3671875, 0.375], [0.25, 0.2578125, 0.265625, 0.2734375, 0.28125, 0.2890625, 0.296875, 0.3046875, 0.3125, 0.3203125, 0.328125, 0.3359375, 0.34375, 0.3515625, 0.359375, 0.3671875, 0.375]), ([-0.5, -0.4921875, -0.484375, -0.4765625, -0.46875, -0.4609375, -0.453125, -0.4453125, -0.4375, -0.4296875, -0.421875, -0.4140625, -0.40625, -0.3984375, -0.390625, -0.3828125, -0.375], [-0.5, -0.4921875, -0.484375, -0.4765625, -0.46875, -0.4609375, -0.453125, -0.4453125, -0.4375, -0.4296875, -0.421875, -0.4140625, -0.40625, -0.3984375, -0.390625, -0.3828125, -0.375], [-0.5, -0.5, -0.5, -0.5, -0.5, -0.5, -0.5, -0.5, -0.5, -0.5, -0.5, -0.5, -0.5, -0.5, -0.5, -0.5, -0.5], [-0.375, -0.375, -0.375, -0.375, -0.375, -0.375, -0.375, -0.375, -0.375, -0.375, -0.375, -0.375, -0.375, -0.375, -0.375, -0.375, -0.375])), JH = \n",
       "  [1  ,   1]  =  6.09276e-6\n",
       "  [2  ,   2]  =  2.68124e-5\n",
       "  [3  ,   3]  =  1.21016e-5\n",
       "  [4  ,   4]  =  2.3922e-5\n",
       "  [5  ,   5]  =  1.7581e-5\n",
       "  [6  ,   6]  =  1.95523e-5\n",
       "  [7  ,   7]  =  1.9284e-5\n",
       "  [8  ,   8]  =  1.9284e-5\n",
       "  [9  ,   9]  =  1.9284e-5\n",
       "  [10 ,  10]  =  1.9284e-5\n",
       "  [11 ,  11]  =  1.9284e-5\n",
       "  [12 ,  12]  =  1.95523e-5\n",
       "  ⋮\n",
       "  [277, 277]  =  1.7581e-5\n",
       "  [278, 278]  =  1.95523e-5\n",
       "  [279, 279]  =  1.9284e-5\n",
       "  [280, 280]  =  1.9284e-5\n",
       "  [281, 281]  =  1.9284e-5\n",
       "  [282, 282]  =  1.9284e-5\n",
       "  [283, 283]  =  1.9284e-5\n",
       "  [284, 284]  =  1.95523e-5\n",
       "  [285, 285]  =  1.7581e-5\n",
       "  [286, 286]  =  2.3922e-5\n",
       "  [287, 287]  =  1.21016e-5\n",
       "  [288, 288]  =  2.68124e-5\n",
       "  [289, 289]  =  6.09276e-6, sJ = ([0.0625, 0.0625, 0.0625, 0.0625, 0.0625, 0.0625, 0.0625, 0.0625, 0.0625, 0.0625, 0.0625, 0.0625, 0.0625, 0.0625, 0.0625, 0.0625, 0.0625], [0.0625, 0.0625, 0.0625, 0.0625, 0.0625, 0.0625, 0.0625, 0.0625, 0.0625, 0.0625, 0.0625, 0.0625, 0.0625, 0.0625, 0.0625, 0.0625, 0.0625], [0.0625, 0.0625, 0.0625, 0.0625, 0.0625, 0.0625, 0.0625, 0.0625, 0.0625, 0.0625, 0.0625, 0.0625, 0.0625, 0.0625, 0.0625, 0.0625, 0.0625], [0.0625, 0.0625, 0.0625, 0.0625, 0.0625, 0.0625, 0.0625, 0.0625, 0.0625, 0.0625, 0.0625, 0.0625, 0.0625, 0.0625, 0.0625, 0.0625, 0.0625]), nx = ([-1.0, -1.0, -1.0, -1.0, -1.0, -1.0, -1.0, -1.0, -1.0, -1.0, -1.0, -1.0, -1.0, -1.0, -1.0, -1.0, -1.0], [1.0, 1.0, 1.0, 1.0, 1.0, 1.0, 1.0, 1.0, 1.0, 1.0, 1.0, 1.0, 1.0, 1.0, 1.0, 1.0, 1.0], [0.0, 0.0, 0.0, 0.0, 0.0, 0.0, 0.0, 0.0, 0.0, 0.0, 0.0, 0.0, 0.0, 0.0, 0.0, 0.0, 0.0], [-0.0, -0.0, -0.0, -0.0, -0.0, -0.0, -0.0, -0.0, -0.0, -0.0, -0.0, -0.0, -0.0, -0.0, -0.0, -0.0, -0.0]), ny = ([0.0, 0.0, 0.0, 0.0, 0.0, 0.0, 0.0, 0.0, 0.0, 0.0, 0.0, 0.0, 0.0, 0.0, 0.0, 0.0, 0.0], [-0.0, -0.0, -0.0, -0.0, -0.0, -0.0, -0.0, -0.0, -0.0, -0.0, -0.0, -0.0, -0.0, -0.0, -0.0, -0.0, -0.0], [-1.0, -1.0, -1.0, -1.0, -1.0, -1.0, -1.0, -1.0, -1.0, -1.0, -1.0, -1.0, -1.0, -1.0, -1.0, -1.0, -1.0], [1.0, 1.0, 1.0, 1.0, 1.0, 1.0, 1.0, 1.0, 1.0, 1.0, 1.0, 1.0, 1.0, 1.0, 1.0, 1.0, 1.0]), Hf = (\n",
       "  [1 ,  1]  =  0.0394936\n",
       "  [2 ,  2]  =  0.173799\n",
       "  [3 ,  3]  =  0.0784433\n",
       "  [4 ,  4]  =  0.155064\n",
       "  [5 ,  5]  =  0.113961\n",
       "  [6 ,  6]  =  0.126739\n",
       "  [7 ,  7]  =  0.125\n",
       "  [8 ,  8]  =  0.125\n",
       "  [9 ,  9]  =  0.125\n",
       "  [10, 10]  =  0.125\n",
       "  [11, 11]  =  0.125\n",
       "  [12, 12]  =  0.126739\n",
       "  [13, 13]  =  0.113961\n",
       "  [14, 14]  =  0.155064\n",
       "  [15, 15]  =  0.0784433\n",
       "  [16, 16]  =  0.173799\n",
       "  [17, 17]  =  0.0394936, \n",
       "  [1 ,  1]  =  0.0394936\n",
       "  [2 ,  2]  =  0.173799\n",
       "  [3 ,  3]  =  0.0784433\n",
       "  [4 ,  4]  =  0.155064\n",
       "  [5 ,  5]  =  0.113961\n",
       "  [6 ,  6]  =  0.126739\n",
       "  [7 ,  7]  =  0.125\n",
       "  [8 ,  8]  =  0.125\n",
       "  [9 ,  9]  =  0.125\n",
       "  [10, 10]  =  0.125\n",
       "  [11, 11]  =  0.125\n",
       "  [12, 12]  =  0.126739\n",
       "  [13, 13]  =  0.113961\n",
       "  [14, 14]  =  0.155064\n",
       "  [15, 15]  =  0.0784433\n",
       "  [16, 16]  =  0.173799\n",
       "  [17, 17]  =  0.0394936, \n",
       "  [1 ,  1]  =  0.0394936\n",
       "  [2 ,  2]  =  0.173799\n",
       "  [3 ,  3]  =  0.0784433\n",
       "  [4 ,  4]  =  0.155064\n",
       "  [5 ,  5]  =  0.113961\n",
       "  [6 ,  6]  =  0.126739\n",
       "  [7 ,  7]  =  0.125\n",
       "  [8 ,  8]  =  0.125\n",
       "  [9 ,  9]  =  0.125\n",
       "  [10, 10]  =  0.125\n",
       "  [11, 11]  =  0.125\n",
       "  [12, 12]  =  0.126739\n",
       "  [13, 13]  =  0.113961\n",
       "  [14, 14]  =  0.155064\n",
       "  [15, 15]  =  0.0784433\n",
       "  [16, 16]  =  0.173799\n",
       "  [17, 17]  =  0.0394936, \n",
       "  [1 ,  1]  =  0.0394936\n",
       "  [2 ,  2]  =  0.173799\n",
       "  [3 ,  3]  =  0.0784433\n",
       "  [4 ,  4]  =  0.155064\n",
       "  [5 ,  5]  =  0.113961\n",
       "  [6 ,  6]  =  0.126739\n",
       "  [7 ,  7]  =  0.125\n",
       "  [8 ,  8]  =  0.125\n",
       "  [9 ,  9]  =  0.125\n",
       "  [10, 10]  =  0.125\n",
       "  [11, 11]  =  0.125\n",
       "  [12, 12]  =  0.126739\n",
       "  [13, 13]  =  0.113961\n",
       "  [14, 14]  =  0.155064\n",
       "  [15, 15]  =  0.0784433\n",
       "  [16, 16]  =  0.173799\n",
       "  [17, 17]  =  0.0394936), HfI = (\n",
       "  [1 ,  1]  =  25.3205\n",
       "  [2 ,  2]  =  5.75377\n",
       "  [3 ,  3]  =  12.7481\n",
       "  [4 ,  4]  =  6.44896\n",
       "  [5 ,  5]  =  8.77491\n",
       "  [6 ,  6]  =  7.89023\n",
       "  [7 ,  7]  =  8.0\n",
       "  [8 ,  8]  =  8.0\n",
       "  [9 ,  9]  =  8.0\n",
       "  [10, 10]  =  8.0\n",
       "  [11, 11]  =  8.0\n",
       "  [12, 12]  =  7.89023\n",
       "  [13, 13]  =  8.77491\n",
       "  [14, 14]  =  6.44896\n",
       "  [15, 15]  =  12.7481\n",
       "  [16, 16]  =  5.75377\n",
       "  [17, 17]  =  25.3205, \n",
       "  [1 ,  1]  =  25.3205\n",
       "  [2 ,  2]  =  5.75377\n",
       "  [3 ,  3]  =  12.7481\n",
       "  [4 ,  4]  =  6.44896\n",
       "  [5 ,  5]  =  8.77491\n",
       "  [6 ,  6]  =  7.89023\n",
       "  [7 ,  7]  =  8.0\n",
       "  [8 ,  8]  =  8.0\n",
       "  [9 ,  9]  =  8.0\n",
       "  [10, 10]  =  8.0\n",
       "  [11, 11]  =  8.0\n",
       "  [12, 12]  =  7.89023\n",
       "  [13, 13]  =  8.77491\n",
       "  [14, 14]  =  6.44896\n",
       "  [15, 15]  =  12.7481\n",
       "  [16, 16]  =  5.75377\n",
       "  [17, 17]  =  25.3205, \n",
       "  [1 ,  1]  =  25.3205\n",
       "  [2 ,  2]  =  5.75377\n",
       "  [3 ,  3]  =  12.7481\n",
       "  [4 ,  4]  =  6.44896\n",
       "  [5 ,  5]  =  8.77491\n",
       "  [6 ,  6]  =  7.89023\n",
       "  [7 ,  7]  =  8.0\n",
       "  [8 ,  8]  =  8.0\n",
       "  [9 ,  9]  =  8.0\n",
       "  [10, 10]  =  8.0\n",
       "  [11, 11]  =  8.0\n",
       "  [12, 12]  =  7.89023\n",
       "  [13, 13]  =  8.77491\n",
       "  [14, 14]  =  6.44896\n",
       "  [15, 15]  =  12.7481\n",
       "  [16, 16]  =  5.75377\n",
       "  [17, 17]  =  25.3205, \n",
       "  [1 ,  1]  =  25.3205\n",
       "  [2 ,  2]  =  5.75377\n",
       "  [3 ,  3]  =  12.7481\n",
       "  [4 ,  4]  =  6.44896\n",
       "  [5 ,  5]  =  8.77491\n",
       "  [6 ,  6]  =  7.89023\n",
       "  [7 ,  7]  =  8.0\n",
       "  [8 ,  8]  =  8.0\n",
       "  [9 ,  9]  =  8.0\n",
       "  [10, 10]  =  8.0\n",
       "  [11, 11]  =  8.0\n",
       "  [12, 12]  =  7.89023\n",
       "  [13, 13]  =  8.77491\n",
       "  [14, 14]  =  6.44896\n",
       "  [15, 15]  =  12.7481\n",
       "  [16, 16]  =  5.75377\n",
       "  [17, 17]  =  25.3205), τ = (\n",
       "  [1 ,  1]  =  170.332\n",
       "  [2 ,  2]  =  170.332\n",
       "  [3 ,  3]  =  170.332\n",
       "  [4 ,  4]  =  170.332\n",
       "  [5 ,  5]  =  170.332\n",
       "  [6 ,  6]  =  170.332\n",
       "  [7 ,  7]  =  170.332\n",
       "  [8 ,  8]  =  170.332\n",
       "  [9 ,  9]  =  170.332\n",
       "  [10, 10]  =  170.332\n",
       "  [11, 11]  =  170.332\n",
       "  [12, 12]  =  170.332\n",
       "  [13, 13]  =  170.332\n",
       "  [14, 14]  =  170.332\n",
       "  [15, 15]  =  170.332\n",
       "  [16, 16]  =  170.332\n",
       "  [17, 17]  =  170.332, \n",
       "  [1 ,  1]  =  170.332\n",
       "  [2 ,  2]  =  170.332\n",
       "  [3 ,  3]  =  170.332\n",
       "  [4 ,  4]  =  170.332\n",
       "  [5 ,  5]  =  170.332\n",
       "  [6 ,  6]  =  170.332\n",
       "  [7 ,  7]  =  170.332\n",
       "  [8 ,  8]  =  170.332\n",
       "  [9 ,  9]  =  170.332\n",
       "  [10, 10]  =  170.332\n",
       "  [11, 11]  =  170.332\n",
       "  [12, 12]  =  170.332\n",
       "  [13, 13]  =  170.332\n",
       "  [14, 14]  =  170.332\n",
       "  [15, 15]  =  170.332\n",
       "  [16, 16]  =  170.332\n",
       "  [17, 17]  =  170.332, \n",
       "  [1 ,  1]  =  170.332\n",
       "  [2 ,  2]  =  170.332\n",
       "  [3 ,  3]  =  170.332\n",
       "  [4 ,  4]  =  170.332\n",
       "  [5 ,  5]  =  170.332\n",
       "  [6 ,  6]  =  170.332\n",
       "  [7 ,  7]  =  170.332\n",
       "  [8 ,  8]  =  170.332\n",
       "  [9 ,  9]  =  170.332\n",
       "  [10, 10]  =  170.332\n",
       "  [11, 11]  =  170.332\n",
       "  [12, 12]  =  170.332\n",
       "  [13, 13]  =  170.332\n",
       "  [14, 14]  =  170.332\n",
       "  [15, 15]  =  170.332\n",
       "  [16, 16]  =  170.332\n",
       "  [17, 17]  =  170.332, \n",
       "  [1 ,  1]  =  170.332\n",
       "  [2 ,  2]  =  170.332\n",
       "  [3 ,  3]  =  170.332\n",
       "  [4 ,  4]  =  170.332\n",
       "  [5 ,  5]  =  170.332\n",
       "  [6 ,  6]  =  170.332\n",
       "  [7 ,  7]  =  170.332\n",
       "  [8 ,  8]  =  170.332\n",
       "  [9 ,  9]  =  170.332\n",
       "  [10, 10]  =  170.332\n",
       "  [11, 11]  =  170.332\n",
       "  [12, 12]  =  170.332\n",
       "  [13, 13]  =  170.332\n",
       "  [14, 14]  =  170.332\n",
       "  [15, 15]  =  170.332\n",
       "  [16, 16]  =  170.332\n",
       "  [17, 17]  =  170.332), bctype = (0, 0, 1, 0))"
      ]
     },
     "execution_count": 224,
     "metadata": {},
     "output_type": "execute_result"
    }
   ],
   "source": [
    "lop[1]"
   ]
  },
  {
   "cell_type": "code",
   "execution_count": 225,
   "metadata": {},
   "outputs": [],
   "source": [
    "FToδstarts = bcstarts(FToB, FToE, FToLF, BC_JUMP_INTERFACE, Nr, Ns);"
   ]
  },
  {
   "cell_type": "code",
   "execution_count": 226,
   "metadata": {},
   "outputs": [
    {
     "data": {
      "text/plain": [
       "0"
      ]
     },
     "execution_count": 226,
     "metadata": {},
     "output_type": "execute_result"
    }
   ],
   "source": [
    "VNp = vstarts[nelems+1] - 1\n",
    "λNp = FToλstarts[nfaces+1] - 1\n",
    "δNp = FToδstarts[nfaces+1] - 1"
   ]
  },
  {
   "cell_type": "code",
   "execution_count": 227,
   "metadata": {},
   "outputs": [
    {
     "data": {
      "text/plain": [
       "65-element Array{Int64,1}:\n",
       "     1\n",
       "   290\n",
       "   579\n",
       "   868\n",
       "  1157\n",
       "  1446\n",
       "  1735\n",
       "  2024\n",
       "  2313\n",
       "  2602\n",
       "  2891\n",
       "  3180\n",
       "  3469\n",
       "     ⋮\n",
       " 15318\n",
       " 15607\n",
       " 15896\n",
       " 16185\n",
       " 16474\n",
       " 16763\n",
       " 17052\n",
       " 17341\n",
       " 17630\n",
       " 17919\n",
       " 18208\n",
       " 18497"
      ]
     },
     "execution_count": 227,
     "metadata": {},
     "output_type": "execute_result"
    }
   ],
   "source": [
    "vstarts"
   ]
  },
  {
   "cell_type": "code",
   "execution_count": 228,
   "metadata": {},
   "outputs": [
    {
     "data": {
      "text/plain": [
       "BenchmarkTools.Trial: \n",
       "  memory estimate:  276.49 MiB\n",
       "  allocs estimate:  2234993\n",
       "  --------------\n",
       "  minimum time:     243.223 ms (4.06% GC)\n",
       "  median time:      253.429 ms (5.52% GC)\n",
       "  mean time:        253.853 ms (5.30% GC)\n",
       "  maximum time:     271.803 ms (5.01% GC)\n",
       "  --------------\n",
       "  samples:          20\n",
       "  evals/sample:     1"
      ]
     },
     "execution_count": 228,
     "metadata": {},
     "output_type": "execute_result"
    }
   ],
   "source": [
    "@benchmark B = assembleλmatrix(FToλstarts,vstarts,EToF,FToB,locfactors,D,FbarT)"
   ]
  },
  {
   "cell_type": "code",
   "execution_count": 229,
   "metadata": {},
   "outputs": [
    {
     "data": {
      "text/plain": [
       "BenchmarkTools.Trial: \n",
       "  memory estimate:  276.49 MiB\n",
       "  allocs estimate:  2234993\n",
       "  --------------\n",
       "  minimum time:     241.096 ms (4.34% GC)\n",
       "  median time:      252.090 ms (5.49% GC)\n",
       "  mean time:        253.176 ms (5.35% GC)\n",
       "  maximum time:     269.086 ms (5.44% GC)\n",
       "  --------------\n",
       "  samples:          20\n",
       "  evals/sample:     1"
      ]
     },
     "execution_count": 229,
     "metadata": {},
     "output_type": "execute_result"
    }
   ],
   "source": [
    "@benchmark B = threaded_assembleλmatrix(FToλstarts,vstarts,EToF,FToB,locfactors,D,FbarT)"
   ]
  },
  {
   "cell_type": "markdown",
   "metadata": {},
   "source": [
    " assembleλmatrix can not be parallelized easily with @threads despite it has for loop over elements"
   ]
  },
  {
   "cell_type": "code",
   "execution_count": 230,
   "metadata": {},
   "outputs": [
    {
     "data": {
      "text/plain": [
       "408×408 SparseMatrixCSC{Float64,Int64} with 36992 stored entries:\n",
       "  [1  ,   1]  =  6.95753\n",
       "  [2  ,   1]  =  0.808076\n",
       "  [3  ,   1]  =  -0.76754\n",
       "  [4  ,   1]  =  0.245415\n",
       "  [5  ,   1]  =  0.0275435\n",
       "  [6  ,   1]  =  -0.022875\n",
       "  [7  ,   1]  =  -0.000761631\n",
       "  [8  ,   1]  =  -1.48435e-5\n",
       "  [9  ,   1]  =  -1.12919e-5\n",
       "  [10 ,   1]  =  -2.60621e-6\n",
       "  [11 ,   1]  =  -8.78924e-7\n",
       "  [12 ,   1]  =  -3.7289e-7\n",
       "  ⋮\n",
       "  [396, 408]  =  -1.46664e-7\n",
       "  [397, 408]  =  -3.7289e-7\n",
       "  [398, 408]  =  -8.78924e-7\n",
       "  [399, 408]  =  -2.60621e-6\n",
       "  [400, 408]  =  -1.12919e-5\n",
       "  [401, 408]  =  -1.48435e-5\n",
       "  [402, 408]  =  -0.000761631\n",
       "  [403, 408]  =  -0.022875\n",
       "  [404, 408]  =  0.0275435\n",
       "  [405, 408]  =  0.245415\n",
       "  [406, 408]  =  -0.76754\n",
       "  [407, 408]  =  0.808076\n",
       "  [408, 408]  =  6.95753"
      ]
     },
     "execution_count": 230,
     "metadata": {},
     "output_type": "execute_result"
    }
   ],
   "source": [
    "B"
   ]
  },
  {
   "cell_type": "code",
   "execution_count": 231,
   "metadata": {},
   "outputs": [
    {
     "data": {
      "text/plain": [
       "SuiteSparse.CHOLMOD.Factor{Float64}\n",
       "type:    LLt\n",
       "method:  supernodal\n",
       "maxnnz:  0\n",
       "nnz:     30549\n",
       "success: true\n"
      ]
     },
     "execution_count": 231,
     "metadata": {},
     "output_type": "execute_result"
    }
   ],
   "source": [
    "BF = cholesky(Symmetric(B))"
   ]
  },
  {
   "cell_type": "code",
   "execution_count": 232,
   "metadata": {},
   "outputs": [
    {
     "data": {
      "text/latex": [
       "\\begin{verbatim}\n",
       "Symmetric(A, uplo=:U)\n",
       "\\end{verbatim}\n",
       "Construct a \\texttt{Symmetric} view of the upper (if \\texttt{uplo = :U}) or lower (if \\texttt{uplo = :L}) triangle of the matrix \\texttt{A}.\n",
       "\n",
       "\\section{Examples}\n",
       "\\begin{verbatim}\n",
       "julia> A = [1 0 2 0 3; 0 4 0 5 0; 6 0 7 0 8; 0 9 0 1 0; 2 0 3 0 4]\n",
       "5×5 Array{Int64,2}:\n",
       " 1  0  2  0  3\n",
       " 0  4  0  5  0\n",
       " 6  0  7  0  8\n",
       " 0  9  0  1  0\n",
       " 2  0  3  0  4\n",
       "\n",
       "julia> Supper = Symmetric(A)\n",
       "5×5 Symmetric{Int64,Array{Int64,2}}:\n",
       " 1  0  2  0  3\n",
       " 0  4  0  5  0\n",
       " 2  0  7  0  8\n",
       " 0  5  0  1  0\n",
       " 3  0  8  0  4\n",
       "\n",
       "julia> Slower = Symmetric(A, :L)\n",
       "5×5 Symmetric{Int64,Array{Int64,2}}:\n",
       " 1  0  6  0  2\n",
       " 0  4  0  9  0\n",
       " 6  0  7  0  3\n",
       " 0  9  0  1  0\n",
       " 2  0  3  0  4\n",
       "\\end{verbatim}\n",
       "Note that \\texttt{Supper} will not be equal to \\texttt{Slower} unless \\texttt{A} is itself symmetric (e.g. if \\texttt{A == transpose(A)}).\n",
       "\n"
      ],
      "text/markdown": [
       "```\n",
       "Symmetric(A, uplo=:U)\n",
       "```\n",
       "\n",
       "Construct a `Symmetric` view of the upper (if `uplo = :U`) or lower (if `uplo = :L`) triangle of the matrix `A`.\n",
       "\n",
       "# Examples\n",
       "\n",
       "```jldoctest\n",
       "julia> A = [1 0 2 0 3; 0 4 0 5 0; 6 0 7 0 8; 0 9 0 1 0; 2 0 3 0 4]\n",
       "5×5 Array{Int64,2}:\n",
       " 1  0  2  0  3\n",
       " 0  4  0  5  0\n",
       " 6  0  7  0  8\n",
       " 0  9  0  1  0\n",
       " 2  0  3  0  4\n",
       "\n",
       "julia> Supper = Symmetric(A)\n",
       "5×5 Symmetric{Int64,Array{Int64,2}}:\n",
       " 1  0  2  0  3\n",
       " 0  4  0  5  0\n",
       " 2  0  7  0  8\n",
       " 0  5  0  1  0\n",
       " 3  0  8  0  4\n",
       "\n",
       "julia> Slower = Symmetric(A, :L)\n",
       "5×5 Symmetric{Int64,Array{Int64,2}}:\n",
       " 1  0  6  0  2\n",
       " 0  4  0  9  0\n",
       " 6  0  7  0  3\n",
       " 0  9  0  1  0\n",
       " 2  0  3  0  4\n",
       "```\n",
       "\n",
       "Note that `Supper` will not be equal to `Slower` unless `A` is itself symmetric (e.g. if `A == transpose(A)`).\n"
      ],
      "text/plain": [
       "\u001b[36m  Symmetric(A, uplo=:U)\u001b[39m\n",
       "\n",
       "  Construct a \u001b[36mSymmetric\u001b[39m view of the upper (if \u001b[36muplo = :U\u001b[39m) or lower (if \u001b[36muplo =\n",
       "  :L\u001b[39m) triangle of the matrix \u001b[36mA\u001b[39m.\n",
       "\n",
       "\u001b[1m  Examples\u001b[22m\n",
       "\u001b[1m  ≡≡≡≡≡≡≡≡≡≡\u001b[22m\n",
       "\n",
       "\u001b[36m  julia> A = [1 0 2 0 3; 0 4 0 5 0; 6 0 7 0 8; 0 9 0 1 0; 2 0 3 0 4]\u001b[39m\n",
       "\u001b[36m  5×5 Array{Int64,2}:\u001b[39m\n",
       "\u001b[36m   1  0  2  0  3\u001b[39m\n",
       "\u001b[36m   0  4  0  5  0\u001b[39m\n",
       "\u001b[36m   6  0  7  0  8\u001b[39m\n",
       "\u001b[36m   0  9  0  1  0\u001b[39m\n",
       "\u001b[36m   2  0  3  0  4\u001b[39m\n",
       "\u001b[36m  \u001b[39m\n",
       "\u001b[36m  julia> Supper = Symmetric(A)\u001b[39m\n",
       "\u001b[36m  5×5 Symmetric{Int64,Array{Int64,2}}:\u001b[39m\n",
       "\u001b[36m   1  0  2  0  3\u001b[39m\n",
       "\u001b[36m   0  4  0  5  0\u001b[39m\n",
       "\u001b[36m   2  0  7  0  8\u001b[39m\n",
       "\u001b[36m   0  5  0  1  0\u001b[39m\n",
       "\u001b[36m   3  0  8  0  4\u001b[39m\n",
       "\u001b[36m  \u001b[39m\n",
       "\u001b[36m  julia> Slower = Symmetric(A, :L)\u001b[39m\n",
       "\u001b[36m  5×5 Symmetric{Int64,Array{Int64,2}}:\u001b[39m\n",
       "\u001b[36m   1  0  6  0  2\u001b[39m\n",
       "\u001b[36m   0  4  0  9  0\u001b[39m\n",
       "\u001b[36m   6  0  7  0  3\u001b[39m\n",
       "\u001b[36m   0  9  0  1  0\u001b[39m\n",
       "\u001b[36m   2  0  3  0  4\u001b[39m\n",
       "\n",
       "  Note that \u001b[36mSupper\u001b[39m will not be equal to \u001b[36mSlower\u001b[39m unless \u001b[36mA\u001b[39m is itself symmetric\n",
       "  (e.g. if \u001b[36mA == transpose(A)\u001b[39m)."
      ]
     },
     "execution_count": 232,
     "metadata": {},
     "output_type": "execute_result"
    }
   ],
   "source": [
    "@doc Symmetric"
   ]
  },
  {
   "cell_type": "code",
   "execution_count": 233,
   "metadata": {},
   "outputs": [
    {
     "data": {
      "text/plain": [
       "([0.0, 0.0, 0.0, 0.0, 0.0, 0.0, 0.0, 0.0, 0.0, 0.0  …  0.0, 0.0, 0.0, 0.0, 0.0, 0.0, 0.0, 0.0, 0.0, 0.0], [0.0, 0.0, 0.0, 0.0, 0.0, 0.0, 0.0, 0.0, 0.0, 0.0  …  0.0, 0.0, 0.0, 0.0, 0.0, 0.0, 0.0, 0.0, 0.0, 0.0], [0.0, 0.0, 0.0, 0.0, 0.0, 0.0, 0.0, 0.0, 0.0, 0.0  …  0.0, 0.0, 0.0, 0.0, 0.0, 0.0, 0.0, 0.0, 0.0, 0.0])"
      ]
     },
     "execution_count": 233,
     "metadata": {},
     "output_type": "execute_result"
    }
   ],
   "source": [
    "(bλ,λ,gδ) = (zeros(λNp), zeros(λNp), zeros(λNp)) "
   ]
  },
  {
   "cell_type": "code",
   "execution_count": 234,
   "metadata": {},
   "outputs": [
    {
     "data": {
      "text/plain": [
       "([0.0, 0.0, 0.0, 0.0, 0.0, 0.0, 0.0, 0.0, 0.0, 0.0  …  0.0, 0.0, 0.0, 0.0, 0.0, 0.0, 0.0, 0.0, 0.0, 0.0], [0.0, 0.0, 0.0, 0.0, 0.0, 0.0, 0.0, 0.0, 0.0, 0.0  …  0.0, 0.0, 0.0, 0.0, 0.0, 0.0, 0.0, 0.0, 0.0, 0.0], [0.0, 0.0, 0.0, 0.0, 0.0, 0.0, 0.0, 0.0, 0.0, 0.0  …  0.0, 0.0, 0.0, 0.0, 0.0, 0.0, 0.0, 0.0, 0.0, 0.0])"
      ]
     },
     "execution_count": 234,
     "metadata": {},
     "output_type": "execute_result"
    }
   ],
   "source": [
    "(Δ,u,g) = (zeros(VNp), zeros(VNp), zeros(VNp))"
   ]
  },
  {
   "cell_type": "code",
   "execution_count": 235,
   "metadata": {},
   "outputs": [
    {
     "data": {
      "text/plain": [
       "0-element Array{Float64,1}"
      ]
     },
     "execution_count": 235,
     "metadata": {},
     "output_type": "execute_result"
    }
   ],
   "source": [
    "δ = zeros(δNp)"
   ]
  },
  {
   "cell_type": "code",
   "execution_count": 236,
   "metadata": {},
   "outputs": [],
   "source": [
    "for f = 1:nfaces\n",
    "    if FToB[f] == BC_JUMP_INTERFACE\n",
    "        (e1, e2) = FToE[:,f]\n",
    "        (lf1, lf2) = FToLF[:,f]\n",
    "        (xf, yf) = lop[e1].facecoord\n",
    "        @views δ[FToδstarts[f]:(FToδstarts[f+1]-1)] = \n",
    "            vex(xf[lf1],yf[lf1],e2) - vex(xf[lf1],yf[lf1],e1)\n",
    "    end\n",
    "end"
   ]
  },
  {
   "cell_type": "code",
   "execution_count": 237,
   "metadata": {},
   "outputs": [
    {
     "data": {
      "text/plain": [
       "#735 (generic function with 1 method)"
      ]
     },
     "execution_count": 237,
     "metadata": {},
     "output_type": "execute_result"
    }
   ],
   "source": [
    "bc_Dirichlet = (lf, x, y, e, δ) -> vex(x,y,e)\n",
    "bc_Neumann   = (lf, x, y, nx, ny, e, δ) -> (nx .* vex_x(x,y,e) + ny .* vex(x,y,e))"
   ]
  },
  {
   "cell_type": "code",
   "execution_count": 238,
   "metadata": {},
   "outputs": [
    {
     "data": {
      "text/plain": [
       "#737 (generic function with 1 method)"
      ]
     },
     "execution_count": 238,
     "metadata": {},
     "output_type": "execute_result"
    }
   ],
   "source": [
    "in_jump      = (lf, x, y, e, δ) -> begin\n",
    "    f = EToF[lf, e]\n",
    "    if EToS[lf, e] == 1\n",
    "        if EToO[lf, e]\n",
    "            return -δ[FToδstarts[f]:(FToδstarts[f+1]-1)]\n",
    "        else\n",
    "            error(\"shouldn't get here\")\n",
    "        end\n",
    "    else\n",
    "        if EToO[lf,e]\n",
    "            return δ[FToδstarts[f]:(FToδstarts[f+1]-1)]\n",
    "        else\n",
    "            return δ[(FToδstarts[f+1]-1):-1:FToδstarts[f]]\n",
    "        end\n",
    "    end\n",
    "end\n",
    "    "
   ]
  },
  {
   "cell_type": "code",
   "execution_count": 239,
   "metadata": {},
   "outputs": [
    {
     "data": {
      "text/plain": [
       "BenchmarkTools.Trial: \n",
       "  memory estimate:  2.93 MiB\n",
       "  allocs estimate:  5006\n",
       "  --------------\n",
       "  minimum time:     1.469 ms (0.00% GC)\n",
       "  median time:      1.513 ms (0.00% GC)\n",
       "  mean time:        1.718 ms (9.11% GC)\n",
       "  maximum time:     6.597 ms (69.18% GC)\n",
       "  --------------\n",
       "  samples:          2906\n",
       "  evals/sample:     1"
      ]
     },
     "execution_count": 239,
     "metadata": {},
     "output_type": "execute_result"
    }
   ],
   "source": [
    "@benchmark for e = 1:nelems\n",
    "      gδe = ntuple(4) do lf\n",
    "        f = EToF[lf, e]\n",
    "        if EToO[lf, e]\n",
    "          return @view gδ[FToλstarts[f]:(FToλstarts[f+1]-1)]\n",
    "        else\n",
    "          return  @view gδ[(FToλstarts[f+1]-1):-1:FToλstarts[f]]\n",
    "        end\n",
    "      end\n",
    "      locbcarray!((@view g[vstarts[e]:vstarts[e+1]-1]), gδe, lop[e],\n",
    "                  FToB[EToF[:,e]], bc_Dirichlet, bc_Neumann, in_jump, (e, δ))\n",
    "\n",
    "      source = (x, y, e) -> (-vex_xx(x, y, e)  - vex_yy(x, y, e))\n",
    "      locsourcearray!((@view g[vstarts[e]:vstarts[e+1]-1]), source, lop[e], e)\n",
    "end"
   ]
  },
  {
   "cell_type": "code",
   "execution_count": 240,
   "metadata": {},
   "outputs": [
    {
     "data": {
      "text/plain": [
       "BenchmarkTools.Trial: \n",
       "  memory estimate:  2.93 MiB\n",
       "  allocs estimate:  4908\n",
       "  --------------\n",
       "  minimum time:     390.000 μs (0.00% GC)\n",
       "  median time:      528.099 μs (0.00% GC)\n",
       "  mean time:        759.889 μs (28.80% GC)\n",
       "  maximum time:     42.023 ms (98.32% GC)\n",
       "  --------------\n",
       "  samples:          6557\n",
       "  evals/sample:     1"
      ]
     },
     "execution_count": 240,
     "metadata": {},
     "output_type": "execute_result"
    }
   ],
   "source": [
    "@benchmark @threads for e = 1:nelems\n",
    "      gδe = ntuple(4) do lf\n",
    "        f = EToF[lf, e]\n",
    "        if EToO[lf, e]\n",
    "          return @view gδ[FToλstarts[f]:(FToλstarts[f+1]-1)]\n",
    "        else\n",
    "          return  @view gδ[(FToλstarts[f+1]-1):-1:FToλstarts[f]]\n",
    "        end\n",
    "      end\n",
    "      locbcarray!((@view g[vstarts[e]:vstarts[e+1]-1]), gδe, lop[e],\n",
    "                  FToB[EToF[:,e]], bc_Dirichlet, bc_Neumann, in_jump, (e, δ))\n",
    "\n",
    "      source = (x, y, e) -> (-vex_xx(x, y, e)  - vex_yy(x, y, e))\n",
    "      locsourcearray!((@view g[vstarts[e]:vstarts[e+1]-1]), source, lop[e], e)\n",
    "end"
   ]
  },
  {
   "cell_type": "code",
   "execution_count": 241,
   "metadata": {},
   "outputs": [
    {
     "data": {
      "text/plain": [
       "1904-element Array{Float64,1}:\n",
       "      -1.0384926660911115e6 \n",
       " -437321.36751612386        \n",
       "   92600.20403835559        \n",
       "  -95970.03956722301        \n",
       "   -8583.310842436855       \n",
       "   -9191.509798786115       \n",
       "   -3940.3542585642995      \n",
       "    -773.1793794357795      \n",
       "     851.7504226176612      \n",
       "    1910.2509426550675      \n",
       "    2302.2409371227036      \n",
       "    2352.1533158622096      \n",
       "    1939.9463408069475      \n",
       "       ⋮                    \n",
       "       1.9982866587130674   \n",
       "       1.6995353199901202   \n",
       "       1.2434974889861212   \n",
       "       0.6566410278266643   \n",
       "       0.894602293323984    \n",
       "       1.0233744922016184   \n",
       "       1.0266407345194069   \n",
       "       0.8248944531135468   \n",
       "       0.9057309638832659   \n",
       "       0.32004879785094087  \n",
       "       0.36420679490708957  \n",
       "      -1.6860322099368314e-5"
      ]
     },
     "execution_count": 241,
     "metadata": {},
     "output_type": "execute_result"
    }
   ],
   "source": [
    "LocalToGLobalRHS!(bλ, g, gδ,  u, locfactors, FbarT, vstarts)"
   ]
  },
  {
   "cell_type": "code",
   "execution_count": 242,
   "metadata": {},
   "outputs": [
    {
     "data": {
      "text/plain": [
       "BenchmarkTools.Trial: \n",
       "  memory estimate:  649.50 KiB\n",
       "  allocs estimate:  768\n",
       "  --------------\n",
       "  minimum time:     1.570 ms (0.00% GC)\n",
       "  median time:      1.698 ms (0.00% GC)\n",
       "  mean time:        1.771 ms (0.96% GC)\n",
       "  maximum time:     8.322 ms (31.00% GC)\n",
       "  --------------\n",
       "  samples:          2811\n",
       "  evals/sample:     1"
      ]
     },
     "execution_count": 242,
     "metadata": {},
     "output_type": "execute_result"
    }
   ],
   "source": [
    "@benchmark LocalToGLobalRHS!(bλ, g, gδ,  u, locfactors, FbarT, vstarts)"
   ]
  },
  {
   "cell_type": "code",
   "execution_count": 243,
   "metadata": {},
   "outputs": [
    {
     "data": {
      "text/plain": [
       "BenchmarkTools.Trial: \n",
       "  memory estimate:  652.98 KiB\n",
       "  allocs estimate:  798\n",
       "  --------------\n",
       "  minimum time:     1.065 ms (0.00% GC)\n",
       "  median time:      1.125 ms (0.00% GC)\n",
       "  mean time:        1.196 ms (1.33% GC)\n",
       "  maximum time:     105.080 ms (34.27% GC)\n",
       "  --------------\n",
       "  samples:          4157\n",
       "  evals/sample:     1"
      ]
     },
     "execution_count": 243,
     "metadata": {},
     "output_type": "execute_result"
    }
   ],
   "source": [
    "@benchmark threaded_LocalToGLobalRHS!(bλ, g, gδ, u, locfactors, FbarT, vstarts)"
   ]
  },
  {
   "cell_type": "markdown",
   "metadata": {},
   "source": [
    "Conclusion: threaded_LocalToGLobalRHS! would help but not too much"
   ]
  },
  {
   "cell_type": "code",
   "execution_count": 244,
   "metadata": {},
   "outputs": [
    {
     "name": "stdout",
     "output_type": "stream",
     "text": [
      "bλ = [-1.0384926660911115e6, -437321.36751612386, 92600.20403835559, -95970.03956722301, -8583.310842436855, -9191.509798786115, -3940.3542585642995, -773.1793794357795, 851.7504226176612, 1910.2509426550675, 2302.2409371227036, 2352.1533158622096, 1939.9463408069475, 2238.642758883456, 871.1601099617116, 1169.1697182357598, 19.292570996050152, 0.001669667594449309, 14.145496089902565, 11.880498814891638, 30.996397888208328, 25.094566418091638, 26.578669388677312, 21.25901928712366, 13.396691443789342, 4.812158595151071, 6.3250217901819195, 8.171060089502822, 9.198312099894919, 8.129900526337192, 9.608842451079715, 3.5782981934260008, 4.19322838228049, 0.00032292720868428684, 19.262385188499035, 841.4175810594948, 558.2114733458033, 1263.673604798965, 960.5574428376549, 1015.1450475296508, 865.6231782471215, 637.1306033784753, 339.9453957672934, 460.5161417762606, 522.476778258924, 520.0402538520642, 414.909920352992, 452.89234277755935, 159.32053559966812, 180.82980607121112, -0.010308530627369255, 44909.56139516291, 19413.258077255283, -3813.9541558827655, 4280.003060175106, 303.70523527286866, 180.12732418200923, -117.63228366612763, -247.19166372543404, -238.57051201611262, -405.36403801545663, -483.58254912895694, -492.2534509361252, -397.6952866025939, -437.36195239380095, -154.54236332928303, -175.83628863736428, 0.010815713378222088, 1.3954960854357107e-5, 0.18120592052248446, 0.15463236288033536, 0.4152359337747799, 0.35132501995871634, 0.3974952800175967, 0.35310366102511165, 0.2733290617393371, 0.20795225948340196, 0.5789235701711438, 0.9186855749556313, 1.148568506313371, 1.0844345949027268, 1.339475867272971, 0.5134029279782495, 0.6112823390904298, 7.215288953382282e-5, 1940.7247335683003, 837.7293954032816, -165.823427825392, 182.32013918012015, 10.979538176196556, 5.496876881825045, -6.931524776625479, -11.871008987848784, -10.786036757724005, -18.27985474683034, -21.95675752535052, -22.512197093264106, -18.309200596257476, -20.249116214259246, -7.1858875905747945, -8.19652716074377, 0.0004113510772090229, 0.8325431703722426, 37.55754966873327, 25.129539924574715, 57.24468498235621, 43.65439603038014, 46.15570548549614, 39.255254670108954, 28.72185710860948, 15.166857946987326, 20.663201546820822, 23.637535414386942, 23.712977902984257, 19.05311496151831, 20.920247570993435, 7.392371855251547, 8.412317366105137, -0.0003894336469773827, 0.834172979380527, 53.03042725774016, 40.07461255545739, 104.77727757523144, 92.95962204226211, 116.8147880134083, 121.44494201066942, 114.91332289345131, 99.03244327215829, 210.61911384378095, 310.60451215484557, 397.74014511522506, 415.71618514712475, 610.8156215706455, 308.44961431553605, 536.7365161378146, 19.37430223322139, -0.8325431703722427, -37.55754966873327, -25.129539924574715, -57.2446849823562, -43.65439603038011, -46.155705485496135, -39.25525467010893, -28.72185710860945, -15.166857946987319, -20.663201546820794, -23.637535414386928, -23.712977902984257, -19.053114961518297, -20.920247570993425, -7.392371855251541, -8.412317366105134, 0.0003894336469779442, -19.262385188499046, -841.4175810594949, -558.2114733458031, -1263.673604798965, -960.5574428376544, -1015.1450475296506, -865.6231782471214, -637.1306033784749, -339.9453957672932, -460.51614177626027, -522.4767782589232, -520.0402538520628, -414.9099203529919, -452.8923427775593, -159.32053559966795, -180.8298060712111, 0.010308530627379424, -0.8341729793805267, -53.03042725774013, -40.0746125554574, -104.77727757523144, -92.95962204226213, -116.8147880134083, -121.44494201066954, -114.91332289345134, -99.03244327215829, -210.61911384378095, -310.60451215484557, -397.74014511522483, -415.71618514712475, -610.8156215706452, -308.44961431553605, -536.7365161378149, -19.374302233221385, -4.25257973366705e-16, -1.8474805019152996e-14, -2.010197563961924e-14, -8.604228440844963e-16, 8.416878305439468e-15, -2.961519918187605e-14, -2.5375535006588734e-14, -2.9358460107431483e-14, 6.432354648922001e-15, -1.0949574580365606e-14, -2.042810365310288e-14, 5.495603971894525e-15, -6.38378239159465e-16, -8.215650382226158e-15, -8.321121569565548e-14, 4.168887457467463e-14, -4.0896105946153227e-16, 0.8325431703722429, 37.557549668733245, 25.129539924574708, 57.244684982356226, 43.65439603038005, 46.15570548549612, 39.25525467010894, 28.721857108609466, 15.166857946987326, 20.663201546820794, 23.637535414386917, 23.712977902984242, 19.05311496151829, 20.920247570993418, 7.392371855251527, 8.412317366105123, -0.0003894336469781146, 19.262385188499017, 841.4175810594944, 558.2114733458031, 1263.6736047989639, 960.5574428376547, 1015.1450475296506, 865.6231782471215, 637.130603378475, 339.94539576729323, 460.51614177626055, 522.4767782589239, 520.0402538520634, 414.9099203529913, 452.8923427775592, 159.32053559966792, 180.82980607121095, -0.010308530627372347, 6.07898176241406e-11, 1.3741896509600338e-11, -4.874323167314287e-12, -3.389288849575678e-11, -3.6983749396313215e-12, -8.731682044071931e-12, -6.4570571112199104e-12, -2.006395050102583e-12, -6.816769371198461e-13, -5.102585021177219e-13, -2.744471316873387e-13, -3.197442310920451e-13, -2.384759056894836e-13, -5.158096172408477e-13, -1.9878543255913428e-13, 9.425793479067579e-14, -1.1729007522165436e-14, 1.0384926660911115e6, 437321.36751612386, -92600.20403835562, 95970.039567223, 8583.31084243684, 9191.509798786123, 3940.3542585643045, 773.1793794357786, -851.7504226176611, -1910.250942655068, -2302.2409371227045, -2352.1533158622096, -1939.9463408069475, -2238.642758883456, -871.160109961711, -1169.1697182357598, -19.292570996050166, 0.0031212616482200685, 0.14234551215952962, 0.09972869171934355, 0.24495791826701033, 0.20714474798846083, 0.250242251305392, 0.25185701965717683, 0.23159084982067457, 0.19292925771297514, 0.4025925481251074, 0.5898366489355995, 0.752183802429727, 0.7838279338416284, 1.1491186317528705, 0.5792459772224363, 1.0066042143483622, 0.03624771677396984, -8.481843826669742e-19, -6.589238703280653e-17, -1.9651164376299768e-17, -8.506921295864389e-17, 9.41900637346782e-18, -1.759118024857731e-17, -5.456247433033301e-17, -2.6278350155617414e-17, -2.1141942363467336e-17, -6.14742631799281e-17, -8.332093695551102e-17, -1.6338926739356552e-16, -1.111307226797642e-16, -2.271403551357132e-16, 3.539920093165172e-17, 3.3989738107420564e-17, 9.770525046578354e-19, 0.003109442540998864, 0.14027265712049686, 0.09385562605992544, 0.21380159619906694, 0.16304360055921674, 0.17238567230363183, 0.1466133687390711, 0.10727247250141943, 0.05664627972692744, 0.07717442195122512, 0.08828317953650282, 0.08856494760786715, 0.07116095393995929, 0.07813445606236862, 0.027609565898335808, 0.03141893227573454, -1.4544849947770687e-6, 0.036044512648177776, 1.6260340871740515, 1.0879700319314765, 2.4783781133715075, 1.8899937995552387, 1.9982866587130672, 1.6995353199901202, 1.2434974889861217, 0.6566410278266642, 0.8946022933239837, 1.0233744922016181, 1.0266407345194055, 0.8248944531135461, 0.9057309638832648, 0.32004879785094054, 0.3642067949070892, -1.686032209938005e-5, 0.8372424167281715, 23.19467252717897, 13.32945591427323, 26.39610105635393, 17.96504882229295, 17.188316733433645, 13.42286072964613, 9.102077164058116, 4.279924624066739, 4.966588072194056, 5.2491929590205935, 5.049409166957106, 4.018596546062216, 4.529962854287543, 1.7328546920566046, 2.2935208375185354, 0.0361153215997188, -2.0731978416996255e-17, 3.157196726277789e-16, -1.9637069748057456e-15, 6.522560269672795e-16, -1.3235940121703038e-15, 2.4615726124110893e-15, 2.809384669344439e-15, 1.0009354456386177e-15, -7.860465750519907e-16, -8.586881206085195e-16, 5.859028540111666e-16, -9.267760170406092e-16, -9.486769009248164e-16, -1.3396402043230893e-15, -3.542088497510143e-16, -7.134050294954619e-17, -1.9429877018829582e-17, -0.8372424167281715, -23.19467252717898, -13.329455914273233, -26.396101056353938, -17.96504882229296, -17.188316733433638, -13.422860729646136, -9.102077164058116, -4.279924624066738, -4.9665880721940585, -5.249192959020592, -5.049409166957105, -4.018596546062216, -4.529962854287544, -1.7328546920566037, -2.2935208375185363, -0.036115321599718815, -0.03604451264817776, -1.6260340871740515, -1.0879700319314767, -2.4783781133715053, -1.889993799555238, -1.998286658713068, -1.6995353199901224, -1.2434974889861201, -0.6566410278266643, -0.8946022933239832, -1.0233744922016172, -1.0266407345194062, -0.8248944531135459, -0.9057309638832647, -0.3200487978509404, -0.3642067949070897, 1.6860322099394118e-5, -0.003109442540998865, -0.14027265712049677, -0.09385562605992542, -0.21380159619906686, -0.16304360055921674, -0.1723856723036319, -0.14661336873907116, -0.10727247250141936, -0.056646279726927415, -0.07717442195122509, -0.08828317953650283, -0.08856494760786715, -0.07116095393995937, -0.07813445606236862, -0.027609565898335783, -0.03141893227573456, 1.4544849947760526e-6, -0.0031212616482200663, -0.14234551215952962, -0.09972869171934347, -0.24495791826701033, -0.20714474798846078, -0.250242251305392, -0.25185701965717683, -0.23159084982067468, -0.1929292577129752, -0.4025925481251074, -0.5898366489355993, -0.752183802429727, -0.783827933841628, -1.1491186317528712, -0.5792459772224366, -1.006604214348362, -0.03624771677396982, 84.02264254291723, 36.26904749559473, -7.179236890435486, 7.893453212470761, 0.4753532510345643, 0.23798435365680004, -0.3000966693060795, -0.5139490044916625, -0.46697571029699836, -0.7914165644219742, -0.950606109688717, -0.9746535696204435, -0.7926870773256744, -0.8766746896415617, -0.3111091717094364, -0.35486427302558443, 1.7809225554826815e-5, 3.118057645695542e-6, 0.026416535784218428, 0.022186690414726307, 0.05788544600959449, 0.046863890848612304, 0.04963552916503339, 0.03970123243955535, 0.025018507254025643, 0.00898715579042642, 0.011813634867473303, 0.015262190534249934, 0.017181326512354662, 0.015185905428740907, 0.01794863418981548, 0.006684057358648404, 0.007832745608145272, 6.032996896569846e-7, 0.03604451264817776, 1.6260340871740515, 1.0879700319314767, 2.4783781133715057, 1.8899937995552383, 1.998286658713067, 1.6995353199901226, 1.2434974889861206, 0.6566410278266647, 0.894602293323984, 1.0233744922016177, 1.0266407345194062, 0.824894453113546, 0.9057309638832651, 0.32004879785094054, 0.36420679490708996, -1.6860322099378387e-5, 0.0031094425409988647, 0.14027265712049683, 0.09385562605992548, 0.21380159619906686, 0.1630436005592168, 0.17238567230363194, 0.1466133687390711, 0.10727247250141936, 0.05664627972692744, 0.07717442195122516, 0.08828317953650289, 0.08856494760786723, 0.07116095393995947, 0.07813445606236877, 0.027609565898335804, 0.03141893227573453, -1.454484994775646e-6, 3.1882773118920175e-8, 0.00038772169485101955, 0.00033019830438879745, 0.0008835240007433817, 0.0007435923941726673, 0.0008349882678408695, 0.0007335380851814949, 0.0005571450562838758, 0.00040512052148012636, 0.001103164052788048, 0.0017440878842274936, 0.0021769634604831803, 0.0020534711498240593, 0.0025349036790217883, 0.0009712292736145148, 0.00115615793309256, 1.3586754293832768e-7, 7.248359318385627, 3.1288124299278612, -0.6193293502653896, 0.680942462832316, 0.04100717452324075, 0.020530133964510075, -0.02588836084594886, -0.044336704287530025, -0.04028447140855036, -0.0682729256762268, -0.08200568852327009, -0.08408018445679905, -0.06838252868044038, -0.07562786605539709, -0.026838373509182403, -0.030612983385202523, 1.5363438008715826e-6, 0.0016696675936063166, 14.145496089907724, 11.880498814867096, 30.99639788817334, 25.094566418076415, 26.578669388664988, 21.259019287116892, 13.39669144378636, 4.812158595150022, 6.325021790181623, 8.17106008950286, 9.198312099894839, 8.129900526337439, 9.608842451079662, 3.5782981934256863, 4.193228382280667, 0.0003229272086684486, 44909.56139516292, 19413.25807725528, -3813.9541558827646, 4280.003060175111, 303.70523527287, 180.12732418201034, -117.63228366612645, -247.1916637254336, -238.57051201611247, -405.36403801545646, -483.5825491289574, -492.25345093612475, -397.6952866025935, -437.361952393801, -154.54236332928303, -175.8362886373642, 0.010815713378231189, 19.262385188499017, 841.4175810594946, 558.2114733458031, 1263.6736047989643, 960.5574428376547, 1015.1450475296502, 865.6231782471219, 637.1306033784759, 339.9453957672933, 460.5161417762605, 522.4767782589232, 520.0402538520636, 414.9099203529917, 452.89234277755907, 159.32053559966803, 180.82980607121095, -0.01030853062736575, -1.0384926660911115e6, -437321.3675161238, 92600.20403835559, -95970.03956722294, -8583.310842436817, -9191.509798786114, -3940.354258564295, -773.1793794357785, 851.7504226176618, 1910.250942655068, 2302.240937122704, 2352.1533158622096, 1939.9463408069473, 2238.6427588834554, 871.1601099617112, 1169.1697182357598, 19.29257099605015, 0.8341729793805267, 53.03042725774013, 40.074612555457385, 104.7772775752314, 92.95962204226207, 116.81478801340828, 121.44494201066941, 114.91332289345131, 99.03244327215826, 210.61911384378095, 310.6045121548457, 397.74014511522495, 415.71618514712486, 610.8156215706456, 308.4496143155358, 536.7365161378148, 19.374302233221396, 1.395496085385422e-5, 0.1812059205224593, 0.15463236288032695, 0.41523593377475215, 0.35132501995869775, 0.39749528001753553, 0.3531036610250808, 0.27332906173938315, 0.20795225948342733, 0.5789235701711376, 0.9186855749556448, 1.1485685063133582, 1.0844345949026957, 1.3394758672730167, 0.5134029279783516, 0.6112823390904335, 7.215288953735428e-5, 0.8325431703722427, 37.55754966873323, 25.129539924574686, 57.2446849823562, 43.654396030380106, 46.15570548549612, 39.25525467010894, 28.721857108609477, 15.166857946987315, 20.663201546820808, 23.637535414386917, 23.71297790298424, 19.053114961518304, 20.920247570993432, 7.392371855251546, 8.41231736610513, -0.00038943364697781085, 1940.7247335683003, 837.7293954032818, -165.8234278253919, 182.32013918012026, 10.97953817619654, 5.496876881825048, -6.931524776625469, -11.871008987848782, -10.786036757724009, -18.279854746830374, -21.95675752535054, -22.5121970932641, -18.30920059625747, -20.24911621425926, -7.185887590574794, -8.196527160743772, 0.00041135107720884783, -19.262385188499017, -841.4175810594946, -558.2114733458031, -1263.6736047989646, -960.5574428376542, -1015.1450475296507, -865.6231782471216, -637.1306033784754, -339.94539576729323, -460.51614177626067, -522.4767782589238, -520.0402538520638, -414.9099203529917, -452.8923427775592, -159.32053559966803, -180.82980607121098, 0.0103085306273693, 1.0384926660911115e6, 437321.36751612386, -92600.2040383556, 95970.039567223, 8583.31084243684, 9191.509798786125, 3940.3542585643027, 773.1793794357785, -851.7504226176609, -1910.250942655068, -2302.2409371227045, -2352.1533158622096, -1939.9463408069478, -2238.6427588834554, -871.1601099617112, -1169.16971823576, -19.292570996050163, 5.6040283524794177e-11, 4.4792614062316716e-11, -7.958078640513122e-13, 1.823252659960417e-11, 5.517364343177178e-12, 8.542500040675804e-12, 6.746603276042151e-12, 2.41229258790554e-12, 6.643574579356937e-13, 3.4505731605349865e-13, -1.8207657603852567e-14, 1.7630341631047486e-13, -9.459100169806334e-14, -4.1100456371623295e-13, -9.087175456556906e-14, -2.070565940925917e-13, 3.701249376431015e-15, -0.8341729793805267, -53.030427257740115, -40.0746125554574, -104.77727757523145, -92.95962204226213, -116.8147880134083, -121.44494201066952, -114.91332289345134, -99.03244327215829, -210.61911384378095, -310.6045121548457, -397.74014511522495, -415.7161851471248, -610.8156215706455, -308.44961431553594, -536.7365161378148, -19.37430223322139, 5.993605134771429e-17, -9.478529072737274e-15, 3.920475055707584e-15, 4.822531263215524e-15, -1.2628786905111156e-14, 1.7479073743942308e-14, -1.982441988346295e-14, -1.44953493652622e-14, -1.604966159973742e-14, -3.9371284010769614e-14, -5.3179682879545e-14, -4.5824455341403336e-14, -6.056266599330229e-14, -2.90878432451791e-14, -3.444466933899548e-14, -5.917488721252084e-14, -2.3605249699354403e-15, -0.832543170372243, -37.55754966873323, -25.129539924574708, -57.2446849823562, -43.654396030380106, -46.15570548549612, -39.25525467010894, -28.721857108609466, -15.166857946987319, -20.663201546820808, -23.6375354143869, -23.71297790298425, -19.05311496151828, -20.920247570993407, -7.392371855251538, -8.41231736610513, 0.0003894336469782186, 0.832543170372243, 37.55754966873326, 25.129539924574715, 57.24468498235621, 43.65439603038013, 46.15570548549614, 39.25525467010894, 28.72185710860945, 15.166857946987319, 20.66320154682079, 23.637535414386925, 23.71297790298423, 19.053114961518297, 20.920247570993407, 7.392371855251541, 8.41231736610512, -0.00038943364697812007, 19.262385188499024, 841.4175810594948, 558.2114733458031, 1263.6736047989652, 960.5574428376547, 1015.1450475296507, 865.6231782471217, 637.1306033784753, 339.9453957672929, 460.51614177626044, 522.4767782589236, 520.0402538520635, 414.9099203529912, 452.89234277755867, 159.32053559966778, 180.829806071211, -0.010308530627376258, -0.0031212616482200668, -0.14234551215952967, -0.09972869171934344, -0.2449579182670104, -0.20714474798846083, -0.250242251305392, -0.25185701965717683, -0.23159084982067457, -0.19292925771297514, -0.4025925481251074, -0.5898366489355993, -0.752183802429727, -0.783827933841628, -1.1491186317528705, -0.5792459772224366, -1.0066042143483622, -0.036247716773969825, -3.9736433138067365e-19, 1.536178953140399e-17, 4.289374844895777e-18, -2.4665599424045226e-18, -9.41900637346782e-18, 8.131516293641283e-19, 1.2549640146519714e-17, 1.1844908734404136e-17, 1.3633842319005218e-17, -6.928051882182373e-17, -6.830473686658678e-18, -6.277530578691071e-17, 1.0842021724855044e-19, -6.765421556309548e-17, -1.6219664500383146e-16, -1.5363144784119598e-16, -3.4338715681689336e-18, -0.03604451264817774, -1.6260340871740517, -1.0879700319314762, -2.478378113371509, -1.8899937995552383, -1.9982866587130663, -1.69953531999012, -1.2434974889861201, -0.6566410278266643, -0.8946022933239837, -1.0233744922016172, -1.0266407345194062, -0.8248944531135466, -0.9057309638832656, -0.3200487978509405, -0.36420679490708935, 1.68603220993815e-5, 0.03604451264817777, 1.6260340871740515, 1.0879700319314765, 2.478378113371506, 1.8899937995552378, 1.9982866587130679, 1.6995353199901209, 1.2434974889861203, 0.6566410278266642, 0.8946022933239834, 1.023374492201617, 1.0266407345194057, 0.8248944531135455, 0.9057309638832644, 0.32004879785094026, 0.36420679490708935, -1.6860322099396174e-5, 0.003121261648220068, 0.14234551215952967, 0.09972869171934352, 0.24495791826701033, 0.2071447479884609, 0.2502422513053921, 0.25185701965717683, 0.23159084982067463, 0.19292925771297514, 0.4025925481251074, 0.5898366489355993, 0.7521838024297272, 0.7838279338416281, 1.1491186317528708, 0.5792459772224363, 1.006604214348362, 0.03624771677396983, 0.8372424167281712, 23.194672527178966, 13.329455914273229, 26.39610105635393, 17.965048822292946, 17.188316733433638, 13.422860729646139, 9.102077164058116, 4.279924624066738, 4.966588072194056, 5.249192959020592, 5.049409166957107, 4.018596546062216, 4.529962854287543, 1.7328546920566046, 2.293520837518535, 0.0361153215997188, -3.301395615218361e-17, -9.8879238130678e-17, -2.4728483150049385e-15, -7.12277459236077e-15, 5.186823193170653e-16, -6.048980760731126e-15, -8.866171685717461e-15, -7.572067972638763e-16, -2.699663409488906e-16, 7.28583859910259e-17, -1.942890293094024e-16, 7.719519468096792e-17, 8.840584514446803e-16, -7.155734338404329e-17, 4.584006785268713e-16, 3.5496779127175415e-16, 1.011082053313777e-17, -0.8372424167281715, -23.194672527178977, -13.329455914273233, -26.396101056353935, -17.965048822292967, -17.188316733433645, -13.42286072964613, -9.102077164058116, -4.279924624066739, -4.966588072194058, -5.249192959020592, -5.049409166957106, -4.018596546062216, -4.529962854287543, -1.7328546920566037, -2.2935208375185354, -0.036115321599718815, 84.02264254291723, 36.26904749559473, -7.179236890435485, 7.893453212470762, 0.4753532510345673, 0.2379843536568016, -0.30009666930607803, -0.5139490044916617, -0.4669757102969978, -0.7914165644219743, -0.9506061096887167, -0.9746535696204436, -0.7926870773256746, -0.8766746896415615, -0.31110917170943614, -0.35486427302558393, 1.7809225554838148e-5, 3.1882773119422056e-8, 0.0003877216948509969, 0.00033019830438876124, 0.0008835240007433473, 0.000743592394172603, 0.0008349882678407927, 0.0007335380851814757, 0.0005571450562838657, 0.0004051205214801113, 0.0011031640527881415, 0.0017440878842276046, 0.002176963460483024, 0.002053471149823815, 0.002534903679021972, 0.000971229273614514, 0.001156157933092609, 1.358675429433434e-7, 3.1180576458801513e-6, 0.026416535784217984, 0.022186690414728403, 0.057885446009594624, 0.04686389084861059, 0.04963552916504316, 0.03970123243956214, 0.02501850725402669, 0.008987155790424757, 0.011813634867472944, 0.015262190534250342, 0.017181326512354142, 0.015185905428740158, 0.01794863418981514, 0.006684057358648203, 0.007832745608144866, 6.032996896343434e-7, 0.03604451264817776, 1.6260340871740517, 1.0879700319314765, 2.478378113371508, 1.889993799555239, 1.9982866587130674, 1.6995353199901202, 1.2434974889861212, 0.6566410278266643, 0.894602293323984, 1.0233744922016184, 1.0266407345194069, 0.8248944531135468, 0.9057309638832659, 0.32004879785094087, 0.36420679490708957, -1.6860322099368314e-5, 44909.56139516291, 19413.258077255283, -3813.9541558827655, 4280.003060175106, 303.70523527286866, 180.12732418200923, -117.63228366612763, -247.19166372543404, -238.57051201611262, -405.36403801545663, -483.58254912895694, -492.2534509361252, -397.6952866025939, -437.36195239380095, -154.54236332928303, -175.83628863736428, 0.010815713378222088, 0.0016696675944214423, 14.145496089903915, 11.880498814893038, 30.99639788820791, 25.094566418092853, 26.578669388676282, 21.25901928712307, 13.396691443789193, 4.812158595151043, 6.325021790181975, 8.171060089502816, 9.198312099894958, 8.1299005263371, 9.608842451079639, 3.5782981934260274, 4.193228382280495, 0.0003229272086842889, 1.3954960854357107e-5, 0.18120592052248446, 0.15463236288033536, 0.4152359337747799, 0.35132501995871634, 0.3974952800175967, 0.35310366102511165, 0.2733290617393371, 0.20795225948340196, 0.5789235701711438, 0.9186855749556313, 1.148568506313371, 1.0844345949027268, 1.339475867272971, 0.5134029279782495, 0.6112823390904298, 7.215288953382282e-5, 1940.7247335683003, 837.7293954032816, -165.823427825392, 182.32013918012015, 10.979538176196556, 5.496876881825045, -6.931524776625479, -11.871008987848784, -10.786036757724005, -18.27985474683034, -21.95675752535052, -22.512197093264106, -18.309200596257476, -20.249116214259246, -7.1858875905747945, -8.19652716074377, 0.0004113510772090229, 0.8325431703722426, 37.55754966873327, 25.129539924574715, 57.24468498235621, 43.65439603038014, 46.15570548549614, 39.255254670108954, 28.72185710860948, 15.166857946987326, 20.663201546820822, 23.637535414386942, 23.712977902984257, 19.05311496151831, 20.920247570993435, 7.392371855251547, 8.412317366105137, -0.0003894336469773827, 19.262385188499035, 841.4175810594946, 558.2114733458034, 1263.6736047989652, 960.5574428376549, 1015.1450475296507, 865.6231782471215, 637.1306033784753, 339.94539576729335, 460.51614177626055, 522.476778258924, 520.040253852064, 414.909920352992, 452.89234277755935, 159.32053559966812, 180.82980607121112, -0.010308530627369257, 0.834172979380527, 53.03042725774016, 40.07461255545739, 104.77727757523144, 92.95962204226211, 116.8147880134083, 121.44494201066942, 114.91332289345131, 99.03244327215829, 210.61911384378095, 310.60451215484557, 397.74014511522506, 415.71618514712475, 610.8156215706455, 308.44961431553605, 536.7365161378146, 19.37430223322139, -1.0384926660911115e6, -437321.36751612386, 92600.20403835559, -95970.03956722301, -8583.310842436855, -9191.509798786115, -3940.3542585642995, -773.1793794357795, 851.7504226176612, 1910.2509426550675, 2302.2409371227036, 2352.1533158622096, 1939.9463408069475, 2238.642758883456, 871.1601099617116, 1169.1697182357598, 19.292570996050152, 3.1882773118919845e-8, 0.0003877216948510119, 0.0003301983043888058, 0.0008835240007433686, 0.0007435923941726447, 0.0008349882678408759, 0.0007335380851814915, 0.0005571450562838674, 0.0004051205214801257, 0.0011031640527880806, 0.0017440878842275324, 0.002176963460483172, 0.0020534711498240528, 0.0025349036790218004, 0.0009712292736145095, 0.001156157933092572, 1.3586754293832768e-7, 7.248359318385627, 3.1288124299278612, -0.6193293502653896, 0.680942462832316, 0.04100717452324075, 0.020530133964510075, -0.02588836084594886, -0.044336704287530025, -0.04028447140855036, -0.0682729256762268, -0.08200568852327009, -0.08408018445679905, -0.06838252868044038, -0.07562786605539709, -0.026838373509182403, -0.030612983385202523, 1.5363438008715826e-6, 84.02264254291723, 36.26904749559473, -7.179236890435485, 7.89345321247076, 0.47535325103456466, 0.23798435365680004, -0.3000966693060795, -0.5139490044916625, -0.46697571029699836, -0.7914165644219743, -0.950606109688717, -0.9746535696204435, -0.7926870773256746, -0.8766746896415618, -0.31110917170943636, -0.3548642730255845, 1.780922555482681e-5, 0.0031094425409988647, 0.14027265712049683, 0.09385562605992548, 0.21380159619906686, 0.1630436005592168, 0.17238567230363194, 0.1466133687390711, 0.10727247250141936, 0.05664627972692744, 0.07717442195122516, 0.08828317953650289, 0.08856494760786723, 0.07116095393995947, 0.07813445606236877, 0.027609565898335804, 0.03141893227573453, -1.454484994775646e-6, 0.03604451264817777, 1.6260340871740515, 1.0879700319314767, 2.478378113371506, 1.8899937995552378, 1.9982866587130672, 1.6995353199901222, 1.2434974889861203, 0.6566410278266647, 0.8946022933239841, 1.0233744922016177, 1.0266407345194066, 0.8248944531135461, 0.905730963883265, 0.32004879785094054, 0.36420679490708996, -1.6860322099378387e-5, 0.003121261648220068, 0.14234551215952967, 0.09972869171934352, 0.24495791826701022, 0.20714474798846078, 0.250242251305392, 0.25185701965717683, 0.23159084982067457, 0.19292925771297514, 0.4025925481251074, 0.5898366489355995, 0.7521838024297272, 0.7838279338416283, 1.1491186317528708, 0.5792459772224363, 1.006604214348362, 0.03624771677396983, 0.8372424167281712, 23.194672527178973, 13.329455914273229, 26.39610105635393, 17.965048822292946, 17.188316733433638, 13.422860729646139, 9.102077164058116, 4.279924624066738, 4.966588072194056, 5.2491929590205935, 5.049409166957105, 4.018596546062216, 4.529962854287543, 1.7328546920566046, 2.293520837518536, 0.0361153215997188, 3.118057645695532e-6, 0.026416535784217786, 0.022186690414726533, 0.057885446009595026, 0.046863890848611596, 0.04963552916503265, 0.03970123243955566, 0.02501850725402577, 0.008987155790426353, 0.011813634867473315, 0.015262190534249737, 0.01718132651235485, 0.01518590542874074, 0.01794863418981537, 0.006684057358648394, 0.007832745608145206, 6.032996896569791e-7, -0.003109442540998865, -0.14027265712049677, -0.09385562605992542, -0.21380159619906686, -0.16304360055921674, -0.1723856723036319, -0.14661336873907116, -0.10727247250141936, -0.056646279726927415, -0.07717442195122509, -0.08828317953650283, -0.08856494760786715, -0.07116095393995937, -0.07813445606236862, -0.027609565898335783, -0.03141893227573456, 1.4544849947760526e-6, -0.03604451264817776, -1.6260340871740515, -1.0879700319314767, -2.4783781133715053, -1.8899937995552378, -1.9982866587130679, -1.6995353199901222, -1.24349748898612, -0.6566410278266644, -0.8946022933239833, -1.023374492201617, -1.0266407345194064, -0.8248944531135458, -0.9057309638832647, -0.3200487978509404, -0.3642067949070897, 1.6860322099394114e-5, -8.484887851323937e-19, -6.737638875639607e-17, -2.0050963927403798e-17, -8.023096076392733e-17, 1.782157321023048e-17, -2.404218317486606e-17, -6.25584653524136e-17, -2.974779710757103e-17, -1.9786689647860456e-17, -3.8868647883605334e-17, -7.39425881635114e-17, -1.465841337200402e-16, -1.3362791775883842e-16, -2.5110122314764283e-16, 2.4990860075790877e-17, 3.415236843329339e-17, 9.768407464210219e-19, -2.072520215341822e-17, 2.896988204881268e-16, -1.7789589246142157e-15, 8.396061623727746e-16, -3.8510861166685117e-16, 3.3844455016307506e-15, 2.144985578045322e-15, 1.4216058885629934e-15, -7.112366251504909e-16, -8.751679936302992e-16, 6.9692515647368225e-16, -6.162605148407607e-16, -9.28727580951083e-16, -1.0534108307869161e-15, -3.496552006265752e-16, 6.364266752489911e-17, -1.94286064694087e-17, -0.8325431703722429, -37.55754966873327, -25.129539924574722, -57.24468498235621, -43.65439603038011, -46.15570548549615, -39.25525467010893, -28.721857108609452, -15.16685794698732, -20.663201546820794, -23.637535414386928, -23.712977902984253, -19.053114961518293, -20.92024757099343, -7.392371855251542, -8.412317366105134, 0.0003894336469779441, 0.832543170372243, 37.55754966873324, 25.1295399245747, 57.244684982356226, 43.65439603038007, 46.155705485496114, 39.255254670108926, 28.721857108609477, 15.16685794698732, 20.66320154682079, 23.637535414386917, 23.712977902984235, 19.053114961518293, 20.920247570993418, 7.392371855251529, 8.412317366105121, -0.00038943364697811465, 0.036044512648177776, 1.6260340871740517, 1.0879700319314765, 2.478378113371508, 1.889993799555239, 1.9982866587130674, 1.6995353199901202, 1.243497488986122, 0.6566410278266643, 0.8946022933239836, 1.023374492201618, 1.0266407345194055, 0.8248944531135461, 0.9057309638832648, 0.32004879785094054, 0.36420679490708935, -1.6860322099380053e-5, 0.003109442540998864, 0.14027265712049686, 0.09385562605992544, 0.21380159619906694, 0.16304360055921674, 0.17238567230363183, 0.1466133687390711, 0.10727247250141943, 0.05664627972692744, 0.07717442195122512, 0.08828317953650282, 0.08856494760786715, 0.07116095393995929, 0.07813445606236862, 0.027609565898335808, 0.03141893227573454, -1.4544849947770687e-6, 6.33162411389776e-11, 1.5560885913146194e-11, -4.916955731459893e-12, -3.787903324337094e-11, -3.5065284009760944e-12, -8.210321311707958e-12, -7.409184377138445e-12, -2.0827783941967937e-12, -7.203126983768016e-13, -5.240252676230739e-13, -2.8688162956314045e-13, -3.468336728928989e-13, -2.1782575743145571e-13, -5.730971253115058e-13, -1.591504705800162e-13, 1.2112533198660458e-13, -1.1725321234778985e-14, -19.262385188499042, -841.417581059495, -558.211473345803, -1263.6736047989648, -960.5574428376544, -1015.1450475296506, -865.6231782471215, -637.1306033784749, -339.9453957672932, -460.51614177626027, -522.4767782589232, -520.0402538520626, -414.90992035299183, -452.8923427775592, -159.32053559966795, -180.82980607121112, 0.010308530627379426, 19.262385188499017, 841.4175810594944, 558.2114733458031, 1263.6736047989639, 960.5574428376548, 1015.1450475296507, 865.6231782471215, 637.1306033784753, 339.9453957672933, 460.51614177626055, 522.4767782589239, 520.0402538520633, 414.90992035299126, 452.8923427775591, 159.32053559966792, 180.82980607121098, -0.010308530627372347, -4.2535961732037553e-16, -1.590741427470732e-14, -1.9269308371150373e-14, -1.5543122344752192e-15, 1.2351231148954867e-14, -3.2432390106862385e-14, -2.493838469064258e-14, -2.3391011350071267e-14, 6.390721285498557e-15, -3.2612801348363973e-15, -3.0808688933348094e-14, -2.942091015256665e-15, -1.5210055437364645e-14, -4.923839114212569e-14, -8.124056982694583e-14, 1.9317880628477724e-14, -4.0874421902703517e-16, 0.0016696675936063166, 14.145496089907724, 11.880498814867096, 30.99639788817334, 25.094566418076415, 26.578669388664988, 21.259019287116892, 13.39669144378636, 4.812158595150022, 6.325021790181623, 8.17106008950286, 9.198312099894839, 8.129900526337439, 9.608842451079662, 3.5782981934256863, 4.193228382280667, 0.0003229272086684486, 44909.56139516292, 19413.25807725528, -3813.9541558827646, 4280.003060175111, 303.70523527287, 180.12732418201034, -117.63228366612645, -247.1916637254336, -238.57051201611247, -405.36403801545646, -483.5825491289574, -492.25345093612475, -397.6952866025935, -437.361952393801, -154.54236332928303, -175.8362886373642, 0.010815713378231189, 19.262385188499017, 841.4175810594946, 558.2114733458031, 1263.6736047989643, 960.5574428376547, 1015.1450475296502, 865.6231782471219, 637.1306033784759, 339.9453957672933, 460.5161417762605, 522.4767782589232, 520.0402538520636, 414.9099203529917, 452.89234277755907, 159.32053559966803, 180.82980607121095, -0.01030853062736575, -1.0384926660911115e6, -437321.3675161238, 92600.20403835559, -95970.03956722294, -8583.310842436817, -9191.509798786114, -3940.354258564295, -773.1793794357785, 851.7504226176618, 1910.250942655068, 2302.240937122704, 2352.1533158622096, 1939.9463408069473, 2238.6427588834554, 871.1601099617112, 1169.1697182357598, 19.29257099605015, 0.8341729793805267, 53.03042725774013, 40.074612555457385, 104.7772775752314, 92.95962204226207, 116.81478801340828, 121.44494201066941, 114.91332289345131, 99.03244327215826, 210.61911384378095, 310.6045121548457, 397.74014511522495, 415.71618514712486, 610.8156215706456, 308.4496143155358, 536.7365161378148, 19.374302233221396, 1.395496085385422e-5, 0.1812059205224593, 0.15463236288032695, 0.41523593377475215, 0.35132501995869775, 0.39749528001753553, 0.3531036610250808, 0.27332906173938315, 0.20795225948342733, 0.5789235701711376, 0.9186855749556448, 1.1485685063133582, 1.0844345949026957, 1.3394758672730167, 0.5134029279783516, 0.6112823390904335, 7.215288953735428e-5, 0.8325431703722427, 37.55754966873323, 25.129539924574686, 57.2446849823562, 43.654396030380106, 46.15570548549612, 39.25525467010894, 28.721857108609477, 15.166857946987315, 20.663201546820808, 23.637535414386917, 23.71297790298424, 19.053114961518304, 20.920247570993432, 7.392371855251546, 8.41231736610513, -0.00038943364697781085, 1940.7247335683003, 837.7293954032818, -165.8234278253919, 182.32013918012026, 10.97953817619654, 5.496876881825048, -6.931524776625469, -11.871008987848782, -10.786036757724009, -18.279854746830374, -21.95675752535054, -22.5121970932641, -18.30920059625747, -20.24911621425926, -7.185887590574794, -8.196527160743772, 0.00041135107720884783, -19.262385188499017, -841.4175810594946, -558.2114733458031, -1263.6736047989646, -960.5574428376542, -1015.1450475296507, -865.6231782471216, -637.1306033784754, -339.94539576729323, -460.51614177626067, -522.4767782589238, -520.0402538520638, -414.9099203529917, -452.8923427775592, -159.32053559966803, -180.82980607121098, 0.0103085306273693, 5.6040283524794177e-11, 4.4792614062316716e-11, -7.958078640513122e-13, 1.823252659960417e-11, 5.517364343177178e-12, 8.542500040675804e-12, 6.746603276042151e-12, 2.41229258790554e-12, 6.643574579356937e-13, 3.4505731605349865e-13, -1.8207657603852567e-14, 1.7630341631047486e-13, -9.459100169806334e-14, -4.1100456371623295e-13, -9.087175456556906e-14, -2.070565940925917e-13, 3.701249376431015e-15, 5.993605134771429e-17, -9.478529072737274e-15, 3.920475055707584e-15, 4.822531263215524e-15, -1.2628786905111156e-14, 1.7479073743942308e-14, -1.982441988346295e-14, -1.44953493652622e-14, -1.604966159973742e-14, -3.9371284010769614e-14, -5.3179682879545e-14, -4.5824455341403336e-14, -6.056266599330229e-14, -2.90878432451791e-14, -3.444466933899548e-14, -5.917488721252084e-14, -2.3605249699354403e-15, -0.832543170372243, -37.55754966873323, -25.129539924574708, -57.2446849823562, -43.654396030380106, -46.15570548549612, -39.25525467010894, -28.721857108609466, -15.166857946987319, -20.663201546820808, -23.6375354143869, -23.71297790298425, -19.05311496151828, -20.920247570993407, -7.392371855251538, -8.41231736610513, 0.0003894336469782186, 0.832543170372243, 37.55754966873326, 25.129539924574715, 57.24468498235621, 43.65439603038013, 46.15570548549614, 39.25525467010894, 28.72185710860945, 15.166857946987319, 20.66320154682079, 23.637535414386925, 23.71297790298423, 19.053114961518297, 20.920247570993407, 7.392371855251541, 8.41231736610512, -0.00038943364697812007, 19.262385188499024, 841.4175810594948, 558.2114733458031, 1263.6736047989652, 960.5574428376547, 1015.1450475296507, 865.6231782471217, 637.1306033784753, 339.9453957672929, 460.51614177626044, 522.4767782589236, 520.0402538520635, 414.9099203529912, 452.89234277755867, 159.32053559966778, 180.829806071211, -0.010308530627376258, -3.9736433138067365e-19, 1.536178953140399e-17, 4.289374844895777e-18, -2.4665599424045226e-18, -9.41900637346782e-18, 8.131516293641283e-19, 1.2549640146519714e-17, 1.1844908734404136e-17, 1.3633842319005218e-17, -6.928051882182373e-17, -6.830473686658678e-18, -6.277530578691071e-17, 1.0842021724855044e-19, -6.765421556309548e-17, -1.6219664500383146e-16, -1.5363144784119598e-16, -3.4338715681689336e-18, -0.03604451264817774, -1.6260340871740517, -1.0879700319314762, -2.478378113371509, -1.8899937995552383, -1.9982866587130663, -1.69953531999012, -1.2434974889861201, -0.6566410278266643, -0.8946022933239837, -1.0233744922016172, -1.0266407345194062, -0.8248944531135466, -0.9057309638832656, -0.3200487978509405, -0.36420679490708935, 1.68603220993815e-5, 0.03604451264817777, 1.6260340871740515, 1.0879700319314765, 2.478378113371506, 1.8899937995552378, 1.9982866587130679, 1.6995353199901209, 1.2434974889861203, 0.6566410278266642, 0.8946022933239834, 1.023374492201617, 1.0266407345194057, 0.8248944531135455, 0.9057309638832644, 0.32004879785094026, 0.36420679490708935, -1.6860322099396174e-5, 0.003121261648220068, 0.14234551215952967, 0.09972869171934352, 0.24495791826701033, 0.2071447479884609, 0.2502422513053921, 0.25185701965717683, 0.23159084982067463, 0.19292925771297514, 0.4025925481251074, 0.5898366489355993, 0.7521838024297272, 0.7838279338416281, 1.1491186317528708, 0.5792459772224363, 1.006604214348362, 0.03624771677396983, 0.8372424167281712, 23.194672527178966, 13.329455914273229, 26.39610105635393, 17.965048822292946, 17.188316733433638, 13.422860729646139, 9.102077164058116, 4.279924624066738, 4.966588072194056, 5.249192959020592, 5.049409166957107, 4.018596546062216, 4.529962854287543, 1.7328546920566046, 2.293520837518535, 0.0361153215997188, -3.301395615218361e-17, -9.8879238130678e-17, -2.4728483150049385e-15, -7.12277459236077e-15, 5.186823193170653e-16, -6.048980760731126e-15, -8.866171685717461e-15, -7.572067972638763e-16, -2.699663409488906e-16, 7.28583859910259e-17, -1.942890293094024e-16, 7.719519468096792e-17, 8.840584514446803e-16, -7.155734338404329e-17, 4.584006785268713e-16, 3.5496779127175415e-16, 1.011082053313777e-17, 84.02264254291723, 36.26904749559473, -7.179236890435485, 7.893453212470762, 0.4753532510345673, 0.2379843536568016, -0.30009666930607803, -0.5139490044916617, -0.4669757102969978, -0.7914165644219743, -0.9506061096887167, -0.9746535696204436, -0.7926870773256746, -0.8766746896415615, -0.31110917170943614, -0.35486427302558393, 1.7809225554838148e-5, 3.1882773119422056e-8, 0.0003877216948509969, 0.00033019830438876124, 0.0008835240007433473, 0.000743592394172603, 0.0008349882678407927, 0.0007335380851814757, 0.0005571450562838657, 0.0004051205214801113, 0.0011031640527881415, 0.0017440878842276046, 0.002176963460483024, 0.002053471149823815, 0.002534903679021972, 0.000971229273614514, 0.001156157933092609, 1.358675429433434e-7, 3.1180576458801513e-6, 0.026416535784217984, 0.022186690414728403, 0.057885446009594624, 0.04686389084861059, 0.04963552916504316, 0.03970123243956214, 0.02501850725402669, 0.008987155790424757, 0.011813634867472944, 0.015262190534250342, 0.017181326512354142, 0.015185905428740158, 0.01794863418981514, 0.006684057358648203, 0.007832745608144866, 6.032996896343434e-7, 0.03604451264817776, 1.6260340871740517, 1.0879700319314765, 2.478378113371508, 1.889993799555239, 1.9982866587130674, 1.6995353199901202, 1.2434974889861212, 0.6566410278266643, 0.894602293323984, 1.0233744922016184, 1.0266407345194069, 0.8248944531135468, 0.9057309638832659, 0.32004879785094087, 0.36420679490708957, -1.6860322099368314e-5]"
     ]
    },
    {
     "name": "stdout",
     "output_type": "stream",
     "text": [
      "\n",
      "g = [-869703.110364473, -3.808863185715654e6, -1.6942349888694114e6, -3.2676746378652183e6, -2.3185495688859234e6, -2.4614103898557606e6, -2.288760333013442e6, -2.1278416390491016e6, -1.9464306669041584e6, -1.7462745034096926e6, -1.529300761836642e6, -1.3156512635228843e6, -960374.6764668435, -991238.2645042374, -337004.29253346386, -375140.2803565735, -1.5976186954745234e-10, -179701.12016370843, -787000.7280261117, -350068.8012864421, -675178.4439506438, -479066.8789367405, -508585.2849880057, -472911.7220891784, -439662.13471153384, -402178.3606328464, -360821.3890882093, -315989.5103216172, -271844.4984067962, -198435.9985393478, -204813.1418155937, -69633.01400964541, -77512.80614640158, -3.301056024175191e-11, 136453.24247066924, 597596.7265429876, 265819.283596221, 512686.2194260965, 363771.96164202684, 386186.30282471696, 359098.13930302166, 333850.58378217573, 305387.8646382142, 273984.09341579844, 239941.70559884762, 206420.879411476, 150679.28012319302, 155521.66439409263, 52874.74299528913, 58858.1402388663, 2.5066053993747407e-11, -59497.6513237297, -260569.8554631242, -115905.07315303384, -223546.3618862106, -158615.33916849794, -168388.6551571266, -156577.41433182752, -145568.73305788348, -133158.14530862804, -119465.17182840392, -104621.6834371662, -90005.6113492619, -65700.62468400033, -67812.0475106688, -23054.952492182452, -25663.89073713652, -1.0929541237558627e-11, 11869.312218981933, 51981.6312163117, 23122.148024498878, 44595.73622844359, 31642.509265903565, 33592.208729713086, 31235.959332803737, 29039.814237113424, 26563.99985554245, 23832.35963400317, 20871.20076109541, 17955.409647215052, 13106.756485453601, 13527.968687926174, 4599.2812024559635, 5119.743807289108, 2.180357282558519e-12, 497.5608700394926, 2179.0669229087425, 969.2790850890925, 1869.4506394726327, 1326.4521271415422, 1408.1834139786326, 1309.409577860199, 1217.3473046311642, 1113.5613113888023, 999.0511139832332, 874.9195082131118, 752.6897162327833, 549.4344609006685, 567.0916516516487, 192.80159746666075, 214.61935924645937, 9.140044903122552e-14, 403.24818143430787, 1766.0246751655905, 785.5521844663203, 1515.0961742403654, 1075.0230579567894, 1141.262175154102, 1061.2109247716367, 986.5990601863647, 902.4857073215908, 809.6809237464389, 709.0784702589915, 610.0173416592908, 445.2891304695007, 459.5993998019872, 156.2560447124579, 173.93824862043888, 7.407548919832743e-14, 331.3590949867934, 1451.186552176795, 645.5078358538445, 1244.9923402717857, 883.3732772395097, 937.8036130420313, 872.0235026768812, 810.7130713779356, 741.5950300207749, 665.3350231274339, 582.6674762522543, 501.2664745058531, 365.9051920705736, 377.6642975379903, 128.39949179180817, 142.92940005693694, 6.086967825659105e-14, 272.2860384470531, 1192.4762087957952, 530.4298993760201, 1023.0412786558367, 725.8898692342302, 770.6166346414153, 716.563476207208, 666.1831646164384, 609.3871449776506, 546.7223940078293, 478.7924075148501, 411.90317276475935, 300.67342862605113, 310.3361790736632, 105.50906701383815, 117.44865527432847, 5.0018133815504505e-14, 223.74423354640123, 979.8874627617587, 435.8674868636725, 840.6585518841824, 596.481822414454, 633.2349218466389, 588.8180924946791, 547.4193330614166, 500.7486262009252, 449.2554363330753, 393.4356710253344, 338.47111739995796, 247.0708605530872, 255.01098376021778, 86.69943367587527, 96.51049133949647, 4.110114891604171e-14, 183.8562209580946, 805.1979843772397, 358.1631924231807, 690.7901134063267, 490.14400058974275, 520.3449396843239, 483.8465224417704, 449.8281285769988, 411.47764393296234, 369.1644046412907, 323.29591032713154, 278.1301647969143, 203.024292560078, 209.54888997054914, 71.24308851315101, 79.30507946167421, 3.377383987494886e-14, 153.1810655547767, 670.8561972323822, 298.40610870810923, 575.5364985468955, 408.3668199768482, 433.52893854512496, 403.12003306919075, 374.7773759999176, 342.82540792561144, 307.5718437655506, 269.35619461415456, 231.72604540929584, 169.15107525758296, 174.5870881291828, 59.356665523681706, 66.07356831626778, 2.8138905243245717e-14, 113.18226696637717, 495.68153176250286, 220.48599634607908, 425.25181158329775, 301.7336527294371, 320.32541282015103, 297.8569122566675, 276.91511917452027, 253.3064821175201, 227.25836516631978, 199.0216259265081, 171.21750028040535, 124.98217118490668, 128.99872674180781, 43.8573915072613, 48.82036968151761, 2.079124514409225e-14, 126.54872494170726, 554.219910088314, 246.5246761083792, 475.47266879717307, 337.36741671959453, 358.15480326841583, 333.03284579334996, 309.6178949925671, 283.2211546086477, 254.0968396814152, 222.52543328458842, 191.43773074123337, 139.74215950803193, 144.23305722555477, 49.03680694222122, 54.58589671307936, 2.324662364040609e-14, 52.60536188519707, 230.38508643691915, 102.47847069408272, 197.65044507652937, 140.24112098311056, 148.88228265859914, 138.43927215138837, 128.70585159763206, 117.73292333521522, 105.62616266171773, 92.50216430065379, 79.57923802679471, 58.08977431361053, 59.95660702748037, 20.384235211206935, 22.690950475733718, 9.663448207604214e-15, 95.77418277305298, 419.44285878592336, 186.5739808800721, 359.84563499907347, 255.32528000940962, 271.057520374676, 252.04480453781454, 234.32397978316595, 214.34648700868823, 192.30472039060817, 168.4109541907128, 144.88326312347303, 105.75919379660571, 109.15797998754717, 37.11187222830226, 41.31151578996639, 1.7593431956095938e-14, 17.883572762880902, 78.32107429977839, 34.83829635629016, 67.19269651363346, 47.67598209708705, 50.61360742730843, 47.06343057125328, 43.754483945532904, 40.024157720783116, 35.908376977752, 31.446778934909492, 27.053536800538076, 19.748038384070362, 20.382681650045356, 6.929768003703803, 7.713952520225892, 3.285159021207132e-15, 1.7398200589867376e6, 3.3261795126154567e6, 1.0305156188651823e6, 1.955068342421642e6, 1.1328883412745472e6, 1.0456506331195474e6, 847447.5016245194, 696368.762751298, 572223.592400214, 470210.40751470765, 386383.6274595705, 321918.15680072614, 237858.55407380464, 265948.87645659246, 110552.96602478647, 201274.53922411794, 37583.279369339565, 3.9900608094679583e6, 1.442239554028724e6, -354581.1353609058, 655313.2349884941, 186408.58393089354, 215676.20775462163, 174794.77143931363, 143633.22623437532, 118027.00681050002, 96985.73723135018, 79695.60087229176, 66398.93389535246, 49060.77546339581, 54854.69363666755, 22802.68735372675, 41514.94577869547, 7751.938279020715, 1.5583367710551827e6, -141360.31821551707, -448080.9769827824, -180152.46149099356, -201914.80938490282, -164360.7350932369, -133206.14927032575, -109458.81742576795, -89945.04216384787, -73910.08600744764, -60733.76233492494, -50600.74867814674, -37387.82874271481, -41803.20983617528, -17377.282800816833, -31637.365458991117, -5907.532811346659, 3.328073845782652e6, 893591.3859515142, -431681.0223654024, 355127.48839466716, 34867.668820624844, 70748.9742530375, 57338.50253058604, 47116.478588578924, 38716.786394442766, 31814.549679486467, 26142.809505483343, 21781.060198981384, 16093.567186802804, 17994.165180121447, 7480.040368311359, 13618.283910828057, 2542.893754593197, 2.3072247174014035e6, 438114.45231157704, -378960.4360909068, 133943.87794816223, -46541.89771260388, -14942.40679448719, -12110.07281511174, -9951.149076399019, -8177.107557940219, -6719.33336579645, -5521.443929131556, -4600.2287007634, -3399.0122149268313, -3800.424513391836, -1579.8081484933398, -2876.224569851997, -537.0671916796178, 2.46141038985576e6, 508585.28498800553, -386186.30282471684, 168388.65515712654, -33592.20872971307, -1408.1834139786322, -1141.2621751541014, -937.8036130420312, -770.6166346414151, -633.2349218466388, -520.3449396843239, -433.52893854512484, -320.32541282015103, -358.1548032684157, -148.8822826585991, -271.05752037467596, -50.61360742730843, 2.288760333013441e6, 472911.72208917834, -359098.1393030216, 156577.4143318275, -31235.95933280373, -1309.4095778601989, -1061.2109247716364, -872.023502676881, -716.5634762072079, -588.8180924946791, -483.8465224417703, -403.1200330691907, -297.85691225666744, -333.03284579334985, -138.43927215138834, -252.04480453781449, -47.06343057125326, 2.1278416390491e6, 439662.1347115335, -333850.58378217544, 145568.73305788336, -29039.8142371134, -1217.3473046311633, -986.599060186364, -810.713071377935, -666.1831646164378, -547.4193330614162, -449.82812857699844, -374.7773759999173, -276.9151191745201, -309.6178949925668, -128.70585159763195, -234.32397978316575, -43.754483945532876, 1.9464306669041575e6, 402178.36063284625, -305387.86463821406, 133158.14530862798, -26563.99985554244, -1113.5613113888016, -902.4857073215904, -741.5950300207746, -609.3871449776505, -500.748626200925, -411.4776439329621, -342.82540792561133, -253.30648211752, -283.22115460864757, -117.73292333521518, -214.34648700868814, -40.0241577207831, 1.7462745034096916e6, 360821.38908820914, -273984.0934157983, 119465.17182840387, -23832.359634003158, -999.0511139832325, -809.6809237464383, -665.3350231274335, -546.722394007829, -449.255436333075, -369.16440464129045, -307.5718437655505, -227.25836516631966, -254.09683968141505, -105.62616266171767, -192.3047203906081, -35.90837697775197, 1.5293007618366408e6, 315989.51032161695, -239941.70559884745, 104621.68343716612, -20871.200761095395, -874.9195082131113, -709.078470258991, -582.667476252254, -478.79240751484974, -393.4356710253341, -323.29591032713137, -269.3561946141544, -199.02162592650802, -222.52543328458827, -92.50216430065373, -168.4109541907127, -31.446778934909474, 1.3156512635228832e6, 271844.49840679596, -206420.87941147582, 90005.61134926183, -17955.409647215034, -752.6897162327828, -610.0173416592902, -501.2664745058527, -411.903172764759, -338.4711173999577, -278.1301647969141, -231.72604540929566, -171.21750028040523, -191.43773074123322, -79.57923802679466, -144.88326312347291, -27.053536800538055, 960374.6764668425, 198435.99853934764, -150679.28012319288, 65700.62468400026, -13106.756485453589, -549.434460900668, -445.2891304695002, -365.90519207057326, -300.67342862605085, -247.07086055308693, -203.0242925600778, -169.1510752575828, -124.98217118490656, -139.7421595080318, -58.08977431361047, -105.75919379660562, -19.748038384070345, 991238.264504236, 204813.14181559344, -155521.6643940924, 67812.0475106687, -13527.968687926155, -567.0916516516479, -459.5993998019865, -377.66429753798974, -310.3361790736628, -255.0109837602174, -209.54888997054886, -174.58708812918255, -128.99872674180764, -144.2330572255546, -59.95660702748029, -109.15797998754702, -20.382681650045324, 337004.2925334633, 69633.01400964528, -52874.74299528904, 23054.95249218241, -4599.281202455954, -192.80159746666038, -156.25604471245762, -128.39949179180795, -105.50906701383798, -86.69943367587511, -71.2430885131509, -59.3566655236816, -43.85739150726122, -49.03680694222112, -20.3842352112069, -37.1118722283022, -6.929768003703789, 375140.2803565721, 77512.80614640129, -58858.14023886608, 25663.890737136422, -5119.743807289089, -214.61935924645857, -173.93824862043823, -142.92940005693646, -117.44865527432805, -96.51049133949611, -79.30507946167393, -66.07356831626754, -48.820369681517434, -54.58589671307915, -22.690950475733636, -41.31151578996624, -7.713952520225863, -1.5976186954745234e-10, -3.301056024175191e-11, 2.5066053993747407e-11, -1.0929541237558627e-11, 2.180357282558519e-12, 9.140044903122552e-14, 7.407548919832743e-14, 6.086967825659105e-14, 5.0018133815504505e-14, 4.110114891604171e-14, 3.377383987494886e-14, 2.8138905243245717e-14, 2.079124514409225e-14, 2.324662364040609e-14, 9.663448207604214e-15, 1.7593431956095938e-14, 3.285159021207132e-15, 1624.1264160393052, 334.9927932242878, -255.28852866294338, 109.88878536728811, -23.208858509204653, -2.187219907712362, -2.0338023212141914, -1.8908092744583822, -1.7296067007680507, -1.5517470690501227, -1.358943264786006, -1.1690933974455202, -0.8533930871049057, -0.8808186047906321, -0.2994634704767399, -0.3333512740347106, 1.4196508758054365e-16, 8697.881929779807, 1794.0276902198248, -1367.1777383884091, 588.5007910052094, -124.29322560390035, -11.713485061181107, -10.891869181939983, -10.126081109546847, -9.262773340589778, -8.310260000815852, -7.27771431438384, -6.260988205994542, -4.570279898180738, -4.717155112042026, -1.6037531824897977, -1.7852366626523835, 7.602829174699758e-16, 4777.434419594931, 985.3950313601874, -750.9416703758463, 323.24236608467106, -68.26980854838804, -6.4337970044293655, -5.982512885736843, -5.5618929779590385, -5.087709000363517, -4.564527603869843, -3.997387311326296, -3.4389361453143414, -2.5102907430825767, -2.590964027423658, -0.8808840722853585, -0.9805664353843664, 4.1759612373159285e-16, 11492.705325361392, 2370.488787464736, -1806.482428888269, 777.5992166102193, -164.23141028317602, -15.477288980006326, -14.391669599680366, -13.379816745302332, -12.239108941515216, -10.980531828043787, -9.616206190499001, -8.272783314141853, -6.038812730301523, -6.232882225166458, -2.1190748379625775, -2.3588730067315193, 1.004578770432871e-15, 10278.807551756909, 2120.109874928983, -1615.6757444391367, 695.4666002177377, -146.88474231817247, -13.842526223773202, -12.871573574338829, -11.966595984954699, -10.946373534628684, -9.82073152326773, -8.600510498779755, -7.398984416297639, -5.400973238119388, -5.574544467252125, -1.8952511032473423, -2.1097209916034303, 8.984718183867087e-16, 13911.351712601934, 2869.359504104773, -2186.6576858490785, 941.2454150231455, -198.79400419883726, -18.734493268814024, -17.42040467103154, -16.19560680663399, -14.814836395269307, -13.291391010804812, -11.639942265092841, -10.013795278576245, -7.309684311872045, -7.544595842562336, -2.565035345609141, -2.855299175694572, 1.2159929453394746e-15, 16697.156004118817, 3443.960318287247, -2624.544707266165, 1129.7336058699595, -238.60330537000036, -22.486151110975985, -20.908910971146035, -19.438842394213154, -17.781567138671846, -15.953045671191765, -13.970887653076232, -12.01909817348893, -8.773478078742317, -9.055431590962769, -3.0786940195694394, -3.4270843524009416, 1.4595004373190137e-15, 20319.638643687053, 4191.134655119218, -3193.9451271039575, 1374.8316557169655, -290.3687875415278, -27.364568250405306, -25.445142589666602, -23.656139584762848, -21.63931502389652, -19.414092030097194, -17.001900717225762, -14.626666460327112, -10.676902351776397, -11.020026263490747, -3.746623075013478, -4.170597413418397, 1.7761420854731179e-15, 24728.027270181716, 5100.410192431758, -3886.8782849653835, 1673.1042943541925, -353.3649107961511, -33.30136927129858, -30.965520149464947, -28.788389154793382, -26.33401023522686, -23.626020401460767, -20.69049907593208, -17.799952717918593, -12.993278923186951, -13.410844294043578, -4.559460883858237, -5.075417352660466, 2.1614798715400377e-15, 30092.825851464277, 6206.955128885798, -4730.144869920385, 2036.0878614061698, -430.02818649547044, -40.5261727976543, -37.68355619623227, -35.034091960260675, -32.04723026712903, -28.751736227726838, -25.179347251153814, -21.661690657812272, -15.812198668450142, -16.320355742586944, -5.548645706969128, -6.176540038892834, 2.630417568090208e-15, 36621.52957963038, 7553.567483954628, -5756.360041584377, 2477.8215316586566, -523.3237326913383, -49.318413737016776, -45.859085308827304, -42.634814070003614, -38.999946265125686, -34.98948765817534, -30.642061157877137, -26.361241349863967, -19.24268940756398, -19.861092259242128, -6.752436407522414, -7.5165537743302036, 3.2010923551038887e-15, 45186.66308463852, 9320.214444958292, -7102.671701010208, 3057.3405321988394, -645.719975783644, -60.853125770119114, -56.5847210918324, -52.606349357101415, -48.12134972050579, -43.17291518029609, -37.808701866183966, -32.526673381542764, -23.743216984185615, -24.506253417401744, -8.331712859882183, -9.274543877794386, 3.9497717166173975e-15, 49445.93693436037, 10198.733524467529, -7772.166232673392, 3345.5240290438646, -706.5852404292485, -66.58911310737874, -61.91837058900401, -57.56499938457391, -52.65724576784077, -47.242374088984725, -41.37253252234305, -35.59262248898076, -25.981241576078805, -26.8162014686638, -9.11705623965371, -10.148758070880412, 4.3220753619086666e-15, 81876.07884409126, 16887.78415237005, -12869.702440880288, 5539.755259171747, -1170.0138058311163, -110.2629621959732, -102.52881645205566, -95.3201965720302, -87.19359109169632, -78.22726366428401, -68.5075649244123, -58.93678117666883, -43.02157701196623, -44.40416264458747, -15.096666415581144, -16.80503126240864, 7.156798010957056e-15, 50405.312918619034, 10396.6146977218, -7922.9658755073715, 3410.435639728596, -720.294777603139, -67.88110998091577, -63.119743268146, -58.681905673896296, -53.67892924921429, -48.15899539197475, -42.175264082725604, -36.2832092054999, -26.485343242559544, -27.33650346460394, -9.293950143293774, -10.345669594190795, 4.4059345333887376e-15, 135906.99159471126, 28032.21613995368, -21362.55871253632, 9195.499858739828, -1942.1186104622686, -183.0266872563787, -170.18869482378523, -158.22302847440324, -144.7335878673073, -129.85028368962202, -113.71645029661995, -97.82980251471727, -71.41198244838117, -73.70695134044828, -25.05912037577523, -27.894853720072295, 1.1879646666669612e-14, 37583.279369339565, 7751.938279020715, -5907.532811346659, 2542.893754593197, -537.0671916796178, -50.61360742730843, -47.06343057125326, -43.754483945532876, -40.0241577207831, -35.90837697775197, -31.446778934909474, -27.053536800538055, -19.748038384070345, -20.382681650045324, -6.929768003703789, -7.713952520225863, 3.285159021207132e-15, 0.772821941691734, 4.1387874337826185, 2.2732874165424106, 5.468672116359305, 4.891052772724674, 6.619557280711992, 7.945150325983376, 9.66886717438169, 11.76654837974478, 14.319326301110419, 17.425935147628493, 21.501555764853357, 23.528282412626314, 38.959793773137406, 23.984790479760214, 64.66978438159032, 17.883572762880902, 3.3845722842009276, 18.125812018115948, 9.955858094827779, 23.950039560076466, 21.42035669806486, 28.990339038426274, 34.795771362635115, 42.344786156557994, 51.53157716978867, 62.71146342076754, 76.31685119839945, 94.1660242586015, 103.04206991626997, 170.6243457763295, 105.0413461637239, 283.2212027573204, 78.32107429977839, 1.5055045315767772, 8.062611709953469, 4.428503284584822, 10.653308619659446, 9.528070718850444, 12.895303491679503, 15.477640028753106, 18.835546147125235, 22.921957764223535, 27.894925690460436, 33.94679021960581, 41.88634909753849, 45.83453688554347, 75.89606727050105, 46.72384259322947, 125.98070550307031, 34.83829635629016, 2.90366980220816, 15.55037640743752, 8.54126373366736, 20.547059064718255, 18.37681032461171, 24.87119935792082, 29.851757346667743, 36.32815804162635, 44.20962884632304, 53.80100269601871, 65.47324672568604, 80.78629087345858, 88.40116908406758, 146.38090687704732, 90.11637489991105, 242.97925549717246, 67.19269651363346, 2.060273164924106, 11.033631714029061, 6.060377957449589, 14.57898359412523, 13.03910284148195, 17.64713900238733, 21.181049766882733, 25.776322461791764, 31.368550196054407, 38.17402447631011, 46.455961744274035, 57.3211964575881, 62.72426578026115, 103.86327469696741, 63.94127486029383, 172.40377654283117, 47.67598209708705, 2.1872199077123624, 11.71348506118111, 6.433797004429366, 15.47728898000633, 13.842526223773204, 18.734493268814028, 22.48615111097599, 27.36456825040532, 33.30136927129859, 40.52617279765431, 49.31841373701679, 60.853125770119135, 66.58911310737874, 110.26296219597322, 67.88110998091578, 183.02668725637872, 50.61360742730843, 2.033802321214192, 10.891869181939985, 5.982512885736845, 14.39166959968037, 12.871573574338832, 17.420404671031545, 20.90891097114604, 25.44514258966661, 30.96552014946495, 37.683556196232274, 45.85908530882731, 56.584721091832414, 61.91837058900403, 102.5288164520557, 63.11974326814601, 170.18869482378526, 47.06343057125328, 1.8908092744583838, 10.126081109546854, 5.561892977959043, 13.379816745302342, 11.966595984954708, 16.195606806634, 19.43884239421317, 23.656139584762865, 28.788389154793403, 35.0340919602607, 42.63481407000364, 52.60634935710146, 57.56499938457395, 95.32019657203027, 58.68190567389634, 158.22302847440335, 43.754483945532904, 1.7296067007680511, 9.26277334058978, 5.0877090003635175, 12.23910894151522, 10.946373534628686, 14.814836395269312, 17.781567138671853, 21.63931502389653, 26.33401023522687, 32.04723026712904, 38.99994626512571, 48.12134972050581, 52.6572457678408, 87.19359109169636, 53.67892924921432, 144.73358786730736, 40.024157720783116, 1.5517470690501236, 8.310260000815855, 4.564527603869847, 10.980531828043793, 9.820731523267737, 13.29139101080482, 15.953045671191774, 19.414092030097205, 23.62602040146078, 28.751736227726855, 34.98948765817536, 43.172915180296116, 47.242374088984754, 78.22726366428407, 48.15899539197478, 129.85028368962207, 35.908376977752, 1.3589432647860067, 7.277714314383845, 3.9973873113262983, 9.616206190499007, 8.600510498779759, 11.639942265092847, 13.970887653076243, 17.001900717225773, 20.69049907593209, 25.17934725115383, 30.64206115787715, 37.80870186618399, 41.37253252234307, 68.50756492441236, 42.17526408272564, 113.71645029662002, 31.446778934909492, 1.169093397445521, 6.260988205994547, 3.4389361453143437, 8.27278331414186, 7.398984416297642, 10.013795278576252, 12.019098173488942, 14.626666460327122, 17.79995271791861, 21.66169065781229, 26.361241349863988, 32.52667338154279, 35.59262248898079, 58.93678117666888, 36.28320920549993, 97.82980251471733, 27.053536800538076, 0.8533930871049065, 4.570279898180743, 2.5102907430825794, 6.0388127303015295, 5.400973238119392, 7.309684311872053, 8.773478078742324, 10.676902351776407, 12.993278923186962, 15.812198668450158, 19.242689407563994, 23.74321698418564, 25.981241576078826, 43.02157701196627, 26.48534324255957, 71.41198244838124, 19.748038384070362, 0.8808186047906333, 4.717155112042032, 2.5909640274236616, 6.232882225166466, 5.574544467252133, 7.544595842562345, 9.05543159096278, 11.020026263490763, 13.410844294043597, 16.32035574258697, 19.861092259242156, 24.50625341740178, 26.81620146866383, 44.404162644587544, 27.33650346460397, 73.7069513404484, 20.382681650045356, 0.29946347047674043, 1.6037531824898008, 0.88088407228536, 2.119074837962581, 1.8952511032473456, 2.5650353456091453, 3.0786940195694448, 3.746623075013485, 4.559460883858246, 5.548645706969138, 6.752436407522427, 8.331712859882197, 9.117056239653728, 15.096666415581172, 9.293950143293792, 25.059120375775272, 6.929768003703803, 0.3333512740347118, 1.7852366626523903, 0.9805664353843698, 2.3588730067315278, 2.1097209916034383, 2.8552991756945825, 3.4270843524009544, 4.170597413418411, 5.075417352660485, 6.176540038892856, 7.516553774330231, 9.27454387779442, 10.148758070880449, 16.805031262408704, 10.34566959419083, 27.894853720072398, 7.713952520225892, 1.4196508758054365e-16, 7.602829174699758e-16, 4.1759612373159285e-16, 1.004578770432871e-15, 8.984718183867087e-16, 1.2159929453394746e-15, 1.4595004373190137e-15, 1.7761420854731179e-15, 2.1614798715400377e-15, 2.630417568090208e-15, 3.2010923551038887e-15, 3.9497717166173975e-15, 4.3220753619086666e-15, 7.156798010957056e-15, 4.4059345333887376e-15, 1.1879646666669612e-14, 3.285159021207132e-15, -0.772821941691734, -4.1387874337826185, -2.2732874165424106, -5.468672116359305, -4.891052772724674, -6.619557280711992, -7.945150325983376, -9.66886717438169, -11.76654837974478, -14.319326301110419, -17.425935147628493, -21.501555764853357, -23.528282412626314, -38.959793773137406, -23.984790479760214, -64.66978438159032, -17.883572762880902, -3.3845722842009276, -18.125812018115948, -9.955858094827779, -23.950039560076466, -21.42035669806486, -28.990339038426274, -34.795771362635115, -42.344786156557994, -51.53157716978867, -62.71146342076754, -76.31685119839945, -94.1660242586015, -103.04206991626997, -170.6243457763295, -105.0413461637239, -283.2212027573204, -78.32107429977839, -1.5055045315767772, -8.062611709953469, -4.428503284584822, -10.653308619659446, -9.528070718850444, -12.895303491679503, -15.477640028753106, -18.835546147125235, -22.921957764223535, -27.894925690460436, -33.94679021960581, -41.88634909753849, -45.83453688554347, -75.89606727050105, -46.72384259322947, -125.98070550307031, -34.83829635629016, -2.90366980220816, -15.55037640743752, -8.54126373366736, -20.547059064718255, -18.37681032461171, -24.87119935792082, -29.851757346667743, -36.32815804162635, -44.20962884632304, -53.80100269601871, -65.47324672568604, -80.78629087345858, -88.40116908406758, -146.38090687704732, -90.11637489991105, -242.97925549717246, -67.19269651363346, -2.060273164924106, -11.033631714029061, -6.060377957449589, -14.57898359412523, -13.03910284148195, -17.64713900238733, -21.181049766882733, -25.776322461791764, -31.368550196054407, -38.17402447631011, -46.455961744274035, -57.3211964575881, -62.72426578026115, -103.86327469696741, -63.94127486029383, -172.40377654283117, -47.67598209708705, -2.1872199077123624, -11.71348506118111, -6.433797004429366, -15.47728898000633, -13.842526223773204, -18.734493268814028, -22.48615111097599, -27.36456825040532, -33.30136927129859, -40.52617279765431, -49.31841373701679, -60.853125770119135, -66.58911310737874, -110.26296219597322, -67.88110998091578, -183.02668725637872, -50.61360742730843, -2.0338023212141914, -10.891869181939983, -5.982512885736843, -14.391669599680366, -12.871573574338829, -17.42040467103154, -20.908910971146035, -25.445142589666602, -30.965520149464947, -37.68355619623227, -45.859085308827304, -56.5847210918324, -61.91837058900401, -102.52881645205566, -63.119743268146, -170.18869482378523, -47.06343057125326, -1.890809274458383, -10.126081109546853, -5.561892977959042, -13.37981674530234, -11.966595984954704, -16.195606806634, -19.438842394213168, -23.65613958476286, -28.7883891547934, -35.034091960260696, -42.634814070003635, -52.60634935710145, -57.56499938457395, -95.32019657203026, -58.68190567389633, -158.22302847440332, -43.754483945532904, -1.729606700768051, -9.26277334058978, -5.087709000363517, -12.239108941515218, -10.946373534628686, -14.814836395269312, -17.781567138671853, -21.639315023896522, -26.334010235226863, -32.04723026712904, -38.9999462651257, -48.1213497205058, -52.65724576784079, -87.19359109169635, -53.678929249214306, -144.73358786730736, -40.0241577207831, -1.5517470690501225, -8.31026000081585, -4.564527603869843, -10.980531828043786, -9.820731523267728, -13.291391010804809, -15.953045671191763, -19.414092030097194, -23.626020401460764, -28.751736227726838, -34.989487658175335, -43.17291518029608, -47.24237408898471, -78.22726366428401, -48.15899539197474, -129.850283689622, -35.90837697775197, -1.3589432647860067, -7.277714314383847, -3.997387311326299, -9.616206190499009, -8.60051049877976, -11.63994226509285, -13.970887653076243, -17.001900717225773, -20.690499075932095, -25.179347251153835, -30.64206115787716, -37.808701866183995, -41.37253252234308, -68.50756492441238, -42.17526408272565, -113.71645029662005, -31.4467789349095, -1.1690933974455209, -6.260988205994544, -3.4389361453143428, -8.272783314141854, -7.39898441629764, -10.013795278576248, -12.019098173488933, -14.626666460327119, -17.7999527179186, -21.66169065781228, -26.36124134986398, -32.52667338154278, -35.59262248898077, -58.93678117666885, -36.28320920549992, -97.82980251471731, -27.053536800538065, -0.8533930871049052, -4.570279898180737, -2.510290743082576, -6.0388127303015215, -5.400973238119386, -7.309684311872043, -8.773478078742313, -10.676902351776395, -12.993278923186946, -15.812198668450137, -19.242689407563972, -23.743216984185604, -25.981241576078798, -43.021577011966215, -26.485343242559537, -71.41198244838115, -19.748038384070338, -0.880818604790633, -4.71715511204203, -2.5909640274236607, -6.232882225166464, -5.57454446725213, -7.544595842562343, -9.055431590962778, -11.02002626349076, -13.410844294043592, -16.320355742586962, -19.861092259242145, -24.50625341740177, -26.816201468663824, -44.404162644587515, -27.33650346460396, -73.70695134044837, -20.382681650045345, -0.29946347047674, -1.6037531824897977, -0.8808840722853586, -2.1190748379625775, -1.8952511032473425, -2.5650353456091413, -3.0786940195694394, -3.7466230750134786, -4.559460883858238, -5.548645706969129, -6.752436407522414, -8.331712859882185, -9.117056239653712, -15.096666415581147, -9.293950143293776, -25.05912037577523, -6.929768003703791, -0.33335127403471293, -1.785236662652396, -0.9805664353843734, -2.3588730067315358, -2.109720991603445, -2.8552991756945922, -3.4270843524009655, -4.170597413418426, -5.0754173526605015, -6.1765400388928775, -7.516553774330257, -9.274543877794452, -10.148758070880483, -16.80503126240876, -10.345669594190868, -27.894853720072494, -7.7139525202259165, -4.732169586018123e-17, -2.5342763915665857e-16, -1.3919870791053094e-16, -3.3485959014429026e-16, -2.994906061289029e-16, -4.053309817798249e-16, -4.865001457730045e-16, -5.920473618243726e-16, -7.204932905133459e-16, -8.768058560300692e-16, -1.0670307850346296e-15, -1.3165905722057991e-15, -1.4406917873028891e-15, -2.3855993369856852e-15, -1.4686448444629128e-15, -3.959882222223204e-15, -1.095053007069044e-15, 0.772821941691734, 3.384572284200927, 1.5055045315767772, 2.90366980220816, 2.060273164924106, 2.1872199077123624, 2.033802321214192, 1.890809274458383, 1.7296067007680507, 1.551747069050122, 1.3589432647860062, 1.1690933974455207, 0.8533930871049049, 0.8808186047906327, 0.2994634704767397, 0.3333512740347125, -4.732169586018123e-17, 4.1387874337826185, 18.12581201811594, 8.062611709953469, 15.55037640743752, 11.033631714029061, 11.71348506118111, 10.891869181939985, 10.126081109546853, 9.262773340589778, 8.310260000815848, 7.277714314383843, 6.2609882059945425, 4.570279898180735, 4.717155112042027, 1.6037531824897966, 1.785236662652394, -2.5342763915665857e-16, 2.2732874165424106, 9.955858094827775, 4.428503284584822, 8.54126373366736, 6.060377957449589, 6.433797004429366, 5.982512885736845, 5.561892977959042, 5.087709000363517, 4.564527603869843, 3.997387311326297, 3.4389361453143414, 2.510290743082575, 2.5909640274236594, 0.8808840722853579, 0.980566435384372, -1.3919870791053094e-16, 5.468672116359305, 23.95003956007646, 10.653308619659446, 20.547059064718255, 14.57898359412523, 15.47728898000633, 14.39166959968037, 13.37981674530234, 12.239108941515216, 10.980531828043784, 9.616206190499005, 8.272783314141854, 6.03881273030152, 6.2328822251664615, 2.119074837962576, 2.358873006731533, -3.3485959014429026e-16, 4.891052772724674, 21.42035669806486, 9.528070718850444, 18.37681032461171, 13.03910284148195, 13.842526223773204, 12.871573574338832, 11.966595984954704, 10.946373534628684, 9.820731523267726, 8.600510498779757, 7.398984416297639, 5.400973238119383, 5.574544467252128, 1.895251103247341, 2.1097209916034423, -2.994906061289029e-16, 6.619557280711992, 28.990339038426264, 12.895303491679503, 24.87119935792082, 17.64713900238733, 18.734493268814028, 17.420404671031545, 16.195606806634, 14.81483639526931, 13.291391010804809, 11.639942265092843, 10.013795278576248, 7.309684311872041, 7.544595842562339, 2.5650353456091395, 2.8552991756945882, -4.053309817798249e-16, 7.945150325983376, 34.79577136263511, 15.477640028753106, 29.851757346667743, 21.181049766882733, 22.48615111097599, 20.90891097114604, 19.438842394213168, 17.78156713867185, 15.95304567119176, 13.97088765307624, 12.019098173488933, 8.77347807874231, 9.055431590962773, 3.0786940195694372, 3.427084352400961, -4.865001457730045e-16, 9.66886717438169, 42.344786156557994, 18.835546147125235, 36.32815804162635, 25.776322461791764, 27.36456825040532, 25.44514258966661, 23.65613958476286, 21.639315023896522, 19.41409203009719, 17.001900717225766, 14.626666460327115, 10.676902351776391, 11.020026263490752, 3.746623075013476, 4.170597413418421, -5.920473618243726e-16, 11.76654837974478, 51.53157716978866, 22.921957764223535, 44.20962884632304, 31.368550196054407, 33.30136927129859, 30.96552014946495, 28.7883891547934, 26.33401023522686, 23.626020401460764, 20.690499075932085, 17.799952717918597, 12.99327892318694, 13.410844294043585, 4.559460883858234, 5.075417352660495, -7.204932905133459e-16, 14.319326301110419, 62.711463420767515, 27.894925690460436, 53.80100269601871, 38.17402447631011, 40.52617279765431, 37.683556196232274, 35.034091960260696, 32.04723026712904, 28.751736227726834, 25.179347251153818, 21.66169065781228, 15.812198668450133, 16.320355742586955, 5.548645706969125, 6.1765400388928695, -8.768058560300692e-16, 17.425935147628493, 76.31685119839943, 33.94679021960581, 65.47324672568604, 46.455961744274035, 49.31841373701679, 45.85908530882731, 42.634814070003635, 38.99994626512569, 34.98948765817533, 30.642061157877148, 26.361241349863974, 19.242689407563965, 19.861092259242135, 6.75243640752241, 7.516553774330247, -1.0670307850346296e-15, 21.501555764853357, 94.1660242586015, 41.88634909753849, 80.78629087345858, 57.3211964575881, 60.853125770119135, 56.584721091832414, 52.60634935710145, 48.12134972050579, 43.17291518029607, 37.80870186618398, 32.52667338154278, 23.7432169841856, 24.50625341740176, 8.331712859882177, 9.27454387779444, -1.3165905722057991e-15, 23.528282412626314, 103.04206991626995, 45.83453688554347, 88.40116908406758, 62.72426578026115, 66.58911310737874, 61.91837058900403, 57.56499938457395, 52.65724576784078, 47.24237408898471, 41.37253252234306, 35.592622488980766, 25.981241576078787, 26.816201468663806, 9.117056239653706, 10.14875807088047, -1.4406917873028891e-15, 38.959793773137406, 170.62434577632945, 75.89606727050105, 146.38090687704732, 103.86327469696741, 110.26296219597322, 102.5288164520557, 95.32019657203026, 87.19359109169633, 78.227263664284, 68.50756492441234, 58.936781176668845, 43.02157701196621, 44.404162644587494, 15.096666415581135, 16.80503126240874, -2.3855993369856852e-15, 23.984790479760214, 105.04134616372389, 46.72384259322947, 90.11637489991105, 63.94127486029383, 67.88110998091578, 63.11974326814601, 58.68190567389633, 53.6789292492143, 48.15899539197474, 42.17526408272562, 36.283209205499915, 26.48534324255953, 27.33650346460395, 9.293950143293769, 10.345669594190854, -1.4686448444629128e-15, 64.66978438159032, 283.2212027573203, 125.98070550307031, 242.97925549717246, 172.40377654283117, 183.02668725637872, 170.18869482378526, 158.22302847440332, 144.73358786730734, 129.850283689622, 113.71645029662, 97.82980251471727, 71.41198244838111, 73.70695134044833, 25.059120375775212, 27.894853720072454, -3.959882222223204e-15, 17.883572762880902, 78.32107429977837, 34.83829635629016, 67.19269651363346, 47.67598209708705, 50.61360742730843, 47.06343057125328, 43.754483945532904, 40.0241577207831, 35.90837697775196, 31.44677893490948, 27.053536800538065, 19.748038384070327, 20.382681650045335, 6.929768003703786, 7.713952520225908, -1.095053007069044e-15, -869703.110364473, -179701.12016370843, 136453.24247066924, -59497.6513237297, 11869.312218981933, 497.5608700394926, 403.24818143430787, 331.3590949867934, 272.2860384470531, 223.74423354640123, 183.8562209580946, 153.1810655547767, 113.18226696637717, 126.54872494170726, 52.60536188519707, 95.77418277305298, 17.883572762880902, -3.808863185715654e6, -787000.7280261117, 597596.7265429876, -260569.8554631242, 51981.6312163117, 2179.0669229087425, 1766.0246751655905, 1451.1865521767947, 1192.476208795795, 979.8874627617583, 805.1979843772394, 670.8561972323822, 495.68153176250274, 554.2199100883139, 230.3850864369191, 419.44285878592325, 78.32107429977837, -1.6942349888694114e6, -350068.8012864421, 265819.283596221, -115905.07315303384, 23122.148024498878, 969.2790850890925, 785.5521844663203, 645.5078358538445, 530.4298993760201, 435.8674868636725, 358.1631924231807, 298.40610870810923, 220.48599634607908, 246.5246761083792, 102.47847069408272, 186.5739808800721, 34.83829635629016, -3.2676746378652174e6, -675178.4439506435, 512686.21942609636, -223546.36188621056, 44595.73622844357, 1869.4506394726327, 1515.0961742403654, 1244.9923402717857, 1023.0412786558367, 840.6585518841824, 690.7901134063267, 575.5364985468955, 425.25181158329775, 475.47266879717307, 197.65044507652937, 359.84563499907347, 67.19269651363346, -2.318549568885923e6, -479066.8789367404, 363771.9616420268, -158615.33916849789, 31642.509265903558, 1326.4521271415422, 1075.0230579567894, 883.3732772395097, 725.8898692342302, 596.481822414454, 490.14400058974275, 408.3668199768482, 301.7336527294371, 337.36741671959453, 140.24112098311056, 255.32528000940962, 47.67598209708705, -2.46141038985576e6, -508585.2849880056, 386186.3028247169, -168388.65515712654, 33592.20872971308, 1408.1834139786326, 1141.262175154102, 937.8036130420313, 770.6166346414153, 633.2349218466389, 520.3449396843239, 433.52893854512496, 320.32541282015103, 358.15480326841583, 148.88228265859914, 271.057520374676, 50.61360742730843, -2.2887603330134414e6, -472911.7220891784, 359098.13930302166, -156577.41433182752, 31235.959332803737, 1309.409577860199, 1061.2109247716367, 872.0235026768812, 716.563476207208, 588.8180924946791, 483.8465224417704, 403.12003306919075, 297.8569122566675, 333.03284579334996, 138.43927215138837, 252.04480453781454, 47.06343057125328, -2.127841639049101e6, -439662.1347115337, 333850.5837821756, -145568.73305788345, 29039.814237113416, 1217.347304631164, 986.5990601863646, 810.7130713779354, 666.1831646164383, 547.4193330614164, 449.82812857699867, 374.77737599991747, 276.9151191745202, 309.617894992567, 128.70585159763203, 234.3239797831659, 43.754483945532904, -1.9464306669041577e6, -402178.3606328463, 305387.86463821406, -133158.145308628, 26563.999855542443, 1113.5613113888019, 902.4857073215904, 741.5950300207747, 609.3871449776505, 500.748626200925, 411.4776439329621, 342.8254079256114, 253.30648211752003, 283.22115460864757, 117.73292333521519, 214.34648700868814, 40.0241577207831, -1.7462745034096912e6, -360821.389088209, 273984.0934157982, -119465.17182840382, 23832.35963400315, 999.0511139832323, 809.6809237464382, 665.3350231274334, 546.7223940078288, 449.25543633307495, 369.1644046412904, 307.5718437655504, 227.2583651663196, 254.096839681415, 105.62616266171766, 192.30472039060803, 35.90837697775196, -1.529300761836641e6, -315989.510321617, 239941.70559884747, -104621.68343716614, 20871.2007610954, 874.9195082131114, 709.0784702589913, 582.6674762522542, 478.7924075148499, 393.4356710253343, 323.2959103271314, 269.35619461415445, 199.02162592650808, 222.52543328458833, 92.50216430065377, 168.41095419071274, 31.44677893490948, -1.3156512635228839e6, -271844.4984067961, 206420.8794114759, -90005.61134926186, 17955.40964721504, 752.6897162327829, 610.0173416592903, 501.2664745058529, 411.9031727647591, 338.47111739995773, 278.13016479691413, 231.72604540929572, 171.21750028040523, 191.43773074123325, 79.57923802679467, 144.88326312347294, 27.053536800538065, -960374.6764668418, -198435.9985393475, 150679.28012319276, -65700.62468400021, 13106.75648545358, 549.4344609006677, 445.28913046949987, 365.905192070573, 300.6734286260506, 247.07086055308676, 203.0242925600777, 169.15107525758268, 124.98217118490648, 139.7421595080317, 58.089774313610434, 105.75919379660554, 19.748038384070327, -991238.2645042364, -204813.1418155935, 155521.66439409246, -67812.04751066872, 13527.968687926159, 567.0916516516482, 459.59939980198675, 377.66429753798985, 310.33617907366295, 255.01098376021756, 209.54888997054897, 174.58708812918266, 128.9987267418077, 144.23305722555466, 59.956607027480324, 109.15797998754708, 20.382681650045335, -337004.29253346304, -69633.01400964524, 52874.742995289, -23054.952492182394, 4599.281202455952, 192.80159746666033, 156.2560447124575, 128.39949179180786, 105.5090670138379, 86.69943367587506, 71.24308851315085, 59.35666552368156, 43.85739150726119, 49.0368069422211, 20.38423521120689, 37.111872228302175, 6.929768003703786, -375140.2803565743, -77512.80614640172, 58858.140238866414, -25663.89073713657, 5119.743807289119, 214.61935924645982, 173.93824862043923, 142.92940005693728, 117.44865527432871, 96.51049133949668, 79.30507946167437, 66.07356831626791, 48.82036968151771, 54.585896713079464, 22.690950475733768, 41.311515789966485, 7.713952520225908, 5.325395651581746e-11, 1.100352008058397e-11, -8.355351331249136e-12, 3.643180412519543e-12, -7.267857608528397e-13, -3.0466816343741836e-14, -2.4691829732775816e-14, -2.0289892752197015e-14, -1.6672711271834836e-14, -1.3700382972013903e-14, -1.1257946624982955e-14, -9.379635081081905e-15, -6.93041504803075e-15, -7.748874546802031e-15, -3.2211494025347383e-15, -5.864477318698645e-15, -1.095053007069044e-15, 869703.110364473, 3.808863185715654e6, 1.6942349888694114e6, 3.2676746378652174e6, 2.318549568885923e6, 2.4614103898557606e6, 2.288760333013441e6, 2.127841639049101e6, 1.946430666904158e6, 1.7462745034096914e6, 1.5293007618366422e6, 1.315651263522884e6, 960374.6764668422, 991238.2645042371, 337004.2925334633, 375140.28035657475, 5.325395651581746e-11, 179701.12016370843, 787000.7280261117, 350068.8012864421, 675178.4439506435, 479066.8789367404, 508585.2849880057, 472911.72208917834, 439662.1347115337, 402178.36063284636, 360821.3890882091, 315989.51032161724, 271844.49840679613, 198435.99853934755, 204813.14181559364, 69633.0140096453, 77512.80614640182, 1.100352008058397e-11, -136453.24247066924, -597596.7265429876, -265819.283596221, -512686.21942609636, -363771.9616420268, -386186.30282471696, -359098.1393030216, -333850.5837821756, -305387.8646382141, -273984.09341579827, -239941.70559884765, -206420.87941147594, -150679.28012319282, -155521.66439409257, -52874.742995289045, -58858.14023886649, -8.355351331249136e-12, 59497.6513237297, 260569.8554631242, 115905.07315303384, 223546.36188621056, 158615.33916849789, 168388.6551571266, 156577.4143318275, 145568.73305788345, 133158.145308628, 119465.17182840384, 104621.68343716621, 90005.61134926189, 65700.62468400024, 67812.04751066877, 23054.952492182412, 25663.890737136604, 3.643180412519543e-12, -11869.312218981933, -51981.6312163117, -23122.148024498878, -44595.73622844357, -31642.509265903558, -33592.208729713086, -31235.95933280373, -29039.814237113416, -26563.999855542446, -23832.359634003154, -20871.200761095413, -17955.40964721505, -13106.756485453583, -13527.968687926168, -4599.281202455955, -5119.7438072891255, -7.267857608528397e-13, -497.5608700394926, -2179.0669229087425, -969.2790850890925, -1869.4506394726327, -1326.4521271415422, -1408.1834139786326, -1309.4095778601989, -1217.347304631164, -1113.561311388802, -999.0511139832323, -874.919508213112, -752.689716232783, -549.4344609006677, -567.0916516516485, -192.80159746666044, -214.61935924646008, -3.0466816343741836e-14, -403.24818143430787, -1766.0246751655905, -785.5521844663203, -1515.0961742403654, -1075.0230579567894, -1141.262175154102, -1061.2109247716364, -986.5990601863646, -902.4857073215906, -809.6809237464382, -709.0784702589916, -610.0173416592904, -445.2891304695001, -459.599399801987, -156.25604471245762, -173.93824862043945, -2.4691829732775816e-14, -331.3590949867934, -1451.186552176795, -645.5078358538445, -1244.9923402717857, -883.3732772395097, -937.8036130420313, -872.023502676881, -810.7130713779354, -741.5950300207749, -665.3350231274335, -582.6674762522546, -501.266474505853, -365.90519207057315, -377.6642975379901, -128.39949179180795, -142.92940005693742, -2.0289892752197015e-14, -272.2860384470531, -1192.4762087957952, -530.4298993760201, -1023.0412786558367, -725.8898692342302, -770.6166346414153, -716.5634762072079, -666.1831646164383, -609.3871449776505, -546.7223940078289, -478.7924075148502, -411.9031727647592, -300.67342862605074, -310.336179073663, -105.50906701383799, -117.44865527432887, -1.6672711271834836e-14, -223.74423354640123, -979.8874627617587, -435.8674868636725, -840.6585518841824, -596.481822414454, -633.2349218466389, -588.8180924946791, -547.4193330614164, -500.74862620092506, -449.25543633307495, -393.43567102533444, -338.4711173999578, -247.07086055308687, -255.0109837602177, -86.69943367587513, -96.5104913394968, -1.3700382972013903e-14, -183.8562209580946, -805.1979843772397, -358.1631924231807, -690.7901134063267, -490.14400058974275, -520.3449396843239, -483.8465224417703, -449.82812857699867, -411.4776439329622, -369.1644046412904, -323.2959103271316, -278.1301647969142, -203.02429256007775, -209.54888997054908, -71.2430885131509, -79.30507946167448, -1.1257946624982955e-14, -153.1810655547767, -670.8561972323822, -298.40610870810923, -575.5364985468955, -408.3668199768482, -433.52893854512496, -403.1200330691907, -374.77737599991747, -342.82540792561144, -307.57184376555045, -269.35619461415456, -231.72604540929578, -169.15107525758273, -174.58708812918275, -59.356665523681606, -66.07356831626801, -9.379635081081905e-15, -113.18226696637717, -495.68153176250286, -220.48599634607908, -425.25181158329775, -301.7336527294371, -320.32541282015103, -297.85691225666744, -276.9151191745202, -253.30648211752003, -227.25836516631963, -199.02162592650816, -171.21750028040526, -124.98217118490655, -128.99872674180776, -43.85739150726123, -48.820369681517775, -6.93041504803075e-15, -126.54872494170726, -554.219910088314, -246.5246761083792, -475.47266879717307, -337.36741671959453, -358.15480326841583, -333.03284579334985, -309.617894992567, -283.2211546086476, -254.096839681415, -222.52543328458842, -191.43773074123334, -139.74215950803173, -144.23305722555475, -49.03680694222113, -54.585896713079535, -7.748874546802031e-15, -52.60536188519707, -230.38508643691915, -102.47847069408272, -197.65044507652937, -140.24112098311056, -148.88228265859914, -138.43927215138834, -128.70585159763203, -117.73292333521522, -105.62616266171766, -92.5021643006538, -79.57923802679468, -58.08977431361044, -59.956607027480345, -20.384235211206903, -22.6909504757338, -3.2211494025347383e-15, -95.77418277305298, -419.44285878592336, -186.5739808800721, -359.84563499907347, -255.32528000940962, -271.057520374676, -252.04480453781449, -234.3239797831659, -214.3464870086882, -192.30472039060805, -168.41095419071283, -144.88326312347297, -105.7591937966056, -109.15797998754712, -37.1118722283022, -41.311515789966535, -5.864477318698645e-15, -17.883572762880902, -78.32107429977839, -34.83829635629016, -67.19269651363346, -47.67598209708705, -50.61360742730843, -47.06343057125326, -43.754483945532904, -40.0241577207831, -35.90837697775197, -31.4467789349095, -27.053536800538065, -19.748038384070338, -20.382681650045345, -6.929768003703791, -7.7139525202259165, -1.095053007069044e-15, 0.002886391369998487, 0.012640945740837151, 0.005622867381229405, 0.010844836315170178, 0.00769485745973873, 0.008168987350553346, 0.007595992235139099, 0.007061931445894081, 0.0064598603963806865, 0.005795577359931245, 0.005075479745320812, 0.004366414708311917, 0.0031873143203515635, 0.0032897451304713427, 0.0011184578622621985, 0.0012450244857768202, -1.7674049761775953e-19, 0.012947750662124429, 0.05670465041124655, 0.025223012241194803, 0.04864767752560504, 0.034517528289775015, 0.03664437625347688, 0.034074039478598446, 0.031678353983749734, 0.028977588622887702, 0.025997753242825997, 0.022767545287218312, 0.019586827177454143, 0.014297628357221794, 0.014757111642591723, 0.00501716907734215, 0.005584920595881078, -7.928210702264353e-19, 0.006180788306236337, 0.027068751114917328, 0.012040554624246488, 0.023222643393604015, 0.01647742073360395, 0.017492701098991693, 0.016265715200372975, 0.015122101511912324, 0.013832853719310388, 0.01241038798358446, 0.010868403427368443, 0.009350043535269713, 0.006825171140786388, 0.007044511858045732, 0.0023950152248729565, 0.002666039284434014, -3.784641307719861e-19, 0.013356457527080947, 0.058494581380942365, 0.026019198275886887, 0.0501832832294643, 0.03560710370264037, 0.03780108744816004, 0.03514961578641543, 0.03267830842228824, 0.029892291084273916, 0.026818394642329532, 0.02348622239955373, 0.02020510219209124, 0.014748945270458889, 0.015222932540185946, 0.005175540326377374, 0.005761213408998869, -8.178471479243627e-19, 0.011032475309808857, 0.04831670549877386, 0.021491938410893845, 0.04145154746845581, 0.029411578006869714, 0.03122381537995241, 0.0290336915702862, 0.026992384028791647, 0.024691125073561786, 0.022152077086331573, 0.019399692487202854, 0.01668947702745616, 0.012182674501239676, 0.01257418945494839, 0.004275012348888698, 0.004758780130169055, -6.75544278741481e-19, 0.014096803176606158, 0.061736923802828796, 0.027461436998888814, 0.05296493213168972, 0.03758079801978945, 0.039896393825829754, 0.0370979516439729, 0.034489660229100105, 0.03154921453225496, 0.028304932652909207, 0.02478805879906582, 0.02132506678418441, 0.015566476224600742, 0.016066736509636033, 0.005462419445096302, 0.00608055626429493, -8.631802444220485e-19, 0.01624337278745907, 0.07113782149874168, 0.03164308622770059, 0.0610300879212979, 0.04330335780658949, 0.04597155749919843, 0.04274698672137227, 0.039741521634052535, 0.03635332396847127, 0.032615023920325274, 0.028562623362640864, 0.02457230942032369, 0.017936838099784205, 0.01851327477119023, 0.006294201192750574, 0.007006463871182522, -9.946197245759485e-19, 0.019211614305649573, 0.08413722981431113, 0.037425402716629454, 0.07218245407068988, 0.05121642033371532, 0.05437219494134066, 0.0505583804771, 0.047003710100313394, 0.04299636830041914, 0.038574947969586076, 0.03378202980259433, 0.02906254368223388, 0.021214535918426036, 0.021896308056983074, 0.007444375454501846, 0.008286793838995749, -1.1763720982933626e-18, 0.02292290657223624, 0.10039082752733894, 0.044655227627036546, 0.08612663280100198, 0.061110388726099335, 0.06487579465934039, 0.06032522898293477, 0.05608386874918214, 0.05130239020081364, 0.04602684159007209, 0.04030802933398714, 0.03467683469907433, 0.025312751812242233, 0.026126228430451287, 0.008882477043171343, 0.009887633487354653, -1.403623208042147e-18, 0.027520791845164212, 0.12052725769470987, 0.053612190079358225, 0.10340194539343867, 0.07336793361732842, 0.0778886060972653, 0.072425286235822, 0.06733319236170403, 0.06159264303707575, 0.05525892289003684, 0.04839302910796686, 0.04163232732267303, 0.030389993147586357, 0.03136663721364711, 0.010664127649093354, 0.011870898753142558, -1.6851624821590466e-18, 0.03318310328507967, 0.1453253403191498, 0.06464271997519816, 0.12467655193836846, 0.08846314207577813, 0.09391392789123501, 0.08732654812899335, 0.08118677286697198, 0.07426512460103717, 0.06662826258774765, 0.05834973398302484, 0.05019804027874477, 0.03664263321792528, 0.03782021855410262, 0.012858236464126968, 0.014313296711390555, -2.0318790611924417e-18, 0.04068711698815928, 0.17818915464630308, 0.07926099881219695, 0.15287085752096, 0.10846816163802621, 0.11515158597738304, 0.10707453879077253, 0.09954631720701268, 0.09105941017099693, 0.08169555123689742, 0.07154491948505548, 0.06154980502730627, 0.04492898363614752, 0.046372867649193746, 0.015765992914610352, 0.017550099904141168, -2.491367379304158e-18, 0.044332423917588674, 0.19415376969559167, 0.08636228023962471, 0.16656711416138856, 0.11818621910955052, 0.12546843576598563, 0.11666773651802975, 0.10846503415664327, 0.09921775422330932, 0.08901495307886333, 0.07795488927574473, 0.06706427612724591, 0.04895433484077407, 0.05052758167890277, 0.0171785256147692, 0.019122477244402504, -2.7145780524559266e-18, 0.07319650089918679, 0.32056394219549067, 0.14259127213451375, 0.27501609079966993, 0.19513522900090136, 0.2071587713867565, 0.19262808857063154, 0.17908474810526215, 0.1638167236179576, 0.14697105453088175, 0.12870997384612257, 0.11072867021610558, 0.08082765834895303, 0.08342521908273558, 0.028363167507953178, 0.03157279253253877, -4.4819930267487734e-18, 0.04497367491932536, 0.1969621272882126, 0.0876114765122867, 0.16897644167776646, 0.11989573608828268, 0.12728328713235432, 0.11835528924583937, 0.11003393803466373, 0.10065289984954519, 0.09030251921640355, 0.07908247595882954, 0.0680343343926655, 0.04966243995847201, 0.051258443190719934, 0.017427006202686248, 0.01939907632482849, -2.7538433517922693e-18, 0.12110111500250749, 0.5303621122946953, 0.23591239790135152, 0.45500474517684053, 0.32284458297843754, 0.3427371238966489, 0.3186966046209514, 0.29628960959978595, 0.27102918366979845, 0.24315859854144814, 0.21294626318513252, 0.18319680942650501, 0.13372660480835485, 0.1380241804749984, 0.046925893560769684, 0.05223610872737451, -7.415304643049814e-18, 0.03345891389589101, 0.146533252386187, 0.06518001595766532, 0.12571283584613166, 0.08919842813508955, 0.09469451967594071, 0.08805238707095672, 0.0818615793557403, 0.07488239988123684, 0.06718206196099336, 0.0588347240586147, 0.050615275280301665, 0.03694719867591594, 0.03813457184079824, 0.012965111279983088, 0.014432265666005103, -2.0487675902774907e-18, 0.772821941691734, 2.794649182783126, 1.0364846882803904, 1.6836243791830032, 1.0167662979767922, 0.9291895149082342, 0.7530705928474375, 0.618827852043345, 0.5085196172767791, 0.41787947891169697, 0.34340173349312675, 0.28613185052672463, 0.2114434526917095, 0.23645836226163328, 0.09832114358423745, 0.1790783263943909, 0.03345891389589101, 3.384572284200927, 12.239160999242765, 4.539282802029647, 7.373429898113275, 4.452926147656554, 4.0693837859264175, 3.2980712879589555, 2.7101554494333273, 2.2270607364483657, 1.830102415783911, 1.503927265552457, 1.2531139175473447, 0.9260162154422488, 1.035568966282659, 0.4305972690134726, 0.7842732038492091, 0.146533252386187, 1.5055045315767772, 5.4441479749362225, 2.0191357296355097, 3.279803529885027, 1.980723096199556, 1.8101181526054184, 1.4670276928825372, 1.2055146020799687, 0.9906273966937341, 0.8140548491381311, 0.668967634114409, 0.5574023903273972, 0.4119048114793107, 0.46063538922670794, 0.19153561671897298, 0.3488555608343235, 0.06518001595766532, 2.90366980220816, 10.50013981493542, 3.8943113897915067, 6.32576406590325, 3.8202248617260937, 3.4911787430120618, 2.829459441324101, 2.325078585126848, 1.9106251736134259, 1.5700693244063908, 1.290239303230942, 1.0750631795024717, 0.7944416887434155, 0.8884284580167554, 0.3694151526277459, 0.6728384645020633, 0.12571283584613166, 2.060273164924106, 7.450281113992781, 2.763174120605659, 4.48838981027064, 2.7106066814500465, 2.4771349251596413, 2.0076178612898947, 1.6497388964935567, 1.355667152797702, 1.1140287692784674, 0.915477858658572, 0.762801547766396, 0.5636890569204296, 0.6303765357944116, 0.2621152464018103, 0.4774065672646909, 0.08919842813508955, 2.1872199077123624, 7.909341075739691, 2.933431133287089, 4.7649485096112905, 2.8776246745242045, 2.6297672146782167, 2.1313201705725895, 1.75138997020866, 1.4391985661474638, 1.182671280397871, 0.9718863651760827, 0.8098026802042645, 0.5984215821698514, 0.6692181075391919, 0.2782658604719968, 0.5068226707852197, 0.09469451967594071, 2.033802321214192, 7.35455826018825, 2.7276722504968345, 4.430721988741147, 2.6757802093854273, 2.44530814967733, 1.9818235445263723, 1.6285426875467413, 1.338249242427698, 1.0997154821173427, 0.9037155973579786, 0.7530009053582088, 0.5564466556792915, 0.6222773191266908, 0.2587475319454879, 0.47127274246742623, 0.08805238707095672, 1.890809274458383, 6.837472267022712, 2.5358944353269908, 4.119205756367191, 2.4876508319145176, 2.2733828553987694, 1.8424850336945833, 1.5140427293968384, 1.2441593033528198, 1.0223964301562791, 0.8401769508931567, 0.70005874252167, 0.5173238747567289, 0.578526100603231, 0.24055545027289815, 0.43813838885032974, 0.0818615793557403, 1.7296067007680507, 6.2545376781832, 2.319694570484038, 3.7680193207724995, 2.275564017043997, 2.079563641465236, 1.6854023847835427, 1.3849617121028974, 1.1380874300599961, 0.9352311416740706, 0.7685469411037933, 0.6403746313036113, 0.47321898212226277, 0.5292033594764257, 0.22004668811319492, 0.400784523037798, 0.07488239988123684, 1.551747069050122, 5.611368472424698, 2.0811547788532825, 3.380544799309883, 2.0415622767395165, 1.8657170928592688, 1.512088389572374, 1.2425427564243214, 1.0210551526738203, 0.8390590660481938, 0.6895154041411065, 0.5745233623217165, 0.42455673200214955, 0.4747841007058794, 0.19741875605720594, 0.3595708831773059, 0.06718206196099336, 1.3589432647860062, 4.91415872079071, 1.8225723290272429, 2.9605137834361455, 1.78789917567857, 1.6339026687443585, 1.3242121565780278, 1.0881574347584155, 0.8941895560018722, 0.7348063929399307, 0.6038434569090794, 0.5031391192942466, 0.3718057684665379, 0.41579241150214485, 0.1728895734603163, 0.3148943791503772, 0.0588347240586147, 1.1690933974455207, 4.2276308830158795, 1.5679516072867001, 2.546918040619363, 1.5381224336199597, 1.4056398612038032, 1.13921436544759, 0.9361374424690541, 0.7692676604502313, 0.6321509695418432, 0.5194840850653539, 0.43284855049197707, 0.31986299966307724, 0.3577045308596125, 0.14873620117721154, 0.2709023614870219, 0.050615275280301665, 0.8533930871049049, 3.086007480907941, 1.144544195953214, 1.8591519326313017, 1.1227700497157367, 1.0260628818291853, 0.8315825462087414, 0.6833442253020546, 0.5615357207525269, 0.4614458251089487, 0.37920334510865983, 0.31596274648402944, 0.23348765233774146, 0.26111051052781403, 0.10857168996439541, 0.1977482749270182, 0.03694719867591594, 0.8808186047906327, 3.1851825902740707, 1.1813264450275531, 1.9188995506742474, 1.1588525424389278, 1.0590374935731586, 0.8583071379271494, 0.7053048779246809, 0.5795818100323352, 0.476275322592299, 0.39138981369495424, 0.32611685017043957, 0.2409912515997315, 0.2695018263617676, 0.11206086142392685, 0.20410331681015734, 0.03813457184079824, 0.2994634704767397, 1.0829083620597346, 0.40163106804265225, 0.6523934846695892, 0.3939903201886196, 0.3600548869716367, 0.2918099514027832, 0.23979176341047284, 0.19704804066749815, 0.16192557721895595, 0.13306593580206588, 0.11087422904310272, 0.08193296118642139, 0.09162607576993466, 0.0380988029590937, 0.06939168547911356, 0.012965111279983088, 0.3333512740347125, 1.2054521427296936, 0.4470803334069409, 0.7262194582208494, 0.43857494532850555, 0.4007993198747832, 0.3248316695230479, 0.2669270135307547, 0.21934633729443945, 0.180249355217894, 0.14812390693136418, 0.1234209483056319, 0.0912046365903973, 0.10199464076230706, 0.042410129306899316, 0.07724416846252799, 0.014432265666005103, -4.732169586018123e-17, -1.7112290882175607e-16, -6.346638279339111e-17, -1.0309226034664572e-16, -6.225897961490913e-17, -5.689644826168255e-17, -4.61122745531307e-17, -3.789227741140572e-17, -3.113784608008222e-17, -2.5587738313928675e-17, -2.10272916872005e-17, -1.752052274408311e-17, -1.2947177376978341e-17, -1.447889882376672e-17, -6.020433688947185e-18, -1.096538496077779e-17, -2.0487675902774907e-18, -0.772821941691734, -3.3845722842009276, -1.5055045315767772, -2.90366980220816, -2.060273164924106, -2.1872199077123624, -2.0338023212141914, -1.890809274458383, -1.729606700768051, -1.5517470690501225, -1.3589432647860067, -1.1690933974455209, -0.8533930871049052, -0.880818604790633, -0.29946347047674, -0.33335127403471293, -4.732169586018123e-17, -2.794649182783126, -12.239160999242767, -5.4441479749362225, -10.50013981493542, -7.450281113992781, -7.909341075739691, -7.3545582601882495, -6.837472267022712, -6.254537678183202, -5.611368472424699, -4.914158720790714, -4.22763088301588, -3.0860074809079414, -3.185182590274073, -1.0829083620597353, -1.2054521427296951, -1.7112290882175607e-16, -1.0364846882803904, -4.539282802029647, -2.0191357296355097, -3.8943113897915067, -2.763174120605659, -2.933431133287089, -2.7276722504968345, -2.5358944353269908, -2.3196945704840384, -2.0811547788532834, -1.8225723290272438, -1.5679516072867004, -1.1445441959532145, -1.1813264450275538, -0.40163106804265253, -0.44708033340694153, -6.346638279339111e-17, -1.6836243791830032, -7.373429898113276, -3.279803529885027, -6.32576406590325, -4.48838981027064, -4.7649485096112905, -4.430721988741146, -4.119205756367191, -3.7680193207724995, -3.380544799309883, -2.9605137834361464, -2.546918040619363, -1.8591519326313022, -1.9188995506742486, -0.6523934846695898, -0.7262194582208503, -1.0309226034664572e-16, -1.0167662979767922, -4.452926147656555, -1.980723096199556, -3.8202248617260937, -2.7106066814500465, -2.8776246745242045, -2.675780209385427, -2.4876508319145176, -2.2755640170439975, -2.041562276739517, -1.787899175678571, -1.5381224336199601, -1.1227700497157371, -1.1588525424389284, -0.39399032018861996, -0.43857494532850616, -6.225897961490913e-17, -0.9291895149082342, -4.069383785926418, -1.8101181526054184, -3.4911787430120618, -2.4771349251596413, -2.6297672146782167, -2.4453081496773295, -2.2733828553987694, -2.0795636414652363, -1.865717092859269, -1.6339026687443594, -1.4056398612038035, -1.0260628818291857, -1.059037493573159, -0.36005488697163696, -0.4007993198747837, -5.689644826168255e-17, -0.7530705928474375, -3.298071287958956, -1.4670276928825372, -2.829459441324101, -2.0076178612898947, -2.1313201705725895, -1.981823544526372, -1.8424850336945833, -1.6854023847835429, -1.512088389572374, -1.3242121565780285, -1.1392143654475901, -0.8315825462087417, -0.8583071379271499, -0.29180995140278343, -0.3248316695230483, -4.61122745531307e-17, -0.618827852043345, -2.7101554494333273, -1.2055146020799687, -2.325078585126848, -1.6497388964935567, -1.75138997020866, -1.6285426875467408, -1.5140427293968384, -1.3849617121028976, -1.2425427564243217, -1.088157434758416, -0.9361374424690542, -0.6833442253020549, -0.7053048779246812, -0.23979176341047304, -0.26692701353075504, -3.789227741140572e-17, -0.5085196172767791, -2.227060736448366, -0.9906273966937341, -1.9106251736134259, -1.355667152797702, -1.4391985661474638, -1.3382492424276977, -1.2441593033528198, -1.1380874300599961, -1.0210551526738205, -0.8941895560018728, -0.7692676604502315, -0.5615357207525271, -0.5795818100323354, -0.1970480406674983, -0.21934633729443967, -3.113784608008222e-17, -0.41787947891169697, -1.8301024157839112, -0.8140548491381311, -1.5700693244063908, -1.1140287692784674, -1.182671280397871, -1.0997154821173425, -1.0223964301562791, -0.9352311416740706, -0.839059066048194, -0.734806392939931, -0.6321509695418434, -0.46144582510894894, -0.47627532259229927, -0.16192557721895603, -0.18024935521789423, -2.5587738313928675e-17, -0.34340173349312675, -1.5039272655524571, -0.668967634114409, -1.290239303230942, -0.915477858658572, -0.9718863651760827, -0.9037155973579785, -0.8401769508931567, -0.7685469411037935, -0.6895154041411065, -0.6038434569090796, -0.5194840850653539, -0.37920334510866, -0.3913898136949544, -0.133065935802066, -0.1481239069313644, -2.10272916872005e-17, -0.28613185052672463, -1.2531139175473451, -0.5574023903273972, -1.0750631795024717, -0.762801547766396, -0.8098026802042645, -0.7530009053582086, -0.70005874252167, -0.6403746313036114, -0.5745233623217167, -0.5031391192942468, -0.4328485504919772, -0.31596274648402956, -0.32611685017043973, -0.11087422904310279, -0.12342094830563204, -1.752052274408311e-17, -0.2114434526917095, -0.9260162154422491, -0.4119048114793107, -0.7944416887434155, -0.5636890569204296, -0.5984215821698514, -0.5564466556792915, -0.5173238747567289, -0.4732189821222628, -0.42455673200214966, -0.3718057684665381, -0.31986299966307735, -0.23348765233774152, -0.24099125159973162, -0.08193296118642145, -0.09120463659039742, -1.2947177376978341e-17, -0.23645836226163328, -1.0355689662826593, -0.46063538922670794, -0.8884284580167554, -0.6303765357944116, -0.6692181075391919, -0.6222773191266906, -0.578526100603231, -0.5292033594764258, -0.4747841007058794, -0.4157924115021451, -0.35770453085961257, -0.2611105105278141, -0.2695018263617678, -0.0916260757699347, -0.10199464076230719, -1.447889882376672e-17, -0.09832114358423745, -0.43059726901347267, -0.19153561671897298, -0.3694151526277459, -0.2621152464018103, -0.2782658604719968, -0.25874753194548783, -0.24055545027289815, -0.22004668811319494, -0.197418756057206, -0.17288957346031636, -0.14873620117721154, -0.10857168996439545, -0.11206086142392689, -0.03809880295909373, -0.04241012930689938, -6.020433688947185e-18, -0.1790783263943909, -0.7842732038492092, -0.3488555608343235, -0.6728384645020633, -0.4774065672646909, -0.5068226707852197, -0.4712727424674261, -0.43813838885032974, -0.4007845230377981, -0.359570883177306, -0.3148943791503774, -0.270902361487022, -0.19774827492701827, -0.20410331681015742, -0.06939168547911359, -0.07724416846252809, -1.096538496077779e-17, -0.03345891389589101, -0.14653325238618703, -0.06518001595766532, -0.12571283584613166, -0.08919842813508955, -0.09469451967594071, -0.08805238707095668, -0.0818615793557403, -0.07488239988123684, -0.06718206196099337, -0.05883472405861473, -0.05061527528030167, -0.03694719867591596, -0.03813457184079826, -0.012965111279983095, -0.01443226566600512, -2.0487675902774907e-18, -0.002886391369998487, -0.012947750662124429, -0.006180788306236337, -0.013356457527080947, -0.011032475309808857, -0.014096803176606158, -0.01624337278745907, -0.019211614305649573, -0.02292290657223624, -0.027520791845164212, -0.03318310328507967, -0.04068711698815928, -0.044332423917588674, -0.07319650089918679, -0.04497367491932536, -0.12110111500250749, -0.03345891389589101, -0.012640945740837154, -0.05670465041124656, -0.02706875111491733, -0.05849458138094238, -0.048316705498773864, -0.061736923802828816, -0.07113782149874169, -0.08413722981431115, -0.10039082752733895, -0.12052725769470991, -0.1453253403191498, -0.17818915464630308, -0.1941537696955917, -0.3205639421954907, -0.19696212728821266, -0.5303621122946954, -0.14653325238618703, -0.005622867381229405, -0.025223012241194803, -0.012040554624246488, -0.026019198275886887, -0.021491938410893845, -0.027461436998888814, -0.03164308622770059, -0.037425402716629454, -0.044655227627036546, -0.053612190079358225, -0.06464271997519816, -0.07926099881219695, -0.08636228023962471, -0.14259127213451375, -0.0876114765122867, -0.23591239790135152, -0.06518001595766532, -0.010844836315170178, -0.04864767752560504, -0.023222643393604015, -0.0501832832294643, -0.04145154746845581, -0.05296493213168972, -0.0610300879212979, -0.07218245407068988, -0.08612663280100198, -0.10340194539343867, -0.12467655193836846, -0.15287085752096, -0.16656711416138856, -0.27501609079966993, -0.16897644167776646, -0.45500474517684053, -0.12571283584613166, -0.00769485745973873, -0.034517528289775015, -0.01647742073360395, -0.03560710370264037, -0.029411578006869714, -0.03758079801978945, -0.04330335780658949, -0.05121642033371532, -0.061110388726099335, -0.07336793361732842, -0.08846314207577813, -0.10846816163802621, -0.11818621910955052, -0.19513522900090136, -0.11989573608828268, -0.32284458297843754, -0.08919842813508955, -0.008168987350553346, -0.03664437625347688, -0.017492701098991693, -0.03780108744816004, -0.03122381537995241, -0.039896393825829754, -0.04597155749919843, -0.05437219494134066, -0.06487579465934039, -0.0778886060972653, -0.09391392789123501, -0.11515158597738304, -0.12546843576598563, -0.2071587713867565, -0.12728328713235432, -0.3427371238966489, -0.09469451967594071, -0.007595992235139098, -0.03407403947859844, -0.01626571520037297, -0.035149615786415414, -0.029033691570286197, -0.03709795164397289, -0.04274698672137227, -0.050558380477099985, -0.060325228982934756, -0.07242528623582198, -0.08732654812899332, -0.1070745387907725, -0.11666773651802972, -0.19262808857063146, -0.11835528924583934, -0.3186966046209513, -0.08805238707095668, -0.007061931445894081, -0.031678353983749734, -0.015122101511912324, -0.03267830842228824, -0.026992384028791647, -0.034489660229100105, -0.039741521634052535, -0.047003710100313394, -0.05608386874918214, -0.06733319236170403, -0.08118677286697198, -0.09954631720701268, -0.10846503415664327, -0.17908474810526215, -0.11003393803466373, -0.29628960959978595, -0.0818615793557403, -0.006459860396380688, -0.02897758862288771, -0.01383285371931039, -0.02989229108427392, -0.024691125073561786, -0.03154921453225497, -0.03635332396847127, -0.04299636830041915, -0.05130239020081365, -0.06159264303707576, -0.07426512460103718, -0.09105941017099695, -0.09921775422330935, -0.1638167236179576, -0.1006528998495452, -0.27102918366979856, -0.07488239988123684, -0.005795577359931247, -0.025997753242826004, -0.01241038798358446, -0.026818394642329536, -0.022152077086331573, -0.02830493265290921, -0.032615023920325274, -0.03857494796958608, -0.0460268415900721, -0.05525892289003685, -0.06662826258774766, -0.08169555123689742, -0.08901495307886335, -0.14697105453088177, -0.09030251921640356, -0.24315859854144814, -0.06718206196099337, -0.005075479745320814, -0.022767545287218326, -0.010868403427368448, -0.023486222399553742, -0.019399692487202864, -0.024788058799065826, -0.028562623362640878, -0.03378202980259434, -0.04030802933398716, -0.048393029107966876, -0.05834973398302486, -0.07154491948505551, -0.07795488927574476, -0.12870997384612265, -0.07908247595882957, -0.2129462631851326, -0.05883472405861473, -0.004366414708311918, -0.01958682717745415, -0.009350043535269715, -0.02020510219209124, -0.016689477027456164, -0.021325066784184415, -0.024572309420323693, -0.029062543682233887, -0.03467683469907433, -0.041632327322673045, -0.05019804027874478, -0.06154980502730628, -0.06706427612724593, -0.1107286702161056, -0.0680343343926655, -0.18319680942650507, -0.05061527528030167, -0.0031873143203515644, -0.014297628357221799, -0.006825171140786391, -0.014748945270458894, -0.012182674501239681, -0.015566476224600749, -0.01793683809978421, -0.021214535918426047, -0.02531275181224224, -0.030389993147586364, -0.036642633217925304, -0.044928983636147536, -0.04895433484077408, -0.08082765834895304, -0.04966243995847203, -0.1337266048083549, -0.03694719867591596, -0.003289745130471344, -0.014757111642591728, -0.007044511858045735, -0.015222932540185955, -0.012574189454948394, -0.01606673650963604, -0.01851327477119024, -0.02189630805698308, -0.0261262284304513, -0.03136663721364713, -0.03782021855410264, -0.046372867649193766, -0.0505275816789028, -0.0834252190827356, -0.05125844319071997, -0.13802418047499848, -0.03813457184079826, -0.0011184578622621994, -0.005017169077342154, -0.0023950152248729583, -0.005175540326377378, -0.004275012348888702, -0.005462419445096307, -0.006294201192750578, -0.007444375454501851, -0.00888247704317135, -0.010664127649093361, -0.012858236464126977, -0.015765992914610363, -0.017178525614769215, -0.0283631675079532, -0.01742700620268626, -0.04692589356076971, -0.012965111279983095, -0.001245024485776822, -0.005584920595881085, -0.0026660392844340165, -0.005761213408998875, -0.004758780130169061, -0.0060805562642949375, -0.007006463871182531, -0.00828679383899576, -0.009887633487354665, -0.011870898753142572, -0.014313296711390573, -0.017550099904141185, -0.01912247724440253, -0.031572792532538814, -0.019399076324828513, -0.052236108727374574, -0.01443226566600512, -1.7674049761775953e-19, -7.928210702264353e-19, -3.784641307719861e-19, -8.178471479243627e-19, -6.75544278741481e-19, -8.631802444220485e-19, -9.946197245759485e-19, -1.1763720982933626e-18, -1.403623208042147e-18, -1.6851624821590466e-18, -2.0318790611924417e-18, -2.491367379304158e-18, -2.7145780524559266e-18, -4.4819930267487734e-18, -2.7538433517922693e-18, -7.415304643049814e-18, -2.0487675902774907e-18, 1624.1264160393052, 5873.103902025609, 2178.2277019354096, 3538.2261830366174, 2136.7884559122667, 1952.7411881780843, 1582.617905889855, 1300.4996458619694, 1068.6810233227725, 878.1959514963471, 721.6770081074445, 601.3213029296085, 444.35966228316994, 496.92982526070244, 206.62711283894888, 376.3426279028354, 70.3156871961292, 334.9927932242878, 1211.3881417149546, 449.2818877543614, 729.7955752762426, 440.73461665692156, 402.7729729728503, 326.43123568774286, 268.2414402303244, 220.4264628253063, 181.13695577186087, 148.85331238021632, 124.02870915978177, 91.65375490132897, 102.49689221021286, 42.61896918996633, 77.62454134450122, 14.503334364057629, -255.28852866294338, -923.1646250105842, -342.3850136469288, -556.1565574106519, -335.87138019963317, -306.9418857216879, -248.76400792465893, -204.41921136189825, -167.98077006800972, -138.0393484898717, -113.43689736844098, -94.51876969832422, -69.84673314905773, -78.10998127159834, -32.47871046095383, -59.15546647209715, -11.052580728290527, 109.88878536728811, 397.3756277564637, 147.3794121290055, 239.39723765888203, 144.57562273979994, 132.12294017658016, 107.0803095505765, 87.99211997479239, 72.30721601363813, 59.418950071475194, 48.82884057869198, 40.68554451294056, 30.065482016846985, 33.62239193414842, 13.980440333698855, 25.463433051614746, 4.75757636963514, -23.208858509204653, -83.92698753363013, -31.1269972803801, -50.561452633667884, -30.534828106736178, -27.904782222583187, -22.61569954727126, -18.584213626478412, -15.271512375407369, -12.549469906006266, -10.312805336519121, -8.592915490099465, -6.34992475171863, -7.101155359325381, -2.952713150088048, -5.377957476536593, -1.004815154162828, -2.187219907712362, -7.9093410757396905, -2.9334311332870886, -4.76494850961129, -2.8776246745242036, -2.6297672146782163, -2.131320170572589, -1.7513899702086595, -1.4391985661474636, -1.1826712803978707, -0.9718863651760825, -0.8098026802042643, -0.5984215821698513, -0.6692181075391916, -0.2782658604719968, -0.5068226707852196, -0.09469451967594068, -2.0338023212141914, -7.3545582601882495, -2.7276722504968345, -4.430721988741146, -2.675780209385427, -2.4453081496773295, -1.981823544526372, -1.6285426875467408, -1.3382492424276977, -1.0997154821173425, -0.9037155973579785, -0.7530009053582086, -0.5564466556792915, -0.6222773191266906, -0.25874753194548783, -0.4712727424674261, -0.08805238707095668, -1.8908092744583822, -6.83747226702271, -2.5358944353269894, -4.119205756367188, -2.487650831914516, -2.2733828553987676, -1.8424850336945822, -1.5140427293968373, -1.244159303352819, -1.0223964301562785, -0.8401769508931562, -0.7000587425216696, -0.5173238747567287, -0.5785261006032305, -0.240555450272898, -0.4381383888503295, -0.08186157935574025, -1.7296067007680507, -6.254537678183199, -2.319694570484038, -3.768019320772499, -2.275564017043997, -2.0795636414652354, -1.6854023847835422, -1.3849617121028972, -1.138087430059996, -0.9352311416740704, -0.7685469411037933, -0.6403746313036112, -0.47321898212226265, -0.5292033594764257, -0.22004668811319492, -0.40078452303779794, -0.07488239988123684, -1.5517470690501227, -5.611368472424701, -2.0811547788532834, -3.3805447993098836, -2.041562276739517, -1.8657170928592692, -1.5120883895723742, -1.2425427564243219, -1.0210551526738207, -0.8390590660481942, -0.6895154041411067, -0.5745233623217167, -0.4245567320021497, -0.4747841007058795, -0.19741875605720602, -0.359570883177306, -0.06718206196099338, -1.358943264786006, -4.91415872079071, -1.822572329027242, -2.9605137834361437, -1.7878991756785694, -1.633902668744358, -1.3242121565780274, -1.0881574347584149, -0.894189556001872, -0.7348063929399304, -0.6038434569090791, -0.5031391192942465, -0.37180576846653784, -0.41579241150214474, -0.17288957346031622, -0.3148943791503771, -0.05883472405861468, -1.1690933974455202, -4.2276308830158795, -1.5679516072867, -2.5469180406193628, -1.5381224336199595, -1.405639861203803, -1.1392143654475897, -0.9361374424690538, -0.7692676604502313, -0.6321509695418431, -0.5194840850653538, -0.432848550491977, -0.31986299966307724, -0.3577045308596124, -0.1487362011772115, -0.2709023614870219, -0.05061527528030165, -0.8533930871049057, -3.0860074809079427, -1.1445441959532148, -1.8591519326313026, -1.1227700497157376, -1.026062881829186, -0.831582546208742, -0.6833442253020551, -0.5615357207525273, -0.46144582510894905, -0.37920334510866016, -0.31596274648402967, -0.23348765233774166, -0.2611105105278142, -0.10857168996439548, -0.1977482749270183, -0.036947198675915977, -0.8808186047906321, -3.1851825902740702, -1.1813264450275527, -1.9188995506742468, -1.158852542438927, -1.059037493573158, -0.858307137927149, -0.7053048779246806, -0.579581810032335, -0.4762753225922987, -0.39138981369495396, -0.32611685017043945, -0.24099125159973137, -0.2695018263617675, -0.11206086142392681, -0.20410331681015723, -0.03813457184079823, -0.2994634704767399, -1.082908362059735, -0.40163106804265253, -0.6523934846695897, -0.3939903201886199, -0.3600548869716369, -0.29180995140278343, -0.239791763410473, -0.1970480406674983, -0.16192557721895603, -0.13306593580206597, -0.11087422904310279, -0.08193296118642143, -0.0916260757699347, -0.03809880295909372, -0.06939168547911359, -0.012965111279983095, -0.3333512740347106, -1.2054521427296867, -0.4470803334069384, -0.7262194582208452, -0.43857494532850305, -0.40079931987478085, -0.324831669523046, -0.2669270135307532, -0.21934633729443814, -0.18024935521789298, -0.14812390693136337, -0.12342094830563118, -0.09120463659039678, -0.1019946407623065, -0.04241012930689907, -0.07724416846252755, -0.014432265666005023, 1.4196508758054365e-16, 5.133687264652682e-16, 1.903991483801733e-16, 3.092767810399372e-16, 1.8677693884472736e-16, 1.7068934478504762e-16, 1.383368236593921e-16, 1.1367683223421716e-16, 9.341353824024668e-17, 7.676321494178602e-17, 6.30818750616015e-17, 5.256156823224933e-17, 3.884153213093502e-17, 4.3436696471300167e-17, 1.8061301066841555e-17, 3.2896154882333364e-17, 6.146302770832472e-18, 0.772821941691734, 3.3845722842009276, 1.5055045315767772, 2.90366980220816, 2.060273164924106, 2.1872199077123624, 2.033802321214192, 1.8908092744583838, 1.7296067007680511, 1.5517470690501236, 1.3589432647860067, 1.169093397445521, 0.8533930871049065, 0.8808186047906333, 0.29946347047674043, 0.3333512740347118, 1.4196508758054365e-16, 2.794649182783126, 12.239160999242767, 5.4441479749362225, 10.50013981493542, 7.450281113992781, 7.909341075739691, 7.35455826018825, 6.837472267022715, 6.254537678183202, 5.6113684724247035, 4.914158720790713, 4.227630883015881, 3.0860074809079454, 3.185182590274074, 1.082908362059737, 1.205452142729691, 5.133687264652682e-16, 1.0364846882803904, 4.539282802029647, 2.0191357296355097, 3.8943113897915067, 2.763174120605659, 2.933431133287089, 2.7276722504968345, 2.5358944353269917, 2.319694570484039, 2.0811547788532843, 1.822572329027243, 1.567951607286701, 1.1445441959532159, 1.1813264450275545, 0.4016310680426532, 0.44708033340694003, 1.903991483801733e-16, 1.6836243791830032, 7.373429898113276, 3.279803529885027, 6.32576406590325, 4.48838981027064, 4.7649485096112905, 4.430721988741147, 4.119205756367192, 3.7680193207725, 3.380544799309886, 2.960513783436146, 2.5469180406193646, 1.8591519326313046, 1.9188995506742492, 0.6523934846695908, 0.726219458220848, 3.092767810399372e-16, 1.0167662979767922, 4.452926147656555, 1.980723096199556, 3.8202248617260937, 2.7106066814500465, 2.8776246745242045, 2.6757802093854273, 2.487650831914518, 2.275564017043998, 2.0415622767395187, 1.7878991756785705, 1.5381224336199606, 1.1227700497157387, 1.1588525424389289, 0.3939903201886206, 0.4385749453285047, 1.8677693884472736e-16, 0.9291895149082342, 4.069383785926418, 1.8101181526054184, 3.4911787430120618, 2.4771349251596413, 2.6297672146782167, 2.44530814967733, 2.27338285539877, 2.0795636414652368, 1.8657170928592703, 1.633902668744359, 1.405639861203804, 1.0260628818291868, 1.0590374935731592, 0.36005488697163757, 0.40079931987478234, 1.7068934478504762e-16, 0.7530705928474375, 3.298071287958956, 1.4670276928825372, 2.829459441324101, 2.0076178612898947, 2.1313201705725895, 1.9818235445263723, 1.842485033694584, 1.6854023847835429, 1.5120883895723753, 1.3242121565780283, 1.1392143654475906, 0.8315825462087427, 0.8583071379271501, 0.29180995140278393, 0.3248316695230472, 1.383368236593921e-16, 0.618827852043345, 2.7101554494333273, 1.2055146020799687, 2.325078585126848, 1.6497388964935567, 1.75138997020866, 1.6285426875467413, 1.5140427293968386, 1.3849617121028976, 1.2425427564243225, 1.0881574347584158, 0.9361374424690545, 0.6833442253020557, 0.7053048779246814, 0.23979176341047345, 0.26692701353075415, 1.1367683223421716e-16, 0.5085196172767791, 2.227060736448366, 0.9906273966937341, 1.9106251736134259, 1.355667152797702, 1.4391985661474638, 1.338249242427698, 1.2441593033528202, 1.1380874300599961, 1.0210551526738212, 0.8941895560018727, 0.7692676604502319, 0.5615357207525279, 0.5795818100323358, 0.19704804066749865, 0.21934633729443898, 9.341353824024668e-17, 0.41787947891169697, 1.8301024157839112, 0.8140548491381311, 1.5700693244063908, 1.1140287692784674, 1.182671280397871, 1.0997154821173427, 1.0223964301562793, 0.9352311416740707, 0.8390590660481947, 0.7348063929399309, 0.6321509695418437, 0.46144582510894955, 0.47627532259229943, 0.16192557721895634, 0.18024935521789362, 7.676321494178602e-17, 0.34340173349312675, 1.5039272655524571, 0.668967634114409, 1.290239303230942, 0.915477858658572, 0.9718863651760827, 0.9037155973579786, 0.8401769508931569, 0.7685469411037935, 0.689515404141107, 0.6038434569090796, 0.5194840850653542, 0.37920334510866055, 0.39138981369495457, 0.13306593580206622, 0.1481239069313639, 6.30818750616015e-17, 0.28613185052672463, 1.2531139175473451, 0.5574023903273972, 1.0750631795024717, 0.762801547766396, 0.8098026802042645, 0.7530009053582088, 0.7000587425216702, 0.6403746313036115, 0.5745233623217171, 0.5031391192942468, 0.43284855049197735, 0.31596274648402994, 0.32611685017043984, 0.11087422904310298, 0.12342094830563162, 5.256156823224933e-17, 0.2114434526917095, 0.9260162154422491, 0.4119048114793107, 0.7944416887434155, 0.5636890569204296, 0.5984215821698514, 0.5564466556792915, 0.517323874756729, 0.4732189821222628, 0.42455673200214994, 0.37180576846653807, 0.31986299966307746, 0.23348765233774182, 0.24099125159973173, 0.0819329611864216, 0.0912046365903971, 3.884153213093502e-17, 0.23645836226163328, 1.0355689662826593, 0.46063538922670794, 0.8884284580167554, 0.6303765357944116, 0.6692181075391919, 0.6222773191266908, 0.5785261006032311, 0.5292033594764259, 0.4747841007058798, 0.415792411502145, 0.3577045308596127, 0.2611105105278144, 0.26950182636176784, 0.09162607576993487, 0.10199464076230687, 4.3436696471300167e-17, 0.09832114358423745, 0.43059726901347267, 0.19153561671897298, 0.3694151526277459, 0.2621152464018103, 0.2782658604719968, 0.2587475319454879, 0.2405554502728982, 0.22004668811319497, 0.19741875605720613, 0.17288957346031636, 0.14873620117721162, 0.10857168996439558, 0.11206086142392693, 0.0380988029590938, 0.04241012930689923, 1.8061301066841555e-17, 0.1790783263943909, 0.7842732038492092, 0.3488555608343235, 0.6728384645020633, 0.4774065672646909, 0.5068226707852197, 0.47127274246742623, 0.4381383888503298, 0.40078452303779816, 0.35957088317730623, 0.3148943791503773, 0.27090236148702207, 0.1977482749270185, 0.20410331681015753, 0.06939168547911372, 0.07724416846252782, 3.2896154882333364e-17, 0.03345891389589101, 0.14653325238618703, 0.06518001595766532, 0.12571283584613166, 0.08919842813508955, 0.09469451967594071, 0.08805238707095672, 0.08186157935574032, 0.07488239988123685, 0.06718206196099342, 0.05883472405861472, 0.050615275280301686, 0.03694719867591601, 0.038134571840798284, 0.012965111279983118, 0.014432265666005075, 6.146302770832472e-18, 0.002886391369998487, 0.012947750662124429, 0.006180788306236337, 0.013356457527080947, 0.011032475309808857, 0.014096803176606158, 0.01624337278745907, 0.019211614305649573, 0.02292290657223624, 0.027520791845164212, 0.03318310328507967, 0.04068711698815928, 0.044332423917588674, 0.07319650089918679, 0.04497367491932536, 0.12110111500250749, 0.03345891389589101, 0.012640945740837154, 0.05670465041124656, 0.02706875111491733, 0.05849458138094238, 0.048316705498773864, 0.061736923802828816, 0.07113782149874169, 0.08413722981431115, 0.10039082752733895, 0.12052725769470991, 0.1453253403191498, 0.17818915464630308, 0.1941537696955917, 0.3205639421954907, 0.19696212728821266, 0.5303621122946954, 0.14653325238618703, 0.005622867381229405, 0.025223012241194803, 0.012040554624246488, 0.026019198275886887, 0.021491938410893845, 0.027461436998888814, 0.03164308622770059, 0.037425402716629454, 0.044655227627036546, 0.053612190079358225, 0.06464271997519816, 0.07926099881219695, 0.08636228023962471, 0.14259127213451375, 0.0876114765122867, 0.23591239790135152, 0.06518001595766532, 0.010844836315170178, 0.04864767752560504, 0.023222643393604015, 0.0501832832294643, 0.04145154746845581, 0.05296493213168972, 0.0610300879212979, 0.07218245407068988, 0.08612663280100198, 0.10340194539343867, 0.12467655193836846, 0.15287085752096, 0.16656711416138856, 0.27501609079966993, 0.16897644167776646, 0.45500474517684053, 0.12571283584613166, 0.00769485745973873, 0.034517528289775015, 0.01647742073360395, 0.03560710370264037, 0.029411578006869714, 0.03758079801978945, 0.04330335780658949, 0.05121642033371532, 0.061110388726099335, 0.07336793361732842, 0.08846314207577813, 0.10846816163802621, 0.11818621910955052, 0.19513522900090136, 0.11989573608828268, 0.32284458297843754, 0.08919842813508955, 0.008168987350553346, 0.03664437625347688, 0.017492701098991693, 0.03780108744816004, 0.03122381537995241, 0.039896393825829754, 0.04597155749919843, 0.05437219494134066, 0.06487579465934039, 0.0778886060972653, 0.09391392789123501, 0.11515158597738304, 0.12546843576598563, 0.2071587713867565, 0.12728328713235432, 0.3427371238966489, 0.09469451967594071, 0.007595992235139099, 0.034074039478598446, 0.016265715200372975, 0.03514961578641543, 0.0290336915702862, 0.0370979516439729, 0.04274698672137227, 0.0505583804771, 0.06032522898293477, 0.072425286235822, 0.08732654812899335, 0.10707453879077253, 0.11666773651802975, 0.19262808857063154, 0.11835528924583937, 0.3186966046209514, 0.08805238707095672, 0.007061931445894082, 0.031678353983749734, 0.015122101511912326, 0.03267830842228824, 0.026992384028791654, 0.03448966022910011, 0.039741521634052535, 0.0470037101003134, 0.05608386874918217, 0.06733319236170404, 0.08118677286697201, 0.0995463172070127, 0.10846503415664331, 0.1790847481052622, 0.11003393803466374, 0.296289609599786, 0.08186157935574032, 0.006459860396380688, 0.028977588622887712, 0.013832853719310392, 0.02989229108427392, 0.024691125073561786, 0.031549214532254975, 0.036353323968471275, 0.042996368300419155, 0.05130239020081366, 0.061592643037075775, 0.07426512460103718, 0.09105941017099696, 0.09921775422330935, 0.16381672361795763, 0.1006528998495452, 0.27102918366979856, 0.07488239988123685, 0.005795577359931251, 0.02599775324282602, 0.012410387983584471, 0.026818394642329553, 0.022152077086331587, 0.02830493265290923, 0.032615023920325295, 0.03857494796958612, 0.04602684159007213, 0.05525892289003688, 0.0666282625877477, 0.08169555123689748, 0.08901495307886341, 0.14697105453088186, 0.09030251921640363, 0.24315859854144833, 0.06718206196099342, 0.005075479745320813, 0.022767545287218322, 0.010868403427368445, 0.02348622239955374, 0.019399692487202858, 0.024788058799065822, 0.028562623362640878, 0.033782029802594336, 0.04030802933398715, 0.048393029107966876, 0.05834973398302486, 0.0715449194850555, 0.07795488927574476, 0.12870997384612262, 0.07908247595882956, 0.21294626318513257, 0.05883472405861472, 0.004366414708311919, 0.019586827177454153, 0.009350043535269716, 0.02020510219209125, 0.01668947702745617, 0.021325066784184422, 0.0245723094203237, 0.029062543682233898, 0.03467683469907435, 0.04163232732267306, 0.05019804027874479, 0.0615498050273063, 0.06706427612724596, 0.11072867021610565, 0.06803433439266554, 0.18319680942650515, 0.050615275280301686, 0.0031873143203515683, 0.014297628357221818, 0.0068251711407864004, 0.014748945270458913, 0.012182674501239695, 0.015566476224600771, 0.017936838099784233, 0.021214535918426074, 0.025312751812242275, 0.03038999314758641, 0.036642633217925345, 0.04492898363614759, 0.04895433484077415, 0.08082765834895315, 0.0496624399584721, 0.13372660480835508, 0.03694719867591601, 0.0032897451304713453, 0.014757111642591737, 0.007044511858045738, 0.015222932540185962, 0.0125741894549484, 0.01606673650963605, 0.018513274771190247, 0.02189630805698309, 0.026126228430451315, 0.031366637213647144, 0.03782021855410265, 0.046372867649193794, 0.05052758167890282, 0.08342521908273563, 0.05125844319071999, 0.1380241804749985, 0.038134571840798284, 0.0011184578622622013, 0.005017169077342162, 0.0023950152248729626, 0.005175540326377387, 0.004275012348888709, 0.005462419445096315, 0.006294201192750589, 0.007444375454501864, 0.008882477043171366, 0.01066412764909338, 0.012858236464127, 0.015765992914610387, 0.017178525614769243, 0.028363167507953247, 0.01742700620268629, 0.046925893560769795, 0.012965111279983118, 0.0012450244857768176, 0.005584920595881066, 0.002666039284434008, 0.005761213408998856, 0.004758780130169045, 0.0060805562642949175, 0.007006463871182507, 0.008286793838995731, 0.009887633487354632, 0.011870898753142534, 0.014313296711390526, 0.017550099904141126, 0.019122477244402466, 0.03157279253253871, 0.01939907632482845, 0.05223610872737441, 0.014432265666005075, 5.302214928532786e-19, 2.3784632106793063e-18, 1.1353923923159581e-18, 2.453541443773088e-18, 2.0266328362244428e-18, 2.5895407332661456e-18, 2.983859173727845e-18, 3.529116294880087e-18, 4.21086962412644e-18, 5.05548744647714e-18, 6.0956371835773256e-18, 7.474102137912474e-18, 8.143734157367779e-18, 1.3445979080246318e-17, 8.261530055376809e-18, 2.2245913929149446e-17, 6.146302770832472e-18, 6.0659049881276985, 1.2511553505554591, -0.9534700896034517, 0.41042059578359524, -0.08668212597825725, -0.008168987350553342, -0.007595992235139098, -0.0070619314458940765, -0.006459860396380686, -0.005795577359931248, -0.005075479745320809, -0.004366414708311916, -0.0031873143203515653, -0.0032897451304713414, -0.0011184578622621994, -0.001245024485776813, 5.302214928532786e-19, 27.21038669349107, 5.612422378668441, -4.277068284050961, 1.8410613321676241, -0.3888379676072555, -0.03664437625347687, -0.03407403947859844, -0.031678353983749706, -0.028977588622887702, -0.025997753242826008, -0.022767545287218305, -0.01958682717745414, -0.014297628357221804, -0.014757111642591716, -0.005017169077342153, -0.005584920595881045, 2.3784632106793063e-18, 12.989255375087959, 2.6791676417748786, -2.0417178492915933, 0.8788561542363278, -0.1856171952892162, -0.01749270109899169, -0.01626571520037297, -0.015122101511912314, -0.013832853719310388, -0.012410387983584462, -0.010868403427368441, -0.00935004353526971, -0.006825171140786394, -0.00704451185804573, -0.0023950152248729583, -0.0026660392844339987, 1.1353923923159581e-18, 28.069305908879066, 5.789583309169479, -4.412077616188703, 1.8991760136206761, -0.40111197186204167, -0.03780108744816004, -0.035149615786415414, -0.032678308422288214, -0.029892291084273916, -0.02681839464232954, -0.023486222399553724, -0.020205102192091238, -0.014748945270458898, -0.015222932540185941, -0.0051755403263773776, -0.005761213408998835, 2.453541443773088e-18, 23.185333669148378, 4.782213755629953, -3.644389784257439, 1.5687252729077863, -0.33131973182741514, -0.0312238153799524, -0.029033691570286197, -0.02699238402879163, -0.02469112507356178, -0.022152077086331576, -0.019399692487202844, -0.016689477027456157, -0.012182674501239684, -0.012574189454948382, -0.004275012348888701, -0.004758780130169027, 2.0266328362244428e-18, 29.625181669551104, 6.110498702103323, -4.656638156428502, 2.0044469431703607, -0.42334552463892394, -0.03989639382582974, -0.03709795164397289, -0.03448966022910009, -0.031549214532254954, -0.028304932652909214, -0.0247880587990658, -0.02132506678418441, -0.015566476224600756, -0.01606673650963603, -0.005462419445096307, -0.006080556264294896, 2.5895407332661456e-18, 34.13631188050474, 7.0409657489057045, -5.3657207640310345, 2.309671102213517, -0.48780983095686736, -0.045971557499198415, -0.04274698672137227, -0.03974152163405251, -0.03635332396847126, -0.03261502392032528, -0.028562623362640857, -0.024572309420323686, -0.017936838099784212, -0.018513274771190222, -0.006294201192750577, -0.007006463871182481, 2.983859173727845e-18, 40.37422930857998, 8.327600436019134, -6.346228652091714, 2.7317301012071256, -0.5769500244483057, -0.05437219494134065, -0.050558380477099985, -0.04700371010031337, -0.04299636830041914, -0.03857494796958609, -0.033782029802594316, -0.029062543682233877, -0.021214535918426057, -0.02189630805698306, -0.007444375454501851, -0.008286793838995703, 3.529116294880087e-18, 48.17370740648588, 9.936323087104888, -7.572190663601207, 3.2594446720764068, -0.6884050083906135, -0.06487579465934036, -0.060325228982934756, -0.056083868749182114, -0.05130239020081364, -0.0460268415900721, -0.04030802933398713, -0.03467683469907432, -0.02531275181224225, -0.026126228430451273, -0.008882477043171348, -0.009887633487354596, 4.21086962412644e-18, 57.83640786415364, 11.929354531231953, -9.091023531774354, 3.9132253175821154, -0.8264855454252448, -0.07788860609726529, -0.07242528623582198, -0.06733319236170399, -0.06159264303707575, -0.05525892289003685, -0.04839302910796685, -0.04163232732267303, -0.03038999314758638, -0.031366637213647096, -0.01066412764909336, -0.01187089875314249, 5.05548744647714e-18, 69.7360565274372, 14.383779571508219, -10.961471403845726, 4.718358418670754, -0.9965321990649887, -0.093913927891235, -0.08732654812899332, -0.08118677286697194, -0.07426512460103717, -0.06662826258774768, -0.058349733983024815, -0.05019804027874476, -0.036642633217925304, -0.0378202185541026, -0.012858236464126975, -0.014313296711390474, 6.0956371835773256e-18, 85.50614045493768, 17.636521730051488, -13.44029416233554, 5.78536610404497, -1.2218875919316383, -0.11515158597738302, -0.1070745387907725, -0.09954631720701261, -0.09105941017099692, -0.08169555123689744, -0.07154491948505545, -0.06154980502730626, -0.04492898363614756, -0.046372867649193725, -0.015765992914610356, -0.017550099904141064, 7.474102137912474e-18, 93.16694685711792, 19.21664191630844, -14.64445904474265, 6.303698114506623, -1.3313609494848024, -0.1254684357659856, -0.11666773651802972, -0.10846503415664321, -0.0992177542233093, -0.08901495307886335, -0.0779548892757447, -0.0670642761272459, -0.048954334840774105, -0.05052758167890275, -0.017178525614769215, -0.019122477244402393, 8.143734157367779e-18, 153.82633988338992, 31.728266199050836, -24.179213878069262, 10.407927289615774, -2.198187112828797, -0.2071587713867565, -0.19262808857063146, -0.17908474810526204, -0.1638167236179576, -0.14697105453088177, -0.12870997384612254, -0.11072867021610557, -0.08082765834895309, -0.08342521908273554, -0.028363167507953195, -0.0315727925325386, 1.3445979080246318e-17, 94.51456994472383, 19.494603051520787, -14.856285360619038, 6.394878617925234, -1.3506185597638452, -0.12728328713235432, -0.11835528924583934, -0.11003393803466366, -0.10065289984954517, -0.09030251921640357, -0.07908247595882952, -0.06803433439266549, -0.049662439958472054, -0.05125844319071991, -0.01742700620268626, -0.019399076324828377, 8.261530055376809e-18, 254.5004344168065, 52.49333460753059, -40.00368493777032, 17.219560828098256, -3.636825627967518, -0.3427371238966488, -0.3186966046209513, -0.2962896095997858, -0.2710291836697984, -0.24315859854144817, -0.2129462631851324, -0.183196809426505, -0.13372660480835494, -0.13802418047499834, -0.04692589356076971, -0.05223610872737421, 2.2245913929149446e-17, 70.3156871961292, 14.503334364057629, -11.052580728290527, 4.75757636963514, -1.004815154162828, -0.09469451967594068, -0.08805238707095668, -0.08186157935574025, -0.07488239988123684, -0.06718206196099338, -0.05883472405861468, -0.05061527528030165, -0.036947198675915977, -0.03813457184079823, -0.012965111279983095, -0.014432265666005023, 6.146302770832472e-18, 1.7398200589867376e6, 3.9900608094679583e6, 1.5583367710551827e6, 3.328073845782652e6, 2.3072247174014035e6, 2.46141038985576e6, 2.288760333013441e6, 2.1278416390491e6, 1.9464306669041575e6, 1.7462745034096916e6, 1.5293007618366408e6, 1.3156512635228832e6, 960374.6764668425, 991238.264504236, 337004.2925334633, 375140.2803565721, -1.5976186954745234e-10, 3.3261795126154567e6, 1.442239554028724e6, -141360.31821551707, 893591.3859515142, 438114.45231157704, 508585.28498800553, 472911.72208917834, 439662.1347115335, 402178.36063284625, 360821.38908820914, 315989.51032161695, 271844.49840679596, 198435.99853934764, 204813.14181559344, 69633.01400964528, 77512.80614640129, -3.301056024175191e-11, 1.0305156188651823e6, -354581.1353609058, -448080.9769827824, -431681.0223654024, -378960.4360909068, -386186.30282471684, -359098.1393030216, -333850.58378217544, -305387.86463821406, -273984.0934157983, -239941.70559884745, -206420.87941147582, -150679.28012319288, -155521.6643940924, -52874.74299528904, -58858.14023886608, 2.5066053993747407e-11, 1.955068342421642e6, 655313.2349884941, -180152.46149099356, 355127.48839466716, 133943.87794816223, 168388.65515712654, 156577.4143318275, 145568.73305788336, 133158.14530862798, 119465.17182840387, 104621.68343716612, 90005.61134926183, 65700.62468400026, 67812.0475106687, 23054.95249218241, 25663.890737136422, -1.0929541237558627e-11, 1.1328883412745472e6, 186408.58393089354, -201914.80938490282, 34867.668820624844, -46541.89771260388, -33592.20872971307, -31235.95933280373, -29039.8142371134, -26563.99985554244, -23832.359634003158, -20871.200761095395, -17955.409647215034, -13106.756485453589, -13527.968687926155, -4599.281202455954, -5119.743807289089, 2.180357282558519e-12, 1.0456506331195474e6, 215676.20775462163, -164360.7350932369, 70748.9742530375, -14942.40679448719, -1408.1834139786322, -1309.4095778601989, -1217.3473046311633, -1113.5613113888016, -999.0511139832325, -874.9195082131113, -752.6897162327828, -549.434460900668, -567.0916516516479, -192.80159746666038, -214.61935924645857, 9.140044903122552e-14, 847447.5016245194, 174794.77143931363, -133206.14927032575, 57338.50253058604, -12110.07281511174, -1141.2621751541014, -1061.2109247716364, -986.599060186364, -902.4857073215904, -809.6809237464383, -709.078470258991, -610.0173416592902, -445.2891304695002, -459.5993998019865, -156.25604471245762, -173.93824862043823, 7.407548919832743e-14, 696368.762751298, 143633.22623437532, -109458.81742576795, 47116.478588578924, -9951.149076399019, -937.8036130420312, -872.023502676881, -810.713071377935, -741.5950300207746, -665.3350231274335, -582.667476252254, -501.2664745058527, -365.90519207057326, -377.66429753798974, -128.39949179180795, -142.92940005693646, 6.086967825659105e-14, 572223.592400214, 118027.00681050002, -89945.04216384787, 38716.786394442766, -8177.107557940219, -770.6166346414151, -716.5634762072079, -666.1831646164378, -609.3871449776505, -546.722394007829, -478.79240751484974, -411.903172764759, -300.67342862605085, -310.3361790736628, -105.50906701383798, -117.44865527432805, 5.0018133815504505e-14, 470210.40751470765, 96985.73723135018, -73910.08600744764, 31814.549679486467, -6719.33336579645, -633.2349218466388, -588.8180924946791, -547.4193330614162, -500.748626200925, -449.255436333075, -393.4356710253341, -338.4711173999577, -247.07086055308693, -255.0109837602174, -86.69943367587511, -96.51049133949611, 4.110114891604171e-14, 386383.6274595705, 79695.60087229176, -60733.76233492494, 26142.809505483343, -5521.443929131556, -520.3449396843239, -483.8465224417703, -449.82812857699844, -411.4776439329621, -369.16440464129045, -323.29591032713137, -278.1301647969141, -203.0242925600778, -209.54888997054886, -71.2430885131509, -79.30507946167393, 3.377383987494886e-14, 321918.15680072614, 66398.93389535246, -50600.74867814674, 21781.060198981384, -4600.2287007634, -433.52893854512484, -403.1200330691907, -374.7773759999173, -342.82540792561133, -307.5718437655505, -269.3561946141544, -231.72604540929566, -169.1510752575828, -174.58708812918255, -59.3566655236816, -66.07356831626754, 2.8138905243245717e-14, 237858.55407380464, 49060.77546339581, -37387.82874271481, 16093.567186802804, -3399.0122149268313, -320.32541282015103, -297.85691225666744, -276.9151191745201, -253.30648211752, -227.25836516631966, -199.02162592650802, -171.21750028040523, -124.98217118490656, -128.99872674180764, -43.85739150726122, -48.820369681517434, 2.079124514409225e-14, 265948.87645659246, 54854.69363666755, -41803.20983617528, 17994.165180121447, -3800.424513391836, -358.1548032684157, -333.03284579334985, -309.6178949925668, -283.22115460864757, -254.09683968141505, -222.52543328458827, -191.43773074123322, -139.7421595080318, -144.2330572255546, -49.03680694222112, -54.58589671307915, 2.324662364040609e-14, 110552.96602478647, 22802.68735372675, -17377.282800816833, 7480.040368311359, -1579.8081484933398, -148.8822826585991, -138.43927215138834, -128.70585159763195, -117.73292333521518, -105.62616266171767, -92.50216430065373, -79.57923802679466, -58.08977431361047, -59.95660702748029, -20.3842352112069, -22.690950475733636, 9.663448207604214e-15, 201274.53922411794, 41514.94577869547, -31637.365458991117, 13618.283910828057, -2876.224569851997, -271.05752037467596, -252.04480453781449, -234.32397978316575, -214.34648700868814, -192.3047203906081, -168.4109541907127, -144.88326312347291, -105.75919379660562, -109.15797998754702, -37.1118722283022, -41.31151578996624, 1.7593431956095938e-14, 37583.279369339565, 7751.938279020715, -5907.532811346659, 2542.893754593197, -537.0671916796178, -50.61360742730843, -47.06343057125326, -43.754483945532876, -40.0241577207831, -35.90837697775197, -31.446778934909474, -27.053536800538055, -19.748038384070345, -20.382681650045324, -6.929768003703789, -7.713952520225863, 3.285159021207132e-15, -869703.110364473, -179701.12016370843, 136453.24247066924, -59497.6513237297, 11869.312218981933, 497.5608700394926, 403.24818143430787, 331.3590949867934, 272.2860384470531, 223.74423354640123, 183.8562209580946, 153.1810655547767, 113.18226696637717, 126.54872494170726, 52.60536188519707, 95.77418277305298, 17.883572762880902, -3.808863185715654e6, -787000.7280261117, 597596.7265429876, -260569.8554631242, 51981.6312163117, 2179.0669229087425, 1766.0246751655905, 1451.186552176795, 1192.4762087957952, 979.8874627617587, 805.1979843772397, 670.8561972323822, 495.68153176250286, 554.219910088314, 230.38508643691915, 419.44285878592336, 78.32107429977839, -1.6942349888694114e6, -350068.8012864421, 265819.283596221, -115905.07315303384, 23122.148024498878, 969.2790850890925, 785.5521844663203, 645.5078358538445, 530.4298993760201, 435.8674868636725, 358.1631924231807, 298.40610870810923, 220.48599634607908, 246.5246761083792, 102.47847069408272, 186.5739808800721, 34.83829635629016, -3.2676746378652183e6, -675178.4439506438, 512686.2194260965, -223546.3618862106, 44595.73622844359, 1869.4506394726327, 1515.0961742403654, 1244.9923402717857, 1023.0412786558367, 840.6585518841824, 690.7901134063267, 575.5364985468955, 425.25181158329775, 475.47266879717307, 197.65044507652937, 359.84563499907347, 67.19269651363346, -2.3185495688859234e6, -479066.8789367405, 363771.96164202684, -158615.33916849794, 31642.509265903565, 1326.4521271415422, 1075.0230579567894, 883.3732772395097, 725.8898692342302, 596.481822414454, 490.14400058974275, 408.3668199768482, 301.7336527294371, 337.36741671959453, 140.24112098311056, 255.32528000940962, 47.67598209708705, -2.4614103898557606e6, -508585.2849880057, 386186.30282471696, -168388.6551571266, 33592.208729713086, 1408.1834139786326, 1141.262175154102, 937.8036130420313, 770.6166346414153, 633.2349218466389, 520.3449396843239, 433.52893854512496, 320.32541282015103, 358.15480326841583, 148.88228265859914, 271.057520374676, 50.61360742730843, -2.288760333013442e6, -472911.7220891784, 359098.13930302166, -156577.41433182752, 31235.959332803737, 1309.409577860199, 1061.2109247716367, 872.0235026768812, 716.563476207208, 588.8180924946791, 483.8465224417704, 403.12003306919075, 297.8569122566675, 333.03284579334996, 138.43927215138837, 252.04480453781454, 47.06343057125328, -2.1278416390491016e6, -439662.13471153384, 333850.58378217573, -145568.73305788348, 29039.814237113424, 1217.3473046311642, 986.5990601863647, 810.7130713779356, 666.1831646164384, 547.4193330614166, 449.8281285769988, 374.7773759999176, 276.91511917452027, 309.6178949925671, 128.70585159763206, 234.32397978316595, 43.754483945532904, -1.9464306669041584e6, -402178.3606328464, 305387.8646382142, -133158.14530862804, 26563.99985554245, 1113.5613113888023, 902.4857073215908, 741.5950300207749, 609.3871449776506, 500.7486262009252, 411.47764393296234, 342.82540792561144, 253.3064821175201, 283.2211546086477, 117.73292333521522, 214.34648700868823, 40.024157720783116, -1.7462745034096926e6, -360821.3890882093, 273984.09341579844, -119465.17182840392, 23832.35963400317, 999.0511139832332, 809.6809237464389, 665.3350231274339, 546.7223940078293, 449.2554363330753, 369.1644046412907, 307.5718437655506, 227.25836516631978, 254.0968396814152, 105.62616266171773, 192.30472039060817, 35.908376977752, -1.529300761836642e6, -315989.5103216172, 239941.70559884762, -104621.6834371662, 20871.20076109541, 874.9195082131118, 709.0784702589915, 582.6674762522543, 478.7924075148501, 393.4356710253344, 323.29591032713154, 269.35619461415456, 199.0216259265081, 222.52543328458842, 92.50216430065379, 168.4109541907128, 31.446778934909492, -1.3156512635228843e6, -271844.4984067962, 206420.879411476, -90005.6113492619, 17955.409647215052, 752.6897162327833, 610.0173416592908, 501.2664745058531, 411.90317276475935, 338.47111739995796, 278.1301647969143, 231.72604540929584, 171.21750028040535, 191.43773074123337, 79.57923802679471, 144.88326312347303, 27.053536800538076, -960374.6764668435, -198435.9985393478, 150679.28012319302, -65700.62468400033, 13106.756485453601, 549.4344609006685, 445.2891304695007, 365.9051920705736, 300.67342862605113, 247.0708605530872, 203.024292560078, 169.15107525758296, 124.98217118490668, 139.74215950803193, 58.08977431361053, 105.75919379660571, 19.748038384070362, -991238.2645042374, -204813.1418155937, 155521.66439409263, -67812.0475106688, 13527.968687926174, 567.0916516516487, 459.5993998019872, 377.6642975379903, 310.3361790736632, 255.01098376021778, 209.54888997054914, 174.5870881291828, 128.99872674180781, 144.23305722555477, 59.95660702748037, 109.15797998754717, 20.382681650045356, -337004.29253346386, -69633.01400964541, 52874.74299528913, -23054.952492182452, 4599.2812024559635, 192.80159746666075, 156.2560447124579, 128.39949179180817, 105.50906701383815, 86.69943367587527, 71.24308851315101, 59.356665523681706, 43.8573915072613, 49.03680694222122, 20.384235211206935, 37.11187222830226, 6.929768003703803, -375140.2803565735, -77512.80614640158, 58858.1402388663, -25663.89073713652, 5119.743807289108, 214.61935924645937, 173.93824862043888, 142.92940005693694, 117.44865527432847, 96.51049133949647, 79.30507946167421, 66.07356831626778, 48.82036968151761, 54.58589671307936, 22.690950475733718, 41.31151578996639, 7.713952520225892, -1.5976186954745234e-10, -3.301056024175191e-11, 2.5066053993747407e-11, -1.0929541237558627e-11, 2.180357282558519e-12, 9.140044903122552e-14, 7.407548919832743e-14, 6.086967825659105e-14, 5.0018133815504505e-14, 4.110114891604171e-14, 3.377383987494886e-14, 2.8138905243245717e-14, 2.079124514409225e-14, 2.324662364040609e-14, 9.663448207604214e-15, 1.7593431956095938e-14, 3.285159021207132e-15, 0.772821941691734, 3.3845722842009276, 1.5055045315767772, 2.90366980220816, 2.060273164924106, 2.1872199077123624, 2.033802321214192, 1.8908092744583838, 1.7296067007680511, 1.5517470690501236, 1.3589432647860067, 1.169093397445521, 0.8533930871049065, 0.8808186047906333, 0.29946347047674043, 0.3333512740347118, 1.4196508758054365e-16, 4.1387874337826185, 18.125812018115948, 8.062611709953469, 15.55037640743752, 11.033631714029061, 11.71348506118111, 10.891869181939985, 10.126081109546854, 9.26277334058978, 8.310260000815855, 7.277714314383845, 6.260988205994547, 4.570279898180743, 4.717155112042032, 1.6037531824898008, 1.7852366626523903, 7.602829174699758e-16, 2.2732874165424106, 9.955858094827779, 4.428503284584822, 8.54126373366736, 6.060377957449589, 6.433797004429366, 5.982512885736845, 5.561892977959043, 5.0877090003635175, 4.564527603869847, 3.9973873113262983, 3.4389361453143437, 2.5102907430825794, 2.5909640274236616, 0.88088407228536, 0.9805664353843698, 4.1759612373159285e-16, 5.468672116359305, 23.950039560076466, 10.653308619659446, 20.547059064718255, 14.57898359412523, 15.47728898000633, 14.39166959968037, 13.379816745302342, 12.23910894151522, 10.980531828043793, 9.616206190499007, 8.27278331414186, 6.0388127303015295, 6.232882225166466, 2.119074837962581, 2.3588730067315278, 1.004578770432871e-15, 4.891052772724674, 21.42035669806486, 9.528070718850444, 18.37681032461171, 13.03910284148195, 13.842526223773204, 12.871573574338832, 11.966595984954708, 10.946373534628686, 9.820731523267737, 8.600510498779759, 7.398984416297642, 5.400973238119392, 5.574544467252133, 1.8952511032473456, 2.1097209916034383, 8.984718183867087e-16, 6.619557280711992, 28.990339038426274, 12.895303491679503, 24.87119935792082, 17.64713900238733, 18.734493268814028, 17.420404671031545, 16.195606806634, 14.814836395269312, 13.29139101080482, 11.639942265092847, 10.013795278576252, 7.309684311872053, 7.544595842562345, 2.5650353456091453, 2.8552991756945825, 1.2159929453394746e-15, 7.945150325983376, 34.795771362635115, 15.477640028753106, 29.851757346667743, 21.181049766882733, 22.48615111097599, 20.90891097114604, 19.43884239421317, 17.781567138671853, 15.953045671191774, 13.970887653076243, 12.019098173488942, 8.773478078742324, 9.05543159096278, 3.0786940195694448, 3.4270843524009544, 1.4595004373190137e-15, 9.66886717438169, 42.344786156557994, 18.835546147125235, 36.32815804162635, 25.776322461791764, 27.36456825040532, 25.44514258966661, 23.656139584762865, 21.63931502389653, 19.414092030097205, 17.001900717225773, 14.626666460327122, 10.676902351776407, 11.020026263490763, 3.746623075013485, 4.170597413418411, 1.7761420854731179e-15, 11.76654837974478, 51.53157716978867, 22.921957764223535, 44.20962884632304, 31.368550196054407, 33.30136927129859, 30.96552014946495, 28.788389154793403, 26.33401023522687, 23.62602040146078, 20.69049907593209, 17.79995271791861, 12.993278923186962, 13.410844294043597, 4.559460883858246, 5.075417352660485, 2.1614798715400377e-15, 14.319326301110419, 62.71146342076754, 27.894925690460436, 53.80100269601871, 38.17402447631011, 40.52617279765431, 37.683556196232274, 35.0340919602607, 32.04723026712904, 28.751736227726855, 25.17934725115383, 21.66169065781229, 15.812198668450158, 16.32035574258697, 5.548645706969138, 6.176540038892856, 2.630417568090208e-15, 17.425935147628493, 76.31685119839945, 33.94679021960581, 65.47324672568604, 46.455961744274035, 49.31841373701679, 45.85908530882731, 42.63481407000364, 38.99994626512571, 34.98948765817536, 30.64206115787715, 26.361241349863988, 19.242689407563994, 19.861092259242156, 6.752436407522427, 7.516553774330231, 3.2010923551038887e-15, 21.501555764853357, 94.1660242586015, 41.88634909753849, 80.78629087345858, 57.3211964575881, 60.853125770119135, 56.584721091832414, 52.60634935710146, 48.12134972050581, 43.172915180296116, 37.80870186618399, 32.52667338154279, 23.74321698418564, 24.50625341740178, 8.331712859882197, 9.27454387779442, 3.9497717166173975e-15, 23.528282412626314, 103.04206991626997, 45.83453688554347, 88.40116908406758, 62.72426578026115, 66.58911310737874, 61.91837058900403, 57.56499938457395, 52.6572457678408, 47.242374088984754, 41.37253252234307, 35.59262248898079, 25.981241576078826, 26.81620146866383, 9.117056239653728, 10.148758070880449, 4.3220753619086666e-15, 38.959793773137406, 170.6243457763295, 75.89606727050105, 146.38090687704732, 103.86327469696741, 110.26296219597322, 102.5288164520557, 95.32019657203027, 87.19359109169636, 78.22726366428407, 68.50756492441236, 58.93678117666888, 43.02157701196627, 44.404162644587544, 15.096666415581172, 16.805031262408704, 7.156798010957056e-15, 23.984790479760214, 105.0413461637239, 46.72384259322947, 90.11637489991105, 63.94127486029383, 67.88110998091578, 63.11974326814601, 58.68190567389634, 53.67892924921432, 48.15899539197478, 42.17526408272564, 36.28320920549993, 26.48534324255957, 27.33650346460397, 9.293950143293792, 10.34566959419083, 4.4059345333887376e-15, 64.66978438159032, 283.2212027573204, 125.98070550307031, 242.97925549717246, 172.40377654283117, 183.02668725637872, 170.18869482378526, 158.22302847440335, 144.73358786730736, 129.85028368962207, 113.71645029662002, 97.82980251471733, 71.41198244838124, 73.7069513404484, 25.059120375775272, 27.894853720072398, 1.1879646666669612e-14, 17.883572762880902, 78.32107429977839, 34.83829635629016, 67.19269651363346, 47.67598209708705, 50.61360742730843, 47.06343057125328, 43.754483945532904, 40.024157720783116, 35.908376977752, 31.446778934909492, 27.053536800538076, 19.748038384070362, 20.382681650045356, 6.929768003703803, 7.713952520225892, 3.285159021207132e-15, 1624.1264160393052, 8697.881929779807, 4777.434419594931, 11492.705325361392, 10278.807551756909, 13911.351712601934, 16697.156004118817, 20319.638643687053, 24728.027270181716, 30092.825851464277, 36621.52957963038, 45186.66308463852, 49445.93693436037, 81876.07884409126, 50405.312918619034, 135906.99159471126, 37583.279369339565, 334.9927932242878, 1794.0276902198248, 985.3950313601874, 2370.488787464736, 2120.109874928983, 2869.359504104773, 3443.960318287247, 4191.134655119218, 5100.410192431758, 6206.955128885798, 7553.567483954628, 9320.214444958292, 10198.733524467529, 16887.78415237005, 10396.6146977218, 28032.21613995368, 7751.938279020715, -255.28852866294338, -1367.1777383884091, -750.9416703758463, -1806.482428888269, -1615.6757444391367, -2186.6576858490785, -2624.544707266165, -3193.9451271039575, -3886.8782849653835, -4730.144869920385, -5756.360041584377, -7102.671701010208, -7772.166232673392, -12869.702440880288, -7922.9658755073715, -21362.55871253632, -5907.532811346659, 109.88878536728811, 588.5007910052094, 323.24236608467106, 777.5992166102193, 695.4666002177377, 941.2454150231455, 1129.7336058699595, 1374.8316557169655, 1673.1042943541925, 2036.0878614061698, 2477.8215316586566, 3057.3405321988394, 3345.5240290438646, 5539.755259171747, 3410.435639728596, 9195.499858739828, 2542.893754593197, -23.208858509204653, -124.29322560390035, -68.26980854838804, -164.23141028317602, -146.88474231817247, -198.79400419883726, -238.60330537000036, -290.3687875415278, -353.3649107961511, -430.02818649547044, -523.3237326913383, -645.719975783644, -706.5852404292485, -1170.0138058311163, -720.294777603139, -1942.1186104622686, -537.0671916796178, -2.187219907712362, -11.713485061181107, -6.4337970044293655, -15.477288980006326, -13.842526223773202, -18.734493268814024, -22.486151110975985, -27.364568250405306, -33.30136927129858, -40.5261727976543, -49.318413737016776, -60.853125770119114, -66.58911310737874, -110.2629621959732, -67.88110998091577, -183.0266872563787, -50.61360742730843, -2.0338023212141914, -10.891869181939983, -5.982512885736843, -14.391669599680366, -12.871573574338829, -17.42040467103154, -20.908910971146035, -25.445142589666602, -30.965520149464947, -37.68355619623227, -45.859085308827304, -56.5847210918324, -61.91837058900401, -102.52881645205566, -63.119743268146, -170.18869482378523, -47.06343057125326, -1.8908092744583822, -10.126081109546847, -5.5618929779590385, -13.379816745302332, -11.966595984954699, -16.19560680663399, -19.438842394213154, -23.656139584762848, -28.788389154793382, -35.034091960260675, -42.634814070003614, -52.606349357101415, -57.56499938457391, -95.3201965720302, -58.681905673896296, -158.22302847440324, -43.754483945532876, -1.7296067007680507, -9.262773340589778, -5.087709000363517, -12.239108941515216, -10.946373534628684, -14.814836395269307, -17.781567138671846, -21.63931502389652, -26.33401023522686, -32.04723026712903, -38.999946265125686, -48.12134972050579, -52.65724576784077, -87.19359109169632, -53.67892924921429, -144.7335878673073, -40.0241577207831, -1.5517470690501227, -8.310260000815852, -4.564527603869843, -10.980531828043787, -9.82073152326773, -13.291391010804812, -15.953045671191765, -19.414092030097194, -23.626020401460767, -28.751736227726838, -34.98948765817534, -43.17291518029609, -47.242374088984725, -78.22726366428401, -48.15899539197475, -129.85028368962202, -35.90837697775197, -1.358943264786006, -7.27771431438384, -3.997387311326296, -9.616206190499001, -8.600510498779755, -11.639942265092841, -13.970887653076232, -17.001900717225762, -20.69049907593208, -25.179347251153814, -30.642061157877137, -37.808701866183966, -41.37253252234305, -68.5075649244123, -42.175264082725604, -113.71645029661995, -31.446778934909474, -1.1690933974455202, -6.260988205994542, -3.4389361453143414, -8.272783314141853, -7.398984416297639, -10.013795278576245, -12.01909817348893, -14.626666460327112, -17.799952717918593, -21.661690657812272, -26.361241349863967, -32.526673381542764, -35.59262248898076, -58.93678117666883, -36.2832092054999, -97.82980251471727, -27.053536800538055, -0.8533930871049057, -4.570279898180738, -2.5102907430825767, -6.038812730301523, -5.400973238119388, -7.309684311872045, -8.773478078742317, -10.676902351776397, -12.993278923186951, -15.812198668450142, -19.24268940756398, -23.743216984185615, -25.981241576078805, -43.02157701196623, -26.485343242559544, -71.41198244838117, -19.748038384070345, -0.8808186047906321, -4.717155112042026, -2.590964027423658, -6.232882225166458, -5.574544467252125, -7.544595842562336, -9.055431590962769, -11.020026263490747, -13.410844294043578, -16.320355742586944, -19.861092259242128, -24.506253417401744, -26.8162014686638, -44.40416264458747, -27.33650346460394, -73.70695134044828, -20.382681650045324, -0.2994634704767399, -1.6037531824897977, -0.8808840722853585, -2.1190748379625775, -1.8952511032473423, -2.565035345609141, -3.0786940195694394, -3.746623075013478, -4.559460883858237, -5.548645706969128, -6.752436407522414, -8.331712859882183, -9.11705623965371, -15.096666415581144, -9.293950143293774, -25.05912037577523, -6.929768003703789, -0.3333512740347106, -1.7852366626523835, -0.9805664353843664, -2.3588730067315193, -2.1097209916034303, -2.855299175694572, -3.4270843524009416, -4.170597413418397, -5.075417352660466, -6.176540038892834, -7.5165537743302036, -9.274543877794386, -10.148758070880412, -16.80503126240864, -10.345669594190795, -27.894853720072295, -7.713952520225863, 1.4196508758054365e-16, 7.602829174699758e-16, 4.1759612373159285e-16, 1.004578770432871e-15, 8.984718183867087e-16, 1.2159929453394746e-15, 1.4595004373190137e-15, 1.7761420854731179e-15, 2.1614798715400377e-15, 2.630417568090208e-15, 3.2010923551038887e-15, 3.9497717166173975e-15, 4.3220753619086666e-15, 7.156798010957056e-15, 4.4059345333887376e-15, 1.1879646666669612e-14, 3.285159021207132e-15, 869703.110364473, 179701.12016370843, -136453.24247066924, 59497.6513237297, -11869.312218981933, -497.5608700394926, -403.24818143430787, -331.3590949867934, -272.2860384470531, -223.74423354640123, -183.8562209580946, -153.1810655547767, -113.18226696637717, -126.54872494170726, -52.60536188519707, -95.77418277305298, -17.883572762880902, 3.808863185715654e6, 787000.7280261117, -597596.7265429876, 260569.8554631242, -51981.6312163117, -2179.0669229087425, -1766.0246751655905, -1451.186552176795, -1192.4762087957952, -979.8874627617587, -805.1979843772397, -670.8561972323822, -495.68153176250286, -554.219910088314, -230.38508643691915, -419.44285878592336, -78.32107429977839, 1.6942349888694114e6, 350068.8012864421, -265819.283596221, 115905.07315303384, -23122.148024498878, -969.2790850890925, -785.5521844663203, -645.5078358538445, -530.4298993760201, -435.8674868636725, -358.1631924231807, -298.40610870810923, -220.48599634607908, -246.5246761083792, -102.47847069408272, -186.5739808800721, -34.83829635629016, 3.2676746378652174e6, 675178.4439506435, -512686.21942609636, 223546.36188621056, -44595.73622844357, -1869.4506394726327, -1515.0961742403654, -1244.9923402717857, -1023.0412786558367, -840.6585518841824, -690.7901134063267, -575.5364985468955, -425.25181158329775, -475.47266879717307, -197.65044507652937, -359.84563499907347, -67.19269651363346, 2.318549568885923e6, 479066.8789367404, -363771.9616420268, 158615.33916849789, -31642.509265903558, -1326.4521271415422, -1075.0230579567894, -883.3732772395097, -725.8898692342302, -596.481822414454, -490.14400058974275, -408.3668199768482, -301.7336527294371, -337.36741671959453, -140.24112098311056, -255.32528000940962, -47.67598209708705, 2.4614103898557606e6, 508585.2849880057, -386186.30282471696, 168388.6551571266, -33592.208729713086, -1408.1834139786326, -1141.262175154102, -937.8036130420313, -770.6166346414153, -633.2349218466389, -520.3449396843239, -433.52893854512496, -320.32541282015103, -358.15480326841583, -148.88228265859914, -271.057520374676, -50.61360742730843, 2.288760333013441e6, 472911.72208917834, -359098.1393030216, 156577.4143318275, -31235.95933280373, -1309.4095778601989, -1061.2109247716364, -872.023502676881, -716.5634762072079, -588.8180924946791, -483.8465224417703, -403.1200330691907, -297.85691225666744, -333.03284579334985, -138.43927215138834, -252.04480453781449, -47.06343057125326, 2.127841639049101e6, 439662.1347115337, -333850.5837821756, 145568.73305788345, -29039.814237113416, -1217.347304631164, -986.5990601863646, -810.7130713779354, -666.1831646164383, -547.4193330614164, -449.82812857699867, -374.77737599991747, -276.9151191745202, -309.617894992567, -128.70585159763203, -234.3239797831659, -43.754483945532904, 1.946430666904158e6, 402178.36063284636, -305387.8646382141, 133158.145308628, -26563.999855542446, -1113.561311388802, -902.4857073215906, -741.5950300207749, -609.3871449776505, -500.74862620092506, -411.4776439329622, -342.82540792561144, -253.30648211752003, -283.2211546086476, -117.73292333521522, -214.3464870086882, -40.0241577207831, 1.7462745034096914e6, 360821.3890882091, -273984.09341579827, 119465.17182840384, -23832.359634003154, -999.0511139832323, -809.6809237464382, -665.3350231274335, -546.7223940078289, -449.25543633307495, -369.1644046412904, -307.57184376555045, -227.25836516631963, -254.096839681415, -105.62616266171766, -192.30472039060805, -35.90837697775197, 1.5293007618366422e6, 315989.51032161724, -239941.70559884765, 104621.68343716621, -20871.200761095413, -874.919508213112, -709.0784702589916, -582.6674762522546, -478.7924075148502, -393.43567102533444, -323.2959103271316, -269.35619461415456, -199.02162592650816, -222.52543328458842, -92.5021643006538, -168.41095419071283, -31.4467789349095, 1.315651263522884e6, 271844.49840679613, -206420.87941147594, 90005.61134926189, -17955.40964721505, -752.689716232783, -610.0173416592904, -501.266474505853, -411.9031727647592, -338.4711173999578, -278.1301647969142, -231.72604540929578, -171.21750028040526, -191.43773074123334, -79.57923802679468, -144.88326312347297, -27.053536800538065, 960374.6764668422, 198435.99853934755, -150679.28012319282, 65700.62468400024, -13106.756485453583, -549.4344609006677, -445.2891304695001, -365.90519207057315, -300.67342862605074, -247.07086055308687, -203.02429256007775, -169.15107525758273, -124.98217118490655, -139.74215950803173, -58.08977431361044, -105.7591937966056, -19.748038384070338, 991238.2645042371, 204813.14181559364, -155521.66439409257, 67812.04751066877, -13527.968687926168, -567.0916516516485, -459.599399801987, -377.6642975379901, -310.336179073663, -255.0109837602177, -209.54888997054908, -174.58708812918275, -128.99872674180776, -144.23305722555475, -59.956607027480345, -109.15797998754712, -20.382681650045345, 337004.2925334633, 69633.0140096453, -52874.742995289045, 23054.952492182412, -4599.281202455955, -192.80159746666044, -156.25604471245762, -128.39949179180795, -105.50906701383799, -86.69943367587513, -71.2430885131509, -59.356665523681606, -43.85739150726123, -49.03680694222113, -20.384235211206903, -37.1118722283022, -6.929768003703791, 375140.28035657475, 77512.80614640182, -58858.14023886649, 25663.890737136604, -5119.7438072891255, -214.61935924646008, -173.93824862043945, -142.92940005693742, -117.44865527432887, -96.5104913394968, -79.30507946167448, -66.07356831626801, -48.820369681517775, -54.585896713079535, -22.6909504757338, -41.311515789966535, -7.7139525202259165, 5.325395651581746e-11, 1.100352008058397e-11, -8.355351331249136e-12, 3.643180412519543e-12, -7.267857608528397e-13, -3.0466816343741836e-14, -2.4691829732775816e-14, -2.0289892752197015e-14, -1.6672711271834836e-14, -1.3700382972013903e-14, -1.1257946624982955e-14, -9.379635081081905e-15, -6.93041504803075e-15, -7.748874546802031e-15, -3.2211494025347383e-15, -5.864477318698645e-15, -1.095053007069044e-15, -0.772821941691734, -3.3845722842009276, -1.5055045315767772, -2.90366980220816, -2.060273164924106, -2.1872199077123624, -2.0338023212141914, -1.890809274458383, -1.729606700768051, -1.5517470690501225, -1.3589432647860067, -1.1690933974455209, -0.8533930871049052, -0.880818604790633, -0.29946347047674, -0.33335127403471293, -4.732169586018123e-17, -4.1387874337826185, -18.125812018115948, -8.062611709953469, -15.55037640743752, -11.033631714029061, -11.71348506118111, -10.891869181939983, -10.126081109546853, -9.26277334058978, -8.31026000081585, -7.277714314383847, -6.260988205994544, -4.570279898180737, -4.71715511204203, -1.6037531824897977, -1.785236662652396, -2.5342763915665857e-16, -2.2732874165424106, -9.955858094827779, -4.428503284584822, -8.54126373366736, -6.060377957449589, -6.433797004429366, -5.982512885736843, -5.561892977959042, -5.087709000363517, -4.564527603869843, -3.997387311326299, -3.4389361453143428, -2.510290743082576, -2.5909640274236607, -0.8808840722853586, -0.9805664353843734, -1.3919870791053094e-16, -5.468672116359305, -23.950039560076466, -10.653308619659446, -20.547059064718255, -14.57898359412523, -15.47728898000633, -14.391669599680366, -13.37981674530234, -12.239108941515218, -10.980531828043786, -9.616206190499009, -8.272783314141854, -6.0388127303015215, -6.232882225166464, -2.1190748379625775, -2.3588730067315358, -3.3485959014429026e-16, -4.891052772724674, -21.42035669806486, -9.528070718850444, -18.37681032461171, -13.03910284148195, -13.842526223773204, -12.871573574338829, -11.966595984954704, -10.946373534628686, -9.820731523267728, -8.60051049877976, -7.39898441629764, -5.400973238119386, -5.57454446725213, -1.8952511032473425, -2.109720991603445, -2.994906061289029e-16, -6.619557280711992, -28.990339038426274, -12.895303491679503, -24.87119935792082, -17.64713900238733, -18.734493268814028, -17.42040467103154, -16.195606806634, -14.814836395269312, -13.291391010804809, -11.63994226509285, -10.013795278576248, -7.309684311872043, -7.544595842562343, -2.5650353456091413, -2.8552991756945922, -4.053309817798249e-16, -7.945150325983376, -34.795771362635115, -15.477640028753106, -29.851757346667743, -21.181049766882733, -22.48615111097599, -20.908910971146035, -19.438842394213168, -17.781567138671853, -15.953045671191763, -13.970887653076243, -12.019098173488933, -8.773478078742313, -9.055431590962778, -3.0786940195694394, -3.4270843524009655, -4.865001457730045e-16, -9.66886717438169, -42.344786156557994, -18.835546147125235, -36.32815804162635, -25.776322461791764, -27.36456825040532, -25.445142589666602, -23.65613958476286, -21.639315023896522, -19.414092030097194, -17.001900717225773, -14.626666460327119, -10.676902351776395, -11.02002626349076, -3.7466230750134786, -4.170597413418426, -5.920473618243726e-16, -11.76654837974478, -51.53157716978867, -22.921957764223535, -44.20962884632304, -31.368550196054407, -33.30136927129859, -30.965520149464947, -28.7883891547934, -26.334010235226863, -23.626020401460764, -20.690499075932095, -17.7999527179186, -12.993278923186946, -13.410844294043592, -4.559460883858238, -5.0754173526605015, -7.204932905133459e-16, -14.319326301110419, -62.71146342076754, -27.894925690460436, -53.80100269601871, -38.17402447631011, -40.52617279765431, -37.68355619623227, -35.034091960260696, -32.04723026712904, -28.751736227726838, -25.179347251153835, -21.66169065781228, -15.812198668450137, -16.320355742586962, -5.548645706969129, -6.1765400388928775, -8.768058560300692e-16, -17.425935147628493, -76.31685119839945, -33.94679021960581, -65.47324672568604, -46.455961744274035, -49.31841373701679, -45.859085308827304, -42.634814070003635, -38.9999462651257, -34.989487658175335, -30.64206115787716, -26.36124134986398, -19.242689407563972, -19.861092259242145, -6.752436407522414, -7.516553774330257, -1.0670307850346296e-15, -21.501555764853357, -94.1660242586015, -41.88634909753849, -80.78629087345858, -57.3211964575881, -60.853125770119135, -56.5847210918324, -52.60634935710145, -48.1213497205058, -43.17291518029608, -37.808701866183995, -32.52667338154278, -23.743216984185604, -24.50625341740177, -8.331712859882185, -9.274543877794452, -1.3165905722057991e-15, -23.528282412626314, -103.04206991626997, -45.83453688554347, -88.40116908406758, -62.72426578026115, -66.58911310737874, -61.91837058900401, -57.56499938457395, -52.65724576784079, -47.24237408898471, -41.37253252234308, -35.59262248898077, -25.981241576078798, -26.816201468663824, -9.117056239653712, -10.148758070880483, -1.4406917873028891e-15, -38.959793773137406, -170.6243457763295, -75.89606727050105, -146.38090687704732, -103.86327469696741, -110.26296219597322, -102.52881645205566, -95.32019657203026, -87.19359109169635, -78.22726366428401, -68.50756492441238, -58.93678117666885, -43.021577011966215, -44.404162644587515, -15.096666415581147, -16.80503126240876, -2.3855993369856852e-15, -23.984790479760214, -105.0413461637239, -46.72384259322947, -90.11637489991105, -63.94127486029383, -67.88110998091578, -63.119743268146, -58.68190567389633, -53.678929249214306, -48.15899539197474, -42.17526408272565, -36.28320920549992, -26.485343242559537, -27.33650346460396, -9.293950143293776, -10.345669594190868, -1.4686448444629128e-15, -64.66978438159032, -283.2212027573204, -125.98070550307031, -242.97925549717246, -172.40377654283117, -183.02668725637872, -170.18869482378523, -158.22302847440332, -144.73358786730736, -129.850283689622, -113.71645029662005, -97.82980251471731, -71.41198244838115, -73.70695134044837, -25.05912037577523, -27.894853720072494, -3.959882222223204e-15, -17.883572762880902, -78.32107429977839, -34.83829635629016, -67.19269651363346, -47.67598209708705, -50.61360742730843, -47.06343057125326, -43.754483945532904, -40.0241577207831, -35.90837697775197, -31.4467789349095, -27.053536800538065, -19.748038384070338, -20.382681650045345, -6.929768003703791, -7.7139525202259165, -1.095053007069044e-15, 0.772821941691734, 4.1387874337826185, 2.2732874165424106, 5.468672116359305, 4.891052772724674, 6.619557280711992, 7.945150325983376, 9.66886717438169, 11.76654837974478, 14.319326301110419, 17.425935147628493, 21.501555764853357, 23.528282412626314, 38.959793773137406, 23.984790479760214, 64.66978438159032, 17.883572762880902, 3.384572284200927, 18.12581201811594, 9.955858094827775, 23.95003956007646, 21.42035669806486, 28.990339038426264, 34.79577136263511, 42.344786156557994, 51.53157716978866, 62.711463420767515, 76.31685119839943, 94.1660242586015, 103.04206991626995, 170.62434577632945, 105.04134616372389, 283.2212027573203, 78.32107429977837, 1.5055045315767772, 8.062611709953469, 4.428503284584822, 10.653308619659446, 9.528070718850444, 12.895303491679503, 15.477640028753106, 18.835546147125235, 22.921957764223535, 27.894925690460436, 33.94679021960581, 41.88634909753849, 45.83453688554347, 75.89606727050105, 46.72384259322947, 125.98070550307031, 34.83829635629016, 2.90366980220816, 15.55037640743752, 8.54126373366736, 20.547059064718255, 18.37681032461171, 24.87119935792082, 29.851757346667743, 36.32815804162635, 44.20962884632304, 53.80100269601871, 65.47324672568604, 80.78629087345858, 88.40116908406758, 146.38090687704732, 90.11637489991105, 242.97925549717246, 67.19269651363346, 2.060273164924106, 11.033631714029061, 6.060377957449589, 14.57898359412523, 13.03910284148195, 17.64713900238733, 21.181049766882733, 25.776322461791764, 31.368550196054407, 38.17402447631011, 46.455961744274035, 57.3211964575881, 62.72426578026115, 103.86327469696741, 63.94127486029383, 172.40377654283117, 47.67598209708705, 2.1872199077123624, 11.71348506118111, 6.433797004429366, 15.47728898000633, 13.842526223773204, 18.734493268814028, 22.48615111097599, 27.36456825040532, 33.30136927129859, 40.52617279765431, 49.31841373701679, 60.853125770119135, 66.58911310737874, 110.26296219597322, 67.88110998091578, 183.02668725637872, 50.61360742730843, 2.033802321214192, 10.891869181939985, 5.982512885736845, 14.39166959968037, 12.871573574338832, 17.420404671031545, 20.90891097114604, 25.44514258966661, 30.96552014946495, 37.683556196232274, 45.85908530882731, 56.584721091832414, 61.91837058900403, 102.5288164520557, 63.11974326814601, 170.18869482378526, 47.06343057125328, 1.890809274458383, 10.126081109546853, 5.561892977959042, 13.37981674530234, 11.966595984954704, 16.195606806634, 19.438842394213168, 23.65613958476286, 28.7883891547934, 35.034091960260696, 42.634814070003635, 52.60634935710145, 57.56499938457395, 95.32019657203026, 58.68190567389633, 158.22302847440332, 43.754483945532904, 1.7296067007680507, 9.262773340589778, 5.087709000363517, 12.239108941515216, 10.946373534628684, 14.81483639526931, 17.78156713867185, 21.639315023896522, 26.33401023522686, 32.04723026712904, 38.99994626512569, 48.12134972050579, 52.65724576784078, 87.19359109169633, 53.6789292492143, 144.73358786730734, 40.0241577207831, 1.551747069050122, 8.310260000815848, 4.564527603869843, 10.980531828043784, 9.820731523267726, 13.291391010804809, 15.95304567119176, 19.41409203009719, 23.626020401460764, 28.751736227726834, 34.98948765817533, 43.17291518029607, 47.24237408898471, 78.227263664284, 48.15899539197474, 129.850283689622, 35.90837697775196, 1.3589432647860062, 7.277714314383843, 3.997387311326297, 9.616206190499005, 8.600510498779757, 11.639942265092843, 13.97088765307624, 17.001900717225766, 20.690499075932085, 25.179347251153818, 30.642061157877148, 37.80870186618398, 41.37253252234306, 68.50756492441234, 42.17526408272562, 113.71645029662, 31.44677893490948, 1.1690933974455207, 6.2609882059945425, 3.4389361453143414, 8.272783314141854, 7.398984416297639, 10.013795278576248, 12.019098173488933, 14.626666460327115, 17.799952717918597, 21.66169065781228, 26.361241349863974, 32.52667338154278, 35.592622488980766, 58.936781176668845, 36.283209205499915, 97.82980251471727, 27.053536800538065, 0.8533930871049049, 4.570279898180735, 2.510290743082575, 6.03881273030152, 5.400973238119383, 7.309684311872041, 8.77347807874231, 10.676902351776391, 12.99327892318694, 15.812198668450133, 19.242689407563965, 23.7432169841856, 25.981241576078787, 43.02157701196621, 26.48534324255953, 71.41198244838111, 19.748038384070327, 0.8808186047906327, 4.717155112042027, 2.5909640274236594, 6.2328822251664615, 5.574544467252128, 7.544595842562339, 9.055431590962773, 11.020026263490752, 13.410844294043585, 16.320355742586955, 19.861092259242135, 24.50625341740176, 26.816201468663806, 44.404162644587494, 27.33650346460395, 73.70695134044833, 20.382681650045335, 0.2994634704767397, 1.6037531824897966, 0.8808840722853579, 2.119074837962576, 1.895251103247341, 2.5650353456091395, 3.0786940195694372, 3.746623075013476, 4.559460883858234, 5.548645706969125, 6.75243640752241, 8.331712859882177, 9.117056239653706, 15.096666415581135, 9.293950143293769, 25.059120375775212, 6.929768003703786, 0.3333512740347125, 1.785236662652394, 0.980566435384372, 2.358873006731533, 2.1097209916034423, 2.8552991756945882, 3.427084352400961, 4.170597413418421, 5.075417352660495, 6.1765400388928695, 7.516553774330247, 9.27454387779444, 10.14875807088047, 16.80503126240874, 10.345669594190854, 27.894853720072454, 7.713952520225908, -4.732169586018123e-17, -2.5342763915665857e-16, -1.3919870791053094e-16, -3.3485959014429026e-16, -2.994906061289029e-16, -4.053309817798249e-16, -4.865001457730045e-16, -5.920473618243726e-16, -7.204932905133459e-16, -8.768058560300692e-16, -1.0670307850346296e-15, -1.3165905722057991e-15, -1.4406917873028891e-15, -2.3855993369856852e-15, -1.4686448444629128e-15, -3.959882222223204e-15, -1.095053007069044e-15, -869703.110364473, -3.808863185715654e6, -1.6942349888694114e6, -3.2676746378652174e6, -2.318549568885923e6, -2.46141038985576e6, -2.2887603330134414e6, -2.127841639049101e6, -1.9464306669041577e6, -1.7462745034096912e6, -1.529300761836641e6, -1.3156512635228839e6, -960374.6764668418, -991238.2645042364, -337004.29253346304, -375140.2803565743, 5.325395651581746e-11, -179701.12016370843, -787000.7280261117, -350068.8012864421, -675178.4439506435, -479066.8789367404, -508585.2849880056, -472911.7220891784, -439662.1347115337, -402178.3606328463, -360821.389088209, -315989.510321617, -271844.4984067961, -198435.9985393475, -204813.1418155935, -69633.01400964524, -77512.80614640172, 1.100352008058397e-11, 136453.24247066924, 597596.7265429876, 265819.283596221, 512686.21942609636, 363771.9616420268, 386186.3028247169, 359098.13930302166, 333850.5837821756, 305387.86463821406, 273984.0934157982, 239941.70559884747, 206420.8794114759, 150679.28012319276, 155521.66439409246, 52874.742995289, 58858.140238866414, -8.355351331249136e-12, -59497.6513237297, -260569.8554631242, -115905.07315303384, -223546.36188621056, -158615.33916849789, -168388.65515712654, -156577.41433182752, -145568.73305788345, -133158.145308628, -119465.17182840382, -104621.68343716614, -90005.61134926186, -65700.62468400021, -67812.04751066872, -23054.952492182394, -25663.89073713657, 3.643180412519543e-12, 11869.312218981933, 51981.6312163117, 23122.148024498878, 44595.73622844357, 31642.509265903558, 33592.20872971308, 31235.959332803737, 29039.814237113416, 26563.999855542443, 23832.35963400315, 20871.2007610954, 17955.40964721504, 13106.75648545358, 13527.968687926159, 4599.281202455952, 5119.743807289119, -7.267857608528397e-13, 497.5608700394926, 2179.0669229087425, 969.2790850890925, 1869.4506394726327, 1326.4521271415422, 1408.1834139786326, 1309.409577860199, 1217.347304631164, 1113.5613113888019, 999.0511139832323, 874.9195082131114, 752.6897162327829, 549.4344609006677, 567.0916516516482, 192.80159746666033, 214.61935924645982, -3.0466816343741836e-14, 403.24818143430787, 1766.0246751655905, 785.5521844663203, 1515.0961742403654, 1075.0230579567894, 1141.262175154102, 1061.2109247716367, 986.5990601863646, 902.4857073215904, 809.6809237464382, 709.0784702589913, 610.0173416592903, 445.28913046949987, 459.59939980198675, 156.2560447124575, 173.93824862043923, -2.4691829732775816e-14, 331.3590949867934, 1451.1865521767947, 645.5078358538445, 1244.9923402717857, 883.3732772395097, 937.8036130420313, 872.0235026768812, 810.7130713779354, 741.5950300207747, 665.3350231274334, 582.6674762522542, 501.2664745058529, 365.905192070573, 377.66429753798985, 128.39949179180786, 142.92940005693728, -2.0289892752197015e-14, 272.2860384470531, 1192.476208795795, 530.4298993760201, 1023.0412786558367, 725.8898692342302, 770.6166346414153, 716.563476207208, 666.1831646164383, 609.3871449776505, 546.7223940078288, 478.7924075148499, 411.9031727647591, 300.6734286260506, 310.33617907366295, 105.5090670138379, 117.44865527432871, -1.6672711271834836e-14, 223.74423354640123, 979.8874627617583, 435.8674868636725, 840.6585518841824, 596.481822414454, 633.2349218466389, 588.8180924946791, 547.4193330614164, 500.748626200925, 449.25543633307495, 393.4356710253343, 338.47111739995773, 247.07086055308676, 255.01098376021756, 86.69943367587506, 96.51049133949668, -1.3700382972013903e-14, 183.8562209580946, 805.1979843772394, 358.1631924231807, 690.7901134063267, 490.14400058974275, 520.3449396843239, 483.8465224417704, 449.82812857699867, 411.4776439329621, 369.1644046412904, 323.2959103271314, 278.13016479691413, 203.0242925600777, 209.54888997054897, 71.24308851315085, 79.30507946167437, -1.1257946624982955e-14, 153.1810655547767, 670.8561972323822, 298.40610870810923, 575.5364985468955, 408.3668199768482, 433.52893854512496, 403.12003306919075, 374.77737599991747, 342.8254079256114, 307.5718437655504, 269.35619461415445, 231.72604540929572, 169.15107525758268, 174.58708812918266, 59.35666552368156, 66.07356831626791, -9.379635081081905e-15, 113.18226696637717, 495.68153176250274, 220.48599634607908, 425.25181158329775, 301.7336527294371, 320.32541282015103, 297.8569122566675, 276.9151191745202, 253.30648211752003, 227.2583651663196, 199.02162592650808, 171.21750028040523, 124.98217118490648, 128.9987267418077, 43.85739150726119, 48.82036968151771, -6.93041504803075e-15, 126.54872494170726, 554.2199100883139, 246.5246761083792, 475.47266879717307, 337.36741671959453, 358.15480326841583, 333.03284579334996, 309.617894992567, 283.22115460864757, 254.096839681415, 222.52543328458833, 191.43773074123325, 139.7421595080317, 144.23305722555466, 49.0368069422211, 54.585896713079464, -7.748874546802031e-15, 52.60536188519707, 230.3850864369191, 102.47847069408272, 197.65044507652937, 140.24112098311056, 148.88228265859914, 138.43927215138837, 128.70585159763203, 117.73292333521519, 105.62616266171766, 92.50216430065377, 79.57923802679467, 58.089774313610434, 59.956607027480324, 20.38423521120689, 22.690950475733768, -3.2211494025347383e-15, 95.77418277305298, 419.44285878592325, 186.5739808800721, 359.84563499907347, 255.32528000940962, 271.057520374676, 252.04480453781454, 234.3239797831659, 214.34648700868814, 192.30472039060803, 168.41095419071274, 144.88326312347294, 105.75919379660554, 109.15797998754708, 37.111872228302175, 41.311515789966485, -5.864477318698645e-15, 17.883572762880902, 78.32107429977837, 34.83829635629016, 67.19269651363346, 47.67598209708705, 50.61360742730843, 47.06343057125328, 43.754483945532904, 40.0241577207831, 35.90837697775196, 31.44677893490948, 27.053536800538065, 19.748038384070327, 20.382681650045335, 6.929768003703786, 7.713952520225908, -1.095053007069044e-15, -0.002886391369998487, -0.012640945740837154, -0.005622867381229405, -0.010844836315170178, -0.00769485745973873, -0.008168987350553346, -0.007595992235139098, -0.007061931445894081, -0.006459860396380688, -0.005795577359931247, -0.005075479745320814, -0.004366414708311918, -0.0031873143203515644, -0.003289745130471344, -0.0011184578622621994, -0.001245024485776822, -1.7674049761775953e-19, -0.012947750662124429, -0.05670465041124656, -0.025223012241194803, -0.04864767752560504, -0.034517528289775015, -0.03664437625347688, -0.03407403947859844, -0.031678353983749734, -0.02897758862288771, -0.025997753242826004, -0.022767545287218326, -0.01958682717745415, -0.014297628357221799, -0.014757111642591728, -0.005017169077342154, -0.005584920595881085, -7.928210702264353e-19, -0.006180788306236337, -0.02706875111491733, -0.012040554624246488, -0.023222643393604015, -0.01647742073360395, -0.017492701098991693, -0.01626571520037297, -0.015122101511912324, -0.01383285371931039, -0.01241038798358446, -0.010868403427368448, -0.009350043535269715, -0.006825171140786391, -0.007044511858045735, -0.0023950152248729583, -0.0026660392844340165, -3.784641307719861e-19, -0.013356457527080947, -0.05849458138094238, -0.026019198275886887, -0.0501832832294643, -0.03560710370264037, -0.03780108744816004, -0.035149615786415414, -0.03267830842228824, -0.02989229108427392, -0.026818394642329536, -0.023486222399553742, -0.02020510219209124, -0.014748945270458894, -0.015222932540185955, -0.005175540326377378, -0.005761213408998875, -8.178471479243627e-19, -0.011032475309808857, -0.048316705498773864, -0.021491938410893845, -0.04145154746845581, -0.029411578006869714, -0.03122381537995241, -0.029033691570286197, -0.026992384028791647, -0.024691125073561786, -0.022152077086331573, -0.019399692487202864, -0.016689477027456164, -0.012182674501239681, -0.012574189454948394, -0.004275012348888702, -0.004758780130169061, -6.75544278741481e-19, -0.014096803176606158, -0.061736923802828816, -0.027461436998888814, -0.05296493213168972, -0.03758079801978945, -0.039896393825829754, -0.03709795164397289, -0.034489660229100105, -0.03154921453225497, -0.02830493265290921, -0.024788058799065826, -0.021325066784184415, -0.015566476224600749, -0.01606673650963604, -0.005462419445096307, -0.0060805562642949375, -8.631802444220485e-19, -0.01624337278745907, -0.07113782149874169, -0.03164308622770059, -0.0610300879212979, -0.04330335780658949, -0.04597155749919843, -0.04274698672137227, -0.039741521634052535, -0.03635332396847127, -0.032615023920325274, -0.028562623362640878, -0.024572309420323693, -0.01793683809978421, -0.01851327477119024, -0.006294201192750578, -0.007006463871182531, -9.946197245759485e-19, -0.019211614305649573, -0.08413722981431115, -0.037425402716629454, -0.07218245407068988, -0.05121642033371532, -0.05437219494134066, -0.050558380477099985, -0.047003710100313394, -0.04299636830041915, -0.03857494796958608, -0.03378202980259434, -0.029062543682233887, -0.021214535918426047, -0.02189630805698308, -0.007444375454501851, -0.00828679383899576, -1.1763720982933626e-18, -0.02292290657223624, -0.10039082752733895, -0.044655227627036546, -0.08612663280100198, -0.061110388726099335, -0.06487579465934039, -0.060325228982934756, -0.05608386874918214, -0.05130239020081365, -0.0460268415900721, -0.04030802933398716, -0.03467683469907433, -0.02531275181224224, -0.0261262284304513, -0.00888247704317135, -0.009887633487354665, -1.403623208042147e-18, -0.027520791845164212, -0.12052725769470991, -0.053612190079358225, -0.10340194539343867, -0.07336793361732842, -0.0778886060972653, -0.07242528623582198, -0.06733319236170403, -0.06159264303707576, -0.05525892289003685, -0.048393029107966876, -0.041632327322673045, -0.030389993147586364, -0.03136663721364713, -0.010664127649093361, -0.011870898753142572, -1.6851624821590466e-18, -0.03318310328507967, -0.1453253403191498, -0.06464271997519816, -0.12467655193836846, -0.08846314207577813, -0.09391392789123501, -0.08732654812899332, -0.08118677286697198, -0.07426512460103718, -0.06662826258774766, -0.05834973398302486, -0.05019804027874478, -0.036642633217925304, -0.03782021855410264, -0.012858236464126977, -0.014313296711390573, -2.0318790611924417e-18, -0.04068711698815928, -0.17818915464630308, -0.07926099881219695, -0.15287085752096, -0.10846816163802621, -0.11515158597738304, -0.1070745387907725, -0.09954631720701268, -0.09105941017099695, -0.08169555123689742, -0.07154491948505551, -0.06154980502730628, -0.044928983636147536, -0.046372867649193766, -0.015765992914610363, -0.017550099904141185, -2.491367379304158e-18, -0.044332423917588674, -0.1941537696955917, -0.08636228023962471, -0.16656711416138856, -0.11818621910955052, -0.12546843576598563, -0.11666773651802972, -0.10846503415664327, -0.09921775422330935, -0.08901495307886335, -0.07795488927574476, -0.06706427612724593, -0.04895433484077408, -0.0505275816789028, -0.017178525614769215, -0.01912247724440253, -2.7145780524559266e-18, -0.07319650089918679, -0.3205639421954907, -0.14259127213451375, -0.27501609079966993, -0.19513522900090136, -0.2071587713867565, -0.19262808857063146, -0.17908474810526215, -0.1638167236179576, -0.14697105453088177, -0.12870997384612265, -0.1107286702161056, -0.08082765834895304, -0.0834252190827356, -0.0283631675079532, -0.031572792532538814, -4.4819930267487734e-18, -0.04497367491932536, -0.19696212728821266, -0.0876114765122867, -0.16897644167776646, -0.11989573608828268, -0.12728328713235432, -0.11835528924583934, -0.11003393803466373, -0.1006528998495452, -0.09030251921640356, -0.07908247595882957, -0.0680343343926655, -0.04966243995847203, -0.05125844319071997, -0.01742700620268626, -0.019399076324828513, -2.7538433517922693e-18, -0.12110111500250749, -0.5303621122946954, -0.23591239790135152, -0.45500474517684053, -0.32284458297843754, -0.3427371238966489, -0.3186966046209513, -0.29628960959978595, -0.27102918366979856, -0.24315859854144814, -0.2129462631851326, -0.18319680942650507, -0.1337266048083549, -0.13802418047499848, -0.04692589356076971, -0.052236108727374574, -7.415304643049814e-18, -0.03345891389589101, -0.14653325238618703, -0.06518001595766532, -0.12571283584613166, -0.08919842813508955, -0.09469451967594071, -0.08805238707095668, -0.0818615793557403, -0.07488239988123684, -0.06718206196099337, -0.05883472405861473, -0.05061527528030167, -0.03694719867591596, -0.03813457184079826, -0.012965111279983095, -0.01443226566600512, -2.0487675902774907e-18, 0.002886391369998487, 0.012947750662124429, 0.006180788306236337, 0.013356457527080947, 0.011032475309808857, 0.014096803176606158, 0.01624337278745907, 0.019211614305649573, 0.02292290657223624, 0.027520791845164212, 0.03318310328507967, 0.04068711698815928, 0.044332423917588674, 0.07319650089918679, 0.04497367491932536, 0.12110111500250749, 0.03345891389589101, 0.012640945740837151, 0.05670465041124655, 0.027068751114917328, 0.058494581380942365, 0.04831670549877386, 0.061736923802828796, 0.07113782149874168, 0.08413722981431113, 0.10039082752733894, 0.12052725769470987, 0.1453253403191498, 0.17818915464630308, 0.19415376969559167, 0.32056394219549067, 0.1969621272882126, 0.5303621122946953, 0.146533252386187, 0.005622867381229405, 0.025223012241194803, 0.012040554624246488, 0.026019198275886887, 0.021491938410893845, 0.027461436998888814, 0.03164308622770059, 0.037425402716629454, 0.044655227627036546, 0.053612190079358225, 0.06464271997519816, 0.07926099881219695, 0.08636228023962471, 0.14259127213451375, 0.0876114765122867, 0.23591239790135152, 0.06518001595766532, 0.010844836315170178, 0.04864767752560504, 0.023222643393604015, 0.0501832832294643, 0.04145154746845581, 0.05296493213168972, 0.0610300879212979, 0.07218245407068988, 0.08612663280100198, 0.10340194539343867, 0.12467655193836846, 0.15287085752096, 0.16656711416138856, 0.27501609079966993, 0.16897644167776646, 0.45500474517684053, 0.12571283584613166, 0.00769485745973873, 0.034517528289775015, 0.01647742073360395, 0.03560710370264037, 0.029411578006869714, 0.03758079801978945, 0.04330335780658949, 0.05121642033371532, 0.061110388726099335, 0.07336793361732842, 0.08846314207577813, 0.10846816163802621, 0.11818621910955052, 0.19513522900090136, 0.11989573608828268, 0.32284458297843754, 0.08919842813508955, 0.008168987350553346, 0.03664437625347688, 0.017492701098991693, 0.03780108744816004, 0.03122381537995241, 0.039896393825829754, 0.04597155749919843, 0.05437219494134066, 0.06487579465934039, 0.0778886060972653, 0.09391392789123501, 0.11515158597738304, 0.12546843576598563, 0.2071587713867565, 0.12728328713235432, 0.3427371238966489, 0.09469451967594071, 0.007595992235139099, 0.034074039478598446, 0.016265715200372975, 0.03514961578641543, 0.0290336915702862, 0.0370979516439729, 0.04274698672137227, 0.0505583804771, 0.06032522898293477, 0.072425286235822, 0.08732654812899335, 0.10707453879077253, 0.11666773651802975, 0.19262808857063154, 0.11835528924583937, 0.3186966046209514, 0.08805238707095672, 0.007061931445894081, 0.031678353983749734, 0.015122101511912324, 0.03267830842228824, 0.026992384028791647, 0.034489660229100105, 0.039741521634052535, 0.047003710100313394, 0.05608386874918214, 0.06733319236170403, 0.08118677286697198, 0.09954631720701268, 0.10846503415664327, 0.17908474810526215, 0.11003393803466373, 0.29628960959978595, 0.0818615793557403, 0.0064598603963806865, 0.028977588622887702, 0.013832853719310388, 0.029892291084273916, 0.024691125073561786, 0.03154921453225496, 0.03635332396847127, 0.04299636830041914, 0.05130239020081364, 0.06159264303707575, 0.07426512460103717, 0.09105941017099693, 0.09921775422330932, 0.1638167236179576, 0.10065289984954519, 0.27102918366979845, 0.07488239988123684, 0.005795577359931245, 0.025997753242825997, 0.01241038798358446, 0.026818394642329532, 0.022152077086331573, 0.028304932652909207, 0.032615023920325274, 0.038574947969586076, 0.04602684159007209, 0.05525892289003684, 0.06662826258774765, 0.08169555123689742, 0.08901495307886333, 0.14697105453088175, 0.09030251921640355, 0.24315859854144814, 0.06718206196099336, 0.005075479745320812, 0.022767545287218312, 0.010868403427368443, 0.02348622239955373, 0.019399692487202854, 0.02478805879906582, 0.028562623362640864, 0.03378202980259433, 0.04030802933398714, 0.04839302910796686, 0.05834973398302484, 0.07154491948505548, 0.07795488927574473, 0.12870997384612257, 0.07908247595882954, 0.21294626318513252, 0.0588347240586147, 0.004366414708311917, 0.019586827177454143, 0.009350043535269713, 0.02020510219209124, 0.01668947702745616, 0.02132506678418441, 0.02457230942032369, 0.02906254368223388, 0.03467683469907433, 0.04163232732267303, 0.05019804027874477, 0.06154980502730627, 0.06706427612724591, 0.11072867021610558, 0.0680343343926655, 0.18319680942650501, 0.050615275280301665, 0.0031873143203515635, 0.014297628357221794, 0.006825171140786388, 0.014748945270458889, 0.012182674501239676, 0.015566476224600742, 0.017936838099784205, 0.021214535918426036, 0.025312751812242233, 0.030389993147586357, 0.03664263321792528, 0.04492898363614752, 0.04895433484077407, 0.08082765834895303, 0.04966243995847201, 0.13372660480835485, 0.03694719867591594, 0.0032897451304713427, 0.014757111642591723, 0.007044511858045732, 0.015222932540185946, 0.01257418945494839, 0.016066736509636033, 0.01851327477119023, 0.021896308056983074, 0.026126228430451287, 0.03136663721364711, 0.03782021855410262, 0.046372867649193746, 0.05052758167890277, 0.08342521908273558, 0.051258443190719934, 0.1380241804749984, 0.03813457184079824, 0.0011184578622621985, 0.00501716907734215, 0.0023950152248729565, 0.005175540326377374, 0.004275012348888698, 0.005462419445096302, 0.006294201192750574, 0.007444375454501846, 0.008882477043171343, 0.010664127649093354, 0.012858236464126968, 0.015765992914610352, 0.0171785256147692, 0.028363167507953178, 0.017427006202686248, 0.046925893560769684, 0.012965111279983088, 0.0012450244857768202, 0.005584920595881078, 0.002666039284434014, 0.005761213408998869, 0.004758780130169055, 0.00608055626429493, 0.007006463871182522, 0.008286793838995749, 0.009887633487354653, 0.011870898753142558, 0.014313296711390555, 0.017550099904141168, 0.019122477244402504, 0.03157279253253877, 0.01939907632482849, 0.05223610872737451, 0.014432265666005103, -1.7674049761775953e-19, -7.928210702264353e-19, -3.784641307719861e-19, -8.178471479243627e-19, -6.75544278741481e-19, -8.631802444220485e-19, -9.946197245759485e-19, -1.1763720982933626e-18, -1.403623208042147e-18, -1.6851624821590466e-18, -2.0318790611924417e-18, -2.491367379304158e-18, -2.7145780524559266e-18, -4.4819930267487734e-18, -2.7538433517922693e-18, -7.415304643049814e-18, -2.0487675902774907e-18, 0.772821941691734, 3.384572284200927, 1.5055045315767772, 2.90366980220816, 2.060273164924106, 2.1872199077123624, 2.033802321214192, 1.890809274458383, 1.7296067007680507, 1.551747069050122, 1.3589432647860062, 1.1690933974455207, 0.8533930871049049, 0.8808186047906327, 0.2994634704767397, 0.3333512740347125, -4.732169586018123e-17, 2.794649182783126, 12.239160999242765, 5.4441479749362225, 10.50013981493542, 7.450281113992781, 7.909341075739691, 7.35455826018825, 6.837472267022712, 6.2545376781832, 5.611368472424698, 4.91415872079071, 4.2276308830158795, 3.086007480907941, 3.1851825902740707, 1.0829083620597346, 1.2054521427296936, -1.7112290882175607e-16, 1.0364846882803904, 4.539282802029647, 2.0191357296355097, 3.8943113897915067, 2.763174120605659, 2.933431133287089, 2.7276722504968345, 2.5358944353269908, 2.319694570484038, 2.0811547788532825, 1.8225723290272429, 1.5679516072867001, 1.144544195953214, 1.1813264450275531, 0.40163106804265225, 0.4470803334069409, -6.346638279339111e-17, 1.6836243791830032, 7.373429898113275, 3.279803529885027, 6.32576406590325, 4.48838981027064, 4.7649485096112905, 4.430721988741147, 4.119205756367191, 3.7680193207724995, 3.380544799309883, 2.9605137834361455, 2.546918040619363, 1.8591519326313017, 1.9188995506742474, 0.6523934846695892, 0.7262194582208494, -1.0309226034664572e-16, 1.0167662979767922, 4.452926147656554, 1.980723096199556, 3.8202248617260937, 2.7106066814500465, 2.8776246745242045, 2.6757802093854273, 2.4876508319145176, 2.275564017043997, 2.0415622767395165, 1.78789917567857, 1.5381224336199597, 1.1227700497157367, 1.1588525424389278, 0.3939903201886196, 0.43857494532850555, -6.225897961490913e-17, 0.9291895149082342, 4.0693837859264175, 1.8101181526054184, 3.4911787430120618, 2.4771349251596413, 2.6297672146782167, 2.44530814967733, 2.2733828553987694, 2.079563641465236, 1.8657170928592688, 1.6339026687443585, 1.4056398612038032, 1.0260628818291853, 1.0590374935731586, 0.3600548869716367, 0.4007993198747832, -5.689644826168255e-17, 0.7530705928474375, 3.2980712879589555, 1.4670276928825372, 2.829459441324101, 2.0076178612898947, 2.1313201705725895, 1.9818235445263723, 1.8424850336945833, 1.6854023847835427, 1.512088389572374, 1.3242121565780278, 1.13921436544759, 0.8315825462087414, 0.8583071379271494, 0.2918099514027832, 0.3248316695230479, -4.61122745531307e-17, 0.618827852043345, 2.7101554494333273, 1.2055146020799687, 2.325078585126848, 1.6497388964935567, 1.75138997020866, 1.6285426875467413, 1.5140427293968384, 1.3849617121028974, 1.2425427564243214, 1.0881574347584155, 0.9361374424690541, 0.6833442253020546, 0.7053048779246809, 0.23979176341047284, 0.2669270135307547, -3.789227741140572e-17, 0.5085196172767791, 2.2270607364483657, 0.9906273966937341, 1.9106251736134259, 1.355667152797702, 1.4391985661474638, 1.338249242427698, 1.2441593033528198, 1.1380874300599961, 1.0210551526738203, 0.8941895560018722, 0.7692676604502313, 0.5615357207525269, 0.5795818100323352, 0.19704804066749815, 0.21934633729443945, -3.113784608008222e-17, 0.41787947891169697, 1.830102415783911, 0.8140548491381311, 1.5700693244063908, 1.1140287692784674, 1.182671280397871, 1.0997154821173427, 1.0223964301562791, 0.9352311416740706, 0.8390590660481938, 0.7348063929399307, 0.6321509695418432, 0.4614458251089487, 0.476275322592299, 0.16192557721895595, 0.180249355217894, -2.5587738313928675e-17, 0.34340173349312675, 1.503927265552457, 0.668967634114409, 1.290239303230942, 0.915477858658572, 0.9718863651760827, 0.9037155973579786, 0.8401769508931567, 0.7685469411037933, 0.6895154041411065, 0.6038434569090794, 0.5194840850653539, 0.37920334510865983, 0.39138981369495424, 0.13306593580206588, 0.14812390693136418, -2.10272916872005e-17, 0.28613185052672463, 1.2531139175473447, 0.5574023903273972, 1.0750631795024717, 0.762801547766396, 0.8098026802042645, 0.7530009053582088, 0.70005874252167, 0.6403746313036113, 0.5745233623217165, 0.5031391192942466, 0.43284855049197707, 0.31596274648402944, 0.32611685017043957, 0.11087422904310272, 0.1234209483056319, -1.752052274408311e-17, 0.2114434526917095, 0.9260162154422488, 0.4119048114793107, 0.7944416887434155, 0.5636890569204296, 0.5984215821698514, 0.5564466556792915, 0.5173238747567289, 0.47321898212226277, 0.42455673200214955, 0.3718057684665379, 0.31986299966307724, 0.23348765233774146, 0.2409912515997315, 0.08193296118642139, 0.0912046365903973, -1.2947177376978341e-17, 0.23645836226163328, 1.035568966282659, 0.46063538922670794, 0.8884284580167554, 0.6303765357944116, 0.6692181075391919, 0.6222773191266908, 0.578526100603231, 0.5292033594764257, 0.4747841007058794, 0.41579241150214485, 0.3577045308596125, 0.26111051052781403, 0.2695018263617676, 0.09162607576993466, 0.10199464076230706, -1.447889882376672e-17, 0.09832114358423745, 0.4305972690134726, 0.19153561671897298, 0.3694151526277459, 0.2621152464018103, 0.2782658604719968, 0.2587475319454879, 0.24055545027289815, 0.22004668811319492, 0.19741875605720594, 0.1728895734603163, 0.14873620117721154, 0.10857168996439541, 0.11206086142392685, 0.0380988029590937, 0.042410129306899316, -6.020433688947185e-18, 0.1790783263943909, 0.7842732038492091, 0.3488555608343235, 0.6728384645020633, 0.4774065672646909, 0.5068226707852197, 0.47127274246742623, 0.43813838885032974, 0.400784523037798, 0.3595708831773059, 0.3148943791503772, 0.2709023614870219, 0.1977482749270182, 0.20410331681015734, 0.06939168547911356, 0.07724416846252799, -1.096538496077779e-17, 0.03345891389589101, 0.146533252386187, 0.06518001595766532, 0.12571283584613166, 0.08919842813508955, 0.09469451967594071, 0.08805238707095672, 0.0818615793557403, 0.07488239988123684, 0.06718206196099336, 0.0588347240586147, 0.050615275280301665, 0.03694719867591594, 0.03813457184079824, 0.012965111279983088, 0.014432265666005103, -2.0487675902774907e-18, -0.772821941691734, -2.794649182783126, -1.0364846882803904, -1.6836243791830032, -1.0167662979767922, -0.9291895149082342, -0.7530705928474375, -0.618827852043345, -0.5085196172767791, -0.41787947891169697, -0.34340173349312675, -0.28613185052672463, -0.2114434526917095, -0.23645836226163328, -0.09832114358423745, -0.1790783263943909, -0.03345891389589101, -3.3845722842009276, -12.239160999242767, -4.539282802029647, -7.373429898113276, -4.452926147656555, -4.069383785926418, -3.298071287958956, -2.7101554494333273, -2.227060736448366, -1.8301024157839112, -1.5039272655524571, -1.2531139175473451, -0.9260162154422491, -1.0355689662826593, -0.43059726901347267, -0.7842732038492092, -0.14653325238618703, -1.5055045315767772, -5.4441479749362225, -2.0191357296355097, -3.279803529885027, -1.980723096199556, -1.8101181526054184, -1.4670276928825372, -1.2055146020799687, -0.9906273966937341, -0.8140548491381311, -0.668967634114409, -0.5574023903273972, -0.4119048114793107, -0.46063538922670794, -0.19153561671897298, -0.3488555608343235, -0.06518001595766532, -2.90366980220816, -10.50013981493542, -3.8943113897915067, -6.32576406590325, -3.8202248617260937, -3.4911787430120618, -2.829459441324101, -2.325078585126848, -1.9106251736134259, -1.5700693244063908, -1.290239303230942, -1.0750631795024717, -0.7944416887434155, -0.8884284580167554, -0.3694151526277459, -0.6728384645020633, -0.12571283584613166, -2.060273164924106, -7.450281113992781, -2.763174120605659, -4.48838981027064, -2.7106066814500465, -2.4771349251596413, -2.0076178612898947, -1.6497388964935567, -1.355667152797702, -1.1140287692784674, -0.915477858658572, -0.762801547766396, -0.5636890569204296, -0.6303765357944116, -0.2621152464018103, -0.4774065672646909, -0.08919842813508955, -2.1872199077123624, -7.909341075739691, -2.933431133287089, -4.7649485096112905, -2.8776246745242045, -2.6297672146782167, -2.1313201705725895, -1.75138997020866, -1.4391985661474638, -1.182671280397871, -0.9718863651760827, -0.8098026802042645, -0.5984215821698514, -0.6692181075391919, -0.2782658604719968, -0.5068226707852197, -0.09469451967594071, -2.0338023212141914, -7.3545582601882495, -2.7276722504968345, -4.430721988741146, -2.675780209385427, -2.4453081496773295, -1.981823544526372, -1.6285426875467408, -1.3382492424276977, -1.0997154821173425, -0.9037155973579785, -0.7530009053582086, -0.5564466556792915, -0.6222773191266906, -0.25874753194548783, -0.4712727424674261, -0.08805238707095668, -1.890809274458383, -6.837472267022712, -2.5358944353269908, -4.119205756367191, -2.4876508319145176, -2.2733828553987694, -1.8424850336945833, -1.5140427293968384, -1.2441593033528198, -1.0223964301562791, -0.8401769508931567, -0.70005874252167, -0.5173238747567289, -0.578526100603231, -0.24055545027289815, -0.43813838885032974, -0.0818615793557403, -1.729606700768051, -6.254537678183202, -2.3196945704840384, -3.7680193207724995, -2.2755640170439975, -2.0795636414652363, -1.6854023847835429, -1.3849617121028976, -1.1380874300599961, -0.9352311416740706, -0.7685469411037935, -0.6403746313036114, -0.4732189821222628, -0.5292033594764258, -0.22004668811319494, -0.4007845230377981, -0.07488239988123684, -1.5517470690501225, -5.611368472424699, -2.0811547788532834, -3.380544799309883, -2.041562276739517, -1.865717092859269, -1.512088389572374, -1.2425427564243217, -1.0210551526738205, -0.839059066048194, -0.6895154041411065, -0.5745233623217167, -0.42455673200214966, -0.4747841007058794, -0.197418756057206, -0.359570883177306, -0.06718206196099337, -1.3589432647860067, -4.914158720790714, -1.8225723290272438, -2.9605137834361464, -1.787899175678571, -1.6339026687443594, -1.3242121565780285, -1.088157434758416, -0.8941895560018728, -0.734806392939931, -0.6038434569090796, -0.5031391192942468, -0.3718057684665381, -0.4157924115021451, -0.17288957346031636, -0.3148943791503774, -0.05883472405861473, -1.1690933974455209, -4.22763088301588, -1.5679516072867004, -2.546918040619363, -1.5381224336199601, -1.4056398612038035, -1.1392143654475901, -0.9361374424690542, -0.7692676604502315, -0.6321509695418434, -0.5194840850653539, -0.4328485504919772, -0.31986299966307735, -0.35770453085961257, -0.14873620117721154, -0.270902361487022, -0.05061527528030167, -0.8533930871049052, -3.0860074809079414, -1.1445441959532145, -1.8591519326313022, -1.1227700497157371, -1.0260628818291857, -0.8315825462087417, -0.6833442253020549, -0.5615357207525271, -0.46144582510894894, -0.37920334510866, -0.31596274648402956, -0.23348765233774152, -0.2611105105278141, -0.10857168996439545, -0.19774827492701827, -0.03694719867591596, -0.880818604790633, -3.185182590274073, -1.1813264450275538, -1.9188995506742486, -1.1588525424389284, -1.059037493573159, -0.8583071379271499, -0.7053048779246812, -0.5795818100323354, -0.47627532259229927, -0.3913898136949544, -0.32611685017043973, -0.24099125159973162, -0.2695018263617678, -0.11206086142392689, -0.20410331681015742, -0.03813457184079826, -0.29946347047674, -1.0829083620597353, -0.40163106804265253, -0.6523934846695898, -0.39399032018861996, -0.36005488697163696, -0.29180995140278343, -0.23979176341047304, -0.1970480406674983, -0.16192557721895603, -0.133065935802066, -0.11087422904310279, -0.08193296118642145, -0.0916260757699347, -0.03809880295909373, -0.06939168547911359, -0.012965111279983095, -0.33335127403471293, -1.2054521427296951, -0.44708033340694153, -0.7262194582208503, -0.43857494532850616, -0.4007993198747837, -0.3248316695230483, -0.26692701353075504, -0.21934633729443967, -0.18024935521789423, -0.1481239069313644, -0.12342094830563204, -0.09120463659039742, -0.10199464076230719, -0.04241012930689938, -0.07724416846252809, -0.01443226566600512, -4.732169586018123e-17, -1.7112290882175607e-16, -6.346638279339111e-17, -1.0309226034664572e-16, -6.225897961490913e-17, -5.689644826168255e-17, -4.61122745531307e-17, -3.789227741140572e-17, -3.113784608008222e-17, -2.5587738313928675e-17, -2.10272916872005e-17, -1.752052274408311e-17, -1.2947177376978341e-17, -1.447889882376672e-17, -6.020433688947185e-18, -1.096538496077779e-17, -2.0487675902774907e-18, 6.0659049881276985, 27.21038669349107, 12.989255375087959, 28.069305908879066, 23.185333669148378, 29.625181669551104, 34.13631188050474, 40.37422930857998, 48.17370740648588, 57.83640786415364, 69.7360565274372, 85.50614045493768, 93.16694685711792, 153.82633988338992, 94.51456994472383, 254.5004344168065, 70.3156871961292, 1.2511553505554591, 5.612422378668441, 2.6791676417748786, 5.789583309169479, 4.782213755629953, 6.110498702103323, 7.0409657489057045, 8.327600436019134, 9.936323087104888, 11.929354531231953, 14.383779571508219, 17.636521730051488, 19.21664191630844, 31.728266199050836, 19.494603051520787, 52.49333460753059, 14.503334364057629, -0.9534700896034517, -4.277068284050961, -2.0417178492915933, -4.412077616188703, -3.644389784257439, -4.656638156428502, -5.3657207640310345, -6.346228652091714, -7.572190663601207, -9.091023531774354, -10.961471403845726, -13.44029416233554, -14.64445904474265, -24.179213878069262, -14.856285360619038, -40.00368493777032, -11.052580728290527, 0.41042059578359524, 1.8410613321676241, 0.8788561542363278, 1.8991760136206761, 1.5687252729077863, 2.0044469431703607, 2.309671102213517, 2.7317301012071256, 3.2594446720764068, 3.9132253175821154, 4.718358418670754, 5.78536610404497, 6.303698114506623, 10.407927289615774, 6.394878617925234, 17.219560828098256, 4.75757636963514, -0.08668212597825725, -0.3888379676072555, -0.1856171952892162, -0.40111197186204167, -0.33131973182741514, -0.42334552463892394, -0.48780983095686736, -0.5769500244483057, -0.6884050083906135, -0.8264855454252448, -0.9965321990649887, -1.2218875919316383, -1.3313609494848024, -2.198187112828797, -1.3506185597638452, -3.636825627967518, -1.004815154162828, -0.008168987350553342, -0.03664437625347687, -0.01749270109899169, -0.03780108744816004, -0.0312238153799524, -0.03989639382582974, -0.045971557499198415, -0.05437219494134065, -0.06487579465934036, -0.07788860609726529, -0.093913927891235, -0.11515158597738302, -0.1254684357659856, -0.2071587713867565, -0.12728328713235432, -0.3427371238966488, -0.09469451967594068, -0.007595992235139098, -0.03407403947859844, -0.01626571520037297, -0.035149615786415414, -0.029033691570286197, -0.03709795164397289, -0.04274698672137227, -0.050558380477099985, -0.060325228982934756, -0.07242528623582198, -0.08732654812899332, -0.1070745387907725, -0.11666773651802972, -0.19262808857063146, -0.11835528924583934, -0.3186966046209513, -0.08805238707095668, -0.0070619314458940765, -0.031678353983749706, -0.015122101511912314, -0.032678308422288214, -0.02699238402879163, -0.03448966022910009, -0.03974152163405251, -0.04700371010031337, -0.056083868749182114, -0.06733319236170399, -0.08118677286697194, -0.09954631720701261, -0.10846503415664321, -0.17908474810526204, -0.11003393803466366, -0.2962896095997858, -0.08186157935574025, -0.006459860396380686, -0.028977588622887702, -0.013832853719310388, -0.029892291084273916, -0.02469112507356178, -0.031549214532254954, -0.03635332396847126, -0.04299636830041914, -0.05130239020081364, -0.06159264303707575, -0.07426512460103717, -0.09105941017099692, -0.0992177542233093, -0.1638167236179576, -0.10065289984954517, -0.2710291836697984, -0.07488239988123684, -0.005795577359931248, -0.025997753242826008, -0.012410387983584462, -0.02681839464232954, -0.022152077086331576, -0.028304932652909214, -0.03261502392032528, -0.03857494796958609, -0.0460268415900721, -0.05525892289003685, -0.06662826258774768, -0.08169555123689744, -0.08901495307886335, -0.14697105453088177, -0.09030251921640357, -0.24315859854144817, -0.06718206196099338, -0.005075479745320809, -0.022767545287218305, -0.010868403427368441, -0.023486222399553724, -0.019399692487202844, -0.0247880587990658, -0.028562623362640857, -0.033782029802594316, -0.04030802933398713, -0.04839302910796685, -0.058349733983024815, -0.07154491948505545, -0.0779548892757447, -0.12870997384612254, -0.07908247595882952, -0.2129462631851324, -0.05883472405861468, -0.004366414708311916, -0.01958682717745414, -0.00935004353526971, -0.020205102192091238, -0.016689477027456157, -0.02132506678418441, -0.024572309420323686, -0.029062543682233877, -0.03467683469907432, -0.04163232732267303, -0.05019804027874476, -0.06154980502730626, -0.0670642761272459, -0.11072867021610557, -0.06803433439266549, -0.183196809426505, -0.05061527528030165, -0.0031873143203515653, -0.014297628357221804, -0.006825171140786394, -0.014748945270458898, -0.012182674501239684, -0.015566476224600756, -0.017936838099784212, -0.021214535918426057, -0.02531275181224225, -0.03038999314758638, -0.036642633217925304, -0.04492898363614756, -0.048954334840774105, -0.08082765834895309, -0.049662439958472054, -0.13372660480835494, -0.036947198675915977, -0.0032897451304713414, -0.014757111642591716, -0.00704451185804573, -0.015222932540185941, -0.012574189454948382, -0.01606673650963603, -0.018513274771190222, -0.02189630805698306, -0.026126228430451273, -0.031366637213647096, -0.0378202185541026, -0.046372867649193725, -0.05052758167890275, -0.08342521908273554, -0.05125844319071991, -0.13802418047499834, -0.03813457184079823, -0.0011184578622621994, -0.005017169077342153, -0.0023950152248729583, -0.0051755403263773776, -0.004275012348888701, -0.005462419445096307, -0.006294201192750577, -0.007444375454501851, -0.008882477043171348, -0.01066412764909336, -0.012858236464126975, -0.015765992914610356, -0.017178525614769215, -0.028363167507953195, -0.01742700620268626, -0.04692589356076971, -0.012965111279983095, -0.001245024485776813, -0.005584920595881045, -0.0026660392844339987, -0.005761213408998835, -0.004758780130169027, -0.006080556264294896, -0.007006463871182481, -0.008286793838995703, -0.009887633487354596, -0.01187089875314249, -0.014313296711390474, -0.017550099904141064, -0.019122477244402393, -0.0315727925325386, -0.019399076324828377, -0.05223610872737421, -0.014432265666005023, 5.302214928532786e-19, 2.3784632106793063e-18, 1.1353923923159581e-18, 2.453541443773088e-18, 2.0266328362244428e-18, 2.5895407332661456e-18, 2.983859173727845e-18, 3.529116294880087e-18, 4.21086962412644e-18, 5.05548744647714e-18, 6.0956371835773256e-18, 7.474102137912474e-18, 8.143734157367779e-18, 1.3445979080246318e-17, 8.261530055376809e-18, 2.2245913929149446e-17, 6.146302770832472e-18, 1624.1264160393052, 334.9927932242878, -255.28852866294338, 109.88878536728811, -23.208858509204653, -2.187219907712362, -2.0338023212141914, -1.8908092744583822, -1.7296067007680507, -1.5517470690501227, -1.358943264786006, -1.1690933974455202, -0.8533930871049057, -0.8808186047906321, -0.2994634704767399, -0.3333512740347106, 1.4196508758054365e-16, 5873.103902025609, 1211.3881417149546, -923.1646250105842, 397.3756277564637, -83.92698753363013, -7.9093410757396905, -7.3545582601882495, -6.83747226702271, -6.254537678183199, -5.611368472424701, -4.91415872079071, -4.2276308830158795, -3.0860074809079427, -3.1851825902740702, -1.082908362059735, -1.2054521427296867, 5.133687264652682e-16, 2178.2277019354096, 449.2818877543614, -342.3850136469288, 147.3794121290055, -31.1269972803801, -2.9334311332870886, -2.7276722504968345, -2.5358944353269894, -2.319694570484038, -2.0811547788532834, -1.822572329027242, -1.5679516072867, -1.1445441959532148, -1.1813264450275527, -0.40163106804265253, -0.4470803334069384, 1.903991483801733e-16, 3538.2261830366174, 729.7955752762426, -556.1565574106519, 239.39723765888203, -50.561452633667884, -4.76494850961129, -4.430721988741146, -4.119205756367188, -3.768019320772499, -3.3805447993098836, -2.9605137834361437, -2.5469180406193628, -1.8591519326313026, -1.9188995506742468, -0.6523934846695897, -0.7262194582208452, 3.092767810399372e-16, 2136.7884559122667, 440.73461665692156, -335.87138019963317, 144.57562273979994, -30.534828106736178, -2.8776246745242036, -2.675780209385427, -2.487650831914516, -2.275564017043997, -2.041562276739517, -1.7878991756785694, -1.5381224336199595, -1.1227700497157376, -1.158852542438927, -0.3939903201886199, -0.43857494532850305, 1.8677693884472736e-16, 1952.7411881780843, 402.7729729728503, -306.9418857216879, 132.12294017658016, -27.904782222583187, -2.6297672146782163, -2.4453081496773295, -2.2733828553987676, -2.0795636414652354, -1.8657170928592692, -1.633902668744358, -1.405639861203803, -1.026062881829186, -1.059037493573158, -0.3600548869716369, -0.40079931987478085, 1.7068934478504762e-16, 1582.617905889855, 326.43123568774286, -248.76400792465893, 107.0803095505765, -22.61569954727126, -2.131320170572589, -1.981823544526372, -1.8424850336945822, -1.6854023847835422, -1.5120883895723742, -1.3242121565780274, -1.1392143654475897, -0.831582546208742, -0.858307137927149, -0.29180995140278343, -0.324831669523046, 1.383368236593921e-16, 1300.4996458619694, 268.2414402303244, -204.41921136189825, 87.99211997479239, -18.584213626478412, -1.7513899702086595, -1.6285426875467408, -1.5140427293968373, -1.3849617121028972, -1.2425427564243219, -1.0881574347584149, -0.9361374424690538, -0.6833442253020551, -0.7053048779246806, -0.239791763410473, -0.2669270135307532, 1.1367683223421716e-16, 1068.6810233227725, 220.4264628253063, -167.98077006800972, 72.30721601363813, -15.271512375407369, -1.4391985661474636, -1.3382492424276977, -1.244159303352819, -1.138087430059996, -1.0210551526738207, -0.894189556001872, -0.7692676604502313, -0.5615357207525273, -0.579581810032335, -0.1970480406674983, -0.21934633729443814, 9.341353824024668e-17, 878.1959514963471, 181.13695577186087, -138.0393484898717, 59.418950071475194, -12.549469906006266, -1.1826712803978707, -1.0997154821173425, -1.0223964301562785, -0.9352311416740704, -0.8390590660481942, -0.7348063929399304, -0.6321509695418431, -0.46144582510894905, -0.4762753225922987, -0.16192557721895603, -0.18024935521789298, 7.676321494178602e-17, 721.6770081074445, 148.85331238021632, -113.43689736844098, 48.82884057869198, -10.312805336519121, -0.9718863651760825, -0.9037155973579785, -0.8401769508931562, -0.7685469411037933, -0.6895154041411067, -0.6038434569090791, -0.5194840850653538, -0.37920334510866016, -0.39138981369495396, -0.13306593580206597, -0.14812390693136337, 6.30818750616015e-17, 601.3213029296085, 124.02870915978177, -94.51876969832422, 40.68554451294056, -8.592915490099465, -0.8098026802042643, -0.7530009053582086, -0.7000587425216696, -0.6403746313036112, -0.5745233623217167, -0.5031391192942465, -0.432848550491977, -0.31596274648402967, -0.32611685017043945, -0.11087422904310279, -0.12342094830563118, 5.256156823224933e-17, 444.35966228316994, 91.65375490132897, -69.84673314905773, 30.065482016846985, -6.34992475171863, -0.5984215821698513, -0.5564466556792915, -0.5173238747567287, -0.47321898212226265, -0.4245567320021497, -0.37180576846653784, -0.31986299966307724, -0.23348765233774166, -0.24099125159973137, -0.08193296118642143, -0.09120463659039678, 3.884153213093502e-17, 496.92982526070244, 102.49689221021286, -78.10998127159834, 33.62239193414842, -7.101155359325381, -0.6692181075391916, -0.6222773191266906, -0.5785261006032305, -0.5292033594764257, -0.4747841007058795, -0.41579241150214474, -0.3577045308596124, -0.2611105105278142, -0.2695018263617675, -0.0916260757699347, -0.1019946407623065, 4.3436696471300167e-17, 206.62711283894888, 42.61896918996633, -32.47871046095383, 13.980440333698855, -2.952713150088048, -0.2782658604719968, -0.25874753194548783, -0.240555450272898, -0.22004668811319492, -0.19741875605720602, -0.17288957346031622, -0.1487362011772115, -0.10857168996439548, -0.11206086142392681, -0.03809880295909372, -0.04241012930689907, 1.8061301066841555e-17, 376.3426279028354, 77.62454134450122, -59.15546647209715, 25.463433051614746, -5.377957476536593, -0.5068226707852196, -0.4712727424674261, -0.4381383888503295, -0.40078452303779794, -0.359570883177306, -0.3148943791503771, -0.2709023614870219, -0.1977482749270183, -0.20410331681015723, -0.06939168547911359, -0.07724416846252755, 3.2896154882333364e-17, 70.3156871961292, 14.503334364057629, -11.052580728290527, 4.75757636963514, -1.004815154162828, -0.09469451967594068, -0.08805238707095668, -0.08186157935574025, -0.07488239988123684, -0.06718206196099338, -0.05883472405861468, -0.05061527528030165, -0.036947198675915977, -0.03813457184079823, -0.012965111279983095, -0.014432265666005023, 6.146302770832472e-18, 0.772821941691734, 2.794649182783126, 1.0364846882803904, 1.6836243791830032, 1.0167662979767922, 0.9291895149082342, 0.7530705928474375, 0.618827852043345, 0.5085196172767791, 0.41787947891169697, 0.34340173349312675, 0.28613185052672463, 0.2114434526917095, 0.23645836226163328, 0.09832114358423745, 0.1790783263943909, 0.03345891389589101, 3.3845722842009276, 12.239160999242767, 4.539282802029647, 7.373429898113276, 4.452926147656555, 4.069383785926418, 3.298071287958956, 2.7101554494333273, 2.227060736448366, 1.8301024157839112, 1.5039272655524571, 1.2531139175473451, 0.9260162154422491, 1.0355689662826593, 0.43059726901347267, 0.7842732038492092, 0.14653325238618703, 1.5055045315767772, 5.4441479749362225, 2.0191357296355097, 3.279803529885027, 1.980723096199556, 1.8101181526054184, 1.4670276928825372, 1.2055146020799687, 0.9906273966937341, 0.8140548491381311, 0.668967634114409, 0.5574023903273972, 0.4119048114793107, 0.46063538922670794, 0.19153561671897298, 0.3488555608343235, 0.06518001595766532, 2.90366980220816, 10.50013981493542, 3.8943113897915067, 6.32576406590325, 3.8202248617260937, 3.4911787430120618, 2.829459441324101, 2.325078585126848, 1.9106251736134259, 1.5700693244063908, 1.290239303230942, 1.0750631795024717, 0.7944416887434155, 0.8884284580167554, 0.3694151526277459, 0.6728384645020633, 0.12571283584613166, 2.060273164924106, 7.450281113992781, 2.763174120605659, 4.48838981027064, 2.7106066814500465, 2.4771349251596413, 2.0076178612898947, 1.6497388964935567, 1.355667152797702, 1.1140287692784674, 0.915477858658572, 0.762801547766396, 0.5636890569204296, 0.6303765357944116, 0.2621152464018103, 0.4774065672646909, 0.08919842813508955, 2.1872199077123624, 7.909341075739691, 2.933431133287089, 4.7649485096112905, 2.8776246745242045, 2.6297672146782167, 2.1313201705725895, 1.75138997020866, 1.4391985661474638, 1.182671280397871, 0.9718863651760827, 0.8098026802042645, 0.5984215821698514, 0.6692181075391919, 0.2782658604719968, 0.5068226707852197, 0.09469451967594071, 2.033802321214192, 7.35455826018825, 2.7276722504968345, 4.430721988741147, 2.6757802093854273, 2.44530814967733, 1.9818235445263723, 1.6285426875467413, 1.338249242427698, 1.0997154821173427, 0.9037155973579786, 0.7530009053582088, 0.5564466556792915, 0.6222773191266908, 0.2587475319454879, 0.47127274246742623, 0.08805238707095672, 1.8908092744583838, 6.837472267022715, 2.5358944353269917, 4.119205756367192, 2.487650831914518, 2.27338285539877, 1.842485033694584, 1.5140427293968386, 1.2441593033528202, 1.0223964301562793, 0.8401769508931569, 0.7000587425216702, 0.517323874756729, 0.5785261006032311, 0.2405554502728982, 0.4381383888503298, 0.08186157935574032, 1.7296067007680511, 6.254537678183202, 2.319694570484039, 3.7680193207725, 2.275564017043998, 2.0795636414652368, 1.6854023847835429, 1.3849617121028976, 1.1380874300599961, 0.9352311416740707, 0.7685469411037935, 0.6403746313036115, 0.4732189821222628, 0.5292033594764259, 0.22004668811319497, 0.40078452303779816, 0.07488239988123685, 1.5517470690501236, 5.6113684724247035, 2.0811547788532843, 3.380544799309886, 2.0415622767395187, 1.8657170928592703, 1.5120883895723753, 1.2425427564243225, 1.0210551526738212, 0.8390590660481947, 0.689515404141107, 0.5745233623217171, 0.42455673200214994, 0.4747841007058798, 0.19741875605720613, 0.35957088317730623, 0.06718206196099342, 1.3589432647860067, 4.914158720790713, 1.822572329027243, 2.960513783436146, 1.7878991756785705, 1.633902668744359, 1.3242121565780283, 1.0881574347584158, 0.8941895560018727, 0.7348063929399309, 0.6038434569090796, 0.5031391192942468, 0.37180576846653807, 0.415792411502145, 0.17288957346031636, 0.3148943791503773, 0.05883472405861472, 1.169093397445521, 4.227630883015881, 1.567951607286701, 2.5469180406193646, 1.5381224336199606, 1.405639861203804, 1.1392143654475906, 0.9361374424690545, 0.7692676604502319, 0.6321509695418437, 0.5194840850653542, 0.43284855049197735, 0.31986299966307746, 0.3577045308596127, 0.14873620117721162, 0.27090236148702207, 0.050615275280301686, 0.8533930871049065, 3.0860074809079454, 1.1445441959532159, 1.8591519326313046, 1.1227700497157387, 1.0260628818291868, 0.8315825462087427, 0.6833442253020557, 0.5615357207525279, 0.46144582510894955, 0.37920334510866055, 0.31596274648402994, 0.23348765233774182, 0.2611105105278144, 0.10857168996439558, 0.1977482749270185, 0.03694719867591601, 0.8808186047906333, 3.185182590274074, 1.1813264450275545, 1.9188995506742492, 1.1588525424389289, 1.0590374935731592, 0.8583071379271501, 0.7053048779246814, 0.5795818100323358, 0.47627532259229943, 0.39138981369495457, 0.32611685017043984, 0.24099125159973173, 0.26950182636176784, 0.11206086142392693, 0.20410331681015753, 0.038134571840798284, 0.29946347047674043, 1.082908362059737, 0.4016310680426532, 0.6523934846695908, 0.3939903201886206, 0.36005488697163757, 0.29180995140278393, 0.23979176341047345, 0.19704804066749865, 0.16192557721895634, 0.13306593580206622, 0.11087422904310298, 0.0819329611864216, 0.09162607576993487, 0.0380988029590938, 0.06939168547911372, 0.012965111279983118, 0.3333512740347118, 1.205452142729691, 0.44708033340694003, 0.726219458220848, 0.4385749453285047, 0.40079931987478234, 0.3248316695230472, 0.26692701353075415, 0.21934633729443898, 0.18024935521789362, 0.1481239069313639, 0.12342094830563162, 0.0912046365903971, 0.10199464076230687, 0.04241012930689923, 0.07724416846252782, 0.014432265666005075, 1.4196508758054365e-16, 5.133687264652682e-16, 1.903991483801733e-16, 3.092767810399372e-16, 1.8677693884472736e-16, 1.7068934478504762e-16, 1.383368236593921e-16, 1.1367683223421716e-16, 9.341353824024668e-17, 7.676321494178602e-17, 6.30818750616015e-17, 5.256156823224933e-17, 3.884153213093502e-17, 4.3436696471300167e-17, 1.8061301066841555e-17, 3.2896154882333364e-17, 6.146302770832472e-18, 0.002886391369998487, 0.012640945740837154, 0.005622867381229405, 0.010844836315170178, 0.00769485745973873, 0.008168987350553346, 0.007595992235139099, 0.007061931445894082, 0.006459860396380688, 0.005795577359931251, 0.005075479745320813, 0.004366414708311919, 0.0031873143203515683, 0.0032897451304713453, 0.0011184578622622013, 0.0012450244857768176, 5.302214928532786e-19, 0.012947750662124429, 0.05670465041124656, 0.025223012241194803, 0.04864767752560504, 0.034517528289775015, 0.03664437625347688, 0.034074039478598446, 0.031678353983749734, 0.028977588622887712, 0.02599775324282602, 0.022767545287218322, 0.019586827177454153, 0.014297628357221818, 0.014757111642591737, 0.005017169077342162, 0.005584920595881066, 2.3784632106793063e-18, 0.006180788306236337, 0.02706875111491733, 0.012040554624246488, 0.023222643393604015, 0.01647742073360395, 0.017492701098991693, 0.016265715200372975, 0.015122101511912326, 0.013832853719310392, 0.012410387983584471, 0.010868403427368445, 0.009350043535269716, 0.0068251711407864004, 0.007044511858045738, 0.0023950152248729626, 0.002666039284434008, 1.1353923923159581e-18, 0.013356457527080947, 0.05849458138094238, 0.026019198275886887, 0.0501832832294643, 0.03560710370264037, 0.03780108744816004, 0.03514961578641543, 0.03267830842228824, 0.02989229108427392, 0.026818394642329553, 0.02348622239955374, 0.02020510219209125, 0.014748945270458913, 0.015222932540185962, 0.005175540326377387, 0.005761213408998856, 2.453541443773088e-18, 0.011032475309808857, 0.048316705498773864, 0.021491938410893845, 0.04145154746845581, 0.029411578006869714, 0.03122381537995241, 0.0290336915702862, 0.026992384028791654, 0.024691125073561786, 0.022152077086331587, 0.019399692487202858, 0.01668947702745617, 0.012182674501239695, 0.0125741894549484, 0.004275012348888709, 0.004758780130169045, 2.0266328362244428e-18, 0.014096803176606158, 0.061736923802828816, 0.027461436998888814, 0.05296493213168972, 0.03758079801978945, 0.039896393825829754, 0.0370979516439729, 0.03448966022910011, 0.031549214532254975, 0.02830493265290923, 0.024788058799065822, 0.021325066784184422, 0.015566476224600771, 0.01606673650963605, 0.005462419445096315, 0.0060805562642949175, 2.5895407332661456e-18, 0.01624337278745907, 0.07113782149874169, 0.03164308622770059, 0.0610300879212979, 0.04330335780658949, 0.04597155749919843, 0.04274698672137227, 0.039741521634052535, 0.036353323968471275, 0.032615023920325295, 0.028562623362640878, 0.0245723094203237, 0.017936838099784233, 0.018513274771190247, 0.006294201192750589, 0.007006463871182507, 2.983859173727845e-18, 0.019211614305649573, 0.08413722981431115, 0.037425402716629454, 0.07218245407068988, 0.05121642033371532, 0.05437219494134066, 0.0505583804771, 0.0470037101003134, 0.042996368300419155, 0.03857494796958612, 0.033782029802594336, 0.029062543682233898, 0.021214535918426074, 0.02189630805698309, 0.007444375454501864, 0.008286793838995731, 3.529116294880087e-18, 0.02292290657223624, 0.10039082752733895, 0.044655227627036546, 0.08612663280100198, 0.061110388726099335, 0.06487579465934039, 0.06032522898293477, 0.05608386874918217, 0.05130239020081366, 0.04602684159007213, 0.04030802933398715, 0.03467683469907435, 0.025312751812242275, 0.026126228430451315, 0.008882477043171366, 0.009887633487354632, 4.21086962412644e-18, 0.027520791845164212, 0.12052725769470991, 0.053612190079358225, 0.10340194539343867, 0.07336793361732842, 0.0778886060972653, 0.072425286235822, 0.06733319236170404, 0.061592643037075775, 0.05525892289003688, 0.048393029107966876, 0.04163232732267306, 0.03038999314758641, 0.031366637213647144, 0.01066412764909338, 0.011870898753142534, 5.05548744647714e-18, 0.03318310328507967, 0.1453253403191498, 0.06464271997519816, 0.12467655193836846, 0.08846314207577813, 0.09391392789123501, 0.08732654812899335, 0.08118677286697201, 0.07426512460103718, 0.0666282625877477, 0.05834973398302486, 0.05019804027874479, 0.036642633217925345, 0.03782021855410265, 0.012858236464127, 0.014313296711390526, 6.0956371835773256e-18, 0.04068711698815928, 0.17818915464630308, 0.07926099881219695, 0.15287085752096, 0.10846816163802621, 0.11515158597738304, 0.10707453879077253, 0.0995463172070127, 0.09105941017099696, 0.08169555123689748, 0.0715449194850555, 0.0615498050273063, 0.04492898363614759, 0.046372867649193794, 0.015765992914610387, 0.017550099904141126, 7.474102137912474e-18, 0.044332423917588674, 0.1941537696955917, 0.08636228023962471, 0.16656711416138856, 0.11818621910955052, 0.12546843576598563, 0.11666773651802975, 0.10846503415664331, 0.09921775422330935, 0.08901495307886341, 0.07795488927574476, 0.06706427612724596, 0.04895433484077415, 0.05052758167890282, 0.017178525614769243, 0.019122477244402466, 8.143734157367779e-18, 0.07319650089918679, 0.3205639421954907, 0.14259127213451375, 0.27501609079966993, 0.19513522900090136, 0.2071587713867565, 0.19262808857063154, 0.1790847481052622, 0.16381672361795763, 0.14697105453088186, 0.12870997384612262, 0.11072867021610565, 0.08082765834895315, 0.08342521908273563, 0.028363167507953247, 0.03157279253253871, 1.3445979080246318e-17, 0.04497367491932536, 0.19696212728821266, 0.0876114765122867, 0.16897644167776646, 0.11989573608828268, 0.12728328713235432, 0.11835528924583937, 0.11003393803466374, 0.1006528998495452, 0.09030251921640363, 0.07908247595882956, 0.06803433439266554, 0.0496624399584721, 0.05125844319071999, 0.01742700620268629, 0.01939907632482845, 8.261530055376809e-18, 0.12110111500250749, 0.5303621122946954, 0.23591239790135152, 0.45500474517684053, 0.32284458297843754, 0.3427371238966489, 0.3186966046209514, 0.296289609599786, 0.27102918366979856, 0.24315859854144833, 0.21294626318513257, 0.18319680942650515, 0.13372660480835508, 0.1380241804749985, 0.046925893560769795, 0.05223610872737441, 2.2245913929149446e-17, 0.03345891389589101, 0.14653325238618703, 0.06518001595766532, 0.12571283584613166, 0.08919842813508955, 0.09469451967594071, 0.08805238707095672, 0.08186157935574032, 0.07488239988123685, 0.06718206196099342, 0.05883472405861472, 0.050615275280301686, 0.03694719867591601, 0.038134571840798284, 0.012965111279983118, 0.014432265666005075, 6.146302770832472e-18, 1.7398200589867376e6, 3.3261795126154567e6, 1.0305156188651823e6, 1.955068342421642e6, 1.1328883412745472e6, 1.0456506331195474e6, 847447.5016245194, 696368.762751298, 572223.592400214, 470210.40751470765, 386383.6274595705, 321918.15680072614, 237858.55407380464, 265948.87645659246, 110552.96602478647, 201274.53922411794, 37583.279369339565, 3.9900608094679583e6, 1.442239554028724e6, -354581.1353609058, 655313.2349884941, 186408.58393089354, 215676.20775462163, 174794.77143931363, 143633.22623437532, 118027.00681050002, 96985.73723135018, 79695.60087229176, 66398.93389535246, 49060.77546339581, 54854.69363666755, 22802.68735372675, 41514.94577869547, 7751.938279020715, 1.5583367710551827e6, -141360.31821551707, -448080.9769827824, -180152.46149099356, -201914.80938490282, -164360.7350932369, -133206.14927032575, -109458.81742576795, -89945.04216384787, -73910.08600744764, -60733.76233492494, -50600.74867814674, -37387.82874271481, -41803.20983617528, -17377.282800816833, -31637.365458991117, -5907.532811346659, 3.328073845782652e6, 893591.3859515142, -431681.0223654024, 355127.48839466716, 34867.668820624844, 70748.9742530375, 57338.50253058604, 47116.478588578924, 38716.786394442766, 31814.549679486467, 26142.809505483343, 21781.060198981384, 16093.567186802804, 17994.165180121447, 7480.040368311359, 13618.283910828057, 2542.893754593197, 2.3072247174014035e6, 438114.45231157704, -378960.4360909068, 133943.87794816223, -46541.89771260388, -14942.40679448719, -12110.07281511174, -9951.149076399019, -8177.107557940219, -6719.33336579645, -5521.443929131556, -4600.2287007634, -3399.0122149268313, -3800.424513391836, -1579.8081484933398, -2876.224569851997, -537.0671916796178, 2.46141038985576e6, 508585.28498800553, -386186.30282471684, 168388.65515712654, -33592.20872971307, -1408.1834139786322, -1141.2621751541014, -937.8036130420312, -770.6166346414151, -633.2349218466388, -520.3449396843239, -433.52893854512484, -320.32541282015103, -358.1548032684157, -148.8822826585991, -271.05752037467596, -50.61360742730843, 2.288760333013441e6, 472911.72208917834, -359098.1393030216, 156577.4143318275, -31235.95933280373, -1309.4095778601989, -1061.2109247716364, -872.023502676881, -716.5634762072079, -588.8180924946791, -483.8465224417703, -403.1200330691907, -297.85691225666744, -333.03284579334985, -138.43927215138834, -252.04480453781449, -47.06343057125326, 2.1278416390491e6, 439662.1347115335, -333850.58378217544, 145568.73305788336, -29039.8142371134, -1217.3473046311633, -986.599060186364, -810.713071377935, -666.1831646164378, -547.4193330614162, -449.82812857699844, -374.7773759999173, -276.9151191745201, -309.6178949925668, -128.70585159763195, -234.32397978316575, -43.754483945532876, 1.9464306669041575e6, 402178.36063284625, -305387.86463821406, 133158.14530862798, -26563.99985554244, -1113.5613113888016, -902.4857073215904, -741.5950300207746, -609.3871449776505, -500.748626200925, -411.4776439329621, -342.82540792561133, -253.30648211752, -283.22115460864757, -117.73292333521518, -214.34648700868814, -40.0241577207831, 1.7462745034096916e6, 360821.38908820914, -273984.0934157983, 119465.17182840387, -23832.359634003158, -999.0511139832325, -809.6809237464383, -665.3350231274335, -546.722394007829, -449.255436333075, -369.16440464129045, -307.5718437655505, -227.25836516631966, -254.09683968141505, -105.62616266171767, -192.3047203906081, -35.90837697775197, 1.5293007618366408e6, 315989.51032161695, -239941.70559884745, 104621.68343716612, -20871.200761095395, -874.9195082131113, -709.078470258991, -582.667476252254, -478.79240751484974, -393.4356710253341, -323.29591032713137, -269.3561946141544, -199.02162592650802, -222.52543328458827, -92.50216430065373, -168.4109541907127, -31.446778934909474, 1.3156512635228832e6, 271844.49840679596, -206420.87941147582, 90005.61134926183, -17955.409647215034, -752.6897162327828, -610.0173416592902, -501.2664745058527, -411.903172764759, -338.4711173999577, -278.1301647969141, -231.72604540929566, -171.21750028040523, -191.43773074123322, -79.57923802679466, -144.88326312347291, -27.053536800538055, 960374.6764668425, 198435.99853934764, -150679.28012319288, 65700.62468400026, -13106.756485453589, -549.434460900668, -445.2891304695002, -365.90519207057326, -300.67342862605085, -247.07086055308693, -203.0242925600778, -169.1510752575828, -124.98217118490656, -139.7421595080318, -58.08977431361047, -105.75919379660562, -19.748038384070345, 991238.264504236, 204813.14181559344, -155521.6643940924, 67812.0475106687, -13527.968687926155, -567.0916516516479, -459.5993998019865, -377.66429753798974, -310.3361790736628, -255.0109837602174, -209.54888997054886, -174.58708812918255, -128.99872674180764, -144.2330572255546, -59.95660702748029, -109.15797998754702, -20.382681650045324, 337004.2925334633, 69633.01400964528, -52874.74299528904, 23054.95249218241, -4599.281202455954, -192.80159746666038, -156.25604471245762, -128.39949179180795, -105.50906701383798, -86.69943367587511, -71.2430885131509, -59.3566655236816, -43.85739150726122, -49.03680694222112, -20.3842352112069, -37.1118722283022, -6.929768003703789, 375140.2803565721, 77512.80614640129, -58858.14023886608, 25663.890737136422, -5119.743807289089, -214.61935924645857, -173.93824862043823, -142.92940005693646, -117.44865527432805, -96.51049133949611, -79.30507946167393, -66.07356831626754, -48.820369681517434, -54.58589671307915, -22.690950475733636, -41.31151578996624, -7.713952520225863, -1.5976186954745234e-10, -3.301056024175191e-11, 2.5066053993747407e-11, -1.0929541237558627e-11, 2.180357282558519e-12, 9.140044903122552e-14, 7.407548919832743e-14, 6.086967825659105e-14, 5.0018133815504505e-14, 4.110114891604171e-14, 3.377383987494886e-14, 2.8138905243245717e-14, 2.079124514409225e-14, 2.324662364040609e-14, 9.663448207604214e-15, 1.7593431956095938e-14, 3.285159021207132e-15, 1624.1264160393052, 334.9927932242878, -255.28852866294338, 109.88878536728811, -23.208858509204653, -2.187219907712362, -2.0338023212141914, -1.8908092744583822, -1.7296067007680507, -1.5517470690501227, -1.358943264786006, -1.1690933974455202, -0.8533930871049057, -0.8808186047906321, -0.2994634704767399, -0.3333512740347106, 1.4196508758054365e-16, 8697.881929779807, 1794.0276902198248, -1367.1777383884091, 588.5007910052094, -124.29322560390035, -11.713485061181107, -10.891869181939983, -10.126081109546847, -9.262773340589778, -8.310260000815852, -7.27771431438384, -6.260988205994542, -4.570279898180738, -4.717155112042026, -1.6037531824897977, -1.7852366626523835, 7.602829174699758e-16, 4777.434419594931, 985.3950313601874, -750.9416703758463, 323.24236608467106, -68.26980854838804, -6.4337970044293655, -5.982512885736843, -5.5618929779590385, -5.087709000363517, -4.564527603869843, -3.997387311326296, -3.4389361453143414, -2.5102907430825767, -2.590964027423658, -0.8808840722853585, -0.9805664353843664, 4.1759612373159285e-16, 11492.705325361392, 2370.488787464736, -1806.482428888269, 777.5992166102193, -164.23141028317602, -15.477288980006326, -14.391669599680366, -13.379816745302332, -12.239108941515216, -10.980531828043787, -9.616206190499001, -8.272783314141853, -6.038812730301523, -6.232882225166458, -2.1190748379625775, -2.3588730067315193, 1.004578770432871e-15, 10278.807551756909, 2120.109874928983, -1615.6757444391367, 695.4666002177377, -146.88474231817247, -13.842526223773202, -12.871573574338829, -11.966595984954699, -10.946373534628684, -9.82073152326773, -8.600510498779755, -7.398984416297639, -5.400973238119388, -5.574544467252125, -1.8952511032473423, -2.1097209916034303, 8.984718183867087e-16, 13911.351712601934, 2869.359504104773, -2186.6576858490785, 941.2454150231455, -198.79400419883726, -18.734493268814024, -17.42040467103154, -16.19560680663399, -14.814836395269307, -13.291391010804812, -11.639942265092841, -10.013795278576245, -7.309684311872045, -7.544595842562336, -2.565035345609141, -2.855299175694572, 1.2159929453394746e-15, 16697.156004118817, 3443.960318287247, -2624.544707266165, 1129.7336058699595, -238.60330537000036, -22.486151110975985, -20.908910971146035, -19.438842394213154, -17.781567138671846, -15.953045671191765, -13.970887653076232, -12.01909817348893, -8.773478078742317, -9.055431590962769, -3.0786940195694394, -3.4270843524009416, 1.4595004373190137e-15, 20319.638643687053, 4191.134655119218, -3193.9451271039575, 1374.8316557169655, -290.3687875415278, -27.364568250405306, -25.445142589666602, -23.656139584762848, -21.63931502389652, -19.414092030097194, -17.001900717225762, -14.626666460327112, -10.676902351776397, -11.020026263490747, -3.746623075013478, -4.170597413418397, 1.7761420854731179e-15, 24728.027270181716, 5100.410192431758, -3886.8782849653835, 1673.1042943541925, -353.3649107961511, -33.30136927129858, -30.965520149464947, -28.788389154793382, -26.33401023522686, -23.626020401460767, -20.69049907593208, -17.799952717918593, -12.993278923186951, -13.410844294043578, -4.559460883858237, -5.075417352660466, 2.1614798715400377e-15, 30092.825851464277, 6206.955128885798, -4730.144869920385, 2036.0878614061698, -430.02818649547044, -40.5261727976543, -37.68355619623227, -35.034091960260675, -32.04723026712903, -28.751736227726838, -25.179347251153814, -21.661690657812272, -15.812198668450142, -16.320355742586944, -5.548645706969128, -6.176540038892834, 2.630417568090208e-15, 36621.52957963038, 7553.567483954628, -5756.360041584377, 2477.8215316586566, -523.3237326913383, -49.318413737016776, -45.859085308827304, -42.634814070003614, -38.999946265125686, -34.98948765817534, -30.642061157877137, -26.361241349863967, -19.24268940756398, -19.861092259242128, -6.752436407522414, -7.5165537743302036, 3.2010923551038887e-15, 45186.66308463852, 9320.214444958292, -7102.671701010208, 3057.3405321988394, -645.719975783644, -60.853125770119114, -56.5847210918324, -52.606349357101415, -48.12134972050579, -43.17291518029609, -37.808701866183966, -32.526673381542764, -23.743216984185615, -24.506253417401744, -8.331712859882183, -9.274543877794386, 3.9497717166173975e-15, 49445.93693436037, 10198.733524467529, -7772.166232673392, 3345.5240290438646, -706.5852404292485, -66.58911310737874, -61.91837058900401, -57.56499938457391, -52.65724576784077, -47.242374088984725, -41.37253252234305, -35.59262248898076, -25.981241576078805, -26.8162014686638, -9.11705623965371, -10.148758070880412, 4.3220753619086666e-15, 81876.07884409126, 16887.78415237005, -12869.702440880288, 5539.755259171747, -1170.0138058311163, -110.2629621959732, -102.52881645205566, -95.3201965720302, -87.19359109169632, -78.22726366428401, -68.5075649244123, -58.93678117666883, -43.02157701196623, -44.40416264458747, -15.096666415581144, -16.80503126240864, 7.156798010957056e-15, 50405.312918619034, 10396.6146977218, -7922.9658755073715, 3410.435639728596, -720.294777603139, -67.88110998091577, -63.119743268146, -58.681905673896296, -53.67892924921429, -48.15899539197475, -42.175264082725604, -36.2832092054999, -26.485343242559544, -27.33650346460394, -9.293950143293774, -10.345669594190795, 4.4059345333887376e-15, 135906.99159471126, 28032.21613995368, -21362.55871253632, 9195.499858739828, -1942.1186104622686, -183.0266872563787, -170.18869482378523, -158.22302847440324, -144.7335878673073, -129.85028368962202, -113.71645029661995, -97.82980251471727, -71.41198244838117, -73.70695134044828, -25.05912037577523, -27.894853720072295, 1.1879646666669612e-14, 37583.279369339565, 7751.938279020715, -5907.532811346659, 2542.893754593197, -537.0671916796178, -50.61360742730843, -47.06343057125326, -43.754483945532876, -40.0241577207831, -35.90837697775197, -31.446778934909474, -27.053536800538055, -19.748038384070345, -20.382681650045324, -6.929768003703789, -7.713952520225863, 3.285159021207132e-15, 0.772821941691734, 4.1387874337826185, 2.2732874165424106, 5.468672116359305, 4.891052772724674, 6.619557280711992, 7.945150325983376, 9.66886717438169, 11.76654837974478, 14.319326301110419, 17.425935147628493, 21.501555764853357, 23.528282412626314, 38.959793773137406, 23.984790479760214, 64.66978438159032, 17.883572762880902, 3.3845722842009276, 18.125812018115948, 9.955858094827779, 23.950039560076466, 21.42035669806486, 28.990339038426274, 34.795771362635115, 42.344786156557994, 51.53157716978867, 62.71146342076754, 76.31685119839945, 94.1660242586015, 103.04206991626997, 170.6243457763295, 105.0413461637239, 283.2212027573204, 78.32107429977839, 1.5055045315767772, 8.062611709953469, 4.428503284584822, 10.653308619659446, 9.528070718850444, 12.895303491679503, 15.477640028753106, 18.835546147125235, 22.921957764223535, 27.894925690460436, 33.94679021960581, 41.88634909753849, 45.83453688554347, 75.89606727050105, 46.72384259322947, 125.98070550307031, 34.83829635629016, 2.90366980220816, 15.55037640743752, 8.54126373366736, 20.547059064718255, 18.37681032461171, 24.87119935792082, 29.851757346667743, 36.32815804162635, 44.20962884632304, 53.80100269601871, 65.47324672568604, 80.78629087345858, 88.40116908406758, 146.38090687704732, 90.11637489991105, 242.97925549717246, 67.19269651363346, 2.060273164924106, 11.033631714029061, 6.060377957449589, 14.57898359412523, 13.03910284148195, 17.64713900238733, 21.181049766882733, 25.776322461791764, 31.368550196054407, 38.17402447631011, 46.455961744274035, 57.3211964575881, 62.72426578026115, 103.86327469696741, 63.94127486029383, 172.40377654283117, 47.67598209708705, 2.1872199077123624, 11.71348506118111, 6.433797004429366, 15.47728898000633, 13.842526223773204, 18.734493268814028, 22.48615111097599, 27.36456825040532, 33.30136927129859, 40.52617279765431, 49.31841373701679, 60.853125770119135, 66.58911310737874, 110.26296219597322, 67.88110998091578, 183.02668725637872, 50.61360742730843, 2.033802321214192, 10.891869181939985, 5.982512885736845, 14.39166959968037, 12.871573574338832, 17.420404671031545, 20.90891097114604, 25.44514258966661, 30.96552014946495, 37.683556196232274, 45.85908530882731, 56.584721091832414, 61.91837058900403, 102.5288164520557, 63.11974326814601, 170.18869482378526, 47.06343057125328, 1.8908092744583838, 10.126081109546854, 5.561892977959043, 13.379816745302342, 11.966595984954708, 16.195606806634, 19.43884239421317, 23.656139584762865, 28.788389154793403, 35.0340919602607, 42.63481407000364, 52.60634935710146, 57.56499938457395, 95.32019657203027, 58.68190567389634, 158.22302847440335, 43.754483945532904, 1.7296067007680511, 9.26277334058978, 5.0877090003635175, 12.23910894151522, 10.946373534628686, 14.814836395269312, 17.781567138671853, 21.63931502389653, 26.33401023522687, 32.04723026712904, 38.99994626512571, 48.12134972050581, 52.6572457678408, 87.19359109169636, 53.67892924921432, 144.73358786730736, 40.024157720783116, 1.5517470690501236, 8.310260000815855, 4.564527603869847, 10.980531828043793, 9.820731523267737, 13.29139101080482, 15.953045671191774, 19.414092030097205, 23.62602040146078, 28.751736227726855, 34.98948765817536, 43.172915180296116, 47.242374088984754, 78.22726366428407, 48.15899539197478, 129.85028368962207, 35.908376977752, 1.3589432647860067, 7.277714314383845, 3.9973873113262983, 9.616206190499007, 8.600510498779759, 11.639942265092847, 13.970887653076243, 17.001900717225773, 20.69049907593209, 25.17934725115383, 30.64206115787715, 37.80870186618399, 41.37253252234307, 68.50756492441236, 42.17526408272564, 113.71645029662002, 31.446778934909492, 1.169093397445521, 6.260988205994547, 3.4389361453143437, 8.27278331414186, 7.398984416297642, 10.013795278576252, 12.019098173488942, 14.626666460327122, 17.79995271791861, 21.66169065781229, 26.361241349863988, 32.52667338154279, 35.59262248898079, 58.93678117666888, 36.28320920549993, 97.82980251471733, 27.053536800538076, 0.8533930871049065, 4.570279898180743, 2.5102907430825794, 6.0388127303015295, 5.400973238119392, 7.309684311872053, 8.773478078742324, 10.676902351776407, 12.993278923186962, 15.812198668450158, 19.242689407563994, 23.74321698418564, 25.981241576078826, 43.02157701196627, 26.48534324255957, 71.41198244838124, 19.748038384070362, 0.8808186047906333, 4.717155112042032, 2.5909640274236616, 6.232882225166466, 5.574544467252133, 7.544595842562345, 9.05543159096278, 11.020026263490763, 13.410844294043597, 16.32035574258697, 19.861092259242156, 24.50625341740178, 26.81620146866383, 44.404162644587544, 27.33650346460397, 73.7069513404484, 20.382681650045356, 0.29946347047674043, 1.6037531824898008, 0.88088407228536, 2.119074837962581, 1.8952511032473456, 2.5650353456091453, 3.0786940195694448, 3.746623075013485, 4.559460883858246, 5.548645706969138, 6.752436407522427, 8.331712859882197, 9.117056239653728, 15.096666415581172, 9.293950143293792, 25.059120375775272, 6.929768003703803, 0.3333512740347118, 1.7852366626523903, 0.9805664353843698, 2.3588730067315278, 2.1097209916034383, 2.8552991756945825, 3.4270843524009544, 4.170597413418411, 5.075417352660485, 6.176540038892856, 7.516553774330231, 9.27454387779442, 10.148758070880449, 16.805031262408704, 10.34566959419083, 27.894853720072398, 7.713952520225892, 1.4196508758054365e-16, 7.602829174699758e-16, 4.1759612373159285e-16, 1.004578770432871e-15, 8.984718183867087e-16, 1.2159929453394746e-15, 1.4595004373190137e-15, 1.7761420854731179e-15, 2.1614798715400377e-15, 2.630417568090208e-15, 3.2010923551038887e-15, 3.9497717166173975e-15, 4.3220753619086666e-15, 7.156798010957056e-15, 4.4059345333887376e-15, 1.1879646666669612e-14, 3.285159021207132e-15, -869703.110364473, -3.808863185715654e6, -1.6942349888694114e6, -3.2676746378652183e6, -2.3185495688859234e6, -2.4614103898557606e6, -2.288760333013442e6, -2.1278416390491016e6, -1.9464306669041584e6, -1.7462745034096926e6, -1.529300761836642e6, -1.3156512635228843e6, -960374.6764668435, -991238.2645042374, -337004.29253346386, -375140.2803565735, -1.5976186954745234e-10, -179701.12016370843, -787000.7280261117, -350068.8012864421, -675178.4439506438, -479066.8789367405, -508585.2849880057, -472911.7220891784, -439662.13471153384, -402178.3606328464, -360821.3890882093, -315989.5103216172, -271844.4984067962, -198435.9985393478, -204813.1418155937, -69633.01400964541, -77512.80614640158, -3.301056024175191e-11, 136453.24247066924, 597596.7265429876, 265819.283596221, 512686.2194260965, 363771.96164202684, 386186.30282471696, 359098.13930302166, 333850.58378217573, 305387.8646382142, 273984.09341579844, 239941.70559884762, 206420.879411476, 150679.28012319302, 155521.66439409263, 52874.74299528913, 58858.1402388663, 2.5066053993747407e-11, -59497.6513237297, -260569.8554631242, -115905.07315303384, -223546.3618862106, -158615.33916849794, -168388.6551571266, -156577.41433182752, -145568.73305788348, -133158.14530862804, -119465.17182840392, -104621.6834371662, -90005.6113492619, -65700.62468400033, -67812.0475106688, -23054.952492182452, -25663.89073713652, -1.0929541237558627e-11, 11869.312218981933, 51981.6312163117, 23122.148024498878, 44595.73622844359, 31642.509265903565, 33592.208729713086, 31235.959332803737, 29039.814237113424, 26563.99985554245, 23832.35963400317, 20871.20076109541, 17955.409647215052, 13106.756485453601, 13527.968687926174, 4599.2812024559635, 5119.743807289108, 2.180357282558519e-12, 497.5608700394926, 2179.0669229087425, 969.2790850890925, 1869.4506394726327, 1326.4521271415422, 1408.1834139786326, 1309.409577860199, 1217.3473046311642, 1113.5613113888023, 999.0511139832332, 874.9195082131118, 752.6897162327833, 549.4344609006685, 567.0916516516487, 192.80159746666075, 214.61935924645937, 9.140044903122552e-14, 403.24818143430787, 1766.0246751655905, 785.5521844663203, 1515.0961742403654, 1075.0230579567894, 1141.262175154102, 1061.2109247716367, 986.5990601863647, 902.4857073215908, 809.6809237464389, 709.0784702589915, 610.0173416592908, 445.2891304695007, 459.5993998019872, 156.2560447124579, 173.93824862043888, 7.407548919832743e-14, 331.3590949867934, 1451.186552176795, 645.5078358538445, 1244.9923402717857, 883.3732772395097, 937.8036130420313, 872.0235026768812, 810.7130713779356, 741.5950300207749, 665.3350231274339, 582.6674762522543, 501.2664745058531, 365.9051920705736, 377.6642975379903, 128.39949179180817, 142.92940005693694, 6.086967825659105e-14, 272.2860384470531, 1192.4762087957952, 530.4298993760201, 1023.0412786558367, 725.8898692342302, 770.6166346414153, 716.563476207208, 666.1831646164384, 609.3871449776506, 546.7223940078293, 478.7924075148501, 411.90317276475935, 300.67342862605113, 310.3361790736632, 105.50906701383815, 117.44865527432847, 5.0018133815504505e-14, 223.74423354640123, 979.8874627617587, 435.8674868636725, 840.6585518841824, 596.481822414454, 633.2349218466389, 588.8180924946791, 547.4193330614166, 500.7486262009252, 449.2554363330753, 393.4356710253344, 338.47111739995796, 247.0708605530872, 255.01098376021778, 86.69943367587527, 96.51049133949647, 4.110114891604171e-14, 183.8562209580946, 805.1979843772397, 358.1631924231807, 690.7901134063267, 490.14400058974275, 520.3449396843239, 483.8465224417704, 449.8281285769988, 411.47764393296234, 369.1644046412907, 323.29591032713154, 278.1301647969143, 203.024292560078, 209.54888997054914, 71.24308851315101, 79.30507946167421, 3.377383987494886e-14, 153.1810655547767, 670.8561972323822, 298.40610870810923, 575.5364985468955, 408.3668199768482, 433.52893854512496, 403.12003306919075, 374.7773759999176, 342.82540792561144, 307.5718437655506, 269.35619461415456, 231.72604540929584, 169.15107525758296, 174.5870881291828, 59.356665523681706, 66.07356831626778, 2.8138905243245717e-14, 113.18226696637717, 495.68153176250286, 220.48599634607908, 425.25181158329775, 301.7336527294371, 320.32541282015103, 297.8569122566675, 276.91511917452027, 253.3064821175201, 227.25836516631978, 199.0216259265081, 171.21750028040535, 124.98217118490668, 128.99872674180781, 43.8573915072613, 48.82036968151761, 2.079124514409225e-14, 126.54872494170726, 554.219910088314, 246.5246761083792, 475.47266879717307, 337.36741671959453, 358.15480326841583, 333.03284579334996, 309.6178949925671, 283.2211546086477, 254.0968396814152, 222.52543328458842, 191.43773074123337, 139.74215950803193, 144.23305722555477, 49.03680694222122, 54.58589671307936, 2.324662364040609e-14, 52.60536188519707, 230.38508643691915, 102.47847069408272, 197.65044507652937, 140.24112098311056, 148.88228265859914, 138.43927215138837, 128.70585159763206, 117.73292333521522, 105.62616266171773, 92.50216430065379, 79.57923802679471, 58.08977431361053, 59.95660702748037, 20.384235211206935, 22.690950475733718, 9.663448207604214e-15, 95.77418277305298, 419.44285878592336, 186.5739808800721, 359.84563499907347, 255.32528000940962, 271.057520374676, 252.04480453781454, 234.32397978316595, 214.34648700868823, 192.30472039060817, 168.4109541907128, 144.88326312347303, 105.75919379660571, 109.15797998754717, 37.11187222830226, 41.31151578996639, 1.7593431956095938e-14, 17.883572762880902, 78.32107429977839, 34.83829635629016, 67.19269651363346, 47.67598209708705, 50.61360742730843, 47.06343057125328, 43.754483945532904, 40.024157720783116, 35.908376977752, 31.446778934909492, 27.053536800538076, 19.748038384070362, 20.382681650045356, 6.929768003703803, 7.713952520225892, 3.285159021207132e-15, 6.0659049881276985, 1.2511553505554591, -0.9534700896034517, 0.41042059578359524, -0.08668212597825725, -0.008168987350553342, -0.007595992235139098, -0.0070619314458940765, -0.006459860396380686, -0.005795577359931248, -0.005075479745320809, -0.004366414708311916, -0.0031873143203515653, -0.0032897451304713414, -0.0011184578622621994, -0.001245024485776813, 5.302214928532786e-19, 27.21038669349107, 5.612422378668441, -4.277068284050961, 1.8410613321676241, -0.3888379676072555, -0.03664437625347687, -0.03407403947859844, -0.031678353983749706, -0.028977588622887702, -0.025997753242826008, -0.022767545287218305, -0.01958682717745414, -0.014297628357221804, -0.014757111642591716, -0.005017169077342153, -0.005584920595881045, 2.3784632106793063e-18, 12.989255375087959, 2.6791676417748786, -2.0417178492915933, 0.8788561542363278, -0.1856171952892162, -0.01749270109899169, -0.01626571520037297, -0.015122101511912314, -0.013832853719310388, -0.012410387983584462, -0.010868403427368441, -0.00935004353526971, -0.006825171140786394, -0.00704451185804573, -0.0023950152248729583, -0.0026660392844339987, 1.1353923923159581e-18, 28.069305908879066, 5.789583309169479, -4.412077616188703, 1.8991760136206761, -0.40111197186204167, -0.03780108744816004, -0.035149615786415414, -0.032678308422288214, -0.029892291084273916, -0.02681839464232954, -0.023486222399553724, -0.020205102192091238, -0.014748945270458898, -0.015222932540185941, -0.0051755403263773776, -0.005761213408998835, 2.453541443773088e-18, 23.185333669148378, 4.782213755629953, -3.644389784257439, 1.5687252729077863, -0.33131973182741514, -0.0312238153799524, -0.029033691570286197, -0.02699238402879163, -0.02469112507356178, -0.022152077086331576, -0.019399692487202844, -0.016689477027456157, -0.012182674501239684, -0.012574189454948382, -0.004275012348888701, -0.004758780130169027, 2.0266328362244428e-18, 29.625181669551104, 6.110498702103323, -4.656638156428502, 2.0044469431703607, -0.42334552463892394, -0.03989639382582974, -0.03709795164397289, -0.03448966022910009, -0.031549214532254954, -0.028304932652909214, -0.0247880587990658, -0.02132506678418441, -0.015566476224600756, -0.01606673650963603, -0.005462419445096307, -0.006080556264294896, 2.5895407332661456e-18, 34.13631188050474, 7.0409657489057045, -5.3657207640310345, 2.309671102213517, -0.48780983095686736, -0.045971557499198415, -0.04274698672137227, -0.03974152163405251, -0.03635332396847126, -0.03261502392032528, -0.028562623362640857, -0.024572309420323686, -0.017936838099784212, -0.018513274771190222, -0.006294201192750577, -0.007006463871182481, 2.983859173727845e-18, 40.37422930857998, 8.327600436019134, -6.346228652091714, 2.7317301012071256, -0.5769500244483057, -0.05437219494134065, -0.050558380477099985, -0.04700371010031337, -0.04299636830041914, -0.03857494796958609, -0.033782029802594316, -0.029062543682233877, -0.021214535918426057, -0.02189630805698306, -0.007444375454501851, -0.008286793838995703, 3.529116294880087e-18, 48.17370740648588, 9.936323087104888, -7.572190663601207, 3.2594446720764068, -0.6884050083906135, -0.06487579465934036, -0.060325228982934756, -0.056083868749182114, -0.05130239020081364, -0.0460268415900721, -0.04030802933398713, -0.03467683469907432, -0.02531275181224225, -0.026126228430451273, -0.008882477043171348, -0.009887633487354596, 4.21086962412644e-18, 57.83640786415364, 11.929354531231953, -9.091023531774354, 3.9132253175821154, -0.8264855454252448, -0.07788860609726529, -0.07242528623582198, -0.06733319236170399, -0.06159264303707575, -0.05525892289003685, -0.04839302910796685, -0.04163232732267303, -0.03038999314758638, -0.031366637213647096, -0.01066412764909336, -0.01187089875314249, 5.05548744647714e-18, 69.7360565274372, 14.383779571508219, -10.961471403845726, 4.718358418670754, -0.9965321990649887, -0.093913927891235, -0.08732654812899332, -0.08118677286697194, -0.07426512460103717, -0.06662826258774768, -0.058349733983024815, -0.05019804027874476, -0.036642633217925304, -0.0378202185541026, -0.012858236464126975, -0.014313296711390474, 6.0956371835773256e-18, 85.50614045493768, 17.636521730051488, -13.44029416233554, 5.78536610404497, -1.2218875919316383, -0.11515158597738302, -0.1070745387907725, -0.09954631720701261, -0.09105941017099692, -0.08169555123689744, -0.07154491948505545, -0.06154980502730626, -0.04492898363614756, -0.046372867649193725, -0.015765992914610356, -0.017550099904141064, 7.474102137912474e-18, 93.16694685711792, 19.21664191630844, -14.64445904474265, 6.303698114506623, -1.3313609494848024, -0.1254684357659856, -0.11666773651802972, -0.10846503415664321, -0.0992177542233093, -0.08901495307886335, -0.0779548892757447, -0.0670642761272459, -0.048954334840774105, -0.05052758167890275, -0.017178525614769215, -0.019122477244402393, 8.143734157367779e-18, 153.82633988338992, 31.728266199050836, -24.179213878069262, 10.407927289615774, -2.198187112828797, -0.2071587713867565, -0.19262808857063146, -0.17908474810526204, -0.1638167236179576, -0.14697105453088177, -0.12870997384612254, -0.11072867021610557, -0.08082765834895309, -0.08342521908273554, -0.028363167507953195, -0.0315727925325386, 1.3445979080246318e-17, 94.51456994472383, 19.494603051520787, -14.856285360619038, 6.394878617925234, -1.3506185597638452, -0.12728328713235432, -0.11835528924583934, -0.11003393803466366, -0.10065289984954517, -0.09030251921640357, -0.07908247595882952, -0.06803433439266549, -0.049662439958472054, -0.05125844319071991, -0.01742700620268626, -0.019399076324828377, 8.261530055376809e-18, 254.5004344168065, 52.49333460753059, -40.00368493777032, 17.219560828098256, -3.636825627967518, -0.3427371238966488, -0.3186966046209513, -0.2962896095997858, -0.2710291836697984, -0.24315859854144817, -0.2129462631851324, -0.183196809426505, -0.13372660480835494, -0.13802418047499834, -0.04692589356076971, -0.05223610872737421, 2.2245913929149446e-17, 70.3156871961292, 14.503334364057629, -11.052580728290527, 4.75757636963514, -1.004815154162828, -0.09469451967594068, -0.08805238707095668, -0.08186157935574025, -0.07488239988123684, -0.06718206196099338, -0.05883472405861468, -0.05061527528030165, -0.036947198675915977, -0.03813457184079823, -0.012965111279983095, -0.014432265666005023, 6.146302770832472e-18, 0.002886391369998487, 0.012947750662124429, 0.006180788306236337, 0.013356457527080947, 0.011032475309808857, 0.014096803176606158, 0.01624337278745907, 0.019211614305649573, 0.02292290657223624, 0.027520791845164212, 0.03318310328507967, 0.04068711698815928, 0.044332423917588674, 0.07319650089918679, 0.04497367491932536, 0.12110111500250749, 0.03345891389589101, 0.012640945740837154, 0.05670465041124656, 0.02706875111491733, 0.05849458138094238, 0.048316705498773864, 0.061736923802828816, 0.07113782149874169, 0.08413722981431115, 0.10039082752733895, 0.12052725769470991, 0.1453253403191498, 0.17818915464630308, 0.1941537696955917, 0.3205639421954907, 0.19696212728821266, 0.5303621122946954, 0.14653325238618703, 0.005622867381229405, 0.025223012241194803, 0.012040554624246488, 0.026019198275886887, 0.021491938410893845, 0.027461436998888814, 0.03164308622770059, 0.037425402716629454, 0.044655227627036546, 0.053612190079358225, 0.06464271997519816, 0.07926099881219695, 0.08636228023962471, 0.14259127213451375, 0.0876114765122867, 0.23591239790135152, 0.06518001595766532, 0.010844836315170178, 0.04864767752560504, 0.023222643393604015, 0.0501832832294643, 0.04145154746845581, 0.05296493213168972, 0.0610300879212979, 0.07218245407068988, 0.08612663280100198, 0.10340194539343867, 0.12467655193836846, 0.15287085752096, 0.16656711416138856, 0.27501609079966993, 0.16897644167776646, 0.45500474517684053, 0.12571283584613166, 0.00769485745973873, 0.034517528289775015, 0.01647742073360395, 0.03560710370264037, 0.029411578006869714, 0.03758079801978945, 0.04330335780658949, 0.05121642033371532, 0.061110388726099335, 0.07336793361732842, 0.08846314207577813, 0.10846816163802621, 0.11818621910955052, 0.19513522900090136, 0.11989573608828268, 0.32284458297843754, 0.08919842813508955, 0.008168987350553346, 0.03664437625347688, 0.017492701098991693, 0.03780108744816004, 0.03122381537995241, 0.039896393825829754, 0.04597155749919843, 0.05437219494134066, 0.06487579465934039, 0.0778886060972653, 0.09391392789123501, 0.11515158597738304, 0.12546843576598563, 0.2071587713867565, 0.12728328713235432, 0.3427371238966489, 0.09469451967594071, 0.007595992235139099, 0.034074039478598446, 0.016265715200372975, 0.03514961578641543, 0.0290336915702862, 0.0370979516439729, 0.04274698672137227, 0.0505583804771, 0.06032522898293477, 0.072425286235822, 0.08732654812899335, 0.10707453879077253, 0.11666773651802975, 0.19262808857063154, 0.11835528924583937, 0.3186966046209514, 0.08805238707095672, 0.007061931445894082, 0.031678353983749734, 0.015122101511912326, 0.03267830842228824, 0.026992384028791654, 0.03448966022910011, 0.039741521634052535, 0.0470037101003134, 0.05608386874918217, 0.06733319236170404, 0.08118677286697201, 0.0995463172070127, 0.10846503415664331, 0.1790847481052622, 0.11003393803466374, 0.296289609599786, 0.08186157935574032, 0.006459860396380688, 0.028977588622887712, 0.013832853719310392, 0.02989229108427392, 0.024691125073561786, 0.031549214532254975, 0.036353323968471275, 0.042996368300419155, 0.05130239020081366, 0.061592643037075775, 0.07426512460103718, 0.09105941017099696, 0.09921775422330935, 0.16381672361795763, 0.1006528998495452, 0.27102918366979856, 0.07488239988123685, 0.005795577359931251, 0.02599775324282602, 0.012410387983584471, 0.026818394642329553, 0.022152077086331587, 0.02830493265290923, 0.032615023920325295, 0.03857494796958612, 0.04602684159007213, 0.05525892289003688, 0.0666282625877477, 0.08169555123689748, 0.08901495307886341, 0.14697105453088186, 0.09030251921640363, 0.24315859854144833, 0.06718206196099342, 0.005075479745320813, 0.022767545287218322, 0.010868403427368445, 0.02348622239955374, 0.019399692487202858, 0.024788058799065822, 0.028562623362640878, 0.033782029802594336, 0.04030802933398715, 0.048393029107966876, 0.05834973398302486, 0.0715449194850555, 0.07795488927574476, 0.12870997384612262, 0.07908247595882956, 0.21294626318513257, 0.05883472405861472, 0.004366414708311919, 0.019586827177454153, 0.009350043535269716, 0.02020510219209125, 0.01668947702745617, 0.021325066784184422, 0.0245723094203237, 0.029062543682233898, 0.03467683469907435, 0.04163232732267306, 0.05019804027874479, 0.0615498050273063, 0.06706427612724596, 0.11072867021610565, 0.06803433439266554, 0.18319680942650515, 0.050615275280301686, 0.0031873143203515683, 0.014297628357221818, 0.0068251711407864004, 0.014748945270458913, 0.012182674501239695, 0.015566476224600771, 0.017936838099784233, 0.021214535918426074, 0.025312751812242275, 0.03038999314758641, 0.036642633217925345, 0.04492898363614759, 0.04895433484077415, 0.08082765834895315, 0.0496624399584721, 0.13372660480835508, 0.03694719867591601, 0.0032897451304713453, 0.014757111642591737, 0.007044511858045738, 0.015222932540185962, 0.0125741894549484, 0.01606673650963605, 0.018513274771190247, 0.02189630805698309, 0.026126228430451315, 0.031366637213647144, 0.03782021855410265, 0.046372867649193794, 0.05052758167890282, 0.08342521908273563, 0.05125844319071999, 0.1380241804749985, 0.038134571840798284, 0.0011184578622622013, 0.005017169077342162, 0.0023950152248729626, 0.005175540326377387, 0.004275012348888709, 0.005462419445096315, 0.006294201192750589, 0.007444375454501864, 0.008882477043171366, 0.01066412764909338, 0.012858236464127, 0.015765992914610387, 0.017178525614769243, 0.028363167507953247, 0.01742700620268629, 0.046925893560769795, 0.012965111279983118, 0.0012450244857768176, 0.005584920595881066, 0.002666039284434008, 0.005761213408998856, 0.004758780130169045, 0.0060805562642949175, 0.007006463871182507, 0.008286793838995731, 0.009887633487354632, 0.011870898753142534, 0.014313296711390526, 0.017550099904141126, 0.019122477244402466, 0.03157279253253871, 0.01939907632482845, 0.05223610872737441, 0.014432265666005075, 5.302214928532786e-19, 2.3784632106793063e-18, 1.1353923923159581e-18, 2.453541443773088e-18, 2.0266328362244428e-18, 2.5895407332661456e-18, 2.983859173727845e-18, 3.529116294880087e-18, 4.21086962412644e-18, 5.05548744647714e-18, 6.0956371835773256e-18, 7.474102137912474e-18, 8.143734157367779e-18, 1.3445979080246318e-17, 8.261530055376809e-18, 2.2245913929149446e-17, 6.146302770832472e-18, 0.772821941691734, 3.3845722842009276, 1.5055045315767772, 2.90366980220816, 2.060273164924106, 2.1872199077123624, 2.033802321214192, 1.8908092744583838, 1.7296067007680511, 1.5517470690501236, 1.3589432647860067, 1.169093397445521, 0.8533930871049065, 0.8808186047906333, 0.29946347047674043, 0.3333512740347118, 1.4196508758054365e-16, 2.794649182783126, 12.239160999242767, 5.4441479749362225, 10.50013981493542, 7.450281113992781, 7.909341075739691, 7.35455826018825, 6.837472267022715, 6.254537678183202, 5.6113684724247035, 4.914158720790713, 4.227630883015881, 3.0860074809079454, 3.185182590274074, 1.082908362059737, 1.205452142729691, 5.133687264652682e-16, 1.0364846882803904, 4.539282802029647, 2.0191357296355097, 3.8943113897915067, 2.763174120605659, 2.933431133287089, 2.7276722504968345, 2.5358944353269917, 2.319694570484039, 2.0811547788532843, 1.822572329027243, 1.567951607286701, 1.1445441959532159, 1.1813264450275545, 0.4016310680426532, 0.44708033340694003, 1.903991483801733e-16, 1.6836243791830032, 7.373429898113276, 3.279803529885027, 6.32576406590325, 4.48838981027064, 4.7649485096112905, 4.430721988741147, 4.119205756367192, 3.7680193207725, 3.380544799309886, 2.960513783436146, 2.5469180406193646, 1.8591519326313046, 1.9188995506742492, 0.6523934846695908, 0.726219458220848, 3.092767810399372e-16, 1.0167662979767922, 4.452926147656555, 1.980723096199556, 3.8202248617260937, 2.7106066814500465, 2.8776246745242045, 2.6757802093854273, 2.487650831914518, 2.275564017043998, 2.0415622767395187, 1.7878991756785705, 1.5381224336199606, 1.1227700497157387, 1.1588525424389289, 0.3939903201886206, 0.4385749453285047, 1.8677693884472736e-16, 0.9291895149082342, 4.069383785926418, 1.8101181526054184, 3.4911787430120618, 2.4771349251596413, 2.6297672146782167, 2.44530814967733, 2.27338285539877, 2.0795636414652368, 1.8657170928592703, 1.633902668744359, 1.405639861203804, 1.0260628818291868, 1.0590374935731592, 0.36005488697163757, 0.40079931987478234, 1.7068934478504762e-16, 0.7530705928474375, 3.298071287958956, 1.4670276928825372, 2.829459441324101, 2.0076178612898947, 2.1313201705725895, 1.9818235445263723, 1.842485033694584, 1.6854023847835429, 1.5120883895723753, 1.3242121565780283, 1.1392143654475906, 0.8315825462087427, 0.8583071379271501, 0.29180995140278393, 0.3248316695230472, 1.383368236593921e-16, 0.618827852043345, 2.7101554494333273, 1.2055146020799687, 2.325078585126848, 1.6497388964935567, 1.75138997020866, 1.6285426875467413, 1.5140427293968386, 1.3849617121028976, 1.2425427564243225, 1.0881574347584158, 0.9361374424690545, 0.6833442253020557, 0.7053048779246814, 0.23979176341047345, 0.26692701353075415, 1.1367683223421716e-16, 0.5085196172767791, 2.227060736448366, 0.9906273966937341, 1.9106251736134259, 1.355667152797702, 1.4391985661474638, 1.338249242427698, 1.2441593033528202, 1.1380874300599961, 1.0210551526738212, 0.8941895560018727, 0.7692676604502319, 0.5615357207525279, 0.5795818100323358, 0.19704804066749865, 0.21934633729443898, 9.341353824024668e-17, 0.41787947891169697, 1.8301024157839112, 0.8140548491381311, 1.5700693244063908, 1.1140287692784674, 1.182671280397871, 1.0997154821173427, 1.0223964301562793, 0.9352311416740707, 0.8390590660481947, 0.7348063929399309, 0.6321509695418437, 0.46144582510894955, 0.47627532259229943, 0.16192557721895634, 0.18024935521789362, 7.676321494178602e-17, 0.34340173349312675, 1.5039272655524571, 0.668967634114409, 1.290239303230942, 0.915477858658572, 0.9718863651760827, 0.9037155973579786, 0.8401769508931569, 0.7685469411037935, 0.689515404141107, 0.6038434569090796, 0.5194840850653542, 0.37920334510866055, 0.39138981369495457, 0.13306593580206622, 0.1481239069313639, 6.30818750616015e-17, 0.28613185052672463, 1.2531139175473451, 0.5574023903273972, 1.0750631795024717, 0.762801547766396, 0.8098026802042645, 0.7530009053582088, 0.7000587425216702, 0.6403746313036115, 0.5745233623217171, 0.5031391192942468, 0.43284855049197735, 0.31596274648402994, 0.32611685017043984, 0.11087422904310298, 0.12342094830563162, 5.256156823224933e-17, 0.2114434526917095, 0.9260162154422491, 0.4119048114793107, 0.7944416887434155, 0.5636890569204296, 0.5984215821698514, 0.5564466556792915, 0.517323874756729, 0.4732189821222628, 0.42455673200214994, 0.37180576846653807, 0.31986299966307746, 0.23348765233774182, 0.24099125159973173, 0.0819329611864216, 0.0912046365903971, 3.884153213093502e-17, 0.23645836226163328, 1.0355689662826593, 0.46063538922670794, 0.8884284580167554, 0.6303765357944116, 0.6692181075391919, 0.6222773191266908, 0.5785261006032311, 0.5292033594764259, 0.4747841007058798, 0.415792411502145, 0.3577045308596127, 0.2611105105278144, 0.26950182636176784, 0.09162607576993487, 0.10199464076230687, 4.3436696471300167e-17, 0.09832114358423745, 0.43059726901347267, 0.19153561671897298, 0.3694151526277459, 0.2621152464018103, 0.2782658604719968, 0.2587475319454879, 0.2405554502728982, 0.22004668811319497, 0.19741875605720613, 0.17288957346031636, 0.14873620117721162, 0.10857168996439558, 0.11206086142392693, 0.0380988029590938, 0.04241012930689923, 1.8061301066841555e-17, 0.1790783263943909, 0.7842732038492092, 0.3488555608343235, 0.6728384645020633, 0.4774065672646909, 0.5068226707852197, 0.47127274246742623, 0.4381383888503298, 0.40078452303779816, 0.35957088317730623, 0.3148943791503773, 0.27090236148702207, 0.1977482749270185, 0.20410331681015753, 0.06939168547911372, 0.07724416846252782, 3.2896154882333364e-17, 0.03345891389589101, 0.14653325238618703, 0.06518001595766532, 0.12571283584613166, 0.08919842813508955, 0.09469451967594071, 0.08805238707095672, 0.08186157935574032, 0.07488239988123685, 0.06718206196099342, 0.05883472405861472, 0.050615275280301686, 0.03694719867591601, 0.038134571840798284, 0.012965111279983118, 0.014432265666005075, 6.146302770832472e-18, 1624.1264160393052, 5873.103902025609, 2178.2277019354096, 3538.2261830366174, 2136.7884559122667, 1952.7411881780843, 1582.617905889855, 1300.4996458619694, 1068.6810233227725, 878.1959514963471, 721.6770081074445, 601.3213029296085, 444.35966228316994, 496.92982526070244, 206.62711283894888, 376.3426279028354, 70.3156871961292, 334.9927932242878, 1211.3881417149546, 449.2818877543614, 729.7955752762426, 440.73461665692156, 402.7729729728503, 326.43123568774286, 268.2414402303244, 220.4264628253063, 181.13695577186087, 148.85331238021632, 124.02870915978177, 91.65375490132897, 102.49689221021286, 42.61896918996633, 77.62454134450122, 14.503334364057629, -255.28852866294338, -923.1646250105842, -342.3850136469288, -556.1565574106519, -335.87138019963317, -306.9418857216879, -248.76400792465893, -204.41921136189825, -167.98077006800972, -138.0393484898717, -113.43689736844098, -94.51876969832422, -69.84673314905773, -78.10998127159834, -32.47871046095383, -59.15546647209715, -11.052580728290527, 109.88878536728811, 397.3756277564637, 147.3794121290055, 239.39723765888203, 144.57562273979994, 132.12294017658016, 107.0803095505765, 87.99211997479239, 72.30721601363813, 59.418950071475194, 48.82884057869198, 40.68554451294056, 30.065482016846985, 33.62239193414842, 13.980440333698855, 25.463433051614746, 4.75757636963514, -23.208858509204653, -83.92698753363013, -31.1269972803801, -50.561452633667884, -30.534828106736178, -27.904782222583187, -22.61569954727126, -18.584213626478412, -15.271512375407369, -12.549469906006266, -10.312805336519121, -8.592915490099465, -6.34992475171863, -7.101155359325381, -2.952713150088048, -5.377957476536593, -1.004815154162828, -2.187219907712362, -7.9093410757396905, -2.9334311332870886, -4.76494850961129, -2.8776246745242036, -2.6297672146782163, -2.131320170572589, -1.7513899702086595, -1.4391985661474636, -1.1826712803978707, -0.9718863651760825, -0.8098026802042643, -0.5984215821698513, -0.6692181075391916, -0.2782658604719968, -0.5068226707852196, -0.09469451967594068, -2.0338023212141914, -7.3545582601882495, -2.7276722504968345, -4.430721988741146, -2.675780209385427, -2.4453081496773295, -1.981823544526372, -1.6285426875467408, -1.3382492424276977, -1.0997154821173425, -0.9037155973579785, -0.7530009053582086, -0.5564466556792915, -0.6222773191266906, -0.25874753194548783, -0.4712727424674261, -0.08805238707095668, -1.8908092744583822, -6.83747226702271, -2.5358944353269894, -4.119205756367188, -2.487650831914516, -2.2733828553987676, -1.8424850336945822, -1.5140427293968373, -1.244159303352819, -1.0223964301562785, -0.8401769508931562, -0.7000587425216696, -0.5173238747567287, -0.5785261006032305, -0.240555450272898, -0.4381383888503295, -0.08186157935574025, -1.7296067007680507, -6.254537678183199, -2.319694570484038, -3.768019320772499, -2.275564017043997, -2.0795636414652354, -1.6854023847835422, -1.3849617121028972, -1.138087430059996, -0.9352311416740704, -0.7685469411037933, -0.6403746313036112, -0.47321898212226265, -0.5292033594764257, -0.22004668811319492, -0.40078452303779794, -0.07488239988123684, -1.5517470690501227, -5.611368472424701, -2.0811547788532834, -3.3805447993098836, -2.041562276739517, -1.8657170928592692, -1.5120883895723742, -1.2425427564243219, -1.0210551526738207, -0.8390590660481942, -0.6895154041411067, -0.5745233623217167, -0.4245567320021497, -0.4747841007058795, -0.19741875605720602, -0.359570883177306, -0.06718206196099338, -1.358943264786006, -4.91415872079071, -1.822572329027242, -2.9605137834361437, -1.7878991756785694, -1.633902668744358, -1.3242121565780274, -1.0881574347584149, -0.894189556001872, -0.7348063929399304, -0.6038434569090791, -0.5031391192942465, -0.37180576846653784, -0.41579241150214474, -0.17288957346031622, -0.3148943791503771, -0.05883472405861468, -1.1690933974455202, -4.2276308830158795, -1.5679516072867, -2.5469180406193628, -1.5381224336199595, -1.405639861203803, -1.1392143654475897, -0.9361374424690538, -0.7692676604502313, -0.6321509695418431, -0.5194840850653538, -0.432848550491977, -0.31986299966307724, -0.3577045308596124, -0.1487362011772115, -0.2709023614870219, -0.05061527528030165, -0.8533930871049057, -3.0860074809079427, -1.1445441959532148, -1.8591519326313026, -1.1227700497157376, -1.026062881829186, -0.831582546208742, -0.6833442253020551, -0.5615357207525273, -0.46144582510894905, -0.37920334510866016, -0.31596274648402967, -0.23348765233774166, -0.2611105105278142, -0.10857168996439548, -0.1977482749270183, -0.036947198675915977, -0.8808186047906321, -3.1851825902740702, -1.1813264450275527, -1.9188995506742468, -1.158852542438927, -1.059037493573158, -0.858307137927149, -0.7053048779246806, -0.579581810032335, -0.4762753225922987, -0.39138981369495396, -0.32611685017043945, -0.24099125159973137, -0.2695018263617675, -0.11206086142392681, -0.20410331681015723, -0.03813457184079823, -0.2994634704767399, -1.082908362059735, -0.40163106804265253, -0.6523934846695897, -0.3939903201886199, -0.3600548869716369, -0.29180995140278343, -0.239791763410473, -0.1970480406674983, -0.16192557721895603, -0.13306593580206597, -0.11087422904310279, -0.08193296118642143, -0.0916260757699347, -0.03809880295909372, -0.06939168547911359, -0.012965111279983095, -0.3333512740347106, -1.2054521427296867, -0.4470803334069384, -0.7262194582208452, -0.43857494532850305, -0.40079931987478085, -0.324831669523046, -0.2669270135307532, -0.21934633729443814, -0.18024935521789298, -0.14812390693136337, -0.12342094830563118, -0.09120463659039678, -0.1019946407623065, -0.04241012930689907, -0.07724416846252755, -0.014432265666005023, 1.4196508758054365e-16, 5.133687264652682e-16, 1.903991483801733e-16, 3.092767810399372e-16, 1.8677693884472736e-16, 1.7068934478504762e-16, 1.383368236593921e-16, 1.1367683223421716e-16, 9.341353824024668e-17, 7.676321494178602e-17, 6.30818750616015e-17, 5.256156823224933e-17, 3.884153213093502e-17, 4.3436696471300167e-17, 1.8061301066841555e-17, 3.2896154882333364e-17, 6.146302770832472e-18, -0.002886391369998487, -0.012947750662124429, -0.006180788306236337, -0.013356457527080947, -0.011032475309808857, -0.014096803176606158, -0.01624337278745907, -0.019211614305649573, -0.02292290657223624, -0.027520791845164212, -0.03318310328507967, -0.04068711698815928, -0.044332423917588674, -0.07319650089918679, -0.04497367491932536, -0.12110111500250749, -0.03345891389589101, -0.012640945740837154, -0.05670465041124656, -0.02706875111491733, -0.05849458138094238, -0.048316705498773864, -0.061736923802828816, -0.07113782149874169, -0.08413722981431115, -0.10039082752733895, -0.12052725769470991, -0.1453253403191498, -0.17818915464630308, -0.1941537696955917, -0.3205639421954907, -0.19696212728821266, -0.5303621122946954, -0.14653325238618703, -0.005622867381229405, -0.025223012241194803, -0.012040554624246488, -0.026019198275886887, -0.021491938410893845, -0.027461436998888814, -0.03164308622770059, -0.037425402716629454, -0.044655227627036546, -0.053612190079358225, -0.06464271997519816, -0.07926099881219695, -0.08636228023962471, -0.14259127213451375, -0.0876114765122867, -0.23591239790135152, -0.06518001595766532, -0.010844836315170178, -0.04864767752560504, -0.023222643393604015, -0.0501832832294643, -0.04145154746845581, -0.05296493213168972, -0.0610300879212979, -0.07218245407068988, -0.08612663280100198, -0.10340194539343867, -0.12467655193836846, -0.15287085752096, -0.16656711416138856, -0.27501609079966993, -0.16897644167776646, -0.45500474517684053, -0.12571283584613166, -0.00769485745973873, -0.034517528289775015, -0.01647742073360395, -0.03560710370264037, -0.029411578006869714, -0.03758079801978945, -0.04330335780658949, -0.05121642033371532, -0.061110388726099335, -0.07336793361732842, -0.08846314207577813, -0.10846816163802621, -0.11818621910955052, -0.19513522900090136, -0.11989573608828268, -0.32284458297843754, -0.08919842813508955, -0.008168987350553346, -0.03664437625347688, -0.017492701098991693, -0.03780108744816004, -0.03122381537995241, -0.039896393825829754, -0.04597155749919843, -0.05437219494134066, -0.06487579465934039, -0.0778886060972653, -0.09391392789123501, -0.11515158597738304, -0.12546843576598563, -0.2071587713867565, -0.12728328713235432, -0.3427371238966489, -0.09469451967594071, -0.007595992235139098, -0.03407403947859844, -0.01626571520037297, -0.035149615786415414, -0.029033691570286197, -0.03709795164397289, -0.04274698672137227, -0.050558380477099985, -0.060325228982934756, -0.07242528623582198, -0.08732654812899332, -0.1070745387907725, -0.11666773651802972, -0.19262808857063146, -0.11835528924583934, -0.3186966046209513, -0.08805238707095668, -0.007061931445894081, -0.031678353983749734, -0.015122101511912324, -0.03267830842228824, -0.026992384028791647, -0.034489660229100105, -0.039741521634052535, -0.047003710100313394, -0.05608386874918214, -0.06733319236170403, -0.08118677286697198, -0.09954631720701268, -0.10846503415664327, -0.17908474810526215, -0.11003393803466373, -0.29628960959978595, -0.0818615793557403, -0.006459860396380688, -0.02897758862288771, -0.01383285371931039, -0.02989229108427392, -0.024691125073561786, -0.03154921453225497, -0.03635332396847127, -0.04299636830041915, -0.05130239020081365, -0.06159264303707576, -0.07426512460103718, -0.09105941017099695, -0.09921775422330935, -0.1638167236179576, -0.1006528998495452, -0.27102918366979856, -0.07488239988123684, -0.005795577359931247, -0.025997753242826004, -0.01241038798358446, -0.026818394642329536, -0.022152077086331573, -0.02830493265290921, -0.032615023920325274, -0.03857494796958608, -0.0460268415900721, -0.05525892289003685, -0.06662826258774766, -0.08169555123689742, -0.08901495307886335, -0.14697105453088177, -0.09030251921640356, -0.24315859854144814, -0.06718206196099337, -0.005075479745320814, -0.022767545287218326, -0.010868403427368448, -0.023486222399553742, -0.019399692487202864, -0.024788058799065826, -0.028562623362640878, -0.03378202980259434, -0.04030802933398716, -0.048393029107966876, -0.05834973398302486, -0.07154491948505551, -0.07795488927574476, -0.12870997384612265, -0.07908247595882957, -0.2129462631851326, -0.05883472405861473, -0.004366414708311918, -0.01958682717745415, -0.009350043535269715, -0.02020510219209124, -0.016689477027456164, -0.021325066784184415, -0.024572309420323693, -0.029062543682233887, -0.03467683469907433, -0.041632327322673045, -0.05019804027874478, -0.06154980502730628, -0.06706427612724593, -0.1107286702161056, -0.0680343343926655, -0.18319680942650507, -0.05061527528030167, -0.0031873143203515644, -0.014297628357221799, -0.006825171140786391, -0.014748945270458894, -0.012182674501239681, -0.015566476224600749, -0.01793683809978421, -0.021214535918426047, -0.02531275181224224, -0.030389993147586364, -0.036642633217925304, -0.044928983636147536, -0.04895433484077408, -0.08082765834895304, -0.04966243995847203, -0.1337266048083549, -0.03694719867591596, -0.003289745130471344, -0.014757111642591728, -0.007044511858045735, -0.015222932540185955, -0.012574189454948394, -0.01606673650963604, -0.01851327477119024, -0.02189630805698308, -0.0261262284304513, -0.03136663721364713, -0.03782021855410264, -0.046372867649193766, -0.0505275816789028, -0.0834252190827356, -0.05125844319071997, -0.13802418047499848, -0.03813457184079826, -0.0011184578622621994, -0.005017169077342154, -0.0023950152248729583, -0.005175540326377378, -0.004275012348888702, -0.005462419445096307, -0.006294201192750578, -0.007444375454501851, -0.00888247704317135, -0.010664127649093361, -0.012858236464126977, -0.015765992914610363, -0.017178525614769215, -0.0283631675079532, -0.01742700620268626, -0.04692589356076971, -0.012965111279983095, -0.001245024485776822, -0.005584920595881085, -0.0026660392844340165, -0.005761213408998875, -0.004758780130169061, -0.0060805562642949375, -0.007006463871182531, -0.00828679383899576, -0.009887633487354665, -0.011870898753142572, -0.014313296711390573, -0.017550099904141185, -0.01912247724440253, -0.031572792532538814, -0.019399076324828513, -0.052236108727374574, -0.01443226566600512, -1.7674049761775953e-19, -7.928210702264353e-19, -3.784641307719861e-19, -8.178471479243627e-19, -6.75544278741481e-19, -8.631802444220485e-19, -9.946197245759485e-19, -1.1763720982933626e-18, -1.403623208042147e-18, -1.6851624821590466e-18, -2.0318790611924417e-18, -2.491367379304158e-18, -2.7145780524559266e-18, -4.4819930267487734e-18, -2.7538433517922693e-18, -7.415304643049814e-18, -2.0487675902774907e-18, -0.772821941691734, -3.3845722842009276, -1.5055045315767772, -2.90366980220816, -2.060273164924106, -2.1872199077123624, -2.0338023212141914, -1.890809274458383, -1.729606700768051, -1.5517470690501225, -1.3589432647860067, -1.1690933974455209, -0.8533930871049052, -0.880818604790633, -0.29946347047674, -0.33335127403471293, -4.732169586018123e-17, -2.794649182783126, -12.239160999242767, -5.4441479749362225, -10.50013981493542, -7.450281113992781, -7.909341075739691, -7.3545582601882495, -6.837472267022712, -6.254537678183202, -5.611368472424699, -4.914158720790714, -4.22763088301588, -3.0860074809079414, -3.185182590274073, -1.0829083620597353, -1.2054521427296951, -1.7112290882175607e-16, -1.0364846882803904, -4.539282802029647, -2.0191357296355097, -3.8943113897915067, -2.763174120605659, -2.933431133287089, -2.7276722504968345, -2.5358944353269908, -2.3196945704840384, -2.0811547788532834, -1.8225723290272438, -1.5679516072867004, -1.1445441959532145, -1.1813264450275538, -0.40163106804265253, -0.44708033340694153, -6.346638279339111e-17, -1.6836243791830032, -7.373429898113276, -3.279803529885027, -6.32576406590325, -4.48838981027064, -4.7649485096112905, -4.430721988741146, -4.119205756367191, -3.7680193207724995, -3.380544799309883, -2.9605137834361464, -2.546918040619363, -1.8591519326313022, -1.9188995506742486, -0.6523934846695898, -0.7262194582208503, -1.0309226034664572e-16, -1.0167662979767922, -4.452926147656555, -1.980723096199556, -3.8202248617260937, -2.7106066814500465, -2.8776246745242045, -2.675780209385427, -2.4876508319145176, -2.2755640170439975, -2.041562276739517, -1.787899175678571, -1.5381224336199601, -1.1227700497157371, -1.1588525424389284, -0.39399032018861996, -0.43857494532850616, -6.225897961490913e-17, -0.9291895149082342, -4.069383785926418, -1.8101181526054184, -3.4911787430120618, -2.4771349251596413, -2.6297672146782167, -2.4453081496773295, -2.2733828553987694, -2.0795636414652363, -1.865717092859269, -1.6339026687443594, -1.4056398612038035, -1.0260628818291857, -1.059037493573159, -0.36005488697163696, -0.4007993198747837, -5.689644826168255e-17, -0.7530705928474375, -3.298071287958956, -1.4670276928825372, -2.829459441324101, -2.0076178612898947, -2.1313201705725895, -1.981823544526372, -1.8424850336945833, -1.6854023847835429, -1.512088389572374, -1.3242121565780285, -1.1392143654475901, -0.8315825462087417, -0.8583071379271499, -0.29180995140278343, -0.3248316695230483, -4.61122745531307e-17, -0.618827852043345, -2.7101554494333273, -1.2055146020799687, -2.325078585126848, -1.6497388964935567, -1.75138997020866, -1.6285426875467408, -1.5140427293968384, -1.3849617121028976, -1.2425427564243217, -1.088157434758416, -0.9361374424690542, -0.6833442253020549, -0.7053048779246812, -0.23979176341047304, -0.26692701353075504, -3.789227741140572e-17, -0.5085196172767791, -2.227060736448366, -0.9906273966937341, -1.9106251736134259, -1.355667152797702, -1.4391985661474638, -1.3382492424276977, -1.2441593033528198, -1.1380874300599961, -1.0210551526738205, -0.8941895560018728, -0.7692676604502315, -0.5615357207525271, -0.5795818100323354, -0.1970480406674983, -0.21934633729443967, -3.113784608008222e-17, -0.41787947891169697, -1.8301024157839112, -0.8140548491381311, -1.5700693244063908, -1.1140287692784674, -1.182671280397871, -1.0997154821173425, -1.0223964301562791, -0.9352311416740706, -0.839059066048194, -0.734806392939931, -0.6321509695418434, -0.46144582510894894, -0.47627532259229927, -0.16192557721895603, -0.18024935521789423, -2.5587738313928675e-17, -0.34340173349312675, -1.5039272655524571, -0.668967634114409, -1.290239303230942, -0.915477858658572, -0.9718863651760827, -0.9037155973579785, -0.8401769508931567, -0.7685469411037935, -0.6895154041411065, -0.6038434569090796, -0.5194840850653539, -0.37920334510866, -0.3913898136949544, -0.133065935802066, -0.1481239069313644, -2.10272916872005e-17, -0.28613185052672463, -1.2531139175473451, -0.5574023903273972, -1.0750631795024717, -0.762801547766396, -0.8098026802042645, -0.7530009053582086, -0.70005874252167, -0.6403746313036114, -0.5745233623217167, -0.5031391192942468, -0.4328485504919772, -0.31596274648402956, -0.32611685017043973, -0.11087422904310279, -0.12342094830563204, -1.752052274408311e-17, -0.2114434526917095, -0.9260162154422491, -0.4119048114793107, -0.7944416887434155, -0.5636890569204296, -0.5984215821698514, -0.5564466556792915, -0.5173238747567289, -0.4732189821222628, -0.42455673200214966, -0.3718057684665381, -0.31986299966307735, -0.23348765233774152, -0.24099125159973162, -0.08193296118642145, -0.09120463659039742, -1.2947177376978341e-17, -0.23645836226163328, -1.0355689662826593, -0.46063538922670794, -0.8884284580167554, -0.6303765357944116, -0.6692181075391919, -0.6222773191266906, -0.578526100603231, -0.5292033594764258, -0.4747841007058794, -0.4157924115021451, -0.35770453085961257, -0.2611105105278141, -0.2695018263617678, -0.0916260757699347, -0.10199464076230719, -1.447889882376672e-17, -0.09832114358423745, -0.43059726901347267, -0.19153561671897298, -0.3694151526277459, -0.2621152464018103, -0.2782658604719968, -0.25874753194548783, -0.24055545027289815, -0.22004668811319494, -0.197418756057206, -0.17288957346031636, -0.14873620117721154, -0.10857168996439545, -0.11206086142392689, -0.03809880295909373, -0.04241012930689938, -6.020433688947185e-18, -0.1790783263943909, -0.7842732038492092, -0.3488555608343235, -0.6728384645020633, -0.4774065672646909, -0.5068226707852197, -0.4712727424674261, -0.43813838885032974, -0.4007845230377981, -0.359570883177306, -0.3148943791503774, -0.270902361487022, -0.19774827492701827, -0.20410331681015742, -0.06939168547911359, -0.07724416846252809, -1.096538496077779e-17, -0.03345891389589101, -0.14653325238618703, -0.06518001595766532, -0.12571283584613166, -0.08919842813508955, -0.09469451967594071, -0.08805238707095668, -0.0818615793557403, -0.07488239988123684, -0.06718206196099337, -0.05883472405861473, -0.05061527528030167, -0.03694719867591596, -0.03813457184079826, -0.012965111279983095, -0.01443226566600512, -2.0487675902774907e-18, 0.772821941691734, 2.794649182783126, 1.0364846882803904, 1.6836243791830032, 1.0167662979767922, 0.9291895149082342, 0.7530705928474375, 0.618827852043345, 0.5085196172767791, 0.41787947891169697, 0.34340173349312675, 0.28613185052672463, 0.2114434526917095, 0.23645836226163328, 0.09832114358423745, 0.1790783263943909, 0.03345891389589101, 3.384572284200927, 12.239160999242765, 4.539282802029647, 7.373429898113275, 4.452926147656554, 4.0693837859264175, 3.2980712879589555, 2.7101554494333273, 2.2270607364483657, 1.830102415783911, 1.503927265552457, 1.2531139175473447, 0.9260162154422488, 1.035568966282659, 0.4305972690134726, 0.7842732038492091, 0.146533252386187, 1.5055045315767772, 5.4441479749362225, 2.0191357296355097, 3.279803529885027, 1.980723096199556, 1.8101181526054184, 1.4670276928825372, 1.2055146020799687, 0.9906273966937341, 0.8140548491381311, 0.668967634114409, 0.5574023903273972, 0.4119048114793107, 0.46063538922670794, 0.19153561671897298, 0.3488555608343235, 0.06518001595766532, 2.90366980220816, 10.50013981493542, 3.8943113897915067, 6.32576406590325, 3.8202248617260937, 3.4911787430120618, 2.829459441324101, 2.325078585126848, 1.9106251736134259, 1.5700693244063908, 1.290239303230942, 1.0750631795024717, 0.7944416887434155, 0.8884284580167554, 0.3694151526277459, 0.6728384645020633, 0.12571283584613166, 2.060273164924106, 7.450281113992781, 2.763174120605659, 4.48838981027064, 2.7106066814500465, 2.4771349251596413, 2.0076178612898947, 1.6497388964935567, 1.355667152797702, 1.1140287692784674, 0.915477858658572, 0.762801547766396, 0.5636890569204296, 0.6303765357944116, 0.2621152464018103, 0.4774065672646909, 0.08919842813508955, 2.1872199077123624, 7.909341075739691, 2.933431133287089, 4.7649485096112905, 2.8776246745242045, 2.6297672146782167, 2.1313201705725895, 1.75138997020866, 1.4391985661474638, 1.182671280397871, 0.9718863651760827, 0.8098026802042645, 0.5984215821698514, 0.6692181075391919, 0.2782658604719968, 0.5068226707852197, 0.09469451967594071, 2.033802321214192, 7.35455826018825, 2.7276722504968345, 4.430721988741147, 2.6757802093854273, 2.44530814967733, 1.9818235445263723, 1.6285426875467413, 1.338249242427698, 1.0997154821173427, 0.9037155973579786, 0.7530009053582088, 0.5564466556792915, 0.6222773191266908, 0.2587475319454879, 0.47127274246742623, 0.08805238707095672, 1.890809274458383, 6.837472267022712, 2.5358944353269908, 4.119205756367191, 2.4876508319145176, 2.2733828553987694, 1.8424850336945833, 1.5140427293968384, 1.2441593033528198, 1.0223964301562791, 0.8401769508931567, 0.70005874252167, 0.5173238747567289, 0.578526100603231, 0.24055545027289815, 0.43813838885032974, 0.0818615793557403, 1.7296067007680507, 6.2545376781832, 2.319694570484038, 3.7680193207724995, 2.275564017043997, 2.079563641465236, 1.6854023847835427, 1.3849617121028974, 1.1380874300599961, 0.9352311416740706, 0.7685469411037933, 0.6403746313036113, 0.47321898212226277, 0.5292033594764257, 0.22004668811319492, 0.400784523037798, 0.07488239988123684, 1.551747069050122, 5.611368472424698, 2.0811547788532825, 3.380544799309883, 2.0415622767395165, 1.8657170928592688, 1.512088389572374, 1.2425427564243214, 1.0210551526738203, 0.8390590660481938, 0.6895154041411065, 0.5745233623217165, 0.42455673200214955, 0.4747841007058794, 0.19741875605720594, 0.3595708831773059, 0.06718206196099336, 1.3589432647860062, 4.91415872079071, 1.8225723290272429, 2.9605137834361455, 1.78789917567857, 1.6339026687443585, 1.3242121565780278, 1.0881574347584155, 0.8941895560018722, 0.7348063929399307, 0.6038434569090794, 0.5031391192942466, 0.3718057684665379, 0.41579241150214485, 0.1728895734603163, 0.3148943791503772, 0.0588347240586147, 1.1690933974455207, 4.2276308830158795, 1.5679516072867001, 2.546918040619363, 1.5381224336199597, 1.4056398612038032, 1.13921436544759, 0.9361374424690541, 0.7692676604502313, 0.6321509695418432, 0.5194840850653539, 0.43284855049197707, 0.31986299966307724, 0.3577045308596125, 0.14873620117721154, 0.2709023614870219, 0.050615275280301665, 0.8533930871049049, 3.086007480907941, 1.144544195953214, 1.8591519326313017, 1.1227700497157367, 1.0260628818291853, 0.8315825462087414, 0.6833442253020546, 0.5615357207525269, 0.4614458251089487, 0.37920334510865983, 0.31596274648402944, 0.23348765233774146, 0.26111051052781403, 0.10857168996439541, 0.1977482749270182, 0.03694719867591594, 0.8808186047906327, 3.1851825902740707, 1.1813264450275531, 1.9188995506742474, 1.1588525424389278, 1.0590374935731586, 0.8583071379271494, 0.7053048779246809, 0.5795818100323352, 0.476275322592299, 0.39138981369495424, 0.32611685017043957, 0.2409912515997315, 0.2695018263617676, 0.11206086142392685, 0.20410331681015734, 0.03813457184079824, 0.2994634704767397, 1.0829083620597346, 0.40163106804265225, 0.6523934846695892, 0.3939903201886196, 0.3600548869716367, 0.2918099514027832, 0.23979176341047284, 0.19704804066749815, 0.16192557721895595, 0.13306593580206588, 0.11087422904310272, 0.08193296118642139, 0.09162607576993466, 0.0380988029590937, 0.06939168547911356, 0.012965111279983088, 0.3333512740347125, 1.2054521427296936, 0.4470803334069409, 0.7262194582208494, 0.43857494532850555, 0.4007993198747832, 0.3248316695230479, 0.2669270135307547, 0.21934633729443945, 0.180249355217894, 0.14812390693136418, 0.1234209483056319, 0.0912046365903973, 0.10199464076230706, 0.042410129306899316, 0.07724416846252799, 0.014432265666005103, -4.732169586018123e-17, -1.7112290882175607e-16, -6.346638279339111e-17, -1.0309226034664572e-16, -6.225897961490913e-17, -5.689644826168255e-17, -4.61122745531307e-17, -3.789227741140572e-17, -3.113784608008222e-17, -2.5587738313928675e-17, -2.10272916872005e-17, -1.752052274408311e-17, -1.2947177376978341e-17, -1.447889882376672e-17, -6.020433688947185e-18, -1.096538496077779e-17, -2.0487675902774907e-18, 0.002886391369998487, 0.012640945740837151, 0.005622867381229405, 0.010844836315170178, 0.00769485745973873, 0.008168987350553346, 0.007595992235139099, 0.007061931445894081, 0.0064598603963806865, 0.005795577359931245, 0.005075479745320812, 0.004366414708311917, 0.0031873143203515635, 0.0032897451304713427, 0.0011184578622621985, 0.0012450244857768202, -1.7674049761775953e-19, 0.012947750662124429, 0.05670465041124655, 0.025223012241194803, 0.04864767752560504, 0.034517528289775015, 0.03664437625347688, 0.034074039478598446, 0.031678353983749734, 0.028977588622887702, 0.025997753242825997, 0.022767545287218312, 0.019586827177454143, 0.014297628357221794, 0.014757111642591723, 0.00501716907734215, 0.005584920595881078, -7.928210702264353e-19, 0.006180788306236337, 0.027068751114917328, 0.012040554624246488, 0.023222643393604015, 0.01647742073360395, 0.017492701098991693, 0.016265715200372975, 0.015122101511912324, 0.013832853719310388, 0.01241038798358446, 0.010868403427368443, 0.009350043535269713, 0.006825171140786388, 0.007044511858045732, 0.0023950152248729565, 0.002666039284434014, -3.784641307719861e-19, 0.013356457527080947, 0.058494581380942365, 0.026019198275886887, 0.0501832832294643, 0.03560710370264037, 0.03780108744816004, 0.03514961578641543, 0.03267830842228824, 0.029892291084273916, 0.026818394642329532, 0.02348622239955373, 0.02020510219209124, 0.014748945270458889, 0.015222932540185946, 0.005175540326377374, 0.005761213408998869, -8.178471479243627e-19, 0.011032475309808857, 0.04831670549877386, 0.021491938410893845, 0.04145154746845581, 0.029411578006869714, 0.03122381537995241, 0.0290336915702862, 0.026992384028791647, 0.024691125073561786, 0.022152077086331573, 0.019399692487202854, 0.01668947702745616, 0.012182674501239676, 0.01257418945494839, 0.004275012348888698, 0.004758780130169055, -6.75544278741481e-19, 0.014096803176606158, 0.061736923802828796, 0.027461436998888814, 0.05296493213168972, 0.03758079801978945, 0.039896393825829754, 0.0370979516439729, 0.034489660229100105, 0.03154921453225496, 0.028304932652909207, 0.02478805879906582, 0.02132506678418441, 0.015566476224600742, 0.016066736509636033, 0.005462419445096302, 0.00608055626429493, -8.631802444220485e-19, 0.01624337278745907, 0.07113782149874168, 0.03164308622770059, 0.0610300879212979, 0.04330335780658949, 0.04597155749919843, 0.04274698672137227, 0.039741521634052535, 0.03635332396847127, 0.032615023920325274, 0.028562623362640864, 0.02457230942032369, 0.017936838099784205, 0.01851327477119023, 0.006294201192750574, 0.007006463871182522, -9.946197245759485e-19, 0.019211614305649573, 0.08413722981431113, 0.037425402716629454, 0.07218245407068988, 0.05121642033371532, 0.05437219494134066, 0.0505583804771, 0.047003710100313394, 0.04299636830041914, 0.038574947969586076, 0.03378202980259433, 0.02906254368223388, 0.021214535918426036, 0.021896308056983074, 0.007444375454501846, 0.008286793838995749, -1.1763720982933626e-18, 0.02292290657223624, 0.10039082752733894, 0.044655227627036546, 0.08612663280100198, 0.061110388726099335, 0.06487579465934039, 0.06032522898293477, 0.05608386874918214, 0.05130239020081364, 0.04602684159007209, 0.04030802933398714, 0.03467683469907433, 0.025312751812242233, 0.026126228430451287, 0.008882477043171343, 0.009887633487354653, -1.403623208042147e-18, 0.027520791845164212, 0.12052725769470987, 0.053612190079358225, 0.10340194539343867, 0.07336793361732842, 0.0778886060972653, 0.072425286235822, 0.06733319236170403, 0.06159264303707575, 0.05525892289003684, 0.04839302910796686, 0.04163232732267303, 0.030389993147586357, 0.03136663721364711, 0.010664127649093354, 0.011870898753142558, -1.6851624821590466e-18, 0.03318310328507967, 0.1453253403191498, 0.06464271997519816, 0.12467655193836846, 0.08846314207577813, 0.09391392789123501, 0.08732654812899335, 0.08118677286697198, 0.07426512460103717, 0.06662826258774765, 0.05834973398302484, 0.05019804027874477, 0.03664263321792528, 0.03782021855410262, 0.012858236464126968, 0.014313296711390555, -2.0318790611924417e-18, 0.04068711698815928, 0.17818915464630308, 0.07926099881219695, 0.15287085752096, 0.10846816163802621, 0.11515158597738304, 0.10707453879077253, 0.09954631720701268, 0.09105941017099693, 0.08169555123689742, 0.07154491948505548, 0.06154980502730627, 0.04492898363614752, 0.046372867649193746, 0.015765992914610352, 0.017550099904141168, -2.491367379304158e-18, 0.044332423917588674, 0.19415376969559167, 0.08636228023962471, 0.16656711416138856, 0.11818621910955052, 0.12546843576598563, 0.11666773651802975, 0.10846503415664327, 0.09921775422330932, 0.08901495307886333, 0.07795488927574473, 0.06706427612724591, 0.04895433484077407, 0.05052758167890277, 0.0171785256147692, 0.019122477244402504, -2.7145780524559266e-18, 0.07319650089918679, 0.32056394219549067, 0.14259127213451375, 0.27501609079966993, 0.19513522900090136, 0.2071587713867565, 0.19262808857063154, 0.17908474810526215, 0.1638167236179576, 0.14697105453088175, 0.12870997384612257, 0.11072867021610558, 0.08082765834895303, 0.08342521908273558, 0.028363167507953178, 0.03157279253253877, -4.4819930267487734e-18, 0.04497367491932536, 0.1969621272882126, 0.0876114765122867, 0.16897644167776646, 0.11989573608828268, 0.12728328713235432, 0.11835528924583937, 0.11003393803466373, 0.10065289984954519, 0.09030251921640355, 0.07908247595882954, 0.0680343343926655, 0.04966243995847201, 0.051258443190719934, 0.017427006202686248, 0.01939907632482849, -2.7538433517922693e-18, 0.12110111500250749, 0.5303621122946953, 0.23591239790135152, 0.45500474517684053, 0.32284458297843754, 0.3427371238966489, 0.3186966046209514, 0.29628960959978595, 0.27102918366979845, 0.24315859854144814, 0.21294626318513252, 0.18319680942650501, 0.13372660480835485, 0.1380241804749984, 0.046925893560769684, 0.05223610872737451, -7.415304643049814e-18, 0.03345891389589101, 0.146533252386187, 0.06518001595766532, 0.12571283584613166, 0.08919842813508955, 0.09469451967594071, 0.08805238707095672, 0.0818615793557403, 0.07488239988123684, 0.06718206196099336, 0.0588347240586147, 0.050615275280301665, 0.03694719867591594, 0.03813457184079824, 0.012965111279983088, 0.014432265666005103, -2.0487675902774907e-18, 869703.110364473, 3.808863185715654e6, 1.6942349888694114e6, 3.2676746378652174e6, 2.318549568885923e6, 2.4614103898557606e6, 2.288760333013441e6, 2.127841639049101e6, 1.946430666904158e6, 1.7462745034096914e6, 1.5293007618366422e6, 1.315651263522884e6, 960374.6764668422, 991238.2645042371, 337004.2925334633, 375140.28035657475, 5.325395651581746e-11, 179701.12016370843, 787000.7280261117, 350068.8012864421, 675178.4439506435, 479066.8789367404, 508585.2849880057, 472911.72208917834, 439662.1347115337, 402178.36063284636, 360821.3890882091, 315989.51032161724, 271844.49840679613, 198435.99853934755, 204813.14181559364, 69633.0140096453, 77512.80614640182, 1.100352008058397e-11, -136453.24247066924, -597596.7265429876, -265819.283596221, -512686.21942609636, -363771.9616420268, -386186.30282471696, -359098.1393030216, -333850.5837821756, -305387.8646382141, -273984.09341579827, -239941.70559884765, -206420.87941147594, -150679.28012319282, -155521.66439409257, -52874.742995289045, -58858.14023886649, -8.355351331249136e-12, 59497.6513237297, 260569.8554631242, 115905.07315303384, 223546.36188621056, 158615.33916849789, 168388.6551571266, 156577.4143318275, 145568.73305788345, 133158.145308628, 119465.17182840384, 104621.68343716621, 90005.61134926189, 65700.62468400024, 67812.04751066877, 23054.952492182412, 25663.890737136604, 3.643180412519543e-12, -11869.312218981933, -51981.6312163117, -23122.148024498878, -44595.73622844357, -31642.509265903558, -33592.208729713086, -31235.95933280373, -29039.814237113416, -26563.999855542446, -23832.359634003154, -20871.200761095413, -17955.40964721505, -13106.756485453583, -13527.968687926168, -4599.281202455955, -5119.7438072891255, -7.267857608528397e-13, -497.5608700394926, -2179.0669229087425, -969.2790850890925, -1869.4506394726327, -1326.4521271415422, -1408.1834139786326, -1309.4095778601989, -1217.347304631164, -1113.561311388802, -999.0511139832323, -874.919508213112, -752.689716232783, -549.4344609006677, -567.0916516516485, -192.80159746666044, -214.61935924646008, -3.0466816343741836e-14, -403.24818143430787, -1766.0246751655905, -785.5521844663203, -1515.0961742403654, -1075.0230579567894, -1141.262175154102, -1061.2109247716364, -986.5990601863646, -902.4857073215906, -809.6809237464382, -709.0784702589916, -610.0173416592904, -445.2891304695001, -459.599399801987, -156.25604471245762, -173.93824862043945, -2.4691829732775816e-14, -331.3590949867934, -1451.186552176795, -645.5078358538445, -1244.9923402717857, -883.3732772395097, -937.8036130420313, -872.023502676881, -810.7130713779354, -741.5950300207749, -665.3350231274335, -582.6674762522546, -501.266474505853, -365.90519207057315, -377.6642975379901, -128.39949179180795, -142.92940005693742, -2.0289892752197015e-14, -272.2860384470531, -1192.4762087957952, -530.4298993760201, -1023.0412786558367, -725.8898692342302, -770.6166346414153, -716.5634762072079, -666.1831646164383, -609.3871449776505, -546.7223940078289, -478.7924075148502, -411.9031727647592, -300.67342862605074, -310.336179073663, -105.50906701383799, -117.44865527432887, -1.6672711271834836e-14, -223.74423354640123, -979.8874627617587, -435.8674868636725, -840.6585518841824, -596.481822414454, -633.2349218466389, -588.8180924946791, -547.4193330614164, -500.74862620092506, -449.25543633307495, -393.43567102533444, -338.4711173999578, -247.07086055308687, -255.0109837602177, -86.69943367587513, -96.5104913394968, -1.3700382972013903e-14, -183.8562209580946, -805.1979843772397, -358.1631924231807, -690.7901134063267, -490.14400058974275, -520.3449396843239, -483.8465224417703, -449.82812857699867, -411.4776439329622, -369.1644046412904, -323.2959103271316, -278.1301647969142, -203.02429256007775, -209.54888997054908, -71.2430885131509, -79.30507946167448, -1.1257946624982955e-14, -153.1810655547767, -670.8561972323822, -298.40610870810923, -575.5364985468955, -408.3668199768482, -433.52893854512496, -403.1200330691907, -374.77737599991747, -342.82540792561144, -307.57184376555045, -269.35619461415456, -231.72604540929578, -169.15107525758273, -174.58708812918275, -59.356665523681606, -66.07356831626801, -9.379635081081905e-15, -113.18226696637717, -495.68153176250286, -220.48599634607908, -425.25181158329775, -301.7336527294371, -320.32541282015103, -297.85691225666744, -276.9151191745202, -253.30648211752003, -227.25836516631963, -199.02162592650816, -171.21750028040526, -124.98217118490655, -128.99872674180776, -43.85739150726123, -48.820369681517775, -6.93041504803075e-15, -126.54872494170726, -554.219910088314, -246.5246761083792, -475.47266879717307, -337.36741671959453, -358.15480326841583, -333.03284579334985, -309.617894992567, -283.2211546086476, -254.096839681415, -222.52543328458842, -191.43773074123334, -139.74215950803173, -144.23305722555475, -49.03680694222113, -54.585896713079535, -7.748874546802031e-15, -52.60536188519707, -230.38508643691915, -102.47847069408272, -197.65044507652937, -140.24112098311056, -148.88228265859914, -138.43927215138834, -128.70585159763203, -117.73292333521522, -105.62616266171766, -92.5021643006538, -79.57923802679468, -58.08977431361044, -59.956607027480345, -20.384235211206903, -22.6909504757338, -3.2211494025347383e-15, -95.77418277305298, -419.44285878592336, -186.5739808800721, -359.84563499907347, -255.32528000940962, -271.057520374676, -252.04480453781449, -234.3239797831659, -214.3464870086882, -192.30472039060805, -168.41095419071283, -144.88326312347297, -105.7591937966056, -109.15797998754712, -37.1118722283022, -41.311515789966535, -5.864477318698645e-15, -17.883572762880902, -78.32107429977839, -34.83829635629016, -67.19269651363346, -47.67598209708705, -50.61360742730843, -47.06343057125326, -43.754483945532904, -40.0241577207831, -35.90837697775197, -31.4467789349095, -27.053536800538065, -19.748038384070338, -20.382681650045345, -6.929768003703791, -7.7139525202259165, -1.095053007069044e-15, -869703.110364473, -179701.12016370843, 136453.24247066924, -59497.6513237297, 11869.312218981933, 497.5608700394926, 403.24818143430787, 331.3590949867934, 272.2860384470531, 223.74423354640123, 183.8562209580946, 153.1810655547767, 113.18226696637717, 126.54872494170726, 52.60536188519707, 95.77418277305298, 17.883572762880902, -3.808863185715654e6, -787000.7280261117, 597596.7265429876, -260569.8554631242, 51981.6312163117, 2179.0669229087425, 1766.0246751655905, 1451.1865521767947, 1192.476208795795, 979.8874627617583, 805.1979843772394, 670.8561972323822, 495.68153176250274, 554.2199100883139, 230.3850864369191, 419.44285878592325, 78.32107429977837, -1.6942349888694114e6, -350068.8012864421, 265819.283596221, -115905.07315303384, 23122.148024498878, 969.2790850890925, 785.5521844663203, 645.5078358538445, 530.4298993760201, 435.8674868636725, 358.1631924231807, 298.40610870810923, 220.48599634607908, 246.5246761083792, 102.47847069408272, 186.5739808800721, 34.83829635629016, -3.2676746378652174e6, -675178.4439506435, 512686.21942609636, -223546.36188621056, 44595.73622844357, 1869.4506394726327, 1515.0961742403654, 1244.9923402717857, 1023.0412786558367, 840.6585518841824, 690.7901134063267, 575.5364985468955, 425.25181158329775, 475.47266879717307, 197.65044507652937, 359.84563499907347, 67.19269651363346, -2.318549568885923e6, -479066.8789367404, 363771.9616420268, -158615.33916849789, 31642.509265903558, 1326.4521271415422, 1075.0230579567894, 883.3732772395097, 725.8898692342302, 596.481822414454, 490.14400058974275, 408.3668199768482, 301.7336527294371, 337.36741671959453, 140.24112098311056, 255.32528000940962, 47.67598209708705, -2.46141038985576e6, -508585.2849880056, 386186.3028247169, -168388.65515712654, 33592.20872971308, 1408.1834139786326, 1141.262175154102, 937.8036130420313, 770.6166346414153, 633.2349218466389, 520.3449396843239, 433.52893854512496, 320.32541282015103, 358.15480326841583, 148.88228265859914, 271.057520374676, 50.61360742730843, -2.2887603330134414e6, -472911.7220891784, 359098.13930302166, -156577.41433182752, 31235.959332803737, 1309.409577860199, 1061.2109247716367, 872.0235026768812, 716.563476207208, 588.8180924946791, 483.8465224417704, 403.12003306919075, 297.8569122566675, 333.03284579334996, 138.43927215138837, 252.04480453781454, 47.06343057125328, -2.127841639049101e6, -439662.1347115337, 333850.5837821756, -145568.73305788345, 29039.814237113416, 1217.347304631164, 986.5990601863646, 810.7130713779354, 666.1831646164383, 547.4193330614164, 449.82812857699867, 374.77737599991747, 276.9151191745202, 309.617894992567, 128.70585159763203, 234.3239797831659, 43.754483945532904, -1.9464306669041577e6, -402178.3606328463, 305387.86463821406, -133158.145308628, 26563.999855542443, 1113.5613113888019, 902.4857073215904, 741.5950300207747, 609.3871449776505, 500.748626200925, 411.4776439329621, 342.8254079256114, 253.30648211752003, 283.22115460864757, 117.73292333521519, 214.34648700868814, 40.0241577207831, -1.7462745034096912e6, -360821.389088209, 273984.0934157982, -119465.17182840382, 23832.35963400315, 999.0511139832323, 809.6809237464382, 665.3350231274334, 546.7223940078288, 449.25543633307495, 369.1644046412904, 307.5718437655504, 227.2583651663196, 254.096839681415, 105.62616266171766, 192.30472039060803, 35.90837697775196, -1.529300761836641e6, -315989.510321617, 239941.70559884747, -104621.68343716614, 20871.2007610954, 874.9195082131114, 709.0784702589913, 582.6674762522542, 478.7924075148499, 393.4356710253343, 323.2959103271314, 269.35619461415445, 199.02162592650808, 222.52543328458833, 92.50216430065377, 168.41095419071274, 31.44677893490948, -1.3156512635228839e6, -271844.4984067961, 206420.8794114759, -90005.61134926186, 17955.40964721504, 752.6897162327829, 610.0173416592903, 501.2664745058529, 411.9031727647591, 338.47111739995773, 278.13016479691413, 231.72604540929572, 171.21750028040523, 191.43773074123325, 79.57923802679467, 144.88326312347294, 27.053536800538065, -960374.6764668418, -198435.9985393475, 150679.28012319276, -65700.62468400021, 13106.75648545358, 549.4344609006677, 445.28913046949987, 365.905192070573, 300.6734286260506, 247.07086055308676, 203.0242925600777, 169.15107525758268, 124.98217118490648, 139.7421595080317, 58.089774313610434, 105.75919379660554, 19.748038384070327, -991238.2645042364, -204813.1418155935, 155521.66439409246, -67812.04751066872, 13527.968687926159, 567.0916516516482, 459.59939980198675, 377.66429753798985, 310.33617907366295, 255.01098376021756, 209.54888997054897, 174.58708812918266, 128.9987267418077, 144.23305722555466, 59.956607027480324, 109.15797998754708, 20.382681650045335, -337004.29253346304, -69633.01400964524, 52874.742995289, -23054.952492182394, 4599.281202455952, 192.80159746666033, 156.2560447124575, 128.39949179180786, 105.5090670138379, 86.69943367587506, 71.24308851315085, 59.35666552368156, 43.85739150726119, 49.0368069422211, 20.38423521120689, 37.111872228302175, 6.929768003703786, -375140.2803565743, -77512.80614640172, 58858.140238866414, -25663.89073713657, 5119.743807289119, 214.61935924645982, 173.93824862043923, 142.92940005693728, 117.44865527432871, 96.51049133949668, 79.30507946167437, 66.07356831626791, 48.82036968151771, 54.585896713079464, 22.690950475733768, 41.311515789966485, 7.713952520225908, 5.325395651581746e-11, 1.100352008058397e-11, -8.355351331249136e-12, 3.643180412519543e-12, -7.267857608528397e-13, -3.0466816343741836e-14, -2.4691829732775816e-14, -2.0289892752197015e-14, -1.6672711271834836e-14, -1.3700382972013903e-14, -1.1257946624982955e-14, -9.379635081081905e-15, -6.93041504803075e-15, -7.748874546802031e-15, -3.2211494025347383e-15, -5.864477318698645e-15, -1.095053007069044e-15, 0.772821941691734, 3.384572284200927, 1.5055045315767772, 2.90366980220816, 2.060273164924106, 2.1872199077123624, 2.033802321214192, 1.890809274458383, 1.7296067007680507, 1.551747069050122, 1.3589432647860062, 1.1690933974455207, 0.8533930871049049, 0.8808186047906327, 0.2994634704767397, 0.3333512740347125, -4.732169586018123e-17, 4.1387874337826185, 18.12581201811594, 8.062611709953469, 15.55037640743752, 11.033631714029061, 11.71348506118111, 10.891869181939985, 10.126081109546853, 9.262773340589778, 8.310260000815848, 7.277714314383843, 6.2609882059945425, 4.570279898180735, 4.717155112042027, 1.6037531824897966, 1.785236662652394, -2.5342763915665857e-16, 2.2732874165424106, 9.955858094827775, 4.428503284584822, 8.54126373366736, 6.060377957449589, 6.433797004429366, 5.982512885736845, 5.561892977959042, 5.087709000363517, 4.564527603869843, 3.997387311326297, 3.4389361453143414, 2.510290743082575, 2.5909640274236594, 0.8808840722853579, 0.980566435384372, -1.3919870791053094e-16, 5.468672116359305, 23.95003956007646, 10.653308619659446, 20.547059064718255, 14.57898359412523, 15.47728898000633, 14.39166959968037, 13.37981674530234, 12.239108941515216, 10.980531828043784, 9.616206190499005, 8.272783314141854, 6.03881273030152, 6.2328822251664615, 2.119074837962576, 2.358873006731533, -3.3485959014429026e-16, 4.891052772724674, 21.42035669806486, 9.528070718850444, 18.37681032461171, 13.03910284148195, 13.842526223773204, 12.871573574338832, 11.966595984954704, 10.946373534628684, 9.820731523267726, 8.600510498779757, 7.398984416297639, 5.400973238119383, 5.574544467252128, 1.895251103247341, 2.1097209916034423, -2.994906061289029e-16, 6.619557280711992, 28.990339038426264, 12.895303491679503, 24.87119935792082, 17.64713900238733, 18.734493268814028, 17.420404671031545, 16.195606806634, 14.81483639526931, 13.291391010804809, 11.639942265092843, 10.013795278576248, 7.309684311872041, 7.544595842562339, 2.5650353456091395, 2.8552991756945882, -4.053309817798249e-16, 7.945150325983376, 34.79577136263511, 15.477640028753106, 29.851757346667743, 21.181049766882733, 22.48615111097599, 20.90891097114604, 19.438842394213168, 17.78156713867185, 15.95304567119176, 13.97088765307624, 12.019098173488933, 8.77347807874231, 9.055431590962773, 3.0786940195694372, 3.427084352400961, -4.865001457730045e-16, 9.66886717438169, 42.344786156557994, 18.835546147125235, 36.32815804162635, 25.776322461791764, 27.36456825040532, 25.44514258966661, 23.65613958476286, 21.639315023896522, 19.41409203009719, 17.001900717225766, 14.626666460327115, 10.676902351776391, 11.020026263490752, 3.746623075013476, 4.170597413418421, -5.920473618243726e-16, 11.76654837974478, 51.53157716978866, 22.921957764223535, 44.20962884632304, 31.368550196054407, 33.30136927129859, 30.96552014946495, 28.7883891547934, 26.33401023522686, 23.626020401460764, 20.690499075932085, 17.799952717918597, 12.99327892318694, 13.410844294043585, 4.559460883858234, 5.075417352660495, -7.204932905133459e-16, 14.319326301110419, 62.711463420767515, 27.894925690460436, 53.80100269601871, 38.17402447631011, 40.52617279765431, 37.683556196232274, 35.034091960260696, 32.04723026712904, 28.751736227726834, 25.179347251153818, 21.66169065781228, 15.812198668450133, 16.320355742586955, 5.548645706969125, 6.1765400388928695, -8.768058560300692e-16, 17.425935147628493, 76.31685119839943, 33.94679021960581, 65.47324672568604, 46.455961744274035, 49.31841373701679, 45.85908530882731, 42.634814070003635, 38.99994626512569, 34.98948765817533, 30.642061157877148, 26.361241349863974, 19.242689407563965, 19.861092259242135, 6.75243640752241, 7.516553774330247, -1.0670307850346296e-15, 21.501555764853357, 94.1660242586015, 41.88634909753849, 80.78629087345858, 57.3211964575881, 60.853125770119135, 56.584721091832414, 52.60634935710145, 48.12134972050579, 43.17291518029607, 37.80870186618398, 32.52667338154278, 23.7432169841856, 24.50625341740176, 8.331712859882177, 9.27454387779444, -1.3165905722057991e-15, 23.528282412626314, 103.04206991626995, 45.83453688554347, 88.40116908406758, 62.72426578026115, 66.58911310737874, 61.91837058900403, 57.56499938457395, 52.65724576784078, 47.24237408898471, 41.37253252234306, 35.592622488980766, 25.981241576078787, 26.816201468663806, 9.117056239653706, 10.14875807088047, -1.4406917873028891e-15, 38.959793773137406, 170.62434577632945, 75.89606727050105, 146.38090687704732, 103.86327469696741, 110.26296219597322, 102.5288164520557, 95.32019657203026, 87.19359109169633, 78.227263664284, 68.50756492441234, 58.936781176668845, 43.02157701196621, 44.404162644587494, 15.096666415581135, 16.80503126240874, -2.3855993369856852e-15, 23.984790479760214, 105.04134616372389, 46.72384259322947, 90.11637489991105, 63.94127486029383, 67.88110998091578, 63.11974326814601, 58.68190567389633, 53.6789292492143, 48.15899539197474, 42.17526408272562, 36.283209205499915, 26.48534324255953, 27.33650346460395, 9.293950143293769, 10.345669594190854, -1.4686448444629128e-15, 64.66978438159032, 283.2212027573203, 125.98070550307031, 242.97925549717246, 172.40377654283117, 183.02668725637872, 170.18869482378526, 158.22302847440332, 144.73358786730734, 129.850283689622, 113.71645029662, 97.82980251471727, 71.41198244838111, 73.70695134044833, 25.059120375775212, 27.894853720072454, -3.959882222223204e-15, 17.883572762880902, 78.32107429977837, 34.83829635629016, 67.19269651363346, 47.67598209708705, 50.61360742730843, 47.06343057125328, 43.754483945532904, 40.0241577207831, 35.90837697775196, 31.44677893490948, 27.053536800538065, 19.748038384070327, 20.382681650045335, 6.929768003703786, 7.713952520225908, -1.095053007069044e-15, -0.772821941691734, -4.1387874337826185, -2.2732874165424106, -5.468672116359305, -4.891052772724674, -6.619557280711992, -7.945150325983376, -9.66886717438169, -11.76654837974478, -14.319326301110419, -17.425935147628493, -21.501555764853357, -23.528282412626314, -38.959793773137406, -23.984790479760214, -64.66978438159032, -17.883572762880902, -3.3845722842009276, -18.125812018115948, -9.955858094827779, -23.950039560076466, -21.42035669806486, -28.990339038426274, -34.795771362635115, -42.344786156557994, -51.53157716978867, -62.71146342076754, -76.31685119839945, -94.1660242586015, -103.04206991626997, -170.6243457763295, -105.0413461637239, -283.2212027573204, -78.32107429977839, -1.5055045315767772, -8.062611709953469, -4.428503284584822, -10.653308619659446, -9.528070718850444, -12.895303491679503, -15.477640028753106, -18.835546147125235, -22.921957764223535, -27.894925690460436, -33.94679021960581, -41.88634909753849, -45.83453688554347, -75.89606727050105, -46.72384259322947, -125.98070550307031, -34.83829635629016, -2.90366980220816, -15.55037640743752, -8.54126373366736, -20.547059064718255, -18.37681032461171, -24.87119935792082, -29.851757346667743, -36.32815804162635, -44.20962884632304, -53.80100269601871, -65.47324672568604, -80.78629087345858, -88.40116908406758, -146.38090687704732, -90.11637489991105, -242.97925549717246, -67.19269651363346, -2.060273164924106, -11.033631714029061, -6.060377957449589, -14.57898359412523, -13.03910284148195, -17.64713900238733, -21.181049766882733, -25.776322461791764, -31.368550196054407, -38.17402447631011, -46.455961744274035, -57.3211964575881, -62.72426578026115, -103.86327469696741, -63.94127486029383, -172.40377654283117, -47.67598209708705, -2.1872199077123624, -11.71348506118111, -6.433797004429366, -15.47728898000633, -13.842526223773204, -18.734493268814028, -22.48615111097599, -27.36456825040532, -33.30136927129859, -40.52617279765431, -49.31841373701679, -60.853125770119135, -66.58911310737874, -110.26296219597322, -67.88110998091578, -183.02668725637872, -50.61360742730843, -2.0338023212141914, -10.891869181939983, -5.982512885736843, -14.391669599680366, -12.871573574338829, -17.42040467103154, -20.908910971146035, -25.445142589666602, -30.965520149464947, -37.68355619623227, -45.859085308827304, -56.5847210918324, -61.91837058900401, -102.52881645205566, -63.119743268146, -170.18869482378523, -47.06343057125326, -1.890809274458383, -10.126081109546853, -5.561892977959042, -13.37981674530234, -11.966595984954704, -16.195606806634, -19.438842394213168, -23.65613958476286, -28.7883891547934, -35.034091960260696, -42.634814070003635, -52.60634935710145, -57.56499938457395, -95.32019657203026, -58.68190567389633, -158.22302847440332, -43.754483945532904, -1.729606700768051, -9.26277334058978, -5.087709000363517, -12.239108941515218, -10.946373534628686, -14.814836395269312, -17.781567138671853, -21.639315023896522, -26.334010235226863, -32.04723026712904, -38.9999462651257, -48.1213497205058, -52.65724576784079, -87.19359109169635, -53.678929249214306, -144.73358786730736, -40.0241577207831, -1.5517470690501225, -8.31026000081585, -4.564527603869843, -10.980531828043786, -9.820731523267728, -13.291391010804809, -15.953045671191763, -19.414092030097194, -23.626020401460764, -28.751736227726838, -34.989487658175335, -43.17291518029608, -47.24237408898471, -78.22726366428401, -48.15899539197474, -129.850283689622, -35.90837697775197, -1.3589432647860067, -7.277714314383847, -3.997387311326299, -9.616206190499009, -8.60051049877976, -11.63994226509285, -13.970887653076243, -17.001900717225773, -20.690499075932095, -25.179347251153835, -30.64206115787716, -37.808701866183995, -41.37253252234308, -68.50756492441238, -42.17526408272565, -113.71645029662005, -31.4467789349095, -1.1690933974455209, -6.260988205994544, -3.4389361453143428, -8.272783314141854, -7.39898441629764, -10.013795278576248, -12.019098173488933, -14.626666460327119, -17.7999527179186, -21.66169065781228, -26.36124134986398, -32.52667338154278, -35.59262248898077, -58.93678117666885, -36.28320920549992, -97.82980251471731, -27.053536800538065, -0.8533930871049052, -4.570279898180737, -2.510290743082576, -6.0388127303015215, -5.400973238119386, -7.309684311872043, -8.773478078742313, -10.676902351776395, -12.993278923186946, -15.812198668450137, -19.242689407563972, -23.743216984185604, -25.981241576078798, -43.021577011966215, -26.485343242559537, -71.41198244838115, -19.748038384070338, -0.880818604790633, -4.71715511204203, -2.5909640274236607, -6.232882225166464, -5.57454446725213, -7.544595842562343, -9.055431590962778, -11.02002626349076, -13.410844294043592, -16.320355742586962, -19.861092259242145, -24.50625341740177, -26.816201468663824, -44.404162644587515, -27.33650346460396, -73.70695134044837, -20.382681650045345, -0.29946347047674, -1.6037531824897977, -0.8808840722853586, -2.1190748379625775, -1.8952511032473425, -2.5650353456091413, -3.0786940195694394, -3.7466230750134786, -4.559460883858238, -5.548645706969129, -6.752436407522414, -8.331712859882185, -9.117056239653712, -15.096666415581147, -9.293950143293776, -25.05912037577523, -6.929768003703791, -0.33335127403471293, -1.785236662652396, -0.9805664353843734, -2.3588730067315358, -2.109720991603445, -2.8552991756945922, -3.4270843524009655, -4.170597413418426, -5.0754173526605015, -6.1765400388928775, -7.516553774330257, -9.274543877794452, -10.148758070880483, -16.80503126240876, -10.345669594190868, -27.894853720072494, -7.7139525202259165, -4.732169586018123e-17, -2.5342763915665857e-16, -1.3919870791053094e-16, -3.3485959014429026e-16, -2.994906061289029e-16, -4.053309817798249e-16, -4.865001457730045e-16, -5.920473618243726e-16, -7.204932905133459e-16, -8.768058560300692e-16, -1.0670307850346296e-15, -1.3165905722057991e-15, -1.4406917873028891e-15, -2.3855993369856852e-15, -1.4686448444629128e-15, -3.959882222223204e-15, -1.095053007069044e-15, 1.7398200589867376e6, 3.9900608094679583e6, 1.5583367710551827e6, 3.328073845782652e6, 2.3072247174014035e6, 2.46141038985576e6, 2.288760333013441e6, 2.1278416390491e6, 1.9464306669041575e6, 1.7462745034096916e6, 1.5293007618366408e6, 1.3156512635228832e6, 960374.6764668425, 991238.264504236, 337004.2925334633, 375140.2803565721, -1.5976186954745234e-10, 3.3261795126154567e6, 1.442239554028724e6, -141360.31821551707, 893591.3859515142, 438114.45231157704, 508585.28498800553, 472911.72208917834, 439662.1347115335, 402178.36063284625, 360821.38908820914, 315989.51032161695, 271844.49840679596, 198435.99853934764, 204813.14181559344, 69633.01400964528, 77512.80614640129, -3.301056024175191e-11, 1.0305156188651823e6, -354581.1353609058, -448080.9769827824, -431681.0223654024, -378960.4360909068, -386186.30282471684, -359098.1393030216, -333850.58378217544, -305387.86463821406, -273984.0934157983, -239941.70559884745, -206420.87941147582, -150679.28012319288, -155521.6643940924, -52874.74299528904, -58858.14023886608, 2.5066053993747407e-11, 1.955068342421642e6, 655313.2349884941, -180152.46149099356, 355127.48839466716, 133943.87794816223, 168388.65515712654, 156577.4143318275, 145568.73305788336, 133158.14530862798, 119465.17182840387, 104621.68343716612, 90005.61134926183, 65700.62468400026, 67812.0475106687, 23054.95249218241, 25663.890737136422, -1.0929541237558627e-11, 1.1328883412745472e6, 186408.58393089354, -201914.80938490282, 34867.668820624844, -46541.89771260388, -33592.20872971307, -31235.95933280373, -29039.8142371134, -26563.99985554244, -23832.359634003158, -20871.200761095395, -17955.409647215034, -13106.756485453589, -13527.968687926155, -4599.281202455954, -5119.743807289089, 2.180357282558519e-12, 1.0456506331195474e6, 215676.20775462163, -164360.7350932369, 70748.9742530375, -14942.40679448719, -1408.1834139786322, -1309.4095778601989, -1217.3473046311633, -1113.5613113888016, -999.0511139832325, -874.9195082131113, -752.6897162327828, -549.434460900668, -567.0916516516479, -192.80159746666038, -214.61935924645857, 9.140044903122552e-14, 847447.5016245194, 174794.77143931363, -133206.14927032575, 57338.50253058604, -12110.07281511174, -1141.2621751541014, -1061.2109247716364, -986.599060186364, -902.4857073215904, -809.6809237464383, -709.078470258991, -610.0173416592902, -445.2891304695002, -459.5993998019865, -156.25604471245762, -173.93824862043823, 7.407548919832743e-14, 696368.762751298, 143633.22623437532, -109458.81742576795, 47116.478588578924, -9951.149076399019, -937.8036130420312, -872.023502676881, -810.713071377935, -741.5950300207746, -665.3350231274335, -582.667476252254, -501.2664745058527, -365.90519207057326, -377.66429753798974, -128.39949179180795, -142.92940005693646, 6.086967825659105e-14, 572223.592400214, 118027.00681050002, -89945.04216384787, 38716.786394442766, -8177.107557940219, -770.6166346414151, -716.5634762072079, -666.1831646164378, -609.3871449776505, -546.722394007829, -478.79240751484974, -411.903172764759, -300.67342862605085, -310.3361790736628, -105.50906701383798, -117.44865527432805, 5.0018133815504505e-14, 470210.40751470765, 96985.73723135018, -73910.08600744764, 31814.549679486467, -6719.33336579645, -633.2349218466388, -588.8180924946791, -547.4193330614162, -500.748626200925, -449.255436333075, -393.4356710253341, -338.4711173999577, -247.07086055308693, -255.0109837602174, -86.69943367587511, -96.51049133949611, 4.110114891604171e-14, 386383.6274595705, 79695.60087229176, -60733.76233492494, 26142.809505483343, -5521.443929131556, -520.3449396843239, -483.8465224417703, -449.82812857699844, -411.4776439329621, -369.16440464129045, -323.29591032713137, -278.1301647969141, -203.0242925600778, -209.54888997054886, -71.2430885131509, -79.30507946167393, 3.377383987494886e-14, 321918.15680072614, 66398.93389535246, -50600.74867814674, 21781.060198981384, -4600.2287007634, -433.52893854512484, -403.1200330691907, -374.7773759999173, -342.82540792561133, -307.5718437655505, -269.3561946141544, -231.72604540929566, -169.1510752575828, -174.58708812918255, -59.3566655236816, -66.07356831626754, 2.8138905243245717e-14, 237858.55407380464, 49060.77546339581, -37387.82874271481, 16093.567186802804, -3399.0122149268313, -320.32541282015103, -297.85691225666744, -276.9151191745201, -253.30648211752, -227.25836516631966, -199.02162592650802, -171.21750028040523, -124.98217118490656, -128.99872674180764, -43.85739150726122, -48.820369681517434, 2.079124514409225e-14, 265948.87645659246, 54854.69363666755, -41803.20983617528, 17994.165180121447, -3800.424513391836, -358.1548032684157, -333.03284579334985, -309.6178949925668, -283.22115460864757, -254.09683968141505, -222.52543328458827, -191.43773074123322, -139.7421595080318, -144.2330572255546, -49.03680694222112, -54.58589671307915, 2.324662364040609e-14, 110552.96602478647, 22802.68735372675, -17377.282800816833, 7480.040368311359, -1579.8081484933398, -148.8822826585991, -138.43927215138834, -128.70585159763195, -117.73292333521518, -105.62616266171767, -92.50216430065373, -79.57923802679466, -58.08977431361047, -59.95660702748029, -20.3842352112069, -22.690950475733636, 9.663448207604214e-15, 201274.53922411794, 41514.94577869547, -31637.365458991117, 13618.283910828057, -2876.224569851997, -271.05752037467596, -252.04480453781449, -234.32397978316575, -214.34648700868814, -192.3047203906081, -168.4109541907127, -144.88326312347291, -105.75919379660562, -109.15797998754702, -37.1118722283022, -41.31151578996624, 1.7593431956095938e-14, 37583.279369339565, 7751.938279020715, -5907.532811346659, 2542.893754593197, -537.0671916796178, -50.61360742730843, -47.06343057125326, -43.754483945532876, -40.0241577207831, -35.90837697775197, -31.446778934909474, -27.053536800538055, -19.748038384070345, -20.382681650045324, -6.929768003703789, -7.713952520225863, 3.285159021207132e-15, -869703.110364473, -179701.12016370843, 136453.24247066924, -59497.6513237297, 11869.312218981933, 497.5608700394926, 403.24818143430787, 331.3590949867934, 272.2860384470531, 223.74423354640123, 183.8562209580946, 153.1810655547767, 113.18226696637717, 126.54872494170726, 52.60536188519707, 95.77418277305298, 17.883572762880902, -3.808863185715654e6, -787000.7280261117, 597596.7265429876, -260569.8554631242, 51981.6312163117, 2179.0669229087425, 1766.0246751655905, 1451.186552176795, 1192.4762087957952, 979.8874627617587, 805.1979843772397, 670.8561972323822, 495.68153176250286, 554.219910088314, 230.38508643691915, 419.44285878592336, 78.32107429977839, -1.6942349888694114e6, -350068.8012864421, 265819.283596221, -115905.07315303384, 23122.148024498878, 969.2790850890925, 785.5521844663203, 645.5078358538445, 530.4298993760201, 435.8674868636725, 358.1631924231807, 298.40610870810923, 220.48599634607908, 246.5246761083792, 102.47847069408272, 186.5739808800721, 34.83829635629016, -3.2676746378652183e6, -675178.4439506438, 512686.2194260965, -223546.3618862106, 44595.73622844359, 1869.4506394726327, 1515.0961742403654, 1244.9923402717857, 1023.0412786558367, 840.6585518841824, 690.7901134063267, 575.5364985468955, 425.25181158329775, 475.47266879717307, 197.65044507652937, 359.84563499907347, 67.19269651363346, -2.3185495688859234e6, -479066.8789367405, 363771.96164202684, -158615.33916849794, 31642.509265903565, 1326.4521271415422, 1075.0230579567894, 883.3732772395097, 725.8898692342302, 596.481822414454, 490.14400058974275, 408.3668199768482, 301.7336527294371, 337.36741671959453, 140.24112098311056, 255.32528000940962, 47.67598209708705, -2.4614103898557606e6, -508585.2849880057, 386186.30282471696, -168388.6551571266, 33592.208729713086, 1408.1834139786326, 1141.262175154102, 937.8036130420313, 770.6166346414153, 633.2349218466389, 520.3449396843239, 433.52893854512496, 320.32541282015103, 358.15480326841583, 148.88228265859914, 271.057520374676, 50.61360742730843, -2.288760333013442e6, -472911.7220891784, 359098.13930302166, -156577.41433182752, 31235.959332803737, 1309.409577860199, 1061.2109247716367, 872.0235026768812, 716.563476207208, 588.8180924946791, 483.8465224417704, 403.12003306919075, 297.8569122566675, 333.03284579334996, 138.43927215138837, 252.04480453781454, 47.06343057125328, -2.1278416390491016e6, -439662.13471153384, 333850.58378217573, -145568.73305788348, 29039.814237113424, 1217.3473046311642, 986.5990601863647, 810.7130713779356, 666.1831646164384, 547.4193330614166, 449.8281285769988, 374.7773759999176, 276.91511917452027, 309.6178949925671, 128.70585159763206, 234.32397978316595, 43.754483945532904, -1.9464306669041584e6, -402178.3606328464, 305387.8646382142, -133158.14530862804, 26563.99985554245, 1113.5613113888023, 902.4857073215908, 741.5950300207749, 609.3871449776506, 500.7486262009252, 411.47764393296234, 342.82540792561144, 253.3064821175201, 283.2211546086477, 117.73292333521522, 214.34648700868823, 40.024157720783116, -1.7462745034096926e6, -360821.3890882093, 273984.09341579844, -119465.17182840392, 23832.35963400317, 999.0511139832332, 809.6809237464389, 665.3350231274339, 546.7223940078293, 449.2554363330753, 369.1644046412907, 307.5718437655506, 227.25836516631978, 254.0968396814152, 105.62616266171773, 192.30472039060817, 35.908376977752, -1.529300761836642e6, -315989.5103216172, 239941.70559884762, -104621.6834371662, 20871.20076109541, 874.9195082131118, 709.0784702589915, 582.6674762522543, 478.7924075148501, 393.4356710253344, 323.29591032713154, 269.35619461415456, 199.0216259265081, 222.52543328458842, 92.50216430065379, 168.4109541907128, 31.446778934909492, -1.3156512635228843e6, -271844.4984067962, 206420.879411476, -90005.6113492619, 17955.409647215052, 752.6897162327833, 610.0173416592908, 501.2664745058531, 411.90317276475935, 338.47111739995796, 278.1301647969143, 231.72604540929584, 171.21750028040535, 191.43773074123337, 79.57923802679471, 144.88326312347303, 27.053536800538076, -960374.6764668435, -198435.9985393478, 150679.28012319302, -65700.62468400033, 13106.756485453601, 549.4344609006685, 445.2891304695007, 365.9051920705736, 300.67342862605113, 247.0708605530872, 203.024292560078, 169.15107525758296, 124.98217118490668, 139.74215950803193, 58.08977431361053, 105.75919379660571, 19.748038384070362, -991238.2645042374, -204813.1418155937, 155521.66439409263, -67812.0475106688, 13527.968687926174, 567.0916516516487, 459.5993998019872, 377.6642975379903, 310.3361790736632, 255.01098376021778, 209.54888997054914, 174.5870881291828, 128.99872674180781, 144.23305722555477, 59.95660702748037, 109.15797998754717, 20.382681650045356, -337004.29253346386, -69633.01400964541, 52874.74299528913, -23054.952492182452, 4599.2812024559635, 192.80159746666075, 156.2560447124579, 128.39949179180817, 105.50906701383815, 86.69943367587527, 71.24308851315101, 59.356665523681706, 43.8573915072613, 49.03680694222122, 20.384235211206935, 37.11187222830226, 6.929768003703803, -375140.2803565735, -77512.80614640158, 58858.1402388663, -25663.89073713652, 5119.743807289108, 214.61935924645937, 173.93824862043888, 142.92940005693694, 117.44865527432847, 96.51049133949647, 79.30507946167421, 66.07356831626778, 48.82036968151761, 54.58589671307936, 22.690950475733718, 41.31151578996639, 7.713952520225892, -1.5976186954745234e-10, -3.301056024175191e-11, 2.5066053993747407e-11, -1.0929541237558627e-11, 2.180357282558519e-12, 9.140044903122552e-14, 7.407548919832743e-14, 6.086967825659105e-14, 5.0018133815504505e-14, 4.110114891604171e-14, 3.377383987494886e-14, 2.8138905243245717e-14, 2.079124514409225e-14, 2.324662364040609e-14, 9.663448207604214e-15, 1.7593431956095938e-14, 3.285159021207132e-15, 0.772821941691734, 3.3845722842009276, 1.5055045315767772, 2.90366980220816, 2.060273164924106, 2.1872199077123624, 2.033802321214192, 1.8908092744583838, 1.7296067007680511, 1.5517470690501236, 1.3589432647860067, 1.169093397445521, 0.8533930871049065, 0.8808186047906333, 0.29946347047674043, 0.3333512740347118, 1.4196508758054365e-16, 4.1387874337826185, 18.125812018115948, 8.062611709953469, 15.55037640743752, 11.033631714029061, 11.71348506118111, 10.891869181939985, 10.126081109546854, 9.26277334058978, 8.310260000815855, 7.277714314383845, 6.260988205994547, 4.570279898180743, 4.717155112042032, 1.6037531824898008, 1.7852366626523903, 7.602829174699758e-16, 2.2732874165424106, 9.955858094827779, 4.428503284584822, 8.54126373366736, 6.060377957449589, 6.433797004429366, 5.982512885736845, 5.561892977959043, 5.0877090003635175, 4.564527603869847, 3.9973873113262983, 3.4389361453143437, 2.5102907430825794, 2.5909640274236616, 0.88088407228536, 0.9805664353843698, 4.1759612373159285e-16, 5.468672116359305, 23.950039560076466, 10.653308619659446, 20.547059064718255, 14.57898359412523, 15.47728898000633, 14.39166959968037, 13.379816745302342, 12.23910894151522, 10.980531828043793, 9.616206190499007, 8.27278331414186, 6.0388127303015295, 6.232882225166466, 2.119074837962581, 2.3588730067315278, 1.004578770432871e-15, 4.891052772724674, 21.42035669806486, 9.528070718850444, 18.37681032461171, 13.03910284148195, 13.842526223773204, 12.871573574338832, 11.966595984954708, 10.946373534628686, 9.820731523267737, 8.600510498779759, 7.398984416297642, 5.400973238119392, 5.574544467252133, 1.8952511032473456, 2.1097209916034383, 8.984718183867087e-16, 6.619557280711992, 28.990339038426274, 12.895303491679503, 24.87119935792082, 17.64713900238733, 18.734493268814028, 17.420404671031545, 16.195606806634, 14.814836395269312, 13.29139101080482, 11.639942265092847, 10.013795278576252, 7.309684311872053, 7.544595842562345, 2.5650353456091453, 2.8552991756945825, 1.2159929453394746e-15, 7.945150325983376, 34.795771362635115, 15.477640028753106, 29.851757346667743, 21.181049766882733, 22.48615111097599, 20.90891097114604, 19.43884239421317, 17.781567138671853, 15.953045671191774, 13.970887653076243, 12.019098173488942, 8.773478078742324, 9.05543159096278, 3.0786940195694448, 3.4270843524009544, 1.4595004373190137e-15, 9.66886717438169, 42.344786156557994, 18.835546147125235, 36.32815804162635, 25.776322461791764, 27.36456825040532, 25.44514258966661, 23.656139584762865, 21.63931502389653, 19.414092030097205, 17.001900717225773, 14.626666460327122, 10.676902351776407, 11.020026263490763, 3.746623075013485, 4.170597413418411, 1.7761420854731179e-15, 11.76654837974478, 51.53157716978867, 22.921957764223535, 44.20962884632304, 31.368550196054407, 33.30136927129859, 30.96552014946495, 28.788389154793403, 26.33401023522687, 23.62602040146078, 20.69049907593209, 17.79995271791861, 12.993278923186962, 13.410844294043597, 4.559460883858246, 5.075417352660485, 2.1614798715400377e-15, 14.319326301110419, 62.71146342076754, 27.894925690460436, 53.80100269601871, 38.17402447631011, 40.52617279765431, 37.683556196232274, 35.0340919602607, 32.04723026712904, 28.751736227726855, 25.17934725115383, 21.66169065781229, 15.812198668450158, 16.32035574258697, 5.548645706969138, 6.176540038892856, 2.630417568090208e-15, 17.425935147628493, 76.31685119839945, 33.94679021960581, 65.47324672568604, 46.455961744274035, 49.31841373701679, 45.85908530882731, 42.63481407000364, 38.99994626512571, 34.98948765817536, 30.64206115787715, 26.361241349863988, 19.242689407563994, 19.861092259242156, 6.752436407522427, 7.516553774330231, 3.2010923551038887e-15, 21.501555764853357, 94.1660242586015, 41.88634909753849, 80.78629087345858, 57.3211964575881, 60.853125770119135, 56.584721091832414, 52.60634935710146, 48.12134972050581, 43.172915180296116, 37.80870186618399, 32.52667338154279, 23.74321698418564, 24.50625341740178, 8.331712859882197, 9.27454387779442, 3.9497717166173975e-15, 23.528282412626314, 103.04206991626997, 45.83453688554347, 88.40116908406758, 62.72426578026115, 66.58911310737874, 61.91837058900403, 57.56499938457395, 52.6572457678408, 47.242374088984754, 41.37253252234307, 35.59262248898079, 25.981241576078826, 26.81620146866383, 9.117056239653728, 10.148758070880449, 4.3220753619086666e-15, 38.959793773137406, 170.6243457763295, 75.89606727050105, 146.38090687704732, 103.86327469696741, 110.26296219597322, 102.5288164520557, 95.32019657203027, 87.19359109169636, 78.22726366428407, 68.50756492441236, 58.93678117666888, 43.02157701196627, 44.404162644587544, 15.096666415581172, 16.805031262408704, 7.156798010957056e-15, 23.984790479760214, 105.0413461637239, 46.72384259322947, 90.11637489991105, 63.94127486029383, 67.88110998091578, 63.11974326814601, 58.68190567389634, 53.67892924921432, 48.15899539197478, 42.17526408272564, 36.28320920549993, 26.48534324255957, 27.33650346460397, 9.293950143293792, 10.34566959419083, 4.4059345333887376e-15, 64.66978438159032, 283.2212027573204, 125.98070550307031, 242.97925549717246, 172.40377654283117, 183.02668725637872, 170.18869482378526, 158.22302847440335, 144.73358786730736, 129.85028368962207, 113.71645029662002, 97.82980251471733, 71.41198244838124, 73.7069513404484, 25.059120375775272, 27.894853720072398, 1.1879646666669612e-14, 17.883572762880902, 78.32107429977839, 34.83829635629016, 67.19269651363346, 47.67598209708705, 50.61360742730843, 47.06343057125328, 43.754483945532904, 40.024157720783116, 35.908376977752, 31.446778934909492, 27.053536800538076, 19.748038384070362, 20.382681650045356, 6.929768003703803, 7.713952520225892, 3.285159021207132e-15, 1624.1264160393052, 8697.881929779807, 4777.434419594931, 11492.705325361392, 10278.807551756909, 13911.351712601934, 16697.156004118817, 20319.638643687053, 24728.027270181716, 30092.825851464277, 36621.52957963038, 45186.66308463852, 49445.93693436037, 81876.07884409126, 50405.312918619034, 135906.99159471126, 37583.279369339565, 334.9927932242878, 1794.0276902198248, 985.3950313601874, 2370.488787464736, 2120.109874928983, 2869.359504104773, 3443.960318287247, 4191.134655119218, 5100.410192431758, 6206.955128885798, 7553.567483954628, 9320.214444958292, 10198.733524467529, 16887.78415237005, 10396.6146977218, 28032.21613995368, 7751.938279020715, -255.28852866294338, -1367.1777383884091, -750.9416703758463, -1806.482428888269, -1615.6757444391367, -2186.6576858490785, -2624.544707266165, -3193.9451271039575, -3886.8782849653835, -4730.144869920385, -5756.360041584377, -7102.671701010208, -7772.166232673392, -12869.702440880288, -7922.9658755073715, -21362.55871253632, -5907.532811346659, 109.88878536728811, 588.5007910052094, 323.24236608467106, 777.5992166102193, 695.4666002177377, 941.2454150231455, 1129.7336058699595, 1374.8316557169655, 1673.1042943541925, 2036.0878614061698, 2477.8215316586566, 3057.3405321988394, 3345.5240290438646, 5539.755259171747, 3410.435639728596, 9195.499858739828, 2542.893754593197, -23.208858509204653, -124.29322560390035, -68.26980854838804, -164.23141028317602, -146.88474231817247, -198.79400419883726, -238.60330537000036, -290.3687875415278, -353.3649107961511, -430.02818649547044, -523.3237326913383, -645.719975783644, -706.5852404292485, -1170.0138058311163, -720.294777603139, -1942.1186104622686, -537.0671916796178, -2.187219907712362, -11.713485061181107, -6.4337970044293655, -15.477288980006326, -13.842526223773202, -18.734493268814024, -22.486151110975985, -27.364568250405306, -33.30136927129858, -40.5261727976543, -49.318413737016776, -60.853125770119114, -66.58911310737874, -110.2629621959732, -67.88110998091577, -183.0266872563787, -50.61360742730843, -2.0338023212141914, -10.891869181939983, -5.982512885736843, -14.391669599680366, -12.871573574338829, -17.42040467103154, -20.908910971146035, -25.445142589666602, -30.965520149464947, -37.68355619623227, -45.859085308827304, -56.5847210918324, -61.91837058900401, -102.52881645205566, -63.119743268146, -170.18869482378523, -47.06343057125326, -1.8908092744583822, -10.126081109546847, -5.5618929779590385, -13.379816745302332, -11.966595984954699, -16.19560680663399, -19.438842394213154, -23.656139584762848, -28.788389154793382, -35.034091960260675, -42.634814070003614, -52.606349357101415, -57.56499938457391, -95.3201965720302, -58.681905673896296, -158.22302847440324, -43.754483945532876, -1.7296067007680507, -9.262773340589778, -5.087709000363517, -12.239108941515216, -10.946373534628684, -14.814836395269307, -17.781567138671846, -21.63931502389652, -26.33401023522686, -32.04723026712903, -38.999946265125686, -48.12134972050579, -52.65724576784077, -87.19359109169632, -53.67892924921429, -144.7335878673073, -40.0241577207831, -1.5517470690501227, -8.310260000815852, -4.564527603869843, -10.980531828043787, -9.82073152326773, -13.291391010804812, -15.953045671191765, -19.414092030097194, -23.626020401460767, -28.751736227726838, -34.98948765817534, -43.17291518029609, -47.242374088984725, -78.22726366428401, -48.15899539197475, -129.85028368962202, -35.90837697775197, -1.358943264786006, -7.27771431438384, -3.997387311326296, -9.616206190499001, -8.600510498779755, -11.639942265092841, -13.970887653076232, -17.001900717225762, -20.69049907593208, -25.179347251153814, -30.642061157877137, -37.808701866183966, -41.37253252234305, -68.5075649244123, -42.175264082725604, -113.71645029661995, -31.446778934909474, -1.1690933974455202, -6.260988205994542, -3.4389361453143414, -8.272783314141853, -7.398984416297639, -10.013795278576245, -12.01909817348893, -14.626666460327112, -17.799952717918593, -21.661690657812272, -26.361241349863967, -32.526673381542764, -35.59262248898076, -58.93678117666883, -36.2832092054999, -97.82980251471727, -27.053536800538055, -0.8533930871049057, -4.570279898180738, -2.5102907430825767, -6.038812730301523, -5.400973238119388, -7.309684311872045, -8.773478078742317, -10.676902351776397, -12.993278923186951, -15.812198668450142, -19.24268940756398, -23.743216984185615, -25.981241576078805, -43.02157701196623, -26.485343242559544, -71.41198244838117, -19.748038384070345, -0.8808186047906321, -4.717155112042026, -2.590964027423658, -6.232882225166458, -5.574544467252125, -7.544595842562336, -9.055431590962769, -11.020026263490747, -13.410844294043578, -16.320355742586944, -19.861092259242128, -24.506253417401744, -26.8162014686638, -44.40416264458747, -27.33650346460394, -73.70695134044828, -20.382681650045324, -0.2994634704767399, -1.6037531824897977, -0.8808840722853585, -2.1190748379625775, -1.8952511032473423, -2.565035345609141, -3.0786940195694394, -3.746623075013478, -4.559460883858237, -5.548645706969128, -6.752436407522414, -8.331712859882183, -9.11705623965371, -15.096666415581144, -9.293950143293774, -25.05912037577523, -6.929768003703789, -0.3333512740347106, -1.7852366626523835, -0.9805664353843664, -2.3588730067315193, -2.1097209916034303, -2.855299175694572, -3.4270843524009416, -4.170597413418397, -5.075417352660466, -6.176540038892834, -7.5165537743302036, -9.274543877794386, -10.148758070880412, -16.80503126240864, -10.345669594190795, -27.894853720072295, -7.713952520225863, 1.4196508758054365e-16, 7.602829174699758e-16, 4.1759612373159285e-16, 1.004578770432871e-15, 8.984718183867087e-16, 1.2159929453394746e-15, 1.4595004373190137e-15, 1.7761420854731179e-15, 2.1614798715400377e-15, 2.630417568090208e-15, 3.2010923551038887e-15, 3.9497717166173975e-15, 4.3220753619086666e-15, 7.156798010957056e-15, 4.4059345333887376e-15, 1.1879646666669612e-14, 3.285159021207132e-15, 869703.110364473, 179701.12016370843, -136453.24247066924, 59497.6513237297, -11869.312218981933, -497.5608700394926, -403.24818143430787, -331.3590949867934, -272.2860384470531, -223.74423354640123, -183.8562209580946, -153.1810655547767, -113.18226696637717, -126.54872494170726, -52.60536188519707, -95.77418277305298, -17.883572762880902, 3.808863185715654e6, 787000.7280261117, -597596.7265429876, 260569.8554631242, -51981.6312163117, -2179.0669229087425, -1766.0246751655905, -1451.186552176795, -1192.4762087957952, -979.8874627617587, -805.1979843772397, -670.8561972323822, -495.68153176250286, -554.219910088314, -230.38508643691915, -419.44285878592336, -78.32107429977839, 1.6942349888694114e6, 350068.8012864421, -265819.283596221, 115905.07315303384, -23122.148024498878, -969.2790850890925, -785.5521844663203, -645.5078358538445, -530.4298993760201, -435.8674868636725, -358.1631924231807, -298.40610870810923, -220.48599634607908, -246.5246761083792, -102.47847069408272, -186.5739808800721, -34.83829635629016, 3.2676746378652174e6, 675178.4439506435, -512686.21942609636, 223546.36188621056, -44595.73622844357, -1869.4506394726327, -1515.0961742403654, -1244.9923402717857, -1023.0412786558367, -840.6585518841824, -690.7901134063267, -575.5364985468955, -425.25181158329775, -475.47266879717307, -197.65044507652937, -359.84563499907347, -67.19269651363346, 2.318549568885923e6, 479066.8789367404, -363771.9616420268, 158615.33916849789, -31642.509265903558, -1326.4521271415422, -1075.0230579567894, -883.3732772395097, -725.8898692342302, -596.481822414454, -490.14400058974275, -408.3668199768482, -301.7336527294371, -337.36741671959453, -140.24112098311056, -255.32528000940962, -47.67598209708705, 2.4614103898557606e6, 508585.2849880057, -386186.30282471696, 168388.6551571266, -33592.208729713086, -1408.1834139786326, -1141.262175154102, -937.8036130420313, -770.6166346414153, -633.2349218466389, -520.3449396843239, -433.52893854512496, -320.32541282015103, -358.15480326841583, -148.88228265859914, -271.057520374676, -50.61360742730843, 2.288760333013441e6, 472911.72208917834, -359098.1393030216, 156577.4143318275, -31235.95933280373, -1309.4095778601989, -1061.2109247716364, -872.023502676881, -716.5634762072079, -588.8180924946791, -483.8465224417703, -403.1200330691907, -297.85691225666744, -333.03284579334985, -138.43927215138834, -252.04480453781449, -47.06343057125326, 2.127841639049101e6, 439662.1347115337, -333850.5837821756, 145568.73305788345, -29039.814237113416, -1217.347304631164, -986.5990601863646, -810.7130713779354, -666.1831646164383, -547.4193330614164, -449.82812857699867, -374.77737599991747, -276.9151191745202, -309.617894992567, -128.70585159763203, -234.3239797831659, -43.754483945532904, 1.946430666904158e6, 402178.36063284636, -305387.8646382141, 133158.145308628, -26563.999855542446, -1113.561311388802, -902.4857073215906, -741.5950300207749, -609.3871449776505, -500.74862620092506, -411.4776439329622, -342.82540792561144, -253.30648211752003, -283.2211546086476, -117.73292333521522, -214.3464870086882, -40.0241577207831, 1.7462745034096914e6, 360821.3890882091, -273984.09341579827, 119465.17182840384, -23832.359634003154, -999.0511139832323, -809.6809237464382, -665.3350231274335, -546.7223940078289, -449.25543633307495, -369.1644046412904, -307.57184376555045, -227.25836516631963, -254.096839681415, -105.62616266171766, -192.30472039060805, -35.90837697775197, 1.5293007618366422e6, 315989.51032161724, -239941.70559884765, 104621.68343716621, -20871.200761095413, -874.919508213112, -709.0784702589916, -582.6674762522546, -478.7924075148502, -393.43567102533444, -323.2959103271316, -269.35619461415456, -199.02162592650816, -222.52543328458842, -92.5021643006538, -168.41095419071283, -31.4467789349095, 1.315651263522884e6, 271844.49840679613, -206420.87941147594, 90005.61134926189, -17955.40964721505, -752.689716232783, -610.0173416592904, -501.266474505853, -411.9031727647592, -338.4711173999578, -278.1301647969142, -231.72604540929578, -171.21750028040526, -191.43773074123334, -79.57923802679468, -144.88326312347297, -27.053536800538065, 960374.6764668422, 198435.99853934755, -150679.28012319282, 65700.62468400024, -13106.756485453583, -549.4344609006677, -445.2891304695001, -365.90519207057315, -300.67342862605074, -247.07086055308687, -203.02429256007775, -169.15107525758273, -124.98217118490655, -139.74215950803173, -58.08977431361044, -105.7591937966056, -19.748038384070338, 991238.2645042371, 204813.14181559364, -155521.66439409257, 67812.04751066877, -13527.968687926168, -567.0916516516485, -459.599399801987, -377.6642975379901, -310.336179073663, -255.0109837602177, -209.54888997054908, -174.58708812918275, -128.99872674180776, -144.23305722555475, -59.956607027480345, -109.15797998754712, -20.382681650045345, 337004.2925334633, 69633.0140096453, -52874.742995289045, 23054.952492182412, -4599.281202455955, -192.80159746666044, -156.25604471245762, -128.39949179180795, -105.50906701383799, -86.69943367587513, -71.2430885131509, -59.356665523681606, -43.85739150726123, -49.03680694222113, -20.384235211206903, -37.1118722283022, -6.929768003703791, 375140.28035657475, 77512.80614640182, -58858.14023886649, 25663.890737136604, -5119.7438072891255, -214.61935924646008, -173.93824862043945, -142.92940005693742, -117.44865527432887, -96.5104913394968, -79.30507946167448, -66.07356831626801, -48.820369681517775, -54.585896713079535, -22.6909504757338, -41.311515789966535, -7.7139525202259165, 5.325395651581746e-11, 1.100352008058397e-11, -8.355351331249136e-12, 3.643180412519543e-12, -7.267857608528397e-13, -3.0466816343741836e-14, -2.4691829732775816e-14, -2.0289892752197015e-14, -1.6672711271834836e-14, -1.3700382972013903e-14, -1.1257946624982955e-14, -9.379635081081905e-15, -6.93041504803075e-15, -7.748874546802031e-15, -3.2211494025347383e-15, -5.864477318698645e-15, -1.095053007069044e-15, -0.772821941691734, -3.3845722842009276, -1.5055045315767772, -2.90366980220816, -2.060273164924106, -2.1872199077123624, -2.0338023212141914, -1.890809274458383, -1.729606700768051, -1.5517470690501225, -1.3589432647860067, -1.1690933974455209, -0.8533930871049052, -0.880818604790633, -0.29946347047674, -0.33335127403471293, -4.732169586018123e-17, -4.1387874337826185, -18.125812018115948, -8.062611709953469, -15.55037640743752, -11.033631714029061, -11.71348506118111, -10.891869181939983, -10.126081109546853, -9.26277334058978, -8.31026000081585, -7.277714314383847, -6.260988205994544, -4.570279898180737, -4.71715511204203, -1.6037531824897977, -1.785236662652396, -2.5342763915665857e-16, -2.2732874165424106, -9.955858094827779, -4.428503284584822, -8.54126373366736, -6.060377957449589, -6.433797004429366, -5.982512885736843, -5.561892977959042, -5.087709000363517, -4.564527603869843, -3.997387311326299, -3.4389361453143428, -2.510290743082576, -2.5909640274236607, -0.8808840722853586, -0.9805664353843734, -1.3919870791053094e-16, -5.468672116359305, -23.950039560076466, -10.653308619659446, -20.547059064718255, -14.57898359412523, -15.47728898000633, -14.391669599680366, -13.37981674530234, -12.239108941515218, -10.980531828043786, -9.616206190499009, -8.272783314141854, -6.0388127303015215, -6.232882225166464, -2.1190748379625775, -2.3588730067315358, -3.3485959014429026e-16, -4.891052772724674, -21.42035669806486, -9.528070718850444, -18.37681032461171, -13.03910284148195, -13.842526223773204, -12.871573574338829, -11.966595984954704, -10.946373534628686, -9.820731523267728, -8.60051049877976, -7.39898441629764, -5.400973238119386, -5.57454446725213, -1.8952511032473425, -2.109720991603445, -2.994906061289029e-16, -6.619557280711992, -28.990339038426274, -12.895303491679503, -24.87119935792082, -17.64713900238733, -18.734493268814028, -17.42040467103154, -16.195606806634, -14.814836395269312, -13.291391010804809, -11.63994226509285, -10.013795278576248, -7.309684311872043, -7.544595842562343, -2.5650353456091413, -2.8552991756945922, -4.053309817798249e-16, -7.945150325983376, -34.795771362635115, -15.477640028753106, -29.851757346667743, -21.181049766882733, -22.48615111097599, -20.908910971146035, -19.438842394213168, -17.781567138671853, -15.953045671191763, -13.970887653076243, -12.019098173488933, -8.773478078742313, -9.055431590962778, -3.0786940195694394, -3.4270843524009655, -4.865001457730045e-16, -9.66886717438169, -42.344786156557994, -18.835546147125235, -36.32815804162635, -25.776322461791764, -27.36456825040532, -25.445142589666602, -23.65613958476286, -21.639315023896522, -19.414092030097194, -17.001900717225773, -14.626666460327119, -10.676902351776395, -11.02002626349076, -3.7466230750134786, -4.170597413418426, -5.920473618243726e-16, -11.76654837974478, -51.53157716978867, -22.921957764223535, -44.20962884632304, -31.368550196054407, -33.30136927129859, -30.965520149464947, -28.7883891547934, -26.334010235226863, -23.626020401460764, -20.690499075932095, -17.7999527179186, -12.993278923186946, -13.410844294043592, -4.559460883858238, -5.0754173526605015, -7.204932905133459e-16, -14.319326301110419, -62.71146342076754, -27.894925690460436, -53.80100269601871, -38.17402447631011, -40.52617279765431, -37.68355619623227, -35.034091960260696, -32.04723026712904, -28.751736227726838, -25.179347251153835, -21.66169065781228, -15.812198668450137, -16.320355742586962, -5.548645706969129, -6.1765400388928775, -8.768058560300692e-16, -17.425935147628493, -76.31685119839945, -33.94679021960581, -65.47324672568604, -46.455961744274035, -49.31841373701679, -45.859085308827304, -42.634814070003635, -38.9999462651257, -34.989487658175335, -30.64206115787716, -26.36124134986398, -19.242689407563972, -19.861092259242145, -6.752436407522414, -7.516553774330257, -1.0670307850346296e-15, -21.501555764853357, -94.1660242586015, -41.88634909753849, -80.78629087345858, -57.3211964575881, -60.853125770119135, -56.5847210918324, -52.60634935710145, -48.1213497205058, -43.17291518029608, -37.808701866183995, -32.52667338154278, -23.743216984185604, -24.50625341740177, -8.331712859882185, -9.274543877794452, -1.3165905722057991e-15, -23.528282412626314, -103.04206991626997, -45.83453688554347, -88.40116908406758, -62.72426578026115, -66.58911310737874, -61.91837058900401, -57.56499938457395, -52.65724576784079, -47.24237408898471, -41.37253252234308, -35.59262248898077, -25.981241576078798, -26.816201468663824, -9.117056239653712, -10.148758070880483, -1.4406917873028891e-15, -38.959793773137406, -170.6243457763295, -75.89606727050105, -146.38090687704732, -103.86327469696741, -110.26296219597322, -102.52881645205566, -95.32019657203026, -87.19359109169635, -78.22726366428401, -68.50756492441238, -58.93678117666885, -43.021577011966215, -44.404162644587515, -15.096666415581147, -16.80503126240876, -2.3855993369856852e-15, -23.984790479760214, -105.0413461637239, -46.72384259322947, -90.11637489991105, -63.94127486029383, -67.88110998091578, -63.119743268146, -58.68190567389633, -53.678929249214306, -48.15899539197474, -42.17526408272565, -36.28320920549992, -26.485343242559537, -27.33650346460396, -9.293950143293776, -10.345669594190868, -1.4686448444629128e-15, -64.66978438159032, -283.2212027573204, -125.98070550307031, -242.97925549717246, -172.40377654283117, -183.02668725637872, -170.18869482378523, -158.22302847440332, -144.73358786730736, -129.850283689622, -113.71645029662005, -97.82980251471731, -71.41198244838115, -73.70695134044837, -25.05912037577523, -27.894853720072494, -3.959882222223204e-15, -17.883572762880902, -78.32107429977839, -34.83829635629016, -67.19269651363346, -47.67598209708705, -50.61360742730843, -47.06343057125326, -43.754483945532904, -40.0241577207831, -35.90837697775197, -31.4467789349095, -27.053536800538065, -19.748038384070338, -20.382681650045345, -6.929768003703791, -7.7139525202259165, -1.095053007069044e-15, 0.772821941691734, 4.1387874337826185, 2.2732874165424106, 5.468672116359305, 4.891052772724674, 6.619557280711992, 7.945150325983376, 9.66886717438169, 11.76654837974478, 14.319326301110419, 17.425935147628493, 21.501555764853357, 23.528282412626314, 38.959793773137406, 23.984790479760214, 64.66978438159032, 17.883572762880902, 3.384572284200927, 18.12581201811594, 9.955858094827775, 23.95003956007646, 21.42035669806486, 28.990339038426264, 34.79577136263511, 42.344786156557994, 51.53157716978866, 62.711463420767515, 76.31685119839943, 94.1660242586015, 103.04206991626995, 170.62434577632945, 105.04134616372389, 283.2212027573203, 78.32107429977837, 1.5055045315767772, 8.062611709953469, 4.428503284584822, 10.653308619659446, 9.528070718850444, 12.895303491679503, 15.477640028753106, 18.835546147125235, 22.921957764223535, 27.894925690460436, 33.94679021960581, 41.88634909753849, 45.83453688554347, 75.89606727050105, 46.72384259322947, 125.98070550307031, 34.83829635629016, 2.90366980220816, 15.55037640743752, 8.54126373366736, 20.547059064718255, 18.37681032461171, 24.87119935792082, 29.851757346667743, 36.32815804162635, 44.20962884632304, 53.80100269601871, 65.47324672568604, 80.78629087345858, 88.40116908406758, 146.38090687704732, 90.11637489991105, 242.97925549717246, 67.19269651363346, 2.060273164924106, 11.033631714029061, 6.060377957449589, 14.57898359412523, 13.03910284148195, 17.64713900238733, 21.181049766882733, 25.776322461791764, 31.368550196054407, 38.17402447631011, 46.455961744274035, 57.3211964575881, 62.72426578026115, 103.86327469696741, 63.94127486029383, 172.40377654283117, 47.67598209708705, 2.1872199077123624, 11.71348506118111, 6.433797004429366, 15.47728898000633, 13.842526223773204, 18.734493268814028, 22.48615111097599, 27.36456825040532, 33.30136927129859, 40.52617279765431, 49.31841373701679, 60.853125770119135, 66.58911310737874, 110.26296219597322, 67.88110998091578, 183.02668725637872, 50.61360742730843, 2.033802321214192, 10.891869181939985, 5.982512885736845, 14.39166959968037, 12.871573574338832, 17.420404671031545, 20.90891097114604, 25.44514258966661, 30.96552014946495, 37.683556196232274, 45.85908530882731, 56.584721091832414, 61.91837058900403, 102.5288164520557, 63.11974326814601, 170.18869482378526, 47.06343057125328, 1.890809274458383, 10.126081109546853, 5.561892977959042, 13.37981674530234, 11.966595984954704, 16.195606806634, 19.438842394213168, 23.65613958476286, 28.7883891547934, 35.034091960260696, 42.634814070003635, 52.60634935710145, 57.56499938457395, 95.32019657203026, 58.68190567389633, 158.22302847440332, 43.754483945532904, 1.7296067007680507, 9.262773340589778, 5.087709000363517, 12.239108941515216, 10.946373534628684, 14.81483639526931, 17.78156713867185, 21.639315023896522, 26.33401023522686, 32.04723026712904, 38.99994626512569, 48.12134972050579, 52.65724576784078, 87.19359109169633, 53.6789292492143, 144.73358786730734, 40.0241577207831, 1.551747069050122, 8.310260000815848, 4.564527603869843, 10.980531828043784, 9.820731523267726, 13.291391010804809, 15.95304567119176, 19.41409203009719, 23.626020401460764, 28.751736227726834, 34.98948765817533, 43.17291518029607, 47.24237408898471, 78.227263664284, 48.15899539197474, 129.850283689622, 35.90837697775196, 1.3589432647860062, 7.277714314383843, 3.997387311326297, 9.616206190499005, 8.600510498779757, 11.639942265092843, 13.97088765307624, 17.001900717225766, 20.690499075932085, 25.179347251153818, 30.642061157877148, 37.80870186618398, 41.37253252234306, 68.50756492441234, 42.17526408272562, 113.71645029662, 31.44677893490948, 1.1690933974455207, 6.2609882059945425, 3.4389361453143414, 8.272783314141854, 7.398984416297639, 10.013795278576248, 12.019098173488933, 14.626666460327115, 17.799952717918597, 21.66169065781228, 26.361241349863974, 32.52667338154278, 35.592622488980766, 58.936781176668845, 36.283209205499915, 97.82980251471727, 27.053536800538065, 0.8533930871049049, 4.570279898180735, 2.510290743082575, 6.03881273030152, 5.400973238119383, 7.309684311872041, 8.77347807874231, 10.676902351776391, 12.99327892318694, 15.812198668450133, 19.242689407563965, 23.7432169841856, 25.981241576078787, 43.02157701196621, 26.48534324255953, 71.41198244838111, 19.748038384070327, 0.8808186047906327, 4.717155112042027, 2.5909640274236594, 6.2328822251664615, 5.574544467252128, 7.544595842562339, 9.055431590962773, 11.020026263490752, 13.410844294043585, 16.320355742586955, 19.861092259242135, 24.50625341740176, 26.816201468663806, 44.404162644587494, 27.33650346460395, 73.70695134044833, 20.382681650045335, 0.2994634704767397, 1.6037531824897966, 0.8808840722853579, 2.119074837962576, 1.895251103247341, 2.5650353456091395, 3.0786940195694372, 3.746623075013476, 4.559460883858234, 5.548645706969125, 6.75243640752241, 8.331712859882177, 9.117056239653706, 15.096666415581135, 9.293950143293769, 25.059120375775212, 6.929768003703786, 0.3333512740347125, 1.785236662652394, 0.980566435384372, 2.358873006731533, 2.1097209916034423, 2.8552991756945882, 3.427084352400961, 4.170597413418421, 5.075417352660495, 6.1765400388928695, 7.516553774330247, 9.27454387779444, 10.14875807088047, 16.80503126240874, 10.345669594190854, 27.894853720072454, 7.713952520225908, -4.732169586018123e-17, -2.5342763915665857e-16, -1.3919870791053094e-16, -3.3485959014429026e-16, -2.994906061289029e-16, -4.053309817798249e-16, -4.865001457730045e-16, -5.920473618243726e-16, -7.204932905133459e-16, -8.768058560300692e-16, -1.0670307850346296e-15, -1.3165905722057991e-15, -1.4406917873028891e-15, -2.3855993369856852e-15, -1.4686448444629128e-15, -3.959882222223204e-15, -1.095053007069044e-15, -869703.110364473, -3.808863185715654e6, -1.6942349888694114e6, -3.2676746378652174e6, -2.318549568885923e6, -2.46141038985576e6, -2.2887603330134414e6, -2.127841639049101e6, -1.9464306669041577e6, -1.7462745034096912e6, -1.529300761836641e6, -1.3156512635228839e6, -960374.6764668418, -991238.2645042364, -337004.29253346304, -375140.2803565743, 5.325395651581746e-11, -179701.12016370843, -787000.7280261117, -350068.8012864421, -675178.4439506435, -479066.8789367404, -508585.2849880056, -472911.7220891784, -439662.1347115337, -402178.3606328463, -360821.389088209, -315989.510321617, -271844.4984067961, -198435.9985393475, -204813.1418155935, -69633.01400964524, -77512.80614640172, 1.100352008058397e-11, 136453.24247066924, 597596.7265429876, 265819.283596221, 512686.21942609636, 363771.9616420268, 386186.3028247169, 359098.13930302166, 333850.5837821756, 305387.86463821406, 273984.0934157982, 239941.70559884747, 206420.8794114759, 150679.28012319276, 155521.66439409246, 52874.742995289, 58858.140238866414, -8.355351331249136e-12, -59497.6513237297, -260569.8554631242, -115905.07315303384, -223546.36188621056, -158615.33916849789, -168388.65515712654, -156577.41433182752, -145568.73305788345, -133158.145308628, -119465.17182840382, -104621.68343716614, -90005.61134926186, -65700.62468400021, -67812.04751066872, -23054.952492182394, -25663.89073713657, 3.643180412519543e-12, 11869.312218981933, 51981.6312163117, 23122.148024498878, 44595.73622844357, 31642.509265903558, 33592.20872971308, 31235.959332803737, 29039.814237113416, 26563.999855542443, 23832.35963400315, 20871.2007610954, 17955.40964721504, 13106.75648545358, 13527.968687926159, 4599.281202455952, 5119.743807289119, -7.267857608528397e-13, 497.5608700394926, 2179.0669229087425, 969.2790850890925, 1869.4506394726327, 1326.4521271415422, 1408.1834139786326, 1309.409577860199, 1217.347304631164, 1113.5613113888019, 999.0511139832323, 874.9195082131114, 752.6897162327829, 549.4344609006677, 567.0916516516482, 192.80159746666033, 214.61935924645982, -3.0466816343741836e-14, 403.24818143430787, 1766.0246751655905, 785.5521844663203, 1515.0961742403654, 1075.0230579567894, 1141.262175154102, 1061.2109247716367, 986.5990601863646, 902.4857073215904, 809.6809237464382, 709.0784702589913, 610.0173416592903, 445.28913046949987, 459.59939980198675, 156.2560447124575, 173.93824862043923, -2.4691829732775816e-14, 331.3590949867934, 1451.1865521767947, 645.5078358538445, 1244.9923402717857, 883.3732772395097, 937.8036130420313, 872.0235026768812, 810.7130713779354, 741.5950300207747, 665.3350231274334, 582.6674762522542, 501.2664745058529, 365.905192070573, 377.66429753798985, 128.39949179180786, 142.92940005693728, -2.0289892752197015e-14, 272.2860384470531, 1192.476208795795, 530.4298993760201, 1023.0412786558367, 725.8898692342302, 770.6166346414153, 716.563476207208, 666.1831646164383, 609.3871449776505, 546.7223940078288, 478.7924075148499, 411.9031727647591, 300.6734286260506, 310.33617907366295, 105.5090670138379, 117.44865527432871, -1.6672711271834836e-14, 223.74423354640123, 979.8874627617583, 435.8674868636725, 840.6585518841824, 596.481822414454, 633.2349218466389, 588.8180924946791, 547.4193330614164, 500.748626200925, 449.25543633307495, 393.4356710253343, 338.47111739995773, 247.07086055308676, 255.01098376021756, 86.69943367587506, 96.51049133949668, -1.3700382972013903e-14, 183.8562209580946, 805.1979843772394, 358.1631924231807, 690.7901134063267, 490.14400058974275, 520.3449396843239, 483.8465224417704, 449.82812857699867, 411.4776439329621, 369.1644046412904, 323.2959103271314, 278.13016479691413, 203.0242925600777, 209.54888997054897, 71.24308851315085, 79.30507946167437, -1.1257946624982955e-14, 153.1810655547767, 670.8561972323822, 298.40610870810923, 575.5364985468955, 408.3668199768482, 433.52893854512496, 403.12003306919075, 374.77737599991747, 342.8254079256114, 307.5718437655504, 269.35619461415445, 231.72604540929572, 169.15107525758268, 174.58708812918266, 59.35666552368156, 66.07356831626791, -9.379635081081905e-15, 113.18226696637717, 495.68153176250274, 220.48599634607908, 425.25181158329775, 301.7336527294371, 320.32541282015103, 297.8569122566675, 276.9151191745202, 253.30648211752003, 227.2583651663196, 199.02162592650808, 171.21750028040523, 124.98217118490648, 128.9987267418077, 43.85739150726119, 48.82036968151771, -6.93041504803075e-15, 126.54872494170726, 554.2199100883139, 246.5246761083792, 475.47266879717307, 337.36741671959453, 358.15480326841583, 333.03284579334996, 309.617894992567, 283.22115460864757, 254.096839681415, 222.52543328458833, 191.43773074123325, 139.7421595080317, 144.23305722555466, 49.0368069422211, 54.585896713079464, -7.748874546802031e-15, 52.60536188519707, 230.3850864369191, 102.47847069408272, 197.65044507652937, 140.24112098311056, 148.88228265859914, 138.43927215138837, 128.70585159763203, 117.73292333521519, 105.62616266171766, 92.50216430065377, 79.57923802679467, 58.089774313610434, 59.956607027480324, 20.38423521120689, 22.690950475733768, -3.2211494025347383e-15, 95.77418277305298, 419.44285878592325, 186.5739808800721, 359.84563499907347, 255.32528000940962, 271.057520374676, 252.04480453781454, 234.3239797831659, 214.34648700868814, 192.30472039060803, 168.41095419071274, 144.88326312347294, 105.75919379660554, 109.15797998754708, 37.111872228302175, 41.311515789966485, -5.864477318698645e-15, 17.883572762880902, 78.32107429977837, 34.83829635629016, 67.19269651363346, 47.67598209708705, 50.61360742730843, 47.06343057125328, 43.754483945532904, 40.0241577207831, 35.90837697775196, 31.44677893490948, 27.053536800538065, 19.748038384070327, 20.382681650045335, 6.929768003703786, 7.713952520225908, -1.095053007069044e-15, -0.002886391369998487, -0.012640945740837154, -0.005622867381229405, -0.010844836315170178, -0.00769485745973873, -0.008168987350553346, -0.007595992235139098, -0.007061931445894081, -0.006459860396380688, -0.005795577359931247, -0.005075479745320814, -0.004366414708311918, -0.0031873143203515644, -0.003289745130471344, -0.0011184578622621994, -0.001245024485776822, -1.7674049761775953e-19, -0.012947750662124429, -0.05670465041124656, -0.025223012241194803, -0.04864767752560504, -0.034517528289775015, -0.03664437625347688, -0.03407403947859844, -0.031678353983749734, -0.02897758862288771, -0.025997753242826004, -0.022767545287218326, -0.01958682717745415, -0.014297628357221799, -0.014757111642591728, -0.005017169077342154, -0.005584920595881085, -7.928210702264353e-19, -0.006180788306236337, -0.02706875111491733, -0.012040554624246488, -0.023222643393604015, -0.01647742073360395, -0.017492701098991693, -0.01626571520037297, -0.015122101511912324, -0.01383285371931039, -0.01241038798358446, -0.010868403427368448, -0.009350043535269715, -0.006825171140786391, -0.007044511858045735, -0.0023950152248729583, -0.0026660392844340165, -3.784641307719861e-19, -0.013356457527080947, -0.05849458138094238, -0.026019198275886887, -0.0501832832294643, -0.03560710370264037, -0.03780108744816004, -0.035149615786415414, -0.03267830842228824, -0.02989229108427392, -0.026818394642329536, -0.023486222399553742, -0.02020510219209124, -0.014748945270458894, -0.015222932540185955, -0.005175540326377378, -0.005761213408998875, -8.178471479243627e-19, -0.011032475309808857, -0.048316705498773864, -0.021491938410893845, -0.04145154746845581, -0.029411578006869714, -0.03122381537995241, -0.029033691570286197, -0.026992384028791647, -0.024691125073561786, -0.022152077086331573, -0.019399692487202864, -0.016689477027456164, -0.012182674501239681, -0.012574189454948394, -0.004275012348888702, -0.004758780130169061, -6.75544278741481e-19, -0.014096803176606158, -0.061736923802828816, -0.027461436998888814, -0.05296493213168972, -0.03758079801978945, -0.039896393825829754, -0.03709795164397289, -0.034489660229100105, -0.03154921453225497, -0.02830493265290921, -0.024788058799065826, -0.021325066784184415, -0.015566476224600749, -0.01606673650963604, -0.005462419445096307, -0.0060805562642949375, -8.631802444220485e-19, -0.01624337278745907, -0.07113782149874169, -0.03164308622770059, -0.0610300879212979, -0.04330335780658949, -0.04597155749919843, -0.04274698672137227, -0.039741521634052535, -0.03635332396847127, -0.032615023920325274, -0.028562623362640878, -0.024572309420323693, -0.01793683809978421, -0.01851327477119024, -0.006294201192750578, -0.007006463871182531, -9.946197245759485e-19, -0.019211614305649573, -0.08413722981431115, -0.037425402716629454, -0.07218245407068988, -0.05121642033371532, -0.05437219494134066, -0.050558380477099985, -0.047003710100313394, -0.04299636830041915, -0.03857494796958608, -0.03378202980259434, -0.029062543682233887, -0.021214535918426047, -0.02189630805698308, -0.007444375454501851, -0.00828679383899576, -1.1763720982933626e-18, -0.02292290657223624, -0.10039082752733895, -0.044655227627036546, -0.08612663280100198, -0.061110388726099335, -0.06487579465934039, -0.060325228982934756, -0.05608386874918214, -0.05130239020081365, -0.0460268415900721, -0.04030802933398716, -0.03467683469907433, -0.02531275181224224, -0.0261262284304513, -0.00888247704317135, -0.009887633487354665, -1.403623208042147e-18, -0.027520791845164212, -0.12052725769470991, -0.053612190079358225, -0.10340194539343867, -0.07336793361732842, -0.0778886060972653, -0.07242528623582198, -0.06733319236170403, -0.06159264303707576, -0.05525892289003685, -0.048393029107966876, -0.041632327322673045, -0.030389993147586364, -0.03136663721364713, -0.010664127649093361, -0.011870898753142572, -1.6851624821590466e-18, -0.03318310328507967, -0.1453253403191498, -0.06464271997519816, -0.12467655193836846, -0.08846314207577813, -0.09391392789123501, -0.08732654812899332, -0.08118677286697198, -0.07426512460103718, -0.06662826258774766, -0.05834973398302486, -0.05019804027874478, -0.036642633217925304, -0.03782021855410264, -0.012858236464126977, -0.014313296711390573, -2.0318790611924417e-18, -0.04068711698815928, -0.17818915464630308, -0.07926099881219695, -0.15287085752096, -0.10846816163802621, -0.11515158597738304, -0.1070745387907725, -0.09954631720701268, -0.09105941017099695, -0.08169555123689742, -0.07154491948505551, -0.06154980502730628, -0.044928983636147536, -0.046372867649193766, -0.015765992914610363, -0.017550099904141185, -2.491367379304158e-18, -0.044332423917588674, -0.1941537696955917, -0.08636228023962471, -0.16656711416138856, -0.11818621910955052, -0.12546843576598563, -0.11666773651802972, -0.10846503415664327, -0.09921775422330935, -0.08901495307886335, -0.07795488927574476, -0.06706427612724593, -0.04895433484077408, -0.0505275816789028, -0.017178525614769215, -0.01912247724440253, -2.7145780524559266e-18, -0.07319650089918679, -0.3205639421954907, -0.14259127213451375, -0.27501609079966993, -0.19513522900090136, -0.2071587713867565, -0.19262808857063146, -0.17908474810526215, -0.1638167236179576, -0.14697105453088177, -0.12870997384612265, -0.1107286702161056, -0.08082765834895304, -0.0834252190827356, -0.0283631675079532, -0.031572792532538814, -4.4819930267487734e-18, -0.04497367491932536, -0.19696212728821266, -0.0876114765122867, -0.16897644167776646, -0.11989573608828268, -0.12728328713235432, -0.11835528924583934, -0.11003393803466373, -0.1006528998495452, -0.09030251921640356, -0.07908247595882957, -0.0680343343926655, -0.04966243995847203, -0.05125844319071997, -0.01742700620268626, -0.019399076324828513, -2.7538433517922693e-18, -0.12110111500250749, -0.5303621122946954, -0.23591239790135152, -0.45500474517684053, -0.32284458297843754, -0.3427371238966489, -0.3186966046209513, -0.29628960959978595, -0.27102918366979856, -0.24315859854144814, -0.2129462631851326, -0.18319680942650507, -0.1337266048083549, -0.13802418047499848, -0.04692589356076971, -0.052236108727374574, -7.415304643049814e-18, -0.03345891389589101, -0.14653325238618703, -0.06518001595766532, -0.12571283584613166, -0.08919842813508955, -0.09469451967594071, -0.08805238707095668, -0.0818615793557403, -0.07488239988123684, -0.06718206196099337, -0.05883472405861473, -0.05061527528030167, -0.03694719867591596, -0.03813457184079826, -0.012965111279983095, -0.01443226566600512, -2.0487675902774907e-18, 0.002886391369998487, 0.012947750662124429, 0.006180788306236337, 0.013356457527080947, 0.011032475309808857, 0.014096803176606158, 0.01624337278745907, 0.019211614305649573, 0.02292290657223624, 0.027520791845164212, 0.03318310328507967, 0.04068711698815928, 0.044332423917588674, 0.07319650089918679, 0.04497367491932536, 0.12110111500250749, 0.03345891389589101, 0.012640945740837151, 0.05670465041124655, 0.027068751114917328, 0.058494581380942365, 0.04831670549877386, 0.061736923802828796, 0.07113782149874168, 0.08413722981431113, 0.10039082752733894, 0.12052725769470987, 0.1453253403191498, 0.17818915464630308, 0.19415376969559167, 0.32056394219549067, 0.1969621272882126, 0.5303621122946953, 0.146533252386187, 0.005622867381229405, 0.025223012241194803, 0.012040554624246488, 0.026019198275886887, 0.021491938410893845, 0.027461436998888814, 0.03164308622770059, 0.037425402716629454, 0.044655227627036546, 0.053612190079358225, 0.06464271997519816, 0.07926099881219695, 0.08636228023962471, 0.14259127213451375, 0.0876114765122867, 0.23591239790135152, 0.06518001595766532, 0.010844836315170178, 0.04864767752560504, 0.023222643393604015, 0.0501832832294643, 0.04145154746845581, 0.05296493213168972, 0.0610300879212979, 0.07218245407068988, 0.08612663280100198, 0.10340194539343867, 0.12467655193836846, 0.15287085752096, 0.16656711416138856, 0.27501609079966993, 0.16897644167776646, 0.45500474517684053, 0.12571283584613166, 0.00769485745973873, 0.034517528289775015, 0.01647742073360395, 0.03560710370264037, 0.029411578006869714, 0.03758079801978945, 0.04330335780658949, 0.05121642033371532, 0.061110388726099335, 0.07336793361732842, 0.08846314207577813, 0.10846816163802621, 0.11818621910955052, 0.19513522900090136, 0.11989573608828268, 0.32284458297843754, 0.08919842813508955, 0.008168987350553346, 0.03664437625347688, 0.017492701098991693, 0.03780108744816004, 0.03122381537995241, 0.039896393825829754, 0.04597155749919843, 0.05437219494134066, 0.06487579465934039, 0.0778886060972653, 0.09391392789123501, 0.11515158597738304, 0.12546843576598563, 0.2071587713867565, 0.12728328713235432, 0.3427371238966489, 0.09469451967594071, 0.007595992235139099, 0.034074039478598446, 0.016265715200372975, 0.03514961578641543, 0.0290336915702862, 0.0370979516439729, 0.04274698672137227, 0.0505583804771, 0.06032522898293477, 0.072425286235822, 0.08732654812899335, 0.10707453879077253, 0.11666773651802975, 0.19262808857063154, 0.11835528924583937, 0.3186966046209514, 0.08805238707095672, 0.007061931445894081, 0.031678353983749734, 0.015122101511912324, 0.03267830842228824, 0.026992384028791647, 0.034489660229100105, 0.039741521634052535, 0.047003710100313394, 0.05608386874918214, 0.06733319236170403, 0.08118677286697198, 0.09954631720701268, 0.10846503415664327, 0.17908474810526215, 0.11003393803466373, 0.29628960959978595, 0.0818615793557403, 0.0064598603963806865, 0.028977588622887702, 0.013832853719310388, 0.029892291084273916, 0.024691125073561786, 0.03154921453225496, 0.03635332396847127, 0.04299636830041914, 0.05130239020081364, 0.06159264303707575, 0.07426512460103717, 0.09105941017099693, 0.09921775422330932, 0.1638167236179576, 0.10065289984954519, 0.27102918366979845, 0.07488239988123684, 0.005795577359931245, 0.025997753242825997, 0.01241038798358446, 0.026818394642329532, 0.022152077086331573, 0.028304932652909207, 0.032615023920325274, 0.038574947969586076, 0.04602684159007209, 0.05525892289003684, 0.06662826258774765, 0.08169555123689742, 0.08901495307886333, 0.14697105453088175, 0.09030251921640355, 0.24315859854144814, 0.06718206196099336, 0.005075479745320812, 0.022767545287218312, 0.010868403427368443, 0.02348622239955373, 0.019399692487202854, 0.02478805879906582, 0.028562623362640864, 0.03378202980259433, 0.04030802933398714, 0.04839302910796686, 0.05834973398302484, 0.07154491948505548, 0.07795488927574473, 0.12870997384612257, 0.07908247595882954, 0.21294626318513252, 0.0588347240586147, 0.004366414708311917, 0.019586827177454143, 0.009350043535269713, 0.02020510219209124, 0.01668947702745616, 0.02132506678418441, 0.02457230942032369, 0.02906254368223388, 0.03467683469907433, 0.04163232732267303, 0.05019804027874477, 0.06154980502730627, 0.06706427612724591, 0.11072867021610558, 0.0680343343926655, 0.18319680942650501, 0.050615275280301665, 0.0031873143203515635, 0.014297628357221794, 0.006825171140786388, 0.014748945270458889, 0.012182674501239676, 0.015566476224600742, 0.017936838099784205, 0.021214535918426036, 0.025312751812242233, 0.030389993147586357, 0.03664263321792528, 0.04492898363614752, 0.04895433484077407, 0.08082765834895303, 0.04966243995847201, 0.13372660480835485, 0.03694719867591594, 0.0032897451304713427, 0.014757111642591723, 0.007044511858045732, 0.015222932540185946, 0.01257418945494839, 0.016066736509636033, 0.01851327477119023, 0.021896308056983074, 0.026126228430451287, 0.03136663721364711, 0.03782021855410262, 0.046372867649193746, 0.05052758167890277, 0.08342521908273558, 0.051258443190719934, 0.1380241804749984, 0.03813457184079824, 0.0011184578622621985, 0.00501716907734215, 0.0023950152248729565, 0.005175540326377374, 0.004275012348888698, 0.005462419445096302, 0.006294201192750574, 0.007444375454501846, 0.008882477043171343, 0.010664127649093354, 0.012858236464126968, 0.015765992914610352, 0.0171785256147692, 0.028363167507953178, 0.017427006202686248, 0.046925893560769684, 0.012965111279983088, 0.0012450244857768202, 0.005584920595881078, 0.002666039284434014, 0.005761213408998869, 0.004758780130169055, 0.00608055626429493, 0.007006463871182522, 0.008286793838995749, 0.009887633487354653, 0.011870898753142558, 0.014313296711390555, 0.017550099904141168, 0.019122477244402504, 0.03157279253253877, 0.01939907632482849, 0.05223610872737451, 0.014432265666005103, -1.7674049761775953e-19, -7.928210702264353e-19, -3.784641307719861e-19, -8.178471479243627e-19, -6.75544278741481e-19, -8.631802444220485e-19, -9.946197245759485e-19, -1.1763720982933626e-18, -1.403623208042147e-18, -1.6851624821590466e-18, -2.0318790611924417e-18, -2.491367379304158e-18, -2.7145780524559266e-18, -4.4819930267487734e-18, -2.7538433517922693e-18, -7.415304643049814e-18, -2.0487675902774907e-18, 0.772821941691734, 3.384572284200927, 1.5055045315767772, 2.90366980220816, 2.060273164924106, 2.1872199077123624, 2.033802321214192, 1.890809274458383, 1.7296067007680507, 1.551747069050122, 1.3589432647860062, 1.1690933974455207, 0.8533930871049049, 0.8808186047906327, 0.2994634704767397, 0.3333512740347125, -4.732169586018123e-17, 2.794649182783126, 12.239160999242765, 5.4441479749362225, 10.50013981493542, 7.450281113992781, 7.909341075739691, 7.35455826018825, 6.837472267022712, 6.2545376781832, 5.611368472424698, 4.91415872079071, 4.2276308830158795, 3.086007480907941, 3.1851825902740707, 1.0829083620597346, 1.2054521427296936, -1.7112290882175607e-16, 1.0364846882803904, 4.539282802029647, 2.0191357296355097, 3.8943113897915067, 2.763174120605659, 2.933431133287089, 2.7276722504968345, 2.5358944353269908, 2.319694570484038, 2.0811547788532825, 1.8225723290272429, 1.5679516072867001, 1.144544195953214, 1.1813264450275531, 0.40163106804265225, 0.4470803334069409, -6.346638279339111e-17, 1.6836243791830032, 7.373429898113275, 3.279803529885027, 6.32576406590325, 4.48838981027064, 4.7649485096112905, 4.430721988741147, 4.119205756367191, 3.7680193207724995, 3.380544799309883, 2.9605137834361455, 2.546918040619363, 1.8591519326313017, 1.9188995506742474, 0.6523934846695892, 0.7262194582208494, -1.0309226034664572e-16, 1.0167662979767922, 4.452926147656554, 1.980723096199556, 3.8202248617260937, 2.7106066814500465, 2.8776246745242045, 2.6757802093854273, 2.4876508319145176, 2.275564017043997, 2.0415622767395165, 1.78789917567857, 1.5381224336199597, 1.1227700497157367, 1.1588525424389278, 0.3939903201886196, 0.43857494532850555, -6.225897961490913e-17, 0.9291895149082342, 4.0693837859264175, 1.8101181526054184, 3.4911787430120618, 2.4771349251596413, 2.6297672146782167, 2.44530814967733, 2.2733828553987694, 2.079563641465236, 1.8657170928592688, 1.6339026687443585, 1.4056398612038032, 1.0260628818291853, 1.0590374935731586, 0.3600548869716367, 0.4007993198747832, -5.689644826168255e-17, 0.7530705928474375, 3.2980712879589555, 1.4670276928825372, 2.829459441324101, 2.0076178612898947, 2.1313201705725895, 1.9818235445263723, 1.8424850336945833, 1.6854023847835427, 1.512088389572374, 1.3242121565780278, 1.13921436544759, 0.8315825462087414, 0.8583071379271494, 0.2918099514027832, 0.3248316695230479, -4.61122745531307e-17, 0.618827852043345, 2.7101554494333273, 1.2055146020799687, 2.325078585126848, 1.6497388964935567, 1.75138997020866, 1.6285426875467413, 1.5140427293968384, 1.3849617121028974, 1.2425427564243214, 1.0881574347584155, 0.9361374424690541, 0.6833442253020546, 0.7053048779246809, 0.23979176341047284, 0.2669270135307547, -3.789227741140572e-17, 0.5085196172767791, 2.2270607364483657, 0.9906273966937341, 1.9106251736134259, 1.355667152797702, 1.4391985661474638, 1.338249242427698, 1.2441593033528198, 1.1380874300599961, 1.0210551526738203, 0.8941895560018722, 0.7692676604502313, 0.5615357207525269, 0.5795818100323352, 0.19704804066749815, 0.21934633729443945, -3.113784608008222e-17, 0.41787947891169697, 1.830102415783911, 0.8140548491381311, 1.5700693244063908, 1.1140287692784674, 1.182671280397871, 1.0997154821173427, 1.0223964301562791, 0.9352311416740706, 0.8390590660481938, 0.7348063929399307, 0.6321509695418432, 0.4614458251089487, 0.476275322592299, 0.16192557721895595, 0.180249355217894, -2.5587738313928675e-17, 0.34340173349312675, 1.503927265552457, 0.668967634114409, 1.290239303230942, 0.915477858658572, 0.9718863651760827, 0.9037155973579786, 0.8401769508931567, 0.7685469411037933, 0.6895154041411065, 0.6038434569090794, 0.5194840850653539, 0.37920334510865983, 0.39138981369495424, 0.13306593580206588, 0.14812390693136418, -2.10272916872005e-17, 0.28613185052672463, 1.2531139175473447, 0.5574023903273972, 1.0750631795024717, 0.762801547766396, 0.8098026802042645, 0.7530009053582088, 0.70005874252167, 0.6403746313036113, 0.5745233623217165, 0.5031391192942466, 0.43284855049197707, 0.31596274648402944, 0.32611685017043957, 0.11087422904310272, 0.1234209483056319, -1.752052274408311e-17, 0.2114434526917095, 0.9260162154422488, 0.4119048114793107, 0.7944416887434155, 0.5636890569204296, 0.5984215821698514, 0.5564466556792915, 0.5173238747567289, 0.47321898212226277, 0.42455673200214955, 0.3718057684665379, 0.31986299966307724, 0.23348765233774146, 0.2409912515997315, 0.08193296118642139, 0.0912046365903973, -1.2947177376978341e-17, 0.23645836226163328, 1.035568966282659, 0.46063538922670794, 0.8884284580167554, 0.6303765357944116, 0.6692181075391919, 0.6222773191266908, 0.578526100603231, 0.5292033594764257, 0.4747841007058794, 0.41579241150214485, 0.3577045308596125, 0.26111051052781403, 0.2695018263617676, 0.09162607576993466, 0.10199464076230706, -1.447889882376672e-17, 0.09832114358423745, 0.4305972690134726, 0.19153561671897298, 0.3694151526277459, 0.2621152464018103, 0.2782658604719968, 0.2587475319454879, 0.24055545027289815, 0.22004668811319492, 0.19741875605720594, 0.1728895734603163, 0.14873620117721154, 0.10857168996439541, 0.11206086142392685, 0.0380988029590937, 0.042410129306899316, -6.020433688947185e-18, 0.1790783263943909, 0.7842732038492091, 0.3488555608343235, 0.6728384645020633, 0.4774065672646909, 0.5068226707852197, 0.47127274246742623, 0.43813838885032974, 0.400784523037798, 0.3595708831773059, 0.3148943791503772, 0.2709023614870219, 0.1977482749270182, 0.20410331681015734, 0.06939168547911356, 0.07724416846252799, -1.096538496077779e-17, 0.03345891389589101, 0.146533252386187, 0.06518001595766532, 0.12571283584613166, 0.08919842813508955, 0.09469451967594071, 0.08805238707095672, 0.0818615793557403, 0.07488239988123684, 0.06718206196099336, 0.0588347240586147, 0.050615275280301665, 0.03694719867591594, 0.03813457184079824, 0.012965111279983088, 0.014432265666005103, -2.0487675902774907e-18, -0.772821941691734, -2.794649182783126, -1.0364846882803904, -1.6836243791830032, -1.0167662979767922, -0.9291895149082342, -0.7530705928474375, -0.618827852043345, -0.5085196172767791, -0.41787947891169697, -0.34340173349312675, -0.28613185052672463, -0.2114434526917095, -0.23645836226163328, -0.09832114358423745, -0.1790783263943909, -0.03345891389589101, -3.3845722842009276, -12.239160999242767, -4.539282802029647, -7.373429898113276, -4.452926147656555, -4.069383785926418, -3.298071287958956, -2.7101554494333273, -2.227060736448366, -1.8301024157839112, -1.5039272655524571, -1.2531139175473451, -0.9260162154422491, -1.0355689662826593, -0.43059726901347267, -0.7842732038492092, -0.14653325238618703, -1.5055045315767772, -5.4441479749362225, -2.0191357296355097, -3.279803529885027, -1.980723096199556, -1.8101181526054184, -1.4670276928825372, -1.2055146020799687, -0.9906273966937341, -0.8140548491381311, -0.668967634114409, -0.5574023903273972, -0.4119048114793107, -0.46063538922670794, -0.19153561671897298, -0.3488555608343235, -0.06518001595766532, -2.90366980220816, -10.50013981493542, -3.8943113897915067, -6.32576406590325, -3.8202248617260937, -3.4911787430120618, -2.829459441324101, -2.325078585126848, -1.9106251736134259, -1.5700693244063908, -1.290239303230942, -1.0750631795024717, -0.7944416887434155, -0.8884284580167554, -0.3694151526277459, -0.6728384645020633, -0.12571283584613166, -2.060273164924106, -7.450281113992781, -2.763174120605659, -4.48838981027064, -2.7106066814500465, -2.4771349251596413, -2.0076178612898947, -1.6497388964935567, -1.355667152797702, -1.1140287692784674, -0.915477858658572, -0.762801547766396, -0.5636890569204296, -0.6303765357944116, -0.2621152464018103, -0.4774065672646909, -0.08919842813508955, -2.1872199077123624, -7.909341075739691, -2.933431133287089, -4.7649485096112905, -2.8776246745242045, -2.6297672146782167, -2.1313201705725895, -1.75138997020866, -1.4391985661474638, -1.182671280397871, -0.9718863651760827, -0.8098026802042645, -0.5984215821698514, -0.6692181075391919, -0.2782658604719968, -0.5068226707852197, -0.09469451967594071, -2.0338023212141914, -7.3545582601882495, -2.7276722504968345, -4.430721988741146, -2.675780209385427, -2.4453081496773295, -1.981823544526372, -1.6285426875467408, -1.3382492424276977, -1.0997154821173425, -0.9037155973579785, -0.7530009053582086, -0.5564466556792915, -0.6222773191266906, -0.25874753194548783, -0.4712727424674261, -0.08805238707095668, -1.890809274458383, -6.837472267022712, -2.5358944353269908, -4.119205756367191, -2.4876508319145176, -2.2733828553987694, -1.8424850336945833, -1.5140427293968384, -1.2441593033528198, -1.0223964301562791, -0.8401769508931567, -0.70005874252167, -0.5173238747567289, -0.578526100603231, -0.24055545027289815, -0.43813838885032974, -0.0818615793557403, -1.729606700768051, -6.254537678183202, -2.3196945704840384, -3.7680193207724995, -2.2755640170439975, -2.0795636414652363, -1.6854023847835429, -1.3849617121028976, -1.1380874300599961, -0.9352311416740706, -0.7685469411037935, -0.6403746313036114, -0.4732189821222628, -0.5292033594764258, -0.22004668811319494, -0.4007845230377981, -0.07488239988123684, -1.5517470690501225, -5.611368472424699, -2.0811547788532834, -3.380544799309883, -2.041562276739517, -1.865717092859269, -1.512088389572374, -1.2425427564243217, -1.0210551526738205, -0.839059066048194, -0.6895154041411065, -0.5745233623217167, -0.42455673200214966, -0.4747841007058794, -0.197418756057206, -0.359570883177306, -0.06718206196099337, -1.3589432647860067, -4.914158720790714, -1.8225723290272438, -2.9605137834361464, -1.787899175678571, -1.6339026687443594, -1.3242121565780285, -1.088157434758416, -0.8941895560018728, -0.734806392939931, -0.6038434569090796, -0.5031391192942468, -0.3718057684665381, -0.4157924115021451, -0.17288957346031636, -0.3148943791503774, -0.05883472405861473, -1.1690933974455209, -4.22763088301588, -1.5679516072867004, -2.546918040619363, -1.5381224336199601, -1.4056398612038035, -1.1392143654475901, -0.9361374424690542, -0.7692676604502315, -0.6321509695418434, -0.5194840850653539, -0.4328485504919772, -0.31986299966307735, -0.35770453085961257, -0.14873620117721154, -0.270902361487022, -0.05061527528030167, -0.8533930871049052, -3.0860074809079414, -1.1445441959532145, -1.8591519326313022, -1.1227700497157371, -1.0260628818291857, -0.8315825462087417, -0.6833442253020549, -0.5615357207525271, -0.46144582510894894, -0.37920334510866, -0.31596274648402956, -0.23348765233774152, -0.2611105105278141, -0.10857168996439545, -0.19774827492701827, -0.03694719867591596, -0.880818604790633, -3.185182590274073, -1.1813264450275538, -1.9188995506742486, -1.1588525424389284, -1.059037493573159, -0.8583071379271499, -0.7053048779246812, -0.5795818100323354, -0.47627532259229927, -0.3913898136949544, -0.32611685017043973, -0.24099125159973162, -0.2695018263617678, -0.11206086142392689, -0.20410331681015742, -0.03813457184079826, -0.29946347047674, -1.0829083620597353, -0.40163106804265253, -0.6523934846695898, -0.39399032018861996, -0.36005488697163696, -0.29180995140278343, -0.23979176341047304, -0.1970480406674983, -0.16192557721895603, -0.133065935802066, -0.11087422904310279, -0.08193296118642145, -0.0916260757699347, -0.03809880295909373, -0.06939168547911359, -0.012965111279983095, -0.33335127403471293, -1.2054521427296951, -0.44708033340694153, -0.7262194582208503, -0.43857494532850616, -0.4007993198747837, -0.3248316695230483, -0.26692701353075504, -0.21934633729443967, -0.18024935521789423, -0.1481239069313644, -0.12342094830563204, -0.09120463659039742, -0.10199464076230719, -0.04241012930689938, -0.07724416846252809, -0.01443226566600512, -4.732169586018123e-17, -1.7112290882175607e-16, -6.346638279339111e-17, -1.0309226034664572e-16, -6.225897961490913e-17, -5.689644826168255e-17, -4.61122745531307e-17, -3.789227741140572e-17, -3.113784608008222e-17, -2.5587738313928675e-17, -2.10272916872005e-17, -1.752052274408311e-17, -1.2947177376978341e-17, -1.447889882376672e-17, -6.020433688947185e-18, -1.096538496077779e-17, -2.0487675902774907e-18, 6.0659049881276985, 27.21038669349107, 12.989255375087959, 28.069305908879066, 23.185333669148378, 29.625181669551104, 34.13631188050474, 40.37422930857998, 48.17370740648588, 57.83640786415364, 69.7360565274372, 85.50614045493768, 93.16694685711792, 153.82633988338992, 94.51456994472383, 254.5004344168065, 70.3156871961292, 1.2511553505554591, 5.612422378668441, 2.6791676417748786, 5.789583309169479, 4.782213755629953, 6.110498702103323, 7.0409657489057045, 8.327600436019134, 9.936323087104888, 11.929354531231953, 14.383779571508219, 17.636521730051488, 19.21664191630844, 31.728266199050836, 19.494603051520787, 52.49333460753059, 14.503334364057629, -0.9534700896034517, -4.277068284050961, -2.0417178492915933, -4.412077616188703, -3.644389784257439, -4.656638156428502, -5.3657207640310345, -6.346228652091714, -7.572190663601207, -9.091023531774354, -10.961471403845726, -13.44029416233554, -14.64445904474265, -24.179213878069262, -14.856285360619038, -40.00368493777032, -11.052580728290527, 0.41042059578359524, 1.8410613321676241, 0.8788561542363278, 1.8991760136206761, 1.5687252729077863, 2.0044469431703607, 2.309671102213517, 2.7317301012071256, 3.2594446720764068, 3.9132253175821154, 4.718358418670754, 5.78536610404497, 6.303698114506623, 10.407927289615774, 6.394878617925234, 17.219560828098256, 4.75757636963514, -0.08668212597825725, -0.3888379676072555, -0.1856171952892162, -0.40111197186204167, -0.33131973182741514, -0.42334552463892394, -0.48780983095686736, -0.5769500244483057, -0.6884050083906135, -0.8264855454252448, -0.9965321990649887, -1.2218875919316383, -1.3313609494848024, -2.198187112828797, -1.3506185597638452, -3.636825627967518, -1.004815154162828, -0.008168987350553342, -0.03664437625347687, -0.01749270109899169, -0.03780108744816004, -0.0312238153799524, -0.03989639382582974, -0.045971557499198415, -0.05437219494134065, -0.06487579465934036, -0.07788860609726529, -0.093913927891235, -0.11515158597738302, -0.1254684357659856, -0.2071587713867565, -0.12728328713235432, -0.3427371238966488, -0.09469451967594068, -0.007595992235139098, -0.03407403947859844, -0.01626571520037297, -0.035149615786415414, -0.029033691570286197, -0.03709795164397289, -0.04274698672137227, -0.050558380477099985, -0.060325228982934756, -0.07242528623582198, -0.08732654812899332, -0.1070745387907725, -0.11666773651802972, -0.19262808857063146, -0.11835528924583934, -0.3186966046209513, -0.08805238707095668, -0.0070619314458940765, -0.031678353983749706, -0.015122101511912314, -0.032678308422288214, -0.02699238402879163, -0.03448966022910009, -0.03974152163405251, -0.04700371010031337, -0.056083868749182114, -0.06733319236170399, -0.08118677286697194, -0.09954631720701261, -0.10846503415664321, -0.17908474810526204, -0.11003393803466366, -0.2962896095997858, -0.08186157935574025, -0.006459860396380686, -0.028977588622887702, -0.013832853719310388, -0.029892291084273916, -0.02469112507356178, -0.031549214532254954, -0.03635332396847126, -0.04299636830041914, -0.05130239020081364, -0.06159264303707575, -0.07426512460103717, -0.09105941017099692, -0.0992177542233093, -0.1638167236179576, -0.10065289984954517, -0.2710291836697984, -0.07488239988123684, -0.005795577359931248, -0.025997753242826008, -0.012410387983584462, -0.02681839464232954, -0.022152077086331576, -0.028304932652909214, -0.03261502392032528, -0.03857494796958609, -0.0460268415900721, -0.05525892289003685, -0.06662826258774768, -0.08169555123689744, -0.08901495307886335, -0.14697105453088177, -0.09030251921640357, -0.24315859854144817, -0.06718206196099338, -0.005075479745320809, -0.022767545287218305, -0.010868403427368441, -0.023486222399553724, -0.019399692487202844, -0.0247880587990658, -0.028562623362640857, -0.033782029802594316, -0.04030802933398713, -0.04839302910796685, -0.058349733983024815, -0.07154491948505545, -0.0779548892757447, -0.12870997384612254, -0.07908247595882952, -0.2129462631851324, -0.05883472405861468, -0.004366414708311916, -0.01958682717745414, -0.00935004353526971, -0.020205102192091238, -0.016689477027456157, -0.02132506678418441, -0.024572309420323686, -0.029062543682233877, -0.03467683469907432, -0.04163232732267303, -0.05019804027874476, -0.06154980502730626, -0.0670642761272459, -0.11072867021610557, -0.06803433439266549, -0.183196809426505, -0.05061527528030165, -0.0031873143203515653, -0.014297628357221804, -0.006825171140786394, -0.014748945270458898, -0.012182674501239684, -0.015566476224600756, -0.017936838099784212, -0.021214535918426057, -0.02531275181224225, -0.03038999314758638, -0.036642633217925304, -0.04492898363614756, -0.048954334840774105, -0.08082765834895309, -0.049662439958472054, -0.13372660480835494, -0.036947198675915977, -0.0032897451304713414, -0.014757111642591716, -0.00704451185804573, -0.015222932540185941, -0.012574189454948382, -0.01606673650963603, -0.018513274771190222, -0.02189630805698306, -0.026126228430451273, -0.031366637213647096, -0.0378202185541026, -0.046372867649193725, -0.05052758167890275, -0.08342521908273554, -0.05125844319071991, -0.13802418047499834, -0.03813457184079823, -0.0011184578622621994, -0.005017169077342153, -0.0023950152248729583, -0.0051755403263773776, -0.004275012348888701, -0.005462419445096307, -0.006294201192750577, -0.007444375454501851, -0.008882477043171348, -0.01066412764909336, -0.012858236464126975, -0.015765992914610356, -0.017178525614769215, -0.028363167507953195, -0.01742700620268626, -0.04692589356076971, -0.012965111279983095, -0.001245024485776813, -0.005584920595881045, -0.0026660392844339987, -0.005761213408998835, -0.004758780130169027, -0.006080556264294896, -0.007006463871182481, -0.008286793838995703, -0.009887633487354596, -0.01187089875314249, -0.014313296711390474, -0.017550099904141064, -0.019122477244402393, -0.0315727925325386, -0.019399076324828377, -0.05223610872737421, -0.014432265666005023, 5.302214928532786e-19, 2.3784632106793063e-18, 1.1353923923159581e-18, 2.453541443773088e-18, 2.0266328362244428e-18, 2.5895407332661456e-18, 2.983859173727845e-18, 3.529116294880087e-18, 4.21086962412644e-18, 5.05548744647714e-18, 6.0956371835773256e-18, 7.474102137912474e-18, 8.143734157367779e-18, 1.3445979080246318e-17, 8.261530055376809e-18, 2.2245913929149446e-17, 6.146302770832472e-18, 1624.1264160393052, 334.9927932242878, -255.28852866294338, 109.88878536728811, -23.208858509204653, -2.187219907712362, -2.0338023212141914, -1.8908092744583822, -1.7296067007680507, -1.5517470690501227, -1.358943264786006, -1.1690933974455202, -0.8533930871049057, -0.8808186047906321, -0.2994634704767399, -0.3333512740347106, 1.4196508758054365e-16, 5873.103902025609, 1211.3881417149546, -923.1646250105842, 397.3756277564637, -83.92698753363013, -7.9093410757396905, -7.3545582601882495, -6.83747226702271, -6.254537678183199, -5.611368472424701, -4.91415872079071, -4.2276308830158795, -3.0860074809079427, -3.1851825902740702, -1.082908362059735, -1.2054521427296867, 5.133687264652682e-16, 2178.2277019354096, 449.2818877543614, -342.3850136469288, 147.3794121290055, -31.1269972803801, -2.9334311332870886, -2.7276722504968345, -2.5358944353269894, -2.319694570484038, -2.0811547788532834, -1.822572329027242, -1.5679516072867, -1.1445441959532148, -1.1813264450275527, -0.40163106804265253, -0.4470803334069384, 1.903991483801733e-16, 3538.2261830366174, 729.7955752762426, -556.1565574106519, 239.39723765888203, -50.561452633667884, -4.76494850961129, -4.430721988741146, -4.119205756367188, -3.768019320772499, -3.3805447993098836, -2.9605137834361437, -2.5469180406193628, -1.8591519326313026, -1.9188995506742468, -0.6523934846695897, -0.7262194582208452, 3.092767810399372e-16, 2136.7884559122667, 440.73461665692156, -335.87138019963317, 144.57562273979994, -30.534828106736178, -2.8776246745242036, -2.675780209385427, -2.487650831914516, -2.275564017043997, -2.041562276739517, -1.7878991756785694, -1.5381224336199595, -1.1227700497157376, -1.158852542438927, -0.3939903201886199, -0.43857494532850305, 1.8677693884472736e-16, 1952.7411881780843, 402.7729729728503, -306.9418857216879, 132.12294017658016, -27.904782222583187, -2.6297672146782163, -2.4453081496773295, -2.2733828553987676, -2.0795636414652354, -1.8657170928592692, -1.633902668744358, -1.405639861203803, -1.026062881829186, -1.059037493573158, -0.3600548869716369, -0.40079931987478085, 1.7068934478504762e-16, 1582.617905889855, 326.43123568774286, -248.76400792465893, 107.0803095505765, -22.61569954727126, -2.131320170572589, -1.981823544526372, -1.8424850336945822, -1.6854023847835422, -1.5120883895723742, -1.3242121565780274, -1.1392143654475897, -0.831582546208742, -0.858307137927149, -0.29180995140278343, -0.324831669523046, 1.383368236593921e-16, 1300.4996458619694, 268.2414402303244, -204.41921136189825, 87.99211997479239, -18.584213626478412, -1.7513899702086595, -1.6285426875467408, -1.5140427293968373, -1.3849617121028972, -1.2425427564243219, -1.0881574347584149, -0.9361374424690538, -0.6833442253020551, -0.7053048779246806, -0.239791763410473, -0.2669270135307532, 1.1367683223421716e-16, 1068.6810233227725, 220.4264628253063, -167.98077006800972, 72.30721601363813, -15.271512375407369, -1.4391985661474636, -1.3382492424276977, -1.244159303352819, -1.138087430059996, -1.0210551526738207, -0.894189556001872, -0.7692676604502313, -0.5615357207525273, -0.579581810032335, -0.1970480406674983, -0.21934633729443814, 9.341353824024668e-17, 878.1959514963471, 181.13695577186087, -138.0393484898717, 59.418950071475194, -12.549469906006266, -1.1826712803978707, -1.0997154821173425, -1.0223964301562785, -0.9352311416740704, -0.8390590660481942, -0.7348063929399304, -0.6321509695418431, -0.46144582510894905, -0.4762753225922987, -0.16192557721895603, -0.18024935521789298, 7.676321494178602e-17, 721.6770081074445, 148.85331238021632, -113.43689736844098, 48.82884057869198, -10.312805336519121, -0.9718863651760825, -0.9037155973579785, -0.8401769508931562, -0.7685469411037933, -0.6895154041411067, -0.6038434569090791, -0.5194840850653538, -0.37920334510866016, -0.39138981369495396, -0.13306593580206597, -0.14812390693136337, 6.30818750616015e-17, 601.3213029296085, 124.02870915978177, -94.51876969832422, 40.68554451294056, -8.592915490099465, -0.8098026802042643, -0.7530009053582086, -0.7000587425216696, -0.6403746313036112, -0.5745233623217167, -0.5031391192942465, -0.432848550491977, -0.31596274648402967, -0.32611685017043945, -0.11087422904310279, -0.12342094830563118, 5.256156823224933e-17, 444.35966228316994, 91.65375490132897, -69.84673314905773, 30.065482016846985, -6.34992475171863, -0.5984215821698513, -0.5564466556792915, -0.5173238747567287, -0.47321898212226265, -0.4245567320021497, -0.37180576846653784, -0.31986299966307724, -0.23348765233774166, -0.24099125159973137, -0.08193296118642143, -0.09120463659039678, 3.884153213093502e-17, 496.92982526070244, 102.49689221021286, -78.10998127159834, 33.62239193414842, -7.101155359325381, -0.6692181075391916, -0.6222773191266906, -0.5785261006032305, -0.5292033594764257, -0.4747841007058795, -0.41579241150214474, -0.3577045308596124, -0.2611105105278142, -0.2695018263617675, -0.0916260757699347, -0.1019946407623065, 4.3436696471300167e-17, 206.62711283894888, 42.61896918996633, -32.47871046095383, 13.980440333698855, -2.952713150088048, -0.2782658604719968, -0.25874753194548783, -0.240555450272898, -0.22004668811319492, -0.19741875605720602, -0.17288957346031622, -0.1487362011772115, -0.10857168996439548, -0.11206086142392681, -0.03809880295909372, -0.04241012930689907, 1.8061301066841555e-17, 376.3426279028354, 77.62454134450122, -59.15546647209715, 25.463433051614746, -5.377957476536593, -0.5068226707852196, -0.4712727424674261, -0.4381383888503295, -0.40078452303779794, -0.359570883177306, -0.3148943791503771, -0.2709023614870219, -0.1977482749270183, -0.20410331681015723, -0.06939168547911359, -0.07724416846252755, 3.2896154882333364e-17, 70.3156871961292, 14.503334364057629, -11.052580728290527, 4.75757636963514, -1.004815154162828, -0.09469451967594068, -0.08805238707095668, -0.08186157935574025, -0.07488239988123684, -0.06718206196099338, -0.05883472405861468, -0.05061527528030165, -0.036947198675915977, -0.03813457184079823, -0.012965111279983095, -0.014432265666005023, 6.146302770832472e-18, 0.772821941691734, 2.794649182783126, 1.0364846882803904, 1.6836243791830032, 1.0167662979767922, 0.9291895149082342, 0.7530705928474375, 0.618827852043345, 0.5085196172767791, 0.41787947891169697, 0.34340173349312675, 0.28613185052672463, 0.2114434526917095, 0.23645836226163328, 0.09832114358423745, 0.1790783263943909, 0.03345891389589101, 3.3845722842009276, 12.239160999242767, 4.539282802029647, 7.373429898113276, 4.452926147656555, 4.069383785926418, 3.298071287958956, 2.7101554494333273, 2.227060736448366, 1.8301024157839112, 1.5039272655524571, 1.2531139175473451, 0.9260162154422491, 1.0355689662826593, 0.43059726901347267, 0.7842732038492092, 0.14653325238618703, 1.5055045315767772, 5.4441479749362225, 2.0191357296355097, 3.279803529885027, 1.980723096199556, 1.8101181526054184, 1.4670276928825372, 1.2055146020799687, 0.9906273966937341, 0.8140548491381311, 0.668967634114409, 0.5574023903273972, 0.4119048114793107, 0.46063538922670794, 0.19153561671897298, 0.3488555608343235, 0.06518001595766532, 2.90366980220816, 10.50013981493542, 3.8943113897915067, 6.32576406590325, 3.8202248617260937, 3.4911787430120618, 2.829459441324101, 2.325078585126848, 1.9106251736134259, 1.5700693244063908, 1.290239303230942, 1.0750631795024717, 0.7944416887434155, 0.8884284580167554, 0.3694151526277459, 0.6728384645020633, 0.12571283584613166, 2.060273164924106, 7.450281113992781, 2.763174120605659, 4.48838981027064, 2.7106066814500465, 2.4771349251596413, 2.0076178612898947, 1.6497388964935567, 1.355667152797702, 1.1140287692784674, 0.915477858658572, 0.762801547766396, 0.5636890569204296, 0.6303765357944116, 0.2621152464018103, 0.4774065672646909, 0.08919842813508955, 2.1872199077123624, 7.909341075739691, 2.933431133287089, 4.7649485096112905, 2.8776246745242045, 2.6297672146782167, 2.1313201705725895, 1.75138997020866, 1.4391985661474638, 1.182671280397871, 0.9718863651760827, 0.8098026802042645, 0.5984215821698514, 0.6692181075391919, 0.2782658604719968, 0.5068226707852197, 0.09469451967594071, 2.033802321214192, 7.35455826018825, 2.7276722504968345, 4.430721988741147, 2.6757802093854273, 2.44530814967733, 1.9818235445263723, 1.6285426875467413, 1.338249242427698, 1.0997154821173427, 0.9037155973579786, 0.7530009053582088, 0.5564466556792915, 0.6222773191266908, 0.2587475319454879, 0.47127274246742623, 0.08805238707095672, 1.8908092744583838, 6.837472267022715, 2.5358944353269917, 4.119205756367192, 2.487650831914518, 2.27338285539877, 1.842485033694584, 1.5140427293968386, 1.2441593033528202, 1.0223964301562793, 0.8401769508931569, 0.7000587425216702, 0.517323874756729, 0.5785261006032311, 0.2405554502728982, 0.4381383888503298, 0.08186157935574032, 1.7296067007680511, 6.254537678183202, 2.319694570484039, 3.7680193207725, 2.275564017043998, 2.0795636414652368, 1.6854023847835429, 1.3849617121028976, 1.1380874300599961, 0.9352311416740707, 0.7685469411037935, 0.6403746313036115, 0.4732189821222628, 0.5292033594764259, 0.22004668811319497, 0.40078452303779816, 0.07488239988123685, 1.5517470690501236, 5.6113684724247035, 2.0811547788532843, 3.380544799309886, 2.0415622767395187, 1.8657170928592703, 1.5120883895723753, 1.2425427564243225, 1.0210551526738212, 0.8390590660481947, 0.689515404141107, 0.5745233623217171, 0.42455673200214994, 0.4747841007058798, 0.19741875605720613, 0.35957088317730623, 0.06718206196099342, 1.3589432647860067, 4.914158720790713, 1.822572329027243, 2.960513783436146, 1.7878991756785705, 1.633902668744359, 1.3242121565780283, 1.0881574347584158, 0.8941895560018727, 0.7348063929399309, 0.6038434569090796, 0.5031391192942468, 0.37180576846653807, 0.415792411502145, 0.17288957346031636, 0.3148943791503773, 0.05883472405861472, 1.169093397445521, 4.227630883015881, 1.567951607286701, 2.5469180406193646, 1.5381224336199606, 1.405639861203804, 1.1392143654475906, 0.9361374424690545, 0.7692676604502319, 0.6321509695418437, 0.5194840850653542, 0.43284855049197735, 0.31986299966307746, 0.3577045308596127, 0.14873620117721162, 0.27090236148702207, 0.050615275280301686, 0.8533930871049065, 3.0860074809079454, 1.1445441959532159, 1.8591519326313046, 1.1227700497157387, 1.0260628818291868, 0.8315825462087427, 0.6833442253020557, 0.5615357207525279, 0.46144582510894955, 0.37920334510866055, 0.31596274648402994, 0.23348765233774182, 0.2611105105278144, 0.10857168996439558, 0.1977482749270185, 0.03694719867591601, 0.8808186047906333, 3.185182590274074, 1.1813264450275545, 1.9188995506742492, 1.1588525424389289, 1.0590374935731592, 0.8583071379271501, 0.7053048779246814, 0.5795818100323358, 0.47627532259229943, 0.39138981369495457, 0.32611685017043984, 0.24099125159973173, 0.26950182636176784, 0.11206086142392693, 0.20410331681015753, 0.038134571840798284, 0.29946347047674043, 1.082908362059737, 0.4016310680426532, 0.6523934846695908, 0.3939903201886206, 0.36005488697163757, 0.29180995140278393, 0.23979176341047345, 0.19704804066749865, 0.16192557721895634, 0.13306593580206622, 0.11087422904310298, 0.0819329611864216, 0.09162607576993487, 0.0380988029590938, 0.06939168547911372, 0.012965111279983118, 0.3333512740347118, 1.205452142729691, 0.44708033340694003, 0.726219458220848, 0.4385749453285047, 0.40079931987478234, 0.3248316695230472, 0.26692701353075415, 0.21934633729443898, 0.18024935521789362, 0.1481239069313639, 0.12342094830563162, 0.0912046365903971, 0.10199464076230687, 0.04241012930689923, 0.07724416846252782, 0.014432265666005075, 1.4196508758054365e-16, 5.133687264652682e-16, 1.903991483801733e-16, 3.092767810399372e-16, 1.8677693884472736e-16, 1.7068934478504762e-16, 1.383368236593921e-16, 1.1367683223421716e-16, 9.341353824024668e-17, 7.676321494178602e-17, 6.30818750616015e-17, 5.256156823224933e-17, 3.884153213093502e-17, 4.3436696471300167e-17, 1.8061301066841555e-17, 3.2896154882333364e-17, 6.146302770832472e-18, 0.002886391369998487, 0.012640945740837154, 0.005622867381229405, 0.010844836315170178, 0.00769485745973873, 0.008168987350553346, 0.007595992235139099, 0.007061931445894082, 0.006459860396380688, 0.005795577359931251, 0.005075479745320813, 0.004366414708311919, 0.0031873143203515683, 0.0032897451304713453, 0.0011184578622622013, 0.0012450244857768176, 5.302214928532786e-19, 0.012947750662124429, 0.05670465041124656, 0.025223012241194803, 0.04864767752560504, 0.034517528289775015, 0.03664437625347688, 0.034074039478598446, 0.031678353983749734, 0.028977588622887712, 0.02599775324282602, 0.022767545287218322, 0.019586827177454153, 0.014297628357221818, 0.014757111642591737, 0.005017169077342162, 0.005584920595881066, 2.3784632106793063e-18, 0.006180788306236337, 0.02706875111491733, 0.012040554624246488, 0.023222643393604015, 0.01647742073360395, 0.017492701098991693, 0.016265715200372975, 0.015122101511912326, 0.013832853719310392, 0.012410387983584471, 0.010868403427368445, 0.009350043535269716, 0.0068251711407864004, 0.007044511858045738, 0.0023950152248729626, 0.002666039284434008, 1.1353923923159581e-18, 0.013356457527080947, 0.05849458138094238, 0.026019198275886887, 0.0501832832294643, 0.03560710370264037, 0.03780108744816004, 0.03514961578641543, 0.03267830842228824, 0.02989229108427392, 0.026818394642329553, 0.02348622239955374, 0.02020510219209125, 0.014748945270458913, 0.015222932540185962, 0.005175540326377387, 0.005761213408998856, 2.453541443773088e-18, 0.011032475309808857, 0.048316705498773864, 0.021491938410893845, 0.04145154746845581, 0.029411578006869714, 0.03122381537995241, 0.0290336915702862, 0.026992384028791654, 0.024691125073561786, 0.022152077086331587, 0.019399692487202858, 0.01668947702745617, 0.012182674501239695, 0.0125741894549484, 0.004275012348888709, 0.004758780130169045, 2.0266328362244428e-18, 0.014096803176606158, 0.061736923802828816, 0.027461436998888814, 0.05296493213168972, 0.03758079801978945, 0.039896393825829754, 0.0370979516439729, 0.03448966022910011, 0.031549214532254975, 0.02830493265290923, 0.024788058799065822, 0.021325066784184422, 0.015566476224600771, 0.01606673650963605, 0.005462419445096315, 0.0060805562642949175, 2.5895407332661456e-18, 0.01624337278745907, 0.07113782149874169, 0.03164308622770059, 0.0610300879212979, 0.04330335780658949, 0.04597155749919843, 0.04274698672137227, 0.039741521634052535, 0.036353323968471275, 0.032615023920325295, 0.028562623362640878, 0.0245723094203237, 0.017936838099784233, 0.018513274771190247, 0.006294201192750589, 0.007006463871182507, 2.983859173727845e-18, 0.019211614305649573, 0.08413722981431115, 0.037425402716629454, 0.07218245407068988, 0.05121642033371532, 0.05437219494134066, 0.0505583804771, 0.0470037101003134, 0.042996368300419155, 0.03857494796958612, 0.033782029802594336, 0.029062543682233898, 0.021214535918426074, 0.02189630805698309, 0.007444375454501864, 0.008286793838995731, 3.529116294880087e-18, 0.02292290657223624, 0.10039082752733895, 0.044655227627036546, 0.08612663280100198, 0.061110388726099335, 0.06487579465934039, 0.06032522898293477, 0.05608386874918217, 0.05130239020081366, 0.04602684159007213, 0.04030802933398715, 0.03467683469907435, 0.025312751812242275, 0.026126228430451315, 0.008882477043171366, 0.009887633487354632, 4.21086962412644e-18, 0.027520791845164212, 0.12052725769470991, 0.053612190079358225, 0.10340194539343867, 0.07336793361732842, 0.0778886060972653, 0.072425286235822, 0.06733319236170404, 0.061592643037075775, 0.05525892289003688, 0.048393029107966876, 0.04163232732267306, 0.03038999314758641, 0.031366637213647144, 0.01066412764909338, 0.011870898753142534, 5.05548744647714e-18, 0.03318310328507967, 0.1453253403191498, 0.06464271997519816, 0.12467655193836846, 0.08846314207577813, 0.09391392789123501, 0.08732654812899335, 0.08118677286697201, 0.07426512460103718, 0.0666282625877477, 0.05834973398302486, 0.05019804027874479, 0.036642633217925345, 0.03782021855410265, 0.012858236464127, 0.014313296711390526, 6.0956371835773256e-18, 0.04068711698815928, 0.17818915464630308, 0.07926099881219695, 0.15287085752096, 0.10846816163802621, 0.11515158597738304, 0.10707453879077253, 0.0995463172070127, 0.09105941017099696, 0.08169555123689748, 0.0715449194850555, 0.0615498050273063, 0.04492898363614759, 0.046372867649193794, 0.015765992914610387, 0.017550099904141126, 7.474102137912474e-18, 0.044332423917588674, 0.1941537696955917, 0.08636228023962471, 0.16656711416138856, 0.11818621910955052, 0.12546843576598563, 0.11666773651802975, 0.10846503415664331, 0.09921775422330935, 0.08901495307886341, 0.07795488927574476, 0.06706427612724596, 0.04895433484077415, 0.05052758167890282, 0.017178525614769243, 0.019122477244402466, 8.143734157367779e-18, 0.07319650089918679, 0.3205639421954907, 0.14259127213451375, 0.27501609079966993, 0.19513522900090136, 0.2071587713867565, 0.19262808857063154, 0.1790847481052622, 0.16381672361795763, 0.14697105453088186, 0.12870997384612262, 0.11072867021610565, 0.08082765834895315, 0.08342521908273563, 0.028363167507953247, 0.03157279253253871, 1.3445979080246318e-17, 0.04497367491932536, 0.19696212728821266, 0.0876114765122867, 0.16897644167776646, 0.11989573608828268, 0.12728328713235432, 0.11835528924583937, 0.11003393803466374, 0.1006528998495452, 0.09030251921640363, 0.07908247595882956, 0.06803433439266554, 0.0496624399584721, 0.05125844319071999, 0.01742700620268629, 0.01939907632482845, 8.261530055376809e-18, 0.12110111500250749, 0.5303621122946954, 0.23591239790135152, 0.45500474517684053, 0.32284458297843754, 0.3427371238966489, 0.3186966046209514, 0.296289609599786, 0.27102918366979856, 0.24315859854144833, 0.21294626318513257, 0.18319680942650515, 0.13372660480835508, 0.1380241804749985, 0.046925893560769795, 0.05223610872737441, 2.2245913929149446e-17, 0.03345891389589101, 0.14653325238618703, 0.06518001595766532, 0.12571283584613166, 0.08919842813508955, 0.09469451967594071, 0.08805238707095672, 0.08186157935574032, 0.07488239988123685, 0.06718206196099342, 0.05883472405861472, 0.050615275280301686, 0.03694719867591601, 0.038134571840798284, 0.012965111279983118, 0.014432265666005075, 6.146302770832472e-18]"
     ]
    },
    {
     "name": "stderr",
     "output_type": "stream",
     "text": [
      "Excessive output truncated after 812256 bytes."
     ]
    },
    {
     "name": "stdout",
     "output_type": "stream",
     "text": [
      "\n",
      "gδ = [0.0, 0.0, 0.0, 0.0, 0.0, 0.0, 0.0, 0.0, 0.0, 0.0, 0.0, 0.0, 0.0, 0.0, 0.0, 0.0, 0.0, 0.0, 0.0, 0.0, 0.0, 0.0, 0.0, 0.0, 0.0, 0.0, 0.0, 0.0, 0.0, 0.0, 0.0, 0.0, 0.0, 0.0, 0.0, 0.0, 0.0, 0.0, 0.0, 0.0, 0.0, 0.0, 0.0, 0.0, 0.0, 0.0, 0.0, 0.0, 0.0, 0.0, 0.0, 0.0, 0.0, 0.0, 0.0, 0.0, 0.0, 0.0, 0.0, 0.0, 0.0, 0.0, 0.0, 0.0, 0.0, 0.0, 0.0, 0.0, 0.0, 0.0, 0.0, 0.0, 0.0, 0.0, 0.0, 0.0, 0.0, 0.0, 0.0, 0.0, 0.0, 0.0, 0.0, 0.0, 0.0, 0.0, 0.0, 0.0, 0.0, 0.0, 0.0, 0.0, 0.0, 0.0, 0.0, 0.0, 0.0, 0.0, 0.0, 0.0, 0.0, 0.0, 0.0, 0.0, 0.0, 0.0, 0.0, 0.0, 0.0, 0.0, 0.0, 0.0, 0.0, 0.0, 0.0, 0.0, 0.0, 0.0, 0.0, 0.0, 0.0, 0.0, 0.0, 0.0, 0.0, 0.0, 0.0, 0.0, 0.0, 0.0, 0.0, 0.0, 0.0, 0.0, 0.0, 0.0, 0.0, 0.0, 0.0, 0.0, 0.0, 0.0, 0.0, 0.0, 0.0, 0.0, 0.0, 0.0, 0.0, 0.0, 0.0, 0.0, 0.0, 0.0, 0.0, 0.0, 0.0, 0.0, 0.0, 0.0, 0.0, 0.0, 0.0, 0.0, 0.0, 0.0, 0.0, 0.0, 0.0, 0.0, 0.0, 0.0, 0.0, 0.0, 0.0, 0.0, 0.0, 0.0, 0.0, 0.0, 0.0, 0.0, 0.0, 0.0, 0.0, 0.0, 0.0, 0.0, 0.0, 0.0, 0.0, 0.0, 0.0, 0.0, 0.0, 0.0, 0.0, 0.0, 0.0, 0.0, 0.0, 0.0, 0.0, 0.0, 0.0, 0.0, 0.0, 0.0, 0.0, 0.0, 0.0, 0.0, 0.0, 0.0, 0.0, 0.0, 0.0, 0.0, 0.0, 0.0, 0.0, 0.0, 0.0, 0.0, 0.0, 0.0, 0.0, 0.0, 0.0, 0.0, 0.0, 0.0, 0.0, 0.0, 0.0, 0.0, 0.0, 0.0, 0.0, 0.0, 0.0, 0.0, 0.0, 0.0, 0.0, 0.0, 0.0, 0.0, 0.0, 0.0, 0.0, 0.0, 0.0, 0.0, 0.0, 0.0, 0.0, 0.0, 0.0, 0.0, 0.0, 0.0, 0.0, 0.0, 0.0, 0.0, 0.0, 0.0, 0.0, 0.0, 0.0, 0.0, 0.0, 0.0, 0.0, 0.0, 0.0, 0.0, 0.0, 0.0, 0.0, 0.0, 0.0, 0.0, 0.0, 0.0, 0.0, 0.0, 0.0, 0.0, 0.0, 0.0, 0.0, 0.0, 0.0, 0.0, 0.0, 0.0, 0.0, 0.0, 0.0, 0.0, 0.0, 0.0, 0.0, 0.0, 0.0, 0.0, 0.0, 0.0, 0.0, 0.0, 0.0, 0.0, 0.0, 0.0, 0.0, 0.0, 0.0, 0.0, 0.0, 0.0, 0.0, 0.0, 0.0, 0.0, 0.0, 0.0, 0.0, 0.0, 0.0, 0.0, 0.0, 0.0, 0.0, 0.0, 0.0, 0.0, 0.0, 0.0, 0.0, 0.0, 0.0, 0.0, 0.0, 0.0, 0.0, 0.0, 0.0, 0.0, 0.0, 0.0, 0.0, 0.0, 0.0, 0.0, 0.0, 0.0, 0.0, 0.0, 0.0, 0.0, 0.0, 0.0, 0.0, 0.0, 0.0, 0.0, 0.0, 0.0, 0.0, 0.0, 0.0, 0.0, 0.0, 0.0, 0.0, 0.0, 0.0, 0.0, 0.0, 0.0, 0.0, 0.0, 0.0, 0.0, 0.0, 0.0, 0.0, 0.0, 0.0, 0.0, 0.0, 0.0, 0.0, 0.0, 0.0, 0.0, 0.0, 0.0, 0.0, 0.0, 0.0, 0.0, 0.0, 0.0, 0.0, 0.0, 0.0, 0.0, 0.0, 0.0, 0.0, 0.0, 0.0, 0.0, 0.0, 0.0, 0.0, 0.0, 0.0, 0.0, 0.0, 0.0, 0.0, 0.0, 0.0, 0.0, 0.0, 0.0, 0.0, 0.0, 0.0, 0.0, 0.0, 0.0, 0.0, 0.0, 0.0, 0.0, 0.0, 0.0, 0.0, 0.0, 0.0, 0.0, 0.0, 0.0, 0.0, 0.0, 0.0, 0.0, 0.0, 0.0, 0.0, 0.0, 0.0, 0.0, 0.0, 0.0, 0.0, 0.0, 0.0, 0.0, 0.0, 0.0, 0.0, 0.0, 0.0, 0.0, 0.0, 0.0, 0.0, 0.0, 0.0, 0.0, 0.0, 0.0, 0.0, 0.0, 0.0, 0.0, 0.0, 0.0, 0.0, 0.0, 0.0, 0.0, 0.0, 0.0, 0.0, 0.0, 0.0, 0.0, 0.0, 0.0, 0.0, 0.0, 0.0, 0.0, 0.0, 0.0, 0.0, 0.0, 0.0, 0.0, 0.0, 0.0, 0.0, 0.0, 0.0, 0.0, 0.0, 0.0, 0.0, 0.0, 0.0, 0.0, 0.0, 0.0, 0.0, 0.0, 0.0, 0.0, 0.0, 0.0, 0.0, 0.0, 0.0, 0.0, 0.0, 0.0, 0.0, 0.0, 0.0, 0.0, 0.0, 0.0, 0.0, 0.0, 0.0, 0.0, 0.0, 0.0, 0.0, 0.0, 0.0, 0.0, 0.0, 0.0, 0.0, 0.0, 0.0, 0.0, 0.0, 0.0, 0.0, 0.0, 0.0, 0.0, 0.0, 0.0, 0.0, 0.0, 0.0, 0.0, 0.0, 0.0, 0.0, 0.0, 0.0, 0.0, 0.0, 0.0, 0.0, 0.0, 0.0, 0.0, 0.0, 0.0, 0.0, 0.0, 0.0, 0.0, 0.0, 0.0, 0.0, 0.0, 0.0, 0.0, 0.0, 0.0, 0.0, 0.0, 0.0, 0.0, 0.0, 0.0, 0.0, 0.0, 0.0, 0.0, 0.0, 0.0, 0.0, 0.0, 0.0, 0.0, 0.0, 0.0, 0.0, 0.0, 0.0, 0.0, 0.0, 0.0, 0.0, 0.0, 0.0, 0.0, 0.0, 0.0, 0.0, 0.0, 0.0, 0.0, 0.0, 0.0, 0.0, 0.0, 0.0, 0.0, 0.0, 0.0, 0.0, 0.0, 0.0, 0.0, 0.0, 0.0, 0.0, 0.0, 0.0, 0.0, 0.0, 0.0, 0.0, 0.0, 0.0, 0.0, 0.0, 0.0, 0.0, 0.0, 0.0, 0.0, 0.0, 0.0, 0.0, 0.0, 0.0, 0.0, 0.0, 0.0, 0.0, 0.0, 0.0, 0.0, 0.0, 0.0, 0.0, 0.0, 0.0, 0.0, 0.0, 0.0, 0.0, 0.0, 0.0, 0.0, 0.0, 0.0, 0.0, 0.0, 0.0, 0.0, 0.0, 0.0, 0.0, 0.0, 0.0, 0.0, 0.0, 0.0, 0.0, 0.0, 0.0, 0.0, 0.0, 0.0, 0.0, 0.0, 0.0, 0.0, 0.0, 0.0, 0.0, 0.0, 0.0, 0.0, 0.0, 0.0, 0.0, 0.0, 0.0, 0.0, 0.0, 0.0, 0.0, 0.0, 0.0, 0.0, 0.0, 0.0, 0.0, 0.0, 0.0, 0.0, 0.0, 0.0, 0.0, 0.0, 0.0, 0.0, 0.0, 0.0, 0.0, 0.0, 0.0, 0.0, 0.0, 0.0, 0.0, 0.0, 0.0, 0.0, 0.0, 0.0, 0.0, 0.0, 0.0, 0.0, 0.0, 0.0, 0.0, 0.0, 0.0, 0.0, 0.0, 0.0, 0.0, 0.0, 0.0, 0.0, 0.0, 0.0, 0.0, 0.0, 0.0, 0.0, 0.0, 0.0, 0.0, 0.0, 0.0, 0.0, 0.0, 0.0, 0.0, 0.0, 0.0, 0.0, 0.0, 0.0, 0.0, 0.0, 0.0, 0.0, 0.0, 0.0, 0.0, 0.0, 0.0, 0.0, 0.0, 0.0, 0.0, 0.0, 0.0, 0.0, 0.0, 0.0, 0.0, 0.0, 0.0, 0.0, 0.0, 0.0, 0.0, 0.0, 0.0, 0.0, 0.0, 0.0, 0.0, 0.0, 0.0, 0.0, 0.0, 0.0, 0.0, 0.0, 0.0, 0.0, 0.0, 0.0, 0.0, 0.0, 0.0, 0.0, 0.0, 0.0, 0.0, 0.0, 0.0, 0.0, 0.0, 0.0, 0.0, 0.0, 0.0, 0.0, 0.0, 0.0, 0.0, 0.0, 0.0, 0.0, 0.0, 0.0, 0.0, 0.0, 0.0, 0.0, 0.0, 0.0, 0.0, 0.0, 0.0, 0.0, 0.0, 0.0, 0.0, 0.0, 0.0, 0.0, 0.0, 0.0, 0.0, 0.0, 0.0, 0.0, 0.0, 0.0, 0.0, 0.0, 0.0, 0.0, 0.0, 0.0, 0.0, 0.0, 0.0, 0.0, 0.0, 0.0, 0.0, 0.0, 0.0, 0.0, 0.0, 0.0, 0.0, 0.0, 0.0, 0.0, 0.0, 0.0, 0.0, 0.0, 0.0, 0.0, 0.0, 0.0, 0.0, 0.0, 0.0, 0.0, 0.0, 0.0, 0.0, 0.0, 0.0, 0.0, 0.0, 0.0, 0.0, 0.0, 0.0, 0.0, 0.0, 0.0, 0.0, 0.0, 0.0, 0.0, 0.0, 0.0, 0.0, 0.0, 0.0, 0.0, 0.0, 0.0, 0.0, 0.0, 0.0, 0.0, 0.0, 0.0, 0.0, 0.0, 0.0, 0.0, 0.0, 0.0, 0.0, 0.0, 0.0, 0.0, 0.0, 0.0, 0.0, 0.0, 0.0, 0.0, 0.0, 0.0, 0.0, 0.0, 0.0, 0.0, 0.0, 0.0, 0.0, 0.0, 0.0, 0.0, 0.0, 0.0, 0.0, 0.0, 0.0, 0.0, 0.0, 0.0, 0.0, 0.0, 0.0, 0.0, 0.0, 0.0, 0.0, 0.0, 0.0, 0.0, 0.0, 0.0, 0.0, 0.0, 0.0, 0.0, 0.0, 0.0, 0.0, 0.0, 0.0, 0.0, 0.0, 0.0, 0.0, 0.0, 0.0, 0.0, 0.0, 0.0, 0.0, 0.0, 0.0, 0.0, 0.0, 0.0, 0.0, 0.0, 0.0, 0.0, 0.0, 0.0, 0.0, 0.0, 0.0, 0.0, 0.0, 0.0, 0.0, 0.0, 0.0, 0.0, 0.0, 0.0, 0.0, 0.0, 0.0, 0.0, 0.0, 0.0, 0.0, 0.0, 0.0, 0.0, 0.0, 0.0, 0.0, 0.0, 0.0, 0.0, 0.0, 0.0, 0.0, 0.0, 0.0, 0.0, 0.0, 0.0, 0.0, 0.0, 0.0, 0.0, 0.0, 0.0, 0.0, 0.0, 0.0, 0.0, 0.0, 0.0, 0.0, 0.0, 0.0, 0.0, 0.0, 0.0, 0.0, 0.0, 0.0, 0.0, 0.0, 0.0, 0.0, 0.0, 0.0, 0.0, 0.0, 0.0, 0.0, 0.0, 0.0, 0.0, 0.0, 0.0, 0.0, 0.0, 0.0, 0.0, 0.0, 0.0, 0.0, 0.0, 0.0, 0.0, 0.0, 0.0, 0.0, 0.0, 0.0, 0.0, 0.0, 0.0, 0.0, 0.0, 0.0, 0.0, 0.0, 0.0, 0.0, 0.0, 0.0, 0.0, 0.0, 0.0, 0.0, 0.0, 0.0, 0.0, 0.0, 0.0, 0.0, 0.0, 0.0, 0.0, 0.0, 0.0, 0.0, 0.0, 0.0, 0.0, 0.0, 0.0, 0.0, 0.0, 0.0, 0.0, 0.0, 0.0, 0.0, 0.0, 0.0, 0.0, 0.0, 0.0, 0.0, 0.0, 0.0, 0.0, 0.0, 0.0, 0.0, 0.0, 0.0, 0.0, 0.0, 0.0, 0.0, 0.0, 0.0, 0.0, 0.0, 0.0, 0.0, 0.0, 0.0, 0.0, 0.0, 0.0, 0.0, 0.0, 0.0, 0.0, 0.0, 0.0, 0.0, 0.0, 0.0, 0.0, 0.0, 0.0, 0.0, 0.0, 0.0, 0.0, 0.0, 0.0, 0.0, 0.0, 0.0, 0.0, 0.0, 0.0, 0.0, 0.0, 0.0, 0.0, 0.0, 0.0, 0.0, 0.0, 0.0, 0.0, 0.0, 0.0, 0.0, 0.0, 0.0, 0.0, 0.0, 0.0, 0.0, 0.0, 0.0, 0.0, 0.0, 0.0, 0.0, 0.0, 0.0, 0.0, 0.0, 0.0, 0.0, 0.0, 0.0, 0.0, 0.0, 0.0, 0.0, 0.0, 0.0, 0.0, 0.0, 0.0, 0.0, 0.0, 0.0, 0.0, 0.0, 0.0, 0.0, 0.0, 0.0, 0.0, 0.0, 0.0, 0.0, 0.0, 0.0, 0.0, 0.0, 0.0, 0.0, 0.0, 0.0, 0.0, 0.0, 0.0, 0.0, 0.0, 0.0, 0.0, 0.0, 0.0, 0.0, 0.0, 0.0, 0.0, 0.0, 0.0, 0.0, 0.0, 0.0, 0.0, 0.0, 0.0, 0.0, 0.0, 0.0, 0.0, 0.0, 0.0, 0.0, 0.0, 0.0, 0.0, 0.0, 0.0, 0.0, 0.0, 0.0, 0.0, 0.0, 0.0, 0.0, 0.0, 0.0, 0.0, 0.0, 0.0, 0.0, 0.0, 0.0, 0.0, 0.0, 0.0, 0.0, 0.0, 0.0, 0.0, 0.0, 0.0, 0.0, 0.0, 0.0, 0.0, 0.0, 0.0, 0.0, 0.0, 0.0, 0.0, 0.0, 0.0, 0.0, 0.0, 0.0, 0.0, 0.0, 0.0, 0.0, 0.0, 0.0, 0.0, 0.0, 0.0, 0.0, 0.0, 0.0, 0.0, 0.0, 0.0, 0.0, 0.0, 0.0, 0.0, 0.0, 0.0, 0.0, 0.0, 0.0, 0.0, 0.0, 0.0, 0.0, 0.0, 0.0, 0.0, 0.0, 0.0, 0.0, 0.0, 0.0, 0.0, 0.0, 0.0, 0.0, 0.0, 0.0, 0.0, 0.0, 0.0, 0.0, 0.0, 0.0, 0.0, 0.0, 0.0, 0.0, 0.0, 0.0, 0.0, 0.0, 0.0, 0.0, 0.0, 0.0, 0.0, 0.0, 0.0, 0.0, 0.0, 0.0, 0.0, 0.0, 0.0, 0.0, 0.0, 0.0, 0.0, 0.0, 0.0, 0.0, 0.0, 0.0, 0.0, 0.0, 0.0, 0.0, 0.0, 0.0, 0.0, 0.0, 0.0, 0.0, 0.0, 0.0, 0.0, 0.0, 0.0, 0.0, 0.0, 0.0, 0.0, 0.0, 0.0, 0.0, 0.0, 0.0, 0.0, 0.0, 0.0, 0.0, 0.0, 0.0, 0.0, 0.0, 0.0, 0.0, 0.0, 0.0, 0.0, 0.0, 0.0, 0.0, 0.0, 0.0, 0.0, 0.0, 0.0, 0.0, 0.0, 0.0, 0.0, 0.0, 0.0, 0.0, 0.0, 0.0, 0.0, 0.0, 0.0, 0.0, 0.0, 0.0, 0.0, 0.0, 0.0, 0.0, 0.0, 0.0, 0.0, 0.0, 0.0, 0.0, 0.0, 0.0, 0.0, 0.0, 0.0, 0.0, 0.0, 0.0, 0.0, 0.0, 0.0, 0.0, 0.0, 0.0, 0.0, 0.0, 0.0, 0.0, 0.0, 0.0, 0.0, 0.0, 0.0, 0.0, 0.0, 0.0, 0.0, 0.0, 0.0, 0.0, 0.0, 0.0, 0.0, 0.0, 0.0, 0.0, 0.0, 0.0, 0.0, 0.0, 0.0, 0.0, 0.0, 0.0, 0.0, 0.0, 0.0, 0.0, 0.0, 0.0, 0.0, 0.0, 0.0, 0.0, 0.0, 0.0, 0.0, 0.0, 0.0, 0.0, 0.0, 0.0, 0.0, 0.0, 0.0, 0.0, 0.0, 0.0, 0.0, 0.0, 0.0, 0.0, 0.0, 0.0, 0.0, 0.0, 0.0, 0.0, 0.0, 0.0, 0.0, 0.0, 0.0, 0.0, 0.0, 0.0, 0.0, 0.0, 0.0, 0.0, 0.0, 0.0, 0.0, 0.0, 0.0, 0.0, 0.0, 0.0, 0.0, 0.0, 0.0, 0.0, 0.0, 0.0, 0.0, 0.0, 0.0, 0.0, 0.0, 0.0, 0.0, 0.0, 0.0, 0.0, 0.0, 0.0, 0.0, 0.0, 0.0, 0.0, 0.0, 0.0, 0.0, 0.0, 0.0, 0.0, 0.0, 0.0, 0.0, 0.0, 0.0, 0.0, 0.0, 0.0, 0.0, 0.0, 0.0, 0.0, 0.0, 0.0, 0.0, 0.0, 0.0, 0.0, 0.0, 0.0, 0.0, 0.0, 0.0, 0.0, 0.0, 0.0, 0.0, 0.0, 0.0, 0.0, 0.0, 0.0, 0.0, 0.0, 0.0, 0.0, 0.0, 0.0, 0.0, 0.0, 0.0, 0.0, 0.0, 0.0, 0.0, 0.0, 0.0, 0.0, 0.0, 0.0, 0.0, 0.0, 0.0, 0.0, 0.0, 0.0, 0.0, 0.0, 0.0, 0.0, 0.0, 0.0, 0.0, 0.0, 0.0, 0.0, 0.0, 0.0, 0.0, 0.0, 0.0, 0.0, 0.0, 0.0, 0.0, 0.0, 0.0, 0.0, 0.0, 0.0, 0.0, 0.0, 0.0, 0.0, 0.0, 0.0, 0.0, 0.0, 0.0, 0.0, 0.0, 0.0, 0.0, 0.0, 0.0, 0.0, 0.0, 0.0, 0.0, 0.0, 0.0, 0.0, 0.0, 0.0, 0.0, 0.0, 0.0, 0.0, 0.0, 0.0, 0.0, 0.0, 0.0, 0.0, 0.0, 0.0, 0.0, 0.0, 0.0, 0.0, 0.0, 0.0, 0.0, 0.0, 0.0, 0.0, 0.0, 0.0, 0.0, 0.0, 0.0, 0.0, 0.0, 0.0, 0.0, 0.0, 0.0, 0.0, 0.0, 0.0, 0.0, 0.0, 0.0, 0.0, 0.0, 0.0, 0.0, 0.0, 0.0, 0.0, 0.0, 0.0, 0.0, 0.0, 0.0, 0.0, 0.0, 0.0, 0.0, 0.0, 0.0, 0.0, 0.0, 0.0, 0.0, 0.0, 0.0, 0.0, 0.0, 0.0, 0.0, 0.0, 0.0, 0.0, 0.0, 0.0, 0.0, 0.0, 0.0, 0.0, 0.0, 0.0, 0.0, 0.0, 0.0, 0.0, 0.0, 0.0, 0.0, 0.0, 0.0, 0.0, 0.0, 0.0, 0.0, 0.0, 0.0, 0.0, 0.0, 0.0, 0.0, 0.0, 0.0, 0.0, 0.0, 0.0, 0.0, 0.0, 0.0, 0.0, 0.0, 0.0, 0.0, 0.0, 0.0, 0.0, 0.0, 0.0, 0.0, 0.0, 0.0, 0.0, 0.0, 0.0, 0.0, 0.0, 0.0, 0.0, 0.0, 0.0, 0.0, 0.0, 0.0, 0.0, 0.0, 0.0, 0.0, 0.0, 0.0, 0.0, 0.0, 0.0, 0.0, 0.0, 0.0, 0.0, 0.0, 0.0, 0.0, 0.0, 0.0, 0.0, 0.0, 0.0, 0.0, 0.0, 0.0, 0.0, 0.0, 0.0, 0.0, 0.0, 0.0, 0.0, 0.0, 0.0, 0.0, 0.0, 0.0, 0.0, 0.0, 0.0, 0.0, 0.0, 0.0, 0.0, 0.0, 0.0, 0.0, 0.0, 0.0, 0.0, 0.0, 0.0, 0.0, 0.0, 0.0, 0.0, 0.0, 0.0, 0.0, 0.0, 0.0, 0.0, 0.0, 0.0, 0.0]\n"
     ]
    },
    {
     "data": {
      "text/plain": [
       "65-element Array{Int64,1}:\n",
       "     1\n",
       "   290\n",
       "   579\n",
       "   868\n",
       "  1157\n",
       "  1446\n",
       "  1735\n",
       "  2024\n",
       "  2313\n",
       "  2602\n",
       "  2891\n",
       "  3180\n",
       "  3469\n",
       "     ⋮\n",
       " 15318\n",
       " 15607\n",
       " 15896\n",
       " 16185\n",
       " 16474\n",
       " 16763\n",
       " 17052\n",
       " 17341\n",
       " 17630\n",
       " 17919\n",
       " 18208\n",
       " 18497"
      ]
     },
     "execution_count": 244,
     "metadata": {},
     "output_type": "execute_result"
    }
   ],
   "source": [
    "@show bλ\n",
    "@show g\n",
    "@show gδ\n",
    "@show u\n",
    "@show locfactors # M\n",
    "@show FbarT \n",
    "@show vstarts"
   ]
  },
  {
   "cell_type": "code",
   "execution_count": 245,
   "metadata": {},
   "outputs": [],
   "source": [
    "for e=1:length(locfactors)\n",
    "    @views u[vstarts[e]:(vstarts[e+1]-1)] = (locfactors[e] \\ g[vstarts[e]:(vstarts[e+1]-1)])\n",
    "end"
   ]
  },
  {
   "cell_type": "code",
   "execution_count": 246,
   "metadata": {},
   "outputs": [
    {
     "data": {
      "text/plain": [
       "1904-element Array{Float64,1}:\n",
       "      1.0384926660911115e6 \n",
       " 437321.36751612386        \n",
       " -92600.20403835559        \n",
       "  95970.03956722301        \n",
       "   8583.310842436855       \n",
       "   9191.509798786115       \n",
       "   3940.3542585642995      \n",
       "    773.1793794357795      \n",
       "   -851.7504226176612      \n",
       "  -1910.2509426550675      \n",
       "  -2302.2409371227036      \n",
       "  -2352.1533158622096      \n",
       "  -1939.9463408069475      \n",
       "      ⋮                    \n",
       "     -1.9982866587130674   \n",
       "     -1.6995353199901202   \n",
       "     -1.2434974889861212   \n",
       "     -0.6566410278266643   \n",
       "     -0.894602293323984    \n",
       "     -1.0233744922016184   \n",
       "     -1.0266407345194069   \n",
       "     -0.8248944531135468   \n",
       "     -0.9057309638832659   \n",
       "     -0.32004879785094087  \n",
       "     -0.36420679490708957  \n",
       "      1.6860322099368314e-5"
      ]
     },
     "execution_count": 246,
     "metadata": {},
     "output_type": "execute_result"
    }
   ],
   "source": [
    "mul!(bλ,FbarT,u)"
   ]
  },
  {
   "cell_type": "code",
   "execution_count": 247,
   "metadata": {},
   "outputs": [
    {
     "name": "stdout",
     "output_type": "stream",
     "text": [
      "typeof(bλ) = Array{Float64,1}\n",
      "typeof(FbarT) = SparseMatrixCSC{Float64,Int64}\n",
      "typeof(u) = Array{Float64,1}\n"
     ]
    },
    {
     "data": {
      "text/plain": [
       "Array{Float64,1}"
      ]
     },
     "execution_count": 247,
     "metadata": {},
     "output_type": "execute_result"
    }
   ],
   "source": [
    "@show typeof(bλ)\n",
    "@show typeof(FbarT)\n",
    "@show typeof(u)"
   ]
  },
  {
   "cell_type": "code",
   "execution_count": 248,
   "metadata": {},
   "outputs": [
    {
     "data": {
      "text/latex": [
       "\\begin{verbatim}\n",
       "mul!(Y, A, B) -> Y\n",
       "\\end{verbatim}\n",
       "Calculates the matrix-matrix or matrix-vector product $AB$ and stores the result in \\texttt{Y}, overwriting the existing value of \\texttt{Y}. Note that \\texttt{Y} must not be aliased with either \\texttt{A} or \\texttt{B}.\n",
       "\n",
       "\\section{Examples}\n",
       "\\begin{verbatim}\n",
       "julia> A=[1.0 2.0; 3.0 4.0]; B=[1.0 1.0; 1.0 1.0]; Y = similar(B); mul!(Y, A, B);\n",
       "\n",
       "julia> Y\n",
       "2×2 Array{Float64,2}:\n",
       " 3.0  3.0\n",
       " 7.0  7.0\n",
       "\\end{verbatim}\n",
       "\\section{Implementation}\n",
       "For custom matrix and vector types, it is recommended to implement 5-argument \\texttt{mul!} rather than implementing 3-argument \\texttt{mul!} directly if possible.\n",
       "\n",
       "\\begin{verbatim}\n",
       "mul!(C, A, B, α, β) -> C\n",
       "\\end{verbatim}\n",
       "Combined inplace matrix-matrix or matrix-vector multiply-add $A B α + C β$. The result is stored in \\texttt{C} by overwriting it.  Note that \\texttt{C} must not be aliased with either \\texttt{A} or \\texttt{B}.\n",
       "\n",
       "\\begin{quote}\n",
       "\\textbf{compat}\n",
       "\n",
       "Julia 1.3\n",
       "\n",
       "Five-argument \\texttt{mul!} requires at least Julia 1.3.\n",
       "\n",
       "\\end{quote}\n",
       "\\section{Examples}\n",
       "\\begin{verbatim}\n",
       "julia> A=[1.0 2.0; 3.0 4.0]; B=[1.0 1.0; 1.0 1.0]; C=[1.0 2.0; 3.0 4.0];\n",
       "\n",
       "julia> mul!(C, A, B, 100.0, 10.0) === C\n",
       "true\n",
       "\n",
       "julia> C\n",
       "2×2 Array{Float64,2}:\n",
       " 310.0  320.0\n",
       " 730.0  740.0\n",
       "\\end{verbatim}\n"
      ],
      "text/markdown": [
       "```\n",
       "mul!(Y, A, B) -> Y\n",
       "```\n",
       "\n",
       "Calculates the matrix-matrix or matrix-vector product $AB$ and stores the result in `Y`, overwriting the existing value of `Y`. Note that `Y` must not be aliased with either `A` or `B`.\n",
       "\n",
       "# Examples\n",
       "\n",
       "```jldoctest\n",
       "julia> A=[1.0 2.0; 3.0 4.0]; B=[1.0 1.0; 1.0 1.0]; Y = similar(B); mul!(Y, A, B);\n",
       "\n",
       "julia> Y\n",
       "2×2 Array{Float64,2}:\n",
       " 3.0  3.0\n",
       " 7.0  7.0\n",
       "```\n",
       "\n",
       "# Implementation\n",
       "\n",
       "For custom matrix and vector types, it is recommended to implement 5-argument `mul!` rather than implementing 3-argument `mul!` directly if possible.\n",
       "\n",
       "```\n",
       "mul!(C, A, B, α, β) -> C\n",
       "```\n",
       "\n",
       "Combined inplace matrix-matrix or matrix-vector multiply-add $A B α + C β$. The result is stored in `C` by overwriting it.  Note that `C` must not be aliased with either `A` or `B`.\n",
       "\n",
       "!!! compat \"Julia 1.3\"\n",
       "    Five-argument `mul!` requires at least Julia 1.3.\n",
       "\n",
       "\n",
       "# Examples\n",
       "\n",
       "```jldoctest\n",
       "julia> A=[1.0 2.0; 3.0 4.0]; B=[1.0 1.0; 1.0 1.0]; C=[1.0 2.0; 3.0 4.0];\n",
       "\n",
       "julia> mul!(C, A, B, 100.0, 10.0) === C\n",
       "true\n",
       "\n",
       "julia> C\n",
       "2×2 Array{Float64,2}:\n",
       " 310.0  320.0\n",
       " 730.0  740.0\n",
       "```\n"
      ],
      "text/plain": [
       "\u001b[36m  mul!(Y, A, B) -> Y\u001b[39m\n",
       "\n",
       "  Calculates the matrix-matrix or matrix-vector product \u001b[35mAB\u001b[39m and stores the\n",
       "  result in \u001b[36mY\u001b[39m, overwriting the existing value of \u001b[36mY\u001b[39m. Note that \u001b[36mY\u001b[39m must not be\n",
       "  aliased with either \u001b[36mA\u001b[39m or \u001b[36mB\u001b[39m.\n",
       "\n",
       "\u001b[1m  Examples\u001b[22m\n",
       "\u001b[1m  ≡≡≡≡≡≡≡≡≡≡\u001b[22m\n",
       "\n",
       "\u001b[36m  julia> A=[1.0 2.0; 3.0 4.0]; B=[1.0 1.0; 1.0 1.0]; Y = similar(B); mul!(Y, A, B);\u001b[39m\n",
       "\u001b[36m  \u001b[39m\n",
       "\u001b[36m  julia> Y\u001b[39m\n",
       "\u001b[36m  2×2 Array{Float64,2}:\u001b[39m\n",
       "\u001b[36m   3.0  3.0\u001b[39m\n",
       "\u001b[36m   7.0  7.0\u001b[39m\n",
       "\n",
       "\u001b[1m  Implementation\u001b[22m\n",
       "\u001b[1m  ≡≡≡≡≡≡≡≡≡≡≡≡≡≡≡≡\u001b[22m\n",
       "\n",
       "  For custom matrix and vector types, it is recommended to implement\n",
       "  5-argument \u001b[36mmul!\u001b[39m rather than implementing 3-argument \u001b[36mmul!\u001b[39m directly if\n",
       "  possible.\n",
       "\n",
       "\u001b[36m  mul!(C, A, B, α, β) -> C\u001b[39m\n",
       "\n",
       "  Combined inplace matrix-matrix or matrix-vector multiply-add \u001b[35mA B α + C β\u001b[39m.\n",
       "  The result is stored in \u001b[36mC\u001b[39m by overwriting it. Note that \u001b[36mC\u001b[39m must not be aliased\n",
       "  with either \u001b[36mA\u001b[39m or \u001b[36mB\u001b[39m.\n",
       "\n",
       "\u001b[39m\u001b[1m  │ \u001b[22m\u001b[39m\u001b[1mJulia 1.3\u001b[22m\n",
       "\u001b[39m\u001b[1m  │\u001b[22m\n",
       "\u001b[39m\u001b[1m  │\u001b[22m  Five-argument \u001b[36mmul!\u001b[39m requires at least Julia 1.3.\n",
       "\n",
       "\u001b[1m  Examples\u001b[22m\n",
       "\u001b[1m  ≡≡≡≡≡≡≡≡≡≡\u001b[22m\n",
       "\n",
       "\u001b[36m  julia> A=[1.0 2.0; 3.0 4.0]; B=[1.0 1.0; 1.0 1.0]; C=[1.0 2.0; 3.0 4.0];\u001b[39m\n",
       "\u001b[36m  \u001b[39m\n",
       "\u001b[36m  julia> mul!(C, A, B, 100.0, 10.0) === C\u001b[39m\n",
       "\u001b[36m  true\u001b[39m\n",
       "\u001b[36m  \u001b[39m\n",
       "\u001b[36m  julia> C\u001b[39m\n",
       "\u001b[36m  2×2 Array{Float64,2}:\u001b[39m\n",
       "\u001b[36m   310.0  320.0\u001b[39m\n",
       "\u001b[36m   730.0  740.0\u001b[39m"
      ]
     },
     "execution_count": 248,
     "metadata": {},
     "output_type": "execute_result"
    }
   ],
   "source": [
    "@doc mul!"
   ]
  },
  {
   "cell_type": "code",
   "execution_count": 249,
   "metadata": {},
   "outputs": [
    {
     "ename": "DimensionMismatch",
     "evalue": "DimensionMismatch(\"LHS and RHS should have the same number of rows. LHS has 408 rows, but RHS has 1904 rows.\")",
     "output_type": "error",
     "traceback": [
      "DimensionMismatch(\"LHS and RHS should have the same number of rows. LHS has 408 rows, but RHS has 1904 rows.\")",
      "",
      "Stacktrace:",
      " [1] solve(::Int32, ::SuiteSparse.CHOLMOD.Factor{Float64}, ::SuiteSparse.CHOLMOD.Dense{Float64}) at D:\\buildbot\\worker\\package_win64\\build\\usr\\share\\julia\\stdlib\\v1.3\\SuiteSparse\\src\\cholmod.jl:740",
      " [2] \\ at D:\\buildbot\\worker\\package_win64\\build\\usr\\share\\julia\\stdlib\\v1.3\\SuiteSparse\\src\\cholmod.jl:1677 [inlined]",
      " [3] \\(::SuiteSparse.CHOLMOD.Factor{Float64}, ::Array{Float64,1}) at D:\\buildbot\\worker\\package_win64\\build\\usr\\share\\julia\\stdlib\\v1.3\\SuiteSparse\\src\\cholmod.jl:1682",
      " [4] ##core#540() at C:\\Users\\cheny\\.julia\\packages\\BenchmarkTools\\eCEpo\\src\\execution.jl:371",
      " [5] ##sample#541(::BenchmarkTools.Parameters) at C:\\Users\\cheny\\.julia\\packages\\BenchmarkTools\\eCEpo\\src\\execution.jl:377",
      " [6] #_run#752(::Bool, ::String, ::Base.Iterators.Pairs{Symbol,Integer,NTuple{4,Symbol},NamedTuple{(:samples, :evals, :gctrial, :gcsample),Tuple{Int64,Int64,Bool,Bool}}}, ::typeof(BenchmarkTools._run), ::BenchmarkTools.Benchmark{Symbol(\"##benchmark#539\")}, ::BenchmarkTools.Parameters) at C:\\Users\\cheny\\.julia\\packages\\BenchmarkTools\\eCEpo\\src\\execution.jl:405",
      " [7] (::Base.var\"#inner#2\"{Base.Iterators.Pairs{Symbol,Integer,NTuple{5,Symbol},NamedTuple{(:verbose, :samples, :evals, :gctrial, :gcsample),Tuple{Bool,Int64,Int64,Bool,Bool}}},typeof(BenchmarkTools._run),Tuple{BenchmarkTools.Benchmark{Symbol(\"##benchmark#539\")},BenchmarkTools.Parameters}})() at .\\none:0",
      " [8] #invokelatest#1 at .\\essentials.jl:713 [inlined]",
      " [9] #invokelatest at .\\none:0 [inlined]",
      " [10] #run_result#37 at C:\\Users\\cheny\\.julia\\packages\\BenchmarkTools\\eCEpo\\src\\execution.jl:32 [inlined]",
      " [11] #run_result at .\\none:0 [inlined]",
      " [12] #run#40(::Nothing, ::Float64, ::Float64, ::Base.Iterators.Pairs{Symbol,Integer,NTuple{5,Symbol},NamedTuple{(:verbose, :samples, :evals, :gctrial, :gcsample),Tuple{Bool,Int64,Int64,Bool,Bool}}}, ::typeof(run), ::BenchmarkTools.Benchmark{Symbol(\"##benchmark#539\")}, ::BenchmarkTools.Parameters) at C:\\Users\\cheny\\.julia\\packages\\BenchmarkTools\\eCEpo\\src\\execution.jl:94",
      " [13] #run at .\\none:0 [inlined] (repeats 2 times)",
      " [14] #warmup#45 at C:\\Users\\cheny\\.julia\\packages\\BenchmarkTools\\eCEpo\\src\\execution.jl:141 [inlined]",
      " [15] warmup(::BenchmarkTools.Benchmark{Symbol(\"##benchmark#539\")}) at C:\\Users\\cheny\\.julia\\packages\\BenchmarkTools\\eCEpo\\src\\execution.jl:141",
      " [16] top-level scope at C:\\Users\\cheny\\.julia\\packages\\BenchmarkTools\\eCEpo\\src\\execution.jl:287",
      " [17] top-level scope at In[249]:1"
     ]
    }
   ],
   "source": [
    "@benchmark λ[:] = BF \\ bλ"
   ]
  },
  {
   "cell_type": "code",
   "execution_count": 250,
   "metadata": {},
   "outputs": [
    {
     "data": {
      "text/plain": [
       "18496-element Array{Float64,1}:\n",
       " 0.0\n",
       " 0.0\n",
       " 0.0\n",
       " 0.0\n",
       " 0.0\n",
       " 0.0\n",
       " 0.0\n",
       " 0.0\n",
       " 0.0\n",
       " 0.0\n",
       " 0.0\n",
       " 0.0\n",
       " 0.0\n",
       " ⋮  \n",
       " 0.0\n",
       " 0.0\n",
       " 0.0\n",
       " 0.0\n",
       " 0.0\n",
       " 0.0\n",
       " 0.0\n",
       " 0.0\n",
       " 0.0\n",
       " 0.0\n",
       " 0.0\n",
       " 0.0"
      ]
     },
     "execution_count": 250,
     "metadata": {},
     "output_type": "execute_result"
    }
   ],
   "source": [
    "u[:] = -FbarT' * λ"
   ]
  },
  {
   "cell_type": "code",
   "execution_count": 251,
   "metadata": {},
   "outputs": [
    {
     "data": {
      "text/plain": [
       "18496-element view(::Array{Float64,1}, :) with eltype Float64:\n",
       " -869703.110364473          \n",
       "      -3.808863185715654e6  \n",
       "      -1.6942349888694114e6 \n",
       "      -3.2676746378652183e6 \n",
       "      -2.3185495688859234e6 \n",
       "      -2.4614103898557606e6 \n",
       "      -2.288760333013442e6  \n",
       "      -2.1278416390491016e6 \n",
       "      -1.9464306669041584e6 \n",
       "      -1.7462745034096926e6 \n",
       "      -1.529300761836642e6  \n",
       "      -1.3156512635228843e6 \n",
       " -960374.6764668435         \n",
       "       ⋮                    \n",
       "       0.09469451967594071  \n",
       "       0.08805238707095672  \n",
       "       0.08186157935574032  \n",
       "       0.07488239988123685  \n",
       "       0.06718206196099342  \n",
       "       0.05883472405861472  \n",
       "       0.050615275280301686 \n",
       "       0.03694719867591601  \n",
       "       0.038134571840798284 \n",
       "       0.012965111279983118 \n",
       "       0.014432265666005075 \n",
       "       6.146302770832472e-18"
      ]
     },
     "execution_count": 251,
     "metadata": {},
     "output_type": "execute_result"
    }
   ],
   "source": [
    "u[:] .= g .+ u"
   ]
  },
  {
   "cell_type": "code",
   "execution_count": 252,
   "metadata": {},
   "outputs": [
    {
     "data": {
      "text/plain": [
       "BenchmarkTools.Trial: \n",
       "  memory estimate:  1.77 MiB\n",
       "  allocs estimate:  4073\n",
       "  --------------\n",
       "  minimum time:     2.484 ms (0.00% GC)\n",
       "  median time:      2.617 ms (0.00% GC)\n",
       "  mean time:        2.772 ms (2.96% GC)\n",
       "  maximum time:     7.773 ms (48.75% GC)\n",
       "  --------------\n",
       "  samples:          1801\n",
       "  evals/sample:     1"
      ]
     },
     "execution_count": 252,
     "metadata": {},
     "output_type": "execute_result"
    }
   ],
   "source": [
    "@benchmark for e = 1:nelems\n",
    "      F = locfactors[e]\n",
    "      (x, y) = lop[e].coord\n",
    "      JH = lop[e].JH\n",
    "      start = time()\n",
    "      @views u[vstarts[e]:(vstarts[e+1]-1)] = F \\ u[vstarts[e]:(vstarts[e+1]-1)]\n",
    "      #=\n",
    "      ldiv!((@view u[vstarts[e]:(vstarts[e+1]-1)]), F,\n",
    "            (@view u[vstarts[e]:(vstarts[e+1]-1)]))\n",
    "      =#\n",
    "\n",
    "      @views Δ[vstarts[e]:(vstarts[e+1]-1)] = (u[vstarts[e]:(vstarts[e+1]-1)] -\n",
    "                                               vex(x[:], y[:], e))\n",
    "      ϵ[lvl] += Δ[vstarts[e]:(vstarts[e+1]-1)]' * JH * Δ[vstarts[e]:(vstarts[e+1]-1)]\n",
    " end\n",
    "   "
   ]
  },
  {
   "cell_type": "code",
   "execution_count": 253,
   "metadata": {},
   "outputs": [
    {
     "data": {
      "text/plain": [
       "BenchmarkTools.Trial: \n",
       "  memory estimate:  1.77 MiB\n",
       "  allocs estimate:  4039\n",
       "  --------------\n",
       "  minimum time:     1.106 ms (0.00% GC)\n",
       "  median time:      1.229 ms (0.00% GC)\n",
       "  mean time:        1.403 ms (7.23% GC)\n",
       "  maximum time:     40.355 ms (62.02% GC)\n",
       "  --------------\n",
       "  samples:          3552\n",
       "  evals/sample:     1"
      ]
     },
     "execution_count": 253,
     "metadata": {},
     "output_type": "execute_result"
    }
   ],
   "source": [
    "@benchmark @threads for e = 1:nelems\n",
    "      F = locfactors[e]\n",
    "      (x, y) = lop[e].coord\n",
    "      JH = lop[e].JH\n",
    "      start = time()\n",
    "      @views u[vstarts[e]:(vstarts[e+1]-1)] = F \\ u[vstarts[e]:(vstarts[e+1]-1)]\n",
    "      #=\n",
    "      ldiv!((@view u[vstarts[e]:(vstarts[e+1]-1)]), F,\n",
    "            (@view u[vstarts[e]:(vstarts[e+1]-1)]))\n",
    "      =#\n",
    "\n",
    "      @views Δ[vstarts[e]:(vstarts[e+1]-1)] = (u[vstarts[e]:(vstarts[e+1]-1)] -\n",
    "                                               vex(x[:], y[:], e))\n",
    "      ϵ[lvl] += Δ[vstarts[e]:(vstarts[e+1]-1)]' * JH * Δ[vstarts[e]:(vstarts[e+1]-1)]\n",
    " end"
   ]
  },
  {
   "cell_type": "markdown",
   "metadata": {},
   "source": [
    "Conclusion: using Multithreading would significantly boost the performance of parallel solve"
   ]
  },
  {
   "cell_type": "code",
   "execution_count": null,
   "metadata": {},
   "outputs": [],
   "source": []
  }
 ],
 "metadata": {
  "kernelspec": {
   "display_name": "Julia (4 threads) 1.3.1",
   "language": "julia",
   "name": "julia-(4-threads)-1.3"
  },
  "language_info": {
   "file_extension": ".jl",
   "mimetype": "application/julia",
   "name": "julia",
   "version": "1.3.1"
  }
 },
 "nbformat": 4,
 "nbformat_minor": 2
}
