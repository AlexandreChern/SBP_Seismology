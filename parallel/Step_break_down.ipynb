{
 "cells": [
  {
   "cell_type": "code",
   "execution_count": 3,
   "metadata": {},
   "outputs": [],
   "source": [
    "if (typeof(Base.find_package(\"UnicodePlots\")) == Nothing)\n",
    "    println(\"Package Unicode not installed\")\n",
    "    using Pkg;\n",
    "    Pkg.add(\"UnicodePlots\")\n",
    "end\n",
    "using UnicodePlots"
   ]
  },
  {
   "cell_type": "markdown",
   "metadata": {},
   "source": [
    "## Using Packages"
   ]
  },
  {
   "cell_type": "code",
   "execution_count": 4,
   "metadata": {},
   "outputs": [],
   "source": [
    "using .Threads\n",
    "using BenchmarkTools\n",
    "using SparseArrays\n",
    "using LinearAlgebra"
   ]
  },
  {
   "cell_type": "markdown",
   "metadata": {},
   "source": [
    "## Including External Files|"
   ]
  },
  {
   "cell_type": "code",
   "execution_count": 163,
   "metadata": {},
   "outputs": [
    {
     "data": {
      "text/plain": [
       "plot_blocks (generic function with 1 method)"
      ]
     },
     "execution_count": 163,
     "metadata": {},
     "output_type": "execute_result"
    }
   ],
   "source": [
    "include(\"global_curved_multithreading.jl\")"
   ]
  },
  {
   "cell_type": "markdown",
   "metadata": {},
   "source": [
    "## Setting SBP operator Orders"
   ]
  },
  {
   "cell_type": "code",
   "execution_count": 6,
   "metadata": {},
   "outputs": [
    {
     "data": {
      "text/plain": [
       "6"
      ]
     },
     "execution_count": 6,
     "metadata": {},
     "output_type": "execute_result"
    }
   ],
   "source": [
    "SBPp = 6"
   ]
  },
  {
   "cell_type": "markdown",
   "metadata": {},
   "source": [
    "## Reading .inp files and initializing boundary conditions"
   ]
  },
  {
   "cell_type": "code",
   "execution_count": 7,
   "metadata": {},
   "outputs": [
    {
     "data": {
      "text/plain": [
       "5-element Array{Int64,1}:\n",
       " 1\n",
       " 1\n",
       " 2\n",
       " 2\n",
       " 7"
      ]
     },
     "execution_count": 7,
     "metadata": {},
     "output_type": "execute_result"
    }
   ],
   "source": [
    "bc_map = [BC_DIRICHLET, BC_DIRICHLET, BC_NEUMANN, BC_NEUMANN, BC_JUMP_INTERFACE]\n",
    "# 1 refers to Dirichlet boundary condition\n",
    "# 2 refers to Neumann boundary condition\n",
    "# 7 refers to Jump interface condition"
   ]
  },
  {
   "cell_type": "code",
   "execution_count": 255,
   "metadata": {},
   "outputs": [
    {
     "data": {
      "text/plain": [
       "([0.5 -0.5 … 0.1875 0.0625; 0.5 0.5 … -0.3125 -0.3125], [24 72 … 69 65; 255 256 … 239 224; 256 252 … 234 239; 257 257 … 241 241], [1 5 … 525 538; 2 4 … 544 542; 3 6 … 539 500; 4 7 … 543 544], [0, 0, 1, 0, 0, 0, 0, 0, 0, 0  …  0, 0, 0, 0, 0, 0, 0, 0, 0, 0], [1, 1, 1, 1, 1, 1, 1, 1, 1, 1  …  1, 1, 1, 1, 1, 1, 1, 1, 1, 1])"
      ]
     },
     "execution_count": 255,
     "metadata": {},
     "output_type": "execute_result"
    }
   ],
   "source": [
    "(verts, EToV, EToF, FToB, EToDomain) = read_inp_2d(\"../meshes/16_16_block.inp\", bc_map=bc_map)"
   ]
  },
  {
   "cell_type": "code",
   "execution_count": 256,
   "metadata": {},
   "outputs": [
    {
     "data": {
      "text/plain": [
       "289×2 Array{Float64,2}:\n",
       "  0.5      0.5   \n",
       " -0.5      0.5   \n",
       " -0.5     -0.5   \n",
       "  0.5     -0.5   \n",
       "  0.0      0.5   \n",
       " -0.5      0.0   \n",
       "  0.0     -0.5   \n",
       "  0.5      0.0   \n",
       "  0.0      0.0   \n",
       "  0.25     0.5   \n",
       "  0.0      0.25  \n",
       "  0.25     0.0   \n",
       "  0.5      0.25  \n",
       "  ⋮              \n",
       "  0.1875  -0.1875\n",
       "  0.1875  -0.0625\n",
       "  0.0625  -0.5   \n",
       "  0.125   -0.4375\n",
       "  0.0625  -0.375 \n",
       "  0.0625  -0.4375\n",
       "  0.1875  -0.375 \n",
       "  0.1875  -0.5   \n",
       "  0.1875  -0.4375\n",
       "  0.125   -0.3125\n",
       "  0.1875  -0.3125\n",
       "  0.0625  -0.3125"
      ]
     },
     "execution_count": 256,
     "metadata": {},
     "output_type": "execute_result"
    }
   ],
   "source": [
    "verts'"
   ]
  },
  {
   "cell_type": "code",
   "execution_count": 257,
   "metadata": {},
   "outputs": [
    {
     "data": {
      "text/plain": [
       "4×256 Array{Int64,2}:\n",
       "  24   72   74   73    4   70   74   73  …   65   69   58   16   47   69   65\n",
       " 255  256  252  244  242  243  244  245     239  236  199  161  234  239  224\n",
       " 256  252  244  255  245  242  243  244     228  239  236  224  161  234  239\n",
       " 257  257  257  257  246  246  246  246     240  240  240  241  241  241  241"
      ]
     },
     "execution_count": 257,
     "metadata": {},
     "output_type": "execute_result"
    }
   ],
   "source": [
    "EToV"
   ]
  },
  {
   "cell_type": "code",
   "execution_count": 258,
   "metadata": {},
   "outputs": [
    {
     "data": {
      "text/plain": [
       "544-element Array{Int64,1}:\n",
       " 0\n",
       " 0\n",
       " 1\n",
       " 0\n",
       " 0\n",
       " 0\n",
       " 0\n",
       " 0\n",
       " 0\n",
       " 0\n",
       " 1\n",
       " 0\n",
       " 1\n",
       " ⋮\n",
       " 0\n",
       " 1\n",
       " 0\n",
       " 0\n",
       " 0\n",
       " 0\n",
       " 0\n",
       " 0\n",
       " 0\n",
       " 0\n",
       " 0\n",
       " 0"
      ]
     },
     "execution_count": 258,
     "metadata": {},
     "output_type": "execute_result"
    }
   ],
   "source": [
    "FToB"
   ]
  },
  {
   "cell_type": "code",
   "execution_count": 259,
   "metadata": {},
   "outputs": [
    {
     "data": {
      "text/plain": [
       "256-element Array{Int64,1}:\n",
       " 1\n",
       " 1\n",
       " 1\n",
       " 1\n",
       " 1\n",
       " 1\n",
       " 1\n",
       " 1\n",
       " 1\n",
       " 1\n",
       " 1\n",
       " 1\n",
       " 1\n",
       " ⋮\n",
       " 1\n",
       " 1\n",
       " 1\n",
       " 1\n",
       " 1\n",
       " 1\n",
       " 1\n",
       " 1\n",
       " 1\n",
       " 1\n",
       " 1\n",
       " 1"
      ]
     },
     "execution_count": 259,
     "metadata": {},
     "output_type": "execute_result"
    }
   ],
   "source": [
    "EToDomain"
   ]
  },
  {
   "cell_type": "code",
   "execution_count": 260,
   "metadata": {},
   "outputs": [
    {
     "name": "stdout",
     "output_type": "stream",
     "text": [
      "(nelems, nfaces) = (256, 544)\n"
     ]
    },
    {
     "data": {
      "text/plain": [
       "(256, 544)"
      ]
     },
     "execution_count": 260,
     "metadata": {},
     "output_type": "execute_result"
    }
   ],
   "source": [
    "(nelems, nfaces) = (size(EToV, 2), size(FToB, 1))\n",
    "@show (nelems, nfaces)"
   ]
  },
  {
   "cell_type": "code",
   "execution_count": 261,
   "metadata": {},
   "outputs": [],
   "source": [
    "# This is needed to fix up points that should be on the boundary of the\n",
    "# circle, but the mesh didn't quite put them there\n",
    "for v in 1:size(verts, 2)\n",
    "    x,y = verts[1,v], verts[2,v]\n",
    "    if abs(hypot(x,y) - 1) < 1e-5\n",
    "        Q = atan(y,x)\n",
    "        verts[1,v], verts[2,v] = cos(Q), sin(Q)\n",
    "    end\n",
    "end\n"
   ]
  },
  {
   "cell_type": "code",
   "execution_count": 262,
   "metadata": {},
   "outputs": [
    {
     "data": {
      "text/plain": [
       "\u001b[1m                                        connectivity\u001b[22m\n",
       "\u001b[90m      ┌────────────────────────────────────────────────────────────────────────────────┐\u001b[39m \n",
       "    \u001b[90m1\u001b[39m\u001b[90m │\u001b[39m\u001b[0m⠀\u001b[0m⠀\u001b[0m⠀\u001b[0m⠀\u001b[0m⠀\u001b[0m⠀\u001b[0m⠀\u001b[0m⠀\u001b[0m⠀\u001b[0m⠀\u001b[0m⠀\u001b[0m⠀\u001b[0m⠀\u001b[0m⠀\u001b[0m⠀\u001b[0m⠀\u001b[0m⠀\u001b[0m⠀\u001b[0m⠀\u001b[0m⠀\u001b[0m⠀\u001b[0m⠀\u001b[0m⠀\u001b[0m⠀\u001b[0m⠀\u001b[0m⠀\u001b[0m⠀\u001b[0m⠀\u001b[0m⠀\u001b[0m⠀\u001b[0m⠀\u001b[0m⠀\u001b[0m⠀\u001b[0m⠀\u001b[0m⠀\u001b[0m⠀\u001b[0m⠀\u001b[0m⠀\u001b[0m⠀\u001b[0m⠀\u001b[0m⠀\u001b[0m⠀\u001b[0m⠀\u001b[0m⠀\u001b[0m⠀\u001b[0m⠀\u001b[0m⠀\u001b[0m⠀\u001b[0m⠀\u001b[0m⠀\u001b[0m⠀\u001b[0m⠀\u001b[0m⠀\u001b[0m⠀\u001b[0m⠀\u001b[0m⠀\u001b[0m⠀\u001b[0m⠀\u001b[0m⠀\u001b[0m⠀\u001b[0m⠀\u001b[0m⠀\u001b[0m⠀\u001b[0m⠀\u001b[0m⠀\u001b[0m⠀\u001b[0m⠀\u001b[0m⠀\u001b[0m⠀\u001b[0m⠀\u001b[0m⠀\u001b[0m⠀\u001b[0m⠀\u001b[0m⠀\u001b[0m⠀\u001b[0m⠀\u001b[0m⠀\u001b[0m⠀\u001b[0m⠀\u001b[0m⠀\u001b[90m│\u001b[39m \n",
       "     \u001b[90m │\u001b[39m\u001b[0m⠀\u001b[0m⠀\u001b[0m⠀\u001b[0m⠀\u001b[0m⠀\u001b[0m⠀\u001b[0m⠀\u001b[0m⠀\u001b[0m⠀\u001b[0m⠀\u001b[0m⠀\u001b[0m⠀\u001b[0m⠀\u001b[0m⠀\u001b[0m⠀\u001b[0m⠀\u001b[0m⠀\u001b[0m⠀\u001b[0m⠀\u001b[0m⠀\u001b[0m⠀\u001b[0m⠀\u001b[0m⠀\u001b[0m⠀\u001b[0m⠀\u001b[0m⠀\u001b[0m⠀\u001b[0m⠀\u001b[0m⠀\u001b[0m⠀\u001b[0m⠀\u001b[0m⠀\u001b[0m⠀\u001b[0m⠀\u001b[0m⠀\u001b[0m⠀\u001b[0m⠀\u001b[0m⠀\u001b[0m⠀\u001b[0m⠀\u001b[0m⠀\u001b[0m⠀\u001b[0m⠀\u001b[0m⠀\u001b[0m⠀\u001b[0m⠀\u001b[0m⠀\u001b[0m⠀\u001b[0m⠀\u001b[0m⠀\u001b[0m⠀\u001b[0m⠀\u001b[0m⠀\u001b[0m⠀\u001b[0m⠀\u001b[0m⠀\u001b[0m⠀\u001b[0m⠀\u001b[0m⠀\u001b[0m⠀\u001b[0m⠀\u001b[0m⠀\u001b[0m⠀\u001b[0m⠀\u001b[0m⠀\u001b[0m⠀\u001b[0m⠀\u001b[0m⠀\u001b[0m⠀\u001b[0m⠀\u001b[0m⠀\u001b[0m⠀\u001b[0m⠀\u001b[0m⠀\u001b[0m⠀\u001b[0m⠀\u001b[0m⠀\u001b[0m⠀\u001b[0m⠀\u001b[0m⠀\u001b[90m│\u001b[39m \n",
       "     \u001b[90m │\u001b[39m\u001b[0m⠀\u001b[0m⠀\u001b[0m⠀\u001b[0m⠀\u001b[0m⠀\u001b[0m⠀\u001b[0m⠀\u001b[0m⠀\u001b[0m⠀\u001b[0m⠀\u001b[0m⠀\u001b[0m⠀\u001b[0m⠀\u001b[0m⠀\u001b[0m⠀\u001b[0m⠀\u001b[0m⠀\u001b[0m⠀\u001b[0m⠀\u001b[0m⠀\u001b[0m⠀\u001b[0m⠀\u001b[0m⠀\u001b[0m⠀\u001b[0m⠀\u001b[0m⠀\u001b[0m⠀\u001b[0m⠀\u001b[0m⠀\u001b[0m⠀\u001b[0m⠀\u001b[0m⠀\u001b[0m⠀\u001b[0m⠀\u001b[0m⠀\u001b[0m⠀\u001b[0m⠀\u001b[0m⠀\u001b[0m⠀\u001b[0m⠀\u001b[0m⠀\u001b[0m⠀\u001b[0m⠀\u001b[0m⠀\u001b[0m⠀\u001b[0m⠀\u001b[0m⠀\u001b[0m⠀\u001b[0m⠀\u001b[0m⠀\u001b[0m⠀\u001b[0m⠀\u001b[0m⠀\u001b[0m⠀\u001b[0m⠀\u001b[0m⠀\u001b[0m⠀\u001b[0m⠀\u001b[0m⠀\u001b[0m⠀\u001b[0m⠀\u001b[0m⠀\u001b[0m⠀\u001b[0m⠀\u001b[0m⠀\u001b[0m⠀\u001b[0m⠀\u001b[0m⠀\u001b[0m⠀\u001b[0m⠀\u001b[0m⠀\u001b[0m⠀\u001b[0m⠀\u001b[0m⠀\u001b[0m⠀\u001b[0m⠀\u001b[0m⠀\u001b[0m⠀\u001b[0m⠀\u001b[0m⠀\u001b[90m│\u001b[39m \n",
       "     \u001b[90m │\u001b[39m\u001b[0m⠀\u001b[0m⠀\u001b[0m⠀\u001b[0m⠀\u001b[0m⠀\u001b[0m⠀\u001b[0m⠀\u001b[0m⠀\u001b[0m⠀\u001b[0m⠀\u001b[0m⠀\u001b[0m⠀\u001b[0m⠀\u001b[0m⠀\u001b[0m⠀\u001b[0m⠀\u001b[0m⠀\u001b[0m⠀\u001b[0m⠀\u001b[0m⠀\u001b[0m⠀\u001b[0m⠀\u001b[0m⠀\u001b[0m⠀\u001b[0m⠀\u001b[0m⠀\u001b[0m⠀\u001b[0m⠀\u001b[0m⠀\u001b[0m⠀\u001b[0m⠀\u001b[0m⠀\u001b[0m⠀\u001b[0m⠀\u001b[0m⠀\u001b[0m⠀\u001b[0m⠀\u001b[0m⠀\u001b[0m⠀\u001b[0m⠀\u001b[0m⠀\u001b[0m⠀\u001b[0m⠀\u001b[0m⠀\u001b[0m⠀\u001b[0m⠀\u001b[0m⠀\u001b[0m⠀\u001b[0m⠀\u001b[0m⠀\u001b[0m⠀\u001b[0m⠀\u001b[0m⠀\u001b[0m⠀\u001b[0m⠀\u001b[0m⠀\u001b[0m⠀\u001b[0m⠀\u001b[0m⠀\u001b[0m⠀\u001b[0m⠀\u001b[0m⠀\u001b[0m⠀\u001b[0m⠀\u001b[0m⠀\u001b[0m⠀\u001b[0m⠀\u001b[0m⠀\u001b[0m⠀\u001b[0m⠀\u001b[0m⠀\u001b[0m⠀\u001b[0m⠀\u001b[0m⠀\u001b[0m⠀\u001b[0m⠀\u001b[0m⠀\u001b[0m⠀\u001b[0m⠀\u001b[0m⠀\u001b[90m│\u001b[39m \n",
       "     \u001b[90m │\u001b[39m\u001b[0m⠀\u001b[0m⠀\u001b[0m⠀\u001b[0m⠀\u001b[0m⠀\u001b[0m⠀\u001b[0m⠀\u001b[0m⠀\u001b[0m⠀\u001b[0m⠀\u001b[0m⠀\u001b[0m⠀\u001b[0m⠀\u001b[0m⠀\u001b[0m⠀\u001b[0m⠀\u001b[0m⠀\u001b[0m⠀\u001b[0m⠀\u001b[0m⠀\u001b[0m⠀\u001b[0m⠀\u001b[0m⠀\u001b[0m⠀\u001b[0m⠀\u001b[0m⠀\u001b[0m⠀\u001b[0m⠀\u001b[0m⠀\u001b[0m⠀\u001b[0m⠀\u001b[0m⠀\u001b[0m⠀\u001b[0m⠀\u001b[0m⠀\u001b[0m⠀\u001b[0m⠀\u001b[0m⠀\u001b[0m⠀\u001b[0m⠀\u001b[0m⠀\u001b[0m⠀\u001b[0m⠀\u001b[0m⠀\u001b[0m⠀\u001b[0m⠀\u001b[0m⠀\u001b[0m⠀\u001b[0m⠀\u001b[0m⠀\u001b[0m⠀\u001b[0m⠀\u001b[0m⠀\u001b[0m⠀\u001b[0m⠀\u001b[0m⠀\u001b[0m⠀\u001b[0m⠀\u001b[0m⠀\u001b[0m⠀\u001b[0m⠀\u001b[0m⠀\u001b[0m⠀\u001b[0m⠀\u001b[0m⠀\u001b[0m⠀\u001b[0m⠀\u001b[0m⠀\u001b[0m⠀\u001b[0m⠀\u001b[0m⠀\u001b[0m⠀\u001b[0m⠀\u001b[0m⠀\u001b[0m⠀\u001b[0m⠀\u001b[0m⠀\u001b[0m⠀\u001b[0m⠀\u001b[0m⠀\u001b[90m│\u001b[39m \n",
       "     \u001b[90m │\u001b[39m\u001b[0m⠀\u001b[0m⠀\u001b[0m⠀\u001b[0m⠀\u001b[0m⠀\u001b[0m⠀\u001b[0m⠀\u001b[0m⠀\u001b[0m⠀\u001b[0m⠀\u001b[0m⠀\u001b[0m⠀\u001b[0m⠀\u001b[0m⠀\u001b[0m⠀\u001b[0m⠀\u001b[0m⠀\u001b[0m⠀\u001b[0m⠀\u001b[0m⠀\u001b[0m⠀\u001b[0m⠀\u001b[0m⠀\u001b[0m⠀\u001b[0m⠀\u001b[0m⠀\u001b[0m⠀\u001b[0m⠀\u001b[0m⠀\u001b[0m⠀\u001b[0m⠀\u001b[0m⠀\u001b[0m⠀\u001b[0m⠀\u001b[0m⠀\u001b[0m⠀\u001b[0m⠀\u001b[0m⠀\u001b[0m⠀\u001b[0m⠀\u001b[0m⠀\u001b[0m⠀\u001b[0m⠀\u001b[0m⠀\u001b[0m⠀\u001b[0m⠀\u001b[0m⠀\u001b[0m⠀\u001b[0m⠀\u001b[0m⠀\u001b[0m⠀\u001b[0m⠀\u001b[0m⠀\u001b[0m⠀\u001b[0m⠀\u001b[0m⠀\u001b[0m⠀\u001b[0m⠀\u001b[0m⠀\u001b[0m⠀\u001b[0m⠀\u001b[0m⠀\u001b[0m⠀\u001b[0m⠀\u001b[0m⠀\u001b[0m⠀\u001b[0m⠀\u001b[0m⠀\u001b[0m⠀\u001b[0m⠀\u001b[0m⠀\u001b[0m⠀\u001b[0m⠀\u001b[0m⠀\u001b[0m⠀\u001b[0m⠀\u001b[0m⠀\u001b[0m⠀\u001b[0m⠀\u001b[0m⠀\u001b[90m│\u001b[39m \n",
       "     \u001b[90m │\u001b[39m\u001b[0m⠀\u001b[0m⠀\u001b[0m⠀\u001b[0m⠀\u001b[0m⠀\u001b[0m⠀\u001b[0m⠀\u001b[0m⠀\u001b[0m⠀\u001b[0m⠀\u001b[0m⠀\u001b[0m⠀\u001b[0m⠀\u001b[0m⠀\u001b[0m⠀\u001b[0m⠀\u001b[0m⠀\u001b[0m⠀\u001b[0m⠀\u001b[0m⠀\u001b[0m⠀\u001b[0m⠀\u001b[0m⠀\u001b[0m⠀\u001b[0m⠀\u001b[0m⠀\u001b[0m⠀\u001b[0m⠀\u001b[0m⠀\u001b[0m⠀\u001b[0m⠀\u001b[0m⠀\u001b[0m⠀\u001b[0m⠀\u001b[0m⠀\u001b[0m⠀\u001b[0m⠀\u001b[0m⠀\u001b[0m⠀\u001b[0m⠀\u001b[0m⠀\u001b[0m⠀\u001b[0m⠀\u001b[0m⠀\u001b[0m⠀\u001b[0m⠀\u001b[0m⠀\u001b[0m⠀\u001b[0m⠀\u001b[0m⠀\u001b[0m⠀\u001b[0m⠀\u001b[0m⠀\u001b[0m⠀\u001b[0m⠀\u001b[0m⠀\u001b[0m⠀\u001b[0m⠀\u001b[0m⠀\u001b[0m⠀\u001b[0m⠀\u001b[0m⠀\u001b[0m⠀\u001b[0m⠀\u001b[0m⠀\u001b[0m⠀\u001b[0m⠀\u001b[0m⠀\u001b[0m⠀\u001b[0m⠀\u001b[0m⠀\u001b[0m⠀\u001b[0m⠀\u001b[0m⠀\u001b[0m⠀\u001b[0m⠀\u001b[0m⠀\u001b[0m⠀\u001b[0m⠀\u001b[0m⠀\u001b[90m│\u001b[39m \n",
       "     \u001b[90m │\u001b[39m\u001b[0m⠀\u001b[0m⠀\u001b[0m⠀\u001b[0m⠀\u001b[0m⠀\u001b[0m⠀\u001b[0m⠀\u001b[0m⠀\u001b[0m⠀\u001b[0m⠀\u001b[0m⠀\u001b[0m⠀\u001b[0m⠀\u001b[0m⠀\u001b[0m⠀\u001b[0m⠀\u001b[0m⠀\u001b[0m⠀\u001b[0m⠀\u001b[0m⠀\u001b[0m⠀\u001b[0m⠀\u001b[0m⠀\u001b[0m⠀\u001b[0m⠀\u001b[0m⠀\u001b[0m⠀\u001b[0m⠀\u001b[0m⠀\u001b[0m⠀\u001b[0m⠀\u001b[0m⠀\u001b[0m⠀\u001b[0m⠀\u001b[0m⠀\u001b[0m⠀\u001b[0m⠀\u001b[0m⠀\u001b[0m⠀\u001b[0m⠀\u001b[0m⠀\u001b[0m⠀\u001b[0m⠀\u001b[0m⠀\u001b[0m⠀\u001b[0m⠀\u001b[0m⠀\u001b[0m⠀\u001b[0m⠀\u001b[0m⠀\u001b[0m⠀\u001b[0m⠀\u001b[0m⠀\u001b[0m⠀\u001b[0m⠀\u001b[0m⠀\u001b[0m⠀\u001b[0m⠀\u001b[0m⠀\u001b[0m⠀\u001b[0m⠀\u001b[0m⠀\u001b[0m⠀\u001b[0m⠀\u001b[0m⠀\u001b[0m⠀\u001b[0m⠀\u001b[0m⠀\u001b[0m⠀\u001b[0m⠀\u001b[0m⠀\u001b[0m⠀\u001b[0m⠀\u001b[0m⠀\u001b[0m⠀\u001b[0m⠀\u001b[0m⠀\u001b[0m⠀\u001b[0m⠀\u001b[0m⠀\u001b[90m│\u001b[39m \n",
       "     \u001b[90m │\u001b[39m\u001b[0m⠀\u001b[0m⠀\u001b[0m⠀\u001b[0m⠀\u001b[0m⠀\u001b[0m⠀\u001b[0m⠀\u001b[0m⠀\u001b[0m⠀\u001b[0m⠀\u001b[0m⠀\u001b[0m⠀\u001b[0m⠀\u001b[0m⠀\u001b[0m⠀\u001b[0m⠀\u001b[0m⠀\u001b[0m⠀\u001b[0m⠀\u001b[0m⠀\u001b[0m⠀\u001b[0m⠀\u001b[0m⠀\u001b[0m⠀\u001b[0m⠀\u001b[0m⠀\u001b[0m⠀\u001b[0m⠀\u001b[0m⠀\u001b[0m⠀\u001b[0m⠀\u001b[0m⠀\u001b[0m⠀\u001b[0m⠀\u001b[0m⠀\u001b[0m⠀\u001b[0m⠀\u001b[0m⠀\u001b[0m⠀\u001b[0m⠀\u001b[0m⠀\u001b[0m⠀\u001b[0m⠀\u001b[0m⠀\u001b[0m⠀\u001b[0m⠀\u001b[0m⠀\u001b[0m⠀\u001b[0m⠀\u001b[0m⠀\u001b[0m⠀\u001b[0m⠀\u001b[0m⠀\u001b[0m⠀\u001b[0m⠀\u001b[0m⠀\u001b[0m⠀\u001b[0m⠀\u001b[0m⠀\u001b[0m⠀\u001b[0m⠀\u001b[0m⠀\u001b[0m⠀\u001b[0m⠀\u001b[0m⠀\u001b[0m⠀\u001b[0m⠀\u001b[0m⠀\u001b[0m⠀\u001b[0m⠀\u001b[0m⠀\u001b[0m⠀\u001b[0m⠀\u001b[0m⠀\u001b[0m⠀\u001b[0m⠀\u001b[0m⠀\u001b[0m⠀\u001b[0m⠀\u001b[0m⠀\u001b[90m│\u001b[39m \n",
       "     \u001b[90m │\u001b[39m\u001b[0m⠀\u001b[0m⠀\u001b[0m⠀\u001b[0m⠀\u001b[0m⠀\u001b[0m⠀\u001b[0m⠀\u001b[0m⠀\u001b[0m⠀\u001b[0m⠀\u001b[0m⠀\u001b[0m⠀\u001b[0m⠀\u001b[0m⠀\u001b[0m⠀\u001b[0m⠀\u001b[0m⠀\u001b[0m⠀\u001b[0m⠀\u001b[0m⠀\u001b[0m⠀\u001b[0m⠀\u001b[0m⠀\u001b[0m⠀\u001b[0m⠀\u001b[0m⠀\u001b[0m⠀\u001b[0m⠀\u001b[0m⠀\u001b[0m⠀\u001b[0m⠀\u001b[0m⠀\u001b[0m⠀\u001b[0m⠀\u001b[0m⠀\u001b[0m⠀\u001b[0m⠀\u001b[0m⠀\u001b[0m⠀\u001b[0m⠀\u001b[0m⠀\u001b[0m⠀\u001b[0m⠀\u001b[0m⠀\u001b[0m⠀\u001b[0m⠀\u001b[0m⠀\u001b[0m⠀\u001b[0m⠀\u001b[0m⠀\u001b[0m⠀\u001b[0m⠀\u001b[0m⠀\u001b[0m⠀\u001b[0m⠀\u001b[0m⠀\u001b[0m⠀\u001b[0m⠀\u001b[0m⠀\u001b[0m⠀\u001b[0m⠀\u001b[0m⠀\u001b[0m⠀\u001b[0m⠀\u001b[0m⠀\u001b[0m⠀\u001b[0m⠀\u001b[0m⠀\u001b[0m⠀\u001b[0m⠀\u001b[0m⠀\u001b[0m⠀\u001b[0m⠀\u001b[0m⠀\u001b[0m⠀\u001b[0m⠀\u001b[0m⠀\u001b[0m⠀\u001b[0m⠀\u001b[0m⠀\u001b[90m│\u001b[39m \n",
       "     \u001b[90m │\u001b[39m\u001b[0m⠀\u001b[0m⠀\u001b[0m⠀\u001b[0m⠀\u001b[0m⠀\u001b[0m⠀\u001b[0m⠀\u001b[0m⠀\u001b[0m⠀\u001b[0m⠀\u001b[0m⠀\u001b[0m⠀\u001b[0m⠀\u001b[0m⠀\u001b[0m⠀\u001b[0m⠀\u001b[0m⠀\u001b[0m⠀\u001b[0m⠀\u001b[0m⠀\u001b[31m⡏\u001b[39m\u001b[31m⠉\u001b[39m\u001b[37m⢹\u001b[39m\u001b[36m⠉\u001b[39m\u001b[36m⠉\u001b[39m\u001b[37m⡏\u001b[39m\u001b[35m⠉\u001b[39m\u001b[35m⢹\u001b[39m\u001b[31m⠉\u001b[39m\u001b[31m⠉\u001b[39m\u001b[33m⡏\u001b[39m\u001b[32m⠉\u001b[39m\u001b[37m⢹\u001b[39m\u001b[35m⠉\u001b[39m\u001b[35m⠉\u001b[39m\u001b[35m⡏\u001b[39m\u001b[35m⠉\u001b[39m\u001b[35m⢹\u001b[39m\u001b[31m⠉\u001b[39m\u001b[31m⠉\u001b[39m\u001b[31m⡏\u001b[39m\u001b[31m⠉\u001b[39m\u001b[37m⢹\u001b[39m\u001b[36m⠉\u001b[39m\u001b[36m⠉\u001b[39m\u001b[37m⡏\u001b[39m\u001b[35m⠉\u001b[39m\u001b[35m⢹\u001b[39m\u001b[31m⠉\u001b[39m\u001b[31m⠉\u001b[39m\u001b[31m⡏\u001b[39m\u001b[31m⠉\u001b[39m\u001b[37m⢹\u001b[39m\u001b[36m⠉\u001b[39m\u001b[36m⠉\u001b[39m\u001b[36m⡏\u001b[39m\u001b[36m⠉\u001b[39m\u001b[37m⢹\u001b[39m\u001b[33m⠉\u001b[39m\u001b[33m⠉\u001b[39m\u001b[33m⡇\u001b[39m\u001b[0m⠀\u001b[0m⠀\u001b[0m⠀\u001b[0m⠀\u001b[0m⠀\u001b[0m⠀\u001b[0m⠀\u001b[0m⠀\u001b[0m⠀\u001b[0m⠀\u001b[0m⠀\u001b[0m⠀\u001b[0m⠀\u001b[0m⠀\u001b[0m⠀\u001b[0m⠀\u001b[0m⠀\u001b[0m⠀\u001b[0m⠀\u001b[90m│\u001b[39m \n",
       "     \u001b[90m │\u001b[39m\u001b[0m⠀\u001b[0m⠀\u001b[0m⠀\u001b[0m⠀\u001b[0m⠀\u001b[0m⠀\u001b[0m⠀\u001b[0m⠀\u001b[0m⠀\u001b[0m⠀\u001b[0m⠀\u001b[0m⠀\u001b[0m⠀\u001b[0m⠀\u001b[0m⠀\u001b[0m⠀\u001b[0m⠀\u001b[0m⠀\u001b[0m⠀\u001b[0m⠀\u001b[35m⡗\u001b[39m\u001b[35m⠒\u001b[39m\u001b[37m⢺\u001b[39m\u001b[37m⠒\u001b[39m\u001b[37m⠒\u001b[39m\u001b[37m⡗\u001b[39m\u001b[37m⠒\u001b[39m\u001b[37m⢺\u001b[39m\u001b[37m⠒\u001b[39m\u001b[37m⠒\u001b[39m\u001b[37m⡗\u001b[39m\u001b[36m⠒\u001b[39m\u001b[37m⢺\u001b[39m\u001b[35m⠒\u001b[39m\u001b[35m⠒\u001b[39m\u001b[37m⡗\u001b[39m\u001b[37m⠒\u001b[39m\u001b[37m⢺\u001b[39m\u001b[37m⠒\u001b[39m\u001b[37m⠒\u001b[39m\u001b[37m⡗\u001b[39m\u001b[35m⠒\u001b[39m\u001b[37m⢺\u001b[39m\u001b[37m⠒\u001b[39m\u001b[37m⠒\u001b[39m\u001b[37m⡗\u001b[39m\u001b[37m⠒\u001b[39m\u001b[37m⢺\u001b[39m\u001b[37m⠒\u001b[39m\u001b[37m⠒\u001b[39m\u001b[37m⡗\u001b[39m\u001b[35m⠒\u001b[39m\u001b[37m⢺\u001b[39m\u001b[37m⠒\u001b[39m\u001b[37m⠒\u001b[39m\u001b[37m⡗\u001b[39m\u001b[36m⠒\u001b[39m\u001b[37m⢺\u001b[39m\u001b[37m⠒\u001b[39m\u001b[37m⠒\u001b[39m\u001b[37m⡇\u001b[39m\u001b[0m⠀\u001b[0m⠀\u001b[0m⠀\u001b[0m⠀\u001b[0m⠀\u001b[0m⠀\u001b[0m⠀\u001b[0m⠀\u001b[0m⠀\u001b[0m⠀\u001b[0m⠀\u001b[0m⠀\u001b[0m⠀\u001b[0m⠀\u001b[0m⠀\u001b[0m⠀\u001b[0m⠀\u001b[0m⠀\u001b[0m⠀\u001b[90m│\u001b[39m \n",
       "     \u001b[90m │\u001b[39m\u001b[0m⠀\u001b[0m⠀\u001b[0m⠀\u001b[0m⠀\u001b[0m⠀\u001b[0m⠀\u001b[0m⠀\u001b[0m⠀\u001b[0m⠀\u001b[0m⠀\u001b[0m⠀\u001b[0m⠀\u001b[0m⠀\u001b[0m⠀\u001b[0m⠀\u001b[0m⠀\u001b[0m⠀\u001b[0m⠀\u001b[0m⠀\u001b[0m⠀\u001b[35m⡧\u001b[39m\u001b[35m⠤\u001b[39m\u001b[37m⢼\u001b[39m\u001b[33m⠤\u001b[39m\u001b[33m⠤\u001b[39m\u001b[33m⡧\u001b[39m\u001b[33m⠤\u001b[39m\u001b[37m⢼\u001b[39m\u001b[36m⠤\u001b[39m\u001b[36m⠤\u001b[39m\u001b[36m⡧\u001b[39m\u001b[34m⠤\u001b[39m\u001b[37m⢼\u001b[39m\u001b[33m⠤\u001b[39m\u001b[33m⠤\u001b[39m\u001b[33m⡧\u001b[39m\u001b[33m⠤\u001b[39m\u001b[37m⢼\u001b[39m\u001b[37m⠤\u001b[39m\u001b[37m⠤\u001b[39m\u001b[37m⡧\u001b[39m\u001b[35m⠤\u001b[39m\u001b[37m⢼\u001b[39m\u001b[33m⠤\u001b[39m\u001b[33m⠤\u001b[39m\u001b[33m⡧\u001b[39m\u001b[33m⠤\u001b[39m\u001b[37m⢼\u001b[39m\u001b[36m⠤\u001b[39m\u001b[36m⠤\u001b[39m\u001b[37m⡧\u001b[39m\u001b[35m⠤\u001b[39m\u001b[37m⢼\u001b[39m\u001b[33m⠤\u001b[39m\u001b[33m⠤\u001b[39m\u001b[33m⡧\u001b[39m\u001b[32m⠤\u001b[39m\u001b[36m⢼\u001b[39m\u001b[36m⠤\u001b[39m\u001b[36m⠤\u001b[39m\u001b[36m⡇\u001b[39m\u001b[0m⠀\u001b[0m⠀\u001b[0m⠀\u001b[0m⠀\u001b[0m⠀\u001b[0m⠀\u001b[0m⠀\u001b[0m⠀\u001b[0m⠀\u001b[0m⠀\u001b[0m⠀\u001b[0m⠀\u001b[0m⠀\u001b[0m⠀\u001b[0m⠀\u001b[0m⠀\u001b[0m⠀\u001b[0m⠀\u001b[0m⠀\u001b[90m│\u001b[39m \n",
       "     \u001b[90m │\u001b[39m\u001b[0m⠀\u001b[0m⠀\u001b[0m⠀\u001b[0m⠀\u001b[0m⠀\u001b[0m⠀\u001b[0m⠀\u001b[0m⠀\u001b[0m⠀\u001b[0m⠀\u001b[0m⠀\u001b[0m⠀\u001b[0m⠀\u001b[0m⠀\u001b[0m⠀\u001b[0m⠀\u001b[0m⠀\u001b[0m⠀\u001b[0m⠀\u001b[0m⠀\u001b[37m⣇\u001b[39m\u001b[37m⣀\u001b[39m\u001b[37m⣸\u001b[39m\u001b[35m⣀\u001b[39m\u001b[35m⣀\u001b[39m\u001b[37m⣇\u001b[39m\u001b[36m⣀\u001b[39m\u001b[37m⣸\u001b[39m\u001b[37m⣀\u001b[39m\u001b[37m⣀\u001b[39m\u001b[37m⣇\u001b[39m\u001b[37m⣀\u001b[39m\u001b[37m⣸\u001b[39m\u001b[36m⣀\u001b[39m\u001b[36m⣀\u001b[39m\u001b[37m⣇\u001b[39m\u001b[37m⣀\u001b[39m\u001b[37m⣸\u001b[39m\u001b[35m⣀\u001b[39m\u001b[35m⣀\u001b[39m\u001b[37m⣇\u001b[39m\u001b[37m⣀\u001b[39m\u001b[37m⣸\u001b[39m\u001b[35m⣀\u001b[39m\u001b[35m⣀\u001b[39m\u001b[37m⣇\u001b[39m\u001b[36m⣀\u001b[39m\u001b[37m⣸\u001b[39m\u001b[37m⣀\u001b[39m\u001b[37m⣀\u001b[39m\u001b[37m⣇\u001b[39m\u001b[37m⣀\u001b[39m\u001b[37m⣸\u001b[39m\u001b[35m⣀\u001b[39m\u001b[35m⣀\u001b[39m\u001b[37m⣇\u001b[39m\u001b[36m⣀\u001b[39m\u001b[37m⣸\u001b[39m\u001b[37m⣀\u001b[39m\u001b[37m⣀\u001b[39m\u001b[37m⡇\u001b[39m\u001b[0m⠀\u001b[0m⠀\u001b[0m⠀\u001b[0m⠀\u001b[0m⠀\u001b[0m⠀\u001b[0m⠀\u001b[0m⠀\u001b[0m⠀\u001b[0m⠀\u001b[0m⠀\u001b[0m⠀\u001b[0m⠀\u001b[0m⠀\u001b[0m⠀\u001b[0m⠀\u001b[0m⠀\u001b[0m⠀\u001b[0m⠀\u001b[90m│\u001b[39m \n",
       "     \u001b[90m │\u001b[39m\u001b[0m⠀\u001b[0m⠀\u001b[0m⠀\u001b[0m⠀\u001b[0m⠀\u001b[0m⠀\u001b[0m⠀\u001b[0m⠀\u001b[0m⠀\u001b[0m⠀\u001b[0m⠀\u001b[0m⠀\u001b[0m⠀\u001b[0m⠀\u001b[0m⠀\u001b[0m⠀\u001b[0m⠀\u001b[0m⠀\u001b[0m⠀\u001b[0m⠀\u001b[32m⡇\u001b[39m\u001b[0m⠀\u001b[36m⢸\u001b[39m\u001b[0m⠀\u001b[0m⠀\u001b[34m⡇\u001b[39m\u001b[0m⠀\u001b[37m⢸\u001b[39m\u001b[0m⠀\u001b[0m⠀\u001b[33m⡇\u001b[39m\u001b[0m⠀\u001b[37m⢸\u001b[39m\u001b[0m⠀\u001b[0m⠀\u001b[36m⡇\u001b[39m\u001b[0m⠀\u001b[37m⢸\u001b[39m\u001b[0m⠀\u001b[0m⠀\u001b[33m⡇\u001b[39m\u001b[0m⠀\u001b[36m⢸\u001b[39m\u001b[0m⠀\u001b[0m⠀\u001b[34m⡇\u001b[39m\u001b[0m⠀\u001b[37m⢸\u001b[39m\u001b[0m⠀\u001b[0m⠀\u001b[33m⡇\u001b[39m\u001b[0m⠀\u001b[36m⢸\u001b[39m\u001b[0m⠀\u001b[0m⠀\u001b[34m⡇\u001b[39m\u001b[0m⠀\u001b[37m⢸\u001b[39m\u001b[0m⠀\u001b[0m⠀\u001b[33m⡇\u001b[39m\u001b[0m⠀\u001b[0m⠀\u001b[0m⠀\u001b[0m⠀\u001b[0m⠀\u001b[0m⠀\u001b[0m⠀\u001b[0m⠀\u001b[0m⠀\u001b[0m⠀\u001b[0m⠀\u001b[0m⠀\u001b[0m⠀\u001b[0m⠀\u001b[0m⠀\u001b[0m⠀\u001b[0m⠀\u001b[0m⠀\u001b[0m⠀\u001b[90m│\u001b[39m \n",
       "     \u001b[90m │\u001b[39m\u001b[0m⠀\u001b[0m⠀\u001b[0m⠀\u001b[0m⠀\u001b[0m⠀\u001b[0m⠀\u001b[0m⠀\u001b[0m⠀\u001b[0m⠀\u001b[0m⠀\u001b[0m⠀\u001b[0m⠀\u001b[0m⠀\u001b[0m⠀\u001b[0m⠀\u001b[0m⠀\u001b[0m⠀\u001b[0m⠀\u001b[0m⠀\u001b[0m⠀\u001b[32m⡏\u001b[39m\u001b[32m⠉\u001b[39m\u001b[37m⢹\u001b[39m\u001b[35m⠉\u001b[39m\u001b[35m⠉\u001b[39m\u001b[35m⡏\u001b[39m\u001b[35m⠉\u001b[39m\u001b[37m⢹\u001b[39m\u001b[33m⠉\u001b[39m\u001b[33m⠉\u001b[39m\u001b[33m⡏\u001b[39m\u001b[33m⠉\u001b[39m\u001b[37m⢹\u001b[39m\u001b[37m⠉\u001b[39m\u001b[37m⠉\u001b[39m\u001b[37m⡏\u001b[39m\u001b[37m⠉\u001b[39m\u001b[37m⢹\u001b[39m\u001b[31m⠉\u001b[39m\u001b[31m⠉\u001b[39m\u001b[33m⡏\u001b[39m\u001b[32m⠉\u001b[39m\u001b[37m⢹\u001b[39m\u001b[35m⠉\u001b[39m\u001b[35m⠉\u001b[39m\u001b[35m⡏\u001b[39m\u001b[35m⠉\u001b[39m\u001b[37m⢹\u001b[39m\u001b[33m⠉\u001b[39m\u001b[33m⠉\u001b[39m\u001b[33m⡏\u001b[39m\u001b[32m⠉\u001b[39m\u001b[37m⢹\u001b[39m\u001b[35m⠉\u001b[39m\u001b[35m⠉\u001b[39m\u001b[35m⡏\u001b[39m\u001b[35m⠉\u001b[39m\u001b[37m⢹\u001b[39m\u001b[33m⠉\u001b[39m\u001b[33m⠉\u001b[39m\u001b[33m⡇\u001b[39m\u001b[0m⠀\u001b[0m⠀\u001b[0m⠀\u001b[0m⠀\u001b[0m⠀\u001b[0m⠀\u001b[0m⠀\u001b[0m⠀\u001b[0m⠀\u001b[0m⠀\u001b[0m⠀\u001b[0m⠀\u001b[0m⠀\u001b[0m⠀\u001b[0m⠀\u001b[0m⠀\u001b[0m⠀\u001b[0m⠀\u001b[0m⠀\u001b[90m│\u001b[39m \n",
       "     \u001b[90m │\u001b[39m\u001b[0m⠀\u001b[0m⠀\u001b[0m⠀\u001b[0m⠀\u001b[0m⠀\u001b[0m⠀\u001b[0m⠀\u001b[0m⠀\u001b[0m⠀\u001b[0m⠀\u001b[0m⠀\u001b[0m⠀\u001b[0m⠀\u001b[0m⠀\u001b[0m⠀\u001b[0m⠀\u001b[0m⠀\u001b[0m⠀\u001b[0m⠀\u001b[0m⠀\u001b[36m⡗\u001b[39m\u001b[36m⠒\u001b[39m\u001b[37m⢺\u001b[39m\u001b[35m⠒\u001b[39m\u001b[35m⠒\u001b[39m\u001b[37m⡗\u001b[39m\u001b[37m⠒\u001b[39m\u001b[37m⢺\u001b[39m\u001b[37m⠒\u001b[39m\u001b[37m⠒\u001b[39m\u001b[37m⡗\u001b[39m\u001b[36m⠒\u001b[39m\u001b[37m⢺\u001b[39m\u001b[35m⠒\u001b[39m\u001b[35m⠒\u001b[39m\u001b[37m⡗\u001b[39m\u001b[37m⠒\u001b[39m\u001b[37m⢺\u001b[39m\u001b[37m⠒\u001b[39m\u001b[37m⠒\u001b[39m\u001b[37m⡗\u001b[39m\u001b[36m⠒\u001b[39m\u001b[37m⢺\u001b[39m\u001b[35m⠒\u001b[39m\u001b[35m⠒\u001b[39m\u001b[37m⡗\u001b[39m\u001b[37m⠒\u001b[39m\u001b[37m⢺\u001b[39m\u001b[37m⠒\u001b[39m\u001b[37m⠒\u001b[39m\u001b[37m⡗\u001b[39m\u001b[36m⠒\u001b[39m\u001b[37m⢺\u001b[39m\u001b[35m⠒\u001b[39m\u001b[35m⠒\u001b[39m\u001b[37m⡗\u001b[39m\u001b[37m⠒\u001b[39m\u001b[37m⢺\u001b[39m\u001b[37m⠒\u001b[39m\u001b[37m⠒\u001b[39m\u001b[37m⡇\u001b[39m\u001b[0m⠀\u001b[0m⠀\u001b[0m⠀\u001b[0m⠀\u001b[0m⠀\u001b[0m⠀\u001b[0m⠀\u001b[0m⠀\u001b[0m⠀\u001b[0m⠀\u001b[0m⠀\u001b[0m⠀\u001b[0m⠀\u001b[0m⠀\u001b[0m⠀\u001b[0m⠀\u001b[0m⠀\u001b[0m⠀\u001b[0m⠀\u001b[90m│\u001b[39m \n",
       "     \u001b[90m │\u001b[39m\u001b[0m⠀\u001b[0m⠀\u001b[0m⠀\u001b[0m⠀\u001b[0m⠀\u001b[0m⠀\u001b[0m⠀\u001b[0m⠀\u001b[0m⠀\u001b[0m⠀\u001b[0m⠀\u001b[0m⠀\u001b[0m⠀\u001b[0m⠀\u001b[0m⠀\u001b[0m⠀\u001b[0m⠀\u001b[0m⠀\u001b[0m⠀\u001b[0m⠀\u001b[35m⡧\u001b[39m\u001b[35m⠤\u001b[39m\u001b[35m⢼\u001b[39m\u001b[31m⠤\u001b[39m\u001b[31m⠤\u001b[39m\u001b[33m⡧\u001b[39m\u001b[33m⠤\u001b[39m\u001b[37m⢼\u001b[39m\u001b[36m⠤\u001b[39m\u001b[36m⠤\u001b[39m\u001b[36m⡧\u001b[39m\u001b[34m⠤\u001b[39m\u001b[37m⢼\u001b[39m\u001b[33m⠤\u001b[39m\u001b[33m⠤\u001b[39m\u001b[33m⡧\u001b[39m\u001b[33m⠤\u001b[39m\u001b[37m⢼\u001b[39m\u001b[36m⠤\u001b[39m\u001b[36m⠤\u001b[39m\u001b[37m⡧\u001b[39m\u001b[35m⠤\u001b[39m\u001b[35m⢼\u001b[39m\u001b[31m⠤\u001b[39m\u001b[31m⠤\u001b[39m\u001b[33m⡧\u001b[39m\u001b[33m⠤\u001b[39m\u001b[37m⢼\u001b[39m\u001b[36m⠤\u001b[39m\u001b[36m⠤\u001b[39m\u001b[36m⡧\u001b[39m\u001b[34m⠤\u001b[39m\u001b[37m⢼\u001b[39m\u001b[33m⠤\u001b[39m\u001b[33m⠤\u001b[39m\u001b[33m⡧\u001b[39m\u001b[33m⠤\u001b[39m\u001b[37m⢼\u001b[39m\u001b[36m⠤\u001b[39m\u001b[36m⠤\u001b[39m\u001b[36m⡇\u001b[39m\u001b[0m⠀\u001b[0m⠀\u001b[0m⠀\u001b[0m⠀\u001b[0m⠀\u001b[0m⠀\u001b[0m⠀\u001b[0m⠀\u001b[0m⠀\u001b[0m⠀\u001b[0m⠀\u001b[0m⠀\u001b[0m⠀\u001b[0m⠀\u001b[0m⠀\u001b[0m⠀\u001b[0m⠀\u001b[0m⠀\u001b[0m⠀\u001b[90m│\u001b[39m \n",
       "     \u001b[90m │\u001b[39m\u001b[0m⠀\u001b[0m⠀\u001b[0m⠀\u001b[0m⠀\u001b[0m⠀\u001b[0m⠀\u001b[0m⠀\u001b[0m⠀\u001b[0m⠀\u001b[0m⠀\u001b[0m⠀\u001b[0m⠀\u001b[0m⠀\u001b[0m⠀\u001b[0m⠀\u001b[0m⠀\u001b[0m⠀\u001b[0m⠀\u001b[0m⠀\u001b[0m⠀\u001b[37m⣇\u001b[39m\u001b[37m⣀\u001b[39m\u001b[37m⣸\u001b[39m\u001b[35m⣀\u001b[39m\u001b[35m⣀\u001b[39m\u001b[37m⣇\u001b[39m\u001b[36m⣀\u001b[39m\u001b[37m⣸\u001b[39m\u001b[37m⣀\u001b[39m\u001b[37m⣀\u001b[39m\u001b[37m⣇\u001b[39m\u001b[37m⣀\u001b[39m\u001b[37m⣸\u001b[39m\u001b[36m⣀\u001b[39m\u001b[36m⣀\u001b[39m\u001b[36m⣇\u001b[39m\u001b[36m⣀\u001b[39m\u001b[37m⣸\u001b[39m\u001b[37m⣀\u001b[39m\u001b[37m⣀\u001b[39m\u001b[37m⣇\u001b[39m\u001b[37m⣀\u001b[39m\u001b[37m⣸\u001b[39m\u001b[35m⣀\u001b[39m\u001b[35m⣀\u001b[39m\u001b[37m⣇\u001b[39m\u001b[36m⣀\u001b[39m\u001b[37m⣸\u001b[39m\u001b[37m⣀\u001b[39m\u001b[37m⣀\u001b[39m\u001b[37m⣇\u001b[39m\u001b[37m⣀\u001b[39m\u001b[37m⣸\u001b[39m\u001b[36m⣀\u001b[39m\u001b[36m⣀\u001b[39m\u001b[36m⣇\u001b[39m\u001b[36m⣀\u001b[39m\u001b[37m⣸\u001b[39m\u001b[37m⣀\u001b[39m\u001b[37m⣀\u001b[39m\u001b[37m⡇\u001b[39m\u001b[0m⠀\u001b[0m⠀\u001b[0m⠀\u001b[0m⠀\u001b[0m⠀\u001b[0m⠀\u001b[0m⠀\u001b[0m⠀\u001b[0m⠀\u001b[0m⠀\u001b[0m⠀\u001b[0m⠀\u001b[0m⠀\u001b[0m⠀\u001b[0m⠀\u001b[0m⠀\u001b[0m⠀\u001b[0m⠀\u001b[0m⠀\u001b[90m│\u001b[39m \n",
       "     \u001b[90m │\u001b[39m\u001b[0m⠀\u001b[0m⠀\u001b[0m⠀\u001b[0m⠀\u001b[0m⠀\u001b[0m⠀\u001b[0m⠀\u001b[0m⠀\u001b[0m⠀\u001b[0m⠀\u001b[0m⠀\u001b[0m⠀\u001b[0m⠀\u001b[0m⠀\u001b[0m⠀\u001b[0m⠀\u001b[0m⠀\u001b[0m⠀\u001b[0m⠀\u001b[0m⠀\u001b[32m⡇\u001b[39m\u001b[0m⠀\u001b[36m⢸\u001b[39m\u001b[0m⠀\u001b[0m⠀\u001b[34m⡇\u001b[39m\u001b[0m⠀\u001b[37m⢸\u001b[39m\u001b[0m⠀\u001b[0m⠀\u001b[33m⡇\u001b[39m\u001b[0m⠀\u001b[37m⢸\u001b[39m\u001b[0m⠀\u001b[0m⠀\u001b[36m⡇\u001b[39m\u001b[0m⠀\u001b[37m⢸\u001b[39m\u001b[0m⠀\u001b[0m⠀\u001b[33m⡇\u001b[39m\u001b[0m⠀\u001b[36m⢸\u001b[39m\u001b[0m⠀\u001b[0m⠀\u001b[34m⡇\u001b[39m\u001b[0m⠀\u001b[37m⢸\u001b[39m\u001b[0m⠀\u001b[0m⠀\u001b[33m⡇\u001b[39m\u001b[0m⠀\u001b[37m⢸\u001b[39m\u001b[0m⠀\u001b[0m⠀\u001b[36m⡇\u001b[39m\u001b[0m⠀\u001b[37m⢸\u001b[39m\u001b[0m⠀\u001b[0m⠀\u001b[33m⡇\u001b[39m\u001b[0m⠀\u001b[0m⠀\u001b[0m⠀\u001b[0m⠀\u001b[0m⠀\u001b[0m⠀\u001b[0m⠀\u001b[0m⠀\u001b[0m⠀\u001b[0m⠀\u001b[0m⠀\u001b[0m⠀\u001b[0m⠀\u001b[0m⠀\u001b[0m⠀\u001b[0m⠀\u001b[0m⠀\u001b[0m⠀\u001b[0m⠀\u001b[90m│\u001b[39m \n",
       "     \u001b[90m │\u001b[39m\u001b[0m⠀\u001b[0m⠀\u001b[0m⠀\u001b[0m⠀\u001b[0m⠀\u001b[0m⠀\u001b[0m⠀\u001b[0m⠀\u001b[0m⠀\u001b[0m⠀\u001b[0m⠀\u001b[0m⠀\u001b[0m⠀\u001b[0m⠀\u001b[0m⠀\u001b[0m⠀\u001b[0m⠀\u001b[0m⠀\u001b[0m⠀\u001b[0m⠀\u001b[32m⡏\u001b[39m\u001b[32m⠉\u001b[39m\u001b[37m⢹\u001b[39m\u001b[35m⠉\u001b[39m\u001b[35m⠉\u001b[39m\u001b[35m⡏\u001b[39m\u001b[34m⠉\u001b[39m\u001b[37m⢹\u001b[39m\u001b[33m⠉\u001b[39m\u001b[33m⠉\u001b[39m\u001b[33m⡏\u001b[39m\u001b[33m⠉\u001b[39m\u001b[37m⢹\u001b[39m\u001b[37m⠉\u001b[39m\u001b[37m⠉\u001b[39m\u001b[37m⡏\u001b[39m\u001b[35m⠉\u001b[39m\u001b[37m⢹\u001b[39m\u001b[33m⠉\u001b[39m\u001b[33m⠉\u001b[39m\u001b[37m⡏\u001b[39m\u001b[36m⠉\u001b[39m\u001b[37m⢹\u001b[39m\u001b[35m⠉\u001b[39m\u001b[35m⠉\u001b[39m\u001b[37m⡏\u001b[39m\u001b[37m⠉\u001b[39m\u001b[37m⢹\u001b[39m\u001b[37m⠉\u001b[39m\u001b[37m⠉\u001b[39m\u001b[37m⡏\u001b[39m\u001b[37m⠉\u001b[39m\u001b[37m⢹\u001b[39m\u001b[37m⠉\u001b[39m\u001b[37m⠉\u001b[39m\u001b[37m⡏\u001b[39m\u001b[35m⠉\u001b[39m\u001b[37m⢹\u001b[39m\u001b[37m⠉\u001b[39m\u001b[37m⠉\u001b[39m\u001b[37m⡇\u001b[39m\u001b[0m⠀\u001b[0m⠀\u001b[0m⠀\u001b[0m⠀\u001b[0m⠀\u001b[0m⠀\u001b[0m⠀\u001b[0m⠀\u001b[0m⠀\u001b[0m⠀\u001b[0m⠀\u001b[0m⠀\u001b[0m⠀\u001b[0m⠀\u001b[0m⠀\u001b[0m⠀\u001b[0m⠀\u001b[0m⠀\u001b[0m⠀\u001b[90m│\u001b[39m \n",
       "     \u001b[90m │\u001b[39m\u001b[0m⠀\u001b[0m⠀\u001b[0m⠀\u001b[0m⠀\u001b[0m⠀\u001b[0m⠀\u001b[0m⠀\u001b[0m⠀\u001b[0m⠀\u001b[0m⠀\u001b[0m⠀\u001b[0m⠀\u001b[0m⠀\u001b[0m⠀\u001b[0m⠀\u001b[0m⠀\u001b[0m⠀\u001b[0m⠀\u001b[0m⠀\u001b[0m⠀\u001b[36m⡗\u001b[39m\u001b[36m⠒\u001b[39m\u001b[37m⢺\u001b[39m\u001b[35m⠒\u001b[39m\u001b[35m⠒\u001b[39m\u001b[35m⡗\u001b[39m\u001b[35m⠒\u001b[39m\u001b[37m⢺\u001b[39m\u001b[37m⠒\u001b[39m\u001b[37m⠒\u001b[39m\u001b[37m⡗\u001b[39m\u001b[36m⠒\u001b[39m\u001b[37m⢺\u001b[39m\u001b[35m⠒\u001b[39m\u001b[35m⠒\u001b[39m\u001b[37m⡗\u001b[39m\u001b[37m⠒\u001b[39m\u001b[37m⢺\u001b[39m\u001b[37m⠒\u001b[39m\u001b[37m⠒\u001b[39m\u001b[37m⡗\u001b[39m\u001b[37m⠒\u001b[39m\u001b[37m⢺\u001b[39m\u001b[35m⠒\u001b[39m\u001b[35m⠒\u001b[39m\u001b[37m⡗\u001b[39m\u001b[37m⠒\u001b[39m\u001b[37m⢺\u001b[39m\u001b[37m⠒\u001b[39m\u001b[37m⠒\u001b[39m\u001b[37m⡗\u001b[39m\u001b[37m⠒\u001b[39m\u001b[37m⢺\u001b[39m\u001b[35m⠒\u001b[39m\u001b[35m⠒\u001b[39m\u001b[35m⡗\u001b[39m\u001b[35m⠒\u001b[39m\u001b[37m⢺\u001b[39m\u001b[37m⠒\u001b[39m\u001b[37m⠒\u001b[39m\u001b[37m⡇\u001b[39m\u001b[0m⠀\u001b[0m⠀\u001b[0m⠀\u001b[0m⠀\u001b[0m⠀\u001b[0m⠀\u001b[0m⠀\u001b[0m⠀\u001b[0m⠀\u001b[0m⠀\u001b[0m⠀\u001b[0m⠀\u001b[0m⠀\u001b[0m⠀\u001b[0m⠀\u001b[0m⠀\u001b[0m⠀\u001b[0m⠀\u001b[0m⠀\u001b[90m│\u001b[39m \n",
       "     \u001b[90m │\u001b[39m\u001b[0m⠀\u001b[0m⠀\u001b[0m⠀\u001b[0m⠀\u001b[0m⠀\u001b[0m⠀\u001b[0m⠀\u001b[0m⠀\u001b[0m⠀\u001b[0m⠀\u001b[0m⠀\u001b[0m⠀\u001b[0m⠀\u001b[0m⠀\u001b[0m⠀\u001b[0m⠀\u001b[0m⠀\u001b[0m⠀\u001b[0m⠀\u001b[0m⠀\u001b[34m⡧\u001b[39m\u001b[34m⠤\u001b[39m\u001b[37m⢼\u001b[39m\u001b[33m⠤\u001b[39m\u001b[33m⠤\u001b[39m\u001b[33m⡧\u001b[39m\u001b[33m⠤\u001b[39m\u001b[37m⢼\u001b[39m\u001b[35m⠤\u001b[39m\u001b[35m⠤\u001b[39m\u001b[35m⡧\u001b[39m\u001b[34m⠤\u001b[39m\u001b[37m⢼\u001b[39m\u001b[33m⠤\u001b[39m\u001b[33m⠤\u001b[39m\u001b[33m⡧\u001b[39m\u001b[33m⠤\u001b[39m\u001b[37m⢼\u001b[39m\u001b[37m⠤\u001b[39m\u001b[37m⠤\u001b[39m\u001b[37m⡧\u001b[39m\u001b[33m⠤\u001b[39m\u001b[37m⢼\u001b[39m\u001b[37m⠤\u001b[39m\u001b[37m⠤\u001b[39m\u001b[37m⡧\u001b[39m\u001b[35m⠤\u001b[39m\u001b[35m⢼\u001b[39m\u001b[31m⠤\u001b[39m\u001b[31m⠤\u001b[39m\u001b[33m⡧\u001b[39m\u001b[33m⠤\u001b[39m\u001b[37m⢼\u001b[39m\u001b[37m⠤\u001b[39m\u001b[37m⠤\u001b[39m\u001b[37m⡧\u001b[39m\u001b[34m⠤\u001b[39m\u001b[37m⢼\u001b[39m\u001b[33m⠤\u001b[39m\u001b[33m⠤\u001b[39m\u001b[33m⡇\u001b[39m\u001b[0m⠀\u001b[0m⠀\u001b[0m⠀\u001b[0m⠀\u001b[0m⠀\u001b[0m⠀\u001b[0m⠀\u001b[0m⠀\u001b[0m⠀\u001b[0m⠀\u001b[0m⠀\u001b[0m⠀\u001b[0m⠀\u001b[0m⠀\u001b[0m⠀\u001b[0m⠀\u001b[0m⠀\u001b[0m⠀\u001b[0m⠀\u001b[90m│\u001b[39m \n",
       "     \u001b[90m │\u001b[39m\u001b[0m⠀\u001b[0m⠀\u001b[0m⠀\u001b[0m⠀\u001b[0m⠀\u001b[0m⠀\u001b[0m⠀\u001b[0m⠀\u001b[0m⠀\u001b[0m⠀\u001b[0m⠀\u001b[0m⠀\u001b[0m⠀\u001b[0m⠀\u001b[0m⠀\u001b[0m⠀\u001b[0m⠀\u001b[0m⠀\u001b[0m⠀\u001b[0m⠀\u001b[37m⣇\u001b[39m\u001b[37m⣀\u001b[39m\u001b[37m⣸\u001b[39m\u001b[36m⣀\u001b[39m\u001b[36m⣀\u001b[39m\u001b[37m⣇\u001b[39m\u001b[37m⣀\u001b[39m\u001b[37m⣸\u001b[39m\u001b[35m⣀\u001b[39m\u001b[35m⣀\u001b[39m\u001b[37m⣇\u001b[39m\u001b[37m⣀\u001b[39m\u001b[37m⣸\u001b[39m\u001b[36m⣀\u001b[39m\u001b[36m⣀\u001b[39m\u001b[37m⣇\u001b[39m\u001b[37m⣀\u001b[39m\u001b[37m⣸\u001b[39m\u001b[35m⣀\u001b[39m\u001b[35m⣀\u001b[39m\u001b[37m⣇\u001b[39m\u001b[37m⣀\u001b[39m\u001b[37m⣸\u001b[39m\u001b[36m⣀\u001b[39m\u001b[36m⣀\u001b[39m\u001b[36m⣇\u001b[39m\u001b[36m⣀\u001b[39m\u001b[37m⣸\u001b[39m\u001b[35m⣀\u001b[39m\u001b[35m⣀\u001b[39m\u001b[37m⣇\u001b[39m\u001b[37m⣀\u001b[39m\u001b[37m⣸\u001b[39m\u001b[36m⣀\u001b[39m\u001b[36m⣀\u001b[39m\u001b[36m⣇\u001b[39m\u001b[36m⣀\u001b[39m\u001b[37m⣸\u001b[39m\u001b[35m⣀\u001b[39m\u001b[35m⣀\u001b[39m\u001b[35m⡇\u001b[39m\u001b[0m⠀\u001b[0m⠀\u001b[0m⠀\u001b[0m⠀\u001b[0m⠀\u001b[0m⠀\u001b[0m⠀\u001b[0m⠀\u001b[0m⠀\u001b[0m⠀\u001b[0m⠀\u001b[0m⠀\u001b[0m⠀\u001b[0m⠀\u001b[0m⠀\u001b[0m⠀\u001b[0m⠀\u001b[0m⠀\u001b[0m⠀\u001b[90m│\u001b[39m \n",
       "     \u001b[90m │\u001b[39m\u001b[0m⠀\u001b[0m⠀\u001b[0m⠀\u001b[0m⠀\u001b[0m⠀\u001b[0m⠀\u001b[0m⠀\u001b[0m⠀\u001b[0m⠀\u001b[0m⠀\u001b[0m⠀\u001b[0m⠀\u001b[0m⠀\u001b[0m⠀\u001b[0m⠀\u001b[0m⠀\u001b[0m⠀\u001b[0m⠀\u001b[0m⠀\u001b[0m⠀\u001b[33m⡇\u001b[39m\u001b[0m⠀\u001b[37m⢸\u001b[39m\u001b[0m⠀\u001b[0m⠀\u001b[36m⡇\u001b[39m\u001b[0m⠀\u001b[37m⢸\u001b[39m\u001b[0m⠀\u001b[0m⠀\u001b[33m⡇\u001b[39m\u001b[0m⠀\u001b[37m⢸\u001b[39m\u001b[0m⠀\u001b[0m⠀\u001b[36m⡇\u001b[39m\u001b[0m⠀\u001b[37m⢸\u001b[39m\u001b[0m⠀\u001b[0m⠀\u001b[35m⡇\u001b[39m\u001b[0m⠀\u001b[36m⢸\u001b[39m\u001b[0m⠀\u001b[0m⠀\u001b[32m⡇\u001b[39m\u001b[0m⠀\u001b[37m⢸\u001b[39m\u001b[0m⠀\u001b[0m⠀\u001b[35m⡇\u001b[39m\u001b[0m⠀\u001b[36m⢸\u001b[39m\u001b[0m⠀\u001b[0m⠀\u001b[32m⡇\u001b[39m\u001b[0m⠀\u001b[37m⢸\u001b[39m\u001b[0m⠀\u001b[0m⠀\u001b[35m⡇\u001b[39m\u001b[0m⠀\u001b[0m⠀\u001b[0m⠀\u001b[0m⠀\u001b[0m⠀\u001b[0m⠀\u001b[0m⠀\u001b[0m⠀\u001b[0m⠀\u001b[0m⠀\u001b[0m⠀\u001b[0m⠀\u001b[0m⠀\u001b[0m⠀\u001b[0m⠀\u001b[0m⠀\u001b[0m⠀\u001b[0m⠀\u001b[0m⠀\u001b[90m│\u001b[39m \n",
       "     \u001b[90m │\u001b[39m\u001b[0m⠀\u001b[0m⠀\u001b[0m⠀\u001b[0m⠀\u001b[0m⠀\u001b[0m⠀\u001b[0m⠀\u001b[0m⠀\u001b[0m⠀\u001b[0m⠀\u001b[0m⠀\u001b[0m⠀\u001b[0m⠀\u001b[0m⠀\u001b[0m⠀\u001b[0m⠀\u001b[0m⠀\u001b[0m⠀\u001b[0m⠀\u001b[0m⠀\u001b[33m⡏\u001b[39m\u001b[33m⠉\u001b[39m\u001b[37m⢹\u001b[39m\u001b[37m⠉\u001b[39m\u001b[37m⠉\u001b[39m\u001b[37m⡏\u001b[39m\u001b[37m⠉\u001b[39m\u001b[37m⢹\u001b[39m\u001b[31m⠉\u001b[39m\u001b[31m⠉\u001b[39m\u001b[33m⡏\u001b[39m\u001b[33m⠉\u001b[39m\u001b[37m⢹\u001b[39m\u001b[37m⠉\u001b[39m\u001b[37m⠉\u001b[39m\u001b[37m⡏\u001b[39m\u001b[37m⠉\u001b[39m\u001b[37m⢹\u001b[39m\u001b[31m⠉\u001b[39m\u001b[31m⠉\u001b[39m\u001b[35m⡏\u001b[39m\u001b[34m⠉\u001b[39m\u001b[37m⢹\u001b[39m\u001b[33m⠉\u001b[39m\u001b[33m⠉\u001b[39m\u001b[33m⡏\u001b[39m\u001b[33m⠉\u001b[39m\u001b[37m⢹\u001b[39m\u001b[37m⠉\u001b[39m\u001b[37m⠉\u001b[39m\u001b[37m⡏\u001b[39m\u001b[36m⠉\u001b[39m\u001b[37m⢹\u001b[39m\u001b[37m⠉\u001b[39m\u001b[37m⠉\u001b[39m\u001b[37m⡏\u001b[39m\u001b[37m⠉\u001b[39m\u001b[37m⢹\u001b[39m\u001b[35m⠉\u001b[39m\u001b[35m⠉\u001b[39m\u001b[35m⡇\u001b[39m\u001b[0m⠀\u001b[0m⠀\u001b[0m⠀\u001b[0m⠀\u001b[0m⠀\u001b[0m⠀\u001b[0m⠀\u001b[0m⠀\u001b[0m⠀\u001b[0m⠀\u001b[0m⠀\u001b[0m⠀\u001b[0m⠀\u001b[0m⠀\u001b[0m⠀\u001b[0m⠀\u001b[0m⠀\u001b[0m⠀\u001b[0m⠀\u001b[90m│\u001b[39m \n",
       "     \u001b[90m │\u001b[39m\u001b[0m⠀\u001b[0m⠀\u001b[0m⠀\u001b[0m⠀\u001b[0m⠀\u001b[0m⠀\u001b[0m⠀\u001b[0m⠀\u001b[0m⠀\u001b[0m⠀\u001b[0m⠀\u001b[0m⠀\u001b[0m⠀\u001b[0m⠀\u001b[0m⠀\u001b[0m⠀\u001b[0m⠀\u001b[0m⠀\u001b[0m⠀\u001b[0m⠀\u001b[36m⡗\u001b[39m\u001b[36m⠒\u001b[39m\u001b[37m⢺\u001b[39m\u001b[35m⠒\u001b[39m\u001b[35m⠒\u001b[39m\u001b[37m⡗\u001b[39m\u001b[37m⠒\u001b[39m\u001b[37m⢺\u001b[39m\u001b[37m⠒\u001b[39m\u001b[37m⠒\u001b[39m\u001b[37m⡗\u001b[39m\u001b[36m⠒\u001b[39m\u001b[37m⢺\u001b[39m\u001b[35m⠒\u001b[39m\u001b[35m⠒\u001b[39m\u001b[37m⡗\u001b[39m\u001b[37m⠒\u001b[39m\u001b[37m⢺\u001b[39m\u001b[37m⠒\u001b[39m\u001b[37m⠒\u001b[39m\u001b[37m⡗\u001b[39m\u001b[36m⠒\u001b[39m\u001b[37m⢺\u001b[39m\u001b[37m⠒\u001b[39m\u001b[37m⠒\u001b[39m\u001b[37m⡗\u001b[39m\u001b[37m⠒\u001b[39m\u001b[37m⢺\u001b[39m\u001b[37m⠒\u001b[39m\u001b[37m⠒\u001b[39m\u001b[37m⡗\u001b[39m\u001b[36m⠒\u001b[39m\u001b[37m⢺\u001b[39m\u001b[35m⠒\u001b[39m\u001b[35m⠒\u001b[39m\u001b[37m⡗\u001b[39m\u001b[37m⠒\u001b[39m\u001b[37m⢺\u001b[39m\u001b[37m⠒\u001b[39m\u001b[37m⠒\u001b[39m\u001b[37m⡇\u001b[39m\u001b[0m⠀\u001b[0m⠀\u001b[0m⠀\u001b[0m⠀\u001b[0m⠀\u001b[0m⠀\u001b[0m⠀\u001b[0m⠀\u001b[0m⠀\u001b[0m⠀\u001b[0m⠀\u001b[0m⠀\u001b[0m⠀\u001b[0m⠀\u001b[0m⠀\u001b[0m⠀\u001b[0m⠀\u001b[0m⠀\u001b[0m⠀\u001b[90m│\u001b[39m \n",
       "     \u001b[90m │\u001b[39m\u001b[0m⠀\u001b[0m⠀\u001b[0m⠀\u001b[0m⠀\u001b[0m⠀\u001b[0m⠀\u001b[0m⠀\u001b[0m⠀\u001b[0m⠀\u001b[0m⠀\u001b[0m⠀\u001b[0m⠀\u001b[0m⠀\u001b[0m⠀\u001b[0m⠀\u001b[0m⠀\u001b[0m⠀\u001b[0m⠀\u001b[0m⠀\u001b[0m⠀\u001b[35m⡧\u001b[39m\u001b[35m⠤\u001b[39m\u001b[35m⢼\u001b[39m\u001b[31m⠤\u001b[39m\u001b[31m⠤\u001b[39m\u001b[33m⡧\u001b[39m\u001b[33m⠤\u001b[39m\u001b[37m⢼\u001b[39m\u001b[36m⠤\u001b[39m\u001b[36m⠤\u001b[39m\u001b[36m⡧\u001b[39m\u001b[34m⠤\u001b[39m\u001b[37m⢼\u001b[39m\u001b[33m⠤\u001b[39m\u001b[33m⠤\u001b[39m\u001b[33m⡧\u001b[39m\u001b[33m⠤\u001b[39m\u001b[37m⢼\u001b[39m\u001b[36m⠤\u001b[39m\u001b[36m⠤\u001b[39m\u001b[37m⡧\u001b[39m\u001b[33m⠤\u001b[39m\u001b[37m⢼\u001b[39m\u001b[36m⠤\u001b[39m\u001b[36m⠤\u001b[39m\u001b[37m⡧\u001b[39m\u001b[35m⠤\u001b[39m\u001b[35m⢼\u001b[39m\u001b[31m⠤\u001b[39m\u001b[31m⠤\u001b[39m\u001b[35m⡧\u001b[39m\u001b[34m⠤\u001b[39m\u001b[35m⢼\u001b[39m\u001b[31m⠤\u001b[39m\u001b[31m⠤\u001b[39m\u001b[33m⡧\u001b[39m\u001b[33m⠤\u001b[39m\u001b[37m⢼\u001b[39m\u001b[36m⠤\u001b[39m\u001b[36m⠤\u001b[39m\u001b[36m⡇\u001b[39m\u001b[0m⠀\u001b[0m⠀\u001b[0m⠀\u001b[0m⠀\u001b[0m⠀\u001b[0m⠀\u001b[0m⠀\u001b[0m⠀\u001b[0m⠀\u001b[0m⠀\u001b[0m⠀\u001b[0m⠀\u001b[0m⠀\u001b[0m⠀\u001b[0m⠀\u001b[0m⠀\u001b[0m⠀\u001b[0m⠀\u001b[0m⠀\u001b[90m│\u001b[39m \n",
       "     \u001b[90m │\u001b[39m\u001b[0m⠀\u001b[0m⠀\u001b[0m⠀\u001b[0m⠀\u001b[0m⠀\u001b[0m⠀\u001b[0m⠀\u001b[0m⠀\u001b[0m⠀\u001b[0m⠀\u001b[0m⠀\u001b[0m⠀\u001b[0m⠀\u001b[0m⠀\u001b[0m⠀\u001b[0m⠀\u001b[0m⠀\u001b[0m⠀\u001b[0m⠀\u001b[0m⠀\u001b[37m⣇\u001b[39m\u001b[37m⣀\u001b[39m\u001b[37m⣸\u001b[39m\u001b[35m⣀\u001b[39m\u001b[35m⣀\u001b[39m\u001b[37m⣇\u001b[39m\u001b[36m⣀\u001b[39m\u001b[37m⣸\u001b[39m\u001b[37m⣀\u001b[39m\u001b[37m⣀\u001b[39m\u001b[37m⣇\u001b[39m\u001b[37m⣀\u001b[39m\u001b[37m⣸\u001b[39m\u001b[36m⣀\u001b[39m\u001b[36m⣀\u001b[39m\u001b[36m⣇\u001b[39m\u001b[36m⣀\u001b[39m\u001b[37m⣸\u001b[39m\u001b[37m⣀\u001b[39m\u001b[37m⣀\u001b[39m\u001b[37m⣇\u001b[39m\u001b[37m⣀\u001b[39m\u001b[37m⣸\u001b[39m\u001b[36m⣀\u001b[39m\u001b[36m⣀\u001b[39m\u001b[36m⣇\u001b[39m\u001b[36m⣀\u001b[39m\u001b[37m⣸\u001b[39m\u001b[35m⣀\u001b[39m\u001b[35m⣀\u001b[39m\u001b[37m⣇\u001b[39m\u001b[36m⣀\u001b[39m\u001b[37m⣸\u001b[39m\u001b[35m⣀\u001b[39m\u001b[35m⣀\u001b[39m\u001b[37m⣇\u001b[39m\u001b[36m⣀\u001b[39m\u001b[37m⣸\u001b[39m\u001b[37m⣀\u001b[39m\u001b[37m⣀\u001b[39m\u001b[37m⡇\u001b[39m\u001b[0m⠀\u001b[0m⠀\u001b[0m⠀\u001b[0m⠀\u001b[0m⠀\u001b[0m⠀\u001b[0m⠀\u001b[0m⠀\u001b[0m⠀\u001b[0m⠀\u001b[0m⠀\u001b[0m⠀\u001b[0m⠀\u001b[0m⠀\u001b[0m⠀\u001b[0m⠀\u001b[0m⠀\u001b[0m⠀\u001b[0m⠀\u001b[90m│\u001b[39m \n",
       "     \u001b[90m │\u001b[39m\u001b[0m⠀\u001b[0m⠀\u001b[0m⠀\u001b[0m⠀\u001b[0m⠀\u001b[0m⠀\u001b[0m⠀\u001b[0m⠀\u001b[0m⠀\u001b[0m⠀\u001b[0m⠀\u001b[0m⠀\u001b[0m⠀\u001b[0m⠀\u001b[0m⠀\u001b[0m⠀\u001b[0m⠀\u001b[0m⠀\u001b[0m⠀\u001b[0m⠀\u001b[32m⡇\u001b[39m\u001b[0m⠀\u001b[36m⢸\u001b[39m\u001b[0m⠀\u001b[0m⠀\u001b[34m⡇\u001b[39m\u001b[0m⠀\u001b[37m⢸\u001b[39m\u001b[0m⠀\u001b[0m⠀\u001b[33m⡇\u001b[39m\u001b[0m⠀\u001b[37m⢸\u001b[39m\u001b[0m⠀\u001b[0m⠀\u001b[36m⡇\u001b[39m\u001b[0m⠀\u001b[37m⢸\u001b[39m\u001b[0m⠀\u001b[0m⠀\u001b[37m⡇\u001b[39m\u001b[0m⠀\u001b[36m⢸\u001b[39m\u001b[0m⠀\u001b[0m⠀\u001b[32m⡇\u001b[39m\u001b[0m⠀\u001b[37m⢸\u001b[39m\u001b[0m⠀\u001b[0m⠀\u001b[37m⡇\u001b[39m\u001b[0m⠀\u001b[37m⢸\u001b[39m\u001b[0m⠀\u001b[0m⠀\u001b[35m⡇\u001b[39m\u001b[0m⠀\u001b[37m⢸\u001b[39m\u001b[0m⠀\u001b[0m⠀\u001b[33m⡇\u001b[39m\u001b[0m⠀\u001b[0m⠀\u001b[0m⠀\u001b[0m⠀\u001b[0m⠀\u001b[0m⠀\u001b[0m⠀\u001b[0m⠀\u001b[0m⠀\u001b[0m⠀\u001b[0m⠀\u001b[0m⠀\u001b[0m⠀\u001b[0m⠀\u001b[0m⠀\u001b[0m⠀\u001b[0m⠀\u001b[0m⠀\u001b[0m⠀\u001b[90m│\u001b[39m \n",
       "     \u001b[90m │\u001b[39m\u001b[0m⠀\u001b[0m⠀\u001b[0m⠀\u001b[0m⠀\u001b[0m⠀\u001b[0m⠀\u001b[0m⠀\u001b[0m⠀\u001b[0m⠀\u001b[0m⠀\u001b[0m⠀\u001b[0m⠀\u001b[0m⠀\u001b[0m⠀\u001b[0m⠀\u001b[0m⠀\u001b[0m⠀\u001b[0m⠀\u001b[0m⠀\u001b[0m⠀\u001b[32m⠉\u001b[39m\u001b[32m⠉\u001b[39m\u001b[36m⠉\u001b[39m\u001b[34m⠉\u001b[39m\u001b[34m⠉\u001b[39m\u001b[34m⠉\u001b[39m\u001b[34m⠉\u001b[39m\u001b[37m⠉\u001b[39m\u001b[33m⠉\u001b[39m\u001b[33m⠉\u001b[39m\u001b[33m⠉\u001b[39m\u001b[33m⠉\u001b[39m\u001b[37m⠉\u001b[39m\u001b[36m⠉\u001b[39m\u001b[36m⠉\u001b[39m\u001b[36m⠉\u001b[39m\u001b[34m⠉\u001b[39m\u001b[37m⠉\u001b[39m\u001b[33m⠉\u001b[39m\u001b[33m⠉\u001b[39m\u001b[37m⠉\u001b[39m\u001b[34m⠉\u001b[39m\u001b[36m⠉\u001b[39m\u001b[32m⠉\u001b[39m\u001b[32m⠉\u001b[39m\u001b[32m⠉\u001b[39m\u001b[32m⠉\u001b[39m\u001b[37m⠉\u001b[39m\u001b[35m⠉\u001b[39m\u001b[35m⠉\u001b[39m\u001b[37m⠉\u001b[39m\u001b[32m⠉\u001b[39m\u001b[37m⠉\u001b[39m\u001b[35m⠉\u001b[39m\u001b[35m⠉\u001b[39m\u001b[35m⠉\u001b[39m\u001b[34m⠉\u001b[39m\u001b[37m⠉\u001b[39m\u001b[33m⠉\u001b[39m\u001b[33m⠉\u001b[39m\u001b[33m⠁\u001b[39m\u001b[0m⠀\u001b[0m⠀\u001b[0m⠀\u001b[0m⠀\u001b[0m⠀\u001b[0m⠀\u001b[0m⠀\u001b[0m⠀\u001b[0m⠀\u001b[0m⠀\u001b[0m⠀\u001b[0m⠀\u001b[0m⠀\u001b[0m⠀\u001b[0m⠀\u001b[0m⠀\u001b[0m⠀\u001b[0m⠀\u001b[0m⠀\u001b[90m│\u001b[39m \n",
       "     \u001b[90m │\u001b[39m\u001b[0m⠀\u001b[0m⠀\u001b[0m⠀\u001b[0m⠀\u001b[0m⠀\u001b[0m⠀\u001b[0m⠀\u001b[0m⠀\u001b[0m⠀\u001b[0m⠀\u001b[0m⠀\u001b[0m⠀\u001b[0m⠀\u001b[0m⠀\u001b[0m⠀\u001b[0m⠀\u001b[0m⠀\u001b[0m⠀\u001b[0m⠀\u001b[0m⠀\u001b[0m⠀\u001b[0m⠀\u001b[0m⠀\u001b[0m⠀\u001b[0m⠀\u001b[0m⠀\u001b[0m⠀\u001b[0m⠀\u001b[0m⠀\u001b[0m⠀\u001b[0m⠀\u001b[0m⠀\u001b[0m⠀\u001b[0m⠀\u001b[0m⠀\u001b[0m⠀\u001b[0m⠀\u001b[0m⠀\u001b[0m⠀\u001b[0m⠀\u001b[0m⠀\u001b[0m⠀\u001b[0m⠀\u001b[0m⠀\u001b[0m⠀\u001b[0m⠀\u001b[0m⠀\u001b[0m⠀\u001b[0m⠀\u001b[0m⠀\u001b[0m⠀\u001b[0m⠀\u001b[0m⠀\u001b[0m⠀\u001b[0m⠀\u001b[0m⠀\u001b[0m⠀\u001b[0m⠀\u001b[0m⠀\u001b[0m⠀\u001b[0m⠀\u001b[0m⠀\u001b[0m⠀\u001b[0m⠀\u001b[0m⠀\u001b[0m⠀\u001b[0m⠀\u001b[0m⠀\u001b[0m⠀\u001b[0m⠀\u001b[0m⠀\u001b[0m⠀\u001b[0m⠀\u001b[0m⠀\u001b[0m⠀\u001b[0m⠀\u001b[0m⠀\u001b[0m⠀\u001b[0m⠀\u001b[0m⠀\u001b[90m│\u001b[39m \n",
       "     \u001b[90m │\u001b[39m\u001b[0m⠀\u001b[0m⠀\u001b[0m⠀\u001b[0m⠀\u001b[0m⠀\u001b[0m⠀\u001b[0m⠀\u001b[0m⠀\u001b[0m⠀\u001b[0m⠀\u001b[0m⠀\u001b[0m⠀\u001b[0m⠀\u001b[0m⠀\u001b[0m⠀\u001b[0m⠀\u001b[0m⠀\u001b[0m⠀\u001b[0m⠀\u001b[0m⠀\u001b[0m⠀\u001b[0m⠀\u001b[0m⠀\u001b[0m⠀\u001b[0m⠀\u001b[0m⠀\u001b[0m⠀\u001b[0m⠀\u001b[0m⠀\u001b[0m⠀\u001b[0m⠀\u001b[0m⠀\u001b[0m⠀\u001b[0m⠀\u001b[0m⠀\u001b[0m⠀\u001b[0m⠀\u001b[0m⠀\u001b[0m⠀\u001b[0m⠀\u001b[0m⠀\u001b[0m⠀\u001b[0m⠀\u001b[0m⠀\u001b[0m⠀\u001b[0m⠀\u001b[0m⠀\u001b[0m⠀\u001b[0m⠀\u001b[0m⠀\u001b[0m⠀\u001b[0m⠀\u001b[0m⠀\u001b[0m⠀\u001b[0m⠀\u001b[0m⠀\u001b[0m⠀\u001b[0m⠀\u001b[0m⠀\u001b[0m⠀\u001b[0m⠀\u001b[0m⠀\u001b[0m⠀\u001b[0m⠀\u001b[0m⠀\u001b[0m⠀\u001b[0m⠀\u001b[0m⠀\u001b[0m⠀\u001b[0m⠀\u001b[0m⠀\u001b[0m⠀\u001b[0m⠀\u001b[0m⠀\u001b[0m⠀\u001b[0m⠀\u001b[0m⠀\u001b[0m⠀\u001b[0m⠀\u001b[0m⠀\u001b[90m│\u001b[39m \n",
       "     \u001b[90m │\u001b[39m\u001b[0m⠀\u001b[0m⠀\u001b[0m⠀\u001b[0m⠀\u001b[0m⠀\u001b[0m⠀\u001b[0m⠀\u001b[0m⠀\u001b[0m⠀\u001b[0m⠀\u001b[0m⠀\u001b[0m⠀\u001b[0m⠀\u001b[0m⠀\u001b[0m⠀\u001b[0m⠀\u001b[0m⠀\u001b[0m⠀\u001b[0m⠀\u001b[0m⠀\u001b[0m⠀\u001b[0m⠀\u001b[0m⠀\u001b[0m⠀\u001b[0m⠀\u001b[0m⠀\u001b[0m⠀\u001b[0m⠀\u001b[0m⠀\u001b[0m⠀\u001b[0m⠀\u001b[0m⠀\u001b[0m⠀\u001b[0m⠀\u001b[0m⠀\u001b[0m⠀\u001b[0m⠀\u001b[0m⠀\u001b[0m⠀\u001b[0m⠀\u001b[0m⠀\u001b[0m⠀\u001b[0m⠀\u001b[0m⠀\u001b[0m⠀\u001b[0m⠀\u001b[0m⠀\u001b[0m⠀\u001b[0m⠀\u001b[0m⠀\u001b[0m⠀\u001b[0m⠀\u001b[0m⠀\u001b[0m⠀\u001b[0m⠀\u001b[0m⠀\u001b[0m⠀\u001b[0m⠀\u001b[0m⠀\u001b[0m⠀\u001b[0m⠀\u001b[0m⠀\u001b[0m⠀\u001b[0m⠀\u001b[0m⠀\u001b[0m⠀\u001b[0m⠀\u001b[0m⠀\u001b[0m⠀\u001b[0m⠀\u001b[0m⠀\u001b[0m⠀\u001b[0m⠀\u001b[0m⠀\u001b[0m⠀\u001b[0m⠀\u001b[0m⠀\u001b[0m⠀\u001b[0m⠀\u001b[0m⠀\u001b[90m│\u001b[39m \n",
       "     \u001b[90m │\u001b[39m\u001b[0m⠀\u001b[0m⠀\u001b[0m⠀\u001b[0m⠀\u001b[0m⠀\u001b[0m⠀\u001b[0m⠀\u001b[0m⠀\u001b[0m⠀\u001b[0m⠀\u001b[0m⠀\u001b[0m⠀\u001b[0m⠀\u001b[0m⠀\u001b[0m⠀\u001b[0m⠀\u001b[0m⠀\u001b[0m⠀\u001b[0m⠀\u001b[0m⠀\u001b[0m⠀\u001b[0m⠀\u001b[0m⠀\u001b[0m⠀\u001b[0m⠀\u001b[0m⠀\u001b[0m⠀\u001b[0m⠀\u001b[0m⠀\u001b[0m⠀\u001b[0m⠀\u001b[0m⠀\u001b[0m⠀\u001b[0m⠀\u001b[0m⠀\u001b[0m⠀\u001b[0m⠀\u001b[0m⠀\u001b[0m⠀\u001b[0m⠀\u001b[0m⠀\u001b[0m⠀\u001b[0m⠀\u001b[0m⠀\u001b[0m⠀\u001b[0m⠀\u001b[0m⠀\u001b[0m⠀\u001b[0m⠀\u001b[0m⠀\u001b[0m⠀\u001b[0m⠀\u001b[0m⠀\u001b[0m⠀\u001b[0m⠀\u001b[0m⠀\u001b[0m⠀\u001b[0m⠀\u001b[0m⠀\u001b[0m⠀\u001b[0m⠀\u001b[0m⠀\u001b[0m⠀\u001b[0m⠀\u001b[0m⠀\u001b[0m⠀\u001b[0m⠀\u001b[0m⠀\u001b[0m⠀\u001b[0m⠀\u001b[0m⠀\u001b[0m⠀\u001b[0m⠀\u001b[0m⠀\u001b[0m⠀\u001b[0m⠀\u001b[0m⠀\u001b[0m⠀\u001b[0m⠀\u001b[0m⠀\u001b[90m│\u001b[39m \n",
       "     \u001b[90m │\u001b[39m\u001b[0m⠀\u001b[0m⠀\u001b[0m⠀\u001b[0m⠀\u001b[0m⠀\u001b[0m⠀\u001b[0m⠀\u001b[0m⠀\u001b[0m⠀\u001b[0m⠀\u001b[0m⠀\u001b[0m⠀\u001b[0m⠀\u001b[0m⠀\u001b[0m⠀\u001b[0m⠀\u001b[0m⠀\u001b[0m⠀\u001b[0m⠀\u001b[0m⠀\u001b[0m⠀\u001b[0m⠀\u001b[0m⠀\u001b[0m⠀\u001b[0m⠀\u001b[0m⠀\u001b[0m⠀\u001b[0m⠀\u001b[0m⠀\u001b[0m⠀\u001b[0m⠀\u001b[0m⠀\u001b[0m⠀\u001b[0m⠀\u001b[0m⠀\u001b[0m⠀\u001b[0m⠀\u001b[0m⠀\u001b[0m⠀\u001b[0m⠀\u001b[0m⠀\u001b[0m⠀\u001b[0m⠀\u001b[0m⠀\u001b[0m⠀\u001b[0m⠀\u001b[0m⠀\u001b[0m⠀\u001b[0m⠀\u001b[0m⠀\u001b[0m⠀\u001b[0m⠀\u001b[0m⠀\u001b[0m⠀\u001b[0m⠀\u001b[0m⠀\u001b[0m⠀\u001b[0m⠀\u001b[0m⠀\u001b[0m⠀\u001b[0m⠀\u001b[0m⠀\u001b[0m⠀\u001b[0m⠀\u001b[0m⠀\u001b[0m⠀\u001b[0m⠀\u001b[0m⠀\u001b[0m⠀\u001b[0m⠀\u001b[0m⠀\u001b[0m⠀\u001b[0m⠀\u001b[0m⠀\u001b[0m⠀\u001b[0m⠀\u001b[0m⠀\u001b[0m⠀\u001b[0m⠀\u001b[0m⠀\u001b[90m│\u001b[39m \n",
       "     \u001b[90m │\u001b[39m\u001b[0m⠀\u001b[0m⠀\u001b[0m⠀\u001b[0m⠀\u001b[0m⠀\u001b[0m⠀\u001b[0m⠀\u001b[0m⠀\u001b[0m⠀\u001b[0m⠀\u001b[0m⠀\u001b[0m⠀\u001b[0m⠀\u001b[0m⠀\u001b[0m⠀\u001b[0m⠀\u001b[0m⠀\u001b[0m⠀\u001b[0m⠀\u001b[0m⠀\u001b[0m⠀\u001b[0m⠀\u001b[0m⠀\u001b[0m⠀\u001b[0m⠀\u001b[0m⠀\u001b[0m⠀\u001b[0m⠀\u001b[0m⠀\u001b[0m⠀\u001b[0m⠀\u001b[0m⠀\u001b[0m⠀\u001b[0m⠀\u001b[0m⠀\u001b[0m⠀\u001b[0m⠀\u001b[0m⠀\u001b[0m⠀\u001b[0m⠀\u001b[0m⠀\u001b[0m⠀\u001b[0m⠀\u001b[0m⠀\u001b[0m⠀\u001b[0m⠀\u001b[0m⠀\u001b[0m⠀\u001b[0m⠀\u001b[0m⠀\u001b[0m⠀\u001b[0m⠀\u001b[0m⠀\u001b[0m⠀\u001b[0m⠀\u001b[0m⠀\u001b[0m⠀\u001b[0m⠀\u001b[0m⠀\u001b[0m⠀\u001b[0m⠀\u001b[0m⠀\u001b[0m⠀\u001b[0m⠀\u001b[0m⠀\u001b[0m⠀\u001b[0m⠀\u001b[0m⠀\u001b[0m⠀\u001b[0m⠀\u001b[0m⠀\u001b[0m⠀\u001b[0m⠀\u001b[0m⠀\u001b[0m⠀\u001b[0m⠀\u001b[0m⠀\u001b[0m⠀\u001b[0m⠀\u001b[0m⠀\u001b[90m│\u001b[39m \n",
       "     \u001b[90m │\u001b[39m\u001b[0m⠀\u001b[0m⠀\u001b[0m⠀\u001b[0m⠀\u001b[0m⠀\u001b[0m⠀\u001b[0m⠀\u001b[0m⠀\u001b[0m⠀\u001b[0m⠀\u001b[0m⠀\u001b[0m⠀\u001b[0m⠀\u001b[0m⠀\u001b[0m⠀\u001b[0m⠀\u001b[0m⠀\u001b[0m⠀\u001b[0m⠀\u001b[0m⠀\u001b[0m⠀\u001b[0m⠀\u001b[0m⠀\u001b[0m⠀\u001b[0m⠀\u001b[0m⠀\u001b[0m⠀\u001b[0m⠀\u001b[0m⠀\u001b[0m⠀\u001b[0m⠀\u001b[0m⠀\u001b[0m⠀\u001b[0m⠀\u001b[0m⠀\u001b[0m⠀\u001b[0m⠀\u001b[0m⠀\u001b[0m⠀\u001b[0m⠀\u001b[0m⠀\u001b[0m⠀\u001b[0m⠀\u001b[0m⠀\u001b[0m⠀\u001b[0m⠀\u001b[0m⠀\u001b[0m⠀\u001b[0m⠀\u001b[0m⠀\u001b[0m⠀\u001b[0m⠀\u001b[0m⠀\u001b[0m⠀\u001b[0m⠀\u001b[0m⠀\u001b[0m⠀\u001b[0m⠀\u001b[0m⠀\u001b[0m⠀\u001b[0m⠀\u001b[0m⠀\u001b[0m⠀\u001b[0m⠀\u001b[0m⠀\u001b[0m⠀\u001b[0m⠀\u001b[0m⠀\u001b[0m⠀\u001b[0m⠀\u001b[0m⠀\u001b[0m⠀\u001b[0m⠀\u001b[0m⠀\u001b[0m⠀\u001b[0m⠀\u001b[0m⠀\u001b[0m⠀\u001b[0m⠀\u001b[0m⠀\u001b[90m│\u001b[39m \n",
       "     \u001b[90m │\u001b[39m\u001b[0m⠀\u001b[0m⠀\u001b[0m⠀\u001b[0m⠀\u001b[0m⠀\u001b[0m⠀\u001b[0m⠀\u001b[0m⠀\u001b[0m⠀\u001b[0m⠀\u001b[0m⠀\u001b[0m⠀\u001b[0m⠀\u001b[0m⠀\u001b[0m⠀\u001b[0m⠀\u001b[0m⠀\u001b[0m⠀\u001b[0m⠀\u001b[0m⠀\u001b[0m⠀\u001b[0m⠀\u001b[0m⠀\u001b[0m⠀\u001b[0m⠀\u001b[0m⠀\u001b[0m⠀\u001b[0m⠀\u001b[0m⠀\u001b[0m⠀\u001b[0m⠀\u001b[0m⠀\u001b[0m⠀\u001b[0m⠀\u001b[0m⠀\u001b[0m⠀\u001b[0m⠀\u001b[0m⠀\u001b[0m⠀\u001b[0m⠀\u001b[0m⠀\u001b[0m⠀\u001b[0m⠀\u001b[0m⠀\u001b[0m⠀\u001b[0m⠀\u001b[0m⠀\u001b[0m⠀\u001b[0m⠀\u001b[0m⠀\u001b[0m⠀\u001b[0m⠀\u001b[0m⠀\u001b[0m⠀\u001b[0m⠀\u001b[0m⠀\u001b[0m⠀\u001b[0m⠀\u001b[0m⠀\u001b[0m⠀\u001b[0m⠀\u001b[0m⠀\u001b[0m⠀\u001b[0m⠀\u001b[0m⠀\u001b[0m⠀\u001b[0m⠀\u001b[0m⠀\u001b[0m⠀\u001b[0m⠀\u001b[0m⠀\u001b[0m⠀\u001b[0m⠀\u001b[0m⠀\u001b[0m⠀\u001b[0m⠀\u001b[0m⠀\u001b[0m⠀\u001b[0m⠀\u001b[0m⠀\u001b[90m│\u001b[39m \n",
       "   \u001b[90m-1\u001b[39m\u001b[90m │\u001b[39m\u001b[0m⠀\u001b[0m⠀\u001b[0m⠀\u001b[0m⠀\u001b[0m⠀\u001b[0m⠀\u001b[0m⠀\u001b[0m⠀\u001b[0m⠀\u001b[0m⠀\u001b[0m⠀\u001b[0m⠀\u001b[0m⠀\u001b[0m⠀\u001b[0m⠀\u001b[0m⠀\u001b[0m⠀\u001b[0m⠀\u001b[0m⠀\u001b[0m⠀\u001b[0m⠀\u001b[0m⠀\u001b[0m⠀\u001b[0m⠀\u001b[0m⠀\u001b[0m⠀\u001b[0m⠀\u001b[0m⠀\u001b[0m⠀\u001b[0m⠀\u001b[0m⠀\u001b[0m⠀\u001b[0m⠀\u001b[0m⠀\u001b[0m⠀\u001b[0m⠀\u001b[0m⠀\u001b[0m⠀\u001b[0m⠀\u001b[0m⠀\u001b[0m⠀\u001b[0m⠀\u001b[0m⠀\u001b[0m⠀\u001b[0m⠀\u001b[0m⠀\u001b[0m⠀\u001b[0m⠀\u001b[0m⠀\u001b[0m⠀\u001b[0m⠀\u001b[0m⠀\u001b[0m⠀\u001b[0m⠀\u001b[0m⠀\u001b[0m⠀\u001b[0m⠀\u001b[0m⠀\u001b[0m⠀\u001b[0m⠀\u001b[0m⠀\u001b[0m⠀\u001b[0m⠀\u001b[0m⠀\u001b[0m⠀\u001b[0m⠀\u001b[0m⠀\u001b[0m⠀\u001b[0m⠀\u001b[0m⠀\u001b[0m⠀\u001b[0m⠀\u001b[0m⠀\u001b[0m⠀\u001b[0m⠀\u001b[0m⠀\u001b[0m⠀\u001b[0m⠀\u001b[0m⠀\u001b[0m⠀\u001b[90m│\u001b[39m \n",
       "\u001b[90m      └────────────────────────────────────────────────────────────────────────────────┘\u001b[39m \n",
       "\u001b[90m      -1\u001b[39m\u001b[90m                                      \u001b[39m\u001b[90m                                         1\u001b[39m"
      ]
     },
     "metadata": {},
     "output_type": "display_data"
    }
   ],
   "source": [
    "plot_connectivity(verts, EToV)"
   ]
  },
  {
   "cell_type": "markdown",
   "metadata": {},
   "source": [
    "## Setting base mesh sizes in each direction"
   ]
  },
  {
   "cell_type": "code",
   "execution_count": 263,
   "metadata": {},
   "outputs": [
    {
     "data": {
      "text/plain": [
       "16"
      ]
     },
     "execution_count": 263,
     "metadata": {},
     "output_type": "execute_result"
    }
   ],
   "source": [
    "N1 = N0 = 16"
   ]
  },
  {
   "cell_type": "code",
   "execution_count": 264,
   "metadata": {},
   "outputs": [
    {
     "name": "stdout",
     "output_type": "stream",
     "text": [
      "EToN0 = [16 16 16 16 16 16 16 16 16 16 16 16 16 16 16 16 16 16 16 16 16 16 16 16 16 16 16 16 16 16 16 16 16 16 16 16 16 16 16 16 16 16 16 16 16 16 16 16 16 16 16 16 16 16 16 16 16 16 16 16 16 16 16 16 16 16 16 16 16 16 16 16 16 16 16 16 16 16 16 16 16 16 16 16 16 16 16 16 16 16 16 16 16 16 16 16 16 16 16 16 16 16 16 16 16 16 16 16 16 16 16 16 16 16 16 16 16 16 16 16 16 16 16 16 16 16 16 16 16 16 16 16 16 16 16 16 16 16 16 16 16 16 16 16 16 16 16 16 16 16 16 16 16 16 16 16 16 16 16 16 16 16 16 16 16 16 16 16 16 16 16 16 16 16 16 16 16 16 16 16 16 16 16 16 16 16 16 16 16 16 16 16 16 16 16 16 16 16 16 16 16 16 16 16 16 16 16 16 16 16 16 16 16 16 16 16 16 16 16 16 16 16 16 16 16 16 16 16 16 16 16 16 16 16 16 16 16 16 16 16 16 16 16 16 16 16 16 16 16 16 16 16 16 16 16 16; 0 0 0 0 0 0 0 0 0 0 0 0 0 0 0 0 0 0 0 0 0 0 0 0 0 0 0 0 0 0 0 0 0 0 0 0 0 0 0 0 0 0 0 0 0 0 0 0 0 0 0 0 0 0 0 0 0 0 0 0 0 0 0 0 0 0 0 0 0 0 0 0 0 0 0 0 0 0 0 0 0 0 0 0 0 0 0 0 0 0 0 0 0 0 0 0 0 0 0 0 0 0 0 0 0 0 0 0 0 0 0 0 0 0 0 0 0 0 0 0 0 0 0 0 0 0 0 0 0 0 0 0 0 0 0 0 0 0 0 0 0 0 0 0 0 0 0 0 0 0 0 0 0 0 0 0 0 0 0 0 0 0 0 0 0 0 0 0 0 0 0 0 0 0 0 0 0 0 0 0 0 0 0 0 0 0 0 0 0 0 0 0 0 0 0 0 0 0 0 0 0 0 0 0 0 0 0 0 0 0 0 0 0 0 0 0 0 0 0 0 0 0 0 0 0 0 0 0 0 0 0 0 0 0 0 0 0 0 0 0 0 0 0 0 0 0 0 0 0 0 0 0 0 0 0 0]\n",
      "EToN0 = [16 16 16 16 16 16 16 16 16 16 16 16 16 16 16 16 16 16 16 16 16 16 16 16 16 16 16 16 16 16 16 16 16 16 16 16 16 16 16 16 16 16 16 16 16 16 16 16 16 16 16 16 16 16 16 16 16 16 16 16 16 16 16 16 16 16 16 16 16 16 16 16 16 16 16 16 16 16 16 16 16 16 16 16 16 16 16 16 16 16 16 16 16 16 16 16 16 16 16 16 16 16 16 16 16 16 16 16 16 16 16 16 16 16 16 16 16 16 16 16 16 16 16 16 16 16 16 16 16 16 16 16 16 16 16 16 16 16 16 16 16 16 16 16 16 16 16 16 16 16 16 16 16 16 16 16 16 16 16 16 16 16 16 16 16 16 16 16 16 16 16 16 16 16 16 16 16 16 16 16 16 16 16 16 16 16 16 16 16 16 16 16 16 16 16 16 16 16 16 16 16 16 16 16 16 16 16 16 16 16 16 16 16 16 16 16 16 16 16 16 16 16 16 16 16 16 16 16 16 16 16 16 16 16 16 16 16 16 16 16 16 16 16 16 16 16 16 16 16 16 16 16 16 16 16 16; 16 16 16 16 16 16 16 16 16 16 16 16 16 16 16 16 16 16 16 16 16 16 16 16 16 16 16 16 16 16 16 16 16 16 16 16 16 16 16 16 16 16 16 16 16 16 16 16 16 16 16 16 16 16 16 16 16 16 16 16 16 16 16 16 16 16 16 16 16 16 16 16 16 16 16 16 16 16 16 16 16 16 16 16 16 16 16 16 16 16 16 16 16 16 16 16 16 16 16 16 16 16 16 16 16 16 16 16 16 16 16 16 16 16 16 16 16 16 16 16 16 16 16 16 16 16 16 16 16 16 16 16 16 16 16 16 16 16 16 16 16 16 16 16 16 16 16 16 16 16 16 16 16 16 16 16 16 16 16 16 16 16 16 16 16 16 16 16 16 16 16 16 16 16 16 16 16 16 16 16 16 16 16 16 16 16 16 16 16 16 16 16 16 16 16 16 16 16 16 16 16 16 16 16 16 16 16 16 16 16 16 16 16 16 16 16 16 16 16 16 16 16 16 16 16 16 16 16 16 16 16 16 16 16 16 16 16 16 16 16 16 16 16 16 16 16 16 16 16 16 16 16 16 16 16 16]\n"
     ]
    },
    {
     "data": {
      "text/plain": [
       "2×256 Array{Int64,2}:\n",
       " 16  16  16  16  16  16  16  16  16  …  16  16  16  16  16  16  16  16  16\n",
       " 16  16  16  16  16  16  16  16  16     16  16  16  16  16  16  16  16  16"
      ]
     },
     "execution_count": 264,
     "metadata": {},
     "output_type": "execute_result"
    }
   ],
   "source": [
    "EToN0 = zeros(Int64, 2, nelems)\n",
    "EToN0[1,:] .= N0;\n",
    "@show EToN0\n",
    "EToN0[2,:] .= N1;\n",
    "@show EToN0"
   ]
  },
  {
   "cell_type": "code",
   "execution_count": 318,
   "metadata": {},
   "outputs": [],
   "source": [
    "# Checking types and sizes \n",
    "@assert typeof(EToV) == Array{Int, 2} && size(EToV) == (4, nelems)\n",
    "@assert typeof(EToF) == Array{Int, 2} && size(EToF) == (4, nelems)\n",
    "@assert maximum(maximum(EToF)) == nfaces   # The maximum number of EToF element should equal the number of faces \n",
    "\n",
    "# Determine secondary arrays\n",
    "# FToE : Unique Global Face to Element Number\n",
    "#        (the i'th column of this stores the element numbers that share the\n",
    "#        global face number i)\n",
    "# FToLF: Unique Global Face to Element local face number\n",
    "#        (the i'th column of this stores the element local face numbers that\n",
    "#        shares the global face number i)\n",
    "# EToO : Element to Unique Global Faces Orientation\n",
    "#        (the i'th column of this stores the whether the element and global\n",
    "#        face are oriented in the same way in physical memory or need to be\n",
    "#        rotated)\n",
    "# EToS : Element to Unique Global Face Side\n",
    "#        (the i'th column of this stores whether an element is on the\n",
    "#        plus side or minus side of the global face)\n"
   ]
  },
  {
   "cell_type": "code",
   "execution_count": 319,
   "metadata": {},
   "outputs": [
    {
     "data": {
      "text/plain": [
       "([1 1 … 254 255; 28 4 … 255 256], [1 2 … 2 2; 3 4 … 4 4], Bool[1 1 … 1 1; 1 1 … 1 1; 1 1 … 1 1; 1 1 … 1 1], [1 1 … 2 2; 1 2 … 1 2; 1 1 … 2 2; 1 1 … 2 2])"
      ]
     },
     "execution_count": 319,
     "metadata": {},
     "output_type": "execute_result"
    }
   ],
   "source": [
    "# connectivity arrays\n",
    "(FToE, FToLF, EToO, EToS) = connectivityarrays(EToV, EToF)"
   ]
  },
  {
   "cell_type": "markdown",
   "metadata": {},
   "source": [
    "## Forming exact solutions"
   ]
  },
  {
   "cell_type": "code",
   "execution_count": 320,
   "metadata": {},
   "outputs": [
    {
     "name": "stdout",
     "output_type": "stream",
     "text": [
      "Lx = 0.5\n",
      "Ly = 0.5\n"
     ]
    },
    {
     "data": {
      "text/plain": [
       "0.5"
      ]
     },
     "execution_count": 320,
     "metadata": {},
     "output_type": "execute_result"
    }
   ],
   "source": [
    "Lx = maximum(verts[1,:])\n",
    "@show Lx\n",
    "Ly = maximum(abs.(verts[2,:]))\n",
    "@show Ly"
   ]
  },
  {
   "cell_type": "code",
   "execution_count": 321,
   "metadata": {},
   "outputs": [
    {
     "data": {
      "text/plain": [
       "(12.566370614359172, 25.132741228718345)"
      ]
     },
     "execution_count": 321,
     "metadata": {},
     "output_type": "execute_result"
    }
   ],
   "source": [
    "(kx, ky) = (2*π / Lx, 4*π / Ly)"
   ]
  },
  {
   "cell_type": "code",
   "execution_count": 322,
   "metadata": {},
   "outputs": [
    {
     "data": {
      "text/plain": [
       "vex (generic function with 1 method)"
      ]
     },
     "execution_count": 322,
     "metadata": {},
     "output_type": "execute_result"
    }
   ],
   "source": [
    "vex(x,y,e) = begin\n",
    "    if EToDomain[e] == 1\n",
    "        return cos.(kx * x) .* cosh.(ky * y)\n",
    "    elseif EToDomain[e] == 2\n",
    "        return 10 .+ cos.(kx * x) .* cosh.(ky * y)\n",
    "    else\n",
    "        error(\"invalid block\")\n",
    "    end\n",
    "end"
   ]
  },
  {
   "cell_type": "code",
   "execution_count": 323,
   "metadata": {},
   "outputs": [
    {
     "data": {
      "text/plain": [
       "vex_x (generic function with 1 method)"
      ]
     },
     "execution_count": 323,
     "metadata": {},
     "output_type": "execute_result"
    }
   ],
   "source": [
    "vex_x(x,y,e) = begin\n",
    "  if EToDomain[e] == 1\n",
    "    return -kx * sin.(kx * x) .* cosh.(ky * y)\n",
    "  elseif EToDomain[e] == 2\n",
    "    return -kx * sin.(kx * x) .* cosh.(ky * y)\n",
    "  else\n",
    "    error(\"invalid block\")\n",
    "  end\n",
    "end"
   ]
  },
  {
   "cell_type": "code",
   "execution_count": 324,
   "metadata": {},
   "outputs": [
    {
     "data": {
      "text/plain": [
       "vex_y (generic function with 1 method)"
      ]
     },
     "execution_count": 324,
     "metadata": {},
     "output_type": "execute_result"
    }
   ],
   "source": [
    "vex_y(x,y,e) = begin\n",
    "  if EToDomain[e] == 1\n",
    "    return ky * cos.(kx * x) .* sinh.(ky * y)\n",
    "  elseif EToDomain[e] == 2\n",
    "    return ky * cos.(kx * x) .* sinh.(ky * y)\n",
    "  else\n",
    "    error(\"invalid block\")\n",
    "  end\n",
    "end"
   ]
  },
  {
   "cell_type": "code",
   "execution_count": 325,
   "metadata": {},
   "outputs": [
    {
     "data": {
      "text/plain": [
       "vex_xx (generic function with 1 method)"
      ]
     },
     "execution_count": 325,
     "metadata": {},
     "output_type": "execute_result"
    }
   ],
   "source": [
    "vex_xx(x,y,e) = begin\n",
    "  if EToDomain[e] == 1\n",
    "    return -kx^2 * cos.(kx * x) .* cosh.(ky * y)\n",
    "  elseif EToDomain[e] == 2\n",
    "    return -kx^2 * cos.(kx * x) .* cosh.(ky * y)\n",
    "  else\n",
    "    error(\"invalid block\")\n",
    "  end\n",
    "end"
   ]
  },
  {
   "cell_type": "code",
   "execution_count": 326,
   "metadata": {},
   "outputs": [
    {
     "data": {
      "text/plain": [
       "vex_xy (generic function with 1 method)"
      ]
     },
     "execution_count": 326,
     "metadata": {},
     "output_type": "execute_result"
    }
   ],
   "source": [
    "vex_xy(x,y,e) = begin\n",
    "  if EToDomain[e] == 1\n",
    "    return -kx * ky * sin.(kx * x) .* sinh.(ky * y)\n",
    "  elseif EToDomain[e] == 2\n",
    "    return -kx * ky * sin.(kx * x) .* sinh.(ky * y)\n",
    "  else\n",
    "    error(\"invalid block\")\n",
    "  end\n",
    "end"
   ]
  },
  {
   "cell_type": "code",
   "execution_count": 327,
   "metadata": {},
   "outputs": [
    {
     "data": {
      "text/plain": [
       "vex_yy (generic function with 1 method)"
      ]
     },
     "execution_count": 327,
     "metadata": {},
     "output_type": "execute_result"
    }
   ],
   "source": [
    "vex_yy(x,y,e) = begin\n",
    "  if EToDomain[e] == 1\n",
    "    return ky^2 * cos.(kx * x) .* cosh.(ky * y)\n",
    "  elseif EToDomain[e] == 2\n",
    "    return ky^2 * cos.(kx * x) .* cosh.(ky * y)\n",
    "  else\n",
    "    error(\"invalid block\")\n",
    "  end\n",
    "end"
   ]
  },
  {
   "cell_type": "code",
   "execution_count": 328,
   "metadata": {},
   "outputs": [
    {
     "data": {
      "text/plain": [
       "4-element Array{Float64,1}:\n",
       " 0.0\n",
       " 0.0\n",
       " 0.0\n",
       " 0.0"
      ]
     },
     "execution_count": 328,
     "metadata": {},
     "output_type": "execute_result"
    }
   ],
   "source": [
    "ϵ = zeros(4)"
   ]
  },
  {
   "cell_type": "code",
   "execution_count": 329,
   "metadata": {},
   "outputs": [
    {
     "data": {
      "text/plain": [
       "1"
      ]
     },
     "execution_count": 329,
     "metadata": {},
     "output_type": "execute_result"
    }
   ],
   "source": [
    "lvl = 1"
   ]
  },
  {
   "cell_type": "code",
   "execution_count": 330,
   "metadata": {},
   "outputs": [
    {
     "data": {
      "text/plain": [
       "256-element Array{Int64,1}:\n",
       " 16\n",
       " 16\n",
       " 16\n",
       " 16\n",
       " 16\n",
       " 16\n",
       " 16\n",
       " 16\n",
       " 16\n",
       " 16\n",
       " 16\n",
       " 16\n",
       " 16\n",
       "  ⋮\n",
       " 16\n",
       " 16\n",
       " 16\n",
       " 16\n",
       " 16\n",
       " 16\n",
       " 16\n",
       " 16\n",
       " 16\n",
       " 16\n",
       " 16\n",
       " 16"
      ]
     },
     "execution_count": 330,
     "metadata": {},
     "output_type": "execute_result"
    }
   ],
   "source": [
    "# generate base mesh size for each element\n",
    "Nr = EToN0[1,:] * (2^(lvl - 1))\n",
    "Ns = EToN0[2,:] * (2^(lvl - 1))"
   ]
  },
  {
   "cell_type": "code",
   "execution_count": null,
   "metadata": {},
   "outputs": [],
   "source": []
  },
  {
   "cell_type": "code",
   "execution_count": 331,
   "metadata": {},
   "outputs": [
    {
     "data": {
      "text/plain": [
       "NamedTuple{(:M̃, :F, :coord, :facecoord, :JH, :sJ, :nx, :ny, :Hf, :HfI, :τ, :bctype),Tuple{SparseMatrixCSC{Float64,Int64},NTuple{4,SparseMatrixCSC{Float64,Int64}},Tuple{Array{Float64,2},Array{Float64,2}},Tuple{Tuple{SubArray{Float64,1,Array{Float64,2},Tuple{Int64,Base.Slice{Base.OneTo{Int64}}},true},SubArray{Float64,1,Array{Float64,2},Tuple{Int64,Base.Slice{Base.OneTo{Int64}}},true},SubArray{Float64,1,Array{Float64,2},Tuple{Base.Slice{Base.OneTo{Int64}},Int64},true},SubArray{Float64,1,Array{Float64,2},Tuple{Base.Slice{Base.OneTo{Int64}},Int64},true}},Tuple{SubArray{Float64,1,Array{Float64,2},Tuple{Int64,Base.Slice{Base.OneTo{Int64}}},true},SubArray{Float64,1,Array{Float64,2},Tuple{Int64,Base.Slice{Base.OneTo{Int64}}},true},SubArray{Float64,1,Array{Float64,2},Tuple{Base.Slice{Base.OneTo{Int64}},Int64},true},SubArray{Float64,1,Array{Float64,2},Tuple{Base.Slice{Base.OneTo{Int64}},Int64},true}}},SparseMatrixCSC{Float64,Int64},NTuple{4,Array{Float64,1}},NTuple{4,Array{Float64,1}},NTuple{4,Array{Float64,1}},NTuple{4,SparseMatrixCSC{Float64,Int64}},NTuple{4,SparseMatrixCSC{Float64,Int64}},NTuple{4,SparseMatrixCSC{Float64,Int64}},NTuple{4,Int64}}}"
      ]
     },
     "execution_count": 331,
     "metadata": {},
     "output_type": "execute_result"
    }
   ],
   "source": [
    "OPTYPE = typeof(locoperator(2,8,8))"
   ]
  },
  {
   "cell_type": "code",
   "execution_count": 332,
   "metadata": {},
   "outputs": [
    {
     "data": {
      "text/plain": [
       "Dict{Int64,NamedTuple{(:M̃, :F, :coord, :facecoord, :JH, :sJ, :nx, :ny, :Hf, :HfI, :τ, :bctype),Tuple{SparseMatrixCSC{Float64,Int64},NTuple{4,SparseMatrixCSC{Float64,Int64}},Tuple{Array{Float64,2},Array{Float64,2}},Tuple{Tuple{SubArray{Float64,1,Array{Float64,2},Tuple{Int64,Base.Slice{Base.OneTo{Int64}}},true},SubArray{Float64,1,Array{Float64,2},Tuple{Int64,Base.Slice{Base.OneTo{Int64}}},true},SubArray{Float64,1,Array{Float64,2},Tuple{Base.Slice{Base.OneTo{Int64}},Int64},true},SubArray{Float64,1,Array{Float64,2},Tuple{Base.Slice{Base.OneTo{Int64}},Int64},true}},Tuple{SubArray{Float64,1,Array{Float64,2},Tuple{Int64,Base.Slice{Base.OneTo{Int64}}},true},SubArray{Float64,1,Array{Float64,2},Tuple{Int64,Base.Slice{Base.OneTo{Int64}}},true},SubArray{Float64,1,Array{Float64,2},Tuple{Base.Slice{Base.OneTo{Int64}},Int64},true},SubArray{Float64,1,Array{Float64,2},Tuple{Base.Slice{Base.OneTo{Int64}},Int64},true}}},SparseMatrixCSC{Float64,Int64},NTuple{4,Array{Float64,1}},NTuple{4,Array{Float64,1}},NTuple{4,Array{Float64,1}},NTuple{4,SparseMatrixCSC{Float64,Int64}},NTuple{4,SparseMatrixCSC{Float64,Int64}},NTuple{4,SparseMatrixCSC{Float64,Int64}},NTuple{4,Int64}}}} with 0 entries"
      ]
     },
     "execution_count": 332,
     "metadata": {},
     "output_type": "execute_result"
    }
   ],
   "source": [
    "lop = Dict{Int64, OPTYPE}()"
   ]
  },
  {
   "cell_type": "code",
   "execution_count": 333,
   "metadata": {},
   "outputs": [
    {
     "data": {
      "text/plain": [
       "BenchmarkTools.Trial: \n",
       "  memory estimate:  1.82 GiB\n",
       "  allocs estimate:  3618623\n",
       "  --------------\n",
       "  minimum time:     697.362 ms (12.46% GC)\n",
       "  median time:      738.130 ms (13.47% GC)\n",
       "  mean time:        748.747 ms (13.64% GC)\n",
       "  maximum time:     854.041 ms (16.12% GC)\n",
       "  --------------\n",
       "  samples:          7\n",
       "  evals/sample:     1"
      ]
     },
     "execution_count": 333,
     "metadata": {},
     "output_type": "execute_result"
    }
   ],
   "source": [
    "@benchmark for e = 1:nelems\n",
    "      # Get the element corners\n",
    "      (x1, x2, x3, x4) = verts[1, EToV[:, e]]\n",
    "      (y1, y2, y3, y4) = verts[2, EToV[:, e]]\n",
    "\n",
    "      # Initialize the block transformations as transfinite between the corners\n",
    "      ex = [(α) -> x1 * (1 .- α) / 2 + x3 * (1 .+ α) / 2,\n",
    "            (α) -> x2 * (1 .- α) / 2 + x4 * (1 .+ α) / 2,\n",
    "            (α) -> x1 * (1 .- α) / 2 + x2 * (1 .+ α) / 2,\n",
    "            (α) -> x3 * (1 .- α) / 2 + x4 * (1 .+ α) / 2]\n",
    "      exα = [(α) -> -x1 / 2 + x3 / 2,\n",
    "             (α) -> -x2 / 2 + x4 / 2,\n",
    "             (α) -> -x1 / 2 + x2 / 2,\n",
    "             (α) -> -x3 / 2 + x4 / 2]\n",
    "      ey = [(α) -> y1 * (1 .- α) / 2 + y3 * (1 .+ α) / 2,\n",
    "            (α) -> y2 * (1 .- α) / 2 + y4 * (1 .+ α) / 2,\n",
    "            (α) -> y1 * (1 .- α) / 2 + y2 * (1 .+ α) / 2,\n",
    "            (α) -> y3 * (1 .- α) / 2 + y4 * (1 .+ α) / 2]\n",
    "      eyα = [(α) -> -y1 / 2 + y3 / 2,\n",
    "             (α) -> -y2 / 2 + y4 / 2,\n",
    "             (α) -> -y1 / 2 + y2 / 2,\n",
    "             (α) -> -y3 / 2 + y4 / 2]\n",
    "\n",
    "      # For blocks on the circle, put in the curved edge transform\n",
    "      if FToB[EToF[1, e]] == BC_JUMP_INTERFACE\n",
    "        error(\"curved face 1 not implemented yet\")\n",
    "      end\n",
    "      if FToB[EToF[2, e]] == BC_JUMP_INTERFACE\n",
    "        error(\"curved face 2 not implemented yet\")\n",
    "      end\n",
    "      if FToB[EToF[3, e]] == BC_JUMP_INTERFACE\n",
    "        Q1 = atan(y1, x1)\n",
    "        Q2 = atan(y2, x2)\n",
    "        if !(-π/2 < Q1 - Q2 < π/2)\n",
    "          Q2 -= sign(Q2) * 2 * π\n",
    "        end\n",
    "        ex[3] = (α) -> cos.(Q1 * (1 .- α) / 2 + Q2 * (1 .+ α) / 2)\n",
    "        ey[3] = (α) -> sin.(Q1 * (1 .- α) / 2 + Q2 * (1 .+ α) / 2)\n",
    "        β3 = (Q2 - Q1) / 2\n",
    "        exα[3] = (α) -> -β3 .* sin.(Q1 * (1 .- α) / 2 + Q2 * (1 .+ α) / 2)\n",
    "        eyα[3] = (α) -> +β3 .* cos.(Q1 * (1 .- α) / 2 + Q2 * (1 .+ α) / 2)\n",
    "      end\n",
    "      if FToB[EToF[4, e]] == BC_JUMP_INTERFACE\n",
    "        Q3 = atan(y3, x3)\n",
    "        Q4 = atan(y4, x4)\n",
    "        if !(-π/2 < Q3 - Q4 < π/2)\n",
    "          error(\"curved face 4 angle correction not implemented yet\")\n",
    "        end\n",
    "        ex[4] = (α) -> cos.(Q3 * (1 .- α) / 2 + Q4 * (1 .+ α) / 2)\n",
    "        ey[4] = (α) -> sin.(Q3 * (1 .- α) / 2 + Q4 * (1 .+ α) / 2)\n",
    "        β4 = (Q4 - Q3) / 2\n",
    "        exα[4] = (α) -> -β4 .* sin.(Q3 * (1 .- α) / 2 + Q4 * (1 .+ α) / 2)\n",
    "        eyα[4] = (α) -> +β4 .* cos.(Q3 * (1 .- α) / 2 + Q4 * (1 .+ α) / 2)\n",
    "      end\n",
    "\n",
    "      # Create the volume transform as the transfinite blending of the edge\n",
    "      # transformations\n",
    "      xt(r,s) = transfinite_blend(ex[1], ex[2], ex[3], ex[4],\n",
    "                                  exα[1], exα[2], exα[3], exα[4],\n",
    "                                  r, s)\n",
    "      yt(r,s) = transfinite_blend(ey[1], ey[2], ey[3], ey[4],\n",
    "                                  eyα[1], eyα[2], eyα[3], eyα[4],\n",
    "                                  r, s)\n",
    "\n",
    "\n",
    "      metrics = create_metrics(SBPp, Nr[e], Ns[e], xt, yt)\n",
    "\n",
    "      # Build local operators\n",
    "      lop[e] = locoperator(SBPp, Nr[e], Ns[e], metrics, FToB[EToF[:, e]])\n",
    "    end"
   ]
  },
  {
   "cell_type": "code",
   "execution_count": 334,
   "metadata": {},
   "outputs": [
    {
     "data": {
      "text/plain": [
       "BenchmarkTools.Trial: \n",
       "  memory estimate:  1.82 GiB\n",
       "  allocs estimate:  3618401\n",
       "  --------------\n",
       "  minimum time:     420.250 ms (39.05% GC)\n",
       "  median time:      582.145 ms (50.26% GC)\n",
       "  mean time:        546.094 ms (48.04% GC)\n",
       "  maximum time:     636.791 ms (56.39% GC)\n",
       "  --------------\n",
       "  samples:          10\n",
       "  evals/sample:     1"
      ]
     },
     "execution_count": 334,
     "metadata": {},
     "output_type": "execute_result"
    }
   ],
   "source": [
    "@benchmark @threads for e = 1:nelems\n",
    "      # Get the element corners\n",
    "      (x1, x2, x3, x4) = verts[1, EToV[:, e]]\n",
    "      (y1, y2, y3, y4) = verts[2, EToV[:, e]]\n",
    "\n",
    "      # Initialize the block transformations as transfinite between the corners\n",
    "      ex = [(α) -> x1 * (1 .- α) / 2 + x3 * (1 .+ α) / 2,\n",
    "            (α) -> x2 * (1 .- α) / 2 + x4 * (1 .+ α) / 2,\n",
    "            (α) -> x1 * (1 .- α) / 2 + x2 * (1 .+ α) / 2,\n",
    "            (α) -> x3 * (1 .- α) / 2 + x4 * (1 .+ α) / 2]\n",
    "      exα = [(α) -> -x1 / 2 + x3 / 2,\n",
    "             (α) -> -x2 / 2 + x4 / 2,\n",
    "             (α) -> -x1 / 2 + x2 / 2,\n",
    "             (α) -> -x3 / 2 + x4 / 2]\n",
    "      ey = [(α) -> y1 * (1 .- α) / 2 + y3 * (1 .+ α) / 2,\n",
    "            (α) -> y2 * (1 .- α) / 2 + y4 * (1 .+ α) / 2,\n",
    "            (α) -> y1 * (1 .- α) / 2 + y2 * (1 .+ α) / 2,\n",
    "            (α) -> y3 * (1 .- α) / 2 + y4 * (1 .+ α) / 2]\n",
    "      eyα = [(α) -> -y1 / 2 + y3 / 2,\n",
    "             (α) -> -y2 / 2 + y4 / 2,\n",
    "             (α) -> -y1 / 2 + y2 / 2,\n",
    "             (α) -> -y3 / 2 + y4 / 2]\n",
    "\n",
    "      # For blocks on the circle, put in the curved edge transform\n",
    "      if FToB[EToF[1, e]] == BC_JUMP_INTERFACE\n",
    "        error(\"curved face 1 not implemented yet\")\n",
    "      end\n",
    "      if FToB[EToF[2, e]] == BC_JUMP_INTERFACE\n",
    "        error(\"curved face 2 not implemented yet\")\n",
    "      end\n",
    "      if FToB[EToF[3, e]] == BC_JUMP_INTERFACE\n",
    "        Q1 = atan(y1, x1)\n",
    "        Q2 = atan(y2, x2)\n",
    "        if !(-π/2 < Q1 - Q2 < π/2)\n",
    "          Q2 -= sign(Q2) * 2 * π\n",
    "        end\n",
    "        ex[3] = (α) -> cos.(Q1 * (1 .- α) / 2 + Q2 * (1 .+ α) / 2)\n",
    "        ey[3] = (α) -> sin.(Q1 * (1 .- α) / 2 + Q2 * (1 .+ α) / 2)\n",
    "        β3 = (Q2 - Q1) / 2\n",
    "        exα[3] = (α) -> -β3 .* sin.(Q1 * (1 .- α) / 2 + Q2 * (1 .+ α) / 2)\n",
    "        eyα[3] = (α) -> +β3 .* cos.(Q1 * (1 .- α) / 2 + Q2 * (1 .+ α) / 2)\n",
    "      end\n",
    "      if FToB[EToF[4, e]] == BC_JUMP_INTERFACE\n",
    "        Q3 = atan(y3, x3)\n",
    "        Q4 = atan(y4, x4)\n",
    "        if !(-π/2 < Q3 - Q4 < π/2)\n",
    "          error(\"curved face 4 angle correction not implemented yet\")\n",
    "        end\n",
    "        ex[4] = (α) -> cos.(Q3 * (1 .- α) / 2 + Q4 * (1 .+ α) / 2)\n",
    "        ey[4] = (α) -> sin.(Q3 * (1 .- α) / 2 + Q4 * (1 .+ α) / 2)\n",
    "        β4 = (Q4 - Q3) / 2\n",
    "        exα[4] = (α) -> -β4 .* sin.(Q3 * (1 .- α) / 2 + Q4 * (1 .+ α) / 2)\n",
    "        eyα[4] = (α) -> +β4 .* cos.(Q3 * (1 .- α) / 2 + Q4 * (1 .+ α) / 2)\n",
    "      end\n",
    "\n",
    "      # Create the volume transform as the transfinite blending of the edge\n",
    "      # transformations\n",
    "      xt(r,s) = transfinite_blend(ex[1], ex[2], ex[3], ex[4],\n",
    "                                  exα[1], exα[2], exα[3], exα[4],\n",
    "                                  r, s)\n",
    "      yt(r,s) = transfinite_blend(ey[1], ey[2], ey[3], ey[4],\n",
    "                                  eyα[1], eyα[2], eyα[3], eyα[4],\n",
    "                                  r, s)\n",
    "\n",
    "\n",
    "      metrics = create_metrics(SBPp, Nr[e], Ns[e], xt, yt)\n",
    "\n",
    "      # Build local operators\n",
    "      lop[e] = locoperator(SBPp, Nr[e], Ns[e], metrics, FToB[EToF[:, e]])\n",
    "    end"
   ]
  },
  {
   "cell_type": "markdown",
   "metadata": {},
   "source": [
    "Conclusing 1: Using @threads macro could improve performance for building local operators"
   ]
  },
  {
   "cell_type": "code",
   "execution_count": 335,
   "metadata": {},
   "outputs": [
    {
     "data": {
      "text/plain": [
       "(SBPLocalOperator1{Float64,SuiteSparse.CHOLMOD.Factor{Float64}}([1, 290, 579, 868, 1157, 1446, 1735, 2024, 2313, 2602  …  71384, 71673, 71962, 72251, 72540, 72829, 73118, 73407, 73696, 73985], [1.5231905732462273e-6, 6.703087536232299e-6, 3.0254008675144863e-6, 5.980495481007056e-6, 4.395256848655774e-6, 4.888070210180819e-6, 4.821000275788484e-6, 4.821000275788484e-6, 4.821000275788484e-6, 4.821000275788484e-6  …  4.821000275788484e-6, 4.821000275788484e-6, 4.821000275788484e-6, 4.821000275788484e-6, 4.888070210180819e-6, 4.395256848655774e-6, 5.980495481007056e-6, 3.0254008675144863e-6, 6.703087536232299e-6, 1.5231905732462273e-6], [0.25, 0.25390625, 0.2578125, 0.26171875, 0.265625, 0.26953125, 0.2734375, 0.27734375, 0.28125, 0.28515625  …  -0.3125, -0.3125, -0.3125, -0.3125, -0.3125, -0.3125, -0.3125, -0.3125, -0.3125, -0.3125], [-0.5, -0.5, -0.5, -0.5, -0.5, -0.5, -0.5, -0.5, -0.5, -0.5  …  -0.09765625, -0.09375, -0.08984375, -0.0859375, -0.08203125, -0.078125, -0.07421875, -0.0703125, -0.06640625, -0.0625], [1, 1, 1, 1, 1, 1, 1, 1, 1, 1  …  256, 256, 256, 256, 256, 256, 256, 256, 256, 256], SuiteSparse.CHOLMOD.Factor{Float64}[SuiteSparse.CHOLMOD.Factor{Float64}\n",
       "type:    LLt\n",
       "method:  supernodal\n",
       "maxnnz:  0\n",
       "nnz:     15033\n",
       "success: true\n",
       ", SuiteSparse.CHOLMOD.Factor{Float64}\n",
       "type:    LLt\n",
       "method:  supernodal\n",
       "maxnnz:  0\n",
       "nnz:     15033\n",
       "success: true\n",
       ", SuiteSparse.CHOLMOD.Factor{Float64}\n",
       "type:    LLt\n",
       "method:  supernodal\n",
       "maxnnz:  0\n",
       "nnz:     15033\n",
       "success: true\n",
       ", SuiteSparse.CHOLMOD.Factor{Float64}\n",
       "type:    LLt\n",
       "method:  supernodal\n",
       "maxnnz:  0\n",
       "nnz:     15033\n",
       "success: true\n",
       ", SuiteSparse.CHOLMOD.Factor{Float64}\n",
       "type:    LLt\n",
       "method:  supernodal\n",
       "maxnnz:  0\n",
       "nnz:     15033\n",
       "success: true\n",
       ", SuiteSparse.CHOLMOD.Factor{Float64}\n",
       "type:    LLt\n",
       "method:  supernodal\n",
       "maxnnz:  0\n",
       "nnz:     15033\n",
       "success: true\n",
       ", SuiteSparse.CHOLMOD.Factor{Float64}\n",
       "type:    LLt\n",
       "method:  supernodal\n",
       "maxnnz:  0\n",
       "nnz:     15033\n",
       "success: true\n",
       ", SuiteSparse.CHOLMOD.Factor{Float64}\n",
       "type:    LLt\n",
       "method:  supernodal\n",
       "maxnnz:  0\n",
       "nnz:     15033\n",
       "success: true\n",
       ", SuiteSparse.CHOLMOD.Factor{Float64}\n",
       "type:    LLt\n",
       "method:  supernodal\n",
       "maxnnz:  0\n",
       "nnz:     15033\n",
       "success: true\n",
       ", SuiteSparse.CHOLMOD.Factor{Float64}\n",
       "type:    LLt\n",
       "method:  supernodal\n",
       "maxnnz:  0\n",
       "nnz:     15033\n",
       "success: true\n",
       "  …  SuiteSparse.CHOLMOD.Factor{Float64}\n",
       "type:    LLt\n",
       "method:  supernodal\n",
       "maxnnz:  0\n",
       "nnz:     15033\n",
       "success: true\n",
       ", SuiteSparse.CHOLMOD.Factor{Float64}\n",
       "type:    LLt\n",
       "method:  supernodal\n",
       "maxnnz:  0\n",
       "nnz:     15033\n",
       "success: true\n",
       ", SuiteSparse.CHOLMOD.Factor{Float64}\n",
       "type:    LLt\n",
       "method:  supernodal\n",
       "maxnnz:  0\n",
       "nnz:     15033\n",
       "success: true\n",
       ", SuiteSparse.CHOLMOD.Factor{Float64}\n",
       "type:    LLt\n",
       "method:  supernodal\n",
       "maxnnz:  0\n",
       "nnz:     15033\n",
       "success: true\n",
       ", SuiteSparse.CHOLMOD.Factor{Float64}\n",
       "type:    LLt\n",
       "method:  supernodal\n",
       "maxnnz:  0\n",
       "nnz:     15033\n",
       "success: true\n",
       ", SuiteSparse.CHOLMOD.Factor{Float64}\n",
       "type:    LLt\n",
       "method:  supernodal\n",
       "maxnnz:  0\n",
       "nnz:     15033\n",
       "success: true\n",
       ", SuiteSparse.CHOLMOD.Factor{Float64}\n",
       "type:    LLt\n",
       "method:  supernodal\n",
       "maxnnz:  0\n",
       "nnz:     15033\n",
       "success: true\n",
       ", SuiteSparse.CHOLMOD.Factor{Float64}\n",
       "type:    LLt\n",
       "method:  supernodal\n",
       "maxnnz:  0\n",
       "nnz:     15033\n",
       "success: true\n",
       ", SuiteSparse.CHOLMOD.Factor{Float64}\n",
       "type:    LLt\n",
       "method:  supernodal\n",
       "maxnnz:  0\n",
       "nnz:     15033\n",
       "success: true\n",
       ", SuiteSparse.CHOLMOD.Factor{Float64}\n",
       "type:    LLt\n",
       "method:  supernodal\n",
       "maxnnz:  0\n",
       "nnz:     15033\n",
       "success: true\n",
       "]), \n",
       "  [1   ,     1]  =  -6.06879\n",
       "  [1   ,     2]  =  -1.2638\n",
       "  [1   ,     3]  =  0.947847\n",
       "  [1   ,     4]  =  -0.421265\n",
       "  [1   ,     5]  =  0.0789873\n",
       "  [18  ,    13]  =  0.0789873\n",
       "  [18  ,    14]  =  -0.421265\n",
       "  [18  ,    15]  =  0.947847\n",
       "  [18  ,    16]  =  -1.2638\n",
       "  [18  ,    17]  =  -6.06879\n",
       "  [2   ,    18]  =  -26.7069\n",
       "  [2   ,    19]  =  -5.56157\n",
       "  ⋮\n",
       "  [8153, 73977]  =  -19.2081\n",
       "  [8154, 73978]  =  -19.2081\n",
       "  [8155, 73979]  =  -19.4754\n",
       "  [8126, 73980]  =  0.0789873\n",
       "  [8156, 73980]  =  -17.5119\n",
       "  [8126, 73981]  =  -0.421265\n",
       "  [8157, 73981]  =  -23.8279\n",
       "  [8126, 73982]  =  0.947847\n",
       "  [8158, 73982]  =  -12.054\n",
       "  [8126, 73983]  =  -1.2638\n",
       "  [8159, 73983]  =  -26.7069\n",
       "  [8126, 73984]  =  -6.06879\n",
       "  [8160, 73984]  =  -6.06879, [13.454037234304037, 59.20702956102806, 26.722759866802143, 52.824518674361, 38.822423362375595, 43.17534507288087, 42.58292977668213, 42.58292977668213, 42.58292977668213, 42.58292977668213  …  42.58292977668213, 42.58292977668213, 42.58292977668213, 42.58292977668213, 43.17534507288087, 38.822423362375595, 52.824518674361, 26.722759866802143, 59.20702956102806, 13.454037234304037], [1, 290, 579, 868, 1157, 1446, 1735, 2024, 2313, 2602  …  71384, 71673, 71962, 72251, 72540, 72829, 73118, 73407, 73696, 73985], [1, 18, 35, 35, 52, 69, 86, 103, 120, 137  …  8008, 8025, 8042, 8059, 8076, 8093, 8110, 8127, 8144, 8161])"
      ]
     },
     "execution_count": 335,
     "metadata": {},
     "output_type": "execute_result"
    }
   ],
   "source": [
    "(M, FbarT, D, vstarts, FToλstarts) = threaded_LocalGlobalOperators(lop, Nr, Ns, FToB, FToE, FToLF, EToO, EToS, (x) -> cholesky(Symmetric(x)))"
   ]
  },
  {
   "cell_type": "code",
   "execution_count": 336,
   "metadata": {},
   "outputs": [
    {
     "name": "stdout",
     "output_type": "stream",
     "text": [
      "lvl = 1\n"
     ]
    },
    {
     "data": {
      "text/plain": [
       "1"
      ]
     },
     "execution_count": 336,
     "metadata": {},
     "output_type": "execute_result"
    }
   ],
   "source": [
    "@show lvl"
   ]
  },
  {
   "cell_type": "code",
   "execution_count": 337,
   "metadata": {},
   "outputs": [
    {
     "data": {
      "text/plain": [
       "SBPLocalOperator1{Float64,SuiteSparse.CHOLMOD.Factor{Float64}}([1, 290, 579, 868, 1157, 1446, 1735, 2024, 2313, 2602  …  71384, 71673, 71962, 72251, 72540, 72829, 73118, 73407, 73696, 73985], [1.5231905732462273e-6, 6.703087536232299e-6, 3.0254008675144863e-6, 5.980495481007056e-6, 4.395256848655774e-6, 4.888070210180819e-6, 4.821000275788484e-6, 4.821000275788484e-6, 4.821000275788484e-6, 4.821000275788484e-6  …  4.821000275788484e-6, 4.821000275788484e-6, 4.821000275788484e-6, 4.821000275788484e-6, 4.888070210180819e-6, 4.395256848655774e-6, 5.980495481007056e-6, 3.0254008675144863e-6, 6.703087536232299e-6, 1.5231905732462273e-6], [0.25, 0.25390625, 0.2578125, 0.26171875, 0.265625, 0.26953125, 0.2734375, 0.27734375, 0.28125, 0.28515625  …  -0.3125, -0.3125, -0.3125, -0.3125, -0.3125, -0.3125, -0.3125, -0.3125, -0.3125, -0.3125], [-0.5, -0.5, -0.5, -0.5, -0.5, -0.5, -0.5, -0.5, -0.5, -0.5  …  -0.09765625, -0.09375, -0.08984375, -0.0859375, -0.08203125, -0.078125, -0.07421875, -0.0703125, -0.06640625, -0.0625], [1, 1, 1, 1, 1, 1, 1, 1, 1, 1  …  256, 256, 256, 256, 256, 256, 256, 256, 256, 256], SuiteSparse.CHOLMOD.Factor{Float64}[SuiteSparse.CHOLMOD.Factor{Float64}\n",
       "type:    LLt\n",
       "method:  supernodal\n",
       "maxnnz:  0\n",
       "nnz:     15033\n",
       "success: true\n",
       ", SuiteSparse.CHOLMOD.Factor{Float64}\n",
       "type:    LLt\n",
       "method:  supernodal\n",
       "maxnnz:  0\n",
       "nnz:     15033\n",
       "success: true\n",
       ", SuiteSparse.CHOLMOD.Factor{Float64}\n",
       "type:    LLt\n",
       "method:  supernodal\n",
       "maxnnz:  0\n",
       "nnz:     15033\n",
       "success: true\n",
       ", SuiteSparse.CHOLMOD.Factor{Float64}\n",
       "type:    LLt\n",
       "method:  supernodal\n",
       "maxnnz:  0\n",
       "nnz:     15033\n",
       "success: true\n",
       ", SuiteSparse.CHOLMOD.Factor{Float64}\n",
       "type:    LLt\n",
       "method:  supernodal\n",
       "maxnnz:  0\n",
       "nnz:     15033\n",
       "success: true\n",
       ", SuiteSparse.CHOLMOD.Factor{Float64}\n",
       "type:    LLt\n",
       "method:  supernodal\n",
       "maxnnz:  0\n",
       "nnz:     15033\n",
       "success: true\n",
       ", SuiteSparse.CHOLMOD.Factor{Float64}\n",
       "type:    LLt\n",
       "method:  supernodal\n",
       "maxnnz:  0\n",
       "nnz:     15033\n",
       "success: true\n",
       ", SuiteSparse.CHOLMOD.Factor{Float64}\n",
       "type:    LLt\n",
       "method:  supernodal\n",
       "maxnnz:  0\n",
       "nnz:     15033\n",
       "success: true\n",
       ", SuiteSparse.CHOLMOD.Factor{Float64}\n",
       "type:    LLt\n",
       "method:  supernodal\n",
       "maxnnz:  0\n",
       "nnz:     15033\n",
       "success: true\n",
       ", SuiteSparse.CHOLMOD.Factor{Float64}\n",
       "type:    LLt\n",
       "method:  supernodal\n",
       "maxnnz:  0\n",
       "nnz:     15033\n",
       "success: true\n",
       "  …  SuiteSparse.CHOLMOD.Factor{Float64}\n",
       "type:    LLt\n",
       "method:  supernodal\n",
       "maxnnz:  0\n",
       "nnz:     15033\n",
       "success: true\n",
       ", SuiteSparse.CHOLMOD.Factor{Float64}\n",
       "type:    LLt\n",
       "method:  supernodal\n",
       "maxnnz:  0\n",
       "nnz:     15033\n",
       "success: true\n",
       ", SuiteSparse.CHOLMOD.Factor{Float64}\n",
       "type:    LLt\n",
       "method:  supernodal\n",
       "maxnnz:  0\n",
       "nnz:     15033\n",
       "success: true\n",
       ", SuiteSparse.CHOLMOD.Factor{Float64}\n",
       "type:    LLt\n",
       "method:  supernodal\n",
       "maxnnz:  0\n",
       "nnz:     15033\n",
       "success: true\n",
       ", SuiteSparse.CHOLMOD.Factor{Float64}\n",
       "type:    LLt\n",
       "method:  supernodal\n",
       "maxnnz:  0\n",
       "nnz:     15033\n",
       "success: true\n",
       ", SuiteSparse.CHOLMOD.Factor{Float64}\n",
       "type:    LLt\n",
       "method:  supernodal\n",
       "maxnnz:  0\n",
       "nnz:     15033\n",
       "success: true\n",
       ", SuiteSparse.CHOLMOD.Factor{Float64}\n",
       "type:    LLt\n",
       "method:  supernodal\n",
       "maxnnz:  0\n",
       "nnz:     15033\n",
       "success: true\n",
       ", SuiteSparse.CHOLMOD.Factor{Float64}\n",
       "type:    LLt\n",
       "method:  supernodal\n",
       "maxnnz:  0\n",
       "nnz:     15033\n",
       "success: true\n",
       ", SuiteSparse.CHOLMOD.Factor{Float64}\n",
       "type:    LLt\n",
       "method:  supernodal\n",
       "maxnnz:  0\n",
       "nnz:     15033\n",
       "success: true\n",
       ", SuiteSparse.CHOLMOD.Factor{Float64}\n",
       "type:    LLt\n",
       "method:  supernodal\n",
       "maxnnz:  0\n",
       "nnz:     15033\n",
       "success: true\n",
       "])"
      ]
     },
     "execution_count": 337,
     "metadata": {},
     "output_type": "execute_result"
    }
   ],
   "source": [
    "M"
   ]
  },
  {
   "cell_type": "code",
   "execution_count": 338,
   "metadata": {},
   "outputs": [
    {
     "data": {
      "text/plain": [
       "256-element Array{SuiteSparse.CHOLMOD.Factor{Float64},1}:\n",
       " SuiteSparse.CHOLMOD.Factor{Float64}\n",
       "type:    LLt\n",
       "method:  supernodal\n",
       "maxnnz:  0\n",
       "nnz:     15033\n",
       "success: true\n",
       "\n",
       " SuiteSparse.CHOLMOD.Factor{Float64}\n",
       "type:    LLt\n",
       "method:  supernodal\n",
       "maxnnz:  0\n",
       "nnz:     15033\n",
       "success: true\n",
       "\n",
       " SuiteSparse.CHOLMOD.Factor{Float64}\n",
       "type:    LLt\n",
       "method:  supernodal\n",
       "maxnnz:  0\n",
       "nnz:     15033\n",
       "success: true\n",
       "\n",
       " SuiteSparse.CHOLMOD.Factor{Float64}\n",
       "type:    LLt\n",
       "method:  supernodal\n",
       "maxnnz:  0\n",
       "nnz:     15033\n",
       "success: true\n",
       "\n",
       " SuiteSparse.CHOLMOD.Factor{Float64}\n",
       "type:    LLt\n",
       "method:  supernodal\n",
       "maxnnz:  0\n",
       "nnz:     15033\n",
       "success: true\n",
       "\n",
       " SuiteSparse.CHOLMOD.Factor{Float64}\n",
       "type:    LLt\n",
       "method:  supernodal\n",
       "maxnnz:  0\n",
       "nnz:     15033\n",
       "success: true\n",
       "\n",
       " SuiteSparse.CHOLMOD.Factor{Float64}\n",
       "type:    LLt\n",
       "method:  supernodal\n",
       "maxnnz:  0\n",
       "nnz:     15033\n",
       "success: true\n",
       "\n",
       " SuiteSparse.CHOLMOD.Factor{Float64}\n",
       "type:    LLt\n",
       "method:  supernodal\n",
       "maxnnz:  0\n",
       "nnz:     15033\n",
       "success: true\n",
       "\n",
       " SuiteSparse.CHOLMOD.Factor{Float64}\n",
       "type:    LLt\n",
       "method:  supernodal\n",
       "maxnnz:  0\n",
       "nnz:     15033\n",
       "success: true\n",
       "\n",
       " SuiteSparse.CHOLMOD.Factor{Float64}\n",
       "type:    LLt\n",
       "method:  supernodal\n",
       "maxnnz:  0\n",
       "nnz:     15033\n",
       "success: true\n",
       "\n",
       " SuiteSparse.CHOLMOD.Factor{Float64}\n",
       "type:    LLt\n",
       "method:  supernodal\n",
       "maxnnz:  0\n",
       "nnz:     15033\n",
       "success: true\n",
       "\n",
       " SuiteSparse.CHOLMOD.Factor{Float64}\n",
       "type:    LLt\n",
       "method:  supernodal\n",
       "maxnnz:  0\n",
       "nnz:     15033\n",
       "success: true\n",
       "\n",
       " SuiteSparse.CHOLMOD.Factor{Float64}\n",
       "type:    LLt\n",
       "method:  supernodal\n",
       "maxnnz:  0\n",
       "nnz:     15033\n",
       "success: true\n",
       "\n",
       " ⋮                                                                                                            \n",
       " SuiteSparse.CHOLMOD.Factor{Float64}\n",
       "type:    LLt\n",
       "method:  supernodal\n",
       "maxnnz:  0\n",
       "nnz:     15033\n",
       "success: true\n",
       "\n",
       " SuiteSparse.CHOLMOD.Factor{Float64}\n",
       "type:    LLt\n",
       "method:  supernodal\n",
       "maxnnz:  0\n",
       "nnz:     15033\n",
       "success: true\n",
       "\n",
       " SuiteSparse.CHOLMOD.Factor{Float64}\n",
       "type:    LLt\n",
       "method:  supernodal\n",
       "maxnnz:  0\n",
       "nnz:     15033\n",
       "success: true\n",
       "\n",
       " SuiteSparse.CHOLMOD.Factor{Float64}\n",
       "type:    LLt\n",
       "method:  supernodal\n",
       "maxnnz:  0\n",
       "nnz:     15033\n",
       "success: true\n",
       "\n",
       " SuiteSparse.CHOLMOD.Factor{Float64}\n",
       "type:    LLt\n",
       "method:  supernodal\n",
       "maxnnz:  0\n",
       "nnz:     15033\n",
       "success: true\n",
       "\n",
       " SuiteSparse.CHOLMOD.Factor{Float64}\n",
       "type:    LLt\n",
       "method:  supernodal\n",
       "maxnnz:  0\n",
       "nnz:     15033\n",
       "success: true\n",
       "\n",
       " SuiteSparse.CHOLMOD.Factor{Float64}\n",
       "type:    LLt\n",
       "method:  supernodal\n",
       "maxnnz:  0\n",
       "nnz:     15033\n",
       "success: true\n",
       "\n",
       " SuiteSparse.CHOLMOD.Factor{Float64}\n",
       "type:    LLt\n",
       "method:  supernodal\n",
       "maxnnz:  0\n",
       "nnz:     15033\n",
       "success: true\n",
       "\n",
       " SuiteSparse.CHOLMOD.Factor{Float64}\n",
       "type:    LLt\n",
       "method:  supernodal\n",
       "maxnnz:  0\n",
       "nnz:     15033\n",
       "success: true\n",
       "\n",
       " SuiteSparse.CHOLMOD.Factor{Float64}\n",
       "type:    LLt\n",
       "method:  supernodal\n",
       "maxnnz:  0\n",
       "nnz:     15033\n",
       "success: true\n",
       "\n",
       " SuiteSparse.CHOLMOD.Factor{Float64}\n",
       "type:    LLt\n",
       "method:  supernodal\n",
       "maxnnz:  0\n",
       "nnz:     15033\n",
       "success: true\n",
       "\n",
       " SuiteSparse.CHOLMOD.Factor{Float64}\n",
       "type:    LLt\n",
       "method:  supernodal\n",
       "maxnnz:  0\n",
       "nnz:     15033\n",
       "success: true\n"
      ]
     },
     "execution_count": 338,
     "metadata": {},
     "output_type": "execute_result"
    }
   ],
   "source": [
    "locfactors = M.F"
   ]
  },
  {
   "cell_type": "code",
   "execution_count": 339,
   "metadata": {},
   "outputs": [
    {
     "data": {
      "text/plain": [
       "(M̃ = \n",
       "  [1  ,   1]  =  11.5809\n",
       "  [2  ,   1]  =  0.801039\n",
       "  [3  ,   1]  =  -0.820124\n",
       "  [4  ,   1]  =  0.337643\n",
       "  [5  ,   1]  =  -0.0274042\n",
       "  [6  ,   1]  =  -0.0128202\n",
       "  [7  ,   1]  =  -1.09617e-18\n",
       "  [9  ,   1]  =  3.42553e-20\n",
       "  [18 ,   1]  =  0.801039\n",
       "  [35 ,   1]  =  -0.820124\n",
       "  [52 ,   1]  =  0.337643\n",
       "  [69 ,   1]  =  -0.0274042\n",
       "  ⋮\n",
       "  [204, 289]  =  -0.0128202\n",
       "  [221, 289]  =  -0.0274042\n",
       "  [238, 289]  =  0.337643\n",
       "  [255, 289]  =  -0.820124\n",
       "  [272, 289]  =  0.801039\n",
       "  [281, 289]  =  3.42553e-20\n",
       "  [283, 289]  =  -1.09617e-18\n",
       "  [284, 289]  =  -0.0128202\n",
       "  [285, 289]  =  -0.0274042\n",
       "  [286, 289]  =  0.337643\n",
       "  [287, 289]  =  -0.820124\n",
       "  [288, 289]  =  0.801039\n",
       "  [289, 289]  =  11.5809, F = (\n",
       "  [1  ,  1]  =  -6.06879\n",
       "  [2  ,  1]  =  -1.2638\n",
       "  [3  ,  1]  =  0.947847\n",
       "  [4  ,  1]  =  -0.421265\n",
       "  [5  ,  1]  =  0.0789873\n",
       "  [18 ,  2]  =  -26.7069\n",
       "  [19 ,  2]  =  -5.56157\n",
       "  [20 ,  2]  =  4.17118\n",
       "  [21 ,  2]  =  -1.85386\n",
       "  [22 ,  2]  =  0.347598\n",
       "  [35 ,  3]  =  -12.054\n",
       "  [36 ,  3]  =  -2.51019\n",
       "  ⋮\n",
       "  [241, 15]  =  1.88264\n",
       "  [242, 15]  =  -0.836728\n",
       "  [243, 15]  =  0.156887\n",
       "  [256, 16]  =  -26.7069\n",
       "  [257, 16]  =  -5.56157\n",
       "  [258, 16]  =  4.17118\n",
       "  [259, 16]  =  -1.85386\n",
       "  [260, 16]  =  0.347598\n",
       "  [273, 17]  =  -6.06879\n",
       "  [274, 17]  =  -1.2638\n",
       "  [275, 17]  =  0.947847\n",
       "  [276, 17]  =  -0.421265\n",
       "  [277, 17]  =  0.0789873, \n",
       "  [13 ,  1]  =  0.0789873\n",
       "  [14 ,  1]  =  -0.421265\n",
       "  [15 ,  1]  =  0.947847\n",
       "  [16 ,  1]  =  -1.2638\n",
       "  [17 ,  1]  =  -6.06879\n",
       "  [30 ,  2]  =  0.347598\n",
       "  [31 ,  2]  =  -1.85386\n",
       "  [32 ,  2]  =  4.17118\n",
       "  [33 ,  2]  =  -5.56157\n",
       "  [34 ,  2]  =  -26.7069\n",
       "  [47 ,  3]  =  0.156887\n",
       "  [48 ,  3]  =  -0.836728\n",
       "  ⋮\n",
       "  [253, 15]  =  1.88264\n",
       "  [254, 15]  =  -2.51019\n",
       "  [255, 15]  =  -12.054\n",
       "  [268, 16]  =  0.347598\n",
       "  [269, 16]  =  -1.85386\n",
       "  [270, 16]  =  4.17118\n",
       "  [271, 16]  =  -5.56157\n",
       "  [272, 16]  =  -26.7069\n",
       "  [285, 17]  =  0.0789873\n",
       "  [286, 17]  =  -0.421265\n",
       "  [287, 17]  =  0.947847\n",
       "  [288, 17]  =  -1.2638\n",
       "  [289, 17]  =  -6.06879, \n",
       "  [1 ,  1]  =  -6.06879\n",
       "  [18,  1]  =  -1.2638\n",
       "  [35,  1]  =  0.947847\n",
       "  [52,  1]  =  -0.421265\n",
       "  [69,  1]  =  0.0789873\n",
       "  [2 ,  2]  =  -26.7069\n",
       "  [19,  2]  =  -5.56157\n",
       "  [36,  2]  =  4.17118\n",
       "  [53,  2]  =  -1.85386\n",
       "  [70,  2]  =  0.347598\n",
       "  [3 ,  3]  =  -12.054\n",
       "  [20,  3]  =  -2.51019\n",
       "  ⋮\n",
       "  [49, 15]  =  1.88264\n",
       "  [66, 15]  =  -0.836728\n",
       "  [83, 15]  =  0.156887\n",
       "  [16, 16]  =  -26.7069\n",
       "  [33, 16]  =  -5.56157\n",
       "  [50, 16]  =  4.17118\n",
       "  [67, 16]  =  -1.85386\n",
       "  [84, 16]  =  0.347598\n",
       "  [17, 17]  =  -6.06879\n",
       "  [34, 17]  =  -1.2638\n",
       "  [51, 17]  =  0.947847\n",
       "  [68, 17]  =  -0.421265\n",
       "  [85, 17]  =  0.0789873, \n",
       "  [205,  1]  =  0.0789873\n",
       "  [222,  1]  =  -0.421265\n",
       "  [239,  1]  =  0.947847\n",
       "  [256,  1]  =  -1.2638\n",
       "  [273,  1]  =  -6.06879\n",
       "  [206,  2]  =  0.347598\n",
       "  [223,  2]  =  -1.85386\n",
       "  [240,  2]  =  4.17118\n",
       "  [257,  2]  =  -5.56157\n",
       "  [274,  2]  =  -26.7069\n",
       "  [207,  3]  =  0.156887\n",
       "  [224,  3]  =  -0.836728\n",
       "  ⋮\n",
       "  [253, 15]  =  1.88264\n",
       "  [270, 15]  =  -2.51019\n",
       "  [287, 15]  =  -12.054\n",
       "  [220, 16]  =  0.347598\n",
       "  [237, 16]  =  -1.85386\n",
       "  [254, 16]  =  4.17118\n",
       "  [271, 16]  =  -5.56157\n",
       "  [288, 16]  =  -26.7069\n",
       "  [221, 17]  =  0.0789873\n",
       "  [238, 17]  =  -0.421265\n",
       "  [255, 17]  =  0.947847\n",
       "  [272, 17]  =  -1.2638\n",
       "  [289, 17]  =  -6.06879), coord = ([0.25 0.25 … 0.25 0.25; 0.25390625 0.25390625 … 0.25390625 0.25390625; … ; 0.30859375 0.30859375 … 0.30859375 0.30859375; 0.3125 0.3125 … 0.3125 0.3125], [-0.5 -0.49609375 … -0.44140625 -0.4375; -0.5 -0.49609375 … -0.44140625 -0.4375; … ; -0.5 -0.49609375 … -0.44140625 -0.4375; -0.5 -0.49609375 … -0.44140625 -0.4375]), facecoord = (([0.25, 0.25, 0.25, 0.25, 0.25, 0.25, 0.25, 0.25, 0.25, 0.25, 0.25, 0.25, 0.25, 0.25, 0.25, 0.25, 0.25], [0.3125, 0.3125, 0.3125, 0.3125, 0.3125, 0.3125, 0.3125, 0.3125, 0.3125, 0.3125, 0.3125, 0.3125, 0.3125, 0.3125, 0.3125, 0.3125, 0.3125], [0.25, 0.25390625, 0.2578125, 0.26171875, 0.265625, 0.26953125, 0.2734375, 0.27734375, 0.28125, 0.28515625, 0.2890625, 0.29296875, 0.296875, 0.30078125, 0.3046875, 0.30859375, 0.3125], [0.25, 0.25390625, 0.2578125, 0.26171875, 0.265625, 0.26953125, 0.2734375, 0.27734375, 0.28125, 0.28515625, 0.2890625, 0.29296875, 0.296875, 0.30078125, 0.3046875, 0.30859375, 0.3125]), ([-0.5, -0.49609375, -0.4921875, -0.48828125, -0.484375, -0.48046875, -0.4765625, -0.47265625, -0.46875, -0.46484375, -0.4609375, -0.45703125, -0.453125, -0.44921875, -0.4453125, -0.44140625, -0.4375], [-0.5, -0.49609375, -0.4921875, -0.48828125, -0.484375, -0.48046875, -0.4765625, -0.47265625, -0.46875, -0.46484375, -0.4609375, -0.45703125, -0.453125, -0.44921875, -0.4453125, -0.44140625, -0.4375], [-0.5, -0.5, -0.5, -0.5, -0.5, -0.5, -0.5, -0.5, -0.5, -0.5, -0.5, -0.5, -0.5, -0.5, -0.5, -0.5, -0.5], [-0.4375, -0.4375, -0.4375, -0.4375, -0.4375, -0.4375, -0.4375, -0.4375, -0.4375, -0.4375, -0.4375, -0.4375, -0.4375, -0.4375, -0.4375, -0.4375, -0.4375])), JH = \n",
       "  [1  ,   1]  =  1.52319e-6\n",
       "  [2  ,   2]  =  6.70309e-6\n",
       "  [3  ,   3]  =  3.0254e-6\n",
       "  [4  ,   4]  =  5.9805e-6\n",
       "  [5  ,   5]  =  4.39526e-6\n",
       "  [6  ,   6]  =  4.88807e-6\n",
       "  [7  ,   7]  =  4.821e-6\n",
       "  [8  ,   8]  =  4.821e-6\n",
       "  [9  ,   9]  =  4.821e-6\n",
       "  [10 ,  10]  =  4.821e-6\n",
       "  [11 ,  11]  =  4.821e-6\n",
       "  [12 ,  12]  =  4.88807e-6\n",
       "  ⋮\n",
       "  [277, 277]  =  4.39526e-6\n",
       "  [278, 278]  =  4.88807e-6\n",
       "  [279, 279]  =  4.821e-6\n",
       "  [280, 280]  =  4.821e-6\n",
       "  [281, 281]  =  4.821e-6\n",
       "  [282, 282]  =  4.821e-6\n",
       "  [283, 283]  =  4.821e-6\n",
       "  [284, 284]  =  4.88807e-6\n",
       "  [285, 285]  =  4.39526e-6\n",
       "  [286, 286]  =  5.9805e-6\n",
       "  [287, 287]  =  3.0254e-6\n",
       "  [288, 288]  =  6.70309e-6\n",
       "  [289, 289]  =  1.52319e-6, sJ = ([0.03125, 0.03125, 0.03125, 0.03125, 0.03125, 0.03125, 0.03125, 0.03125, 0.03125, 0.03125, 0.03125, 0.03125, 0.03125, 0.03125, 0.03125, 0.03125, 0.03125], [0.03125, 0.03125, 0.03125, 0.03125, 0.03125, 0.03125, 0.03125, 0.03125, 0.03125, 0.03125, 0.03125, 0.03125, 0.03125, 0.03125, 0.03125, 0.03125, 0.03125], [0.03125, 0.03125, 0.03125, 0.03125, 0.03125, 0.03125, 0.03125, 0.03125, 0.03125, 0.03125, 0.03125, 0.03125, 0.03125, 0.03125, 0.03125, 0.03125, 0.03125], [0.03125, 0.03125, 0.03125, 0.03125, 0.03125, 0.03125, 0.03125, 0.03125, 0.03125, 0.03125, 0.03125, 0.03125, 0.03125, 0.03125, 0.03125, 0.03125, 0.03125]), nx = ([-1.0, -1.0, -1.0, -1.0, -1.0, -1.0, -1.0, -1.0, -1.0, -1.0, -1.0, -1.0, -1.0, -1.0, -1.0, -1.0, -1.0], [1.0, 1.0, 1.0, 1.0, 1.0, 1.0, 1.0, 1.0, 1.0, 1.0, 1.0, 1.0, 1.0, 1.0, 1.0, 1.0, 1.0], [0.0, 0.0, 0.0, 0.0, 0.0, 0.0, 0.0, 0.0, 0.0, 0.0, 0.0, 0.0, 0.0, 0.0, 0.0, 0.0, 0.0], [-0.0, -0.0, -0.0, -0.0, -0.0, -0.0, -0.0, -0.0, -0.0, -0.0, -0.0, -0.0, -0.0, -0.0, -0.0, -0.0, -0.0]), ny = ([0.0, 0.0, 0.0, 0.0, 0.0, 0.0, 0.0, 0.0, 0.0, 0.0, 0.0, 0.0, 0.0, 0.0, 0.0, 0.0, 0.0], [-0.0, -0.0, -0.0, -0.0, -0.0, -0.0, -0.0, -0.0, -0.0, -0.0, -0.0, -0.0, -0.0, -0.0, -0.0, -0.0, -0.0], [-1.0, -1.0, -1.0, -1.0, -1.0, -1.0, -1.0, -1.0, -1.0, -1.0, -1.0, -1.0, -1.0, -1.0, -1.0, -1.0, -1.0], [1.0, 1.0, 1.0, 1.0, 1.0, 1.0, 1.0, 1.0, 1.0, 1.0, 1.0, 1.0, 1.0, 1.0, 1.0, 1.0, 1.0]), Hf = (\n",
       "  [1 ,  1]  =  0.0394936\n",
       "  [2 ,  2]  =  0.173799\n",
       "  [3 ,  3]  =  0.0784433\n",
       "  [4 ,  4]  =  0.155064\n",
       "  [5 ,  5]  =  0.113961\n",
       "  [6 ,  6]  =  0.126739\n",
       "  [7 ,  7]  =  0.125\n",
       "  [8 ,  8]  =  0.125\n",
       "  [9 ,  9]  =  0.125\n",
       "  [10, 10]  =  0.125\n",
       "  [11, 11]  =  0.125\n",
       "  [12, 12]  =  0.126739\n",
       "  [13, 13]  =  0.113961\n",
       "  [14, 14]  =  0.155064\n",
       "  [15, 15]  =  0.0784433\n",
       "  [16, 16]  =  0.173799\n",
       "  [17, 17]  =  0.0394936, \n",
       "  [1 ,  1]  =  0.0394936\n",
       "  [2 ,  2]  =  0.173799\n",
       "  [3 ,  3]  =  0.0784433\n",
       "  [4 ,  4]  =  0.155064\n",
       "  [5 ,  5]  =  0.113961\n",
       "  [6 ,  6]  =  0.126739\n",
       "  [7 ,  7]  =  0.125\n",
       "  [8 ,  8]  =  0.125\n",
       "  [9 ,  9]  =  0.125\n",
       "  [10, 10]  =  0.125\n",
       "  [11, 11]  =  0.125\n",
       "  [12, 12]  =  0.126739\n",
       "  [13, 13]  =  0.113961\n",
       "  [14, 14]  =  0.155064\n",
       "  [15, 15]  =  0.0784433\n",
       "  [16, 16]  =  0.173799\n",
       "  [17, 17]  =  0.0394936, \n",
       "  [1 ,  1]  =  0.0394936\n",
       "  [2 ,  2]  =  0.173799\n",
       "  [3 ,  3]  =  0.0784433\n",
       "  [4 ,  4]  =  0.155064\n",
       "  [5 ,  5]  =  0.113961\n",
       "  [6 ,  6]  =  0.126739\n",
       "  [7 ,  7]  =  0.125\n",
       "  [8 ,  8]  =  0.125\n",
       "  [9 ,  9]  =  0.125\n",
       "  [10, 10]  =  0.125\n",
       "  [11, 11]  =  0.125\n",
       "  [12, 12]  =  0.126739\n",
       "  [13, 13]  =  0.113961\n",
       "  [14, 14]  =  0.155064\n",
       "  [15, 15]  =  0.0784433\n",
       "  [16, 16]  =  0.173799\n",
       "  [17, 17]  =  0.0394936, \n",
       "  [1 ,  1]  =  0.0394936\n",
       "  [2 ,  2]  =  0.173799\n",
       "  [3 ,  3]  =  0.0784433\n",
       "  [4 ,  4]  =  0.155064\n",
       "  [5 ,  5]  =  0.113961\n",
       "  [6 ,  6]  =  0.126739\n",
       "  [7 ,  7]  =  0.125\n",
       "  [8 ,  8]  =  0.125\n",
       "  [9 ,  9]  =  0.125\n",
       "  [10, 10]  =  0.125\n",
       "  [11, 11]  =  0.125\n",
       "  [12, 12]  =  0.126739\n",
       "  [13, 13]  =  0.113961\n",
       "  [14, 14]  =  0.155064\n",
       "  [15, 15]  =  0.0784433\n",
       "  [16, 16]  =  0.173799\n",
       "  [17, 17]  =  0.0394936), HfI = (\n",
       "  [1 ,  1]  =  25.3205\n",
       "  [2 ,  2]  =  5.75377\n",
       "  [3 ,  3]  =  12.7481\n",
       "  [4 ,  4]  =  6.44896\n",
       "  [5 ,  5]  =  8.77491\n",
       "  [6 ,  6]  =  7.89023\n",
       "  [7 ,  7]  =  8.0\n",
       "  [8 ,  8]  =  8.0\n",
       "  [9 ,  9]  =  8.0\n",
       "  [10, 10]  =  8.0\n",
       "  [11, 11]  =  8.0\n",
       "  [12, 12]  =  7.89023\n",
       "  [13, 13]  =  8.77491\n",
       "  [14, 14]  =  6.44896\n",
       "  [15, 15]  =  12.7481\n",
       "  [16, 16]  =  5.75377\n",
       "  [17, 17]  =  25.3205, \n",
       "  [1 ,  1]  =  25.3205\n",
       "  [2 ,  2]  =  5.75377\n",
       "  [3 ,  3]  =  12.7481\n",
       "  [4 ,  4]  =  6.44896\n",
       "  [5 ,  5]  =  8.77491\n",
       "  [6 ,  6]  =  7.89023\n",
       "  [7 ,  7]  =  8.0\n",
       "  [8 ,  8]  =  8.0\n",
       "  [9 ,  9]  =  8.0\n",
       "  [10, 10]  =  8.0\n",
       "  [11, 11]  =  8.0\n",
       "  [12, 12]  =  7.89023\n",
       "  [13, 13]  =  8.77491\n",
       "  [14, 14]  =  6.44896\n",
       "  [15, 15]  =  12.7481\n",
       "  [16, 16]  =  5.75377\n",
       "  [17, 17]  =  25.3205, \n",
       "  [1 ,  1]  =  25.3205\n",
       "  [2 ,  2]  =  5.75377\n",
       "  [3 ,  3]  =  12.7481\n",
       "  [4 ,  4]  =  6.44896\n",
       "  [5 ,  5]  =  8.77491\n",
       "  [6 ,  6]  =  7.89023\n",
       "  [7 ,  7]  =  8.0\n",
       "  [8 ,  8]  =  8.0\n",
       "  [9 ,  9]  =  8.0\n",
       "  [10, 10]  =  8.0\n",
       "  [11, 11]  =  8.0\n",
       "  [12, 12]  =  7.89023\n",
       "  [13, 13]  =  8.77491\n",
       "  [14, 14]  =  6.44896\n",
       "  [15, 15]  =  12.7481\n",
       "  [16, 16]  =  5.75377\n",
       "  [17, 17]  =  25.3205, \n",
       "  [1 ,  1]  =  25.3205\n",
       "  [2 ,  2]  =  5.75377\n",
       "  [3 ,  3]  =  12.7481\n",
       "  [4 ,  4]  =  6.44896\n",
       "  [5 ,  5]  =  8.77491\n",
       "  [6 ,  6]  =  7.89023\n",
       "  [7 ,  7]  =  8.0\n",
       "  [8 ,  8]  =  8.0\n",
       "  [9 ,  9]  =  8.0\n",
       "  [10, 10]  =  8.0\n",
       "  [11, 11]  =  8.0\n",
       "  [12, 12]  =  7.89023\n",
       "  [13, 13]  =  8.77491\n",
       "  [14, 14]  =  6.44896\n",
       "  [15, 15]  =  12.7481\n",
       "  [16, 16]  =  5.75377\n",
       "  [17, 17]  =  25.3205), τ = (\n",
       "  [1 ,  1]  =  170.332\n",
       "  [2 ,  2]  =  170.332\n",
       "  [3 ,  3]  =  170.332\n",
       "  [4 ,  4]  =  170.332\n",
       "  [5 ,  5]  =  170.332\n",
       "  [6 ,  6]  =  170.332\n",
       "  [7 ,  7]  =  170.332\n",
       "  [8 ,  8]  =  170.332\n",
       "  [9 ,  9]  =  170.332\n",
       "  [10, 10]  =  170.332\n",
       "  [11, 11]  =  170.332\n",
       "  [12, 12]  =  170.332\n",
       "  [13, 13]  =  170.332\n",
       "  [14, 14]  =  170.332\n",
       "  [15, 15]  =  170.332\n",
       "  [16, 16]  =  170.332\n",
       "  [17, 17]  =  170.332, \n",
       "  [1 ,  1]  =  170.332\n",
       "  [2 ,  2]  =  170.332\n",
       "  [3 ,  3]  =  170.332\n",
       "  [4 ,  4]  =  170.332\n",
       "  [5 ,  5]  =  170.332\n",
       "  [6 ,  6]  =  170.332\n",
       "  [7 ,  7]  =  170.332\n",
       "  [8 ,  8]  =  170.332\n",
       "  [9 ,  9]  =  170.332\n",
       "  [10, 10]  =  170.332\n",
       "  [11, 11]  =  170.332\n",
       "  [12, 12]  =  170.332\n",
       "  [13, 13]  =  170.332\n",
       "  [14, 14]  =  170.332\n",
       "  [15, 15]  =  170.332\n",
       "  [16, 16]  =  170.332\n",
       "  [17, 17]  =  170.332, \n",
       "  [1 ,  1]  =  170.332\n",
       "  [2 ,  2]  =  170.332\n",
       "  [3 ,  3]  =  170.332\n",
       "  [4 ,  4]  =  170.332\n",
       "  [5 ,  5]  =  170.332\n",
       "  [6 ,  6]  =  170.332\n",
       "  [7 ,  7]  =  170.332\n",
       "  [8 ,  8]  =  170.332\n",
       "  [9 ,  9]  =  170.332\n",
       "  [10, 10]  =  170.332\n",
       "  [11, 11]  =  170.332\n",
       "  [12, 12]  =  170.332\n",
       "  [13, 13]  =  170.332\n",
       "  [14, 14]  =  170.332\n",
       "  [15, 15]  =  170.332\n",
       "  [16, 16]  =  170.332\n",
       "  [17, 17]  =  170.332, \n",
       "  [1 ,  1]  =  170.332\n",
       "  [2 ,  2]  =  170.332\n",
       "  [3 ,  3]  =  170.332\n",
       "  [4 ,  4]  =  170.332\n",
       "  [5 ,  5]  =  170.332\n",
       "  [6 ,  6]  =  170.332\n",
       "  [7 ,  7]  =  170.332\n",
       "  [8 ,  8]  =  170.332\n",
       "  [9 ,  9]  =  170.332\n",
       "  [10, 10]  =  170.332\n",
       "  [11, 11]  =  170.332\n",
       "  [12, 12]  =  170.332\n",
       "  [13, 13]  =  170.332\n",
       "  [14, 14]  =  170.332\n",
       "  [15, 15]  =  170.332\n",
       "  [16, 16]  =  170.332\n",
       "  [17, 17]  =  170.332), bctype = (0, 0, 1, 0))"
      ]
     },
     "execution_count": 339,
     "metadata": {},
     "output_type": "execute_result"
    }
   ],
   "source": [
    "lop[1]"
   ]
  },
  {
   "cell_type": "code",
   "execution_count": 340,
   "metadata": {},
   "outputs": [],
   "source": [
    "FToδstarts = bcstarts(FToB, FToE, FToLF, BC_JUMP_INTERFACE, Nr, Ns);"
   ]
  },
  {
   "cell_type": "code",
   "execution_count": 341,
   "metadata": {},
   "outputs": [
    {
     "data": {
      "text/plain": [
       "0"
      ]
     },
     "execution_count": 341,
     "metadata": {},
     "output_type": "execute_result"
    }
   ],
   "source": [
    "VNp = vstarts[nelems+1] - 1\n",
    "λNp = FToλstarts[nfaces+1] - 1\n",
    "δNp = FToδstarts[nfaces+1] - 1"
   ]
  },
  {
   "cell_type": "code",
   "execution_count": 342,
   "metadata": {},
   "outputs": [
    {
     "data": {
      "text/plain": [
       "257-element Array{Int64,1}:\n",
       "     1\n",
       "   290\n",
       "   579\n",
       "   868\n",
       "  1157\n",
       "  1446\n",
       "  1735\n",
       "  2024\n",
       "  2313\n",
       "  2602\n",
       "  2891\n",
       "  3180\n",
       "  3469\n",
       "     ⋮\n",
       " 70806\n",
       " 71095\n",
       " 71384\n",
       " 71673\n",
       " 71962\n",
       " 72251\n",
       " 72540\n",
       " 72829\n",
       " 73118\n",
       " 73407\n",
       " 73696\n",
       " 73985"
      ]
     },
     "execution_count": 342,
     "metadata": {},
     "output_type": "execute_result"
    }
   ],
   "source": [
    "vstarts"
   ]
  },
  {
   "cell_type": "code",
   "execution_count": 343,
   "metadata": {},
   "outputs": [
    {
     "data": {
      "text/plain": [
       "BenchmarkTools.Trial: \n",
       "  memory estimate:  2.06 GiB\n",
       "  allocs estimate:  9583222\n",
       "  --------------\n",
       "  minimum time:     4.022 s (2.56% GC)\n",
       "  median time:      4.174 s (2.49% GC)\n",
       "  mean time:        4.174 s (2.49% GC)\n",
       "  maximum time:     4.326 s (2.42% GC)\n",
       "  --------------\n",
       "  samples:          2\n",
       "  evals/sample:     1"
      ]
     },
     "execution_count": 343,
     "metadata": {},
     "output_type": "execute_result"
    }
   ],
   "source": [
    "@benchmark B = assembleλmatrix(FToλstarts,vstarts,EToF,FToB,locfactors,D,FbarT)"
   ]
  },
  {
   "cell_type": "code",
   "execution_count": 344,
   "metadata": {},
   "outputs": [
    {
     "data": {
      "text/plain": [
       "BenchmarkTools.Trial: \n",
       "  memory estimate:  2.06 GiB\n",
       "  allocs estimate:  9583222\n",
       "  --------------\n",
       "  minimum time:     4.081 s (2.53% GC)\n",
       "  median time:      4.108 s (2.51% GC)\n",
       "  mean time:        4.108 s (2.51% GC)\n",
       "  maximum time:     4.135 s (2.50% GC)\n",
       "  --------------\n",
       "  samples:          2\n",
       "  evals/sample:     1"
      ]
     },
     "execution_count": 344,
     "metadata": {},
     "output_type": "execute_result"
    }
   ],
   "source": [
    "@benchmark B = threaded_assembleλmatrix(FToλstarts,vstarts,EToF,FToB,locfactors,D,FbarT)"
   ]
  },
  {
   "cell_type": "markdown",
   "metadata": {},
   "source": [
    " assembleλmatrix can not be parallelized easily with @threads despite it has for loop over elements"
   ]
  },
  {
   "cell_type": "code",
   "execution_count": 345,
   "metadata": {},
   "outputs": [
    {
     "data": {
      "text/plain": [
       "408×408 SparseMatrixCSC{Float64,Int64} with 36992 stored entries:\n",
       "  [1  ,   1]  =  6.95753\n",
       "  [2  ,   1]  =  0.808076\n",
       "  [3  ,   1]  =  -0.76754\n",
       "  [4  ,   1]  =  0.245415\n",
       "  [5  ,   1]  =  0.0275435\n",
       "  [6  ,   1]  =  -0.022875\n",
       "  [7  ,   1]  =  -0.000761631\n",
       "  [8  ,   1]  =  -1.48435e-5\n",
       "  [9  ,   1]  =  -1.12919e-5\n",
       "  [10 ,   1]  =  -2.60621e-6\n",
       "  [11 ,   1]  =  -8.78924e-7\n",
       "  [12 ,   1]  =  -3.7289e-7\n",
       "  ⋮\n",
       "  [396, 408]  =  -1.46664e-7\n",
       "  [397, 408]  =  -3.7289e-7\n",
       "  [398, 408]  =  -8.78924e-7\n",
       "  [399, 408]  =  -2.60621e-6\n",
       "  [400, 408]  =  -1.12919e-5\n",
       "  [401, 408]  =  -1.48435e-5\n",
       "  [402, 408]  =  -0.000761631\n",
       "  [403, 408]  =  -0.022875\n",
       "  [404, 408]  =  0.0275435\n",
       "  [405, 408]  =  0.245415\n",
       "  [406, 408]  =  -0.76754\n",
       "  [407, 408]  =  0.808076\n",
       "  [408, 408]  =  6.95753"
      ]
     },
     "execution_count": 345,
     "metadata": {},
     "output_type": "execute_result"
    }
   ],
   "source": [
    "B"
   ]
  },
  {
   "cell_type": "code",
   "execution_count": 293,
   "metadata": {},
   "outputs": [
    {
     "data": {
      "text/plain": [
       "SuiteSparse.CHOLMOD.Factor{Float64}\n",
       "type:    LLt\n",
       "method:  supernodal\n",
       "maxnnz:  0\n",
       "nnz:     30549\n",
       "success: true\n"
      ]
     },
     "execution_count": 293,
     "metadata": {},
     "output_type": "execute_result"
    }
   ],
   "source": [
    "BF = cholesky(Symmetric(B))"
   ]
  },
  {
   "cell_type": "code",
   "execution_count": 294,
   "metadata": {},
   "outputs": [
    {
     "data": {
      "text/latex": [
       "\\begin{verbatim}\n",
       "Symmetric(A, uplo=:U)\n",
       "\\end{verbatim}\n",
       "Construct a \\texttt{Symmetric} view of the upper (if \\texttt{uplo = :U}) or lower (if \\texttt{uplo = :L}) triangle of the matrix \\texttt{A}.\n",
       "\n",
       "\\section{Examples}\n",
       "\\begin{verbatim}\n",
       "julia> A = [1 0 2 0 3; 0 4 0 5 0; 6 0 7 0 8; 0 9 0 1 0; 2 0 3 0 4]\n",
       "5×5 Array{Int64,2}:\n",
       " 1  0  2  0  3\n",
       " 0  4  0  5  0\n",
       " 6  0  7  0  8\n",
       " 0  9  0  1  0\n",
       " 2  0  3  0  4\n",
       "\n",
       "julia> Supper = Symmetric(A)\n",
       "5×5 Symmetric{Int64,Array{Int64,2}}:\n",
       " 1  0  2  0  3\n",
       " 0  4  0  5  0\n",
       " 2  0  7  0  8\n",
       " 0  5  0  1  0\n",
       " 3  0  8  0  4\n",
       "\n",
       "julia> Slower = Symmetric(A, :L)\n",
       "5×5 Symmetric{Int64,Array{Int64,2}}:\n",
       " 1  0  6  0  2\n",
       " 0  4  0  9  0\n",
       " 6  0  7  0  3\n",
       " 0  9  0  1  0\n",
       " 2  0  3  0  4\n",
       "\\end{verbatim}\n",
       "Note that \\texttt{Supper} will not be equal to \\texttt{Slower} unless \\texttt{A} is itself symmetric (e.g. if \\texttt{A == transpose(A)}).\n",
       "\n"
      ],
      "text/markdown": [
       "```\n",
       "Symmetric(A, uplo=:U)\n",
       "```\n",
       "\n",
       "Construct a `Symmetric` view of the upper (if `uplo = :U`) or lower (if `uplo = :L`) triangle of the matrix `A`.\n",
       "\n",
       "# Examples\n",
       "\n",
       "```jldoctest\n",
       "julia> A = [1 0 2 0 3; 0 4 0 5 0; 6 0 7 0 8; 0 9 0 1 0; 2 0 3 0 4]\n",
       "5×5 Array{Int64,2}:\n",
       " 1  0  2  0  3\n",
       " 0  4  0  5  0\n",
       " 6  0  7  0  8\n",
       " 0  9  0  1  0\n",
       " 2  0  3  0  4\n",
       "\n",
       "julia> Supper = Symmetric(A)\n",
       "5×5 Symmetric{Int64,Array{Int64,2}}:\n",
       " 1  0  2  0  3\n",
       " 0  4  0  5  0\n",
       " 2  0  7  0  8\n",
       " 0  5  0  1  0\n",
       " 3  0  8  0  4\n",
       "\n",
       "julia> Slower = Symmetric(A, :L)\n",
       "5×5 Symmetric{Int64,Array{Int64,2}}:\n",
       " 1  0  6  0  2\n",
       " 0  4  0  9  0\n",
       " 6  0  7  0  3\n",
       " 0  9  0  1  0\n",
       " 2  0  3  0  4\n",
       "```\n",
       "\n",
       "Note that `Supper` will not be equal to `Slower` unless `A` is itself symmetric (e.g. if `A == transpose(A)`).\n"
      ],
      "text/plain": [
       "\u001b[36m  Symmetric(A, uplo=:U)\u001b[39m\n",
       "\n",
       "  Construct a \u001b[36mSymmetric\u001b[39m view of the upper (if \u001b[36muplo = :U\u001b[39m) or lower (if \u001b[36muplo =\n",
       "  :L\u001b[39m) triangle of the matrix \u001b[36mA\u001b[39m.\n",
       "\n",
       "\u001b[1m  Examples\u001b[22m\n",
       "\u001b[1m  ≡≡≡≡≡≡≡≡≡≡\u001b[22m\n",
       "\n",
       "\u001b[36m  julia> A = [1 0 2 0 3; 0 4 0 5 0; 6 0 7 0 8; 0 9 0 1 0; 2 0 3 0 4]\u001b[39m\n",
       "\u001b[36m  5×5 Array{Int64,2}:\u001b[39m\n",
       "\u001b[36m   1  0  2  0  3\u001b[39m\n",
       "\u001b[36m   0  4  0  5  0\u001b[39m\n",
       "\u001b[36m   6  0  7  0  8\u001b[39m\n",
       "\u001b[36m   0  9  0  1  0\u001b[39m\n",
       "\u001b[36m   2  0  3  0  4\u001b[39m\n",
       "\u001b[36m  \u001b[39m\n",
       "\u001b[36m  julia> Supper = Symmetric(A)\u001b[39m\n",
       "\u001b[36m  5×5 Symmetric{Int64,Array{Int64,2}}:\u001b[39m\n",
       "\u001b[36m   1  0  2  0  3\u001b[39m\n",
       "\u001b[36m   0  4  0  5  0\u001b[39m\n",
       "\u001b[36m   2  0  7  0  8\u001b[39m\n",
       "\u001b[36m   0  5  0  1  0\u001b[39m\n",
       "\u001b[36m   3  0  8  0  4\u001b[39m\n",
       "\u001b[36m  \u001b[39m\n",
       "\u001b[36m  julia> Slower = Symmetric(A, :L)\u001b[39m\n",
       "\u001b[36m  5×5 Symmetric{Int64,Array{Int64,2}}:\u001b[39m\n",
       "\u001b[36m   1  0  6  0  2\u001b[39m\n",
       "\u001b[36m   0  4  0  9  0\u001b[39m\n",
       "\u001b[36m   6  0  7  0  3\u001b[39m\n",
       "\u001b[36m   0  9  0  1  0\u001b[39m\n",
       "\u001b[36m   2  0  3  0  4\u001b[39m\n",
       "\n",
       "  Note that \u001b[36mSupper\u001b[39m will not be equal to \u001b[36mSlower\u001b[39m unless \u001b[36mA\u001b[39m is itself symmetric\n",
       "  (e.g. if \u001b[36mA == transpose(A)\u001b[39m)."
      ]
     },
     "execution_count": 294,
     "metadata": {},
     "output_type": "execute_result"
    }
   ],
   "source": [
    "@doc Symmetric"
   ]
  },
  {
   "cell_type": "code",
   "execution_count": 295,
   "metadata": {},
   "outputs": [
    {
     "data": {
      "text/plain": [
       "([0.0, 0.0, 0.0, 0.0, 0.0, 0.0, 0.0, 0.0, 0.0, 0.0  …  0.0, 0.0, 0.0, 0.0, 0.0, 0.0, 0.0, 0.0, 0.0, 0.0], [0.0, 0.0, 0.0, 0.0, 0.0, 0.0, 0.0, 0.0, 0.0, 0.0  …  0.0, 0.0, 0.0, 0.0, 0.0, 0.0, 0.0, 0.0, 0.0, 0.0], [0.0, 0.0, 0.0, 0.0, 0.0, 0.0, 0.0, 0.0, 0.0, 0.0  …  0.0, 0.0, 0.0, 0.0, 0.0, 0.0, 0.0, 0.0, 0.0, 0.0])"
      ]
     },
     "execution_count": 295,
     "metadata": {},
     "output_type": "execute_result"
    }
   ],
   "source": [
    "(bλ,λ,gδ) = (zeros(λNp), zeros(λNp), zeros(λNp)) "
   ]
  },
  {
   "cell_type": "code",
   "execution_count": 296,
   "metadata": {},
   "outputs": [
    {
     "data": {
      "text/plain": [
       "([0.0, 0.0, 0.0, 0.0, 0.0, 0.0, 0.0, 0.0, 0.0, 0.0  …  0.0, 0.0, 0.0, 0.0, 0.0, 0.0, 0.0, 0.0, 0.0, 0.0], [0.0, 0.0, 0.0, 0.0, 0.0, 0.0, 0.0, 0.0, 0.0, 0.0  …  0.0, 0.0, 0.0, 0.0, 0.0, 0.0, 0.0, 0.0, 0.0, 0.0], [0.0, 0.0, 0.0, 0.0, 0.0, 0.0, 0.0, 0.0, 0.0, 0.0  …  0.0, 0.0, 0.0, 0.0, 0.0, 0.0, 0.0, 0.0, 0.0, 0.0])"
      ]
     },
     "execution_count": 296,
     "metadata": {},
     "output_type": "execute_result"
    }
   ],
   "source": [
    "(Δ,u,g) = (zeros(VNp), zeros(VNp), zeros(VNp))"
   ]
  },
  {
   "cell_type": "code",
   "execution_count": 297,
   "metadata": {},
   "outputs": [
    {
     "data": {
      "text/plain": [
       "0-element Array{Float64,1}"
      ]
     },
     "execution_count": 297,
     "metadata": {},
     "output_type": "execute_result"
    }
   ],
   "source": [
    "δ = zeros(δNp)"
   ]
  },
  {
   "cell_type": "code",
   "execution_count": 298,
   "metadata": {},
   "outputs": [],
   "source": [
    "for f = 1:nfaces\n",
    "    if FToB[f] == BC_JUMP_INTERFACE\n",
    "        (e1, e2) = FToE[:,f]\n",
    "        (lf1, lf2) = FToLF[:,f]\n",
    "        (xf, yf) = lop[e1].facecoord\n",
    "        @views δ[FToδstarts[f]:(FToδstarts[f+1]-1)] = \n",
    "            vex(xf[lf1],yf[lf1],e2) - vex(xf[lf1],yf[lf1],e1)\n",
    "    end\n",
    "end"
   ]
  },
  {
   "cell_type": "code",
   "execution_count": 299,
   "metadata": {},
   "outputs": [
    {
     "data": {
      "text/plain": [
       "#865 (generic function with 1 method)"
      ]
     },
     "execution_count": 299,
     "metadata": {},
     "output_type": "execute_result"
    }
   ],
   "source": [
    "bc_Dirichlet = (lf, x, y, e, δ) -> vex(x,y,e)\n",
    "bc_Neumann   = (lf, x, y, nx, ny, e, δ) -> (nx .* vex_x(x,y,e) + ny .* vex(x,y,e))"
   ]
  },
  {
   "cell_type": "code",
   "execution_count": 300,
   "metadata": {},
   "outputs": [
    {
     "data": {
      "text/plain": [
       "#867 (generic function with 1 method)"
      ]
     },
     "execution_count": 300,
     "metadata": {},
     "output_type": "execute_result"
    }
   ],
   "source": [
    "in_jump      = (lf, x, y, e, δ) -> begin\n",
    "    f = EToF[lf, e]\n",
    "    if EToS[lf, e] == 1\n",
    "        if EToO[lf, e]\n",
    "            return -δ[FToδstarts[f]:(FToδstarts[f+1]-1)]\n",
    "        else\n",
    "            error(\"shouldn't get here\")\n",
    "        end\n",
    "    else\n",
    "        if EToO[lf,e]\n",
    "            return δ[FToδstarts[f]:(FToδstarts[f+1]-1)]\n",
    "        else\n",
    "            return δ[(FToδstarts[f+1]-1):-1:FToδstarts[f]]\n",
    "        end\n",
    "    end\n",
    "end\n",
    "    "
   ]
  },
  {
   "cell_type": "code",
   "execution_count": 301,
   "metadata": {},
   "outputs": [
    {
     "data": {
      "text/plain": [
       "BenchmarkTools.Trial: \n",
       "  memory estimate:  11.24 MiB\n",
       "  allocs estimate:  19945\n",
       "  --------------\n",
       "  minimum time:     5.919 ms (0.00% GC)\n",
       "  median time:      6.422 ms (0.00% GC)\n",
       "  mean time:        7.234 ms (8.07% GC)\n",
       "  maximum time:     36.453 ms (0.00% GC)\n",
       "  --------------\n",
       "  samples:          691\n",
       "  evals/sample:     1"
      ]
     },
     "execution_count": 301,
     "metadata": {},
     "output_type": "execute_result"
    }
   ],
   "source": [
    "@benchmark for e = 1:nelems\n",
    "      gδe = ntuple(4) do lf\n",
    "        f = EToF[lf, e]\n",
    "        if EToO[lf, e]\n",
    "          return @view gδ[FToλstarts[f]:(FToλstarts[f+1]-1)]\n",
    "        else\n",
    "          return  @view gδ[(FToλstarts[f+1]-1):-1:FToλstarts[f]]\n",
    "        end\n",
    "      end\n",
    "      locbcarray!((@view g[vstarts[e]:vstarts[e+1]-1]), gδe, lop[e],\n",
    "                  FToB[EToF[:,e]], bc_Dirichlet, bc_Neumann, in_jump, (e, δ))\n",
    "\n",
    "      source = (x, y, e) -> (-vex_xx(x, y, e)  - vex_yy(x, y, e))\n",
    "      locsourcearray!((@view g[vstarts[e]:vstarts[e+1]-1]), source, lop[e], e)\n",
    "end"
   ]
  },
  {
   "cell_type": "code",
   "execution_count": 302,
   "metadata": {},
   "outputs": [
    {
     "data": {
      "text/plain": [
       "BenchmarkTools.Trial: \n",
       "  memory estimate:  11.23 MiB\n",
       "  allocs estimate:  19463\n",
       "  --------------\n",
       "  minimum time:     1.589 ms (0.00% GC)\n",
       "  median time:      2.583 ms (0.00% GC)\n",
       "  mean time:        4.062 ms (31.89% GC)\n",
       "  maximum time:     85.767 ms (97.36% GC)\n",
       "  --------------\n",
       "  samples:          1229\n",
       "  evals/sample:     1"
      ]
     },
     "execution_count": 302,
     "metadata": {},
     "output_type": "execute_result"
    }
   ],
   "source": [
    "@benchmark @threads for e = 1:nelems\n",
    "      gδe = ntuple(4) do lf\n",
    "        f = EToF[lf, e]\n",
    "        if EToO[lf, e]\n",
    "          return @view gδ[FToλstarts[f]:(FToλstarts[f+1]-1)]\n",
    "        else\n",
    "          return  @view gδ[(FToλstarts[f+1]-1):-1:FToλstarts[f]]\n",
    "        end\n",
    "      end\n",
    "      locbcarray!((@view g[vstarts[e]:vstarts[e+1]-1]), gδe, lop[e],\n",
    "                  FToB[EToF[:,e]], bc_Dirichlet, bc_Neumann, in_jump, (e, δ))\n",
    "\n",
    "      source = (x, y, e) -> (-vex_xx(x, y, e)  - vex_yy(x, y, e))\n",
    "      locsourcearray!((@view g[vstarts[e]:vstarts[e+1]-1]), source, lop[e], e)\n",
    "end"
   ]
  },
  {
   "cell_type": "code",
   "execution_count": 303,
   "metadata": {},
   "outputs": [
    {
     "data": {
      "text/plain": [
       "8160-element Array{Float64,1}:\n",
       "      -1.0389409911639342e6 \n",
       " -448635.738116863          \n",
       "   86402.04556066295        \n",
       " -107582.01096304778        \n",
       "  -16053.450446613082       \n",
       "  -15914.863437247423       \n",
       "   -8850.542573052297       \n",
       "   -3837.788715803652       \n",
       "    -347.1372940248865      \n",
       "     833.4804468987234      \n",
       "    1356.5196469489915      \n",
       "    1602.376575113663       \n",
       "    1465.8418576583038      \n",
       "       ⋮                    \n",
       "       0.2112277813018417   \n",
       "       0.1762674168596875   \n",
       "       0.128668873187123    \n",
       "       0.06952838437158883  \n",
       "       0.09518670724196997  \n",
       "       0.11070764115420459  \n",
       "       0.11536012214862185  \n",
       "       0.09881313730423052  \n",
       "       0.11936090364606834  \n",
       "       0.04891479027127519  \n",
       "       0.0692471576776887   \n",
       "       0.0013823466628772494"
      ]
     },
     "execution_count": 303,
     "metadata": {},
     "output_type": "execute_result"
    }
   ],
   "source": [
    "LocalToGLobalRHS!(bλ, g, gδ,  u, locfactors, FbarT, vstarts)"
   ]
  },
  {
   "cell_type": "code",
   "execution_count": 304,
   "metadata": {},
   "outputs": [
    {
     "data": {
      "text/plain": [
       "BenchmarkTools.Trial: \n",
       "  memory estimate:  2.54 MiB\n",
       "  allocs estimate:  3072\n",
       "  --------------\n",
       "  minimum time:     6.998 ms (0.00% GC)\n",
       "  median time:      7.230 ms (0.00% GC)\n",
       "  mean time:        7.549 ms (0.83% GC)\n",
       "  maximum time:     19.767 ms (0.00% GC)\n",
       "  --------------\n",
       "  samples:          661\n",
       "  evals/sample:     1"
      ]
     },
     "execution_count": 304,
     "metadata": {},
     "output_type": "execute_result"
    }
   ],
   "source": [
    "@benchmark LocalToGLobalRHS!(bλ, g, gδ,  u, locfactors, FbarT, vstarts)"
   ]
  },
  {
   "cell_type": "code",
   "execution_count": 305,
   "metadata": {},
   "outputs": [
    {
     "data": {
      "text/plain": [
       "BenchmarkTools.Trial: \n",
       "  memory estimate:  2.54 MiB\n",
       "  allocs estimate:  3102\n",
       "  --------------\n",
       "  minimum time:     4.522 ms (0.00% GC)\n",
       "  median time:      4.723 ms (0.00% GC)\n",
       "  mean time:        5.111 ms (0.74% GC)\n",
       "  maximum time:     121.750 ms (13.63% GC)\n",
       "  --------------\n",
       "  samples:          976\n",
       "  evals/sample:     1"
      ]
     },
     "execution_count": 305,
     "metadata": {},
     "output_type": "execute_result"
    }
   ],
   "source": [
    "@benchmark threaded_LocalToGLobalRHS!(bλ, g, gδ, u, locfactors, FbarT, vstarts)"
   ]
  },
  {
   "cell_type": "markdown",
   "metadata": {},
   "source": [
    "Conclusion: threaded_LocalToGLobalRHS! would help but not too much"
   ]
  },
  {
   "cell_type": "code",
   "execution_count": 306,
   "metadata": {},
   "outputs": [
    {
     "name": "stdout",
     "output_type": "stream",
     "text": [
      "bλ = [-1.0389409911639342e6, -448635.738116863, 86402.04556066295, -107582.01096304778, -16053.450446613082, -15914.863437247423, -8850.542573052297, -3837.788715803652, -347.1372940248865, 833.4804468987234, 1356.5196469489915, 1602.376575113663, 1465.8418576583038, 1840.8859484807483, 773.7997640783578, 1115.0768855251658, 23.20914750720026, -734642.2201046911, -317233.37270506594, 61095.47232433375, -76071.96948565662, -11351.503672242363, -11253.507858135536, -6258.278670585539, -2713.72642570599, -245.46313460774974, 589.3596759884795, 959.2042411704131, 1133.0513422773452, 1036.5067176972711, 1301.7029375617658, 547.1590604603575, 788.4784272992205, 16.41134558790014, 23.209090721864623, 946.1851411989511, 623.2457145563852, 1415.324388141524, 1091.5295140951443, 1183.2006039777464, 1048.3692005037983, 818.6164946612431, 498.2697997028187, 767.9577932477782, 949.4027624618892, 1039.070165245374, 930.5091175249927, 1171.7365714745124, 500.2896262514, 736.3393793614297, 16.406388342088526, 4.82539989410714, 203.11706307580977, 134.97723503879638, 308.449362930041, 238.55049468046792, 258.48810896902035, 228.20519010910687, 176.99584029054165, 106.77153255735178, 165.89284828718587, 206.573577675997, 227.1212159953772, 203.70675824854055, 256.08493243232533, 108.74685329419569, 158.69108041300524, 3.4111481777285633, 4.82698582071789, 245.24140109234193, 173.85408039872925, 425.57344129310394, 353.2410366525382, 413.3744873438002, 397.56846045939017, 342.5793928679723, 251.0348672297799, 465.65966546150094, 638.5658642181368, 765.7835172975442, 749.446672545651, 1030.25040667844, 483.247372468265, 781.9055422738759, 23.25038427273153, 3.4131944065209305, 173.41185774008528, 122.93339918689287, 300.9258662312495, 249.77913241037612, 292.2999031703139, 281.1233543767308, 242.24021179171353, 177.50845693244204, 329.2711071728867, 451.53425282289265, 541.4907180019796, 529.9388242947239, 728.4970488825229, 341.70749406289167, 552.8907111892025, 16.44050438444151, -9.817450671856243e-17, 4.263256414560601e-14, 0.0, 1.0658141036401503e-14, 2.1316282072803006e-14, 3.552713678800501e-14, 6.394884621840902e-14, 8.881784197001252e-14, 6.394884621840902e-14, 1.2079226507921703e-13, 2.2737367544323206e-13, 1.2789769243681803e-13, 1.1368683772161603e-13, 2.2026824808563106e-13, 4.618527782440651e-14, 2.1316282072803006e-13, 4.7048953275008465e-15, -0.0013078778991426723, 21.306015071901438, 18.81403975525253, 53.70942163515068, 49.53436558167507, 62.70979499431154, 63.93396506821999, 57.612075657898835, 44.226216860615594, 84.41706953532044, 116.15729718023253, 138.43617342078545, 133.65458663938867, 180.12833992868025, 82.13978310929109, 128.5598249381965, 3.412997796391456, -0.006953818923184021, 95.15599560337057, 84.27066000291174, 241.76136276628506, 224.4090998205238, 286.2665159695186, 294.2890623242877, 267.4398318798771, 206.39010875783325, 389.7407558844753, 533.2151792648202, 634.228175907988, 613.1467250388708, 829.834373392632, 381.11291596515065, 601.7684798380285, 16.416222527119995, -1.8735590856522322e-10, -7.185008144006133e-11, 2.000888343900442e-11, -1.6825651982799172e-11, 1.1368683772161603e-12, 0.0, 1.1368683772161603e-12, -7.958078640513122e-13, -2.2737367544323206e-13, 1.9806378759312793e-13, 2.984279490192421e-13, 4.263256414560601e-13, 1.6342482922482304e-13, 2.5579538487363607e-13, 1.9184653865522705e-13, 2.3447910280083306e-13, -6.661338147750939e-16, 216013.3585748927, 94047.12401350659, -17600.909546159077, 22866.833160032576, 3530.025802056449, 3335.9179997118777, 1725.2097777778506, 605.423747617968, -132.1479575165161, -573.9223049748751, -815.631425100206, -945.3593609636731, -873.4385779460122, -1120.9749398684703, -484.83612002036193, -720.3070680848377, -16.404034982080912, 734642.2224785793, 317254.1061383885, -61078.027760406105, 76117.62381297357, 11388.636086868708, 11293.102028380135, 6290.290133642559, 2734.3651968251684, 253.85609133054786, -575.6139692521203, -939.9478784059801, -1110.3909324815916, -1015.8978196867655, -1276.8733925246818, -537.7960997442019, -777.43102903751, -16.410283352236704, -3.412973589420592, -171.11532926407983, -120.9870308751323, -295.76431091566496, -245.4949634128975, -287.5892667713764, -277.12034983458443, -239.38276009316004, -175.76373264231637, -324.9807281725294, -444.87972343904534, -533.2598986594714, -522.2197536677671, -719.0064466546091, -338.0811255014698, -548.5806538508169, -16.440010901499555, 44904.765042537554, 19544.05192320564, -3664.2868217690934, 4739.315292519391, 722.1764725090101, 680.9443576984132, 348.3652364640626, 119.03304382544825, -30.66227863666722, -125.55683293666863, -178.76524856410248, -207.64065358042467, -191.84295858482983, -245.5326258934365, -105.5343849457368, -155.3582903161371, -3.4106589622441295, 0.0013078778991457074, -21.306015071901367, -18.81403975525248, -53.70942163515059, -49.53436558167499, -62.709794994311466, -63.93396506821992, -57.61207565789873, -44.2262168606156, -84.41706953532048, -116.15729718023242, -138.43617342078548, -133.65458663938858, -180.12833992868033, -82.13978310929103, -128.5598249381965, -3.412997796391458, 0.006953818923196776, -95.15599560337023, -84.27066000291137, -241.76136276628404, -224.40909982052318, -286.26651596951814, -294.28906232428733, -267.43983187987675, -206.39010875783293, -389.7407558844748, -533.2151792648202, -634.228175907988, -613.1467250388712, -829.8343733926318, -381.11291596515036, -601.7684798380286, -16.416222527119974, -0.14748847579740537, -7.394581006234047, -5.228334234777426, -12.781157240084767, -10.608815612543221, -12.427875742464666, -11.975470058060955, -10.34467719034462, -7.59544507215093, -14.0436981098822, -19.225004671266188, -23.044258666735328, -22.56716942718387, -31.071095065203025, -14.60981390712541, -23.70632488725393, -0.7104373940742494, 1940.5176007903322, 844.5780021744772, -158.34874239406946, 204.80509656640544, 31.20818368502506, 29.426376243610438, 15.054279255700926, 5.14390213154707, -1.325041815015091, -5.425821602279749, -7.725173729774317, -8.972997465430074, -8.290314788840409, -10.610463759539508, -4.560570159576362, -6.7136638283615415, -0.14738845065236322, 9334.78487914925, 4062.8098197869626, -761.7305019704221, 985.2069972579204, 150.12576080218838, 141.55444500742348, 72.41802821338673, 24.744542290073994, -6.374062412010951, -26.10070500226027, -37.161649496056235, -43.16425732331777, -39.88023870679457, -51.04122561061593, -21.938446396247073, -32.29582023020877, -0.7090064423793774, 5.651872536402479e-5, -0.9207195987010182, -0.8130312062083411, -2.32100263552318, -2.140581476468431, -2.70994538804825, -2.762846757703114, -2.4896521945123884, -1.911194773051304, -3.6480050410074174, -5.019629418502722, -5.982390306565922, -5.7757584869757865, -7.7840784536258525, -3.549594228979674, -5.555593104891491, -0.1474895211918468, 0.0002718811427952509, -4.4290860254965985, -3.9110551777005673, -11.165093425446523, -10.297184416666122, -13.036087496124868, -13.2905674891635, -11.97637560731718, -9.19372855021892, -17.548587182093602, -24.146733209576663, -28.778057231821215, -27.784062854096664, -37.44500839230935, -17.075185776361863, -26.724965797334328, -0.7094926383011828, 4.799288679142866e-17, 6.661338147750939e-16, 9.43689570931383e-16, 3.9968028886505635e-15, 1.2212453270876722e-15, 5.995204332975845e-15, 3.3306690738754696e-15, 2.220446049250313e-16, 1.8318679906315083e-15, 2.55351295663786e-15, 7.771561172376096e-15, 1.2434497875801753e-14, 4.218847493575595e-15, 1.554312234475219e-14, 4.3298697960381105e-15, 6.8833827526759706e-15, 2.828886755922022e-16, 4.188544042854625e-16, 3.108624468950438e-14, 2.220446049250313e-14, 6.572520305780927e-14, 3.6415315207705135e-14, 3.907985046680551e-14, 7.993605777301127e-15, 8.881784197001252e-15, 8.215650382226158e-15, 8.43769498715119e-15, 4.440892098500626e-15, 3.552713678800501e-15, 6.661338147750939e-15, 2.1316282072803006e-14, 5.995204332975845e-15, 7.105427357601002e-15, 1.4724820755068757e-16, -3.4175425226718206, -114.03871498294886, -70.28016189530273, -149.46675736693018, -108.5588226841305, -110.85384361014589, -92.48141016228578, -67.55685758625795, -36.537691374694525, -49.76278877879232, -57.60766369382734, -59.78393826219445, -51.03339224446239, -61.48336413294198, -25.15073482883756, -35.57138557273601, -0.7094876063025575, 0.2085251624520598, 8.77751471466502, 5.832915505752672, 13.329351955217033, 10.308737461741087, 11.170322895003125, 9.861674759436648, 7.648710399110497, 4.61403234143703, 7.168904940078777, 8.926884774005003, 9.814831827634181, 8.802997842362082, 11.066471859086452, 4.699393987432073, 6.857687248517189, 0.1474095916439092, 1.003102230346607, 42.22389511004397, 28.059014482671675, 64.12033213702489, 49.58978292275627, 53.7344063321157, 47.43920508115174, 36.79382560072066, 22.195624154715247, 34.48573999403592, 42.942434004386634, 47.21386896912333, 42.34648071040277, 53.234834939738576, 22.606253051855532, 32.98863932350881, 0.7091081403016889, 0.2085936977403262, 10.597866311342969, 7.512931130985081, 18.390728122490124, 15.264952719992047, 17.863555253924655, 17.18051092205877, 14.804212443104941, 10.848208083511299, 20.122989434209508, 27.594945494048424, 33.09251925017444, 32.38653829604675, 44.52117017280735, 20.883017891323135, 33.78920986234276, 1.0047403564996225, 0.14749801818496178, 7.493823134859079, 5.312444549307074, 13.004208566370943, 10.793951582798442, 12.631441056150711, 12.1484557772373, 10.468159008645767, 7.670841499573554, 14.229102286674781, 19.512573085314813, 23.39994476834469, 22.900740848292457, 31.481221335552327, 14.766523562594594, 23.892579424597947, 0.7104587194126728, 4.833280062684722, 162.54219440230162, 100.45726014460392, 214.16802072725585, 155.7946589873178, 159.19075572794034, 132.74480380296762, 96.80113611438144, 52.18502341319093, 71.21526195741377, 82.64636710961712, 85.93211807482825, 73.43160171882487, 88.46803310162153, 36.140715591246405, 50.98068343478529, 1.003431912334772, 3.4176451076981076, 114.93468789080958, 71.03400986767058, 151.43965976954397, 110.16345984257838, 112.56486287743792, 93.86475093635634, 68.44873977304115, 36.900383931846065, 50.356794654063705, 58.439806623643136, 60.763183412434174, 51.92398352877072, 62.5563461243925, 25.555345071504746, 36.04878696626134, 0.7095335096709035, -0.00027188114279480964, 4.42908602549661, 3.91105517770057, 11.165093425446544, 10.297184416666143, 13.036087496124887, 13.290567489163525, 11.976375607317188, 9.193728550218928, 17.548587182093627, 24.146733209576688, 28.778057231821258, 27.784062854096685, 37.44500839230938, 17.07518577636188, 26.72496579733435, 0.7094926383011831, -5.651872536395896e-5, 0.9207195987010208, 0.8130312062083433, 2.321002635523186, 2.1405814764684363, 2.709945388048253, 2.762846757703116, 2.489652194512394, 1.911194773051305, 3.6480050410074165, 5.019629418502726, 5.982390306565923, 5.775758486975789, 7.7840784536258605, 3.5495942289796805, 5.555593104891494, 0.14748952119184686, -2.1206316867458663e-17, -2.220446049250313e-16, 2.7755575615628914e-16, 0.0, -6.661338147750939e-16, -1.9984014443252818e-15, 2.220446049250313e-16, 0.0, -1.5543122344752192e-15, -3.219646771412954e-15, -4.440892098500626e-15, -5.551115123125783e-15, 1.1102230246251565e-15, -5.329070518200751e-15, -2.220446049250313e-15, -3.774758283725532e-15, 1.4616400537820207e-17, -0.14749801818496172, -7.493823134859077, -5.312444549307078, -13.004208566370941, -10.793951582798442, -12.63144105615072, -12.1484557772373, -10.468159008645763, -7.670841499573554, -14.229102286674781, -19.512573085314816, -23.399944768344692, -22.900740848292443, -31.481221335552313, -14.766523562594587, -23.892579424597955, -0.7104587194126726, 5.65187253639961e-5, -0.920719598701021, -0.813031206208342, -2.3210026355231816, -2.140581476468434, -2.7099453880482507, -2.7628467577031164, -2.4896521945123897, -1.9111947730513035, -3.648005041007415, -5.019629418502721, -5.982390306565922, -5.7757584869757865, -7.784078453625851, -3.549594228979679, -5.55559310489149, -0.14748952119184686, 0.0002718811427949865, -4.429086025496609, -3.9110551777005713, -11.16509342544652, -10.297184416666129, -13.036087496124864, -13.290567489163518, -11.976375607317197, -9.193728550218923, -17.548587182093613, -24.14673320957668, -28.77805723182125, -27.784062854096696, -37.445008392309404, -17.07518577636187, -26.724965797334352, -0.7094926383011826, 0.0013078778991442736, -21.306015071901452, -18.814039755252512, -53.70942163515064, -49.53436558167505, -62.709794994311565, -63.93396506822, -57.61207565789883, -44.226216860615565, -84.41706953532042, -116.15729718023255, -138.43617342078562, -133.65458663938858, -180.1283399286804, -82.13978310929107, -128.55982493819647, -3.4129977963914593, -4.257661931350576e-16, -1.1546319456101628e-14, -1.2434497875801753e-14, -1.7763568394002505e-14, -1.9539925233402755e-14, 0.0, 7.993605777301127e-15, -7.993605777301127e-15, -6.661338147750939e-16, -1.3322676295501878e-15, 1.3322676295501878e-15, -5.329070518200751e-15, -8.881784197001252e-16, -1.1546319456101628e-14, 1.1102230246251565e-15, 1.3322676295501878e-15, -2.0808550195428044e-16, -3.4176451076981076, -114.93468789080958, -71.0340098676706, -151.43965976954397, -110.16345984257832, -112.56486287743795, -93.86475093635633, -68.44873977304118, -36.90038393184606, -50.35679465406372, -58.43980662364314, -60.76318341243416, -51.92398352877071, -62.556346124392476, -25.555345071504735, -36.04878696626137, -0.7095335096709033, -4.833280062684722, -162.54219440230162, -100.45726014460392, -214.16802072725585, -155.7946589873178, -159.19075572794034, -132.74480380296762, -96.80113611438144, -52.18502341319092, -71.21526195741377, -82.64636710961712, -85.93211807482825, -73.43160171882487, -88.46803310162153, -36.140715591246405, -50.98068343478529, -1.003431912334772, -4.825399894107142, -203.1170630758098, -134.97723503879635, -308.4493629300411, -238.55049468046792, -258.4881089690203, -228.20519010910692, -176.99584029054165, -106.77153255735182, -165.89284828718593, -206.57357767599694, -227.1212159953772, -203.7067582485406, -256.0849324323252, -108.74685329419577, -158.69108041300518, -3.41114817772856, -1.003102230346607, -42.22389511004396, -28.059014482671675, -64.12033213702489, -49.589782922756264, -53.73440633211569, -47.43920508115175, -36.79382560072065, -22.195624154715258, -34.485739994035924, -42.942434004386634, -47.21386896912333, -42.346480710402744, -53.234834939738555, -22.606253051855525, -32.98863932350881, -0.7091081403016884, -0.2085251624520598, -8.77751471466502, -5.832915505752672, -13.329351955217033, -10.30873746174109, -11.170322895003125, -9.861674759436648, -7.648710399110497, -4.61403234143703, -7.168904940078777, -8.926884774005003, -9.814831827634181, -8.802997842362082, -11.066471859086455, -4.699393987432078, -6.857687248517189, -0.147409591643909, -0.20859369774032618, -10.597866311342969, -7.512931130985081, -18.390728122490124, -15.264952719992054, -17.863555253924655, -17.18051092205877, -14.804212443104937, -10.848208083511299, -20.122989434209508, -27.594945494048417, -33.092519250174426, -32.38653829604678, -44.52117017280735, -20.883017891323142, -33.78920986234277, -1.0047403564996227, 4.825399894107141, 203.1170630758096, 134.9772350387962, 308.44936293004133, 238.5504946804682, 258.4881089690203, 228.20519010910692, 176.99584029054148, 106.77153255735178, 165.89284828718573, 206.5735776759969, 227.1212159953772, 203.70675824854067, 256.08493243232533, 108.74685329419569, 158.69108041300518, 3.411148177728562, 1.0031022303466064, 42.22389511004394, 28.059014482671696, 64.12033213702489, 49.58978292275626, 53.73440633211567, 47.43920508115169, 36.793825600720616, 22.195624154715247, 34.48573999403591, 42.94243400438661, 47.213868969123304, 42.34648071040276, 53.23483493973846, 22.60625305185555, 32.9886393235088, 0.709108140301689, 3.4176451076981094, 114.93468789080966, 71.03400986767059, 151.439659769544, 110.16345984257832, 112.56486287743797, 93.86475093635632, 68.44873977304118, 36.900383931846044, 50.35679465406367, 58.439806623643115, 60.76318341243413, 51.9239835287707, 62.55634612439249, 25.555345071504743, 36.048786966261346, 0.7095335096709026, -0.0013078778991448604, 21.30601507190142, 18.814039755252487, 53.70942163515059, 49.53436558167497, 62.70979499431151, 63.933965068219905, 57.612075657898835, 44.22621686061558, 84.41706953532045, 116.15729718023255, 138.43617342078548, 133.6545866393886, 180.12833992868036, 82.13978310929105, 128.55982493819658, 3.4129977963914593, -0.00027188114279507787, 4.4290860254966065, 3.9110551777005718, 11.165093425446505, 10.297184416666129, 13.036087496124876, 13.290567489163518, 11.976375607317193, 9.193728550218918, 17.548587182093602, 24.146733209576656, 28.778057231821265, 27.784062854096675, 37.4450083923094, 17.075185776361863, 26.72496579733435, 0.709492638301183, -5.651872536400581e-5, 0.9207195987010197, 0.8130312062083416, 2.321002635523178, 2.1405814764684328, 2.709945388048249, 2.762846757703115, 2.48965219451239, 1.9111947730513046, 3.6480050410074174, 5.019629418502724, 5.982390306565929, 5.775758486975787, 7.784078453625854, 3.5495942289796756, 5.555593104891493, 0.14748952119184683, 0.1474980181849618, 7.493823134859076, 5.312444549307074, 13.00420856637093, 10.793951582798439, 12.631441056150713, 12.148455777237304, 10.468159008645763, 7.670841499573559, 14.229102286674776, 19.512573085314795, 23.399944768344675, 22.90074084829244, 31.48122133555233, 14.76652356259459, 23.892579424597933, 0.7104587194126721, 0.20852516245205951, 8.777514714665019, 5.832915505752665, 13.32935195521705, 10.308737461741094, 11.170322895003125, 9.861674759436642, 7.648710399110496, 4.614032341437027, 7.168904940078778, 8.926884774004996, 9.814831827634173, 8.80299784236208, 11.066471859086436, 4.699393987432074, 6.857687248517191, 0.14740959164390896, 6.366462912410498e-11, 3.183231456205249e-11, -1.1368683772161603e-11, 5.4569682106375694e-12, -2.5011104298755527e-12, -2.2737367544323206e-13, -9.094947017729282e-13, 3.410605131648481e-13, 2.1316282072803006e-13, -6.750155989720952e-14, -1.1368683772161603e-13, -1.2789769243681803e-13, -9.237055564881302e-14, -2.2737367544323206e-13, -7.815970093361102e-14, -9.237055564881302e-14, 1.794571435898007e-15, -734642.2201046906, -317233.3727050659, 61095.47232433374, -76071.96948565665, -11351.503672242361, -11253.50785813555, -6258.278670585548, -2713.7264257059896, -245.46313460774928, 589.359675988479, 959.2042411704115, 1133.0513422773456, 1036.5067176972705, 1301.7029375617656, 547.1590604603576, 788.4784272992201, 16.41134558790015, -0.006953818923191024, 95.1559956033704, 84.27066000291151, 241.7613627662842, 224.40909982052312, 286.26651596951814, 294.2890623242875, 267.4398318798771, 206.39010875783305, 389.74075588447477, 533.2151792648202, 634.2281759079885, 613.1467250388714, 829.8343733926322, 381.11291596515076, 601.7684798380288, 16.41622252711997, -1.3086320221900039e-16, -1.4210854715202004e-14, -3.552713678800501e-15, -3.552713678800501e-14, 0.0, 2.1316282072803006e-14, -4.973799150320701e-14, -2.842170943040401e-14, -1.9539925233402755e-14, -4.618527782440651e-14, -1.3500311979441904e-13, 4.263256414560601e-14, -5.684341886080802e-14, 6.394884621840902e-14, -3.552713678800501e-15, -2.4868995751603507e-14, -4.181659359059342e-15, 3.4131944065209323, 173.41185774008522, 122.9333991868928, 300.9258662312495, 249.77913241037598, 292.2999031703137, 281.12335437673056, 242.2402117917133, 177.508456932442, 329.27110717288656, 451.534252822893, 541.4907180019793, 529.9388242947238, 728.4970488825224, 341.70749406289156, 552.8907111892023, 16.440504384441518, 23.209090721864627, 946.1851411989511, 623.245714556385, 1415.3243881415253, 1091.5295140951437, 1183.2006039777452, 1048.3692005037979, 818.6164946612429, 498.26979970281826, 767.9577932477781, 949.4027624618888, 1039.0701652453747, 930.5091175249931, 1171.736571474513, 500.2896262514, 736.3393793614295, 16.406388342088526, -23.209090721864627, -946.1851411989512, -623.2457145563852, -1415.3243881415242, -1091.5295140951443, -1183.200603977746, -1048.3692005037983, -818.6164946612432, -498.2697997028186, -767.9577932477779, -949.4027624618885, -1039.0701652453743, -930.5091175249921, -1171.7365714745124, -500.2896262514001, -736.3393793614295, -16.40638834208852, -4.82698582071789, -245.24140109234193, -173.85408039872925, -425.57344129310394, -353.2410366525382, -413.3744873438002, -397.56846045939017, -342.57939286797205, -251.0348672297799, -465.65966546150116, -638.565864218137, -765.7835172975447, -749.446672545651, -1030.25040667844, -483.247372468265, -781.9055422738763, -23.25038427273153, -3.413194406520933, -173.4118577400851, -122.93339918689283, -300.9258662312493, -249.77913241037595, -292.2999031703138, -281.1233543767307, -242.24021179171348, -177.50845693244193, -329.2711071728866, -451.5342528228927, -541.4907180019792, -529.9388242947235, -728.4970488825228, -341.70749406289156, -552.8907111892023, -16.440504384441514, 0.006953818923189874, -95.15599560337051, -84.27066000291158, -241.76136276628432, -224.40909982052324, -286.2665159695184, -294.2890623242875, -267.43983187987703, -206.39010875783305, -389.74075588447505, -533.2151792648203, -634.2281759079882, -613.1467250388713, -829.8343733926322, -381.1129159651505, -601.7684798380282, -16.41622252711998, 734642.2201046909, 317233.3727050659, -61095.4723243338, 76071.96948565665, 11351.503672242368, 11253.507858135541, 6258.2786705855415, 2713.7264257059896, 245.46313460774903, -589.3596759884792, -959.2042411704123, -1133.051342277345, -1036.506717697271, -1301.7029375617653, -547.1590604603578, -788.4784272992206, -16.411345587900147, 1.0389409911639342e6, 448635.738116863, -86402.04556066295, 107582.01096304781, 16053.450446613075, 15914.86343724743, 8850.542573052297, 3837.78871580365, 347.13729402488696, -833.4804468987231, -1356.519646948992, -1602.376575113663, -1465.8418576583042, -1840.8859484807483, -773.7997640783578, -1115.0768855251663, -23.20914750720026, 0.009027985722477285, 0.38001781938929435, 0.2525329667035172, 0.5770871856735268, 0.4463112917740165, 0.4836131737086352, 0.42695595045215234, 0.3311468384272731, 0.19976207001454133, 0.3103739169113824, 0.38648471646411153, 0.42492791069647584, 0.38112109781530223, 0.47911699848212874, 0.20345775696295748, 0.2968999128968966, 0.0063820196712393055, 0.001954185540784373, 0.08225814159652774, 0.05466294334900426, 0.12491550924891186, 0.0966079366853777, 0.10468225143968544, 0.0924183057631707, 0.0716795953631023, 0.043240226648525754, 0.0671831169553957, 0.08365795736339178, 0.09197931902919626, 0.08249695574775015, 0.10370901545033313, 0.04404019003126341, 0.0642665523272503, 0.0013814433192429862, 0.009042707016661699, 0.3043934772717619, 0.18820446688609585, 0.4014306287783995, 0.2921694716943618, 0.2987211930670418, 0.2492797715274417, 0.1819652655164932, 0.09832798414819045, 0.13461433233923117, 0.15656424757861, 0.16314384929959813, 0.13974287891627782, 0.16880180875337822, 0.06917595980227298, 0.09793026954357555, 0.0019549333985421956, 0.006394159451764662, 0.21523869192781597, 0.13308065478475734, 0.2838543197851865, 0.20659501469077474, 0.21122778130184147, 0.17626741685968741, 0.12866887318712292, 0.06952838437158883, 0.09518670724196988, 0.11070764115420458, 0.11536012214862183, 0.09881313730423047, 0.11936090364606833, 0.04891479027127519, 0.06924715767768863, 0.0013823466628772488, -3.0212606437376825e-19, -2.42861286636753e-17, -2.0816681711721685e-17, -4.5102810375396984e-17, -3.469446951953614e-17, -3.8163916471489756e-17, -3.122502256758253e-17, -2.2551405187698492e-17, -1.2576745200831851e-17, -1.1275702593849246e-17, -1.3877787807814457e-17, -1.734723475976807e-18, 4.336808689942018e-18, 0.0, -4.336808689942018e-19, -6.938893903907228e-18, 4.460157862885925e-20, -2.446948078777105e-6, 0.03986206409688722, 0.035199752563506014, 0.10048657154338764, 0.09267533366290634, 0.11732564062918496, 0.119615977221314, 0.10778816427566387, 0.08274415864774673, 0.15793843312943948, 0.21732217920121766, 0.25900439850457113, 0.25005838405176795, 0.3370075261690953, 0.15367778949546992, 0.2405264412268931, 0.00638548017839874, -5.296630612400433e-7, 0.008628488311629923, 0.0076192906826968365, 0.021751186941310195, 0.020060376987583874, 0.02539614898924582, 0.025891912140568078, 0.023331679797716137, 0.01791068831790588, 0.03418713895251918, 0.04704126405842779, 0.056063740696557084, 0.05412729854559199, 0.07294819188021966, 0.033264885812130586, 0.05206402713416557, 0.0013821923759276785, -2.1109022962896662e-7, 0.00343877025290148, 0.003036567843819436, 0.008668648773419663, 0.007994798759119126, 0.010121300340033215, 0.010318880207523317, 0.00929853336307676, 0.007138068682736661, 0.013624833483667909, 0.01874767556733794, 0.022343464673162998, 0.021571721185230347, 0.029072540076636323, 0.013257281654161599, 0.020749431567741707, 0.0005508545476872153, 3.3332069963436803e-20, 2.168404344971009e-19, -1.5178830414797062e-18, 6.071532165918825e-18, 7.806255641895632e-18, -8.673617379884035e-19, -5.204170427930421e-18, -1.951563910473908e-18, -3.0357660829594124e-18, -3.2526065174565133e-18, -1.0408340855860843e-17, -9.974659986866641e-18, -3.903127820947816e-18, -7.806255641895632e-18, -3.686287386450715e-18, -4.336808689942018e-18, -4.19863644042116e-19, 0.0005512454498077131, 0.023269426973936923, 0.015653076233125913, 0.03650567947596107, 0.029047193358650972, 0.03267239108849174, 0.030261358996294237, 0.02507244834241732, 0.017302689907874, 0.030635788334148966, 0.041154660302689196, 0.04860159898246337, 0.046956047577661704, 0.06383762693367274, 0.02963793374663173, 0.04752713306972696, 0.0013839997753541382, 0.0007795787913145253, 0.03290793921519189, 0.02213679270174663, 0.051626827018549204, 0.04107893479667781, 0.04620573859250281, 0.04279602430840039, 0.035457796487745406, 0.0244696987332515, 0.043325547356144925, 0.05820147875492073, 0.06873304043401807, 0.06640587931976567, 0.09028003779931401, 0.04191436786520183, 0.0672135161679187, 0.001957271252627139, 0.0007788148820045268, 0.03278289778753421, 0.021785195359334812, 0.04978342924243405, 0.038501819423002875, 0.04171973111122444, 0.03683209725782331, 0.028566957660754986, 0.01723282222301349, 0.026774945475909764, 0.03334077590532073, 0.03665714488288938, 0.03287807401882026, 0.04133186073945535, 0.017551637081957092, 0.025612587097280114, 0.0005505560210215899, -9.066640667410031e-18, -7.216449660063518e-16, -6.661338147750939e-16, -7.771561172376096e-16, -1.6653345369377348e-16, 3.885780586188048e-16, 1.6653345369377348e-16, -3.0531133177191805e-16, -1.3877787807814457e-16, 2.220446049250313e-16, 8.326672684688674e-17, 0.0, -1.3877787807814457e-16, -2.7755575615628914e-17, 1.249000902703301e-16, 2.0816681711721685e-16, 2.7350693866841358e-18, 0.14769034975237275, 4.966804292849292, 3.069676388048311, 6.544346344533688, 4.760632321143632, 4.8644127515975555, 4.056305961472448, 2.957974683655846, 1.5946368760080425, 2.176163937265174, 2.5254809467027934, 2.6258966926280967, 2.2439184936990038, 2.7034144090448287, 1.1043979928664818, 1.557892499455148, 0.030664196077938233, -1.1749995854081397e-5, 0.19141357838196535, 0.1690256324901797, 0.48252629848029344, 0.44501752847125525, 0.5633857959337952, 0.5743837593541792, 0.5175878043113934, 0.39732903590928226, 0.7584042957702085, 1.0435590059151008, 1.243712784514331, 1.2007549327958207, 1.6182758717383505, 0.7379451182874222, 1.1549835126152974, 0.03066242650314378, -1.8132857818346435e-18, 2.7755575615628914e-17, -2.2551405187698492e-17, -4.85722573273506e-17, 1.1102230246251565e-16, 2.7755575615628914e-17, -2.0816681711721685e-17, -1.734723475976807e-17, -5.551115123125783e-17, -4.85722573273506e-17, -1.249000902703301e-16, -2.498001805406602e-16, -1.3877787807814457e-16, -1.6653345369377348e-16, -1.457167719820518e-16, -2.0816681711721685e-16, -7.28490686286061e-18, 0.006385863543265043, 0.3242375285322579, 0.2298188018403867, 0.5624899417678251, 0.4668324017062672, 0.5462458804928828, 0.5253091022179643, 0.4526084261893344, 0.3316155615342377, 0.6150705466144741, 0.8434181574432614, 1.0114148068920763, 0.9898114817426094, 1.360644673624549, 0.6382082960766398, 1.0326174540498485, 0.030704174795597644, 0.009030974830349332, 0.45854111028065203, 0.3250128664510092, 0.7954809043465099, 0.6602007138482069, 0.7725083325834667, 0.7428992567946794, 0.6400849747612978, 0.46897522461568886, 0.8698411088384221, 1.1927733970079877, 1.43035653709174, 1.3998048216730103, 1.9242421510105534, 0.9025628279306079, 1.4603416082604719, 0.04342226041740835, 0.043351469420160056, 1.8248069262398376, 1.2126376270592694, 2.7711139839538146, 2.143141439517503, 2.322261283490773, 2.0501990586559025, 1.5901334451516385, 0.9592371472168156, 1.4903839883462942, 1.8558603084006267, 2.040460617972265, 1.8301047570536235, 2.300671107250868, 0.9769834601437247, 1.4256831911854393, 0.030645809499649113, 0.20886569565143143, 7.024121992600379, 4.341177980074374, 9.255103357306314, 6.732550794033022, 6.879318486289882, 5.73648290384917, 4.183207914782367, 2.255157097110837, 3.0775605540276407, 3.57156940634194, 3.713578716105309, 3.173379966648943, 3.823205321986049, 1.5618546197694017, 2.2031927014487933, 0.04336572197268808, -0.009027985722477287, -0.3800178193892944, -0.25253296670351716, -0.5770871856735273, -0.4463112917740161, -0.4836131737086353, -0.4269559504521526, -0.3311468384272733, -0.1997620700145413, -0.31037391691138255, -0.38648471646411153, -0.4249279106964764, -0.38112109781530223, -0.4791169984821287, -0.20345775696295748, -0.2968999128968968, -0.006382019671239306, -0.0433514694201601, -1.8248069262398379, -1.2126376270592703, -2.771113983953814, -2.1431414395175024, -2.3222612834907745, -2.0501990586559034, -1.5901334451516391, -0.9592371472168155, -1.4903839883462933, -1.8558603084006253, -2.0404606179722644, -1.8301047570536229, -2.3006711072508677, -0.976983460143725, -1.4256831911854393, -0.03064580949964911, -0.009030974830349335, -0.4585411102806518, -0.32501286645100924, -0.7954809043465099, -0.6602007138482069, -0.7725083325834667, -0.7428992567946792, -0.6400849747612979, -0.4689752246156889, -0.869841108838422, -1.1927733970079877, -1.4303565370917404, -1.3998048216730106, -1.9242421510105534, -0.9025628279306077, -1.4603416082604717, -0.04342226041740834, -0.006385863543265038, -0.3242375285322579, -0.22981880184038656, -0.5624899417678254, -0.4668324017062674, -0.5462458804928827, -0.5253091022179641, -0.45260842618933417, -0.3316155615342377, -0.6150705466144745, -0.8434181574432623, -1.0114148068920774, -0.9898114817426105, -1.3606446736245492, -0.6382082960766399, -1.0326174540498492, -0.030704174795597658, 2.446948078777134e-6, -0.03986206409688731, -0.03519975256350606, -0.1004865715433877, -0.09267533366290634, -0.11732564062918514, -0.11961597722131413, -0.10778816427566396, -0.08274415864774678, -0.15793843312943937, -0.21732217920121777, -0.2590043985045711, -0.25005838405176817, -0.3370075261690952, -0.15367778949546995, -0.24052644122689287, -0.00638548017839874, 1.1749995854079005e-5, -0.1914135783819654, -0.16902563249017974, -0.4825262984802936, -0.44501752847125536, -0.5633857959337957, -0.574383759354179, -0.5175878043113936, -0.39732903590928226, -0.7584042957702094, -1.0435590059151023, -1.2437127845143314, -1.2007549327958207, -1.6182758717383499, -0.7379451182874226, -1.1549835126152996, -0.030662426503143762, -0.14769034975237277, -4.966804292849292, -3.06967638804831, -6.544346344533684, -4.7606323211436345, -4.864412751597554, -4.056305961472446, -2.957974683655847, -1.5946368760080427, -2.1761639372651747, -2.525480946702795, -2.625896692628097, -2.2439184936990033, -2.7034144090448304, -1.1043979928664829, -1.5578924994551502, -0.030664196077938233, -0.2088656956514315, -7.024121992600376, -4.341177980074375, -9.255103357306314, -6.732550794033022, -6.879318486289884, -5.73648290384917, -4.183207914782365, -2.255157097110837, -3.0775605540276407, -3.5715694063419394, -3.7135787161053093, -3.1733799666489424, -3.8232053219860473, -1.561854619769402, -2.2031927014487924, -0.043365721972688086, -0.0005512454498077137, -0.023269426973936934, -0.01565307623312592, -0.036505679475961096, -0.029047193358650965, -0.032672391088491744, -0.030261358996294268, -0.02507244834241732, -0.017302689907874008, -0.030635788334148966, -0.04115466030268919, -0.04860159898246337, -0.04695604757766174, -0.06383762693367277, -0.029637933746631748, -0.047527133069726946, -0.0013839997753541384, 2.1109022962878305e-7, -0.0034387702529014826, -0.00303656784381944, -0.008668648773419666, -0.00799479875911913, -0.01012130034003321, -0.01031888020752333, -0.009298533363076764, -0.007138068682736663, -0.013624833483667918, -0.01874767556733795, -0.022343464673163015, -0.021571721185230357, -0.029072540076636337, -0.013257281654161592, -0.020749431567741707, -0.0005508545476872155, 5.296630612395061e-7, -0.008628488311629925, -0.007619290682696843, -0.02175118694131023, -0.020060376987583887, -0.025396148989245828, -0.02589191214056811, -0.023331679797716148, -0.017910688317905887, -0.03418713895251918, -0.047041264058427804, -0.0560637406965571, -0.05412729854559198, -0.07294819188021971, -0.033264885812130614, -0.05206402713416558, -0.0013821923759276783, -0.006394159451764659, -0.21523869192781608, -0.13308065478475753, -0.28385431978518627, -0.20659501469077463, -0.2112277813018414, -0.17626741685968744, -0.12866887318712286, -0.0695283843715889, -0.09518670724196991, -0.11070764115420452, -0.11536012214862186, -0.0988131373042305, -0.11936090364606838, -0.048914790271275224, -0.06924715767768862, -0.00138234666287725, -0.009042707016661697, -0.3043934772717619, -0.18820446688609574, -0.4014306287783995, -0.2921694716943619, -0.2987211930670419, -0.24927977152744182, -0.1819652655164931, -0.09832798414819047, -0.13461433233923115, -0.15656424757861004, -0.1631438492995981, -0.13974287891627785, -0.16880180875337825, -0.06917595980227297, -0.09793026954357552, -0.001954933398542195, -0.0019541855407843745, -0.08225814159652776, -0.05466294334900429, -0.12491550924891187, -0.09660793668537772, -0.1046822514396855, -0.09241830576317082, -0.07167959536310235, -0.043240226648525754, -0.06718311695539574, -0.08365795736339177, -0.09197931902919618, -0.08249695574775016, -0.10370901545033306, -0.04404019003126341, -0.06426655232725037, -0.0013814433192429851, -0.0007788148820045268, -0.0327828977875342, -0.021785195359334812, -0.04978342924243405, -0.038501819423002855, -0.041719731111224456, -0.03683209725782331, -0.028566957660754986, -0.01723282222301349, -0.026774945475909775, -0.033340775905320745, -0.03665714488288935, -0.03287807401882025, -0.04133186073945535, -0.017551637081957092, -0.025612587097280155, -0.0005505560210215894, -0.0007795787913145254, -0.03290793921519189, -0.022136792701746635, -0.0516268270185492, -0.0410789347966778, -0.046205738592502814, -0.042796024308400404, -0.03545779648774541, -0.0244696987332515, -0.04332554735614493, -0.05820147875492073, -0.06873304043401807, -0.06640587931976566, -0.09028003779931403, -0.041914367865201814, -0.06721351616791868, -0.0019572712526271397, 4.6312373424076125e-17, 1.2212453270876722e-15, 1.0547118733938987e-15, 2.6645352591003757e-15, 1.5543122344752192e-15, 1.2212453270876722e-15, 1.1657341758564144e-15, 1.1934897514720433e-15, 4.996003610813204e-16, 2.7755575615628914e-16, 1.942890293094024e-16, 3.885780586188048e-16, 4.718447854656915e-16, -2.7755575615628914e-17, 1.1102230246251565e-16, 1.1102230246251565e-16, -7.123547086408666e-19, -0.14768591661821642, -4.928085447397943, -3.0370993706137863, -6.459088724962029, -4.691289017709472, -4.790472196257716, -3.9965257841976776, -2.91943252991654, -1.578963247046465, -2.150493970562899, -2.4895197891736496, -2.5835784346631265, -2.205431393627552, -2.6570452253885475, -1.0869126534317288, -1.5372614663362139, -0.030662212339300714, 1.174999585408964e-5, -0.19141357838196504, -0.16902563249017918, -0.4825262984802933, -0.44501752847125503, -0.563385795933795, -0.5743837593541786, -0.5175878043113928, -0.39732903590928226, -0.7584042957702081, -1.043559005915101, -1.2437127845143305, -1.2007549327958196, -1.6182758717383499, -0.7379451182874225, -1.1549835126152976, -0.030662426503143762, 2.446948078778736e-6, -0.03986206409688717, -0.03519975256350602, -0.10048657154338766, -0.09267533366290628, -0.11732564062918503, -0.11961597722131402, -0.10778816427566383, -0.08274415864774673, -0.15793843312943942, -0.2173221792012177, -0.259004398504571, -0.2500583840517677, -0.3370075261690953, -0.15367778949546998, -0.24052644122689312, -0.006385480178398741, 2.709023123556066e-18, 3.469446951953614e-17, 3.2959746043559335e-17, 1.3183898417423734e-16, 4.163336342344337e-17, 1.3183898417423734e-16, 9.020562075079397e-17, 1.1102230246251565e-16, 9.020562075079397e-17, 2.2898349882893854e-16, 4.85722573273506e-16, 3.885780586188048e-16, 2.3592239273284576e-16, 4.3021142204224816e-16, 3.0531133177191805e-16, 3.0531133177191805e-16, 8.729098037929192e-18, -0.006385450822228118, -0.31994576856825857, -0.22618144156661063, -0.5528441526474261, -0.45882636555100076, -0.5374430698989207, -0.5178288963147788, -0.4472691884960488, -0.3283561240111419, -0.6070564380394575, -0.830988302955445, -0.996040808183915, -0.975393453619058, -1.3429177756322188, -0.6314348494546844, -1.0245670039438397, -0.03070325308438427, 84.01367483973853, 36.5655542740677, -6.855624370198271, 8.86692745350181, 1.3511416723995109, 1.2739992692854818, 0.6517669934145239, 0.2227025000501024, -0.05736697886707949, -0.2349080532156494, -0.33445727755801713, -0.38848114085201324, -0.3589247583763445, -0.4593743709563491, -0.19744745335698757, -0.29066449571473085, -0.006381104383282748, 403.4251235712849, 175.58407342147166, -32.920011105113005, 42.57808398990062, 6.488044918757224, 6.117614943301088, 3.1297188268399516, 1.0693947595284912, -0.27547039910478904, -1.1280045846963482, -1.6060298372323711, -1.8654469353030498, -1.7235201921232952, -2.2058690174196305, -0.9481225933912044, -1.3957413519309094, -0.030641414379953616, 0.009027985722477287, 0.3800178193892944, 0.25253296670351716, 0.5770871856735273, 0.4463112917740161, 0.4836131737086353, 0.4269559504521525, 0.33114683842727344, 0.1997620700145413, 0.3103739169113826, 0.38648471646411175, 0.4249279106964763, 0.38112109781530235, 0.4791169984821287, 0.20345775696295726, 0.2968999128968968, 0.006382019671239307, 0.0433514694201601, 1.8248069262398379, 1.2126376270592703, 2.771113983953814, 2.1431414395175024, 2.3222612834907745, 2.0501990586559034, 1.5901334451516391, 0.9592371472168157, 1.4903839883462942, 1.855860308400625, 2.040460617972265, 1.8301047570536229, 2.300671107250867, 0.9769834601437247, 1.425683191185439, 0.0306458094996491, 0.006385863543265041, 0.3242375285322582, 0.2298188018403867, 0.5624899417678257, 0.4668324017062676, 0.5462458804928828, 0.5253091022179642, 0.4526084261893344, 0.33161556153423755, 0.6150705466144741, 0.8434181574432623, 1.0114148068920776, 0.9898114817426106, 1.3606446736245492, 0.6382082960766399, 1.0326174540498487, 0.030704174795597648, -2.4469480787765983e-6, 0.03986206409688731, 0.03519975256350607, 0.10048657154338791, 0.09267533366290652, 0.11732564062918518, 0.11961597722131423, 0.10778816427566396, 0.08274415864774684, 0.1579384331294394, 0.21732217920121774, 0.25900439850457097, 0.25005838405176817, 0.3370075261690955, 0.15367778949546995, 0.24052644122689304, 0.0063854801783987435, -1.1749995854081426e-5, 0.19141357838196565, 0.16902563249017988, 0.48252629848029444, 0.4450175284712558, 0.5633857959337959, 0.5743837593541793, 0.5175878043113942, 0.3973290359092826, 0.7584042957702096, 1.0435590059151023, 1.2437127845143314, 1.2007549327958205, 1.6182758717383494, 0.7379451182874226, 1.1549835126152994, 0.03066242650314377, 0.14769034975237277, 4.966804292849293, 3.0696763880483093, 6.544346344533686, 4.760632321143633, 4.864412751597553, 4.056305961472445, 2.9579746836558467, 1.5946368760080432, 2.1761639372651747, 2.525480946702798, 2.625896692628098, 2.243918493699003, 2.7034144090448304, 1.1043979928664829, 1.5578924994551495, 0.030664196077938254, 9.607206506435885e-20, 4.7704895589362195e-18, 6.505213034913027e-19, 1.214306433183765e-17, 3.469446951953614e-18, 7.806255641895632e-18, 8.239936510889834e-18, 6.505213034913027e-19, 6.071532165918825e-18, 7.37257477290143e-18, 1.5612511283791264e-17, 1.6479873021779667e-17, 1.3444106938820255e-17, 1.5612511283791264e-17, 6.7220534694101275e-18, 2.1250362580715887e-17, 5.563682974480668e-19, 0.0005512454498077129, 0.023269426973936927, 0.01565307623312594, 0.036505679475961096, 0.02904719335865095, 0.032672391088491744, 0.030261358996294264, 0.025072448342417328, 0.017302689907874008, 0.03063578833414898, 0.04115466030268919, 0.04860159898246335, 0.04695604757766174, 0.06383762693367277, 0.02963793374663175, 0.04752713306972695, 0.0013839997753541384, -2.1109022962870727e-7, 0.0034387702529014826, 0.0030365678438194423, 0.008668648773419685, 0.007994798759119133, 0.010121300340033224, 0.010318880207523327, 0.009298533363076768, 0.0071380686827366676, 0.013624833483667912, 0.01874767556733796, 0.02234346467316302, 0.021571721185230364, 0.029072540076636358, 0.013257281654161613, 0.020749431567741707, 0.0005508545476872156, -5.296630612393407e-7, 0.008628488311629934, 0.0076192906826968426, 0.021751186941310258, 0.0200603769875839, 0.025396148989245856, 0.025891912140568102, 0.023331679797716155, 0.017910688317905904, 0.03418713895251922, 0.04704126405842786, 0.05606374069655713, 0.05412729854559195, 0.07294819188021967, 0.03326488581213059, 0.05206402713416557, 0.0013821923759276794, 1.4825194159318392e-18, 4.85722573273506e-17, 3.8163916471489756e-17, 1.1796119636642288e-16, 1.0755285551056204e-16, 8.673617379884035e-17, 6.071532165918825e-17, 3.9898639947466563e-17, 2.2985086056692694e-17, 1.8214596497756474e-17, 1.474514954580286e-17, 2.688821387764051e-17, 2.0816681711721685e-17, 4.163336342344337e-17, -3.0357660829594124e-18, 2.168404344971009e-17, 1.8245619079449663e-19, 0.006394159451764661, 0.21523869192781614, 0.13308065478475736, 0.28385431978518644, 0.20659501469077463, 0.21122778130184133, 0.17626741685968736, 0.12866887318712283, 0.06952838437158886, 0.09518670724196991, 0.11070764115420455, 0.11536012214862189, 0.09881313730423048, 0.11936090364606848, 0.04891479027127521, 0.06924715767768864, 0.0013823466628772505, 0.0019541855407843745, 0.08225814159652776, 0.05466294334900429, 0.12491550924891187, 0.09660793668537772, 0.1046822514396855, 0.09241830576317082, 0.07167959536310238, 0.043240226648525754, 0.06718311695539572, 0.08365795736339182, 0.09197931902919622, 0.08249695574775016, 0.10370901545033306, 0.04404019003126342, 0.0642665523272504, 0.0013814433192429856, 0.0007788148820045269, 0.0327828977875342, 0.021785195359334812, 0.04978342924243405, 0.038501819423002855, 0.041719731111224456, 0.03683209725782331, 0.028566957660754986, 0.01723282222301349, 0.02677494547590978, 0.03334077590532072, 0.03665714488288935, 0.03287807401882025, 0.04133186073945535, 0.01755163708195711, 0.025612587097280134, 0.0005505560210215891, 18.185486070410658, 7.914930267916047, -1.4839591498173335, 1.919323086397453, 0.2924662932486152, 0.2757681533333657, 0.14108059911083623, 0.048205881009637117, -0.012417578413024693, -0.0508478784879894, -0.07239616852591078, -0.084090100677752, -0.0776923662276363, -0.09943555308187657, -0.04273920786718361, -0.06291684238388952, -0.001381245197253723, -0.006393967110040803, -0.21355750508014743, -0.13166609923897987, -0.2801520374853971, -0.2035835063803353, -0.20801612326281313, -0.1736701473870964, -0.1269933694023069, -0.06884499236220154, -0.09406247331938161, -0.1091304553469452, -0.1135027343254489, -0.09712309013537467, -0.11732407436119004, -0.04814655746985979, -0.0683406073221565, -0.0013822592200277103, 5.296630612403364e-7, -0.0086284883116299, -0.0076192906826968426, -0.021751186941310206, -0.02006037698758388, -0.025396148989245793, -0.025891912140568095, -0.023331679797716134, -0.017910688317905883, -0.034187138952519174, -0.04704126405842779, -0.05606374069655707, -0.05412729854559194, -0.07294819188021964, -0.03326488581213058, -0.05206402713416556, -0.0013821923759276783, 2.1109022962903968e-7, -0.0034387702529014696, -0.003036567843819435, -0.008668648773419666, -0.007994798759119126, -0.010121300340033206, -0.010318880207523312, -0.00929853336307676, -0.0071380686827366546, -0.0136248334836679, -0.018747675567337942, -0.022343464673162984, -0.021571721185230344, -0.02907254007663632, -0.013257281654161603, -0.020749431567741686, -0.0005508545476872154, -0.0005512193514122829, -0.023011793654094243, -0.015435170083080376, -0.03592993218372625, -0.028571969545897555, -0.03215416657759932, -0.029826683530639293, -0.024769878908631113, -0.01713262238608677, -0.030241620833625027, -0.04055048946270425, -0.04785835122594752, -0.04626125201950406, -0.06298515078890847, -0.029312635703924124, -0.047140787462190054, -0.0013839562471393962, 7.247585703882056, 3.1543911026006657, -0.5914123536604606, 0.7649209104582844, 0.11655858510512533, 0.10990376160122722, 0.05622581267566418, 0.019211818298161973, -0.0049488621549415674, -0.020264751559316563, -0.028852538447017684, -0.033513000925595574, -0.030963268212465832, -0.03962872865666222, -0.01703314779347267, -0.025074677994822582, -0.0005504770621149405, 734642.2224785794, 317254.10613838845, -61078.02776040609, 76117.62381297356, 11388.636086868677, 11293.10202838012, 6290.290133642548, 2734.365196825168, 253.85609133054743, -575.6139692521207, -939.9478784059814, -1110.390932481592, -1015.8978196867653, -1276.8733925246813, -537.796099744202, -777.4310290375103, -16.410283352236707, 216013.35857489269, 94047.1240135066, -17600.909546159077, 22866.83316003257, 3530.0258020564506, 3335.917999711875, 1725.2097777778522, 605.4237476179691, -132.1479575165159, -573.9223049748753, -815.6314251002069, -945.3593609636727, -873.4385779460131, -1120.9749398684708, -484.8361200203616, -720.307068084838, -16.40403498208091, 0.00695381892319235, -95.15599560337007, -84.27066000291141, -241.76136276628435, -224.40909982052307, -286.2665159695181, -294.2890623242873, -267.43983187987686, -206.39010875783302, -389.7407558844748, -533.2151792648203, -634.2281759079877, -613.146725038871, -829.8343733926316, -381.1129159651504, -601.7684798380282, -16.416222527119977, -1.9099388737231493e-10, -9.458744898438454e-11, 1.4097167877480388e-11, -2.955857780762017e-11, -6.821210263296962e-12, -4.320099833421409e-12, -2.3874235921539366e-12, -1.1368683772161603e-12, -1.9895196601282805e-13, 6.128431095930864e-14, 2.4868995751603507e-13, 3.126388037344441e-13, 3.126388037344441e-13, 2.5579538487363607e-13, 1.7763568394002505e-13, 2.2026824808563106e-13, 7.414641817193868e-15, 7.807339844068117e-16, 3.907985046680551e-14, 3.375077994860476e-14, 1.1723955140041653e-13, 1.2434497875801753e-13, 1.3500311979441904e-13, 6.394884621840902e-14, 5.684341886080802e-14, 3.730349362740526e-14, 3.197442310920451e-14, 1.4210854715202004e-14, 7.815970093361102e-14, 9.237055564881302e-14, 1.4921397450962104e-13, 7.460698725481052e-14, 2.0961010704922955e-13, 2.8411517929982644e-15, -3.412973589420586, -171.1153292640799, -120.9870308751323, -295.7643109156649, -245.49496341289762, -287.5892667713767, -277.12034983458454, -239.3827600931601, -175.76373264231637, -324.9807281725294, -444.87972343904556, -533.2598986594718, -522.2197536677677, -719.0064466546089, -338.08112550146967, -548.580653850817, -16.440010901499555, 0.0013078778991447153, -21.30601507190138, -18.8140397552525, -53.70942163515062, -49.53436558167499, -62.70979499431145, -63.93396506821991, -57.612075657898785, -44.22621686061558, -84.4170695353204, -116.15729718023235, -138.43617342078554, -133.65458663938855, -180.1283399286803, -82.139783109291, -128.55982493819653, -3.412997796391457, 44904.76504253755, 19544.051923205636, -3664.286821769093, 4739.315292519394, 722.1764725090094, 680.9443576984129, 348.36523646406215, 119.03304382544832, -30.662278636667228, -125.55683293666863, -178.76524856410242, -207.6406535804248, -191.84295858482992, -245.53262589343674, -105.53438494573676, -155.35829031613713, -3.410658962244131, 23.20909072186462, 946.1851411989517, 623.2457145563851, 1415.3243881415249, 1091.5295140951437, 1183.2006039777452, 1048.3692005037979, 818.6164946612428, 498.2697997028184, 767.957793247778, 949.402762461889, 1039.070165245375, 930.5091175249925, 1171.7365714745133, 500.2896262514002, 736.3393793614296, 16.406388342088523, -1.0389409911639341e6, -448635.73811686295, 86402.04556066298, -107582.0109630478, -16053.450446613057, -15914.863437247426, -8850.542573052302, -3837.788715803652, -347.13729402488667, 833.4804468987231, 1356.5196469489922, 1602.376575113663, 1465.8418576583044, 1840.8859484807476, 773.7997640783577, 1115.076885525166, 23.20914750720027, -734642.2201046911, -317233.3727050661, 61095.472324333736, -76071.96948565665, -11351.503672242383, -11253.507858135557, -6258.2786705855415, -2713.7264257059937, -245.46313460774968, 589.3596759884791, 959.2042411704113, 1133.0513422773456, 1036.506717697271, 1301.702937561766, 547.1590604603575, 788.4784272992204, 16.411345587900154, 4.826985820717887, 245.24140109234185, 173.85408039872917, 425.573441293104, 353.2410366525381, 413.3744873438, 397.5684604593902, 342.5793928679721, 251.03486722977993, 465.6596654615012, 638.5658642181369, 765.7835172975444, 749.4466725456514, 1030.2504066784404, 483.24737246826464, 781.9055422738763, 23.250384272731534, 3.4131944065209305, 173.41185774008505, 122.93339918689288, 300.9258662312495, 249.779132410376, 292.2999031703138, 281.1233543767306, 242.2402117917134, 177.50845693244202, 329.2711071728866, 451.5342528228926, 541.4907180019798, 529.938824294724, 728.497048882523, 341.7074940628918, 552.8907111892028, 16.440504384441518, 4.82539989410714, 203.1170630758096, 134.9772350387962, 308.4493629300413, 238.55049468046826, 258.48810896902023, 228.2051901091068, 176.99584029054165, 106.77153255735178, 165.89284828718573, 206.5735776759969, 227.12121599537716, 203.70675824854064, 256.0849324323254, 108.74685329419579, 158.6910804130051, 3.4111481777285624, -0.0013078778991435086, 21.306015071901424, 18.8140397552525, 53.70942163515069, 49.53436558167504, 62.70979499431156, 63.93396506821996, 57.612075657898835, 44.226216860615686, 84.41706953532054, 116.1572971802326, 138.4361734207855, 133.65458663938867, 180.12833992868013, 82.13978310929106, 128.55982493819656, 3.412997796391457, -0.006953818923185839, 95.15599560337057, 84.27066000291161, 241.7613627662847, 224.40909982052352, 286.2665159695187, 294.28906232428756, 267.4398318798772, 206.39010875783333, 389.7407558844753, 533.2151792648206, 634.2281759079882, 613.1467250388708, 829.8343733926322, 381.1129159651507, 601.7684798380288, 16.41622252711998, 0.20859369774032618, 10.597866311342965, 7.512931130985083, 18.390728122490128, 15.264952719992053, 17.863555253924652, 17.18051092205877, 14.80421244310494, 10.848208083511299, 20.122989434209504, 27.594945494048417, 33.092519250174426, 32.38653829604676, 44.52117017280738, 20.883017891323146, 33.78920986234277, 1.0047403564996225, 0.14749801818496178, 7.493823134859082, 5.312444549307077, 13.004208566370933, 10.793951582798444, 12.631441056150718, 12.148455777237311, 10.468159008645767, 7.670841499573557, 14.229102286674781, 19.51257308531481, 23.3999447683447, 22.900740848292454, 31.481221335552334, 14.766523562594598, 23.892579424597933, 0.7104587194126727, 0.2085251624520595, 8.77751471466502, 5.832915505752665, 13.32935195521705, 10.308737461741094, 11.170322895003125, 9.861674759436648, 7.648710399110495, 4.614032341437027, 7.168904940078781, 8.926884774005002, 9.814831827634176, 8.802997842362084, 11.06647185908644, 4.699393987432072, 6.857687248517195, 0.14740959164390896, 1.003102230346607, 42.22389511004396, 28.059014482671696, 64.12033213702486, 49.58978292275626, 53.734406332115654, 47.4392050811517, 36.79382560072062, 22.19562415471525, 34.4857399940359, 42.94243400438661, 47.2138689691233, 42.346480710402744, 53.2348349397385, 22.60625305185554, 32.98863932350879, 0.7091081403016894, -5.651872536395211e-5, 0.9207195987010215, 0.8130312062083427, 2.321002635523183, 2.1405814764684363, 2.7099453880482542, 2.762846757703119, 2.489652194512394, 1.9111947730513061, 3.648005041007417, 5.0196294185027295, 5.982390306565927, 5.77575848697579, 7.78407845362586, 3.5495942289796822, 5.555593104891494, 0.14748952119184683, -0.00027188114279489355, 4.429086025496616, 3.9110551777005744, 11.165093425446532, 10.29718441666614, 13.036087496124884, 13.290567489163532, 11.9763756073172, 9.193728550218925, 17.54858718209361, 24.146733209576656, 28.77805723182124, 27.784062854096675, 37.4450083923094, 17.07518577636188, 26.724965797334345, 0.7094926383011829, 2.835188681049594e-17, 1.7763568394002505e-15, 1.7763568394002505e-15, 5.440092820663267e-15, 6.328271240363392e-15, 2.4424906541753444e-15, 2.4424906541753444e-15, 5.218048215738236e-15, 1.4432899320127035e-15, 4.218847493575595e-15, 3.1086244689504383e-15, 3.9968028886505635e-15, 5.10702591327572e-15, 2.220446049250313e-15, 4.884981308350689e-15, 3.9968028886505635e-15, 1.260994889236422e-16, 9.522818731483307e-16, 2.398081733190338e-14, 1.7763568394002505e-15, 1.5987211554602254e-14, 1.2434497875801753e-14, 3.8191672047105385e-14, 3.8191672047105385e-14, 1.9539925233402755e-14, 1.3100631690576847e-14, 1.2878587085651816e-14, 1.7319479184152442e-14, 1.4210854715202004e-14, 1.4654943925052066e-14, 1.509903313490213e-14, 1.3100631690576847e-14, 1.5987211554602254e-14, 2.1811437204977135e-16, 3.417645107698108, 114.93468789080961, 71.03400986767055, 151.439659769544, 110.16345984257838, 112.56486287743799, 93.86475093635632, 68.44873977304115, 36.90038393184605, 50.35679465406368, 58.439806623643115, 60.763183412434174, 51.92398352877073, 62.55634612439251, 25.555345071504735, 36.04878696626133, 0.7095335096709029, 4.833280062684723, 162.5421944023015, 100.45726014460388, 214.16802072725582, 155.79465898731777, 159.19075572794034, 132.74480380296765, 96.8011361143814, 52.185023413190926, 71.21526195741377, 82.6463671096171, 85.93211807482825, 73.43160171882491, 88.46803310162151, 36.1407155912464, 50.98068343478529, 1.0034319123347721, 1940.5176007903322, 844.5780021744773, -158.34874239406957, 204.80509656640552, 31.20818368502502, 29.426376243610477, 15.054279255700935, 5.143902131547067, -1.3250418150150924, -5.425821602279749, -7.725173729774319, -8.972997465430073, -8.290314788840407, -10.610463759539517, -4.56057015957636, -6.713663828361549, -0.14738845065236328, 9334.78487914925, 4062.8098197869617, -761.730501970421, 985.2069972579206, 150.12576080218847, 141.5544450074239, 72.41802821338688, 24.744542290074104, -6.37406241201092, -26.10070500226025, -37.161649496056214, -43.16425732331776, -39.880238706794565, -51.04122561061594, -21.938446396247077, -32.29582023020877, -0.7090064423793769, -0.14748847579740534, -7.394581006234056, -5.228334234777423, -12.781157240084761, -10.608815612543228, -12.42787574246467, -11.975470058060955, -10.344677190344626, -7.595445072150932, -14.0436981098822, -19.225004671266184, -23.044258666735335, -22.56716942718388, -31.071095065203036, -14.6098139071254, -23.70632488725392, -0.7104373940742492, -3.417542522671824, -114.03871498294892, -70.28016189530267, -149.46675736693007, -108.55882268413059, -110.85384361014582, -92.48141016228578, -67.55685758625793, -36.53769137469451, -49.762788778792306, -57.6076636938273, -59.78393826219451, -51.033392244462405, -61.48336413294201, -25.150734828837578, -35.57138557273603, -0.7094876063025584, 0.00027188114279507093, -4.429086025496595, -3.9110551777005598, -11.165093425446525, -10.297184416666134, -13.036087496124862, -13.290567489163502, -11.976375607317175, -9.193728550218912, -17.5485871820936, -24.14673320957665, -28.778057231821222, -27.784062854096653, -37.44500839230939, -17.075185776361867, -26.724965797334338, -0.7094926383011828, 5.65187253640343e-5, -0.9207195987010185, -0.8130312062083407, -2.3210026355231808, -2.140581476468434, -2.70994538804825, -2.7628467577031115, -2.4896521945123866, -1.9111947730513035, -3.648005041007415, -5.019629418502722, -5.982390306565922, -5.775758486975785, -7.784078453625848, -3.549594228979676, -5.55559310489149, -0.14748952119184686, -23.20909072186462, -946.1851411989517, -623.2457145563851, -1415.3243881415249, -1091.5295140951437, -1183.2006039777452, -1048.3692005037979, -818.6164946612428, -498.26979970281855, -767.9577932477779, -949.4027624618892, -1039.0701652453743, -930.5091175249929, -1171.7365714745124, -500.28962625139997, -736.3393793614298, -16.40638834208852, 1.0389409911639341e6, 448635.73811686295, -86402.04556066298, 107582.0109630478, 16053.450446613078, 15914.863437247426, 8850.542573052295, 3837.78871580365, 347.1372940248869, -833.4804468987234, -1356.5196469489922, -1602.3765751136625, -1465.8418576583044, -1840.885948480748, -773.7997640783577, -1115.0768855251665, -23.209147507200257, 734642.2201046909, 317233.37270506594, -61095.472324333765, 76071.96948565665, 11351.50367224239, 11253.507858135554, 6258.278670585539, 2713.726425705993, 245.46313460775008, -589.3596759884792, -959.2042411704119, -1133.0513422773447, -1036.5067176972702, -1301.7029375617656, -547.1590604603574, -788.4784272992204, -16.41134558790015, -4.82698582071789, -245.24140109234196, -173.85408039872925, -425.573441293104, -353.24103665253824, -413.3744873438001, -397.5684604593902, -342.5793928679721, -251.03486722977993, -465.6596654615012, -638.5658642181369, -765.7835172975444, -749.4466725456509, -1030.2504066784397, -483.247372468265, -781.9055422738764, -23.250384272731534, -3.413194406520928, -173.41185774008517, -122.9333991868928, -300.92586623124936, -249.779132410376, -292.2999031703137, -281.1233543767306, -242.2402117917134, -177.50845693244204, -329.27110717288673, -451.5342528228927, -541.4907180019795, -529.9388242947235, -728.4970488825227, -341.70749406289156, -552.8907111892021, -16.440504384441518, -4.82539989410714, -203.1170630758096, -134.9772350387962, -308.4493629300413, -238.55049468046826, -258.48810896902023, -228.2051901091068, -176.9958402905416, -106.77153255735183, -165.89284828718579, -206.573577675997, -227.12121599537704, -203.70675824854064, -256.08493243232545, -108.74685329419576, -158.69108041300515, -3.4111481777285615, 0.0013078778991439425, -21.30601507190144, -18.81403975525251, -53.70942163515063, -49.53436558167502, -62.70979499431151, -63.93396506821991, -57.61207565789883, -44.22621686061561, -84.4170695353205, -116.15729718023246, -138.43617342078545, -133.6545866393887, -180.12833992868036, -82.13978310929106, -128.55982493819664, -3.412997796391458, 0.006953818923188278, -95.15599560337058, -84.27066000291155, -241.76136276628435, -224.40909982052318, -286.26651596951837, -294.2890623242876, -267.4398318798773, -206.39010875783313, -389.74075588447494, -533.2151792648204, -634.2281759079883, -613.1467250388714, -829.8343733926324, -381.1129159651507, -601.7684798380283, -16.416222527119974, -2.303387515445454e-16, -2.6645352591003757e-14, -4.973799150320701e-14, -8.881784197001252e-14, -9.947598300641403e-14, -8.171241461241152e-14, 1.4210854715202004e-14, 1.2434497875801753e-14, -3.552713678800501e-15, -4.263256414560601e-14, 4.973799150320701e-14, -5.684341886080802e-14, -1.0658141036401503e-13, 4.263256414560601e-14, -1.7763568394002505e-14, -7.815970093361102e-14, -4.314040444319822e-16, 6.411937647499144e-11, 2.000888343900442e-11, -1.8189894035458565e-12, 1.3642420526593924e-12, -1.3642420526593924e-12, 2.0463630789890885e-12, 2.0463630789890885e-12, 2.8421709430404007e-13, -7.105427357601002e-14, -6.572520305780927e-14, -1.5631940186722204e-13, -5.684341886080802e-14, -1.7053025658242404e-13, -7.105427357601002e-14, -7.105427357601002e-15, -9.237055564881302e-14, -4.573164763543858e-15, -0.20859369774032613, -10.597866311342969, -7.512931130985083, -18.390728122490128, -15.26495271999205, -17.863555253924652, -17.18051092205877, -14.80421244310494, -10.848208083511299, -20.122989434209504, -27.594945494048417, -33.092519250174426, -32.38653829604677, -44.521170172807366, -20.88301789132314, -33.78920986234277, -1.0047403564996227, -0.14749801818496183, -7.493823134859079, -5.312444549307076, -13.004208566370927, -10.793951582798444, -12.631441056150718, -12.148455777237311, -10.468159008645772, -7.670841499573553, -14.229102286674784, -19.512573085314813, -23.39994476834468, -22.900740848292457, -31.48122133555233, -14.766523562594593, -23.892579424597937, -0.7104587194126724, -0.2085251624520595, -8.77751471466502, -5.832915505752665, -13.32935195521705, -10.308737461741094, -11.170322895003125, -9.861674759436648, -7.648710399110495, -4.614032341437028, -7.16890494007878, -8.926884774004998, -9.814831827634176, -8.80299784236208, -11.06647185908644, -4.699393987432074, -6.857687248517193, -0.14740959164390893, -1.003102230346607, -42.22389511004396, -28.059014482671696, -64.12033213702486, -49.58978292275626, -53.734406332115654, -47.4392050811517, -36.79382560072061, -22.19562415471524, -34.48573999403591, -42.942434004386584, -47.21386896912331, -42.34648071040274, -53.23483493973852, -22.60625305185553, -32.988639323508814, -0.7091081403016891, 5.6518725363969705e-5, -0.9207195987010218, -0.8130312062083429, -2.3210026355231794, -2.140581476468434, -2.7099453880482516, -2.762846757703117, -2.489652194512389, -1.911194773051304, -3.6480050410074196, -5.019629418502726, -5.982390306565928, -5.77575848697579, -7.78407845362586, -3.549594228979679, -5.555593104891493, -0.14748952119184675, 0.00027188114279493296, -4.429086025496614, -3.9110551777005735, -11.165093425446527, -10.297184416666132, -13.036087496124882, -13.29056748916352, -11.976375607317195, -9.193728550218918, -17.548587182093613, -24.146733209576674, -28.778057231821233, -27.784062854096675, -37.4450083923094, -17.075185776361877, -26.72496579733435, -0.7094926383011828, 1.2739375526704677e-18, -1.4432899320127035e-15, 1.6653345369377348e-16, -3.219646771412954e-15, -1.887379141862766e-15, -1.2212453270876722e-15, -2.55351295663786e-15, -8.881784197001252e-16, -1.2212453270876722e-15, -1.4432899320127035e-15, 4.440892098500626e-16, -2.220446049250313e-15, -1.7763568394002505e-15, -6.217248937900877e-15, -3.3306690738754696e-15, -2.220446049250313e-16, 2.0735366548785272e-18, -6.635317295611287e-16, -1.9539925233402755e-14, -8.881784197001252e-15, 1.7763568394002505e-14, 3.552713678800501e-15, -1.1546319456101628e-14, -1.4210854715202004e-14, 2.6645352591003757e-15, -6.8833827526759706e-15, -7.993605777301127e-15, -9.325873406851315e-15, -1.5987211554602254e-14, -7.993605777301127e-15, -1.9539925233402755e-14, -3.3306690738754696e-15, -6.661338147750939e-15, -1.349018553115089e-16, -3.4176451076981094, -114.93468789080961, -71.03400986767058, -151.43965976954394, -110.16345984257835, -112.56486287743796, -93.86475093635633, -68.44873977304118, -36.90038393184607, -50.35679465406368, -58.43980662364313, -60.76318341243416, -51.92398352877072, -62.55634612439252, -25.555345071504735, -36.04878696626135, -0.7095335096709028, -4.8332800626847225, -162.54219440230162, -100.45726014460391, -214.16802072725582, -155.79465898731777, -159.19075572794034, -132.74480380296765, -96.8011361143814, -52.185023413190926, -71.21526195741377, -82.6463671096171, -85.93211807482825, -73.43160171882488, -88.46803310162151, -36.1407155912464, -50.98068343478529, -1.0034319123347721, 0.20852516245205976, 8.77751471466502, 5.832915505752672, 13.329351955217033, 10.30873746174109, 11.170322895003125, 9.861674759436648, 7.648710399110497, 4.61403234143703, 7.168904940078777, 8.926884774005003, 9.814831827634181, 8.802997842362085, 11.066471859086452, 4.699393987432073, 6.857687248517189, 0.14740959164390907, 1.003102230346607, 42.22389511004397, 28.059014482671675, 64.12033213702489, 49.58978292275627, 53.7344063321157, 47.43920508115173, 36.79382560072066, 22.195624154715247, 34.48573999403591, 42.942434004386634, 47.21386896912336, 42.34648071040278, 53.23483493973852, 22.606253051855532, 32.988639323508785, 0.7091081403016888, 0.1474980181849616, 7.493823134859081, 5.312444549307074, 13.004208566370933, 10.793951582798437, 12.631441056150718, 12.148455777237299, 10.468159008645767, 7.670841499573555, 14.22910228667477, 19.51257308531481, 23.3999447683447, 22.900740848292454, 31.481221335552313, 14.766523562594584, 23.892579424597947, 0.7104587194126724, 3.4176451076981085, 114.93468789080956, 71.0340098676705, 151.43965976954397, 110.16345984257832, 112.56486287743789, 93.86475093635629, 68.44873977304115, 36.90038393184605, 50.35679465406369, 58.439806623643136, 60.76318341243414, 51.923983528770705, 62.55634612439249, 25.55534507150474, 36.04878696626133, 0.7095335096709029, 4.82539989410714, 203.11706307580963, 134.97723503879618, 308.4493629300411, 238.55049468046792, 258.4881089690204, 228.20519010910692, 176.9958402905416, 106.77153255735182, 165.89284828718593, 206.57357767599694, 227.1212159953773, 203.70675824854055, 256.0849324323253, 108.74685329419572, 158.69108041300515, 3.411148177728563, -0.0013078778991441587, 21.306015071901424, 18.8140397552525, 53.70942163515058, 49.534365581674976, 62.70979499431148, 63.93396506821989, 57.61207565789881, 44.22621686061557, 84.41706953532038, 116.15729718023235, 138.43617342078556, 133.65458663938855, 180.12833992868022, 82.13978310929109, 128.55982493819636, 3.4129977963914593, -0.00027188114279510356, 4.429086025496608, 3.911055177700571, 11.165093425446521, 10.297184416666125, 13.03608749612486, 13.290567489163516, 11.976375607317186, 9.193728550218916, 17.548587182093616, 24.146733209576666, 28.778057231821247, 27.78406285409668, 37.4450083923094, 17.07518577636188, 26.72496579733434, 0.7094926383011828, -5.651872536403136e-5, 0.9207195987010197, 0.8130312062083423, 2.3210026355231808, 2.1405814764684328, 2.7099453880482507, 2.7628467577031133, 2.4896521945123897, 1.9111947730513021, 3.648005041007416, 5.01962941850272, 5.982390306565923, 5.775758486975786, 7.784078453625852, 3.5495942289796787, 5.55559310489149, 0.14748952119184683, -734642.2201046909, -317233.3727050658, 61095.472324333765, -76071.96948565662, -11351.503672242352, -11253.507858135545, -6258.278670585539, -2713.726425705992, -245.4631346077494, 589.3596759884791, 959.2042411704124, 1133.0513422773452, 1036.5067176972705, 1301.7029375617649, 547.1590604603579, 788.4784272992205, 16.41134558790015, 23.209090721864612, 946.1851411989509, 623.2457145563849, 1415.3243881415247, 1091.5295140951448, 1183.2006039777464, 1048.369200503798, 818.6164946612433, 498.26979970281883, 767.9577932477779, 949.402762461889, 1039.0701652453745, 930.5091175249926, 1171.7365714745122, 500.28962625139997, 736.3393793614289, 16.40638834208852, -0.006953818923189034, 95.15599560337043, 84.2706600029115, 241.7613627662841, 224.40909982052307, 286.26651596951797, 294.2890623242872, 267.439831879877, 206.39010875783308, 389.7407558844748, 533.2151792648203, 634.228175907988, 613.1467250388707, 829.8343733926321, 381.1129159651505, 601.768479838028, 16.41622252711998, 3.4131944065209323, 173.41185774008503, 122.93339918689284, 300.92586623124964, 249.77913241037604, 292.299903170314, 281.12335437673073, 242.24021179171348, 177.5084569324419, 329.2711071728867, 451.5342528228923, 541.4907180019793, 529.9388242947234, 728.4970488825224, 341.70749406289167, 552.8907111892022, 16.440504384441507, -0.0007795787913145254, -0.03290793921519189, -0.02213679270174663, -0.051626827018549204, -0.04107893479667781, -0.046205738592502814, -0.042796024308400404, -0.035457796487745406, -0.0244696987332515, -0.043325547356144925, -0.05820147875492073, -0.06873304043401807, -0.06640587931976567, -0.09028003779931401, -0.041914367865201814, -0.06721351616791867, -0.001957271252627139, -0.0005512454498077132, -0.02326942697393694, -0.015653076233125916, -0.03650567947596109, -0.02904719335865098, -0.032672391088491744, -0.03026135899629426, -0.025072448342417328, -0.017302689907874008, -0.030635788334148956, -0.041154660302689175, -0.04860159898246334, -0.04695604757766174, -0.06383762693367279, -0.029637933746631748, -0.04752713306972696, -0.0013839997753541378, -0.0019541855407843732, -0.08225814159652772, -0.05466294334900426, -0.12491550924891186, -0.09660793668537769, -0.10468225143968547, -0.09241830576317064, -0.07167959536310227, -0.04324022664852573, -0.06718311695539571, -0.08365795736339178, -0.09197931902919629, -0.0824969557477502, -0.10370901545033309, -0.04404019003126343, -0.06426655232725036, -0.001381443319242987, 5.296630612397068e-7, -0.008628488311629942, -0.007619290682696846, -0.021751186941310233, -0.02006037698758391, -0.025396148989245852, -0.025891912140568112, -0.023331679797716158, -0.017910688317905883, -0.03418713895251918, -0.04704126405842778, -0.0560637406965571, -0.05412729854559199, -0.07294819188021966, -0.0332648858121306, -0.05206402713416559, -0.0013821923759276778, -3.4946726519140313e-20, -3.0357660829594124e-18, 1.0842021724855044e-18, -7.37257477290143e-18, -3.903127820947816e-18, -3.469446951953614e-18, 3.0357660829594124e-18, -6.938893903907228e-18, 1.0842021724855044e-19, -2.3852447794681098e-18, 0.0, 3.469446951953614e-18, 4.336808689942018e-19, -4.336808689942018e-18, -4.336808689942018e-18, -2.6020852139652106e-18, 1.657537598658259e-19, -8.12304596416874e-19, -2.6020852139652106e-17, 5.204170427930421e-18, -1.0408340855860843e-17, 1.5612511283791264e-17, -2.2551405187698492e-17, -2.42861286636753e-17, -2.2551405187698492e-17, -1.3010426069826053e-18, -2.0816681711721685e-17, -9.540979117872439e-18, -2.862293735361732e-17, -1.8214596497756474e-17, -2.2551405187698492e-17, -9.540979117872439e-18, -1.3877787807814457e-17, -3.364044289579657e-19, -0.006394159451764663, -0.21523869192781608, -0.13308065478475742, -0.2838543197851866, -0.2065950146907748, -0.21122778130184144, -0.1762674168596875, -0.1286688731871229, -0.06952838437158887, -0.09518670724196991, -0.11070764115420455, -0.11536012214862185, -0.0988131373042305, -0.11936090364606827, -0.0489147902712752, -0.0692471576776887, -0.0013823466628772494, 2.446948078775875e-6, -0.03986206409688728, -0.035199752563506055, -0.10048657154338758, -0.09267533366290631, -0.11732564062918513, -0.11961597722131412, -0.10778816427566394, -0.08274415864774676, -0.1579384331294396, -0.2173221792012177, -0.25900439850457124, -0.25005838405176833, -0.33700752616909546, -0.15367778949546979, -0.2405264412268933, -0.0063854801783987435, -0.009027985722477289, -0.38001781938929446, -0.2525329667035172, -0.5770871856735268, -0.4463112917740165, -0.483613173708635, -0.42695595045215234, -0.3311468384272732, -0.19976207001454133, -0.3103739169113824, -0.38648471646411153, -0.42492791069647584, -0.38112109781530235, -0.47911699848212846, -0.20345775696295734, -0.29689991289689666, -0.006382019671239304, -0.009042707016661699, -0.3043934772717619, -0.1882044668860958, -0.4014306287783995, -0.2921694716943618, -0.2987211930670418, -0.24927977152744182, -0.18196526551649314, -0.09832798414819048, -0.13461433233923117, -0.15656424757861, -0.16314384929959813, -0.13974287891627782, -0.16880180875337822, -0.06917595980227298, -0.09793026954357555, -0.0019549333985421956, 0.0019541855407843732, 0.08225814159652778, 0.054662943349004275, 0.12491550924891193, 0.09660793668537772, 0.10468225143968551, 0.0924183057631708, 0.07167959536310235, 0.04324022664852576, 0.06718311695539571, 0.08365795736339184, 0.09197931902919619, 0.08249695574775018, 0.10370901545033308, 0.04404019003126341, 0.06426655232725034, 0.0013814433192429847, 0.0007795787913145253, 0.03290793921519189, 0.02213679270174663, 0.0516268270185492, 0.0410789347966778, 0.046205738592502814, 0.042796024308400404, 0.03545779648774541, 0.0244696987332515, 0.04332554735614493, 0.05820147875492073, 0.0687330404340181, 0.06640587931976566, 0.09028003779931408, 0.04191436786520183, 0.06721351616791868, 0.0019572712526271397, 0.0005512454498077132, 0.023269426973936927, 0.015653076233125923, 0.03650567947596108, 0.02904719335865096, 0.032672391088491744, 0.030261358996294268, 0.02507244834241731, 0.017302689907874008, 0.03063578833414896, 0.04115466030268919, 0.04860159898246337, 0.04695604757766174, 0.06383762693367276, 0.029637933746631723, 0.04752713306972693, 0.0013839997753541382, 0.009042707016661699, 0.3043934772717619, 0.18820446688609574, 0.4014306287783995, 0.2921694716943619, 0.2987211930670419, 0.24927977152744182, 0.18196526551649317, 0.0983279841481905, 0.13461433233923115, 0.15656424757861004, 0.1631438492995981, 0.13974287891627785, 0.16880180875337825, 0.06917595980227297, 0.09793026954357555, 0.0019549333985421948, 0.00639415945176466, 0.21523869192781606, 0.1330806547847574, 0.2838543197851863, 0.20659501469077468, 0.21122778130184147, 0.17626741685968744, 0.12866887318712286, 0.06952838437158881, 0.09518670724196986, 0.11070764115420449, 0.11536012214862183, 0.09881313730423043, 0.11936090364606837, 0.04891479027127524, 0.06924715767768863, 0.00138234666287725, 0.009027985722477287, 0.38001781938929435, 0.252532966703517, 0.5770871856735271, 0.4463112917740162, 0.4836131737086352, 0.4269559504521525, 0.3311468384272732, 0.19976207001454135, 0.3103739169113826, 0.3864847164641116, 0.4249279106964765, 0.38112109781530223, 0.4791169984821286, 0.20345775696295737, 0.2968999128968968, 0.006382019671239309, -2.446948078778562e-6, 0.039862064096887265, 0.03519975256350605, 0.10048657154338766, 0.09267533366290623, 0.11732564062918499, 0.11961597722131405, 0.10778816427566379, 0.08274415864774673, 0.1579384331294393, 0.21732217920121774, 0.25900439850457085, 0.25005838405176795, 0.3370075261690951, 0.15367778949546998, 0.24052644122689298, 0.006385480178398741, -5.29663061239993e-7, 0.008628488311629925, 0.007619290682696836, 0.02175118694131021, 0.02006037698758386, 0.025396148989245818, 0.02589191214056808, 0.023331679797716155, 0.01791068831790588, 0.034187138952519194, 0.0470412640584278, 0.0560637406965571, 0.05412729854559194, 0.07294819188021968, 0.03326488581213062, 0.05206402713416558, 0.0013821923759276783, 0.20886569565143145, 7.024121992600376, 4.341177980074375, 9.255103357306314, 6.732550794033019, 6.879318486289881, 5.73648290384917, 4.183207914782365, 2.2551570971108386, 3.0775605540276407, 3.5715694063419394, 3.713578716105308, 3.1733799666489433, 3.8232053219860473, 1.561854619769402, 2.2031927014487924, 0.043365721972688086, 0.14769034975237272, 4.96680429284929, 3.06967638804831, 6.544346344533688, 4.760632321143633, 4.864412751597554, 4.056305961472445, 2.9579746836558463, 1.5946368760080425, 2.1761639372651738, 2.525480946702795, 2.625896692628098, 2.243918493699003, 2.7034144090448287, 1.1043979928664822, 1.5578924994551484, 0.030664196077938237, 0.0433514694201601, 1.8248069262398376, 1.21263762705927, 2.7711139839538137, 2.143141439517503, 2.3222612834907745, 2.050199058655904, 1.590133445151639, 0.9592371472168155, 1.4903839883462942, 1.8558603084006258, 2.0404606179722644, 1.8301047570536224, 2.3006711072508677, 0.9769834601437241, 1.4256831911854382, 0.030645809499649124, -1.1749995854086677e-5, 0.19141357838196535, 0.16902563249017963, 0.4825262984802933, 0.44501752847125525, 0.5633857959337952, 0.574383759354179, 0.5175878043113938, 0.3973290359092823, 0.758404295770209, 1.0435590059151019, 1.243712784514331, 1.20075493279582, 1.6182758717383485, 0.7379451182874227, 1.1549835126152983, 0.03066242650314376, 1.1426474458460512e-18, 0.0, -1.942890293094024e-16, -2.220446049250313e-16, -3.885780586188048e-16, -1.27675647831893e-15, -5.551115123125783e-16, -1.6653345369377348e-16, -2.7755575615628914e-17, -3.885780586188048e-16, -7.216449660063518e-16, -4.718447854656915e-16, -4.163336342344337e-16, -8.326672684688674e-16, -3.191891195797325e-16, -5.134781488891349e-16, -5.643780527555403e-18, 9.475122306223417e-19, -7.979727989493313e-17, -3.2959746043559335e-17, -1.1796119636642288e-16, -7.632783294297951e-17, -1.3877787807814457e-16, 0.0, -3.469446951953614e-17, -6.938893903907228e-18, -1.3877787807814457e-17, -2.0816681711721685e-17, -2.7755575615628914e-17, -8.326672684688674e-17, 5.551115123125783e-17, 1.3877787807814457e-17, -7.632783294297951e-17, 1.334076891925523e-19, 0.006385863543265043, 0.32423752853225796, 0.22981880184038664, 0.5624899417678249, 0.46683240170626716, 0.5462458804928826, 0.525309102217964, 0.45260842618933406, 0.33161556153423766, 0.6150705466144739, 0.8434181574432623, 1.011414806892077, 0.9898114817426094, 1.3606446736245492, 0.6382082960766399, 1.0326174540498487, 0.03070417479559765, 0.009030974830349335, 0.4585411102806518, 0.32501286645100924, 0.7954809043465099, 0.6602007138482069, 0.7725083325834667, 0.7428992567946792, 0.6400849747612983, 0.4689752246156889, 0.869841108838422, 1.1927733970079877, 1.43035653709174, 1.3998048216730106, 1.9242421510105534, 0.9025628279306082, 1.4603416082604717, 0.04342226041740834, -0.04335146942016006, -1.8248069262398379, -1.2126376270592694, -2.7711139839538137, -2.143141439517503, -2.3222612834907728, -2.050199058655902, -1.5901334451516385, -0.9592371472168156, -1.4903839883462942, -1.855860308400626, -2.040460617972265, -1.8301047570536242, -2.300671107250868, -0.9769834601437244, -1.4256831911854397, -0.03064580949964911, -0.20886569565143148, -7.024121992600379, -4.341177980074374, -9.255103357306314, -6.732550794033022, -6.879318486289882, -5.73648290384917, -4.183207914782367, -2.255157097110837, -3.0775605540276416, -3.57156940634194, -3.713578716105309, -3.173379966648943, -3.823205321986049, -1.561854619769402, -2.2031927014487933, -0.04336572197268808, -0.14769034975237277, -4.966804292849292, -3.0696763880483116, -6.544346344533691, -4.760632321143633, -4.8644127515975555, -4.0563059614724475, -2.9579746836558476, -1.5946368760080427, -2.1761639372651733, -2.5254809467027957, -2.625896692628097, -2.2439184936990046, -2.7034144090448295, -1.104397992866482, -1.5578924994551506, -0.030664196077938227, -0.009030974830349332, -0.45854111028065203, -0.3250128664510092, -0.7954809043465099, -0.6602007138482069, -0.7725083325834667, -0.7428992567946794, -0.6400849747612978, -0.46897522461568897, -0.8698411088384221, -1.1927733970079877, -1.43035653709174, -1.3998048216730103, -1.9242421510105534, -0.9025628279306077, -1.4603416082604719, -0.04342226041740835, -0.006385863543265043, -0.3242375285322579, -0.22981880184038642, -0.5624899417678251, -0.4668324017062675, -0.5462458804928826, -0.5253091022179643, -0.4526084261893342, -0.3316155615342378, -0.6150705466144744, -0.8434181574432619, -1.011414806892077, -0.9898114817426092, -1.3606446736245492, -0.6382082960766398, -1.032617454049848, -0.030704174795597654, 1.1749995854076562e-5, -0.1914135783819656, -0.16902563249017963, -0.4825262984802936, -0.44501752847125536, -0.5633857959337955, -0.5743837593541796, -0.5175878043113935, -0.3973290359092824, -0.758404295770209, -1.0435590059151014, -1.2437127845143323, -1.2007549327958211, -1.6182758717383503, -0.7379451182874223, -1.1549835126152987, -0.030662426503143773, 18.185486070410658, 7.9149302679160485, -1.4839591498173312, 1.919323086397454, 0.2924662932486153, 0.27576815333336613, 0.14108059911083656, 0.0482058810096372, -0.01241757841302467, -0.05084787848798936, -0.07239616852591088, -0.08409010067775191, -0.07769236622763617, -0.09943555308187647, -0.0427392078671836, -0.06291684238388949, -0.0013812451972537235, -0.0005512193514122831, -0.02301179365409424, -0.015435170083080376, -0.035929932183726275, -0.02857196954589755, -0.032154166577599334, -0.029826683530639293, -0.02476987890863111, -0.017132622386086774, -0.030241620833625044, -0.04055048946270421, -0.04785835122594758, -0.046261252019504095, -0.06298515078890843, -0.0293126357039241, -0.04714078746219004, -0.0013839562471393966, -0.006393967110040802, -0.21355750508014731, -0.13166609923897976, -0.2801520374853972, -0.2035835063803353, -0.20801612326281307, -0.1736701473870965, -0.12699336940230688, -0.06884499236220153, -0.09406247331938158, -0.10913045534694521, -0.11350273432544891, -0.09712309013537473, -0.1173240743611901, -0.048146557469859776, -0.0683406073221565, -0.0013822592200277103, 84.01367483973853, 36.56555427406771, -6.855624370198269, 8.866927453501813, 1.351141672399511, 1.2739992692854822, 0.6517669934145254, 0.2227025000501023, -0.05736697886707945, -0.23490805321564961, -0.3344572775580176, -0.3884811408520134, -0.35892475837634447, -0.45937437095634914, -0.1974474533569876, -0.2906644957147306, -0.006381104383282748, 2.4469480787797785e-6, -0.03986206409688717, -0.03519975256350602, -0.10048657154338772, -0.09267533366290626, -0.11732564062918502, -0.119615977221314, -0.10778816427566384, -0.08274415864774676, -0.15793843312943928, -0.21732217920121755, -0.2590043985045708, -0.25005838405176767, -0.33700752616909513, -0.15367778949546995, -0.24052644122689293, -0.006385480178398738, 5.296630612401787e-7, -0.008628488311629903, -0.007619290682696818, -0.021751186941310202, -0.02006037698758386, -0.025396148989245797, -0.02589191214056807, -0.02333167979771613, -0.017910688317905873, -0.03418713895251918, -0.04704126405842778, -0.056063740696557104, -0.05412729854559197, -0.07294819188021966, -0.0332648858121306, -0.05206402713416556, -0.0013821923759276783, 1.4609200757768545e-18, 6.765421556309548e-17, 3.469446951953614e-18, 4.163336342344337e-17, 8.673617379884035e-18, 4.163336342344337e-17, 4.163336342344337e-17, 1.5612511283791264e-17, 1.3444106938820255e-17, 3.122502256758253e-17, 4.85722573273506e-17, 3.8163916471489756e-17, 2.0816681711721685e-17, 3.469446951953614e-17, 1.5612511283791264e-17, 1.9949319973733282e-17, 4.774883542350101e-19, 2.268129239620402e-19, 5.854691731421724e-18, 6.071532165918825e-18, 8.239936510889834e-18, 1.3877787807814457e-17, 9.540979117872439e-18, 7.37257477290143e-18, 5.421010862427522e-18, 4.228388472693467e-18, 6.7220534694101275e-18, 1.2576745200831851e-17, 5.637851296924623e-18, 4.7704895589362195e-18, 1.3010426069826053e-17, 8.673617379884035e-18, 9.540979117872439e-18, 2.1726395097072804e-19, -0.14768591661821645, -4.928085447397944, -3.037099370613789, -6.459088724962029, -4.691289017709472, -4.7904721962577135, -3.9965257841976762, -2.9194325299165413, -1.5789632470464658, -2.1504939705628994, -2.4895197891736505, -2.5835784346631265, -2.2054313936275523, -2.657045225388546, -1.0869126534317286, -1.5372614663362127, -0.030662212339300682, 403.42512357128487, 175.5840734214717, -32.92001110511299, 42.57808398990062, 6.488044918757227, 6.117614943301102, 3.1297188268399636, 1.0693947595284954, -0.2754703991047881, -1.1280045846963485, -1.60602983723237, -1.8654469353030498, -1.7235201921232952, -2.2058690174196287, -0.9481225933912047, -1.3957413519309083, -0.030641414379953616, 1.1749995854093218e-5, -0.19141357838196482, -0.16902563249017935, -0.48252629848029355, -0.44501752847125503, -0.5633857959337948, -0.5743837593541787, -0.5175878043113936, -0.3973290359092822, -0.7584042957702087, -1.043559005915102, -1.2437127845143303, -1.2007549327958198, -1.6182758717383479, -0.7379451182874218, -1.1549835126152979, -0.030662426503143776, 3.995115599019633e-17, 6.661338147750939e-16, 6.38378239159465e-16, 1.9984014443252818e-15, 1.3322676295501878e-15, 1.4988010832439613e-15, 7.771561172376096e-16, 7.216449660063518e-16, 3.3306690738754696e-16, 1.1934897514720433e-15, 1.4432899320127035e-15, 1.1934897514720433e-15, 4.996003610813204e-16, 4.996003610813204e-16, 4.579669976578771e-16, 5.551115123125783e-16, 1.454440273730359e-17, 4.339985063494221e-19, 1.1449174941446927e-16, 5.724587470723463e-17, 2.3592239273284576e-16, 1.942890293094024e-16, 1.5265566588595902e-16, 1.0408340855860843e-16, 7.28583859910259e-17, 8.326672684688674e-17, 6.245004513516506e-17, 9.71445146547012e-17, 1.249000902703301e-16, 2.0816681711721685e-16, 4.440892098500626e-16, 1.5265566588595902e-16, 2.1510571102112408e-16, 4.556825497991322e-18, -0.006385450822228115, -0.31994576856825835, -0.22618144156661066, -0.5528441526474261, -0.458826365551001, -0.5374430698989209, -0.5178288963147791, -0.4472691884960487, -0.3283561240111419, -0.6070564380394574, -0.8309883029554452, -0.9960408081839157, -0.9753934536190592, -1.3429177756322181, -0.6314348494546843, -1.0245670039438395, -0.030703253084384253, 0.04335146942016006, 1.8248069262398379, 1.2126376270592698, 2.771113983953812, 2.1431414395175024, 2.3222612834907737, 2.050199058655902, 1.590133445151639, 0.9592371472168156, 1.490383988346294, 1.855860308400625, 2.040460617972266, 1.8301047570536242, 2.3006711072508694, 0.9769834601437246, 1.425683191185439, 0.030645809499649138, 0.14769034975237277, 4.966804292849293, 3.069676388048313, 6.544346344533688, 4.7606323211436345, 4.8644127515975555, 4.056305961472448, 2.957974683655849, 1.5946368760080436, 2.1761639372651738, 2.525480946702796, 2.625896692628096, 2.2439184936990038, 2.7034144090448304, 1.1043979928664818, 1.5578924994551495, 0.03066419607793821, 0.006385863543265045, 0.32423752853225785, 0.22981880184038667, 0.5624899417678251, 0.4668324017062675, 0.5462458804928826, 0.5253091022179645, 0.4526084261893341, 0.3316155615342379, 0.6150705466144744, 0.8434181574432623, 1.011414806892076, 0.9898114817426095, 1.3606446736245492, 0.6382082960766401, 1.0326174540498485, 0.03070417479559765, 0.00902798572247729, 0.38001781938929435, 0.25253296670351716, 0.577087185673527, 0.4463112917740164, 0.4836131737086349, 0.4269559504521525, 0.33114683842727327, 0.19976207001454124, 0.3103739169113824, 0.3864847164641114, 0.42492791069647595, 0.38112109781530235, 0.4791169984821284, 0.20345775696295737, 0.29689991289689677, 0.006382019671239311, -2.446948078775093e-6, 0.039862064096887306, 0.03519975256350607, 0.10048657154338778, 0.09267533366290641, 0.11732564062918518, 0.11961597722131416, 0.1077881642756639, 0.08274415864774684, 0.1579384331294396, 0.21732217920121782, 0.259004398504571, 0.2500583840517683, 0.3370075261690951, 0.15367778949546995, 0.24052644122689326, 0.006385480178398739, -1.1749995854074036e-5, 0.19141357838196568, 0.16902563249017988, 0.48252629848029455, 0.4450175284712558, 0.5633857959337961, 0.5743837593541798, 0.5175878043113938, 0.3973290359092827, 0.7584042957702093, 1.0435590059151012, 1.2437127845143325, 1.2007549327958202, 1.618275871738349, 0.7379451182874227, 1.1549835126152983, 0.03066242650314379, 0.0005512454498077129, 0.02326942697393693, 0.01565307623312593, 0.03650567947596108, 0.02904719335865098, 0.032672391088491744, 0.030261358996294268, 0.025072448342417345, 0.01730268990787401, 0.03063578833414897, 0.04115466030268919, 0.04860159898246336, 0.046956047577661766, 0.06383762693367277, 0.029637933746631744, 0.04752713306972695, 0.0013839997753541382, 0.0019541855407843732, 0.08225814159652772, 0.05466294334900426, 0.12491550924891186, 0.09660793668537769, 0.10468225143968544, 0.09241830576317069, 0.07167959536310227, 0.04324022664852573, 0.0671831169553957, 0.08365795736339175, 0.09197931902919625, 0.0824969557477502, 0.10370901545033313, 0.044040190031263415, 0.06426655232725036, 0.0013814433192429877, -5.29663061239684e-7, 0.008628488311629929, 0.007619290682696844, 0.021751186941310265, 0.02006037698758391, 0.025396148989245863, 0.025891912140568137, 0.023331679797716165, 0.017910688317905904, 0.034187138952519215, 0.04704126405842778, 0.0560637406965571, 0.05412729854559197, 0.07294819188021968, 0.03326488581213062, 0.052064027134165594, 0.0013821923759276791, 0.006394159451764666, 0.21523869192781625, 0.13308065478475747, 0.2838543197851867, 0.2065950146907748, 0.2112277813018417, 0.1762674168596875, 0.128668873187123, 0.06952838437158883, 0.09518670724196997, 0.11070764115420459, 0.11536012214862185, 0.09881313730423052, 0.11936090364606834, 0.04891479027127519, 0.0692471576776887, 0.0013823466628772494, 216013.3585748927, 94047.12401350659, -17600.909546159077, 22866.833160032576, 3530.025802056449, 3335.9179997118777, 1725.2097777778506, 605.423747617968, -132.1479575165161, -573.9223049748751, -815.631425100206, -945.3593609636731, -873.4385779460122, -1120.9749398684703, -484.83612002036193, -720.3070680848377, -16.404034982080912, 734642.2224785793, 317254.1061383885, -61078.027760406105, 76117.62381297357, 11388.636086868708, 11293.102028380135, 6290.290133642559, 2734.3651968251684, 253.85609133054786, -575.6139692521203, -939.9478784059801, -1110.3909324815916, -1015.8978196867655, -1276.8733925246818, -537.7960997442019, -777.43102903751, -16.410283352236704, -3.412973589420592, -171.11532926407983, -120.9870308751323, -295.76431091566496, -245.4949634128975, -287.5892667713764, -277.12034983458443, -239.38276009316004, -175.76373264231637, -324.9807281725294, -444.87972343904534, -533.2598986594714, -522.2197536677671, -719.0064466546091, -338.0811255014698, -548.5806538508169, -16.440010901499555, 44904.765042537554, 19544.05192320564, -3664.2868217690934, 4739.315292519391, 722.1764725090101, 680.9443576984132, 348.3652364640626, 119.03304382544825, -30.66227863666722, -125.55683293666863, -178.76524856410248, -207.64065358042467, -191.84295858482983, -245.5326258934365, -105.5343849457368, -155.3582903161371, -3.4106589622441295, 0.0013078778991457074, -21.306015071901367, -18.81403975525248, -53.70942163515059, -49.53436558167499, -62.709794994311466, -63.93396506821992, -57.61207565789873, -44.2262168606156, -84.41706953532048, -116.15729718023242, -138.43617342078548, -133.65458663938858, -180.12833992868033, -82.13978310929103, -128.5598249381965, -3.412997796391458, 0.006953818923196776, -95.15599560337023, -84.27066000291137, -241.76136276628404, -224.40909982052318, -286.26651596951814, -294.28906232428733, -267.43983187987675, -206.39010875783293, -389.7407558844748, -533.2151792648202, -634.228175907988, -613.1467250388712, -829.8343733926318, -381.11291596515036, -601.7684798380286, -16.416222527119974, -9.790345617544105e-17, 4.618527782440651e-14, -5.329070518200751e-15, 0.0, 1.0658141036401503e-14, 2.4868995751603507e-14, 6.750155989720952e-14, 8.526512829121202e-14, 6.572520305780927e-14, 1.2079226507921703e-13, 2.0961010704922955e-13, 1.3500311979441904e-13, 9.237055564881302e-14, 2.4868995751603507e-13, 3.552713678800501e-14, 2.0605739337042905e-13, 4.704678487066349e-15, -1.8917489796876907e-10, -7.003109203651547e-11, 2.1373125491663814e-11, -1.6370904631912708e-11, 2.0463630789890885e-12, -1.1368683772161603e-12, 1.3642420526593924e-12, -8.526512829121202e-13, -2.1316282072803006e-13, 1.9628743075372768e-13, 2.7000623958883807e-13, 4.547473508864641e-13, 1.8474111129762605e-13, 1.8474111129762605e-13, 2.0605739337042905e-13, 2.4158453015843406e-13, -6.661338147750939e-16, -0.14748847579740537, -7.394581006234047, -5.228334234777426, -12.781157240084767, -10.608815612543221, -12.427875742464666, -11.975470058060955, -10.34467719034462, -7.59544507215093, -14.0436981098822, -19.225004671266188, -23.044258666735328, -22.56716942718387, -31.071095065203025, -14.60981390712541, -23.70632488725393, -0.7104373940742494, 1940.5176007903322, 844.5780021744772, -158.34874239406946, 204.80509656640544, 31.20818368502506, 29.426376243610438, 15.054279255700926, 5.14390213154707, -1.325041815015091, -5.425821602279749, -7.725173729774317, -8.972997465430074, -8.290314788840409, -10.610463759539508, -4.560570159576362, -6.7136638283615415, -0.14738845065236322, 9334.78487914925, 4062.8098197869626, -761.7305019704221, 985.2069972579204, 150.12576080218838, 141.55444500742348, 72.41802821338673, 24.744542290073994, -6.374062412010951, -26.10070500226027, -37.161649496056235, -43.16425732331777, -39.88023870679457, -51.04122561061593, -21.938446396247073, -32.29582023020877, -0.7090064423793774, 5.651872536402479e-5, -0.9207195987010182, -0.8130312062083411, -2.32100263552318, -2.140581476468431, -2.70994538804825, -2.762846757703114, -2.4896521945123884, -1.911194773051304, -3.6480050410074174, -5.019629418502722, -5.982390306565922, -5.7757584869757865, -7.7840784536258525, -3.549594228979674, -5.555593104891491, -0.1474895211918468, 0.0002718811427952509, -4.4290860254965985, -3.9110551777005673, -11.165093425446523, -10.297184416666122, -13.036087496124868, -13.2905674891635, -11.97637560731718, -9.19372855021892, -17.548587182093602, -24.146733209576663, -28.778057231821215, -27.784062854096664, -37.44500839230935, -17.075185776361863, -26.724965797334328, -0.7094926383011828, 4.799288679142866e-17, 6.661338147750939e-16, 9.43689570931383e-16, 3.9968028886505635e-15, 1.2212453270876722e-15, 5.995204332975845e-15, 3.3306690738754696e-15, 2.220446049250313e-16, 1.8318679906315083e-15, 2.55351295663786e-15, 7.771561172376096e-15, 1.2434497875801753e-14, 4.218847493575595e-15, 1.554312234475219e-14, 4.3298697960381105e-15, 6.8833827526759706e-15, 2.828886755922022e-16, 4.188544042854625e-16, 3.108624468950438e-14, 2.220446049250313e-14, 6.572520305780927e-14, 3.6415315207705135e-14, 3.907985046680551e-14, 7.993605777301127e-15, 8.881784197001252e-15, 8.215650382226158e-15, 8.43769498715119e-15, 4.440892098500626e-15, 3.552713678800501e-15, 6.661338147750939e-15, 2.1316282072803006e-14, 5.995204332975845e-15, 7.105427357601002e-15, 1.4724820755068757e-16, -3.4175425226718206, -114.03871498294886, -70.28016189530273, -149.46675736693018, -108.5588226841305, -110.85384361014589, -92.48141016228578, -67.55685758625795, -36.537691374694525, -49.76278877879232, -57.60766369382734, -59.78393826219445, -51.03339224446239, -61.48336413294198, -25.15073482883756, -35.57138557273601, -0.7094876063025575, 0.2085251624520598, 8.77751471466502, 5.832915505752672, 13.329351955217033, 10.308737461741087, 11.170322895003125, 9.861674759436648, 7.648710399110497, 4.61403234143703, 7.168904940078777, 8.926884774005003, 9.814831827634181, 8.802997842362082, 11.066471859086452, 4.699393987432073, 6.857687248517189, 0.1474095916439092, 1.003102230346607, 42.22389511004397, 28.059014482671675, 64.12033213702489, 49.58978292275627, 53.7344063321157, 47.43920508115174, 36.79382560072066, 22.195624154715247, 34.48573999403592, 42.942434004386634, 47.21386896912333, 42.34648071040277, 53.234834939738576, 22.606253051855532, 32.98863932350881, 0.7091081403016889, 0.2085936977403262, 10.597866311342969, 7.512931130985081, 18.390728122490124, 15.264952719992047, 17.863555253924655, 17.18051092205877, 14.804212443104941, 10.848208083511299, 20.122989434209508, 27.594945494048424, 33.09251925017444, 32.38653829604675, 44.52117017280735, 20.883017891323135, 33.78920986234276, 1.0047403564996225, 0.14749801818496178, 7.493823134859079, 5.312444549307074, 13.004208566370943, 10.793951582798442, 12.631441056150711, 12.1484557772373, 10.468159008645767, 7.670841499573554, 14.229102286674781, 19.512573085314813, 23.39994476834469, 22.900740848292457, 31.481221335552327, 14.766523562594594, 23.892579424597947, 0.7104587194126728, 4.833280062684722, 162.54219440230162, 100.45726014460392, 214.16802072725585, 155.7946589873178, 159.19075572794034, 132.74480380296762, 96.80113611438144, 52.18502341319093, 71.21526195741377, 82.64636710961712, 85.93211807482825, 73.43160171882487, 88.46803310162153, 36.140715591246405, 50.98068343478529, 1.003431912334772, 3.4176451076981076, 114.93468789080958, 71.03400986767058, 151.43965976954397, 110.16345984257838, 112.56486287743792, 93.86475093635634, 68.44873977304115, 36.900383931846065, 50.356794654063705, 58.439806623643136, 60.763183412434174, 51.92398352877072, 62.5563461243925, 25.555345071504746, 36.04878696626134, 0.7095335096709035, 4.825399894107142, 203.1170630758098, 134.97723503879635, 308.4493629300411, 238.55049468046792, 258.4881089690203, 228.20519010910692, 176.99584029054165, 106.77153255735179, 165.89284828718587, 206.573577675997, 227.1212159953772, 203.7067582485406, 256.08493243232533, 108.74685329419572, 158.6910804130053, 3.4111481777285624, -0.0013078778991426725, 21.306015071901438, 18.814039755252537, 53.709421635150676, 49.534365581675075, 62.70979499431156, 63.933965068219976, 57.612075657898814, 44.2262168606156, 84.41706953532045, 116.15729718023255, 138.43617342078554, 133.65458663938864, 180.1283399286802, 82.1397831092911, 128.5598249381965, 3.4129977963914566, -0.00027188114279480964, 4.42908602549661, 3.91105517770057, 11.165093425446544, 10.297184416666143, 13.036087496124887, 13.290567489163525, 11.976375607317188, 9.193728550218928, 17.548587182093627, 24.146733209576688, 28.778057231821258, 27.784062854096685, 37.44500839230938, 17.07518577636188, 26.72496579733435, 0.7094926383011831, -5.651872536395896e-5, 0.9207195987010208, 0.8130312062083433, 2.321002635523186, 2.1405814764684363, 2.709945388048253, 2.762846757703116, 2.489652194512394, 1.911194773051305, 3.6480050410074165, 5.019629418502726, 5.982390306565923, 5.775758486975789, 7.7840784536258605, 3.5495942289796805, 5.555593104891494, 0.14748952119184686, -1.0389409911639342e6, -448635.738116863, 86402.04556066295, -107582.01096304778, -16053.450446613082, -15914.863437247423, -8850.542573052297, -3837.788715803652, -347.1372940248865, 833.4804468987234, 1356.5196469489915, 1602.376575113663, 1465.8418576583038, 1840.8859484807483, 773.7997640783578, 1115.0768855251658, 23.20914750720026, -734642.2201046911, -317233.37270506594, 61095.47232433375, -76071.96948565662, -11351.503672242363, -11253.507858135536, -6258.278670585539, -2713.72642570599, -245.46313460774974, 589.3596759884795, 959.2042411704131, 1133.0513422773452, 1036.5067176972711, 1301.7029375617658, 547.1590604603575, 788.4784272992205, 16.41134558790014, 23.209090721864623, 946.1851411989511, 623.2457145563852, 1415.324388141524, 1091.5295140951443, 1183.2006039777464, 1048.3692005037983, 818.6164946612431, 498.2697997028187, 767.9577932477782, 949.4027624618892, 1039.070165245374, 930.5091175249927, 1171.7365714745124, 500.2896262514, 736.3393793614297, 16.406388342088526, -0.006953818923184021, 95.15599560337058, 84.27066000291175, 241.76136276628506, 224.4090998205238, 286.2665159695186, 294.28906232428767, 267.43983187987715, 206.39010875783322, 389.7407558844753, 533.2151792648201, 634.228175907988, 613.146725038871, 829.8343733926321, 381.11291596515065, 601.7684798380286, 16.416222527119995, 3.4131944065209305, 173.41185774008525, 122.93339918689286, 300.92586623124953, 249.77913241037615, 292.2999031703138, 281.12335437673073, 242.24021179171353, 177.50845693244204, 329.2711071728867, 451.53425282289265, 541.4907180019796, 529.938824294724, 728.4970488825229, 341.70749406289167, 552.8907111892026, 16.44050438444151, 4.82698582071789, 245.24140109234193, 173.85408039872925, 425.57344129310394, 353.2410366525382, 413.3744873438002, 397.56846045939017, 342.5793928679723, 251.0348672297799, 465.65966546150094, 638.5658642181368, 765.7835172975442, 749.446672545651, 1030.25040667844, 483.247372468265, 781.9055422738759, 23.25038427273153, -0.0005512193514122829, -0.02301179365409424, -0.015435170083080376, -0.03592993218372625, -0.02857196954589755, -0.03215416657759932, -0.0298266835306393, -0.024769878908631117, -0.01713262238608677, -0.030241620833625027, -0.04055048946270425, -0.047858351225947525, -0.04626125201950406, -0.06298515078890847, -0.029312635703924127, -0.047140787462190054, -0.0013839562471393962, 7.247585703882056, 3.1543911026006657, -0.5914123536604606, 0.7649209104582844, 0.11655858510512533, 0.10990376160122722, 0.05622581267566418, 0.019211818298161973, -0.0049488621549415674, -0.020264751559316563, -0.028852538447017684, -0.033513000925595574, -0.030963268212465832, -0.03962872865666222, -0.01703314779347267, -0.025074677994822582, -0.0005504770621149405, 18.18548607041066, 7.914930267916047, -1.4839591498173335, 1.9193230863974526, 0.29246629324861506, 0.27576815333336574, 0.14108059911083623, 0.048205881009637117, -0.012417578413024693, -0.05084787848798941, -0.0723961685259108, -0.08409010067775198, -0.0776923662276363, -0.09943555308187654, -0.04273920786718362, -0.06291684238388952, -0.001381245197253723, 2.1109022962903968e-7, -0.0034387702529014696, -0.003036567843819435, -0.008668648773419666, -0.007994798759119126, -0.010121300340033206, -0.010318880207523312, -0.00929853336307676, -0.0071380686827366546, -0.0136248334836679, -0.018747675567337942, -0.022343464673162984, -0.021571721185230344, -0.02907254007663632, -0.013257281654161603, -0.020749431567741686, -0.0005508545476872154, 5.296630612403365e-7, -0.008628488311629903, -0.0076192906826968426, -0.02175118694131021, -0.02006037698758388, -0.0253961489892458, -0.02589191214056809, -0.023331679797716134, -0.017910688317905883, -0.03418713895251917, -0.0470412640584278, -0.05606374069655706, -0.054127298545591944, -0.07294819188021966, -0.03326488581213058, -0.052064027134165546, -0.0013821923759276783, 9.60852999541597e-20, 5.637851296924623e-18, 0.0, 1.214306433183765e-17, 3.469446951953614e-18, 8.239936510889834e-18, 7.806255641895632e-18, 4.336808689942018e-19, 6.071532165918825e-18, 7.37257477290143e-18, 1.6046192152785466e-17, 1.691355389077387e-17, 1.2576745200831851e-17, 1.5612511283791264e-17, 7.589415207398531e-18, 2.1250362580715887e-17, 5.563682974480668e-19, 1.4822017785766188e-18, 5.204170427930421e-17, 2.949029909160572e-17, 9.71445146547012e-17, 9.540979117872439e-17, 7.28583859910259e-17, 5.551115123125783e-17, 3.469446951953614e-17, 2.1250362580715887e-17, 1.6479873021779667e-17, 1.5612511283791264e-17, 2.6020852139652106e-17, 1.9949319973733282e-17, 4.336808689942018e-17, -8.673617379884035e-19, 2.0816681711721685e-17, 1.8250913035370003e-19, -0.006393967110040803, -0.21355750508014743, -0.13166609923897987, -0.2801520374853971, -0.20358350638033532, -0.20801612326281307, -0.17367014738709638, -0.12699336940230693, -0.06884499236220155, -0.0940624733193816, -0.1091304553469452, -0.11350273432544893, -0.09712309013537465, -0.11732407436119004, -0.04814655746985978, -0.0683406073221565, -0.0013822592200277103, 2.446948078778736e-6, -0.03986206409688717, -0.03519975256350603, -0.10048657154338768, -0.09267533366290628, -0.11732564062918505, -0.11961597722131401, -0.10778816427566384, -0.08274415864774672, -0.15793843312943945, -0.21732217920121766, -0.259004398504571, -0.2500583840517678, -0.33700752616909535, -0.15367778949546998, -0.2405264412268931, -0.00638548017839874, 84.01367483973853, 36.56555427406769, -6.855624370198271, 8.866927453501809, 1.3511416723995113, 1.2739992692854822, 0.6517669934145242, 0.22270250005010242, -0.05736697886707951, -0.23490805321564945, -0.33445727755801735, -0.38848114085201335, -0.3589247583763444, -0.4593743709563488, -0.19744745335698755, -0.2906644957147307, -0.006381104383282749, 0.0007788148820045269, 0.0327828977875342, 0.021785195359334812, 0.04978342924243405, 0.038501819423002855, 0.041719731111224456, 0.03683209725782331, 0.028566957660754986, 0.01723282222301349, 0.02677494547590978, 0.03334077590532072, 0.03665714488288935, 0.03287807401882025, 0.04133186073945535, 0.01755163708195711, 0.025612587097280134, 0.0005505560210215891, 0.0019541855407843745, 0.08225814159652776, 0.054662943349004296, 0.12491550924891189, 0.09660793668537772, 0.10468225143968551, 0.09241830576317081, 0.0716795953631024, 0.04324022664852575, 0.06718311695539572, 0.08365795736339184, 0.09197931902919625, 0.08249695574775016, 0.10370901545033308, 0.044040190031263436, 0.06426655232725038, 0.0013814433192429853, 0.0007795787913145255, 0.03290793921519189, 0.02213679270174663, 0.0516268270185492, 0.0410789347966778, 0.046205738592502814, 0.04279602430840039, 0.0354577964877454, 0.0244696987332515, 0.04332554735614493, 0.05820147875492073, 0.06873304043401807, 0.06640587931976566, 0.09028003779931403, 0.04191436786520183, 0.06721351616791871, 0.001957271252627139, 0.000551245449807713, 0.023269426973936927, 0.015653076233125937, 0.036505679475961096, 0.02904719335865095, 0.032672391088491744, 0.030261358996294264, 0.025072448342417335, 0.017302689907874008, 0.03063578833414898, 0.04115466030268919, 0.04860159898246334, 0.04695604757766174, 0.06383762693367277, 0.02963793374663175, 0.04752713306972695, 0.0013839997753541382, 0.009042707016661697, 0.3043934772717619, 0.18820446688609585, 0.40143062877839947, 0.2921694716943618, 0.29872119306704176, 0.2492797715274418, 0.18196526551649314, 0.09832798414819047, 0.13461433233923115, 0.15656424757861004, 0.1631438492995981, 0.13974287891627785, 0.16880180875337825, 0.06917595980227297, 0.09793026954357552, 0.001954933398542195, 0.006394159451764661, 0.21523869192781608, 0.13308065478475736, 0.28385431978518644, 0.20659501469077463, 0.2112277813018413, 0.17626741685968733, 0.1286688731871228, 0.06952838437158887, 0.09518670724196994, 0.11070764115420458, 0.11536012214862187, 0.09881313730423047, 0.11936090364606847, 0.04891479027127522, 0.06924715767768864, 0.0013823466628772505, 0.009027985722477285, 0.38001781938929435, 0.2525329667035171, 0.5770871856735271, 0.44631129177401596, 0.4836131737086352, 0.4269559504521525, 0.3311468384272733, 0.1997620700145413, 0.31037391691138266, 0.38648471646411164, 0.4249279106964763, 0.3811210978153023, 0.4791169984821287, 0.20345775696295731, 0.2968999128968968, 0.006382019671239306, -2.446948078776598e-6, 0.039862064096887306, 0.03519975256350608, 0.10048657154338789, 0.09267533366290653, 0.11732564062918518, 0.1196159772213142, 0.10778816427566393, 0.08274415864774684, 0.15793843312943948, 0.21732217920121777, 0.2590043985045711, 0.2500583840517681, 0.3370075261690954, 0.15367778949547, 0.24052644122689298, 0.006385480178398744, -5.296630612393408e-7, 0.008628488311629934, 0.007619290682696844, 0.021751186941310254, 0.0200603769875839, 0.025396148989245852, 0.025891912140568102, 0.023331679797716155, 0.017910688317905904, 0.03418713895251922, 0.04704126405842786, 0.05606374069655713, 0.05412729854559195, 0.07294819188021967, 0.03326488581213059, 0.052064027134165566, 0.0013821923759276791, -2.1109022962870727e-7, 0.0034387702529014826, 0.0030365678438194423, 0.008668648773419685, 0.007994798759119133, 0.010121300340033224, 0.010318880207523327, 0.009298533363076768, 0.0071380686827366676, 0.013624833483667912, 0.01874767556733796, 0.02234346467316302, 0.021571721185230364, 0.029072540076636358, 0.013257281654161613, 0.020749431567741707, 0.0005508545476872156, 0.20886569565143145, 7.02412199260038, 4.341177980074375, 9.255103357306314, 6.732550794033022, 6.879318486289884, 5.73648290384917, 4.183207914782365, 2.2551570971108372, 3.0775605540276416, 3.5715694063419394, 3.7135787161053093, 3.1733799666489424, 3.8232053219860473, 1.561854619769402, 2.2031927014487924, 0.04336572197268808, 0.14769034975237277, 4.966804292849291, 3.0696763880483084, 6.544346344533686, 4.760632321143633, 4.864412751597552, 4.056305961472446, 2.9579746836558476, 1.5946368760080432, 2.1761639372651747, 2.5254809467027974, 2.625896692628098, 2.2439184936990033, 2.7034144090448313, 1.1043979928664827, 1.5578924994551495, 0.030664196077938254, 0.0433514694201601, 1.8248069262398376, 1.2126376270592705, 2.7711139839538137, 2.143141439517503, 2.3222612834907745, 2.0501990586559034, 1.5901334451516391, 0.9592371472168159, 1.490383988346294, 1.855860308400625, 2.040460617972265, 1.8301047570536226, 2.300671107250867, 0.9769834601437247, 1.425683191185439, 0.030645809499649096, -1.1749995854081426e-5, 0.19141357838196563, 0.1690256324901799, 0.48252629848029455, 0.4450175284712558, 0.5633857959337958, 0.5743837593541792, 0.5175878043113942, 0.39732903590928265, 0.7584042957702095, 1.043559005915102, 1.2437127845143314, 1.2007549327958202, 1.6182758717383496, 0.7379451182874226, 1.1549835126152996, 0.03066242650314377, 4.631322045702338e-17, 1.27675647831893e-15, 1.0269562977782698e-15, 2.4980018054066022e-15, 1.5543122344752192e-15, 1.2212453270876722e-15, 1.1102230246251565e-15, 1.2212453270876722e-15, 4.85722573273506e-16, 2.498001805406602e-16, 1.6653345369377348e-16, 4.163336342344337e-16, 3.608224830031759e-16, -2.7755575615628914e-17, 9.71445146547012e-17, 2.0816681711721685e-16, -7.157428404298838e-19, 2.7088113653192525e-18, 2.7755575615628914e-17, 3.9898639947466563e-17, 1.3183898417423734e-16, 3.469446951953614e-17, 1.1796119636642288e-16, 1.0408340855860843e-16, 1.1796119636642288e-16, 1.0061396160665481e-16, 2.5673907444456745e-16, 4.649058915617843e-16, 4.163336342344337e-16, 2.498001805406602e-16, 4.3021142204224816e-16, 3.2612801348363973e-16, 2.983724378680108e-16, 8.728251004981938e-18, 0.006385863543265041, 0.32423752853225807, 0.22981880184038664, 0.5624899417678256, 0.46683240170626755, 0.5462458804928828, 0.5253091022179643, 0.4526084261893344, 0.3316155615342376, 0.6150705466144741, 0.8434181574432622, 1.0114148068920774, 0.9898114817426106, 1.3606446736245492, 0.6382082960766398, 1.032617454049849, 0.030704174795597644, 0.009030974830349333, 0.4585411102806518, 0.32501286645100924, 0.7954809043465099, 0.6602007138482069, 0.7725083325834667, 0.7428992567946792, 0.6400849747612979, 0.4689752246156889, 0.8698411088384225, 1.1927733970079877, 1.4303565370917404, 1.3998048216730106, 1.9242421510105534, 0.9025628279306082, 1.4603416082604717, 0.04342226041740835, 403.4251235712849, 175.58407342147166, -32.92001110511301, 42.57808398990063, 6.488044918757227, 6.1176149433010885, 3.129718826839952, 1.069394759528491, -0.27547039910478904, -1.1280045846963485, -1.6060298372323711, -1.8654469353030496, -1.7235201921232952, -2.2058690174196305, -0.9481225933912044, -1.3957413519309094, -0.030641414379953616, -0.1476859166182164, -4.928085447397945, -3.0370993706137863, -6.459088724962027, -4.691289017709472, -4.790472196257716, -3.996525784197678, -2.9194325299165396, -1.5789632470464652, -2.1504939705628994, -2.4895197891736496, -2.5835784346631274, -2.2054313936275514, -2.657045225388548, -1.086912653431729, -1.5372614663362136, -0.03066221233930071, -0.006385450822228118, -0.31994576856825857, -0.2261814415666106, -0.5528441526474261, -0.45882636555100076, -0.5374430698989205, -0.5178288963147788, -0.4472691884960487, -0.3283561240111419, -0.6070564380394576, -0.830988302955445, -0.996040808183915, -0.975393453619058, -1.3429177756322186, -0.6314348494546844, -1.0245670039438395, -0.03070325308438427, 1.174999585408964e-5, -0.19141357838196507, -0.1690256324901792, -0.4825262984802933, -0.44501752847125503, -0.563385795933795, -0.5743837593541786, -0.517587804311393, -0.3973290359092822, -0.7584042957702082, -1.043559005915101, -1.2437127845143305, -1.2007549327958196, -1.6182758717383499, -0.7379451182874225, -1.1549835126152979, -0.030662426503143762, -0.0007788148820045268, -0.0327828977875342, -0.021785195359334812, -0.04978342924243405, -0.038501819423002855, -0.041719731111224456, -0.03683209725782331, -0.028566957660754986, -0.01723282222301349, -0.026774945475909775, -0.033340775905320745, -0.03665714488288935, -0.03287807401882025, -0.04133186073945535, -0.017551637081957092, -0.025612587097280155, -0.0005505560210215894, -0.0019541855407843745, -0.08225814159652776, -0.054662943349004296, -0.12491550924891189, -0.09660793668537772, -0.10468225143968551, -0.09241830576317084, -0.07167959536310237, -0.04324022664852575, -0.06718311695539572, -0.08365795736339177, -0.09197931902919618, -0.08249695574775015, -0.10370901545033306, -0.04404019003126342, -0.06426655232725036, -0.001381443319242985, -0.0005512454498077138, -0.02326942697393693, -0.015653076233125916, -0.03650567947596109, -0.02904719335865096, -0.03267239108849175, -0.030261358996294264, -0.025072448342417324, -0.01730268990787401, -0.030635788334148966, -0.04115466030268918, -0.04860159898246337, -0.04695604757766173, -0.06383762693367277, -0.029637933746631755, -0.047527133069726946, -0.0013839997753541384, -0.006394159451764659, -0.21523869192781608, -0.13308065478475747, -0.2838543197851864, -0.20659501469077463, -0.2112277813018414, -0.17626741685968741, -0.12866887318712283, -0.06952838437158888, -0.09518670724196994, -0.11070764115420455, -0.11536012214862186, -0.0988131373042305, -0.11936090364606837, -0.04891479027127523, -0.06924715767768863, -0.0013823466628772498, -0.009027985722477285, -0.38001781938929435, -0.2525329667035171, -0.5770871856735271, -0.44631129177401596, -0.4836131737086352, -0.4269559504521525, -0.3311468384272732, -0.19976207001454135, -0.3103739169113826, -0.3864847164641116, -0.4249279106964763, -0.38112109781530223, -0.4791169984821287, -0.20345775696295743, -0.2968999128968968, -0.006382019671239306, 2.4469480787771345e-6, -0.0398620640968873, -0.03519975256350607, -0.10048657154338775, -0.09267533366290631, -0.11732564062918518, -0.11961597722131412, -0.10778816427566394, -0.0827441586477468, -0.15793843312943934, -0.21732217920121774, -0.25900439850457097, -0.2500583840517681, -0.3370075261690952, -0.15367778949546992, -0.24052644122689293, -0.006385480178398739, 5.296630612395061e-7, -0.008628488311629925, -0.007619290682696845, -0.02175118694131023, -0.020060376987583887, -0.02539614898924583, -0.025891912140568116, -0.02333167979771615, -0.017910688317905887, -0.03418713895251918, -0.047041264058427804, -0.0560637406965571, -0.05412729854559197, -0.07294819188021971, -0.033264885812130614, -0.05206402713416558, -0.0013821923759276783, -3.019143061369547e-19, -2.42861286636753e-17, -2.6020852139652106e-17, -4.163336342344337e-17, -4.683753385137379e-17, -5.0306980803327406e-17, -2.949029909160572e-17, -2.2551405187698492e-17, -9.974659986866641e-18, -9.540979117872439e-18, -1.3010426069826053e-17, -6.071532165918825e-18, -3.469446951953614e-18, -3.469446951953614e-18, 4.336808689942018e-19, -4.336808689942018e-18, 4.454863906965586e-20, 3.332545251853638e-20, -4.336808689942018e-19, -1.3010426069826053e-18, 6.938893903907228e-18, 6.938893903907228e-18, -8.673617379884035e-19, -5.204170427930421e-18, -2.3852447794681098e-18, -3.144186300207963e-18, -3.0357660829594124e-18, -9.107298248878237e-18, -1.1709383462843448e-17, -3.903127820947816e-18, -6.938893903907228e-18, -4.553649124439119e-18, -3.0357660829594124e-18, -4.19863644042116e-19, 2.1109022962878305e-7, -0.0034387702529014826, -0.00303656784381944, -0.008668648773419666, -0.00799479875911913, -0.01012130034003321, -0.01031888020752333, -0.009298533363076764, -0.007138068682736663, -0.013624833483667918, -0.01874767556733795, -0.022343464673163015, -0.021571721185230357, -0.029072540076636337, -0.013257281654161592, -0.020749431567741707, -0.0005508545476872155, -0.14769034975237277, -4.966804292849292, -3.0696763880483107, -6.544346344533683, -4.760632321143633, -4.864412751597554, -4.056305961472446, -2.9579746836558467, -1.5946368760080427, -2.1761639372651747, -2.5254809467027948, -2.625896692628097, -2.2439184936990033, -2.7034144090448304, -1.1043979928664829, -1.55789249945515, -0.030664196077938237, -0.2085251624520597, -8.777514714665022, -5.8329155057526725, -13.32935195521703, -10.308737461741089, -11.17032289500313, -9.86167475943665, -7.648710399110498, -4.614032341437029, -7.168904940078776, -8.926884774005005, -9.814831827634181, -8.802997842362082, -11.066471859086452, -4.699393987432077, -6.857687248517188, -0.14740959164390896, -0.0433514694201601, -1.8248069262398376, -1.2126376270592705, -2.7711139839538137, -2.143141439517503, -2.3222612834907745, -2.0501990586559034, -1.5901334451516391, -0.9592371472168154, -1.4903839883462933, -1.855860308400625, -2.040460617972265, -1.8301047570536226, -2.3006711072508677, -0.9769834601437247, -1.4256831911854393, -0.03064580949964911, 5.6518725363996105e-5, -0.920719598701021, -0.813031206208342, -2.3210026355231816, -2.1405814764684346, -2.709945388048251, -2.7628467577031164, -2.4896521945123897, -1.9111947730513037, -3.6480050410074156, -5.019629418502722, -5.98239030656592, -5.775758486975787, -7.7840784536258525, -3.5495942289796782, -5.55559310489149, -0.14748952119184686, 1.1749995854079002e-5, -0.1914135783819654, -0.16902563249017974, -0.4825262984802936, -0.44501752847125525, -0.5633857959337957, -0.5743837593541791, -0.5175878043113936, -0.39732903590928237, -0.7584042957702091, -1.0435590059151023, -1.2437127845143312, -1.2007549327958205, -1.6182758717383496, -0.7379451182874228, -1.1549835126152996, -0.030662426503143762, -9.064946601515522e-18, -7.771561172376096e-16, -6.938893903907228e-16, -5.551115123125783e-16, -1.6653345369377348e-16, 4.440892098500626e-16, 0.0, -3.0531133177191805e-16, -1.6653345369377348e-16, 2.7755575615628914e-16, 1.6653345369377348e-16, -5.551115123125783e-17, -1.3877787807814457e-16, -8.326672684688674e-17, 1.249000902703301e-16, 2.0816681711721685e-16, 2.7333753207896272e-18, -1.81307402359783e-18, 2.7755575615628914e-17, -1.3877787807814457e-17, -2.7755575615628914e-17, 1.1102230246251565e-16, 4.163336342344337e-17, -4.163336342344337e-17, -1.0408340855860843e-17, -5.204170427930421e-17, -6.938893903907228e-17, -1.734723475976807e-16, -2.914335439641036e-16, -1.6653345369377348e-16, -1.5265566588595902e-16, -1.3183898417423734e-16, -2.1510571102112408e-16, -7.28490686286061e-18, -0.006385863543265038, -0.3242375285322579, -0.22981880184038653, -0.5624899417678254, -0.46683240170626733, -0.5462458804928826, -0.525309102217964, -0.45260842618933406, -0.3316155615342377, -0.6150705466144745, -0.8434181574432623, -1.0114148068920776, -0.9898114817426104, -1.3606446736245494, -0.6382082960766399, -1.0326174540498494, -0.03070417479559765, 0.20852516245205951, 8.77751471466502, 5.832915505752665, 13.329351955217044, 10.308737461741094, 11.170322895003125, 9.861674759436642, 7.648710399110497, 4.614032341437026, 7.1689049400787805, 8.926884774004998, 9.81483182763417, 8.802997842362082, 11.066471859086434, 4.6993939874320745, 6.85768724851719, 0.147409591643909, 0.043351469420160056, 1.8248069262398379, 1.2126376270592694, 2.7711139839538137, 2.143141439517503, 2.3222612834907728, 2.0501990586559025, 1.5901334451516385, 0.9592371472168156, 1.4903839883462942, 1.8558603084006269, 2.040460617972265, 1.8301047570536233, 2.3006711072508677, 0.9769834601437246, 1.4256831911854393, 0.030645809499649117, 0.14769034975237277, 4.966804292849292, 3.0696763880483116, 6.544346344533689, 4.760632321143632, 4.8644127515975555, 4.056305961472448, 2.957974683655846, 1.5946368760080427, 2.1761639372651747, 2.5254809467027934, 2.6258966926280967, 2.2439184936990038, 2.703414409044829, 1.104397992866482, 1.557892499455148, 0.03066419607793823, 0.006385863543265043, 0.3242375285322579, 0.22981880184038667, 0.5624899417678251, 0.4668324017062673, 0.5462458804928828, 0.5253091022179643, 0.45260842618933445, 0.3316155615342377, 0.6150705466144741, 0.8434181574432615, 1.0114148068920763, 0.9898114817426092, 1.360644673624549, 0.6382082960766398, 1.0326174540498485, 0.030704174795597644, 0.009027985722477285, 0.3800178193892943, 0.2525329667035171, 0.5770871856735269, 0.4463112917740164, 0.48361317370863516, 0.4269559504521523, 0.3311468384272731, 0.19976207001454133, 0.3103739169113824, 0.38648471646411153, 0.42492791069647573, 0.38112109781530223, 0.4791169984821285, 0.20345775696295745, 0.2968999128968966, 0.006382019671239306, -2.4469480787771044e-6, 0.03986206409688722, 0.03519975256350601, 0.10048657154338764, 0.09267533366290635, 0.11732564062918499, 0.119615977221314, 0.10778816427566384, 0.08274415864774673, 0.1579384331294395, 0.21732217920121766, 0.25900439850457113, 0.25005838405176783, 0.33700752616909524, 0.15367778949546992, 0.24052644122689312, 0.00638548017839874, -1.1749995854081399e-5, 0.19141357838196538, 0.1690256324901797, 0.4825262984802935, 0.44501752847125525, 0.5633857959337953, 0.5743837593541791, 0.5175878043113935, 0.3973290359092823, 0.7584042957702087, 1.0435590059151003, 1.2437127845143308, 1.2007549327958207, 1.6182758717383505, 0.7379451182874223, 1.1549835126152974, 0.030662426503143776, -5.65187253640058e-5, 0.9207195987010194, 0.8130312062083416, 2.3210026355231785, 2.1405814764684328, 2.70994538804825, 2.7628467577031146, 2.4896521945123897, 1.9111947730513046, 3.6480050410074183, 5.019629418502726, 5.982390306565927, 5.775758486975787, 7.784078453625856, 3.549594228979675, 5.555593104891493, 0.1474895211918468, 0.0005512454498077131, 0.023269426973936923, 0.015653076233125913, 0.03650567947596107, 0.029047193358650972, 0.03267239108849174, 0.030261358996294237, 0.025072448342417317, 0.017302689907874, 0.03063578833414896, 0.0411546603026892, 0.04860159898246337, 0.04695604757766171, 0.06383762693367274, 0.029637933746631734, 0.047527133069726966, 0.0013839997753541382, 0.0007788148820045268, 0.03278289778753421, 0.021785195359334812, 0.04978342924243405, 0.038501819423002875, 0.04171973111122444, 0.03683209725782331, 0.028566957660754986, 0.01723282222301349, 0.026774945475909764, 0.03334077590532073, 0.03665714488288938, 0.03287807401882026, 0.04133186073945535, 0.017551637081957092, 0.025612587097280114, 0.0005505560210215899, 0.0019541855407843732, 0.08225814159652772, 0.05466294334900426, 0.12491550924891186, 0.09660793668537769, 0.10468225143968544, 0.09241830576317069, 0.07167959536310228, 0.04324022664852574, 0.06718311695539571, 0.08365795736339178, 0.09197931902919629, 0.08249695574775015, 0.10370901545033313, 0.044040190031263415, 0.06426655232725031, 0.0013814433192429864, -2.1109022962896662e-7, 0.00343877025290148, 0.003036567843819436, 0.008668648773419663, 0.007994798759119126, 0.010121300340033215, 0.010318880207523317, 0.00929853336307676, 0.007138068682736661, 0.013624833483667909, 0.01874767556733794, 0.022343464673162998, 0.021571721185230347, 0.029072540076636323, 0.013257281654161599, 0.020749431567741707, 0.0005508545476872153, -5.296630612400432e-7, 0.008628488311629923, 0.0076192906826968365, 0.02175118694131019, 0.020060376987583874, 0.025396148989245814, 0.025891912140568078, 0.023331679797716137, 0.017910688317905876, 0.03418713895251918, 0.04704126405842779, 0.05606374069655709, 0.054127298545591986, 0.07294819188021966, 0.033264885812130586, 0.052064027134165566, 0.0013821923759276785, 0.006394159451764662, 0.21523869192781594, 0.13308065478475736, 0.2838543197851865, 0.20659501469077474, 0.21122778130184144, 0.17626741685968741, 0.1286688731871229, 0.06952838437158883, 0.09518670724196988, 0.11070764115420459, 0.11536012214862187, 0.09881313730423044, 0.11936090364606833, 0.04891479027127519, 0.06924715767768863, 0.0013823466628772488, 734642.2201046909, 317233.3727050659, -61095.47232433381, 76071.96948565665, 11351.50367224237, 11253.50785813554, 6258.2786705855415, 2713.7264257059896, 245.46313460774894, -589.3596759884794, -959.2042411704123, -1133.0513422773452, -1036.5067176972707, -1301.7029375617653, -547.1590604603578, -788.4784272992206, -16.411345587900147, -23.209090721864627, -946.1851411989511, -623.245714556385, -1415.3243881415244, -1091.5295140951443, -1183.2006039777464, -1048.369200503798, -818.6164946612431, -498.26979970281855, -767.9577932477779, -949.4027624618885, -1039.0701652453738, -930.5091175249922, -1171.7365714745124, -500.28962625139997, -736.3393793614295, -16.40638834208852, 0.006953818923189875, -95.1559956033705, -84.27066000291157, -241.76136276628424, -224.4090998205233, -286.26651596951837, -294.2890623242875, -267.43983187987703, -206.39010875783305, -389.740755884475, -533.2151792648204, -634.2281759079882, -613.1467250388712, -829.8343733926322, -381.1129159651505, -601.7684798380283, -16.41622252711998, 6.548361852765083e-11, 3.092281986027956e-11, -1.0459189070388675e-11, 5.9117155615240335e-12, -3.183231456205249e-12, -1.1368683772161603e-12, -5.684341886080801e-13, 2.2737367544323206e-13, 2.1316282072803006e-13, -6.838973831690964e-14, -8.526512829121202e-14, -1.1368683772161603e-13, -7.105427357601002e-14, -2.2737367544323206e-13, -7.815970093361102e-14, -1.2079226507921703e-13, 1.7932703932910243e-15, -1.3086320221900039e-16, -1.4210854715202004e-14, -3.552713678800501e-15, -2.4868995751603507e-14, 0.0, 2.1316282072803006e-14, -3.907985046680551e-14, -3.019806626980426e-14, -2.1316282072803006e-14, -4.973799150320701e-14, -1.1368683772161603e-13, 4.263256414560601e-14, -6.394884621840902e-14, 6.394884621840902e-14, -3.552713678800501e-15, -2.4868995751603507e-14, -4.181876199493839e-15, -3.413194406520933, -173.4118577400851, -122.93339918689281, -300.9258662312493, -249.77913241037598, -292.2999031703138, -281.12335437673073, -242.24021179171345, -177.5084569324419, -329.2711071728866, -451.53425282289265, -541.4907180019791, -529.9388242947235, -728.4970488825227, -341.7074940628916, -552.8907111892023, -16.440504384441514, 0.0013078778991442736, -21.30601507190145, -18.81403975525251, -53.70942163515064, -49.53436558167504, -62.70979499431155, -63.933965068219976, -57.612075657898814, -44.22621686061557, -84.41706953532044, -116.1572971802325, -138.43617342078562, -133.65458663938867, -180.12833992868042, -82.13978310929109, -128.55982493819644, -3.412997796391459, -4.82539989410714, -203.11706307580977, -134.97723503879638, -308.449362930041, -238.55049468046792, -258.48810896902035, -228.20519010910687, -176.99584029054165, -106.7715325573518, -165.89284828718587, -206.57357767599694, -227.1212159953772, -203.70675824854055, -256.0849324323252, -108.74685329419574, -158.69108041300518, -3.411148177728561, 23.209090721864627, 946.1851411989511, 623.245714556385, 1415.324388141525, 1091.5295140951437, 1183.2006039777452, 1048.369200503798, 818.6164946612427, 498.2697997028182, 767.9577932477781, 949.4027624618888, 1039.0701652453747, 930.5091175249929, 1171.7365714745129, 500.2896262514001, 736.3393793614297, 16.406388342088526, -734642.2201046909, -317233.3727050658, 61095.472324333736, -76071.96948565666, -11351.50367224236, -11253.507858135548, -6258.278670585545, -2713.7264257059906, -245.46313460774928, 589.3596759884789, 959.2042411704115, 1133.0513422773458, 1036.5067176972705, 1301.7029375617656, 547.1590604603578, 788.4784272992202, 16.41134558790015, 3.413194406520932, 173.41185774008522, 122.93339918689279, 300.9258662312495, 249.77913241037595, 292.2999031703137, 281.1233543767305, 242.24021179171334, 177.508456932442, 329.27110717288656, 451.53425282289294, 541.4907180019792, 529.9388242947236, 728.4970488825227, 341.7074940628915, 552.8907111892024, 16.440504384441518, 4.82539989410714, 203.1170630758096, 134.9772350387962, 308.4493629300413, 238.55049468046826, 258.48810896902023, 228.20519010910692, 176.99584029054148, 106.77153255735179, 165.89284828718579, 206.5735776759969, 227.12121599537716, 203.7067582485407, 256.08493243232533, 108.74685329419569, 158.6910804130052, 3.411148177728562, -0.0013078778991448604, 21.306015071901417, 18.81403975525249, 53.70942163515059, 49.53436558167496, 62.70979499431149, 63.93396506821989, 57.61207565789883, 44.22621686061559, 84.41706953532045, 116.15729718023246, 138.4361734207855, 133.6545866393886, 180.1283399286804, 82.13978310929107, 128.5598249381966, 3.4129977963914593, -0.006953818923191026, 95.1559956033704, 84.27066000291153, 241.76136276628418, 224.40909982052312, 286.26651596951814, 294.2890623242875, 267.43983187987703, 206.39010875783305, 389.7407558844747, 533.2151792648202, 634.2281759079884, 613.1467250388716, 829.8343733926322, 381.11291596515076, 601.7684798380287, 16.41622252711997, 0.14749801818496183, 7.493823134859073, 5.312444549307074, 13.004208566370933, 10.793951582798439, 12.631441056150711, 12.148455777237304, 10.468159008645765, 7.670841499573558, 14.229102286674774, 19.5125730853148, 23.399944768344675, 22.900740848292436, 31.481221335552334, 14.766523562594593, 23.892579424597937, 0.7104587194126721, 1.0031022303466066, 42.223895110043934, 28.059014482671696, 64.12033213702489, 49.58978292275626, 53.734406332115654, 47.439205081151684, 36.79382560072062, 22.195624154715244, 34.48573999403591, 42.94243400438661, 47.21386896912329, 42.34648071040276, 53.23483493973847, 22.606253051855546, 32.98863932350879, 0.709108140301689, -0.00027188114279507787, 4.429086025496606, 3.9110551777005713, 11.165093425446509, 10.29718441666613, 13.036087496124875, 13.290567489163516, 11.976375607317191, 9.193728550218918, 17.5485871820936, 24.146733209576652, 28.77805723182126, 27.784062854096682, 37.4450083923094, 17.075185776361863, 26.724965797334352, 0.7094926383011829, -2.120970499924768e-17, -4.996003610813204e-16, 1.1102230246251565e-16, 0.0, -7.771561172376096e-16, -1.887379141862766e-15, 3.3306690738754696e-16, 3.3306690738754696e-16, -1.609823385706477e-15, -1.9984014443252818e-15, -4.884981308350689e-15, -5.551115123125783e-15, 1.9984014443252818e-15, -6.661338147750939e-15, -1.887379141862766e-15, -3.552713678800501e-15, 1.4596071747086103e-17, -4.257661931350576e-16, -1.0658141036401503e-14, -1.3322676295501878e-14, -1.5987211554602254e-14, -1.4210854715202004e-14, 0.0, 7.105427357601002e-15, -7.993605777301127e-15, -3.1086244689504383e-15, -2.220446049250313e-15, 3.9968028886505635e-15, -3.552713678800501e-15, -4.440892098500626e-16, -7.993605777301127e-15, 8.881784197001252e-16, 2.220446049250313e-15, -2.0812615953574864e-16, 3.417645107698109, 114.93468789080966, 71.03400986767059, 151.43965976954402, 110.16345984257835, 112.56486287743797, 93.86475093635633, 68.44873977304118, 36.90038393184605, 50.35679465406367, 58.439806623643115, 60.76318341243413, 51.9239835287707, 62.55634612439249, 25.555345071504746, 36.048786966261346, 0.7095335096709026, -1.003102230346607, -42.22389511004397, -28.059014482671675, -64.12033213702489, -49.58978292275627, -53.7344063321157, -47.43920508115174, -36.793825600720666, -22.195624154715258, -34.48573999403592, -42.942434004386634, -47.213868969123325, -42.34648071040276, -53.23483493973856, -22.606253051855525, -32.98863932350881, -0.7091081403016886, -0.14749801818496172, -7.493823134859077, -5.312444549307078, -13.004208566370941, -10.79395158279844, -12.631441056150718, -12.1484557772373, -10.468159008645765, -7.670841499573554, -14.229102286674781, -19.512573085314816, -23.399944768344692, -22.900740848292443, -31.481221335552313, -14.766523562594587, -23.892579424597955, -0.7104587194126726, -3.4176451076981076, -114.93468789080958, -71.03400986767059, -151.43965976954394, -110.16345984257832, -112.56486287743792, -93.86475093635633, -68.4487397730412, -36.90038393184606, -50.35679465406373, -58.43980662364315, -60.76318341243416, -51.923983528770705, -62.55634612439248, -25.555345071504746, -36.048786966261375, -0.7095335096709033, 0.0002718811427949865, -4.429086025496609, -3.9110551777005718, -11.16509342544652, -10.29718441666613, -13.036087496124864, -13.290567489163514, -11.976375607317197, -9.193728550218923, -17.548587182093613, -24.146733209576677, -28.778057231821254, -27.7840628540967, -37.4450083923094, -17.075185776361867, -26.72496579733435, -0.7094926383011826, 734642.2224785794, 317254.10613838845, -61078.02776040609, 76117.62381297356, 11388.636086868677, 11293.10202838012, 6290.290133642548, 2734.365196825168, 253.85609133054743, -575.6139692521207, -939.9478784059814, -1110.390932481592, -1015.8978196867653, -1276.8733925246813, -537.796099744202, -777.4310290375103, -16.410283352236707, 216013.35857489269, 94047.1240135066, -17600.909546159077, 22866.83316003257, 3530.0258020564506, 3335.917999711875, 1725.2097777778522, 605.4237476179691, -132.1479575165159, -573.9223049748753, -815.6314251002069, -945.3593609636727, -873.4385779460131, -1120.9749398684708, -484.8361200203616, -720.307068084838, -16.40403498208091, 0.00695381892319235, -95.15599560337007, -84.27066000291141, -241.76136276628435, -224.40909982052307, -286.2665159695181, -294.2890623242873, -267.43983187987686, -206.39010875783302, -389.7407558844748, -533.2151792648203, -634.2281759079877, -613.146725038871, -829.8343733926316, -381.1129159651504, -601.7684798380282, -16.416222527119977, -1.9099388737231493e-10, -9.458744898438454e-11, 1.4097167877480388e-11, -2.955857780762017e-11, -6.821210263296962e-12, -4.320099833421409e-12, -2.3874235921539366e-12, -1.1368683772161603e-12, -1.9895196601282805e-13, 6.128431095930864e-14, 2.4868995751603507e-13, 3.126388037344441e-13, 3.126388037344441e-13, 2.5579538487363607e-13, 1.7763568394002505e-13, 2.2026824808563106e-13, 7.414641817193868e-15, 7.807339844068117e-16, 3.907985046680551e-14, 3.375077994860476e-14, 1.1723955140041653e-13, 1.2434497875801753e-13, 1.3500311979441904e-13, 6.394884621840902e-14, 5.684341886080802e-14, 3.730349362740526e-14, 3.197442310920451e-14, 1.4210854715202004e-14, 7.815970093361102e-14, 9.237055564881302e-14, 1.4921397450962104e-13, 7.460698725481052e-14, 2.0961010704922955e-13, 2.8411517929982644e-15, -3.412973589420586, -171.1153292640799, -120.9870308751323, -295.7643109156649, -245.49496341289762, -287.5892667713767, -277.12034983458454, -239.3827600931601, -175.76373264231637, -324.9807281725294, -444.87972343904556, -533.2598986594718, -522.2197536677677, -719.0064466546089, -338.08112550146967, -548.580653850817, -16.440010901499555, 0.0013078778991447153, -21.30601507190138, -18.8140397552525, -53.70942163515062, -49.53436558167499, -62.70979499431145, -63.93396506821991, -57.612075657898785, -44.22621686061558, -84.4170695353204, -116.15729718023235, -138.43617342078554, -133.65458663938855, -180.1283399286803, -82.139783109291, -128.55982493819653, -3.412997796391457, 44904.76504253755, 19544.051923205636, -3664.286821769093, 4739.315292519394, 722.1764725090094, 680.9443576984129, 348.36523646406215, 119.03304382544832, -30.662278636667228, -125.55683293666863, -178.76524856410242, -207.6406535804248, -191.84295858482992, -245.53262589343674, -105.53438494573676, -155.35829031613713, -3.410658962244131, 23.20909072186462, 946.1851411989517, 623.2457145563851, 1415.3243881415249, 1091.5295140951437, 1183.2006039777452, 1048.3692005037979, 818.6164946612428, 498.2697997028184, 767.957793247778, 949.402762461889, 1039.070165245375, 930.5091175249925, 1171.7365714745133, 500.2896262514002, 736.3393793614296, 16.406388342088523, -1.0389409911639341e6, -448635.73811686295, 86402.04556066298, -107582.0109630478, -16053.450446613057, -15914.863437247426, -8850.542573052302, -3837.788715803652, -347.13729402488667, 833.4804468987231, 1356.5196469489922, 1602.376575113663, 1465.8418576583044, 1840.8859484807476, 773.7997640783577, 1115.076885525166, 23.20914750720027, -734642.2201046911, -317233.3727050661, 61095.472324333736, -76071.96948565665, -11351.503672242383, -11253.507858135557, -6258.2786705855415, -2713.7264257059937, -245.46313460774968, 589.3596759884791, 959.2042411704113, 1133.0513422773456, 1036.506717697271, 1301.702937561766, 547.1590604603575, 788.4784272992204, 16.411345587900154, 4.826985820717887, 245.24140109234185, 173.85408039872917, 425.573441293104, 353.2410366525381, 413.3744873438, 397.5684604593902, 342.5793928679721, 251.03486722977993, 465.6596654615012, 638.5658642181369, 765.7835172975444, 749.4466725456514, 1030.2504066784404, 483.24737246826464, 781.9055422738763, 23.250384272731534, 3.4131944065209305, 173.41185774008505, 122.93339918689288, 300.9258662312495, 249.779132410376, 292.2999031703138, 281.1233543767306, 242.2402117917134, 177.50845693244202, 329.2711071728866, 451.5342528228926, 541.4907180019798, 529.938824294724, 728.497048882523, 341.7074940628918, 552.8907111892028, 16.440504384441518, 4.82539989410714, 203.1170630758096, 134.9772350387962, 308.4493629300413, 238.55049468046826, 258.48810896902023, 228.2051901091068, 176.99584029054165, 106.77153255735178, 165.89284828718573, 206.5735776759969, 227.12121599537716, 203.70675824854064, 256.0849324323254, 108.74685329419579, 158.6910804130051, 3.4111481777285624, -0.0013078778991435086, 21.306015071901424, 18.8140397552525, 53.70942163515069, 49.53436558167504, 62.70979499431156, 63.93396506821996, 57.612075657898835, 44.226216860615686, 84.41706953532054, 116.1572971802326, 138.4361734207855, 133.65458663938867, 180.12833992868013, 82.13978310929106, 128.55982493819656, 3.412997796391457, -0.006953818923185839, 95.15599560337057, 84.27066000291161, 241.7613627662847, 224.40909982052352, 286.2665159695187, 294.28906232428756, 267.4398318798772, 206.39010875783333, 389.7407558844753, 533.2151792648206, 634.2281759079882, 613.1467250388708, 829.8343733926322, 381.1129159651507, 601.7684798380288, 16.41622252711998, 0.20859369774032618, 10.597866311342965, 7.512931130985083, 18.390728122490128, 15.264952719992053, 17.863555253924652, 17.18051092205877, 14.80421244310494, 10.848208083511299, 20.122989434209504, 27.594945494048417, 33.092519250174426, 32.38653829604676, 44.52117017280738, 20.883017891323146, 33.78920986234277, 1.0047403564996225, 0.14749801818496178, 7.493823134859082, 5.312444549307077, 13.004208566370933, 10.793951582798444, 12.631441056150718, 12.148455777237311, 10.468159008645767, 7.670841499573557, 14.229102286674781, 19.51257308531481, 23.3999447683447, 22.900740848292454, 31.481221335552334, 14.766523562594598, 23.892579424597933, 0.7104587194126727, 0.2085251624520595, 8.77751471466502, 5.832915505752665, 13.32935195521705, 10.308737461741094, 11.170322895003125, 9.861674759436648, 7.648710399110495, 4.614032341437027, 7.168904940078781, 8.926884774005002, 9.814831827634176, 8.802997842362084, 11.06647185908644, 4.699393987432072, 6.857687248517195, 0.14740959164390896, 1.003102230346607, 42.22389511004396, 28.059014482671696, 64.12033213702486, 49.58978292275626, 53.734406332115654, 47.4392050811517, 36.79382560072062, 22.19562415471525, 34.4857399940359, 42.94243400438661, 47.2138689691233, 42.346480710402744, 53.2348349397385, 22.60625305185554, 32.98863932350879, 0.7091081403016894, -5.651872536395211e-5, 0.9207195987010215, 0.8130312062083427, 2.321002635523183, 2.1405814764684363, 2.7099453880482542, 2.762846757703119, 2.489652194512394, 1.9111947730513061, 3.648005041007417, 5.0196294185027295, 5.982390306565927, 5.77575848697579, 7.78407845362586, 3.5495942289796822, 5.555593104891494, 0.14748952119184683, -0.00027188114279489355, 4.429086025496616, 3.9110551777005744, 11.165093425446532, 10.29718441666614, 13.036087496124884, 13.290567489163532, 11.9763756073172, 9.193728550218925, 17.54858718209361, 24.146733209576656, 28.77805723182124, 27.784062854096675, 37.4450083923094, 17.07518577636188, 26.724965797334345, 0.7094926383011829, 2.835188681049594e-17, 1.7763568394002505e-15, 1.7763568394002505e-15, 5.440092820663267e-15, 6.328271240363392e-15, 2.4424906541753444e-15, 2.4424906541753444e-15, 5.218048215738236e-15, 1.4432899320127035e-15, 4.218847493575595e-15, 3.1086244689504383e-15, 3.9968028886505635e-15, 5.10702591327572e-15, 2.220446049250313e-15, 4.884981308350689e-15, 3.9968028886505635e-15, 1.260994889236422e-16, 9.522818731483307e-16, 2.398081733190338e-14, 1.7763568394002505e-15, 1.5987211554602254e-14, 1.2434497875801753e-14, 3.8191672047105385e-14, 3.8191672047105385e-14, 1.9539925233402755e-14, 1.3100631690576847e-14, 1.2878587085651816e-14, 1.7319479184152442e-14, 1.4210854715202004e-14, 1.4654943925052066e-14, 1.509903313490213e-14, 1.3100631690576847e-14, 1.5987211554602254e-14, 2.1811437204977135e-16, 3.417645107698108, 114.93468789080961, 71.03400986767055, 151.439659769544, 110.16345984257838, 112.56486287743799, 93.86475093635632, 68.44873977304115, 36.90038393184605, 50.35679465406368, 58.439806623643115, 60.763183412434174, 51.92398352877073, 62.55634612439251, 25.555345071504735, 36.04878696626133, 0.7095335096709029, 4.833280062684723, 162.5421944023015, 100.45726014460388, 214.16802072725582, 155.79465898731777, 159.19075572794034, 132.74480380296765, 96.8011361143814, 52.185023413190926, 71.21526195741377, 82.6463671096171, 85.93211807482825, 73.43160171882491, 88.46803310162151, 36.1407155912464, 50.98068343478529, 1.0034319123347721, 1940.5176007903322, 844.5780021744773, -158.34874239406957, 204.80509656640552, 31.20818368502502, 29.426376243610477, 15.054279255700935, 5.143902131547067, -1.3250418150150924, -5.425821602279749, -7.725173729774319, -8.972997465430073, -8.290314788840407, -10.610463759539517, -4.56057015957636, -6.713663828361549, -0.14738845065236328, 9334.78487914925, 4062.8098197869617, -761.730501970421, 985.2069972579206, 150.12576080218847, 141.5544450074239, 72.41802821338688, 24.744542290074104, -6.37406241201092, -26.10070500226025, -37.161649496056214, -43.16425732331776, -39.880238706794565, -51.04122561061594, -21.938446396247077, -32.29582023020877, -0.7090064423793769, -0.14748847579740534, -7.394581006234056, -5.228334234777423, -12.781157240084761, -10.608815612543228, -12.42787574246467, -11.975470058060955, -10.344677190344626, -7.595445072150932, -14.0436981098822, -19.225004671266184, -23.044258666735335, -22.56716942718388, -31.071095065203036, -14.6098139071254, -23.70632488725392, -0.7104373940742492, -3.417542522671824, -114.03871498294892, -70.28016189530267, -149.46675736693007, -108.55882268413059, -110.85384361014582, -92.48141016228578, -67.55685758625793, -36.53769137469451, -49.762788778792306, -57.6076636938273, -59.78393826219451, -51.033392244462405, -61.48336413294201, -25.150734828837578, -35.57138557273603, -0.7094876063025584, 0.00027188114279507093, -4.429086025496595, -3.9110551777005598, -11.165093425446525, -10.297184416666134, -13.036087496124862, -13.290567489163502, -11.976375607317175, -9.193728550218912, -17.5485871820936, -24.14673320957665, -28.778057231821222, -27.784062854096653, -37.44500839230939, -17.075185776361867, -26.724965797334338, -0.7094926383011828, 5.65187253640343e-5, -0.9207195987010185, -0.8130312062083407, -2.3210026355231808, -2.140581476468434, -2.70994538804825, -2.7628467577031115, -2.4896521945123866, -1.9111947730513035, -3.648005041007415, -5.019629418502722, -5.982390306565922, -5.775758486975785, -7.784078453625848, -3.549594228979676, -5.55559310489149, -0.14748952119184686, -23.20909072186462, -946.1851411989517, -623.2457145563851, -1415.3243881415249, -1091.5295140951437, -1183.2006039777452, -1048.3692005037979, -818.6164946612428, -498.26979970281855, -767.9577932477779, -949.4027624618892, -1039.0701652453743, -930.5091175249929, -1171.7365714745124, -500.28962625139997, -736.3393793614298, -16.40638834208852, 734642.2201046909, 317233.37270506594, -61095.472324333765, 76071.96948565665, 11351.50367224239, 11253.507858135554, 6258.278670585539, 2713.726425705993, 245.46313460775008, -589.3596759884792, -959.2042411704119, -1133.0513422773447, -1036.5067176972702, -1301.7029375617656, -547.1590604603574, -788.4784272992204, -16.41134558790015, -3.413194406520928, -173.41185774008517, -122.9333991868928, -300.92586623124936, -249.779132410376, -292.2999031703137, -281.1233543767306, -242.2402117917134, -177.50845693244204, -329.27110717288673, -451.5342528228927, -541.4907180019795, -529.9388242947235, -728.4970488825227, -341.70749406289156, -552.8907111892021, -16.440504384441518, -4.82539989410714, -203.1170630758096, -134.9772350387962, -308.4493629300413, -238.55049468046826, -258.48810896902023, -228.2051901091068, -176.9958402905416, -106.77153255735183, -165.89284828718579, -206.573577675997, -227.12121599537704, -203.70675824854064, -256.08493243232545, -108.74685329419576, -158.69108041300515, -3.4111481777285615, 0.0013078778991439425, -21.30601507190144, -18.81403975525251, -53.70942163515063, -49.53436558167502, -62.70979499431151, -63.93396506821991, -57.61207565789883, -44.22621686061561, -84.4170695353205, -116.15729718023246, -138.43617342078545, -133.6545866393887, -180.12833992868036, -82.13978310929106, -128.55982493819664, -3.412997796391458, 0.006953818923188278, -95.15599560337058, -84.27066000291155, -241.76136276628435, -224.40909982052318, -286.26651596951837, -294.2890623242876, -267.4398318798773, -206.39010875783313, -389.74075588447494, -533.2151792648204, -634.2281759079883, -613.1467250388714, -829.8343733926324, -381.1129159651507, -601.7684798380283, -16.416222527119974, -2.303387515445454e-16, -2.6645352591003757e-14, -4.973799150320701e-14, -8.881784197001252e-14, -9.947598300641403e-14, -8.171241461241152e-14, 1.4210854715202004e-14, 1.2434497875801753e-14, -3.552713678800501e-15, -4.263256414560601e-14, 4.973799150320701e-14, -5.684341886080802e-14, -1.0658141036401503e-13, 4.263256414560601e-14, -1.7763568394002505e-14, -7.815970093361102e-14, -4.314040444319822e-16, 6.411937647499144e-11, 2.000888343900442e-11, -1.8189894035458565e-12, 1.3642420526593924e-12, -1.3642420526593924e-12, 2.0463630789890885e-12, 2.0463630789890885e-12, 2.8421709430404007e-13, -7.105427357601002e-14, -6.572520305780927e-14, -1.5631940186722204e-13, -5.684341886080802e-14, -1.7053025658242404e-13, -7.105427357601002e-14, -7.105427357601002e-15, -9.237055564881302e-14, -4.573164763543858e-15, -0.14749801818496183, -7.493823134859079, -5.312444549307076, -13.004208566370927, -10.793951582798444, -12.631441056150718, -12.148455777237311, -10.468159008645772, -7.670841499573553, -14.229102286674784, -19.512573085314813, -23.39994476834468, -22.900740848292457, -31.48122133555233, -14.766523562594593, -23.892579424597937, -0.7104587194126724, -0.2085251624520595, -8.77751471466502, -5.832915505752665, -13.32935195521705, -10.308737461741094, -11.170322895003125, -9.861674759436648, -7.648710399110495, -4.614032341437028, -7.16890494007878, -8.926884774004998, -9.814831827634176, -8.80299784236208, -11.06647185908644, -4.699393987432074, -6.857687248517193, -0.14740959164390893, -1.003102230346607, -42.22389511004396, -28.059014482671696, -64.12033213702486, -49.58978292275626, -53.734406332115654, -47.4392050811517, -36.79382560072061, -22.19562415471524, -34.48573999403591, -42.942434004386584, -47.21386896912331, -42.34648071040274, -53.23483493973852, -22.60625305185553, -32.988639323508814, -0.7091081403016891, 5.6518725363969705e-5, -0.9207195987010218, -0.8130312062083429, -2.3210026355231794, -2.140581476468434, -2.7099453880482516, -2.762846757703117, -2.489652194512389, -1.911194773051304, -3.6480050410074196, -5.019629418502726, -5.982390306565928, -5.77575848697579, -7.78407845362586, -3.549594228979679, -5.555593104891493, -0.14748952119184675, 0.00027188114279493296, -4.429086025496614, -3.9110551777005735, -11.165093425446527, -10.297184416666132, -13.036087496124882, -13.29056748916352, -11.976375607317195, -9.193728550218918, -17.548587182093613, -24.146733209576674, -28.778057231821233, -27.784062854096675, -37.4450083923094, -17.075185776361877, -26.72496579733435, -0.7094926383011828, 1.2739375526704677e-18, -1.4432899320127035e-15, 1.6653345369377348e-16, -3.219646771412954e-15, -1.887379141862766e-15, -1.2212453270876722e-15, -2.55351295663786e-15, -8.881784197001252e-16, -1.2212453270876722e-15, -1.4432899320127035e-15, 4.440892098500626e-16, -2.220446049250313e-15, -1.7763568394002505e-15, -6.217248937900877e-15, -3.3306690738754696e-15, -2.220446049250313e-16, 2.0735366548785272e-18, -6.635317295611287e-16, -1.9539925233402755e-14, -8.881784197001252e-15, 1.7763568394002505e-14, 3.552713678800501e-15, -1.1546319456101628e-14, -1.4210854715202004e-14, 2.6645352591003757e-15, -6.8833827526759706e-15, -7.993605777301127e-15, -9.325873406851315e-15, -1.5987211554602254e-14, -7.993605777301127e-15, -1.9539925233402755e-14, -3.3306690738754696e-15, -6.661338147750939e-15, -1.349018553115089e-16, -3.4176451076981094, -114.93468789080961, -71.03400986767058, -151.43965976954394, -110.16345984257835, -112.56486287743796, -93.86475093635633, -68.44873977304118, -36.90038393184607, -50.35679465406368, -58.43980662364313, -60.76318341243416, -51.92398352877072, -62.55634612439252, -25.555345071504735, -36.04878696626135, -0.7095335096709028, 0.20852516245205976, 8.77751471466502, 5.832915505752672, 13.329351955217033, 10.30873746174109, 11.170322895003125, 9.861674759436648, 7.648710399110497, 4.61403234143703, 7.168904940078777, 8.926884774005003, 9.814831827634181, 8.802997842362085, 11.066471859086452, 4.699393987432073, 6.857687248517189, 0.14740959164390907, 1.003102230346607, 42.22389511004397, 28.059014482671675, 64.12033213702489, 49.58978292275627, 53.7344063321157, 47.43920508115173, 36.79382560072066, 22.195624154715247, 34.48573999403591, 42.942434004386634, 47.21386896912336, 42.34648071040278, 53.23483493973852, 22.606253051855532, 32.988639323508785, 0.7091081403016888, 0.1474980181849616, 7.493823134859081, 5.312444549307074, 13.004208566370933, 10.793951582798437, 12.631441056150718, 12.148455777237299, 10.468159008645767, 7.670841499573555, 14.22910228667477, 19.51257308531481, 23.3999447683447, 22.900740848292454, 31.481221335552313, 14.766523562594584, 23.892579424597947, 0.7104587194126724, 3.4176451076981085, 114.93468789080956, 71.0340098676705, 151.43965976954397, 110.16345984257832, 112.56486287743789, 93.86475093635629, 68.44873977304115, 36.90038393184605, 50.35679465406369, 58.439806623643136, 60.76318341243414, 51.923983528770705, 62.55634612439249, 25.55534507150474, 36.04878696626133, 0.7095335096709029, 4.82539989410714, 203.11706307580963, 134.97723503879618, 308.4493629300411, 238.55049468046792, 258.4881089690204, 228.20519010910692, 176.9958402905416, 106.77153255735182, 165.89284828718593, 206.57357767599694, 227.1212159953773, 203.70675824854055, 256.0849324323253, 108.74685329419572, 158.69108041300515, 3.411148177728563, -0.0013078778991441587, 21.306015071901424, 18.8140397552525, 53.70942163515058, 49.534365581674976, 62.70979499431148, 63.93396506821989, 57.61207565789881, 44.22621686061557, 84.41706953532038, 116.15729718023235, 138.43617342078556, 133.65458663938855, 180.12833992868022, 82.13978310929109, 128.55982493819636, 3.4129977963914593, -0.00027188114279510356, 4.429086025496608, 3.911055177700571, 11.165093425446521, 10.297184416666125, 13.03608749612486, 13.290567489163516, 11.976375607317186, 9.193728550218916, 17.548587182093616, 24.146733209576666, 28.778057231821247, 27.78406285409668, 37.4450083923094, 17.07518577636188, 26.72496579733434, 0.7094926383011828, -5.651872536403136e-5, 0.9207195987010197, 0.8130312062083423, 2.3210026355231808, 2.1405814764684328, 2.7099453880482507, 2.7628467577031133, 2.4896521945123897, 1.9111947730513021, 3.648005041007416, 5.01962941850272, 5.982390306565923, 5.775758486975786, 7.784078453625852, 3.5495942289796787, 5.55559310489149, 0.14748952119184683, -734642.2201046909, -317233.3727050658, 61095.472324333765, -76071.96948565662, -11351.503672242352, -11253.507858135545, -6258.278670585539, -2713.726425705992, -245.4631346077494, 589.3596759884791, 959.2042411704124, 1133.0513422773452, 1036.5067176972705, 1301.7029375617649, 547.1590604603579, 788.4784272992205, 16.41134558790015, 23.209090721864612, 946.1851411989509, 623.2457145563849, 1415.3243881415247, 1091.5295140951448, 1183.2006039777464, 1048.369200503798, 818.6164946612433, 498.26979970281883, 767.9577932477779, 949.402762461889, 1039.0701652453745, 930.5091175249926, 1171.7365714745122, 500.28962625139997, 736.3393793614289, 16.40638834208852, -0.006953818923189034, 95.15599560337043, 84.2706600029115, 241.7613627662841, 224.40909982052307, 286.26651596951797, 294.2890623242872, 267.439831879877, 206.39010875783308, 389.7407558844748, 533.2151792648203, 634.228175907988, 613.1467250388707, 829.8343733926321, 381.1129159651505, 601.768479838028, 16.41622252711998, 3.4131944065209323, 173.41185774008503, 122.93339918689284, 300.92586623124964, 249.77913241037604, 292.299903170314, 281.12335437673073, 242.24021179171348, 177.5084569324419, 329.2711071728867, 451.5342528228923, 541.4907180019793, 529.9388242947234, 728.4970488825224, 341.70749406289167, 552.8907111892022, 16.440504384441507, -0.0005512454498077132, -0.02326942697393694, -0.015653076233125916, -0.03650567947596109, -0.02904719335865098, -0.032672391088491744, -0.03026135899629426, -0.025072448342417328, -0.017302689907874008, -0.030635788334148956, -0.041154660302689175, -0.04860159898246334, -0.04695604757766174, -0.06383762693367279, -0.029637933746631748, -0.04752713306972696, -0.0013839997753541378, -0.0019541855407843732, -0.08225814159652772, -0.05466294334900426, -0.12491550924891186, -0.09660793668537769, -0.10468225143968547, -0.09241830576317064, -0.07167959536310227, -0.04324022664852573, -0.06718311695539571, -0.08365795736339178, -0.09197931902919629, -0.0824969557477502, -0.10370901545033309, -0.04404019003126343, -0.06426655232725036, -0.001381443319242987, 5.296630612397068e-7, -0.008628488311629942, -0.007619290682696846, -0.021751186941310233, -0.02006037698758391, -0.025396148989245852, -0.025891912140568112, -0.023331679797716158, -0.017910688317905883, -0.03418713895251918, -0.04704126405842778, -0.0560637406965571, -0.05412729854559199, -0.07294819188021966, -0.0332648858121306, -0.05206402713416559, -0.0013821923759276778, -3.4946726519140313e-20, -3.0357660829594124e-18, 1.0842021724855044e-18, -7.37257477290143e-18, -3.903127820947816e-18, -3.469446951953614e-18, 3.0357660829594124e-18, -6.938893903907228e-18, 1.0842021724855044e-19, -2.3852447794681098e-18, 0.0, 3.469446951953614e-18, 4.336808689942018e-19, -4.336808689942018e-18, -4.336808689942018e-18, -2.6020852139652106e-18, 1.657537598658259e-19, -8.12304596416874e-19, -2.6020852139652106e-17, 5.204170427930421e-18, -1.0408340855860843e-17, 1.5612511283791264e-17, -2.2551405187698492e-17, -2.42861286636753e-17, -2.2551405187698492e-17, -1.3010426069826053e-18, -2.0816681711721685e-17, -9.540979117872439e-18, -2.862293735361732e-17, -1.8214596497756474e-17, -2.2551405187698492e-17, -9.540979117872439e-18, -1.3877787807814457e-17, -3.364044289579657e-19, -0.006394159451764663, -0.21523869192781608, -0.13308065478475742, -0.2838543197851866, -0.2065950146907748, -0.21122778130184144, -0.1762674168596875, -0.1286688731871229, -0.06952838437158887, -0.09518670724196991, -0.11070764115420455, -0.11536012214862185, -0.0988131373042305, -0.11936090364606827, -0.0489147902712752, -0.0692471576776887, -0.0013823466628772494, 2.446948078775875e-6, -0.03986206409688728, -0.035199752563506055, -0.10048657154338758, -0.09267533366290631, -0.11732564062918513, -0.11961597722131412, -0.10778816427566394, -0.08274415864774676, -0.1579384331294396, -0.2173221792012177, -0.25900439850457124, -0.25005838405176833, -0.33700752616909546, -0.15367778949546979, -0.2405264412268933, -0.0063854801783987435, -0.009027985722477289, -0.38001781938929446, -0.2525329667035172, -0.5770871856735268, -0.4463112917740165, -0.483613173708635, -0.42695595045215234, -0.3311468384272732, -0.19976207001454133, -0.3103739169113824, -0.38648471646411153, -0.42492791069647584, -0.38112109781530235, -0.47911699848212846, -0.20345775696295734, -0.29689991289689666, -0.006382019671239304, 0.0019541855407843732, 0.08225814159652778, 0.054662943349004275, 0.12491550924891193, 0.09660793668537772, 0.10468225143968551, 0.0924183057631708, 0.07167959536310235, 0.04324022664852576, 0.06718311695539571, 0.08365795736339184, 0.09197931902919619, 0.08249695574775018, 0.10370901545033308, 0.04404019003126341, 0.06426655232725034, 0.0013814433192429847, 0.0007795787913145253, 0.03290793921519189, 0.02213679270174663, 0.0516268270185492, 0.0410789347966778, 0.046205738592502814, 0.042796024308400404, 0.03545779648774541, 0.0244696987332515, 0.04332554735614493, 0.05820147875492073, 0.0687330404340181, 0.06640587931976566, 0.09028003779931408, 0.04191436786520183, 0.06721351616791868, 0.0019572712526271397, 0.0005512454498077132, 0.023269426973936927, 0.015653076233125923, 0.03650567947596108, 0.02904719335865096, 0.032672391088491744, 0.030261358996294268, 0.02507244834241731, 0.017302689907874008, 0.03063578833414896, 0.04115466030268919, 0.04860159898246337, 0.04695604757766174, 0.06383762693367276, 0.029637933746631723, 0.04752713306972693, 0.0013839997753541382, 0.009042707016661699, 0.3043934772717619, 0.18820446688609574, 0.4014306287783995, 0.2921694716943619, 0.2987211930670419, 0.24927977152744182, 0.18196526551649317, 0.0983279841481905, 0.13461433233923115, 0.15656424757861004, 0.1631438492995981, 0.13974287891627785, 0.16880180875337825, 0.06917595980227297, 0.09793026954357555, 0.0019549333985421948, 0.00639415945176466, 0.21523869192781606, 0.1330806547847574, 0.2838543197851863, 0.20659501469077468, 0.21122778130184147, 0.17626741685968744, 0.12866887318712286, 0.06952838437158881, 0.09518670724196986, 0.11070764115420449, 0.11536012214862183, 0.09881313730423043, 0.11936090364606837, 0.04891479027127524, 0.06924715767768863, 0.00138234666287725, 0.009027985722477287, 0.38001781938929435, 0.252532966703517, 0.5770871856735271, 0.4463112917740162, 0.4836131737086352, 0.4269559504521525, 0.3311468384272732, 0.19976207001454135, 0.3103739169113826, 0.3864847164641116, 0.4249279106964765, 0.38112109781530223, 0.4791169984821286, 0.20345775696295737, 0.2968999128968968, 0.006382019671239309, -2.446948078778562e-6, 0.039862064096887265, 0.03519975256350605, 0.10048657154338766, 0.09267533366290623, 0.11732564062918499, 0.11961597722131405, 0.10778816427566379, 0.08274415864774673, 0.1579384331294393, 0.21732217920121774, 0.25900439850457085, 0.25005838405176795, 0.3370075261690951, 0.15367778949546998, 0.24052644122689298, 0.006385480178398741, -5.29663061239993e-7, 0.008628488311629925, 0.007619290682696836, 0.02175118694131021, 0.02006037698758386, 0.025396148989245818, 0.02589191214056808, 0.023331679797716155, 0.01791068831790588, 0.034187138952519194, 0.0470412640584278, 0.0560637406965571, 0.05412729854559194, 0.07294819188021968, 0.03326488581213062, 0.05206402713416558, 0.0013821923759276783, 0.20886569565143145, 7.024121992600376, 4.341177980074375, 9.255103357306314, 6.732550794033019, 6.879318486289881, 5.73648290384917, 4.183207914782365, 2.2551570971108386, 3.0775605540276407, 3.5715694063419394, 3.713578716105308, 3.1733799666489433, 3.8232053219860473, 1.561854619769402, 2.2031927014487924, 0.043365721972688086, 0.14769034975237272, 4.96680429284929, 3.06967638804831, 6.544346344533688, 4.760632321143633, 4.864412751597554, 4.056305961472445, 2.9579746836558463, 1.5946368760080425, 2.1761639372651738, 2.525480946702795, 2.625896692628098, 2.243918493699003, 2.7034144090448287, 1.1043979928664822, 1.5578924994551484, 0.030664196077938237, 0.0433514694201601, 1.8248069262398376, 1.21263762705927, 2.7711139839538137, 2.143141439517503, 2.3222612834907745, 2.050199058655904, 1.590133445151639, 0.9592371472168155, 1.4903839883462942, 1.8558603084006258, 2.0404606179722644, 1.8301047570536224, 2.3006711072508677, 0.9769834601437241, 1.4256831911854382, 0.030645809499649124, -1.1749995854086677e-5, 0.19141357838196535, 0.16902563249017963, 0.4825262984802933, 0.44501752847125525, 0.5633857959337952, 0.574383759354179, 0.5175878043113938, 0.3973290359092823, 0.758404295770209, 1.0435590059151019, 1.243712784514331, 1.20075493279582, 1.6182758717383485, 0.7379451182874227, 1.1549835126152983, 0.03066242650314376, 1.1426474458460512e-18, 0.0, -1.942890293094024e-16, -2.220446049250313e-16, -3.885780586188048e-16, -1.27675647831893e-15, -5.551115123125783e-16, -1.6653345369377348e-16, -2.7755575615628914e-17, -3.885780586188048e-16, -7.216449660063518e-16, -4.718447854656915e-16, -4.163336342344337e-16, -8.326672684688674e-16, -3.191891195797325e-16, -5.134781488891349e-16, -5.643780527555403e-18, 9.475122306223417e-19, -7.979727989493313e-17, -3.2959746043559335e-17, -1.1796119636642288e-16, -7.632783294297951e-17, -1.3877787807814457e-16, 0.0, -3.469446951953614e-17, -6.938893903907228e-18, -1.3877787807814457e-17, -2.0816681711721685e-17, -2.7755575615628914e-17, -8.326672684688674e-17, 5.551115123125783e-17, 1.3877787807814457e-17, -7.632783294297951e-17, 1.334076891925523e-19, 0.006385863543265043, 0.32423752853225796, 0.22981880184038664, 0.5624899417678249, 0.46683240170626716, 0.5462458804928826, 0.525309102217964, 0.45260842618933406, 0.33161556153423766, 0.6150705466144739, 0.8434181574432623, 1.011414806892077, 0.9898114817426094, 1.3606446736245492, 0.6382082960766399, 1.0326174540498487, 0.03070417479559765, 0.009030974830349335, 0.4585411102806518, 0.32501286645100924, 0.7954809043465099, 0.6602007138482069, 0.7725083325834667, 0.7428992567946792, 0.6400849747612983, 0.4689752246156889, 0.869841108838422, 1.1927733970079877, 1.43035653709174, 1.3998048216730106, 1.9242421510105534, 0.9025628279306082, 1.4603416082604717, 0.04342226041740834, -0.04335146942016006, -1.8248069262398379, -1.2126376270592694, -2.7711139839538137, -2.143141439517503, -2.3222612834907728, -2.050199058655902, -1.5901334451516385, -0.9592371472168156, -1.4903839883462942, -1.855860308400626, -2.040460617972265, -1.8301047570536242, -2.300671107250868, -0.9769834601437244, -1.4256831911854397, -0.03064580949964911, -0.14769034975237277, -4.966804292849292, -3.0696763880483116, -6.544346344533691, -4.760632321143633, -4.8644127515975555, -4.0563059614724475, -2.9579746836558476, -1.5946368760080427, -2.1761639372651733, -2.5254809467027957, -2.625896692628097, -2.2439184936990046, -2.7034144090448295, -1.104397992866482, -1.5578924994551506, -0.030664196077938227, -0.006385863543265043, -0.3242375285322579, -0.22981880184038642, -0.5624899417678251, -0.4668324017062675, -0.5462458804928826, -0.5253091022179643, -0.4526084261893342, -0.3316155615342378, -0.6150705466144744, -0.8434181574432619, -1.011414806892077, -0.9898114817426092, -1.3606446736245492, -0.6382082960766398, -1.032617454049848, -0.030704174795597654, 1.1749995854076562e-5, -0.1914135783819656, -0.16902563249017963, -0.4825262984802936, -0.44501752847125536, -0.5633857959337955, -0.5743837593541796, -0.5175878043113935, -0.3973290359092824, -0.758404295770209, -1.0435590059151014, -1.2437127845143323, -1.2007549327958211, -1.6182758717383503, -0.7379451182874223, -1.1549835126152987, -0.030662426503143773, 18.185486070410658, 7.9149302679160485, -1.4839591498173312, 1.919323086397454, 0.2924662932486153, 0.27576815333336613, 0.14108059911083656, 0.0482058810096372, -0.01241757841302467, -0.05084787848798936, -0.07239616852591088, -0.08409010067775191, -0.07769236622763617, -0.09943555308187647, -0.0427392078671836, -0.06291684238388949, -0.0013812451972537235, -0.0005512193514122831, -0.02301179365409424, -0.015435170083080376, -0.035929932183726275, -0.02857196954589755, -0.032154166577599334, -0.029826683530639293, -0.02476987890863111, -0.017132622386086774, -0.030241620833625044, -0.04055048946270421, -0.04785835122594758, -0.046261252019504095, -0.06298515078890843, -0.0293126357039241, -0.04714078746219004, -0.0013839562471393966, -0.006393967110040802, -0.21355750508014731, -0.13166609923897976, -0.2801520374853972, -0.2035835063803353, -0.20801612326281307, -0.1736701473870965, -0.12699336940230688, -0.06884499236220153, -0.09406247331938158, -0.10913045534694521, -0.11350273432544891, -0.09712309013537473, -0.1173240743611901, -0.048146557469859776, -0.0683406073221565, -0.0013822592200277103, 84.01367483973853, 36.56555427406771, -6.855624370198269, 8.866927453501813, 1.351141672399511, 1.2739992692854822, 0.6517669934145254, 0.2227025000501023, -0.05736697886707945, -0.23490805321564961, -0.3344572775580176, -0.3884811408520134, -0.35892475837634447, -0.45937437095634914, -0.1974474533569876, -0.2906644957147306, -0.006381104383282748, 2.4469480787797785e-6, -0.03986206409688717, -0.03519975256350602, -0.10048657154338772, -0.09267533366290626, -0.11732564062918502, -0.119615977221314, -0.10778816427566384, -0.08274415864774676, -0.15793843312943928, -0.21732217920121755, -0.2590043985045708, -0.25005838405176767, -0.33700752616909513, -0.15367778949546995, -0.24052644122689293, -0.006385480178398738, 5.296630612401787e-7, -0.008628488311629903, -0.007619290682696818, -0.021751186941310202, -0.02006037698758386, -0.025396148989245797, -0.02589191214056807, -0.02333167979771613, -0.017910688317905873, -0.03418713895251918, -0.04704126405842778, -0.056063740696557104, -0.05412729854559197, -0.07294819188021966, -0.0332648858121306, -0.05206402713416556, -0.0013821923759276783, 1.4609200757768545e-18, 6.765421556309548e-17, 3.469446951953614e-18, 4.163336342344337e-17, 8.673617379884035e-18, 4.163336342344337e-17, 4.163336342344337e-17, 1.5612511283791264e-17, 1.3444106938820255e-17, 3.122502256758253e-17, 4.85722573273506e-17, 3.8163916471489756e-17, 2.0816681711721685e-17, 3.469446951953614e-17, 1.5612511283791264e-17, 1.9949319973733282e-17, 4.774883542350101e-19, 2.268129239620402e-19, 5.854691731421724e-18, 6.071532165918825e-18, 8.239936510889834e-18, 1.3877787807814457e-17, 9.540979117872439e-18, 7.37257477290143e-18, 5.421010862427522e-18, 4.228388472693467e-18, 6.7220534694101275e-18, 1.2576745200831851e-17, 5.637851296924623e-18, 4.7704895589362195e-18, 1.3010426069826053e-17, 8.673617379884035e-18, 9.540979117872439e-18, 2.1726395097072804e-19, -0.14768591661821645, -4.928085447397944, -3.037099370613789, -6.459088724962029, -4.691289017709472, -4.7904721962577135, -3.9965257841976762, -2.9194325299165413, -1.5789632470464658, -2.1504939705628994, -2.4895197891736505, -2.5835784346631265, -2.2054313936275523, -2.657045225388546, -1.0869126534317286, -1.5372614663362127, -0.030662212339300682, 403.42512357128487, 175.5840734214717, -32.92001110511299, 42.57808398990062, 6.488044918757227, 6.117614943301102, 3.1297188268399636, 1.0693947595284954, -0.2754703991047881, -1.1280045846963485, -1.60602983723237, -1.8654469353030498, -1.7235201921232952, -2.2058690174196287, -0.9481225933912047, -1.3957413519309083, -0.030641414379953616, 1.1749995854093218e-5, -0.19141357838196482, -0.16902563249017935, -0.48252629848029355, -0.44501752847125503, -0.5633857959337948, -0.5743837593541787, -0.5175878043113936, -0.3973290359092822, -0.7584042957702087, -1.043559005915102, -1.2437127845143303, -1.2007549327958198, -1.6182758717383479, -0.7379451182874218, -1.1549835126152979, -0.030662426503143776, 3.995115599019633e-17, 6.661338147750939e-16, 6.38378239159465e-16, 1.9984014443252818e-15, 1.3322676295501878e-15, 1.4988010832439613e-15, 7.771561172376096e-16, 7.216449660063518e-16, 3.3306690738754696e-16, 1.1934897514720433e-15, 1.4432899320127035e-15, 1.1934897514720433e-15, 4.996003610813204e-16, 4.996003610813204e-16, 4.579669976578771e-16, 5.551115123125783e-16, 1.454440273730359e-17, 4.339985063494221e-19, 1.1449174941446927e-16, 5.724587470723463e-17, 2.3592239273284576e-16, 1.942890293094024e-16, 1.5265566588595902e-16, 1.0408340855860843e-16, 7.28583859910259e-17, 8.326672684688674e-17, 6.245004513516506e-17, 9.71445146547012e-17, 1.249000902703301e-16, 2.0816681711721685e-16, 4.440892098500626e-16, 1.5265566588595902e-16, 2.1510571102112408e-16, 4.556825497991322e-18, -0.006385450822228115, -0.31994576856825835, -0.22618144156661066, -0.5528441526474261, -0.458826365551001, -0.5374430698989209, -0.5178288963147791, -0.4472691884960487, -0.3283561240111419, -0.6070564380394574, -0.8309883029554452, -0.9960408081839157, -0.9753934536190592, -1.3429177756322181, -0.6314348494546843, -1.0245670039438395, -0.030703253084384253, 0.04335146942016006, 1.8248069262398379, 1.2126376270592698, 2.771113983953812, 2.1431414395175024, 2.3222612834907737, 2.050199058655902, 1.590133445151639, 0.9592371472168156, 1.490383988346294, 1.855860308400625, 2.040460617972266, 1.8301047570536242, 2.3006711072508694, 0.9769834601437246, 1.425683191185439, 0.030645809499649138, 0.14769034975237277, 4.966804292849293, 3.069676388048313, 6.544346344533688, 4.7606323211436345, 4.8644127515975555, 4.056305961472448, 2.957974683655849, 1.5946368760080436, 2.1761639372651738, 2.525480946702796, 2.625896692628096, 2.2439184936990038, 2.7034144090448304, 1.1043979928664818, 1.5578924994551495, 0.03066419607793821, 0.006385863543265045, 0.32423752853225785, 0.22981880184038667, 0.5624899417678251, 0.4668324017062675, 0.5462458804928826, 0.5253091022179645, 0.4526084261893341, 0.3316155615342379, 0.6150705466144744, 0.8434181574432623, 1.011414806892076, 0.9898114817426095, 1.3606446736245492, 0.6382082960766401, 1.0326174540498485, 0.03070417479559765, 0.00902798572247729, 0.38001781938929435, 0.25253296670351716, 0.577087185673527, 0.4463112917740164, 0.4836131737086349, 0.4269559504521525, 0.33114683842727327, 0.19976207001454124, 0.3103739169113824, 0.3864847164641114, 0.42492791069647595, 0.38112109781530235, 0.4791169984821284, 0.20345775696295737, 0.29689991289689677, 0.006382019671239311, -2.446948078775093e-6, 0.039862064096887306, 0.03519975256350607, 0.10048657154338778, 0.09267533366290641, 0.11732564062918518, 0.11961597722131416, 0.1077881642756639, 0.08274415864774684, 0.1579384331294396, 0.21732217920121782, 0.259004398504571, 0.2500583840517683, 0.3370075261690951, 0.15367778949546995, 0.24052644122689326, 0.006385480178398739, -1.1749995854074036e-5, 0.19141357838196568, 0.16902563249017988, 0.48252629848029455, 0.4450175284712558, 0.5633857959337961, 0.5743837593541798, 0.5175878043113938, 0.3973290359092827, 0.7584042957702093, 1.0435590059151012, 1.2437127845143325, 1.2007549327958202, 1.618275871738349, 0.7379451182874227, 1.1549835126152983, 0.03066242650314379, 0.0005512454498077129, 0.02326942697393693, 0.01565307623312593, 0.03650567947596108, 0.02904719335865098, 0.032672391088491744, 0.030261358996294268, 0.025072448342417345, 0.01730268990787401, 0.03063578833414897, 0.04115466030268919, 0.04860159898246336, 0.046956047577661766, 0.06383762693367277, 0.029637933746631744, 0.04752713306972695, 0.0013839997753541382, 0.0019541855407843732, 0.08225814159652772, 0.05466294334900426, 0.12491550924891186, 0.09660793668537769, 0.10468225143968544, 0.09241830576317069, 0.07167959536310227, 0.04324022664852573, 0.0671831169553957, 0.08365795736339175, 0.09197931902919625, 0.0824969557477502, 0.10370901545033313, 0.044040190031263415, 0.06426655232725036, 0.0013814433192429877, -5.29663061239684e-7, 0.008628488311629929, 0.007619290682696844, 0.021751186941310265, 0.02006037698758391, 0.025396148989245863, 0.025891912140568137, 0.023331679797716165, 0.017910688317905904, 0.034187138952519215, 0.04704126405842778, 0.0560637406965571, 0.05412729854559197, 0.07294819188021968, 0.03326488581213062, 0.052064027134165594, 0.0013821923759276791, 0.006394159451764666, 0.21523869192781625, 0.13308065478475747, 0.2838543197851867, 0.2065950146907748, 0.2112277813018417, 0.1762674168596875, 0.128668873187123, 0.06952838437158883, 0.09518670724196997, 0.11070764115420459, 0.11536012214862185, 0.09881313730423052, 0.11936090364606834, 0.04891479027127519, 0.0692471576776887, 0.0013823466628772494]"
     ]
    },
    {
     "name": "stdout",
     "output_type": "stream",
     "text": [
      "\n"
     ]
    },
    {
     "name": "stderr",
     "output_type": "stream",
     "text": [
      "Excessive output truncated after 1718049 bytes."
     ]
    },
    {
     "name": "stdout",
     "output_type": "stream",
     "text": [
      "g = "
     ]
    },
    {
     "data": {
      "text/plain": [
       "257-element Array{Int64,1}:\n",
       "     1\n",
       "   290\n",
       "   579\n",
       "   868\n",
       "  1157\n",
       "  1446\n",
       "  1735\n",
       "  2024\n",
       "  2313\n",
       "  2602\n",
       "  2891\n",
       "  3180\n",
       "  3469\n",
       "     ⋮\n",
       " 70806\n",
       " 71095\n",
       " 71384\n",
       " 71673\n",
       " 71962\n",
       " 72251\n",
       " 72540\n",
       " 72829\n",
       " 73118\n",
       " 73407\n",
       " 73696\n",
       " 73985"
      ]
     },
     "execution_count": 306,
     "metadata": {},
     "output_type": "execute_result"
    }
   ],
   "source": [
    "@show bλ\n",
    "@show g\n",
    "@show gδ\n",
    "@show u\n",
    "@show locfactors # M\n",
    "@show FbarT \n",
    "@show vstarts"
   ]
  },
  {
   "cell_type": "code",
   "execution_count": 307,
   "metadata": {},
   "outputs": [],
   "source": [
    "for e=1:length(locfactors)\n",
    "    @views u[vstarts[e]:(vstarts[e+1]-1)] = (locfactors[e] \\ g[vstarts[e]:(vstarts[e+1]-1)])\n",
    "end"
   ]
  },
  {
   "cell_type": "code",
   "execution_count": 308,
   "metadata": {},
   "outputs": [
    {
     "data": {
      "text/plain": [
       "8160-element Array{Float64,1}:\n",
       "      1.0389409911639342e6 \n",
       " 448635.738116863          \n",
       " -86402.04556066295        \n",
       " 107582.01096304778        \n",
       "  16053.450446613082       \n",
       "  15914.863437247423       \n",
       "   8850.542573052297       \n",
       "   3837.788715803652       \n",
       "    347.1372940248865      \n",
       "   -833.4804468987234      \n",
       "  -1356.5196469489915      \n",
       "  -1602.376575113663       \n",
       "  -1465.8418576583038      \n",
       "      ⋮                    \n",
       "     -0.2112277813018417   \n",
       "     -0.1762674168596875   \n",
       "     -0.128668873187123    \n",
       "     -0.06952838437158883  \n",
       "     -0.09518670724196997  \n",
       "     -0.11070764115420459  \n",
       "     -0.11536012214862185  \n",
       "     -0.09881313730423052  \n",
       "     -0.11936090364606834  \n",
       "     -0.04891479027127519  \n",
       "     -0.0692471576776887   \n",
       "     -0.0013823466628772494"
      ]
     },
     "execution_count": 308,
     "metadata": {},
     "output_type": "execute_result"
    }
   ],
   "source": [
    "mul!(bλ,FbarT,u)"
   ]
  },
  {
   "cell_type": "code",
   "execution_count": 309,
   "metadata": {},
   "outputs": [
    {
     "name": "stdout",
     "output_type": "stream",
     "text": [
      "typeof(bλ) = Array{Float64,1}\n",
      "typeof(FbarT) = SparseMatrixCSC{Float64,Int64}\n",
      "typeof(u) = Array{Float64,1}\n"
     ]
    },
    {
     "data": {
      "text/plain": [
       "Array{Float64,1}"
      ]
     },
     "execution_count": 309,
     "metadata": {},
     "output_type": "execute_result"
    }
   ],
   "source": [
    "@show typeof(bλ)\n",
    "@show typeof(FbarT)\n",
    "@show typeof(u)"
   ]
  },
  {
   "cell_type": "code",
   "execution_count": 310,
   "metadata": {},
   "outputs": [
    {
     "data": {
      "text/latex": [
       "\\begin{verbatim}\n",
       "mul!(Y, A, B) -> Y\n",
       "\\end{verbatim}\n",
       "Calculates the matrix-matrix or matrix-vector product $AB$ and stores the result in \\texttt{Y}, overwriting the existing value of \\texttt{Y}. Note that \\texttt{Y} must not be aliased with either \\texttt{A} or \\texttt{B}.\n",
       "\n",
       "\\section{Examples}\n",
       "\\begin{verbatim}\n",
       "julia> A=[1.0 2.0; 3.0 4.0]; B=[1.0 1.0; 1.0 1.0]; Y = similar(B); mul!(Y, A, B);\n",
       "\n",
       "julia> Y\n",
       "2×2 Array{Float64,2}:\n",
       " 3.0  3.0\n",
       " 7.0  7.0\n",
       "\\end{verbatim}\n",
       "\\section{Implementation}\n",
       "For custom matrix and vector types, it is recommended to implement 5-argument \\texttt{mul!} rather than implementing 3-argument \\texttt{mul!} directly if possible.\n",
       "\n",
       "\\begin{verbatim}\n",
       "mul!(C, A, B, α, β) -> C\n",
       "\\end{verbatim}\n",
       "Combined inplace matrix-matrix or matrix-vector multiply-add $A B α + C β$. The result is stored in \\texttt{C} by overwriting it.  Note that \\texttt{C} must not be aliased with either \\texttt{A} or \\texttt{B}.\n",
       "\n",
       "\\begin{quote}\n",
       "\\textbf{compat}\n",
       "\n",
       "Julia 1.3\n",
       "\n",
       "Five-argument \\texttt{mul!} requires at least Julia 1.3.\n",
       "\n",
       "\\end{quote}\n",
       "\\section{Examples}\n",
       "\\begin{verbatim}\n",
       "julia> A=[1.0 2.0; 3.0 4.0]; B=[1.0 1.0; 1.0 1.0]; C=[1.0 2.0; 3.0 4.0];\n",
       "\n",
       "julia> mul!(C, A, B, 100.0, 10.0) === C\n",
       "true\n",
       "\n",
       "julia> C\n",
       "2×2 Array{Float64,2}:\n",
       " 310.0  320.0\n",
       " 730.0  740.0\n",
       "\\end{verbatim}\n"
      ],
      "text/markdown": [
       "```\n",
       "mul!(Y, A, B) -> Y\n",
       "```\n",
       "\n",
       "Calculates the matrix-matrix or matrix-vector product $AB$ and stores the result in `Y`, overwriting the existing value of `Y`. Note that `Y` must not be aliased with either `A` or `B`.\n",
       "\n",
       "# Examples\n",
       "\n",
       "```jldoctest\n",
       "julia> A=[1.0 2.0; 3.0 4.0]; B=[1.0 1.0; 1.0 1.0]; Y = similar(B); mul!(Y, A, B);\n",
       "\n",
       "julia> Y\n",
       "2×2 Array{Float64,2}:\n",
       " 3.0  3.0\n",
       " 7.0  7.0\n",
       "```\n",
       "\n",
       "# Implementation\n",
       "\n",
       "For custom matrix and vector types, it is recommended to implement 5-argument `mul!` rather than implementing 3-argument `mul!` directly if possible.\n",
       "\n",
       "```\n",
       "mul!(C, A, B, α, β) -> C\n",
       "```\n",
       "\n",
       "Combined inplace matrix-matrix or matrix-vector multiply-add $A B α + C β$. The result is stored in `C` by overwriting it.  Note that `C` must not be aliased with either `A` or `B`.\n",
       "\n",
       "!!! compat \"Julia 1.3\"\n",
       "    Five-argument `mul!` requires at least Julia 1.3.\n",
       "\n",
       "\n",
       "# Examples\n",
       "\n",
       "```jldoctest\n",
       "julia> A=[1.0 2.0; 3.0 4.0]; B=[1.0 1.0; 1.0 1.0]; C=[1.0 2.0; 3.0 4.0];\n",
       "\n",
       "julia> mul!(C, A, B, 100.0, 10.0) === C\n",
       "true\n",
       "\n",
       "julia> C\n",
       "2×2 Array{Float64,2}:\n",
       " 310.0  320.0\n",
       " 730.0  740.0\n",
       "```\n"
      ],
      "text/plain": [
       "\u001b[36m  mul!(Y, A, B) -> Y\u001b[39m\n",
       "\n",
       "  Calculates the matrix-matrix or matrix-vector product \u001b[35mAB\u001b[39m and stores the\n",
       "  result in \u001b[36mY\u001b[39m, overwriting the existing value of \u001b[36mY\u001b[39m. Note that \u001b[36mY\u001b[39m must not be\n",
       "  aliased with either \u001b[36mA\u001b[39m or \u001b[36mB\u001b[39m.\n",
       "\n",
       "\u001b[1m  Examples\u001b[22m\n",
       "\u001b[1m  ≡≡≡≡≡≡≡≡≡≡\u001b[22m\n",
       "\n",
       "\u001b[36m  julia> A=[1.0 2.0; 3.0 4.0]; B=[1.0 1.0; 1.0 1.0]; Y = similar(B); mul!(Y, A, B);\u001b[39m\n",
       "\u001b[36m  \u001b[39m\n",
       "\u001b[36m  julia> Y\u001b[39m\n",
       "\u001b[36m  2×2 Array{Float64,2}:\u001b[39m\n",
       "\u001b[36m   3.0  3.0\u001b[39m\n",
       "\u001b[36m   7.0  7.0\u001b[39m\n",
       "\n",
       "\u001b[1m  Implementation\u001b[22m\n",
       "\u001b[1m  ≡≡≡≡≡≡≡≡≡≡≡≡≡≡≡≡\u001b[22m\n",
       "\n",
       "  For custom matrix and vector types, it is recommended to implement\n",
       "  5-argument \u001b[36mmul!\u001b[39m rather than implementing 3-argument \u001b[36mmul!\u001b[39m directly if\n",
       "  possible.\n",
       "\n",
       "\u001b[36m  mul!(C, A, B, α, β) -> C\u001b[39m\n",
       "\n",
       "  Combined inplace matrix-matrix or matrix-vector multiply-add \u001b[35mA B α + C β\u001b[39m.\n",
       "  The result is stored in \u001b[36mC\u001b[39m by overwriting it. Note that \u001b[36mC\u001b[39m must not be aliased\n",
       "  with either \u001b[36mA\u001b[39m or \u001b[36mB\u001b[39m.\n",
       "\n",
       "\u001b[39m\u001b[1m  │ \u001b[22m\u001b[39m\u001b[1mJulia 1.3\u001b[22m\n",
       "\u001b[39m\u001b[1m  │\u001b[22m\n",
       "\u001b[39m\u001b[1m  │\u001b[22m  Five-argument \u001b[36mmul!\u001b[39m requires at least Julia 1.3.\n",
       "\n",
       "\u001b[1m  Examples\u001b[22m\n",
       "\u001b[1m  ≡≡≡≡≡≡≡≡≡≡\u001b[22m\n",
       "\n",
       "\u001b[36m  julia> A=[1.0 2.0; 3.0 4.0]; B=[1.0 1.0; 1.0 1.0]; C=[1.0 2.0; 3.0 4.0];\u001b[39m\n",
       "\u001b[36m  \u001b[39m\n",
       "\u001b[36m  julia> mul!(C, A, B, 100.0, 10.0) === C\u001b[39m\n",
       "\u001b[36m  true\u001b[39m\n",
       "\u001b[36m  \u001b[39m\n",
       "\u001b[36m  julia> C\u001b[39m\n",
       "\u001b[36m  2×2 Array{Float64,2}:\u001b[39m\n",
       "\u001b[36m   310.0  320.0\u001b[39m\n",
       "\u001b[36m   730.0  740.0\u001b[39m"
      ]
     },
     "execution_count": 310,
     "metadata": {},
     "output_type": "execute_result"
    }
   ],
   "source": [
    "@doc mul!"
   ]
  },
  {
   "cell_type": "code",
   "execution_count": 317,
   "metadata": {},
   "outputs": [
    {
     "ename": "DimensionMismatch",
     "evalue": "DimensionMismatch(\"LHS and RHS should have the same number of rows. LHS has 408 rows, but RHS has 8160 rows.\")",
     "output_type": "error",
     "traceback": [
      "DimensionMismatch(\"LHS and RHS should have the same number of rows. LHS has 408 rows, but RHS has 8160 rows.\")",
      "",
      "Stacktrace:",
      " [1] solve(::Int32, ::SuiteSparse.CHOLMOD.Factor{Float64}, ::SuiteSparse.CHOLMOD.Dense{Float64}) at D:\\buildbot\\worker\\package_win64\\build\\usr\\share\\julia\\stdlib\\v1.3\\SuiteSparse\\src\\cholmod.jl:740",
      " [2] \\ at D:\\buildbot\\worker\\package_win64\\build\\usr\\share\\julia\\stdlib\\v1.3\\SuiteSparse\\src\\cholmod.jl:1677 [inlined]",
      " [3] \\(::SuiteSparse.CHOLMOD.Factor{Float64}, ::Array{Float64,1}) at D:\\buildbot\\worker\\package_win64\\build\\usr\\share\\julia\\stdlib\\v1.3\\SuiteSparse\\src\\cholmod.jl:1682",
      " [4] ##core#596() at C:\\Users\\cheny\\.julia\\packages\\BenchmarkTools\\eCEpo\\src\\execution.jl:371",
      " [5] ##sample#597(::BenchmarkTools.Parameters) at C:\\Users\\cheny\\.julia\\packages\\BenchmarkTools\\eCEpo\\src\\execution.jl:377",
      " [6] #_run#886(::Bool, ::String, ::Base.Iterators.Pairs{Symbol,Integer,NTuple{4,Symbol},NamedTuple{(:samples, :evals, :gctrial, :gcsample),Tuple{Int64,Int64,Bool,Bool}}}, ::typeof(BenchmarkTools._run), ::BenchmarkTools.Benchmark{Symbol(\"##benchmark#595\")}, ::BenchmarkTools.Parameters) at C:\\Users\\cheny\\.julia\\packages\\BenchmarkTools\\eCEpo\\src\\execution.jl:405",
      " [7] (::Base.var\"#inner#2\"{Base.Iterators.Pairs{Symbol,Integer,NTuple{5,Symbol},NamedTuple{(:verbose, :samples, :evals, :gctrial, :gcsample),Tuple{Bool,Int64,Int64,Bool,Bool}}},typeof(BenchmarkTools._run),Tuple{BenchmarkTools.Benchmark{Symbol(\"##benchmark#595\")},BenchmarkTools.Parameters}})() at .\\none:0",
      " [8] #invokelatest#1 at .\\essentials.jl:713 [inlined]",
      " [9] #invokelatest at .\\none:0 [inlined]",
      " [10] #run_result#37 at C:\\Users\\cheny\\.julia\\packages\\BenchmarkTools\\eCEpo\\src\\execution.jl:32 [inlined]",
      " [11] #run_result at .\\none:0 [inlined]",
      " [12] #run#40(::Nothing, ::Float64, ::Float64, ::Base.Iterators.Pairs{Symbol,Integer,NTuple{5,Symbol},NamedTuple{(:verbose, :samples, :evals, :gctrial, :gcsample),Tuple{Bool,Int64,Int64,Bool,Bool}}}, ::typeof(run), ::BenchmarkTools.Benchmark{Symbol(\"##benchmark#595\")}, ::BenchmarkTools.Parameters) at C:\\Users\\cheny\\.julia\\packages\\BenchmarkTools\\eCEpo\\src\\execution.jl:94",
      " [13] #run at .\\none:0 [inlined] (repeats 2 times)",
      " [14] #warmup#45 at C:\\Users\\cheny\\.julia\\packages\\BenchmarkTools\\eCEpo\\src\\execution.jl:141 [inlined]",
      " [15] warmup(::BenchmarkTools.Benchmark{Symbol(\"##benchmark#595\")}) at C:\\Users\\cheny\\.julia\\packages\\BenchmarkTools\\eCEpo\\src\\execution.jl:141",
      " [16] top-level scope at C:\\Users\\cheny\\.julia\\packages\\BenchmarkTools\\eCEpo\\src\\execution.jl:287",
      " [17] top-level scope at In[317]:1"
     ]
    }
   ],
   "source": [
    "@benchmark λ[:] = BF \\ bλ"
   ]
  },
  {
   "cell_type": "code",
   "execution_count": 312,
   "metadata": {},
   "outputs": [
    {
     "data": {
      "text/plain": [
       "73984-element Array{Float64,1}:\n",
       " 0.0\n",
       " 0.0\n",
       " 0.0\n",
       " 0.0\n",
       " 0.0\n",
       " 0.0\n",
       " 0.0\n",
       " 0.0\n",
       " 0.0\n",
       " 0.0\n",
       " 0.0\n",
       " 0.0\n",
       " 0.0\n",
       " ⋮  \n",
       " 0.0\n",
       " 0.0\n",
       " 0.0\n",
       " 0.0\n",
       " 0.0\n",
       " 0.0\n",
       " 0.0\n",
       " 0.0\n",
       " 0.0\n",
       " 0.0\n",
       " 0.0\n",
       " 0.0"
      ]
     },
     "execution_count": 312,
     "metadata": {},
     "output_type": "execute_result"
    }
   ],
   "source": [
    "u[:] = -FbarT' * λ"
   ]
  },
  {
   "cell_type": "code",
   "execution_count": 313,
   "metadata": {},
   "outputs": [
    {
     "data": {
      "text/plain": [
       "73984-element view(::Array{Float64,1}, :) with eltype Float64:\n",
       " -870013.4890578167         \n",
       "      -3.82404673904831e6   \n",
       "      -1.7197224950795262e6 \n",
       "      -3.3789573032148853e6 \n",
       "      -2.462237501073863e6  \n",
       "      -2.708288371974637e6  \n",
       "      -2.6350797284354335e6 \n",
       "      -2.5926837723838678e6 \n",
       "      -2.544041814032352e6  \n",
       "      -2.4892710361190867e6 \n",
       "      -2.4285033862454193e6 \n",
       "      -2.394743894202986e6  \n",
       "      -2.087384161773896e6  \n",
       "       ⋮                    \n",
       "       0.011654276122675607 \n",
       "       0.010430744824881058 \n",
       "       0.009467738845050656 \n",
       "       0.008596058952608539 \n",
       "       0.007807296897672173 \n",
       "       0.0070938442582585874\n",
       "       0.006538535258680068 \n",
       "       0.0053479718505510185\n",
       "       0.00662402572880479  \n",
       "       0.0030530344661299875\n",
       "       0.00616950181930277  \n",
       "       0.0012803001080033934"
      ]
     },
     "execution_count": 313,
     "metadata": {},
     "output_type": "execute_result"
    }
   ],
   "source": [
    "u[:] .= g .+ u"
   ]
  },
  {
   "cell_type": "code",
   "execution_count": 314,
   "metadata": {},
   "outputs": [
    {
     "data": {
      "text/plain": [
       "BenchmarkTools.Trial: \n",
       "  memory estimate:  7.06 MiB\n",
       "  allocs estimate:  16361\n",
       "  --------------\n",
       "  minimum time:     10.577 ms (0.00% GC)\n",
       "  median time:      11.419 ms (0.00% GC)\n",
       "  mean time:        11.794 ms (2.68% GC)\n",
       "  maximum time:     26.125 ms (24.02% GC)\n",
       "  --------------\n",
       "  samples:          424\n",
       "  evals/sample:     1"
      ]
     },
     "execution_count": 314,
     "metadata": {},
     "output_type": "execute_result"
    }
   ],
   "source": [
    "@benchmark for e = 1:nelems\n",
    "      F = locfactors[e]\n",
    "      (x, y) = lop[e].coord\n",
    "      JH = lop[e].JH\n",
    "      start = time()\n",
    "      @views u[vstarts[e]:(vstarts[e+1]-1)] = F \\ u[vstarts[e]:(vstarts[e+1]-1)]\n",
    "      #=\n",
    "      ldiv!((@view u[vstarts[e]:(vstarts[e+1]-1)]), F,\n",
    "            (@view u[vstarts[e]:(vstarts[e+1]-1)]))\n",
    "      =#\n",
    "\n",
    "      @views Δ[vstarts[e]:(vstarts[e+1]-1)] = (u[vstarts[e]:(vstarts[e+1]-1)] -\n",
    "                                               vex(x[:], y[:], e))\n",
    "      ϵ[lvl] += Δ[vstarts[e]:(vstarts[e+1]-1)]' * JH * Δ[vstarts[e]:(vstarts[e+1]-1)]\n",
    " end\n",
    "   "
   ]
  },
  {
   "cell_type": "code",
   "execution_count": 315,
   "metadata": {},
   "outputs": [
    {
     "data": {
      "text/plain": [
       "BenchmarkTools.Trial: \n",
       "  memory estimate:  7.06 MiB\n",
       "  allocs estimate:  16135\n",
       "  --------------\n",
       "  minimum time:     4.644 ms (0.00% GC)\n",
       "  median time:      5.117 ms (0.00% GC)\n",
       "  mean time:        6.112 ms (9.60% GC)\n",
       "  maximum time:     99.624 ms (64.38% GC)\n",
       "  --------------\n",
       "  samples:          817\n",
       "  evals/sample:     1"
      ]
     },
     "execution_count": 315,
     "metadata": {},
     "output_type": "execute_result"
    }
   ],
   "source": [
    "@benchmark @threads for e = 1:nelems\n",
    "      F = locfactors[e]\n",
    "      (x, y) = lop[e].coord\n",
    "      JH = lop[e].JH\n",
    "      start = time()\n",
    "      @views u[vstarts[e]:(vstarts[e+1]-1)] = F \\ u[vstarts[e]:(vstarts[e+1]-1)]\n",
    "      #=\n",
    "      ldiv!((@view u[vstarts[e]:(vstarts[e+1]-1)]), F,\n",
    "            (@view u[vstarts[e]:(vstarts[e+1]-1)]))\n",
    "      =#\n",
    "\n",
    "      @views Δ[vstarts[e]:(vstarts[e+1]-1)] = (u[vstarts[e]:(vstarts[e+1]-1)] -\n",
    "                                               vex(x[:], y[:], e))\n",
    "      ϵ[lvl] += Δ[vstarts[e]:(vstarts[e+1]-1)]' * JH * Δ[vstarts[e]:(vstarts[e+1]-1)]\n",
    " end"
   ]
  },
  {
   "cell_type": "markdown",
   "metadata": {},
   "source": [
    "Conclusion: using Multithreading would significantly boost the performance of parallel solve"
   ]
  },
  {
   "cell_type": "code",
   "execution_count": 316,
   "metadata": {},
   "outputs": [
    {
     "data": {
      "text/plain": [
       "4"
      ]
     },
     "execution_count": 316,
     "metadata": {},
     "output_type": "execute_result"
    }
   ],
   "source": [
    "nthreads()"
   ]
  },
  {
   "cell_type": "code",
   "execution_count": null,
   "metadata": {},
   "outputs": [],
   "source": []
  }
 ],
 "metadata": {
  "kernelspec": {
   "display_name": "Julia (4 threads) 1.3.1",
   "language": "julia",
   "name": "julia-(4-threads)-1.3"
  },
  "language_info": {
   "file_extension": ".jl",
   "mimetype": "application/julia",
   "name": "julia",
   "version": "1.3.1"
  }
 },
 "nbformat": 4,
 "nbformat_minor": 2
}
