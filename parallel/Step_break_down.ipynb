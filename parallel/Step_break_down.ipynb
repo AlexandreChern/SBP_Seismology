{
 "cells": [
  {
   "cell_type": "code",
   "execution_count": 1,
   "metadata": {},
   "outputs": [],
   "source": [
    "if (typeof(Base.find_package(\"UnicodePlots\")) == Nothing)\n",
    "    println(\"Package Unicode not installed\")\n",
    "    using Pkg;\n",
    "    Pkg.add(\"UnicodePlots\")\n",
    "end\n",
    "using UnicodePlots"
   ]
  },
  {
   "cell_type": "markdown",
   "metadata": {},
   "source": [
    "## Using Packages"
   ]
  },
  {
   "cell_type": "code",
   "execution_count": 2,
   "metadata": {},
   "outputs": [],
   "source": [
    "using .Threads\n",
    "using BenchmarkTools\n",
    "using SparseArrays\n",
    "using LinearAlgebra"
   ]
  },
  {
   "cell_type": "markdown",
   "metadata": {},
   "source": [
    "## Number of Threads"
   ]
  },
  {
   "cell_type": "code",
   "execution_count": 3,
   "metadata": {},
   "outputs": [
    {
     "data": {
      "text/plain": [
       "4"
      ]
     },
     "execution_count": 3,
     "metadata": {},
     "output_type": "execute_result"
    }
   ],
   "source": [
    "nthreads()"
   ]
  },
  {
   "cell_type": "markdown",
   "metadata": {},
   "source": [
    "## Including External Files|"
   ]
  },
  {
   "cell_type": "code",
   "execution_count": 4,
   "metadata": {},
   "outputs": [
    {
     "data": {
      "text/plain": [
       "plot_blocks (generic function with 1 method)"
      ]
     },
     "execution_count": 4,
     "metadata": {},
     "output_type": "execute_result"
    }
   ],
   "source": [
    "include(\"global_curved_multithreading.jl\")"
   ]
  },
  {
   "cell_type": "markdown",
   "metadata": {},
   "source": [
    "## Setting SBP operator Orders"
   ]
  },
  {
   "cell_type": "code",
   "execution_count": 5,
   "metadata": {},
   "outputs": [
    {
     "data": {
      "text/plain": [
       "6"
      ]
     },
     "execution_count": 5,
     "metadata": {},
     "output_type": "execute_result"
    }
   ],
   "source": [
    "SBPp = 6"
   ]
  },
  {
   "cell_type": "markdown",
   "metadata": {},
   "source": [
    "## Reading .inp files and initializing boundary conditions"
   ]
  },
  {
   "cell_type": "code",
   "execution_count": 6,
   "metadata": {},
   "outputs": [
    {
     "data": {
      "text/plain": [
       "5-element Array{Int64,1}:\n",
       " 1\n",
       " 1\n",
       " 2\n",
       " 2\n",
       " 7"
      ]
     },
     "execution_count": 6,
     "metadata": {},
     "output_type": "execute_result"
    }
   ],
   "source": [
    "bc_map = [BC_DIRICHLET, BC_DIRICHLET, BC_NEUMANN, BC_NEUMANN, BC_JUMP_INTERFACE]\n",
    "# 1 refers to Dirichlet boundary condition\n",
    "# 2 refers to Neumann boundary condition\n",
    "# 7 refers to Jump interface condition"
   ]
  },
  {
   "cell_type": "code",
   "execution_count": 7,
   "metadata": {},
   "outputs": [
    {
     "data": {
      "text/plain": [
       "([0.5 -0.5 … 0.25 0.25; 0.5 0.5 … -0.5 -0.25], [4 7 … 9 6; 23 24 … 16 21; 24 20 … 20 16; 25 25 … 22 22], [1 5 … 9 29; 2 4 … 39 36; 3 6 … 30 40; 4 7 … 38 39], [1, 0, 1, 0, 0, 1, 0, 0, 0, 0  …  0, 1, 1, 0, 1, 0, 1, 0, 0, 1], [1, 1, 1, 1, 1, 1, 1, 1, 1, 1, 1, 1, 1, 1, 1, 1])"
      ]
     },
     "execution_count": 7,
     "metadata": {},
     "output_type": "execute_result"
    }
   ],
   "source": [
    "(verts, EToV, EToF, FToB, EToDomain) = read_inp_2d(\"../meshes/4_4_block.inp\", bc_map=bc_map)"
   ]
  },
  {
   "cell_type": "code",
   "execution_count": 8,
   "metadata": {},
   "outputs": [
    {
     "data": {
      "text/plain": [
       "25×2 Array{Float64,2}:\n",
       "  0.5    0.5 \n",
       " -0.5    0.5 \n",
       " -0.5   -0.5 \n",
       "  0.5   -0.5 \n",
       "  0.0    0.5 \n",
       " -0.5    0.0 \n",
       "  0.0   -0.5 \n",
       "  0.5    0.0 \n",
       "  0.0    0.0 \n",
       "  0.25   0.5 \n",
       "  0.0    0.25\n",
       "  0.25   0.0 \n",
       "  0.5    0.25\n",
       "  0.25   0.25\n",
       " -0.5    0.25\n",
       " -0.25   0.0 \n",
       " -0.25   0.5 \n",
       " -0.25   0.25\n",
       " -0.25  -0.5 \n",
       "  0.0   -0.25\n",
       " -0.5   -0.25\n",
       " -0.25  -0.25\n",
       "  0.5   -0.25\n",
       "  0.25  -0.5 \n",
       "  0.25  -0.25"
      ]
     },
     "execution_count": 8,
     "metadata": {},
     "output_type": "execute_result"
    }
   ],
   "source": [
    "verts'"
   ]
  },
  {
   "cell_type": "code",
   "execution_count": 9,
   "metadata": {},
   "outputs": [
    {
     "data": {
      "text/plain": [
       "4×16 Array{Int64,2}:\n",
       "  4   7   9   8   1   5   9   8   2   6   9   5   3   7   9   6\n",
       " 23  24  20  12  10  11  12  13  15  16  11  17  19  20  16  21\n",
       " 24  20  12  23  13  10  11  12  17  15  16  11  21  19  20  16\n",
       " 25  25  25  25  14  14  14  14  18  18  18  18  22  22  22  22"
      ]
     },
     "execution_count": 9,
     "metadata": {},
     "output_type": "execute_result"
    }
   ],
   "source": [
    "EToV"
   ]
  },
  {
   "cell_type": "code",
   "execution_count": 10,
   "metadata": {},
   "outputs": [
    {
     "data": {
      "text/plain": [
       "40-element Array{Int64,1}:\n",
       " 1\n",
       " 0\n",
       " 1\n",
       " 0\n",
       " 0\n",
       " 1\n",
       " 0\n",
       " 0\n",
       " 0\n",
       " 0\n",
       " 1\n",
       " 0\n",
       " 1\n",
       " ⋮\n",
       " 0\n",
       " 0\n",
       " 0\n",
       " 1\n",
       " 1\n",
       " 0\n",
       " 1\n",
       " 0\n",
       " 1\n",
       " 0\n",
       " 0\n",
       " 1"
      ]
     },
     "execution_count": 10,
     "metadata": {},
     "output_type": "execute_result"
    }
   ],
   "source": [
    "FToB"
   ]
  },
  {
   "cell_type": "code",
   "execution_count": 11,
   "metadata": {},
   "outputs": [
    {
     "data": {
      "text/plain": [
       "16-element Array{Int64,1}:\n",
       " 1\n",
       " 1\n",
       " 1\n",
       " 1\n",
       " 1\n",
       " 1\n",
       " 1\n",
       " 1\n",
       " 1\n",
       " 1\n",
       " 1\n",
       " 1\n",
       " 1\n",
       " 1\n",
       " 1\n",
       " 1"
      ]
     },
     "execution_count": 11,
     "metadata": {},
     "output_type": "execute_result"
    }
   ],
   "source": [
    "EToDomain"
   ]
  },
  {
   "cell_type": "code",
   "execution_count": 12,
   "metadata": {},
   "outputs": [
    {
     "name": "stdout",
     "output_type": "stream",
     "text": [
      "(nelems, nfaces) = (16, 40)\n"
     ]
    },
    {
     "data": {
      "text/plain": [
       "(16, 40)"
      ]
     },
     "execution_count": 12,
     "metadata": {},
     "output_type": "execute_result"
    }
   ],
   "source": [
    "(nelems, nfaces) = (size(EToV, 2), size(FToB, 1))\n",
    "@show (nelems, nfaces)"
   ]
  },
  {
   "cell_type": "code",
   "execution_count": 13,
   "metadata": {},
   "outputs": [],
   "source": [
    "# This is needed to fix up points that should be on the boundary of the\n",
    "# circle, but the mesh didn't quite put them there\n",
    "for v in 1:size(verts, 2)\n",
    "    x,y = verts[1,v], verts[2,v]\n",
    "    if abs(hypot(x,y) - 1) < 1e-5\n",
    "        Q = atan(y,x)\n",
    "        verts[1,v], verts[2,v] = cos(Q), sin(Q)\n",
    "    end\n",
    "end\n"
   ]
  },
  {
   "cell_type": "code",
   "execution_count": 14,
   "metadata": {},
   "outputs": [
    {
     "data": {
      "text/plain": [
       "\u001b[1m                                        connectivity\u001b[22m\n",
       "\u001b[90m      ┌────────────────────────────────────────────────────────────────────────────────┐\u001b[39m \n",
       "    \u001b[90m1\u001b[39m\u001b[90m │\u001b[39m\u001b[0m⠀\u001b[0m⠀\u001b[0m⠀\u001b[0m⠀\u001b[0m⠀\u001b[0m⠀\u001b[0m⠀\u001b[0m⠀\u001b[0m⠀\u001b[0m⠀\u001b[0m⠀\u001b[0m⠀\u001b[0m⠀\u001b[0m⠀\u001b[0m⠀\u001b[0m⠀\u001b[0m⠀\u001b[0m⠀\u001b[0m⠀\u001b[0m⠀\u001b[0m⠀\u001b[0m⠀\u001b[0m⠀\u001b[0m⠀\u001b[0m⠀\u001b[0m⠀\u001b[0m⠀\u001b[0m⠀\u001b[0m⠀\u001b[0m⠀\u001b[0m⠀\u001b[0m⠀\u001b[0m⠀\u001b[0m⠀\u001b[0m⠀\u001b[0m⠀\u001b[0m⠀\u001b[0m⠀\u001b[0m⠀\u001b[0m⠀\u001b[0m⠀\u001b[0m⠀\u001b[0m⠀\u001b[0m⠀\u001b[0m⠀\u001b[0m⠀\u001b[0m⠀\u001b[0m⠀\u001b[0m⠀\u001b[0m⠀\u001b[0m⠀\u001b[0m⠀\u001b[0m⠀\u001b[0m⠀\u001b[0m⠀\u001b[0m⠀\u001b[0m⠀\u001b[0m⠀\u001b[0m⠀\u001b[0m⠀\u001b[0m⠀\u001b[0m⠀\u001b[0m⠀\u001b[0m⠀\u001b[0m⠀\u001b[0m⠀\u001b[0m⠀\u001b[0m⠀\u001b[0m⠀\u001b[0m⠀\u001b[0m⠀\u001b[0m⠀\u001b[0m⠀\u001b[0m⠀\u001b[0m⠀\u001b[0m⠀\u001b[0m⠀\u001b[0m⠀\u001b[0m⠀\u001b[0m⠀\u001b[90m│\u001b[39m \n",
       "     \u001b[90m │\u001b[39m\u001b[0m⠀\u001b[0m⠀\u001b[0m⠀\u001b[0m⠀\u001b[0m⠀\u001b[0m⠀\u001b[0m⠀\u001b[0m⠀\u001b[0m⠀\u001b[0m⠀\u001b[0m⠀\u001b[0m⠀\u001b[0m⠀\u001b[0m⠀\u001b[0m⠀\u001b[0m⠀\u001b[0m⠀\u001b[0m⠀\u001b[0m⠀\u001b[0m⠀\u001b[0m⠀\u001b[0m⠀\u001b[0m⠀\u001b[0m⠀\u001b[0m⠀\u001b[0m⠀\u001b[0m⠀\u001b[0m⠀\u001b[0m⠀\u001b[0m⠀\u001b[0m⠀\u001b[0m⠀\u001b[0m⠀\u001b[0m⠀\u001b[0m⠀\u001b[0m⠀\u001b[0m⠀\u001b[0m⠀\u001b[0m⠀\u001b[0m⠀\u001b[0m⠀\u001b[0m⠀\u001b[0m⠀\u001b[0m⠀\u001b[0m⠀\u001b[0m⠀\u001b[0m⠀\u001b[0m⠀\u001b[0m⠀\u001b[0m⠀\u001b[0m⠀\u001b[0m⠀\u001b[0m⠀\u001b[0m⠀\u001b[0m⠀\u001b[0m⠀\u001b[0m⠀\u001b[0m⠀\u001b[0m⠀\u001b[0m⠀\u001b[0m⠀\u001b[0m⠀\u001b[0m⠀\u001b[0m⠀\u001b[0m⠀\u001b[0m⠀\u001b[0m⠀\u001b[0m⠀\u001b[0m⠀\u001b[0m⠀\u001b[0m⠀\u001b[0m⠀\u001b[0m⠀\u001b[0m⠀\u001b[0m⠀\u001b[0m⠀\u001b[0m⠀\u001b[0m⠀\u001b[0m⠀\u001b[0m⠀\u001b[90m│\u001b[39m \n",
       "     \u001b[90m │\u001b[39m\u001b[0m⠀\u001b[0m⠀\u001b[0m⠀\u001b[0m⠀\u001b[0m⠀\u001b[0m⠀\u001b[0m⠀\u001b[0m⠀\u001b[0m⠀\u001b[0m⠀\u001b[0m⠀\u001b[0m⠀\u001b[0m⠀\u001b[0m⠀\u001b[0m⠀\u001b[0m⠀\u001b[0m⠀\u001b[0m⠀\u001b[0m⠀\u001b[0m⠀\u001b[0m⠀\u001b[0m⠀\u001b[0m⠀\u001b[0m⠀\u001b[0m⠀\u001b[0m⠀\u001b[0m⠀\u001b[0m⠀\u001b[0m⠀\u001b[0m⠀\u001b[0m⠀\u001b[0m⠀\u001b[0m⠀\u001b[0m⠀\u001b[0m⠀\u001b[0m⠀\u001b[0m⠀\u001b[0m⠀\u001b[0m⠀\u001b[0m⠀\u001b[0m⠀\u001b[0m⠀\u001b[0m⠀\u001b[0m⠀\u001b[0m⠀\u001b[0m⠀\u001b[0m⠀\u001b[0m⠀\u001b[0m⠀\u001b[0m⠀\u001b[0m⠀\u001b[0m⠀\u001b[0m⠀\u001b[0m⠀\u001b[0m⠀\u001b[0m⠀\u001b[0m⠀\u001b[0m⠀\u001b[0m⠀\u001b[0m⠀\u001b[0m⠀\u001b[0m⠀\u001b[0m⠀\u001b[0m⠀\u001b[0m⠀\u001b[0m⠀\u001b[0m⠀\u001b[0m⠀\u001b[0m⠀\u001b[0m⠀\u001b[0m⠀\u001b[0m⠀\u001b[0m⠀\u001b[0m⠀\u001b[0m⠀\u001b[0m⠀\u001b[0m⠀\u001b[0m⠀\u001b[0m⠀\u001b[0m⠀\u001b[90m│\u001b[39m \n",
       "     \u001b[90m │\u001b[39m\u001b[0m⠀\u001b[0m⠀\u001b[0m⠀\u001b[0m⠀\u001b[0m⠀\u001b[0m⠀\u001b[0m⠀\u001b[0m⠀\u001b[0m⠀\u001b[0m⠀\u001b[0m⠀\u001b[0m⠀\u001b[0m⠀\u001b[0m⠀\u001b[0m⠀\u001b[0m⠀\u001b[0m⠀\u001b[0m⠀\u001b[0m⠀\u001b[0m⠀\u001b[0m⠀\u001b[0m⠀\u001b[0m⠀\u001b[0m⠀\u001b[0m⠀\u001b[0m⠀\u001b[0m⠀\u001b[0m⠀\u001b[0m⠀\u001b[0m⠀\u001b[0m⠀\u001b[0m⠀\u001b[0m⠀\u001b[0m⠀\u001b[0m⠀\u001b[0m⠀\u001b[0m⠀\u001b[0m⠀\u001b[0m⠀\u001b[0m⠀\u001b[0m⠀\u001b[0m⠀\u001b[0m⠀\u001b[0m⠀\u001b[0m⠀\u001b[0m⠀\u001b[0m⠀\u001b[0m⠀\u001b[0m⠀\u001b[0m⠀\u001b[0m⠀\u001b[0m⠀\u001b[0m⠀\u001b[0m⠀\u001b[0m⠀\u001b[0m⠀\u001b[0m⠀\u001b[0m⠀\u001b[0m⠀\u001b[0m⠀\u001b[0m⠀\u001b[0m⠀\u001b[0m⠀\u001b[0m⠀\u001b[0m⠀\u001b[0m⠀\u001b[0m⠀\u001b[0m⠀\u001b[0m⠀\u001b[0m⠀\u001b[0m⠀\u001b[0m⠀\u001b[0m⠀\u001b[0m⠀\u001b[0m⠀\u001b[0m⠀\u001b[0m⠀\u001b[0m⠀\u001b[0m⠀\u001b[0m⠀\u001b[90m│\u001b[39m \n",
       "     \u001b[90m │\u001b[39m\u001b[0m⠀\u001b[0m⠀\u001b[0m⠀\u001b[0m⠀\u001b[0m⠀\u001b[0m⠀\u001b[0m⠀\u001b[0m⠀\u001b[0m⠀\u001b[0m⠀\u001b[0m⠀\u001b[0m⠀\u001b[0m⠀\u001b[0m⠀\u001b[0m⠀\u001b[0m⠀\u001b[0m⠀\u001b[0m⠀\u001b[0m⠀\u001b[0m⠀\u001b[0m⠀\u001b[0m⠀\u001b[0m⠀\u001b[0m⠀\u001b[0m⠀\u001b[0m⠀\u001b[0m⠀\u001b[0m⠀\u001b[0m⠀\u001b[0m⠀\u001b[0m⠀\u001b[0m⠀\u001b[0m⠀\u001b[0m⠀\u001b[0m⠀\u001b[0m⠀\u001b[0m⠀\u001b[0m⠀\u001b[0m⠀\u001b[0m⠀\u001b[0m⠀\u001b[0m⠀\u001b[0m⠀\u001b[0m⠀\u001b[0m⠀\u001b[0m⠀\u001b[0m⠀\u001b[0m⠀\u001b[0m⠀\u001b[0m⠀\u001b[0m⠀\u001b[0m⠀\u001b[0m⠀\u001b[0m⠀\u001b[0m⠀\u001b[0m⠀\u001b[0m⠀\u001b[0m⠀\u001b[0m⠀\u001b[0m⠀\u001b[0m⠀\u001b[0m⠀\u001b[0m⠀\u001b[0m⠀\u001b[0m⠀\u001b[0m⠀\u001b[0m⠀\u001b[0m⠀\u001b[0m⠀\u001b[0m⠀\u001b[0m⠀\u001b[0m⠀\u001b[0m⠀\u001b[0m⠀\u001b[0m⠀\u001b[0m⠀\u001b[0m⠀\u001b[0m⠀\u001b[0m⠀\u001b[0m⠀\u001b[90m│\u001b[39m \n",
       "     \u001b[90m │\u001b[39m\u001b[0m⠀\u001b[0m⠀\u001b[0m⠀\u001b[0m⠀\u001b[0m⠀\u001b[0m⠀\u001b[0m⠀\u001b[0m⠀\u001b[0m⠀\u001b[0m⠀\u001b[0m⠀\u001b[0m⠀\u001b[0m⠀\u001b[0m⠀\u001b[0m⠀\u001b[0m⠀\u001b[0m⠀\u001b[0m⠀\u001b[0m⠀\u001b[0m⠀\u001b[0m⠀\u001b[0m⠀\u001b[0m⠀\u001b[0m⠀\u001b[0m⠀\u001b[0m⠀\u001b[0m⠀\u001b[0m⠀\u001b[0m⠀\u001b[0m⠀\u001b[0m⠀\u001b[0m⠀\u001b[0m⠀\u001b[0m⠀\u001b[0m⠀\u001b[0m⠀\u001b[0m⠀\u001b[0m⠀\u001b[0m⠀\u001b[0m⠀\u001b[0m⠀\u001b[0m⠀\u001b[0m⠀\u001b[0m⠀\u001b[0m⠀\u001b[0m⠀\u001b[0m⠀\u001b[0m⠀\u001b[0m⠀\u001b[0m⠀\u001b[0m⠀\u001b[0m⠀\u001b[0m⠀\u001b[0m⠀\u001b[0m⠀\u001b[0m⠀\u001b[0m⠀\u001b[0m⠀\u001b[0m⠀\u001b[0m⠀\u001b[0m⠀\u001b[0m⠀\u001b[0m⠀\u001b[0m⠀\u001b[0m⠀\u001b[0m⠀\u001b[0m⠀\u001b[0m⠀\u001b[0m⠀\u001b[0m⠀\u001b[0m⠀\u001b[0m⠀\u001b[0m⠀\u001b[0m⠀\u001b[0m⠀\u001b[0m⠀\u001b[0m⠀\u001b[0m⠀\u001b[0m⠀\u001b[0m⠀\u001b[90m│\u001b[39m \n",
       "     \u001b[90m │\u001b[39m\u001b[0m⠀\u001b[0m⠀\u001b[0m⠀\u001b[0m⠀\u001b[0m⠀\u001b[0m⠀\u001b[0m⠀\u001b[0m⠀\u001b[0m⠀\u001b[0m⠀\u001b[0m⠀\u001b[0m⠀\u001b[0m⠀\u001b[0m⠀\u001b[0m⠀\u001b[0m⠀\u001b[0m⠀\u001b[0m⠀\u001b[0m⠀\u001b[0m⠀\u001b[0m⠀\u001b[0m⠀\u001b[0m⠀\u001b[0m⠀\u001b[0m⠀\u001b[0m⠀\u001b[0m⠀\u001b[0m⠀\u001b[0m⠀\u001b[0m⠀\u001b[0m⠀\u001b[0m⠀\u001b[0m⠀\u001b[0m⠀\u001b[0m⠀\u001b[0m⠀\u001b[0m⠀\u001b[0m⠀\u001b[0m⠀\u001b[0m⠀\u001b[0m⠀\u001b[0m⠀\u001b[0m⠀\u001b[0m⠀\u001b[0m⠀\u001b[0m⠀\u001b[0m⠀\u001b[0m⠀\u001b[0m⠀\u001b[0m⠀\u001b[0m⠀\u001b[0m⠀\u001b[0m⠀\u001b[0m⠀\u001b[0m⠀\u001b[0m⠀\u001b[0m⠀\u001b[0m⠀\u001b[0m⠀\u001b[0m⠀\u001b[0m⠀\u001b[0m⠀\u001b[0m⠀\u001b[0m⠀\u001b[0m⠀\u001b[0m⠀\u001b[0m⠀\u001b[0m⠀\u001b[0m⠀\u001b[0m⠀\u001b[0m⠀\u001b[0m⠀\u001b[0m⠀\u001b[0m⠀\u001b[0m⠀\u001b[0m⠀\u001b[0m⠀\u001b[0m⠀\u001b[0m⠀\u001b[0m⠀\u001b[90m│\u001b[39m \n",
       "     \u001b[90m │\u001b[39m\u001b[0m⠀\u001b[0m⠀\u001b[0m⠀\u001b[0m⠀\u001b[0m⠀\u001b[0m⠀\u001b[0m⠀\u001b[0m⠀\u001b[0m⠀\u001b[0m⠀\u001b[0m⠀\u001b[0m⠀\u001b[0m⠀\u001b[0m⠀\u001b[0m⠀\u001b[0m⠀\u001b[0m⠀\u001b[0m⠀\u001b[0m⠀\u001b[0m⠀\u001b[0m⠀\u001b[0m⠀\u001b[0m⠀\u001b[0m⠀\u001b[0m⠀\u001b[0m⠀\u001b[0m⠀\u001b[0m⠀\u001b[0m⠀\u001b[0m⠀\u001b[0m⠀\u001b[0m⠀\u001b[0m⠀\u001b[0m⠀\u001b[0m⠀\u001b[0m⠀\u001b[0m⠀\u001b[0m⠀\u001b[0m⠀\u001b[0m⠀\u001b[0m⠀\u001b[0m⠀\u001b[0m⠀\u001b[0m⠀\u001b[0m⠀\u001b[0m⠀\u001b[0m⠀\u001b[0m⠀\u001b[0m⠀\u001b[0m⠀\u001b[0m⠀\u001b[0m⠀\u001b[0m⠀\u001b[0m⠀\u001b[0m⠀\u001b[0m⠀\u001b[0m⠀\u001b[0m⠀\u001b[0m⠀\u001b[0m⠀\u001b[0m⠀\u001b[0m⠀\u001b[0m⠀\u001b[0m⠀\u001b[0m⠀\u001b[0m⠀\u001b[0m⠀\u001b[0m⠀\u001b[0m⠀\u001b[0m⠀\u001b[0m⠀\u001b[0m⠀\u001b[0m⠀\u001b[0m⠀\u001b[0m⠀\u001b[0m⠀\u001b[0m⠀\u001b[0m⠀\u001b[0m⠀\u001b[0m⠀\u001b[90m│\u001b[39m \n",
       "     \u001b[90m │\u001b[39m\u001b[0m⠀\u001b[0m⠀\u001b[0m⠀\u001b[0m⠀\u001b[0m⠀\u001b[0m⠀\u001b[0m⠀\u001b[0m⠀\u001b[0m⠀\u001b[0m⠀\u001b[0m⠀\u001b[0m⠀\u001b[0m⠀\u001b[0m⠀\u001b[0m⠀\u001b[0m⠀\u001b[0m⠀\u001b[0m⠀\u001b[0m⠀\u001b[0m⠀\u001b[0m⠀\u001b[0m⠀\u001b[0m⠀\u001b[0m⠀\u001b[0m⠀\u001b[0m⠀\u001b[0m⠀\u001b[0m⠀\u001b[0m⠀\u001b[0m⠀\u001b[0m⠀\u001b[0m⠀\u001b[0m⠀\u001b[0m⠀\u001b[0m⠀\u001b[0m⠀\u001b[0m⠀\u001b[0m⠀\u001b[0m⠀\u001b[0m⠀\u001b[0m⠀\u001b[0m⠀\u001b[0m⠀\u001b[0m⠀\u001b[0m⠀\u001b[0m⠀\u001b[0m⠀\u001b[0m⠀\u001b[0m⠀\u001b[0m⠀\u001b[0m⠀\u001b[0m⠀\u001b[0m⠀\u001b[0m⠀\u001b[0m⠀\u001b[0m⠀\u001b[0m⠀\u001b[0m⠀\u001b[0m⠀\u001b[0m⠀\u001b[0m⠀\u001b[0m⠀\u001b[0m⠀\u001b[0m⠀\u001b[0m⠀\u001b[0m⠀\u001b[0m⠀\u001b[0m⠀\u001b[0m⠀\u001b[0m⠀\u001b[0m⠀\u001b[0m⠀\u001b[0m⠀\u001b[0m⠀\u001b[0m⠀\u001b[0m⠀\u001b[0m⠀\u001b[0m⠀\u001b[0m⠀\u001b[0m⠀\u001b[90m│\u001b[39m \n",
       "     \u001b[90m │\u001b[39m\u001b[0m⠀\u001b[0m⠀\u001b[0m⠀\u001b[0m⠀\u001b[0m⠀\u001b[0m⠀\u001b[0m⠀\u001b[0m⠀\u001b[0m⠀\u001b[0m⠀\u001b[0m⠀\u001b[0m⠀\u001b[0m⠀\u001b[0m⠀\u001b[0m⠀\u001b[0m⠀\u001b[0m⠀\u001b[0m⠀\u001b[0m⠀\u001b[0m⠀\u001b[0m⠀\u001b[0m⠀\u001b[0m⠀\u001b[0m⠀\u001b[0m⠀\u001b[0m⠀\u001b[0m⠀\u001b[0m⠀\u001b[0m⠀\u001b[0m⠀\u001b[0m⠀\u001b[0m⠀\u001b[0m⠀\u001b[0m⠀\u001b[0m⠀\u001b[0m⠀\u001b[0m⠀\u001b[0m⠀\u001b[0m⠀\u001b[0m⠀\u001b[0m⠀\u001b[0m⠀\u001b[0m⠀\u001b[0m⠀\u001b[0m⠀\u001b[0m⠀\u001b[0m⠀\u001b[0m⠀\u001b[0m⠀\u001b[0m⠀\u001b[0m⠀\u001b[0m⠀\u001b[0m⠀\u001b[0m⠀\u001b[0m⠀\u001b[0m⠀\u001b[0m⠀\u001b[0m⠀\u001b[0m⠀\u001b[0m⠀\u001b[0m⠀\u001b[0m⠀\u001b[0m⠀\u001b[0m⠀\u001b[0m⠀\u001b[0m⠀\u001b[0m⠀\u001b[0m⠀\u001b[0m⠀\u001b[0m⠀\u001b[0m⠀\u001b[0m⠀\u001b[0m⠀\u001b[0m⠀\u001b[0m⠀\u001b[0m⠀\u001b[0m⠀\u001b[0m⠀\u001b[0m⠀\u001b[0m⠀\u001b[90m│\u001b[39m \n",
       "     \u001b[90m │\u001b[39m\u001b[0m⠀\u001b[0m⠀\u001b[0m⠀\u001b[0m⠀\u001b[0m⠀\u001b[0m⠀\u001b[0m⠀\u001b[0m⠀\u001b[0m⠀\u001b[0m⠀\u001b[0m⠀\u001b[0m⠀\u001b[0m⠀\u001b[0m⠀\u001b[0m⠀\u001b[0m⠀\u001b[0m⠀\u001b[0m⠀\u001b[0m⠀\u001b[0m⠀\u001b[31m⡏\u001b[39m\u001b[31m⠉\u001b[39m\u001b[31m⠉\u001b[39m\u001b[31m⠉\u001b[39m\u001b[31m⠉\u001b[39m\u001b[31m⠉\u001b[39m\u001b[31m⠉\u001b[39m\u001b[31m⠉\u001b[39m\u001b[31m⠉\u001b[39m\u001b[31m⠉\u001b[39m\u001b[37m⡏\u001b[39m\u001b[36m⠉\u001b[39m\u001b[36m⠉\u001b[39m\u001b[36m⠉\u001b[39m\u001b[36m⠉\u001b[39m\u001b[36m⠉\u001b[39m\u001b[36m⠉\u001b[39m\u001b[36m⠉\u001b[39m\u001b[36m⠉\u001b[39m\u001b[36m⠉\u001b[39m\u001b[36m⡏\u001b[39m\u001b[36m⠉\u001b[39m\u001b[36m⠉\u001b[39m\u001b[36m⠉\u001b[39m\u001b[36m⠉\u001b[39m\u001b[36m⠉\u001b[39m\u001b[36m⠉\u001b[39m\u001b[36m⠉\u001b[39m\u001b[36m⠉\u001b[39m\u001b[36m⠉\u001b[39m\u001b[37m⡏\u001b[39m\u001b[33m⠉\u001b[39m\u001b[33m⠉\u001b[39m\u001b[33m⠉\u001b[39m\u001b[33m⠉\u001b[39m\u001b[33m⠉\u001b[39m\u001b[33m⠉\u001b[39m\u001b[33m⠉\u001b[39m\u001b[33m⠉\u001b[39m\u001b[33m⠉\u001b[39m\u001b[33m⡇\u001b[39m\u001b[0m⠀\u001b[0m⠀\u001b[0m⠀\u001b[0m⠀\u001b[0m⠀\u001b[0m⠀\u001b[0m⠀\u001b[0m⠀\u001b[0m⠀\u001b[0m⠀\u001b[0m⠀\u001b[0m⠀\u001b[0m⠀\u001b[0m⠀\u001b[0m⠀\u001b[0m⠀\u001b[0m⠀\u001b[0m⠀\u001b[0m⠀\u001b[90m│\u001b[39m \n",
       "     \u001b[90m │\u001b[39m\u001b[0m⠀\u001b[0m⠀\u001b[0m⠀\u001b[0m⠀\u001b[0m⠀\u001b[0m⠀\u001b[0m⠀\u001b[0m⠀\u001b[0m⠀\u001b[0m⠀\u001b[0m⠀\u001b[0m⠀\u001b[0m⠀\u001b[0m⠀\u001b[0m⠀\u001b[0m⠀\u001b[0m⠀\u001b[0m⠀\u001b[0m⠀\u001b[0m⠀\u001b[31m⡇\u001b[39m\u001b[0m⠀\u001b[0m⠀\u001b[0m⠀\u001b[0m⠀\u001b[0m⠀\u001b[0m⠀\u001b[0m⠀\u001b[0m⠀\u001b[0m⠀\u001b[37m⡇\u001b[39m\u001b[0m⠀\u001b[0m⠀\u001b[0m⠀\u001b[0m⠀\u001b[0m⠀\u001b[0m⠀\u001b[0m⠀\u001b[0m⠀\u001b[0m⠀\u001b[36m⡇\u001b[39m\u001b[0m⠀\u001b[0m⠀\u001b[0m⠀\u001b[0m⠀\u001b[0m⠀\u001b[0m⠀\u001b[0m⠀\u001b[0m⠀\u001b[0m⠀\u001b[37m⡇\u001b[39m\u001b[0m⠀\u001b[0m⠀\u001b[0m⠀\u001b[0m⠀\u001b[0m⠀\u001b[0m⠀\u001b[0m⠀\u001b[0m⠀\u001b[0m⠀\u001b[33m⡇\u001b[39m\u001b[0m⠀\u001b[0m⠀\u001b[0m⠀\u001b[0m⠀\u001b[0m⠀\u001b[0m⠀\u001b[0m⠀\u001b[0m⠀\u001b[0m⠀\u001b[0m⠀\u001b[0m⠀\u001b[0m⠀\u001b[0m⠀\u001b[0m⠀\u001b[0m⠀\u001b[0m⠀\u001b[0m⠀\u001b[0m⠀\u001b[0m⠀\u001b[90m│\u001b[39m \n",
       "     \u001b[90m │\u001b[39m\u001b[0m⠀\u001b[0m⠀\u001b[0m⠀\u001b[0m⠀\u001b[0m⠀\u001b[0m⠀\u001b[0m⠀\u001b[0m⠀\u001b[0m⠀\u001b[0m⠀\u001b[0m⠀\u001b[0m⠀\u001b[0m⠀\u001b[0m⠀\u001b[0m⠀\u001b[0m⠀\u001b[0m⠀\u001b[0m⠀\u001b[0m⠀\u001b[0m⠀\u001b[31m⡇\u001b[39m\u001b[0m⠀\u001b[0m⠀\u001b[0m⠀\u001b[0m⠀\u001b[0m⠀\u001b[0m⠀\u001b[0m⠀\u001b[0m⠀\u001b[0m⠀\u001b[37m⡇\u001b[39m\u001b[0m⠀\u001b[0m⠀\u001b[0m⠀\u001b[0m⠀\u001b[0m⠀\u001b[0m⠀\u001b[0m⠀\u001b[0m⠀\u001b[0m⠀\u001b[36m⡇\u001b[39m\u001b[0m⠀\u001b[0m⠀\u001b[0m⠀\u001b[0m⠀\u001b[0m⠀\u001b[0m⠀\u001b[0m⠀\u001b[0m⠀\u001b[0m⠀\u001b[37m⡇\u001b[39m\u001b[0m⠀\u001b[0m⠀\u001b[0m⠀\u001b[0m⠀\u001b[0m⠀\u001b[0m⠀\u001b[0m⠀\u001b[0m⠀\u001b[0m⠀\u001b[33m⡇\u001b[39m\u001b[0m⠀\u001b[0m⠀\u001b[0m⠀\u001b[0m⠀\u001b[0m⠀\u001b[0m⠀\u001b[0m⠀\u001b[0m⠀\u001b[0m⠀\u001b[0m⠀\u001b[0m⠀\u001b[0m⠀\u001b[0m⠀\u001b[0m⠀\u001b[0m⠀\u001b[0m⠀\u001b[0m⠀\u001b[0m⠀\u001b[0m⠀\u001b[90m│\u001b[39m \n",
       "     \u001b[90m │\u001b[39m\u001b[0m⠀\u001b[0m⠀\u001b[0m⠀\u001b[0m⠀\u001b[0m⠀\u001b[0m⠀\u001b[0m⠀\u001b[0m⠀\u001b[0m⠀\u001b[0m⠀\u001b[0m⠀\u001b[0m⠀\u001b[0m⠀\u001b[0m⠀\u001b[0m⠀\u001b[0m⠀\u001b[0m⠀\u001b[0m⠀\u001b[0m⠀\u001b[0m⠀\u001b[31m⡇\u001b[39m\u001b[0m⠀\u001b[0m⠀\u001b[0m⠀\u001b[0m⠀\u001b[0m⠀\u001b[0m⠀\u001b[0m⠀\u001b[0m⠀\u001b[0m⠀\u001b[37m⡇\u001b[39m\u001b[0m⠀\u001b[0m⠀\u001b[0m⠀\u001b[0m⠀\u001b[0m⠀\u001b[0m⠀\u001b[0m⠀\u001b[0m⠀\u001b[0m⠀\u001b[36m⡇\u001b[39m\u001b[0m⠀\u001b[0m⠀\u001b[0m⠀\u001b[0m⠀\u001b[0m⠀\u001b[0m⠀\u001b[0m⠀\u001b[0m⠀\u001b[0m⠀\u001b[37m⡇\u001b[39m\u001b[0m⠀\u001b[0m⠀\u001b[0m⠀\u001b[0m⠀\u001b[0m⠀\u001b[0m⠀\u001b[0m⠀\u001b[0m⠀\u001b[0m⠀\u001b[33m⡇\u001b[39m\u001b[0m⠀\u001b[0m⠀\u001b[0m⠀\u001b[0m⠀\u001b[0m⠀\u001b[0m⠀\u001b[0m⠀\u001b[0m⠀\u001b[0m⠀\u001b[0m⠀\u001b[0m⠀\u001b[0m⠀\u001b[0m⠀\u001b[0m⠀\u001b[0m⠀\u001b[0m⠀\u001b[0m⠀\u001b[0m⠀\u001b[0m⠀\u001b[90m│\u001b[39m \n",
       "     \u001b[90m │\u001b[39m\u001b[0m⠀\u001b[0m⠀\u001b[0m⠀\u001b[0m⠀\u001b[0m⠀\u001b[0m⠀\u001b[0m⠀\u001b[0m⠀\u001b[0m⠀\u001b[0m⠀\u001b[0m⠀\u001b[0m⠀\u001b[0m⠀\u001b[0m⠀\u001b[0m⠀\u001b[0m⠀\u001b[0m⠀\u001b[0m⠀\u001b[0m⠀\u001b[0m⠀\u001b[31m⡇\u001b[39m\u001b[0m⠀\u001b[0m⠀\u001b[0m⠀\u001b[0m⠀\u001b[0m⠀\u001b[0m⠀\u001b[0m⠀\u001b[0m⠀\u001b[0m⠀\u001b[37m⡇\u001b[39m\u001b[0m⠀\u001b[0m⠀\u001b[0m⠀\u001b[0m⠀\u001b[0m⠀\u001b[0m⠀\u001b[0m⠀\u001b[0m⠀\u001b[0m⠀\u001b[36m⡇\u001b[39m\u001b[0m⠀\u001b[0m⠀\u001b[0m⠀\u001b[0m⠀\u001b[0m⠀\u001b[0m⠀\u001b[0m⠀\u001b[0m⠀\u001b[0m⠀\u001b[37m⡇\u001b[39m\u001b[0m⠀\u001b[0m⠀\u001b[0m⠀\u001b[0m⠀\u001b[0m⠀\u001b[0m⠀\u001b[0m⠀\u001b[0m⠀\u001b[0m⠀\u001b[33m⡇\u001b[39m\u001b[0m⠀\u001b[0m⠀\u001b[0m⠀\u001b[0m⠀\u001b[0m⠀\u001b[0m⠀\u001b[0m⠀\u001b[0m⠀\u001b[0m⠀\u001b[0m⠀\u001b[0m⠀\u001b[0m⠀\u001b[0m⠀\u001b[0m⠀\u001b[0m⠀\u001b[0m⠀\u001b[0m⠀\u001b[0m⠀\u001b[0m⠀\u001b[90m│\u001b[39m \n",
       "     \u001b[90m │\u001b[39m\u001b[0m⠀\u001b[0m⠀\u001b[0m⠀\u001b[0m⠀\u001b[0m⠀\u001b[0m⠀\u001b[0m⠀\u001b[0m⠀\u001b[0m⠀\u001b[0m⠀\u001b[0m⠀\u001b[0m⠀\u001b[0m⠀\u001b[0m⠀\u001b[0m⠀\u001b[0m⠀\u001b[0m⠀\u001b[0m⠀\u001b[0m⠀\u001b[0m⠀\u001b[35m⡏\u001b[39m\u001b[35m⠉\u001b[39m\u001b[35m⠉\u001b[39m\u001b[35m⠉\u001b[39m\u001b[35m⠉\u001b[39m\u001b[35m⠉\u001b[39m\u001b[35m⠉\u001b[39m\u001b[35m⠉\u001b[39m\u001b[35m⠉\u001b[39m\u001b[35m⠉\u001b[39m\u001b[37m⡏\u001b[39m\u001b[37m⠉\u001b[39m\u001b[37m⠉\u001b[39m\u001b[37m⠉\u001b[39m\u001b[37m⠉\u001b[39m\u001b[37m⠉\u001b[39m\u001b[37m⠉\u001b[39m\u001b[37m⠉\u001b[39m\u001b[37m⠉\u001b[39m\u001b[37m⠉\u001b[39m\u001b[37m⡏\u001b[39m\u001b[36m⠉\u001b[39m\u001b[36m⠉\u001b[39m\u001b[36m⠉\u001b[39m\u001b[36m⠉\u001b[39m\u001b[36m⠉\u001b[39m\u001b[36m⠉\u001b[39m\u001b[36m⠉\u001b[39m\u001b[36m⠉\u001b[39m\u001b[36m⠉\u001b[39m\u001b[37m⡏\u001b[39m\u001b[37m⠉\u001b[39m\u001b[37m⠉\u001b[39m\u001b[37m⠉\u001b[39m\u001b[37m⠉\u001b[39m\u001b[37m⠉\u001b[39m\u001b[37m⠉\u001b[39m\u001b[37m⠉\u001b[39m\u001b[37m⠉\u001b[39m\u001b[37m⠉\u001b[39m\u001b[37m⡇\u001b[39m\u001b[0m⠀\u001b[0m⠀\u001b[0m⠀\u001b[0m⠀\u001b[0m⠀\u001b[0m⠀\u001b[0m⠀\u001b[0m⠀\u001b[0m⠀\u001b[0m⠀\u001b[0m⠀\u001b[0m⠀\u001b[0m⠀\u001b[0m⠀\u001b[0m⠀\u001b[0m⠀\u001b[0m⠀\u001b[0m⠀\u001b[0m⠀\u001b[90m│\u001b[39m \n",
       "     \u001b[90m │\u001b[39m\u001b[0m⠀\u001b[0m⠀\u001b[0m⠀\u001b[0m⠀\u001b[0m⠀\u001b[0m⠀\u001b[0m⠀\u001b[0m⠀\u001b[0m⠀\u001b[0m⠀\u001b[0m⠀\u001b[0m⠀\u001b[0m⠀\u001b[0m⠀\u001b[0m⠀\u001b[0m⠀\u001b[0m⠀\u001b[0m⠀\u001b[0m⠀\u001b[0m⠀\u001b[35m⡇\u001b[39m\u001b[0m⠀\u001b[0m⠀\u001b[0m⠀\u001b[0m⠀\u001b[0m⠀\u001b[0m⠀\u001b[0m⠀\u001b[0m⠀\u001b[0m⠀\u001b[37m⡇\u001b[39m\u001b[0m⠀\u001b[0m⠀\u001b[0m⠀\u001b[0m⠀\u001b[0m⠀\u001b[0m⠀\u001b[0m⠀\u001b[0m⠀\u001b[0m⠀\u001b[33m⡇\u001b[39m\u001b[0m⠀\u001b[0m⠀\u001b[0m⠀\u001b[0m⠀\u001b[0m⠀\u001b[0m⠀\u001b[0m⠀\u001b[0m⠀\u001b[0m⠀\u001b[36m⡇\u001b[39m\u001b[0m⠀\u001b[0m⠀\u001b[0m⠀\u001b[0m⠀\u001b[0m⠀\u001b[0m⠀\u001b[0m⠀\u001b[0m⠀\u001b[0m⠀\u001b[34m⡇\u001b[39m\u001b[0m⠀\u001b[0m⠀\u001b[0m⠀\u001b[0m⠀\u001b[0m⠀\u001b[0m⠀\u001b[0m⠀\u001b[0m⠀\u001b[0m⠀\u001b[0m⠀\u001b[0m⠀\u001b[0m⠀\u001b[0m⠀\u001b[0m⠀\u001b[0m⠀\u001b[0m⠀\u001b[0m⠀\u001b[0m⠀\u001b[0m⠀\u001b[90m│\u001b[39m \n",
       "     \u001b[90m │\u001b[39m\u001b[0m⠀\u001b[0m⠀\u001b[0m⠀\u001b[0m⠀\u001b[0m⠀\u001b[0m⠀\u001b[0m⠀\u001b[0m⠀\u001b[0m⠀\u001b[0m⠀\u001b[0m⠀\u001b[0m⠀\u001b[0m⠀\u001b[0m⠀\u001b[0m⠀\u001b[0m⠀\u001b[0m⠀\u001b[0m⠀\u001b[0m⠀\u001b[0m⠀\u001b[35m⡇\u001b[39m\u001b[0m⠀\u001b[0m⠀\u001b[0m⠀\u001b[0m⠀\u001b[0m⠀\u001b[0m⠀\u001b[0m⠀\u001b[0m⠀\u001b[0m⠀\u001b[37m⡇\u001b[39m\u001b[0m⠀\u001b[0m⠀\u001b[0m⠀\u001b[0m⠀\u001b[0m⠀\u001b[0m⠀\u001b[0m⠀\u001b[0m⠀\u001b[0m⠀\u001b[33m⡇\u001b[39m\u001b[0m⠀\u001b[0m⠀\u001b[0m⠀\u001b[0m⠀\u001b[0m⠀\u001b[0m⠀\u001b[0m⠀\u001b[0m⠀\u001b[0m⠀\u001b[36m⡇\u001b[39m\u001b[0m⠀\u001b[0m⠀\u001b[0m⠀\u001b[0m⠀\u001b[0m⠀\u001b[0m⠀\u001b[0m⠀\u001b[0m⠀\u001b[0m⠀\u001b[34m⡇\u001b[39m\u001b[0m⠀\u001b[0m⠀\u001b[0m⠀\u001b[0m⠀\u001b[0m⠀\u001b[0m⠀\u001b[0m⠀\u001b[0m⠀\u001b[0m⠀\u001b[0m⠀\u001b[0m⠀\u001b[0m⠀\u001b[0m⠀\u001b[0m⠀\u001b[0m⠀\u001b[0m⠀\u001b[0m⠀\u001b[0m⠀\u001b[0m⠀\u001b[90m│\u001b[39m \n",
       "     \u001b[90m │\u001b[39m\u001b[0m⠀\u001b[0m⠀\u001b[0m⠀\u001b[0m⠀\u001b[0m⠀\u001b[0m⠀\u001b[0m⠀\u001b[0m⠀\u001b[0m⠀\u001b[0m⠀\u001b[0m⠀\u001b[0m⠀\u001b[0m⠀\u001b[0m⠀\u001b[0m⠀\u001b[0m⠀\u001b[0m⠀\u001b[0m⠀\u001b[0m⠀\u001b[0m⠀\u001b[35m⡇\u001b[39m\u001b[0m⠀\u001b[0m⠀\u001b[0m⠀\u001b[0m⠀\u001b[0m⠀\u001b[0m⠀\u001b[0m⠀\u001b[0m⠀\u001b[0m⠀\u001b[37m⡇\u001b[39m\u001b[0m⠀\u001b[0m⠀\u001b[0m⠀\u001b[0m⠀\u001b[0m⠀\u001b[0m⠀\u001b[0m⠀\u001b[0m⠀\u001b[0m⠀\u001b[33m⡇\u001b[39m\u001b[0m⠀\u001b[0m⠀\u001b[0m⠀\u001b[0m⠀\u001b[0m⠀\u001b[0m⠀\u001b[0m⠀\u001b[0m⠀\u001b[0m⠀\u001b[36m⡇\u001b[39m\u001b[0m⠀\u001b[0m⠀\u001b[0m⠀\u001b[0m⠀\u001b[0m⠀\u001b[0m⠀\u001b[0m⠀\u001b[0m⠀\u001b[0m⠀\u001b[34m⡇\u001b[39m\u001b[0m⠀\u001b[0m⠀\u001b[0m⠀\u001b[0m⠀\u001b[0m⠀\u001b[0m⠀\u001b[0m⠀\u001b[0m⠀\u001b[0m⠀\u001b[0m⠀\u001b[0m⠀\u001b[0m⠀\u001b[0m⠀\u001b[0m⠀\u001b[0m⠀\u001b[0m⠀\u001b[0m⠀\u001b[0m⠀\u001b[0m⠀\u001b[90m│\u001b[39m \n",
       "     \u001b[90m │\u001b[39m\u001b[0m⠀\u001b[0m⠀\u001b[0m⠀\u001b[0m⠀\u001b[0m⠀\u001b[0m⠀\u001b[0m⠀\u001b[0m⠀\u001b[0m⠀\u001b[0m⠀\u001b[0m⠀\u001b[0m⠀\u001b[0m⠀\u001b[0m⠀\u001b[0m⠀\u001b[0m⠀\u001b[0m⠀\u001b[0m⠀\u001b[0m⠀\u001b[0m⠀\u001b[35m⡇\u001b[39m\u001b[0m⠀\u001b[0m⠀\u001b[0m⠀\u001b[0m⠀\u001b[0m⠀\u001b[0m⠀\u001b[0m⠀\u001b[0m⠀\u001b[0m⠀\u001b[37m⡇\u001b[39m\u001b[0m⠀\u001b[0m⠀\u001b[0m⠀\u001b[0m⠀\u001b[0m⠀\u001b[0m⠀\u001b[0m⠀\u001b[0m⠀\u001b[0m⠀\u001b[33m⡇\u001b[39m\u001b[0m⠀\u001b[0m⠀\u001b[0m⠀\u001b[0m⠀\u001b[0m⠀\u001b[0m⠀\u001b[0m⠀\u001b[0m⠀\u001b[0m⠀\u001b[36m⡇\u001b[39m\u001b[0m⠀\u001b[0m⠀\u001b[0m⠀\u001b[0m⠀\u001b[0m⠀\u001b[0m⠀\u001b[0m⠀\u001b[0m⠀\u001b[0m⠀\u001b[34m⡇\u001b[39m\u001b[0m⠀\u001b[0m⠀\u001b[0m⠀\u001b[0m⠀\u001b[0m⠀\u001b[0m⠀\u001b[0m⠀\u001b[0m⠀\u001b[0m⠀\u001b[0m⠀\u001b[0m⠀\u001b[0m⠀\u001b[0m⠀\u001b[0m⠀\u001b[0m⠀\u001b[0m⠀\u001b[0m⠀\u001b[0m⠀\u001b[0m⠀\u001b[90m│\u001b[39m \n",
       "     \u001b[90m │\u001b[39m\u001b[0m⠀\u001b[0m⠀\u001b[0m⠀\u001b[0m⠀\u001b[0m⠀\u001b[0m⠀\u001b[0m⠀\u001b[0m⠀\u001b[0m⠀\u001b[0m⠀\u001b[0m⠀\u001b[0m⠀\u001b[0m⠀\u001b[0m⠀\u001b[0m⠀\u001b[0m⠀\u001b[0m⠀\u001b[0m⠀\u001b[0m⠀\u001b[0m⠀\u001b[35m⡏\u001b[39m\u001b[35m⠉\u001b[39m\u001b[35m⠉\u001b[39m\u001b[35m⠉\u001b[39m\u001b[35m⠉\u001b[39m\u001b[35m⠉\u001b[39m\u001b[35m⠉\u001b[39m\u001b[35m⠉\u001b[39m\u001b[35m⠉\u001b[39m\u001b[35m⠉\u001b[39m\u001b[37m⡏\u001b[39m\u001b[33m⠉\u001b[39m\u001b[33m⠉\u001b[39m\u001b[33m⠉\u001b[39m\u001b[33m⠉\u001b[39m\u001b[33m⠉\u001b[39m\u001b[33m⠉\u001b[39m\u001b[33m⠉\u001b[39m\u001b[33m⠉\u001b[39m\u001b[33m⠉\u001b[39m\u001b[33m⡏\u001b[39m\u001b[33m⠉\u001b[39m\u001b[33m⠉\u001b[39m\u001b[33m⠉\u001b[39m\u001b[33m⠉\u001b[39m\u001b[33m⠉\u001b[39m\u001b[33m⠉\u001b[39m\u001b[33m⠉\u001b[39m\u001b[33m⠉\u001b[39m\u001b[33m⠉\u001b[39m\u001b[37m⡏\u001b[39m\u001b[35m⠉\u001b[39m\u001b[35m⠉\u001b[39m\u001b[35m⠉\u001b[39m\u001b[35m⠉\u001b[39m\u001b[35m⠉\u001b[39m\u001b[35m⠉\u001b[39m\u001b[35m⠉\u001b[39m\u001b[35m⠉\u001b[39m\u001b[35m⠉\u001b[39m\u001b[35m⡇\u001b[39m\u001b[0m⠀\u001b[0m⠀\u001b[0m⠀\u001b[0m⠀\u001b[0m⠀\u001b[0m⠀\u001b[0m⠀\u001b[0m⠀\u001b[0m⠀\u001b[0m⠀\u001b[0m⠀\u001b[0m⠀\u001b[0m⠀\u001b[0m⠀\u001b[0m⠀\u001b[0m⠀\u001b[0m⠀\u001b[0m⠀\u001b[0m⠀\u001b[90m│\u001b[39m \n",
       "     \u001b[90m │\u001b[39m\u001b[0m⠀\u001b[0m⠀\u001b[0m⠀\u001b[0m⠀\u001b[0m⠀\u001b[0m⠀\u001b[0m⠀\u001b[0m⠀\u001b[0m⠀\u001b[0m⠀\u001b[0m⠀\u001b[0m⠀\u001b[0m⠀\u001b[0m⠀\u001b[0m⠀\u001b[0m⠀\u001b[0m⠀\u001b[0m⠀\u001b[0m⠀\u001b[0m⠀\u001b[35m⡇\u001b[39m\u001b[0m⠀\u001b[0m⠀\u001b[0m⠀\u001b[0m⠀\u001b[0m⠀\u001b[0m⠀\u001b[0m⠀\u001b[0m⠀\u001b[0m⠀\u001b[35m⡇\u001b[39m\u001b[0m⠀\u001b[0m⠀\u001b[0m⠀\u001b[0m⠀\u001b[0m⠀\u001b[0m⠀\u001b[0m⠀\u001b[0m⠀\u001b[0m⠀\u001b[31m⡇\u001b[39m\u001b[0m⠀\u001b[0m⠀\u001b[0m⠀\u001b[0m⠀\u001b[0m⠀\u001b[0m⠀\u001b[0m⠀\u001b[0m⠀\u001b[0m⠀\u001b[35m⡇\u001b[39m\u001b[0m⠀\u001b[0m⠀\u001b[0m⠀\u001b[0m⠀\u001b[0m⠀\u001b[0m⠀\u001b[0m⠀\u001b[0m⠀\u001b[0m⠀\u001b[35m⡇\u001b[39m\u001b[0m⠀\u001b[0m⠀\u001b[0m⠀\u001b[0m⠀\u001b[0m⠀\u001b[0m⠀\u001b[0m⠀\u001b[0m⠀\u001b[0m⠀\u001b[0m⠀\u001b[0m⠀\u001b[0m⠀\u001b[0m⠀\u001b[0m⠀\u001b[0m⠀\u001b[0m⠀\u001b[0m⠀\u001b[0m⠀\u001b[0m⠀\u001b[90m│\u001b[39m \n",
       "     \u001b[90m │\u001b[39m\u001b[0m⠀\u001b[0m⠀\u001b[0m⠀\u001b[0m⠀\u001b[0m⠀\u001b[0m⠀\u001b[0m⠀\u001b[0m⠀\u001b[0m⠀\u001b[0m⠀\u001b[0m⠀\u001b[0m⠀\u001b[0m⠀\u001b[0m⠀\u001b[0m⠀\u001b[0m⠀\u001b[0m⠀\u001b[0m⠀\u001b[0m⠀\u001b[0m⠀\u001b[35m⡇\u001b[39m\u001b[0m⠀\u001b[0m⠀\u001b[0m⠀\u001b[0m⠀\u001b[0m⠀\u001b[0m⠀\u001b[0m⠀\u001b[0m⠀\u001b[0m⠀\u001b[35m⡇\u001b[39m\u001b[0m⠀\u001b[0m⠀\u001b[0m⠀\u001b[0m⠀\u001b[0m⠀\u001b[0m⠀\u001b[0m⠀\u001b[0m⠀\u001b[0m⠀\u001b[31m⡇\u001b[39m\u001b[0m⠀\u001b[0m⠀\u001b[0m⠀\u001b[0m⠀\u001b[0m⠀\u001b[0m⠀\u001b[0m⠀\u001b[0m⠀\u001b[0m⠀\u001b[35m⡇\u001b[39m\u001b[0m⠀\u001b[0m⠀\u001b[0m⠀\u001b[0m⠀\u001b[0m⠀\u001b[0m⠀\u001b[0m⠀\u001b[0m⠀\u001b[0m⠀\u001b[35m⡇\u001b[39m\u001b[0m⠀\u001b[0m⠀\u001b[0m⠀\u001b[0m⠀\u001b[0m⠀\u001b[0m⠀\u001b[0m⠀\u001b[0m⠀\u001b[0m⠀\u001b[0m⠀\u001b[0m⠀\u001b[0m⠀\u001b[0m⠀\u001b[0m⠀\u001b[0m⠀\u001b[0m⠀\u001b[0m⠀\u001b[0m⠀\u001b[0m⠀\u001b[90m│\u001b[39m \n",
       "     \u001b[90m │\u001b[39m\u001b[0m⠀\u001b[0m⠀\u001b[0m⠀\u001b[0m⠀\u001b[0m⠀\u001b[0m⠀\u001b[0m⠀\u001b[0m⠀\u001b[0m⠀\u001b[0m⠀\u001b[0m⠀\u001b[0m⠀\u001b[0m⠀\u001b[0m⠀\u001b[0m⠀\u001b[0m⠀\u001b[0m⠀\u001b[0m⠀\u001b[0m⠀\u001b[0m⠀\u001b[35m⡇\u001b[39m\u001b[0m⠀\u001b[0m⠀\u001b[0m⠀\u001b[0m⠀\u001b[0m⠀\u001b[0m⠀\u001b[0m⠀\u001b[0m⠀\u001b[0m⠀\u001b[35m⡇\u001b[39m\u001b[0m⠀\u001b[0m⠀\u001b[0m⠀\u001b[0m⠀\u001b[0m⠀\u001b[0m⠀\u001b[0m⠀\u001b[0m⠀\u001b[0m⠀\u001b[31m⡇\u001b[39m\u001b[0m⠀\u001b[0m⠀\u001b[0m⠀\u001b[0m⠀\u001b[0m⠀\u001b[0m⠀\u001b[0m⠀\u001b[0m⠀\u001b[0m⠀\u001b[35m⡇\u001b[39m\u001b[0m⠀\u001b[0m⠀\u001b[0m⠀\u001b[0m⠀\u001b[0m⠀\u001b[0m⠀\u001b[0m⠀\u001b[0m⠀\u001b[0m⠀\u001b[35m⡇\u001b[39m\u001b[0m⠀\u001b[0m⠀\u001b[0m⠀\u001b[0m⠀\u001b[0m⠀\u001b[0m⠀\u001b[0m⠀\u001b[0m⠀\u001b[0m⠀\u001b[0m⠀\u001b[0m⠀\u001b[0m⠀\u001b[0m⠀\u001b[0m⠀\u001b[0m⠀\u001b[0m⠀\u001b[0m⠀\u001b[0m⠀\u001b[0m⠀\u001b[90m│\u001b[39m \n",
       "     \u001b[90m │\u001b[39m\u001b[0m⠀\u001b[0m⠀\u001b[0m⠀\u001b[0m⠀\u001b[0m⠀\u001b[0m⠀\u001b[0m⠀\u001b[0m⠀\u001b[0m⠀\u001b[0m⠀\u001b[0m⠀\u001b[0m⠀\u001b[0m⠀\u001b[0m⠀\u001b[0m⠀\u001b[0m⠀\u001b[0m⠀\u001b[0m⠀\u001b[0m⠀\u001b[0m⠀\u001b[35m⡇\u001b[39m\u001b[0m⠀\u001b[0m⠀\u001b[0m⠀\u001b[0m⠀\u001b[0m⠀\u001b[0m⠀\u001b[0m⠀\u001b[0m⠀\u001b[0m⠀\u001b[35m⡇\u001b[39m\u001b[0m⠀\u001b[0m⠀\u001b[0m⠀\u001b[0m⠀\u001b[0m⠀\u001b[0m⠀\u001b[0m⠀\u001b[0m⠀\u001b[0m⠀\u001b[31m⡇\u001b[39m\u001b[0m⠀\u001b[0m⠀\u001b[0m⠀\u001b[0m⠀\u001b[0m⠀\u001b[0m⠀\u001b[0m⠀\u001b[0m⠀\u001b[0m⠀\u001b[35m⡇\u001b[39m\u001b[0m⠀\u001b[0m⠀\u001b[0m⠀\u001b[0m⠀\u001b[0m⠀\u001b[0m⠀\u001b[0m⠀\u001b[0m⠀\u001b[0m⠀\u001b[35m⡇\u001b[39m\u001b[0m⠀\u001b[0m⠀\u001b[0m⠀\u001b[0m⠀\u001b[0m⠀\u001b[0m⠀\u001b[0m⠀\u001b[0m⠀\u001b[0m⠀\u001b[0m⠀\u001b[0m⠀\u001b[0m⠀\u001b[0m⠀\u001b[0m⠀\u001b[0m⠀\u001b[0m⠀\u001b[0m⠀\u001b[0m⠀\u001b[0m⠀\u001b[90m│\u001b[39m \n",
       "     \u001b[90m │\u001b[39m\u001b[0m⠀\u001b[0m⠀\u001b[0m⠀\u001b[0m⠀\u001b[0m⠀\u001b[0m⠀\u001b[0m⠀\u001b[0m⠀\u001b[0m⠀\u001b[0m⠀\u001b[0m⠀\u001b[0m⠀\u001b[0m⠀\u001b[0m⠀\u001b[0m⠀\u001b[0m⠀\u001b[0m⠀\u001b[0m⠀\u001b[0m⠀\u001b[0m⠀\u001b[37m⡏\u001b[39m\u001b[37m⠉\u001b[39m\u001b[37m⠉\u001b[39m\u001b[37m⠉\u001b[39m\u001b[37m⠉\u001b[39m\u001b[37m⠉\u001b[39m\u001b[37m⠉\u001b[39m\u001b[37m⠉\u001b[39m\u001b[37m⠉\u001b[39m\u001b[37m⠉\u001b[39m\u001b[37m⡏\u001b[39m\u001b[35m⠉\u001b[39m\u001b[35m⠉\u001b[39m\u001b[35m⠉\u001b[39m\u001b[35m⠉\u001b[39m\u001b[35m⠉\u001b[39m\u001b[35m⠉\u001b[39m\u001b[35m⠉\u001b[39m\u001b[35m⠉\u001b[39m\u001b[35m⠉\u001b[39m\u001b[35m⡏\u001b[39m\u001b[35m⠉\u001b[39m\u001b[35m⠉\u001b[39m\u001b[35m⠉\u001b[39m\u001b[35m⠉\u001b[39m\u001b[35m⠉\u001b[39m\u001b[35m⠉\u001b[39m\u001b[35m⠉\u001b[39m\u001b[35m⠉\u001b[39m\u001b[35m⠉\u001b[39m\u001b[37m⡏\u001b[39m\u001b[37m⠉\u001b[39m\u001b[37m⠉\u001b[39m\u001b[37m⠉\u001b[39m\u001b[37m⠉\u001b[39m\u001b[37m⠉\u001b[39m\u001b[37m⠉\u001b[39m\u001b[37m⠉\u001b[39m\u001b[37m⠉\u001b[39m\u001b[37m⠉\u001b[39m\u001b[37m⡇\u001b[39m\u001b[0m⠀\u001b[0m⠀\u001b[0m⠀\u001b[0m⠀\u001b[0m⠀\u001b[0m⠀\u001b[0m⠀\u001b[0m⠀\u001b[0m⠀\u001b[0m⠀\u001b[0m⠀\u001b[0m⠀\u001b[0m⠀\u001b[0m⠀\u001b[0m⠀\u001b[0m⠀\u001b[0m⠀\u001b[0m⠀\u001b[0m⠀\u001b[90m│\u001b[39m \n",
       "     \u001b[90m │\u001b[39m\u001b[0m⠀\u001b[0m⠀\u001b[0m⠀\u001b[0m⠀\u001b[0m⠀\u001b[0m⠀\u001b[0m⠀\u001b[0m⠀\u001b[0m⠀\u001b[0m⠀\u001b[0m⠀\u001b[0m⠀\u001b[0m⠀\u001b[0m⠀\u001b[0m⠀\u001b[0m⠀\u001b[0m⠀\u001b[0m⠀\u001b[0m⠀\u001b[0m⠀\u001b[32m⡇\u001b[39m\u001b[0m⠀\u001b[0m⠀\u001b[0m⠀\u001b[0m⠀\u001b[0m⠀\u001b[0m⠀\u001b[0m⠀\u001b[0m⠀\u001b[0m⠀\u001b[36m⡇\u001b[39m\u001b[0m⠀\u001b[0m⠀\u001b[0m⠀\u001b[0m⠀\u001b[0m⠀\u001b[0m⠀\u001b[0m⠀\u001b[0m⠀\u001b[0m⠀\u001b[34m⡇\u001b[39m\u001b[0m⠀\u001b[0m⠀\u001b[0m⠀\u001b[0m⠀\u001b[0m⠀\u001b[0m⠀\u001b[0m⠀\u001b[0m⠀\u001b[0m⠀\u001b[36m⡇\u001b[39m\u001b[0m⠀\u001b[0m⠀\u001b[0m⠀\u001b[0m⠀\u001b[0m⠀\u001b[0m⠀\u001b[0m⠀\u001b[0m⠀\u001b[0m⠀\u001b[32m⡇\u001b[39m\u001b[0m⠀\u001b[0m⠀\u001b[0m⠀\u001b[0m⠀\u001b[0m⠀\u001b[0m⠀\u001b[0m⠀\u001b[0m⠀\u001b[0m⠀\u001b[0m⠀\u001b[0m⠀\u001b[0m⠀\u001b[0m⠀\u001b[0m⠀\u001b[0m⠀\u001b[0m⠀\u001b[0m⠀\u001b[0m⠀\u001b[0m⠀\u001b[90m│\u001b[39m \n",
       "     \u001b[90m │\u001b[39m\u001b[0m⠀\u001b[0m⠀\u001b[0m⠀\u001b[0m⠀\u001b[0m⠀\u001b[0m⠀\u001b[0m⠀\u001b[0m⠀\u001b[0m⠀\u001b[0m⠀\u001b[0m⠀\u001b[0m⠀\u001b[0m⠀\u001b[0m⠀\u001b[0m⠀\u001b[0m⠀\u001b[0m⠀\u001b[0m⠀\u001b[0m⠀\u001b[0m⠀\u001b[32m⡇\u001b[39m\u001b[0m⠀\u001b[0m⠀\u001b[0m⠀\u001b[0m⠀\u001b[0m⠀\u001b[0m⠀\u001b[0m⠀\u001b[0m⠀\u001b[0m⠀\u001b[36m⡇\u001b[39m\u001b[0m⠀\u001b[0m⠀\u001b[0m⠀\u001b[0m⠀\u001b[0m⠀\u001b[0m⠀\u001b[0m⠀\u001b[0m⠀\u001b[0m⠀\u001b[34m⡇\u001b[39m\u001b[0m⠀\u001b[0m⠀\u001b[0m⠀\u001b[0m⠀\u001b[0m⠀\u001b[0m⠀\u001b[0m⠀\u001b[0m⠀\u001b[0m⠀\u001b[36m⡇\u001b[39m\u001b[0m⠀\u001b[0m⠀\u001b[0m⠀\u001b[0m⠀\u001b[0m⠀\u001b[0m⠀\u001b[0m⠀\u001b[0m⠀\u001b[0m⠀\u001b[32m⡇\u001b[39m\u001b[0m⠀\u001b[0m⠀\u001b[0m⠀\u001b[0m⠀\u001b[0m⠀\u001b[0m⠀\u001b[0m⠀\u001b[0m⠀\u001b[0m⠀\u001b[0m⠀\u001b[0m⠀\u001b[0m⠀\u001b[0m⠀\u001b[0m⠀\u001b[0m⠀\u001b[0m⠀\u001b[0m⠀\u001b[0m⠀\u001b[0m⠀\u001b[90m│\u001b[39m \n",
       "     \u001b[90m │\u001b[39m\u001b[0m⠀\u001b[0m⠀\u001b[0m⠀\u001b[0m⠀\u001b[0m⠀\u001b[0m⠀\u001b[0m⠀\u001b[0m⠀\u001b[0m⠀\u001b[0m⠀\u001b[0m⠀\u001b[0m⠀\u001b[0m⠀\u001b[0m⠀\u001b[0m⠀\u001b[0m⠀\u001b[0m⠀\u001b[0m⠀\u001b[0m⠀\u001b[0m⠀\u001b[32m⡇\u001b[39m\u001b[0m⠀\u001b[0m⠀\u001b[0m⠀\u001b[0m⠀\u001b[0m⠀\u001b[0m⠀\u001b[0m⠀\u001b[0m⠀\u001b[0m⠀\u001b[36m⡇\u001b[39m\u001b[0m⠀\u001b[0m⠀\u001b[0m⠀\u001b[0m⠀\u001b[0m⠀\u001b[0m⠀\u001b[0m⠀\u001b[0m⠀\u001b[0m⠀\u001b[34m⡇\u001b[39m\u001b[0m⠀\u001b[0m⠀\u001b[0m⠀\u001b[0m⠀\u001b[0m⠀\u001b[0m⠀\u001b[0m⠀\u001b[0m⠀\u001b[0m⠀\u001b[36m⡇\u001b[39m\u001b[0m⠀\u001b[0m⠀\u001b[0m⠀\u001b[0m⠀\u001b[0m⠀\u001b[0m⠀\u001b[0m⠀\u001b[0m⠀\u001b[0m⠀\u001b[32m⡇\u001b[39m\u001b[0m⠀\u001b[0m⠀\u001b[0m⠀\u001b[0m⠀\u001b[0m⠀\u001b[0m⠀\u001b[0m⠀\u001b[0m⠀\u001b[0m⠀\u001b[0m⠀\u001b[0m⠀\u001b[0m⠀\u001b[0m⠀\u001b[0m⠀\u001b[0m⠀\u001b[0m⠀\u001b[0m⠀\u001b[0m⠀\u001b[0m⠀\u001b[90m│\u001b[39m \n",
       "     \u001b[90m │\u001b[39m\u001b[0m⠀\u001b[0m⠀\u001b[0m⠀\u001b[0m⠀\u001b[0m⠀\u001b[0m⠀\u001b[0m⠀\u001b[0m⠀\u001b[0m⠀\u001b[0m⠀\u001b[0m⠀\u001b[0m⠀\u001b[0m⠀\u001b[0m⠀\u001b[0m⠀\u001b[0m⠀\u001b[0m⠀\u001b[0m⠀\u001b[0m⠀\u001b[0m⠀\u001b[32m⡇\u001b[39m\u001b[0m⠀\u001b[0m⠀\u001b[0m⠀\u001b[0m⠀\u001b[0m⠀\u001b[0m⠀\u001b[0m⠀\u001b[0m⠀\u001b[0m⠀\u001b[36m⡇\u001b[39m\u001b[0m⠀\u001b[0m⠀\u001b[0m⠀\u001b[0m⠀\u001b[0m⠀\u001b[0m⠀\u001b[0m⠀\u001b[0m⠀\u001b[0m⠀\u001b[34m⡇\u001b[39m\u001b[0m⠀\u001b[0m⠀\u001b[0m⠀\u001b[0m⠀\u001b[0m⠀\u001b[0m⠀\u001b[0m⠀\u001b[0m⠀\u001b[0m⠀\u001b[36m⡇\u001b[39m\u001b[0m⠀\u001b[0m⠀\u001b[0m⠀\u001b[0m⠀\u001b[0m⠀\u001b[0m⠀\u001b[0m⠀\u001b[0m⠀\u001b[0m⠀\u001b[32m⡇\u001b[39m\u001b[0m⠀\u001b[0m⠀\u001b[0m⠀\u001b[0m⠀\u001b[0m⠀\u001b[0m⠀\u001b[0m⠀\u001b[0m⠀\u001b[0m⠀\u001b[0m⠀\u001b[0m⠀\u001b[0m⠀\u001b[0m⠀\u001b[0m⠀\u001b[0m⠀\u001b[0m⠀\u001b[0m⠀\u001b[0m⠀\u001b[0m⠀\u001b[90m│\u001b[39m \n",
       "     \u001b[90m │\u001b[39m\u001b[0m⠀\u001b[0m⠀\u001b[0m⠀\u001b[0m⠀\u001b[0m⠀\u001b[0m⠀\u001b[0m⠀\u001b[0m⠀\u001b[0m⠀\u001b[0m⠀\u001b[0m⠀\u001b[0m⠀\u001b[0m⠀\u001b[0m⠀\u001b[0m⠀\u001b[0m⠀\u001b[0m⠀\u001b[0m⠀\u001b[0m⠀\u001b[0m⠀\u001b[32m⠉\u001b[39m\u001b[32m⠉\u001b[39m\u001b[32m⠉\u001b[39m\u001b[32m⠉\u001b[39m\u001b[32m⠉\u001b[39m\u001b[32m⠉\u001b[39m\u001b[32m⠉\u001b[39m\u001b[32m⠉\u001b[39m\u001b[32m⠉\u001b[39m\u001b[32m⠉\u001b[39m\u001b[36m⠉\u001b[39m\u001b[34m⠉\u001b[39m\u001b[34m⠉\u001b[39m\u001b[34m⠉\u001b[39m\u001b[34m⠉\u001b[39m\u001b[34m⠉\u001b[39m\u001b[34m⠉\u001b[39m\u001b[34m⠉\u001b[39m\u001b[34m⠉\u001b[39m\u001b[34m⠉\u001b[39m\u001b[34m⠉\u001b[39m\u001b[34m⠉\u001b[39m\u001b[34m⠉\u001b[39m\u001b[34m⠉\u001b[39m\u001b[34m⠉\u001b[39m\u001b[34m⠉\u001b[39m\u001b[34m⠉\u001b[39m\u001b[34m⠉\u001b[39m\u001b[34m⠉\u001b[39m\u001b[34m⠉\u001b[39m\u001b[36m⠉\u001b[39m\u001b[32m⠉\u001b[39m\u001b[32m⠉\u001b[39m\u001b[32m⠉\u001b[39m\u001b[32m⠉\u001b[39m\u001b[32m⠉\u001b[39m\u001b[32m⠉\u001b[39m\u001b[32m⠉\u001b[39m\u001b[32m⠉\u001b[39m\u001b[32m⠉\u001b[39m\u001b[32m⠁\u001b[39m\u001b[0m⠀\u001b[0m⠀\u001b[0m⠀\u001b[0m⠀\u001b[0m⠀\u001b[0m⠀\u001b[0m⠀\u001b[0m⠀\u001b[0m⠀\u001b[0m⠀\u001b[0m⠀\u001b[0m⠀\u001b[0m⠀\u001b[0m⠀\u001b[0m⠀\u001b[0m⠀\u001b[0m⠀\u001b[0m⠀\u001b[0m⠀\u001b[90m│\u001b[39m \n",
       "     \u001b[90m │\u001b[39m\u001b[0m⠀\u001b[0m⠀\u001b[0m⠀\u001b[0m⠀\u001b[0m⠀\u001b[0m⠀\u001b[0m⠀\u001b[0m⠀\u001b[0m⠀\u001b[0m⠀\u001b[0m⠀\u001b[0m⠀\u001b[0m⠀\u001b[0m⠀\u001b[0m⠀\u001b[0m⠀\u001b[0m⠀\u001b[0m⠀\u001b[0m⠀\u001b[0m⠀\u001b[0m⠀\u001b[0m⠀\u001b[0m⠀\u001b[0m⠀\u001b[0m⠀\u001b[0m⠀\u001b[0m⠀\u001b[0m⠀\u001b[0m⠀\u001b[0m⠀\u001b[0m⠀\u001b[0m⠀\u001b[0m⠀\u001b[0m⠀\u001b[0m⠀\u001b[0m⠀\u001b[0m⠀\u001b[0m⠀\u001b[0m⠀\u001b[0m⠀\u001b[0m⠀\u001b[0m⠀\u001b[0m⠀\u001b[0m⠀\u001b[0m⠀\u001b[0m⠀\u001b[0m⠀\u001b[0m⠀\u001b[0m⠀\u001b[0m⠀\u001b[0m⠀\u001b[0m⠀\u001b[0m⠀\u001b[0m⠀\u001b[0m⠀\u001b[0m⠀\u001b[0m⠀\u001b[0m⠀\u001b[0m⠀\u001b[0m⠀\u001b[0m⠀\u001b[0m⠀\u001b[0m⠀\u001b[0m⠀\u001b[0m⠀\u001b[0m⠀\u001b[0m⠀\u001b[0m⠀\u001b[0m⠀\u001b[0m⠀\u001b[0m⠀\u001b[0m⠀\u001b[0m⠀\u001b[0m⠀\u001b[0m⠀\u001b[0m⠀\u001b[0m⠀\u001b[0m⠀\u001b[0m⠀\u001b[0m⠀\u001b[90m│\u001b[39m \n",
       "     \u001b[90m │\u001b[39m\u001b[0m⠀\u001b[0m⠀\u001b[0m⠀\u001b[0m⠀\u001b[0m⠀\u001b[0m⠀\u001b[0m⠀\u001b[0m⠀\u001b[0m⠀\u001b[0m⠀\u001b[0m⠀\u001b[0m⠀\u001b[0m⠀\u001b[0m⠀\u001b[0m⠀\u001b[0m⠀\u001b[0m⠀\u001b[0m⠀\u001b[0m⠀\u001b[0m⠀\u001b[0m⠀\u001b[0m⠀\u001b[0m⠀\u001b[0m⠀\u001b[0m⠀\u001b[0m⠀\u001b[0m⠀\u001b[0m⠀\u001b[0m⠀\u001b[0m⠀\u001b[0m⠀\u001b[0m⠀\u001b[0m⠀\u001b[0m⠀\u001b[0m⠀\u001b[0m⠀\u001b[0m⠀\u001b[0m⠀\u001b[0m⠀\u001b[0m⠀\u001b[0m⠀\u001b[0m⠀\u001b[0m⠀\u001b[0m⠀\u001b[0m⠀\u001b[0m⠀\u001b[0m⠀\u001b[0m⠀\u001b[0m⠀\u001b[0m⠀\u001b[0m⠀\u001b[0m⠀\u001b[0m⠀\u001b[0m⠀\u001b[0m⠀\u001b[0m⠀\u001b[0m⠀\u001b[0m⠀\u001b[0m⠀\u001b[0m⠀\u001b[0m⠀\u001b[0m⠀\u001b[0m⠀\u001b[0m⠀\u001b[0m⠀\u001b[0m⠀\u001b[0m⠀\u001b[0m⠀\u001b[0m⠀\u001b[0m⠀\u001b[0m⠀\u001b[0m⠀\u001b[0m⠀\u001b[0m⠀\u001b[0m⠀\u001b[0m⠀\u001b[0m⠀\u001b[0m⠀\u001b[0m⠀\u001b[0m⠀\u001b[90m│\u001b[39m \n",
       "     \u001b[90m │\u001b[39m\u001b[0m⠀\u001b[0m⠀\u001b[0m⠀\u001b[0m⠀\u001b[0m⠀\u001b[0m⠀\u001b[0m⠀\u001b[0m⠀\u001b[0m⠀\u001b[0m⠀\u001b[0m⠀\u001b[0m⠀\u001b[0m⠀\u001b[0m⠀\u001b[0m⠀\u001b[0m⠀\u001b[0m⠀\u001b[0m⠀\u001b[0m⠀\u001b[0m⠀\u001b[0m⠀\u001b[0m⠀\u001b[0m⠀\u001b[0m⠀\u001b[0m⠀\u001b[0m⠀\u001b[0m⠀\u001b[0m⠀\u001b[0m⠀\u001b[0m⠀\u001b[0m⠀\u001b[0m⠀\u001b[0m⠀\u001b[0m⠀\u001b[0m⠀\u001b[0m⠀\u001b[0m⠀\u001b[0m⠀\u001b[0m⠀\u001b[0m⠀\u001b[0m⠀\u001b[0m⠀\u001b[0m⠀\u001b[0m⠀\u001b[0m⠀\u001b[0m⠀\u001b[0m⠀\u001b[0m⠀\u001b[0m⠀\u001b[0m⠀\u001b[0m⠀\u001b[0m⠀\u001b[0m⠀\u001b[0m⠀\u001b[0m⠀\u001b[0m⠀\u001b[0m⠀\u001b[0m⠀\u001b[0m⠀\u001b[0m⠀\u001b[0m⠀\u001b[0m⠀\u001b[0m⠀\u001b[0m⠀\u001b[0m⠀\u001b[0m⠀\u001b[0m⠀\u001b[0m⠀\u001b[0m⠀\u001b[0m⠀\u001b[0m⠀\u001b[0m⠀\u001b[0m⠀\u001b[0m⠀\u001b[0m⠀\u001b[0m⠀\u001b[0m⠀\u001b[0m⠀\u001b[0m⠀\u001b[0m⠀\u001b[90m│\u001b[39m \n",
       "     \u001b[90m │\u001b[39m\u001b[0m⠀\u001b[0m⠀\u001b[0m⠀\u001b[0m⠀\u001b[0m⠀\u001b[0m⠀\u001b[0m⠀\u001b[0m⠀\u001b[0m⠀\u001b[0m⠀\u001b[0m⠀\u001b[0m⠀\u001b[0m⠀\u001b[0m⠀\u001b[0m⠀\u001b[0m⠀\u001b[0m⠀\u001b[0m⠀\u001b[0m⠀\u001b[0m⠀\u001b[0m⠀\u001b[0m⠀\u001b[0m⠀\u001b[0m⠀\u001b[0m⠀\u001b[0m⠀\u001b[0m⠀\u001b[0m⠀\u001b[0m⠀\u001b[0m⠀\u001b[0m⠀\u001b[0m⠀\u001b[0m⠀\u001b[0m⠀\u001b[0m⠀\u001b[0m⠀\u001b[0m⠀\u001b[0m⠀\u001b[0m⠀\u001b[0m⠀\u001b[0m⠀\u001b[0m⠀\u001b[0m⠀\u001b[0m⠀\u001b[0m⠀\u001b[0m⠀\u001b[0m⠀\u001b[0m⠀\u001b[0m⠀\u001b[0m⠀\u001b[0m⠀\u001b[0m⠀\u001b[0m⠀\u001b[0m⠀\u001b[0m⠀\u001b[0m⠀\u001b[0m⠀\u001b[0m⠀\u001b[0m⠀\u001b[0m⠀\u001b[0m⠀\u001b[0m⠀\u001b[0m⠀\u001b[0m⠀\u001b[0m⠀\u001b[0m⠀\u001b[0m⠀\u001b[0m⠀\u001b[0m⠀\u001b[0m⠀\u001b[0m⠀\u001b[0m⠀\u001b[0m⠀\u001b[0m⠀\u001b[0m⠀\u001b[0m⠀\u001b[0m⠀\u001b[0m⠀\u001b[0m⠀\u001b[0m⠀\u001b[90m│\u001b[39m \n",
       "     \u001b[90m │\u001b[39m\u001b[0m⠀\u001b[0m⠀\u001b[0m⠀\u001b[0m⠀\u001b[0m⠀\u001b[0m⠀\u001b[0m⠀\u001b[0m⠀\u001b[0m⠀\u001b[0m⠀\u001b[0m⠀\u001b[0m⠀\u001b[0m⠀\u001b[0m⠀\u001b[0m⠀\u001b[0m⠀\u001b[0m⠀\u001b[0m⠀\u001b[0m⠀\u001b[0m⠀\u001b[0m⠀\u001b[0m⠀\u001b[0m⠀\u001b[0m⠀\u001b[0m⠀\u001b[0m⠀\u001b[0m⠀\u001b[0m⠀\u001b[0m⠀\u001b[0m⠀\u001b[0m⠀\u001b[0m⠀\u001b[0m⠀\u001b[0m⠀\u001b[0m⠀\u001b[0m⠀\u001b[0m⠀\u001b[0m⠀\u001b[0m⠀\u001b[0m⠀\u001b[0m⠀\u001b[0m⠀\u001b[0m⠀\u001b[0m⠀\u001b[0m⠀\u001b[0m⠀\u001b[0m⠀\u001b[0m⠀\u001b[0m⠀\u001b[0m⠀\u001b[0m⠀\u001b[0m⠀\u001b[0m⠀\u001b[0m⠀\u001b[0m⠀\u001b[0m⠀\u001b[0m⠀\u001b[0m⠀\u001b[0m⠀\u001b[0m⠀\u001b[0m⠀\u001b[0m⠀\u001b[0m⠀\u001b[0m⠀\u001b[0m⠀\u001b[0m⠀\u001b[0m⠀\u001b[0m⠀\u001b[0m⠀\u001b[0m⠀\u001b[0m⠀\u001b[0m⠀\u001b[0m⠀\u001b[0m⠀\u001b[0m⠀\u001b[0m⠀\u001b[0m⠀\u001b[0m⠀\u001b[0m⠀\u001b[0m⠀\u001b[90m│\u001b[39m \n",
       "     \u001b[90m │\u001b[39m\u001b[0m⠀\u001b[0m⠀\u001b[0m⠀\u001b[0m⠀\u001b[0m⠀\u001b[0m⠀\u001b[0m⠀\u001b[0m⠀\u001b[0m⠀\u001b[0m⠀\u001b[0m⠀\u001b[0m⠀\u001b[0m⠀\u001b[0m⠀\u001b[0m⠀\u001b[0m⠀\u001b[0m⠀\u001b[0m⠀\u001b[0m⠀\u001b[0m⠀\u001b[0m⠀\u001b[0m⠀\u001b[0m⠀\u001b[0m⠀\u001b[0m⠀\u001b[0m⠀\u001b[0m⠀\u001b[0m⠀\u001b[0m⠀\u001b[0m⠀\u001b[0m⠀\u001b[0m⠀\u001b[0m⠀\u001b[0m⠀\u001b[0m⠀\u001b[0m⠀\u001b[0m⠀\u001b[0m⠀\u001b[0m⠀\u001b[0m⠀\u001b[0m⠀\u001b[0m⠀\u001b[0m⠀\u001b[0m⠀\u001b[0m⠀\u001b[0m⠀\u001b[0m⠀\u001b[0m⠀\u001b[0m⠀\u001b[0m⠀\u001b[0m⠀\u001b[0m⠀\u001b[0m⠀\u001b[0m⠀\u001b[0m⠀\u001b[0m⠀\u001b[0m⠀\u001b[0m⠀\u001b[0m⠀\u001b[0m⠀\u001b[0m⠀\u001b[0m⠀\u001b[0m⠀\u001b[0m⠀\u001b[0m⠀\u001b[0m⠀\u001b[0m⠀\u001b[0m⠀\u001b[0m⠀\u001b[0m⠀\u001b[0m⠀\u001b[0m⠀\u001b[0m⠀\u001b[0m⠀\u001b[0m⠀\u001b[0m⠀\u001b[0m⠀\u001b[0m⠀\u001b[0m⠀\u001b[0m⠀\u001b[90m│\u001b[39m \n",
       "     \u001b[90m │\u001b[39m\u001b[0m⠀\u001b[0m⠀\u001b[0m⠀\u001b[0m⠀\u001b[0m⠀\u001b[0m⠀\u001b[0m⠀\u001b[0m⠀\u001b[0m⠀\u001b[0m⠀\u001b[0m⠀\u001b[0m⠀\u001b[0m⠀\u001b[0m⠀\u001b[0m⠀\u001b[0m⠀\u001b[0m⠀\u001b[0m⠀\u001b[0m⠀\u001b[0m⠀\u001b[0m⠀\u001b[0m⠀\u001b[0m⠀\u001b[0m⠀\u001b[0m⠀\u001b[0m⠀\u001b[0m⠀\u001b[0m⠀\u001b[0m⠀\u001b[0m⠀\u001b[0m⠀\u001b[0m⠀\u001b[0m⠀\u001b[0m⠀\u001b[0m⠀\u001b[0m⠀\u001b[0m⠀\u001b[0m⠀\u001b[0m⠀\u001b[0m⠀\u001b[0m⠀\u001b[0m⠀\u001b[0m⠀\u001b[0m⠀\u001b[0m⠀\u001b[0m⠀\u001b[0m⠀\u001b[0m⠀\u001b[0m⠀\u001b[0m⠀\u001b[0m⠀\u001b[0m⠀\u001b[0m⠀\u001b[0m⠀\u001b[0m⠀\u001b[0m⠀\u001b[0m⠀\u001b[0m⠀\u001b[0m⠀\u001b[0m⠀\u001b[0m⠀\u001b[0m⠀\u001b[0m⠀\u001b[0m⠀\u001b[0m⠀\u001b[0m⠀\u001b[0m⠀\u001b[0m⠀\u001b[0m⠀\u001b[0m⠀\u001b[0m⠀\u001b[0m⠀\u001b[0m⠀\u001b[0m⠀\u001b[0m⠀\u001b[0m⠀\u001b[0m⠀\u001b[0m⠀\u001b[0m⠀\u001b[0m⠀\u001b[90m│\u001b[39m \n",
       "     \u001b[90m │\u001b[39m\u001b[0m⠀\u001b[0m⠀\u001b[0m⠀\u001b[0m⠀\u001b[0m⠀\u001b[0m⠀\u001b[0m⠀\u001b[0m⠀\u001b[0m⠀\u001b[0m⠀\u001b[0m⠀\u001b[0m⠀\u001b[0m⠀\u001b[0m⠀\u001b[0m⠀\u001b[0m⠀\u001b[0m⠀\u001b[0m⠀\u001b[0m⠀\u001b[0m⠀\u001b[0m⠀\u001b[0m⠀\u001b[0m⠀\u001b[0m⠀\u001b[0m⠀\u001b[0m⠀\u001b[0m⠀\u001b[0m⠀\u001b[0m⠀\u001b[0m⠀\u001b[0m⠀\u001b[0m⠀\u001b[0m⠀\u001b[0m⠀\u001b[0m⠀\u001b[0m⠀\u001b[0m⠀\u001b[0m⠀\u001b[0m⠀\u001b[0m⠀\u001b[0m⠀\u001b[0m⠀\u001b[0m⠀\u001b[0m⠀\u001b[0m⠀\u001b[0m⠀\u001b[0m⠀\u001b[0m⠀\u001b[0m⠀\u001b[0m⠀\u001b[0m⠀\u001b[0m⠀\u001b[0m⠀\u001b[0m⠀\u001b[0m⠀\u001b[0m⠀\u001b[0m⠀\u001b[0m⠀\u001b[0m⠀\u001b[0m⠀\u001b[0m⠀\u001b[0m⠀\u001b[0m⠀\u001b[0m⠀\u001b[0m⠀\u001b[0m⠀\u001b[0m⠀\u001b[0m⠀\u001b[0m⠀\u001b[0m⠀\u001b[0m⠀\u001b[0m⠀\u001b[0m⠀\u001b[0m⠀\u001b[0m⠀\u001b[0m⠀\u001b[0m⠀\u001b[0m⠀\u001b[0m⠀\u001b[0m⠀\u001b[90m│\u001b[39m \n",
       "   \u001b[90m-1\u001b[39m\u001b[90m │\u001b[39m\u001b[0m⠀\u001b[0m⠀\u001b[0m⠀\u001b[0m⠀\u001b[0m⠀\u001b[0m⠀\u001b[0m⠀\u001b[0m⠀\u001b[0m⠀\u001b[0m⠀\u001b[0m⠀\u001b[0m⠀\u001b[0m⠀\u001b[0m⠀\u001b[0m⠀\u001b[0m⠀\u001b[0m⠀\u001b[0m⠀\u001b[0m⠀\u001b[0m⠀\u001b[0m⠀\u001b[0m⠀\u001b[0m⠀\u001b[0m⠀\u001b[0m⠀\u001b[0m⠀\u001b[0m⠀\u001b[0m⠀\u001b[0m⠀\u001b[0m⠀\u001b[0m⠀\u001b[0m⠀\u001b[0m⠀\u001b[0m⠀\u001b[0m⠀\u001b[0m⠀\u001b[0m⠀\u001b[0m⠀\u001b[0m⠀\u001b[0m⠀\u001b[0m⠀\u001b[0m⠀\u001b[0m⠀\u001b[0m⠀\u001b[0m⠀\u001b[0m⠀\u001b[0m⠀\u001b[0m⠀\u001b[0m⠀\u001b[0m⠀\u001b[0m⠀\u001b[0m⠀\u001b[0m⠀\u001b[0m⠀\u001b[0m⠀\u001b[0m⠀\u001b[0m⠀\u001b[0m⠀\u001b[0m⠀\u001b[0m⠀\u001b[0m⠀\u001b[0m⠀\u001b[0m⠀\u001b[0m⠀\u001b[0m⠀\u001b[0m⠀\u001b[0m⠀\u001b[0m⠀\u001b[0m⠀\u001b[0m⠀\u001b[0m⠀\u001b[0m⠀\u001b[0m⠀\u001b[0m⠀\u001b[0m⠀\u001b[0m⠀\u001b[0m⠀\u001b[0m⠀\u001b[0m⠀\u001b[0m⠀\u001b[90m│\u001b[39m \n",
       "\u001b[90m      └────────────────────────────────────────────────────────────────────────────────┘\u001b[39m \n",
       "\u001b[90m      -1\u001b[39m\u001b[90m                                      \u001b[39m\u001b[90m                                         1\u001b[39m"
      ]
     },
     "metadata": {},
     "output_type": "display_data"
    }
   ],
   "source": [
    "plot_connectivity(verts, EToV)"
   ]
  },
  {
   "cell_type": "markdown",
   "metadata": {},
   "source": [
    "## Setting base mesh sizes in each direction"
   ]
  },
  {
   "cell_type": "code",
   "execution_count": 15,
   "metadata": {},
   "outputs": [
    {
     "data": {
      "text/plain": [
       "16"
      ]
     },
     "execution_count": 15,
     "metadata": {},
     "output_type": "execute_result"
    }
   ],
   "source": [
    "N1 = N0 = 16"
   ]
  },
  {
   "cell_type": "code",
   "execution_count": 16,
   "metadata": {},
   "outputs": [
    {
     "name": "stdout",
     "output_type": "stream",
     "text": [
      "EToN0 = [16 16 16 16 16 16 16 16 16 16 16 16 16 16 16 16; 0 0 0 0 0 0 0 0 0 0 0 0 0 0 0 0]\n",
      "EToN0 = [16 16 16 16 16 16 16 16 16 16 16 16 16 16 16 16; 16 16 16 16 16 16 16 16 16 16 16 16 16 16 16 16]\n"
     ]
    },
    {
     "data": {
      "text/plain": [
       "2×16 Array{Int64,2}:\n",
       " 16  16  16  16  16  16  16  16  16  16  16  16  16  16  16  16\n",
       " 16  16  16  16  16  16  16  16  16  16  16  16  16  16  16  16"
      ]
     },
     "execution_count": 16,
     "metadata": {},
     "output_type": "execute_result"
    }
   ],
   "source": [
    "EToN0 = zeros(Int64, 2, nelems)\n",
    "EToN0[1,:] .= N0;\n",
    "@show EToN0\n",
    "EToN0[2,:] .= N1;\n",
    "@show EToN0"
   ]
  },
  {
   "cell_type": "code",
   "execution_count": 17,
   "metadata": {},
   "outputs": [],
   "source": [
    "# Checking types and sizes \n",
    "@assert typeof(EToV) == Array{Int, 2} && size(EToV) == (4, nelems)\n",
    "@assert typeof(EToF) == Array{Int, 2} && size(EToF) == (4, nelems)\n",
    "@assert maximum(maximum(EToF)) == nfaces   # The maximum number of EToF element should equal the number of faces \n",
    "\n",
    "# Determine secondary arrays\n",
    "# FToE : Unique Global Face to Element Number\n",
    "#        (the i'th column of this stores the element numbers that share the\n",
    "#        global face number i)\n",
    "# FToLF: Unique Global Face to Element local face number\n",
    "#        (the i'th column of this stores the element local face numbers that\n",
    "#        shares the global face number i)\n",
    "# EToO : Element to Unique Global Faces Orientation\n",
    "#        (the i'th column of this stores the whether the element and global\n",
    "#        face are oriented in the same way in physical memory or need to be\n",
    "#        rotated)\n",
    "# EToS : Element to Unique Global Face Side\n",
    "#        (the i'th column of this stores whether an element is on the\n",
    "#        plus side or minus side of the global face)\n"
   ]
  },
  {
   "cell_type": "code",
   "execution_count": 18,
   "metadata": {},
   "outputs": [
    {
     "data": {
      "text/plain": [
       "([1 1 … 15 16; 0 4 … 16 0], [1 2 … 2 3; 0 4 … 4 0], Bool[1 1 … 1 1; 1 1 … 1 1; 1 1 … 1 1; 1 1 … 1 1], [1 1 … 2 2; 1 2 … 1 2; 1 1 … 2 1; 1 1 … 2 2])"
      ]
     },
     "execution_count": 18,
     "metadata": {},
     "output_type": "execute_result"
    }
   ],
   "source": [
    "# connectivity arrays\n",
    "(FToE, FToLF, EToO, EToS) = connectivityarrays(EToV, EToF)"
   ]
  },
  {
   "cell_type": "markdown",
   "metadata": {},
   "source": [
    "## Forming exact solutions"
   ]
  },
  {
   "cell_type": "code",
   "execution_count": 19,
   "metadata": {},
   "outputs": [
    {
     "name": "stdout",
     "output_type": "stream",
     "text": [
      "Lx = 0.5\n",
      "Ly = 0.5\n"
     ]
    },
    {
     "data": {
      "text/plain": [
       "0.5"
      ]
     },
     "execution_count": 19,
     "metadata": {},
     "output_type": "execute_result"
    }
   ],
   "source": [
    "Lx = maximum(verts[1,:])\n",
    "@show Lx\n",
    "Ly = maximum(abs.(verts[2,:]))\n",
    "@show Ly"
   ]
  },
  {
   "cell_type": "code",
   "execution_count": 20,
   "metadata": {},
   "outputs": [
    {
     "data": {
      "text/plain": [
       "(12.566370614359172, 25.132741228718345)"
      ]
     },
     "execution_count": 20,
     "metadata": {},
     "output_type": "execute_result"
    }
   ],
   "source": [
    "(kx, ky) = (2*π / Lx, 4*π / Ly)"
   ]
  },
  {
   "cell_type": "code",
   "execution_count": 21,
   "metadata": {},
   "outputs": [
    {
     "data": {
      "text/plain": [
       "vex (generic function with 1 method)"
      ]
     },
     "execution_count": 21,
     "metadata": {},
     "output_type": "execute_result"
    }
   ],
   "source": [
    "vex(x,y,e) = begin\n",
    "    if EToDomain[e] == 1\n",
    "        return cos.(kx * x) .* cosh.(ky * y)\n",
    "    elseif EToDomain[e] == 2\n",
    "        return 10 .+ cos.(kx * x) .* cosh.(ky * y)\n",
    "    else\n",
    "        error(\"invalid block\")\n",
    "    end\n",
    "end"
   ]
  },
  {
   "cell_type": "code",
   "execution_count": 22,
   "metadata": {},
   "outputs": [
    {
     "data": {
      "text/plain": [
       "vex_x (generic function with 1 method)"
      ]
     },
     "execution_count": 22,
     "metadata": {},
     "output_type": "execute_result"
    }
   ],
   "source": [
    "vex_x(x,y,e) = begin\n",
    "  if EToDomain[e] == 1\n",
    "    return -kx * sin.(kx * x) .* cosh.(ky * y)\n",
    "  elseif EToDomain[e] == 2\n",
    "    return -kx * sin.(kx * x) .* cosh.(ky * y)\n",
    "  else\n",
    "    error(\"invalid block\")\n",
    "  end\n",
    "end"
   ]
  },
  {
   "cell_type": "code",
   "execution_count": 23,
   "metadata": {},
   "outputs": [
    {
     "data": {
      "text/plain": [
       "vex_y (generic function with 1 method)"
      ]
     },
     "execution_count": 23,
     "metadata": {},
     "output_type": "execute_result"
    }
   ],
   "source": [
    "vex_y(x,y,e) = begin\n",
    "  if EToDomain[e] == 1\n",
    "    return ky * cos.(kx * x) .* sinh.(ky * y)\n",
    "  elseif EToDomain[e] == 2\n",
    "    return ky * cos.(kx * x) .* sinh.(ky * y)\n",
    "  else\n",
    "    error(\"invalid block\")\n",
    "  end\n",
    "end"
   ]
  },
  {
   "cell_type": "code",
   "execution_count": 24,
   "metadata": {},
   "outputs": [
    {
     "data": {
      "text/plain": [
       "vex_xx (generic function with 1 method)"
      ]
     },
     "execution_count": 24,
     "metadata": {},
     "output_type": "execute_result"
    }
   ],
   "source": [
    "vex_xx(x,y,e) = begin\n",
    "  if EToDomain[e] == 1\n",
    "    return -kx^2 * cos.(kx * x) .* cosh.(ky * y)\n",
    "  elseif EToDomain[e] == 2\n",
    "    return -kx^2 * cos.(kx * x) .* cosh.(ky * y)\n",
    "  else\n",
    "    error(\"invalid block\")\n",
    "  end\n",
    "end"
   ]
  },
  {
   "cell_type": "code",
   "execution_count": 25,
   "metadata": {},
   "outputs": [
    {
     "data": {
      "text/plain": [
       "vex_xy (generic function with 1 method)"
      ]
     },
     "execution_count": 25,
     "metadata": {},
     "output_type": "execute_result"
    }
   ],
   "source": [
    "vex_xy(x,y,e) = begin\n",
    "  if EToDomain[e] == 1\n",
    "    return -kx * ky * sin.(kx * x) .* sinh.(ky * y)\n",
    "  elseif EToDomain[e] == 2\n",
    "    return -kx * ky * sin.(kx * x) .* sinh.(ky * y)\n",
    "  else\n",
    "    error(\"invalid block\")\n",
    "  end\n",
    "end"
   ]
  },
  {
   "cell_type": "code",
   "execution_count": 26,
   "metadata": {},
   "outputs": [
    {
     "data": {
      "text/plain": [
       "vex_yy (generic function with 1 method)"
      ]
     },
     "execution_count": 26,
     "metadata": {},
     "output_type": "execute_result"
    }
   ],
   "source": [
    "vex_yy(x,y,e) = begin\n",
    "  if EToDomain[e] == 1\n",
    "    return ky^2 * cos.(kx * x) .* cosh.(ky * y)\n",
    "  elseif EToDomain[e] == 2\n",
    "    return ky^2 * cos.(kx * x) .* cosh.(ky * y)\n",
    "  else\n",
    "    error(\"invalid block\")\n",
    "  end\n",
    "end"
   ]
  },
  {
   "cell_type": "code",
   "execution_count": 27,
   "metadata": {},
   "outputs": [
    {
     "data": {
      "text/plain": [
       "4-element Array{Float64,1}:\n",
       " 0.0\n",
       " 0.0\n",
       " 0.0\n",
       " 0.0"
      ]
     },
     "execution_count": 27,
     "metadata": {},
     "output_type": "execute_result"
    }
   ],
   "source": [
    "ϵ = zeros(4)"
   ]
  },
  {
   "cell_type": "code",
   "execution_count": 28,
   "metadata": {},
   "outputs": [
    {
     "data": {
      "text/plain": [
       "4"
      ]
     },
     "execution_count": 28,
     "metadata": {},
     "output_type": "execute_result"
    }
   ],
   "source": [
    "lvl = 4"
   ]
  },
  {
   "cell_type": "code",
   "execution_count": 29,
   "metadata": {},
   "outputs": [
    {
     "data": {
      "text/plain": [
       "16-element Array{Int64,1}:\n",
       " 128\n",
       " 128\n",
       " 128\n",
       " 128\n",
       " 128\n",
       " 128\n",
       " 128\n",
       " 128\n",
       " 128\n",
       " 128\n",
       " 128\n",
       " 128\n",
       " 128\n",
       " 128\n",
       " 128\n",
       " 128"
      ]
     },
     "execution_count": 29,
     "metadata": {},
     "output_type": "execute_result"
    }
   ],
   "source": [
    "# generate base mesh size for each element\n",
    "Nr = EToN0[1,:] * (2^(lvl - 1))\n",
    "Ns = EToN0[2,:] * (2^(lvl - 1))"
   ]
  },
  {
   "cell_type": "code",
   "execution_count": null,
   "metadata": {},
   "outputs": [],
   "source": []
  },
  {
   "cell_type": "code",
   "execution_count": 30,
   "metadata": {},
   "outputs": [
    {
     "data": {
      "text/plain": [
       "NamedTuple{(:M̃, :F, :coord, :facecoord, :JH, :sJ, :nx, :ny, :Hf, :HfI, :τ, :bctype),Tuple{SparseMatrixCSC{Float64,Int64},NTuple{4,SparseMatrixCSC{Float64,Int64}},Tuple{Array{Float64,2},Array{Float64,2}},Tuple{Tuple{SubArray{Float64,1,Array{Float64,2},Tuple{Int64,Base.Slice{Base.OneTo{Int64}}},true},SubArray{Float64,1,Array{Float64,2},Tuple{Int64,Base.Slice{Base.OneTo{Int64}}},true},SubArray{Float64,1,Array{Float64,2},Tuple{Base.Slice{Base.OneTo{Int64}},Int64},true},SubArray{Float64,1,Array{Float64,2},Tuple{Base.Slice{Base.OneTo{Int64}},Int64},true}},Tuple{SubArray{Float64,1,Array{Float64,2},Tuple{Int64,Base.Slice{Base.OneTo{Int64}}},true},SubArray{Float64,1,Array{Float64,2},Tuple{Int64,Base.Slice{Base.OneTo{Int64}}},true},SubArray{Float64,1,Array{Float64,2},Tuple{Base.Slice{Base.OneTo{Int64}},Int64},true},SubArray{Float64,1,Array{Float64,2},Tuple{Base.Slice{Base.OneTo{Int64}},Int64},true}}},SparseMatrixCSC{Float64,Int64},NTuple{4,Array{Float64,1}},NTuple{4,Array{Float64,1}},NTuple{4,Array{Float64,1}},NTuple{4,SparseMatrixCSC{Float64,Int64}},NTuple{4,SparseMatrixCSC{Float64,Int64}},NTuple{4,SparseMatrixCSC{Float64,Int64}},NTuple{4,Int64}}}"
      ]
     },
     "execution_count": 30,
     "metadata": {},
     "output_type": "execute_result"
    }
   ],
   "source": [
    "OPTYPE = typeof(locoperator(2,8,8))"
   ]
  },
  {
   "cell_type": "code",
   "execution_count": 31,
   "metadata": {},
   "outputs": [
    {
     "data": {
      "text/plain": [
       "Dict{Int64,NamedTuple{(:M̃, :F, :coord, :facecoord, :JH, :sJ, :nx, :ny, :Hf, :HfI, :τ, :bctype),Tuple{SparseMatrixCSC{Float64,Int64},NTuple{4,SparseMatrixCSC{Float64,Int64}},Tuple{Array{Float64,2},Array{Float64,2}},Tuple{Tuple{SubArray{Float64,1,Array{Float64,2},Tuple{Int64,Base.Slice{Base.OneTo{Int64}}},true},SubArray{Float64,1,Array{Float64,2},Tuple{Int64,Base.Slice{Base.OneTo{Int64}}},true},SubArray{Float64,1,Array{Float64,2},Tuple{Base.Slice{Base.OneTo{Int64}},Int64},true},SubArray{Float64,1,Array{Float64,2},Tuple{Base.Slice{Base.OneTo{Int64}},Int64},true}},Tuple{SubArray{Float64,1,Array{Float64,2},Tuple{Int64,Base.Slice{Base.OneTo{Int64}}},true},SubArray{Float64,1,Array{Float64,2},Tuple{Int64,Base.Slice{Base.OneTo{Int64}}},true},SubArray{Float64,1,Array{Float64,2},Tuple{Base.Slice{Base.OneTo{Int64}},Int64},true},SubArray{Float64,1,Array{Float64,2},Tuple{Base.Slice{Base.OneTo{Int64}},Int64},true}}},SparseMatrixCSC{Float64,Int64},NTuple{4,Array{Float64,1}},NTuple{4,Array{Float64,1}},NTuple{4,Array{Float64,1}},NTuple{4,SparseMatrixCSC{Float64,Int64}},NTuple{4,SparseMatrixCSC{Float64,Int64}},NTuple{4,SparseMatrixCSC{Float64,Int64}},NTuple{4,Int64}}}} with 0 entries"
      ]
     },
     "execution_count": 31,
     "metadata": {},
     "output_type": "execute_result"
    }
   ],
   "source": [
    "lop = Dict{Int64, OPTYPE}()"
   ]
  },
  {
   "cell_type": "code",
   "execution_count": 32,
   "metadata": {},
   "outputs": [
    {
     "data": {
      "text/plain": [
       "BenchmarkTools.Trial: \n",
       "  memory estimate:  4.65 GiB\n",
       "  allocs estimate:  1452353\n",
       "  --------------\n",
       "  minimum time:     1.539 s (17.91% GC)\n",
       "  median time:      1.675 s (19.66% GC)\n",
       "  mean time:        1.648 s (19.50% GC)\n",
       "  maximum time:     1.704 s (20.61% GC)\n",
       "  --------------\n",
       "  samples:          4\n",
       "  evals/sample:     1"
      ]
     },
     "execution_count": 32,
     "metadata": {},
     "output_type": "execute_result"
    }
   ],
   "source": [
    "@benchmark for e = 1:nelems\n",
    "      # Get the element corners\n",
    "      (x1, x2, x3, x4) = verts[1, EToV[:, e]]\n",
    "      (y1, y2, y3, y4) = verts[2, EToV[:, e]]\n",
    "\n",
    "      # Initialize the block transformations as transfinite between the corners\n",
    "      ex = [(α) -> x1 * (1 .- α) / 2 + x3 * (1 .+ α) / 2,\n",
    "            (α) -> x2 * (1 .- α) / 2 + x4 * (1 .+ α) / 2,\n",
    "            (α) -> x1 * (1 .- α) / 2 + x2 * (1 .+ α) / 2,\n",
    "            (α) -> x3 * (1 .- α) / 2 + x4 * (1 .+ α) / 2]\n",
    "      exα = [(α) -> -x1 / 2 + x3 / 2,\n",
    "             (α) -> -x2 / 2 + x4 / 2,\n",
    "             (α) -> -x1 / 2 + x2 / 2,\n",
    "             (α) -> -x3 / 2 + x4 / 2]\n",
    "      ey = [(α) -> y1 * (1 .- α) / 2 + y3 * (1 .+ α) / 2,\n",
    "            (α) -> y2 * (1 .- α) / 2 + y4 * (1 .+ α) / 2,\n",
    "            (α) -> y1 * (1 .- α) / 2 + y2 * (1 .+ α) / 2,\n",
    "            (α) -> y3 * (1 .- α) / 2 + y4 * (1 .+ α) / 2]\n",
    "      eyα = [(α) -> -y1 / 2 + y3 / 2,\n",
    "             (α) -> -y2 / 2 + y4 / 2,\n",
    "             (α) -> -y1 / 2 + y2 / 2,\n",
    "             (α) -> -y3 / 2 + y4 / 2]\n",
    "\n",
    "      # For blocks on the circle, put in the curved edge transform\n",
    "      if FToB[EToF[1, e]] == BC_JUMP_INTERFACE\n",
    "        error(\"curved face 1 not implemented yet\")\n",
    "      end\n",
    "      if FToB[EToF[2, e]] == BC_JUMP_INTERFACE\n",
    "        error(\"curved face 2 not implemented yet\")\n",
    "      end\n",
    "      if FToB[EToF[3, e]] == BC_JUMP_INTERFACE\n",
    "        Q1 = atan(y1, x1)\n",
    "        Q2 = atan(y2, x2)\n",
    "        if !(-π/2 < Q1 - Q2 < π/2)\n",
    "          Q2 -= sign(Q2) * 2 * π\n",
    "        end\n",
    "        ex[3] = (α) -> cos.(Q1 * (1 .- α) / 2 + Q2 * (1 .+ α) / 2)\n",
    "        ey[3] = (α) -> sin.(Q1 * (1 .- α) / 2 + Q2 * (1 .+ α) / 2)\n",
    "        β3 = (Q2 - Q1) / 2\n",
    "        exα[3] = (α) -> -β3 .* sin.(Q1 * (1 .- α) / 2 + Q2 * (1 .+ α) / 2)\n",
    "        eyα[3] = (α) -> +β3 .* cos.(Q1 * (1 .- α) / 2 + Q2 * (1 .+ α) / 2)\n",
    "      end\n",
    "      if FToB[EToF[4, e]] == BC_JUMP_INTERFACE\n",
    "        Q3 = atan(y3, x3)\n",
    "        Q4 = atan(y4, x4)\n",
    "        if !(-π/2 < Q3 - Q4 < π/2)\n",
    "          error(\"curved face 4 angle correction not implemented yet\")\n",
    "        end\n",
    "        ex[4] = (α) -> cos.(Q3 * (1 .- α) / 2 + Q4 * (1 .+ α) / 2)\n",
    "        ey[4] = (α) -> sin.(Q3 * (1 .- α) / 2 + Q4 * (1 .+ α) / 2)\n",
    "        β4 = (Q4 - Q3) / 2\n",
    "        exα[4] = (α) -> -β4 .* sin.(Q3 * (1 .- α) / 2 + Q4 * (1 .+ α) / 2)\n",
    "        eyα[4] = (α) -> +β4 .* cos.(Q3 * (1 .- α) / 2 + Q4 * (1 .+ α) / 2)\n",
    "      end\n",
    "\n",
    "      # Create the volume transform as the transfinite blending of the edge\n",
    "      # transformations\n",
    "      xt(r,s) = transfinite_blend(ex[1], ex[2], ex[3], ex[4],\n",
    "                                  exα[1], exα[2], exα[3], exα[4],\n",
    "                                  r, s)\n",
    "      yt(r,s) = transfinite_blend(ey[1], ey[2], ey[3], ey[4],\n",
    "                                  eyα[1], eyα[2], eyα[3], eyα[4],\n",
    "                                  r, s)\n",
    "\n",
    "\n",
    "      metrics = create_metrics(SBPp, Nr[e], Ns[e], xt, yt)\n",
    "\n",
    "      # Build local operators\n",
    "      lop[e] = locoperator(SBPp, Nr[e], Ns[e], metrics, FToB[EToF[:, e]])\n",
    "    end"
   ]
  },
  {
   "cell_type": "code",
   "execution_count": 33,
   "metadata": {},
   "outputs": [
    {
     "data": {
      "text/plain": [
       "BenchmarkTools.Trial: \n",
       "  memory estimate:  4.65 GiB\n",
       "  allocs estimate:  1452369\n",
       "  --------------\n",
       "  minimum time:     999.306 ms (40.13% GC)\n",
       "  median time:      1.078 s (43.02% GC)\n",
       "  mean time:        1.070 s (43.47% GC)\n",
       "  maximum time:     1.126 s (46.39% GC)\n",
       "  --------------\n",
       "  samples:          5\n",
       "  evals/sample:     1"
      ]
     },
     "execution_count": 33,
     "metadata": {},
     "output_type": "execute_result"
    }
   ],
   "source": [
    "@benchmark @threads for e = 1:nelems\n",
    "      # Get the element corners\n",
    "      (x1, x2, x3, x4) = verts[1, EToV[:, e]]\n",
    "      (y1, y2, y3, y4) = verts[2, EToV[:, e]]\n",
    "\n",
    "      # Initialize the block transformations as transfinite between the corners\n",
    "      ex = [(α) -> x1 * (1 .- α) / 2 + x3 * (1 .+ α) / 2,\n",
    "            (α) -> x2 * (1 .- α) / 2 + x4 * (1 .+ α) / 2,\n",
    "            (α) -> x1 * (1 .- α) / 2 + x2 * (1 .+ α) / 2,\n",
    "            (α) -> x3 * (1 .- α) / 2 + x4 * (1 .+ α) / 2]\n",
    "      exα = [(α) -> -x1 / 2 + x3 / 2,\n",
    "             (α) -> -x2 / 2 + x4 / 2,\n",
    "             (α) -> -x1 / 2 + x2 / 2,\n",
    "             (α) -> -x3 / 2 + x4 / 2]\n",
    "      ey = [(α) -> y1 * (1 .- α) / 2 + y3 * (1 .+ α) / 2,\n",
    "            (α) -> y2 * (1 .- α) / 2 + y4 * (1 .+ α) / 2,\n",
    "            (α) -> y1 * (1 .- α) / 2 + y2 * (1 .+ α) / 2,\n",
    "            (α) -> y3 * (1 .- α) / 2 + y4 * (1 .+ α) / 2]\n",
    "      eyα = [(α) -> -y1 / 2 + y3 / 2,\n",
    "             (α) -> -y2 / 2 + y4 / 2,\n",
    "             (α) -> -y1 / 2 + y2 / 2,\n",
    "             (α) -> -y3 / 2 + y4 / 2]\n",
    "\n",
    "      # For blocks on the circle, put in the curved edge transform\n",
    "      if FToB[EToF[1, e]] == BC_JUMP_INTERFACE\n",
    "        error(\"curved face 1 not implemented yet\")\n",
    "      end\n",
    "      if FToB[EToF[2, e]] == BC_JUMP_INTERFACE\n",
    "        error(\"curved face 2 not implemented yet\")\n",
    "      end\n",
    "      if FToB[EToF[3, e]] == BC_JUMP_INTERFACE\n",
    "        Q1 = atan(y1, x1)\n",
    "        Q2 = atan(y2, x2)\n",
    "        if !(-π/2 < Q1 - Q2 < π/2)\n",
    "          Q2 -= sign(Q2) * 2 * π\n",
    "        end\n",
    "        ex[3] = (α) -> cos.(Q1 * (1 .- α) / 2 + Q2 * (1 .+ α) / 2)\n",
    "        ey[3] = (α) -> sin.(Q1 * (1 .- α) / 2 + Q2 * (1 .+ α) / 2)\n",
    "        β3 = (Q2 - Q1) / 2\n",
    "        exα[3] = (α) -> -β3 .* sin.(Q1 * (1 .- α) / 2 + Q2 * (1 .+ α) / 2)\n",
    "        eyα[3] = (α) -> +β3 .* cos.(Q1 * (1 .- α) / 2 + Q2 * (1 .+ α) / 2)\n",
    "      end\n",
    "      if FToB[EToF[4, e]] == BC_JUMP_INTERFACE\n",
    "        Q3 = atan(y3, x3)\n",
    "        Q4 = atan(y4, x4)\n",
    "        if !(-π/2 < Q3 - Q4 < π/2)\n",
    "          error(\"curved face 4 angle correction not implemented yet\")\n",
    "        end\n",
    "        ex[4] = (α) -> cos.(Q3 * (1 .- α) / 2 + Q4 * (1 .+ α) / 2)\n",
    "        ey[4] = (α) -> sin.(Q3 * (1 .- α) / 2 + Q4 * (1 .+ α) / 2)\n",
    "        β4 = (Q4 - Q3) / 2\n",
    "        exα[4] = (α) -> -β4 .* sin.(Q3 * (1 .- α) / 2 + Q4 * (1 .+ α) / 2)\n",
    "        eyα[4] = (α) -> +β4 .* cos.(Q3 * (1 .- α) / 2 + Q4 * (1 .+ α) / 2)\n",
    "      end\n",
    "\n",
    "      # Create the volume transform as the transfinite blending of the edge\n",
    "      # transformations\n",
    "      xt(r,s) = transfinite_blend(ex[1], ex[2], ex[3], ex[4],\n",
    "                                  exα[1], exα[2], exα[3], exα[4],\n",
    "                                  r, s)\n",
    "      yt(r,s) = transfinite_blend(ey[1], ey[2], ey[3], ey[4],\n",
    "                                  eyα[1], eyα[2], eyα[3], eyα[4],\n",
    "                                  r, s)\n",
    "\n",
    "\n",
    "      metrics = create_metrics(SBPp, Nr[e], Ns[e], xt, yt)\n",
    "\n",
    "      # Build local operators\n",
    "      lop[e] = locoperator(SBPp, Nr[e], Ns[e], metrics, FToB[EToF[:, e]])\n",
    "    end"
   ]
  },
  {
   "cell_type": "markdown",
   "metadata": {},
   "source": [
    "Conclusing 1: Using @threads macro could improve performance for building local operators"
   ]
  },
  {
   "cell_type": "code",
   "execution_count": 34,
   "metadata": {},
   "outputs": [
    {
     "data": {
      "text/plain": [
       "2.2940001487731934"
      ]
     },
     "execution_count": 34,
     "metadata": {},
     "output_type": "execute_result"
    }
   ],
   "source": [
    "time_LocalGlobalOperators_start = time()\n",
    "(M, FbarT, D, vstarts, FToλstarts) = threaded_LocalGlobalOperators(lop, Nr, Ns, FToB, FToE, FToLF, EToO, EToS, (x) -> cholesky(Symmetric(x)))\n",
    "time_LocalGlobalOperators_elapsed = time() - time_LocalGlobalOperators_start"
   ]
  },
  {
   "cell_type": "code",
   "execution_count": 35,
   "metadata": {},
   "outputs": [
    {
     "name": "stdout",
     "output_type": "stream",
     "text": [
      "lvl = 4\n"
     ]
    },
    {
     "data": {
      "text/plain": [
       "4"
      ]
     },
     "execution_count": 35,
     "metadata": {},
     "output_type": "execute_result"
    }
   ],
   "source": [
    "@show lvl"
   ]
  },
  {
   "cell_type": "code",
   "execution_count": 36,
   "metadata": {},
   "outputs": [
    {
     "data": {
      "text/plain": [
       "SBPLocalOperator1{Float64,SuiteSparse.CHOLMOD.Factor{Float64}}([1, 16642, 33283, 49924, 66565, 83206, 99847, 116488, 133129, 149770, 166411, 183052, 199693, 216334, 232975, 249616, 266257], [3.807976433115568e-7, 1.6757718840580747e-6, 7.563502168786216e-7, 1.495123870251764e-6, 1.0988142121639435e-6, 1.2220175525452047e-6, 1.205250068947121e-6, 1.205250068947121e-6, 1.205250068947121e-6, 1.205250068947121e-6  …  1.205250068947121e-6, 1.205250068947121e-6, 1.205250068947121e-6, 1.205250068947121e-6, 1.2220175525452047e-6, 1.0988142121639435e-6, 1.495123870251764e-6, 7.563502168786216e-7, 1.6757718840580747e-6, 3.807976433115568e-7], [0.5, 0.5, 0.5, 0.5, 0.5, 0.5, 0.5, 0.5, 0.5, 0.5  …  -0.25, -0.25, -0.25, -0.25, -0.25, -0.25, -0.25, -0.25, -0.25, -0.25], [-0.5, -0.498046875, -0.49609375, -0.494140625, -0.4921875, -0.490234375, -0.48828125, -0.486328125, -0.484375, -0.482421875  …  -0.232421875, -0.234375, -0.236328125, -0.23828125, -0.240234375, -0.2421875, -0.244140625, -0.24609375, -0.248046875, -0.25], [1, 1, 1, 1, 1, 1, 1, 1, 1, 1  …  16, 16, 16, 16, 16, 16, 16, 16, 16, 16], SuiteSparse.CHOLMOD.Factor{Float64}[SuiteSparse.CHOLMOD.Factor{Float64}\n",
       "type:    LLt\n",
       "method:  supernodal\n",
       "maxnnz:  0\n",
       "nnz:     3602642\n",
       "success: true\n",
       ", SuiteSparse.CHOLMOD.Factor{Float64}\n",
       "type:    LLt\n",
       "method:  supernodal\n",
       "maxnnz:  0\n",
       "nnz:     3602642\n",
       "success: true\n",
       ", SuiteSparse.CHOLMOD.Factor{Float64}\n",
       "type:    LLt\n",
       "method:  supernodal\n",
       "maxnnz:  0\n",
       "nnz:     3602642\n",
       "success: true\n",
       ", SuiteSparse.CHOLMOD.Factor{Float64}\n",
       "type:    LLt\n",
       "method:  supernodal\n",
       "maxnnz:  0\n",
       "nnz:     3602642\n",
       "success: true\n",
       ", SuiteSparse.CHOLMOD.Factor{Float64}\n",
       "type:    LLt\n",
       "method:  supernodal\n",
       "maxnnz:  0\n",
       "nnz:     3602642\n",
       "success: true\n",
       ", SuiteSparse.CHOLMOD.Factor{Float64}\n",
       "type:    LLt\n",
       "method:  supernodal\n",
       "maxnnz:  0\n",
       "nnz:     3602642\n",
       "success: true\n",
       ", SuiteSparse.CHOLMOD.Factor{Float64}\n",
       "type:    LLt\n",
       "method:  supernodal\n",
       "maxnnz:  0\n",
       "nnz:     3602642\n",
       "success: true\n",
       ", SuiteSparse.CHOLMOD.Factor{Float64}\n",
       "type:    LLt\n",
       "method:  supernodal\n",
       "maxnnz:  0\n",
       "nnz:     3602642\n",
       "success: true\n",
       ", SuiteSparse.CHOLMOD.Factor{Float64}\n",
       "type:    LLt\n",
       "method:  supernodal\n",
       "maxnnz:  0\n",
       "nnz:     3602642\n",
       "success: true\n",
       ", SuiteSparse.CHOLMOD.Factor{Float64}\n",
       "type:    LLt\n",
       "method:  supernodal\n",
       "maxnnz:  0\n",
       "nnz:     3602642\n",
       "success: true\n",
       ", SuiteSparse.CHOLMOD.Factor{Float64}\n",
       "type:    LLt\n",
       "method:  supernodal\n",
       "maxnnz:  0\n",
       "nnz:     3602642\n",
       "success: true\n",
       ", SuiteSparse.CHOLMOD.Factor{Float64}\n",
       "type:    LLt\n",
       "method:  supernodal\n",
       "maxnnz:  0\n",
       "nnz:     3602642\n",
       "success: true\n",
       ", SuiteSparse.CHOLMOD.Factor{Float64}\n",
       "type:    LLt\n",
       "method:  supernodal\n",
       "maxnnz:  0\n",
       "nnz:     3602642\n",
       "success: true\n",
       ", SuiteSparse.CHOLMOD.Factor{Float64}\n",
       "type:    LLt\n",
       "method:  supernodal\n",
       "maxnnz:  0\n",
       "nnz:     3602642\n",
       "success: true\n",
       ", SuiteSparse.CHOLMOD.Factor{Float64}\n",
       "type:    LLt\n",
       "method:  supernodal\n",
       "maxnnz:  0\n",
       "nnz:     3602642\n",
       "success: true\n",
       ", SuiteSparse.CHOLMOD.Factor{Float64}\n",
       "type:    LLt\n",
       "method:  supernodal\n",
       "maxnnz:  0\n",
       "nnz:     3602642\n",
       "success: true\n",
       "])"
      ]
     },
     "execution_count": 36,
     "metadata": {},
     "output_type": "execute_result"
    }
   ],
   "source": [
    "M"
   ]
  },
  {
   "cell_type": "code",
   "execution_count": 37,
   "metadata": {},
   "outputs": [
    {
     "data": {
      "text/plain": [
       "16-element Array{SuiteSparse.CHOLMOD.Factor{Float64},1}:\n",
       " SuiteSparse.CHOLMOD.Factor{Float64}\n",
       "type:    LLt\n",
       "method:  supernodal\n",
       "maxnnz:  0\n",
       "nnz:     3602642\n",
       "success: true\n",
       "\n",
       " SuiteSparse.CHOLMOD.Factor{Float64}\n",
       "type:    LLt\n",
       "method:  supernodal\n",
       "maxnnz:  0\n",
       "nnz:     3602642\n",
       "success: true\n",
       "\n",
       " SuiteSparse.CHOLMOD.Factor{Float64}\n",
       "type:    LLt\n",
       "method:  supernodal\n",
       "maxnnz:  0\n",
       "nnz:     3602642\n",
       "success: true\n",
       "\n",
       " SuiteSparse.CHOLMOD.Factor{Float64}\n",
       "type:    LLt\n",
       "method:  supernodal\n",
       "maxnnz:  0\n",
       "nnz:     3602642\n",
       "success: true\n",
       "\n",
       " SuiteSparse.CHOLMOD.Factor{Float64}\n",
       "type:    LLt\n",
       "method:  supernodal\n",
       "maxnnz:  0\n",
       "nnz:     3602642\n",
       "success: true\n",
       "\n",
       " SuiteSparse.CHOLMOD.Factor{Float64}\n",
       "type:    LLt\n",
       "method:  supernodal\n",
       "maxnnz:  0\n",
       "nnz:     3602642\n",
       "success: true\n",
       "\n",
       " SuiteSparse.CHOLMOD.Factor{Float64}\n",
       "type:    LLt\n",
       "method:  supernodal\n",
       "maxnnz:  0\n",
       "nnz:     3602642\n",
       "success: true\n",
       "\n",
       " SuiteSparse.CHOLMOD.Factor{Float64}\n",
       "type:    LLt\n",
       "method:  supernodal\n",
       "maxnnz:  0\n",
       "nnz:     3602642\n",
       "success: true\n",
       "\n",
       " SuiteSparse.CHOLMOD.Factor{Float64}\n",
       "type:    LLt\n",
       "method:  supernodal\n",
       "maxnnz:  0\n",
       "nnz:     3602642\n",
       "success: true\n",
       "\n",
       " SuiteSparse.CHOLMOD.Factor{Float64}\n",
       "type:    LLt\n",
       "method:  supernodal\n",
       "maxnnz:  0\n",
       "nnz:     3602642\n",
       "success: true\n",
       "\n",
       " SuiteSparse.CHOLMOD.Factor{Float64}\n",
       "type:    LLt\n",
       "method:  supernodal\n",
       "maxnnz:  0\n",
       "nnz:     3602642\n",
       "success: true\n",
       "\n",
       " SuiteSparse.CHOLMOD.Factor{Float64}\n",
       "type:    LLt\n",
       "method:  supernodal\n",
       "maxnnz:  0\n",
       "nnz:     3602642\n",
       "success: true\n",
       "\n",
       " SuiteSparse.CHOLMOD.Factor{Float64}\n",
       "type:    LLt\n",
       "method:  supernodal\n",
       "maxnnz:  0\n",
       "nnz:     3602642\n",
       "success: true\n",
       "\n",
       " SuiteSparse.CHOLMOD.Factor{Float64}\n",
       "type:    LLt\n",
       "method:  supernodal\n",
       "maxnnz:  0\n",
       "nnz:     3602642\n",
       "success: true\n",
       "\n",
       " SuiteSparse.CHOLMOD.Factor{Float64}\n",
       "type:    LLt\n",
       "method:  supernodal\n",
       "maxnnz:  0\n",
       "nnz:     3602642\n",
       "success: true\n",
       "\n",
       " SuiteSparse.CHOLMOD.Factor{Float64}\n",
       "type:    LLt\n",
       "method:  supernodal\n",
       "maxnnz:  0\n",
       "nnz:     3602642\n",
       "success: true\n"
      ]
     },
     "execution_count": 37,
     "metadata": {},
     "output_type": "execute_result"
    }
   ],
   "source": [
    "locfactors = M.F"
   ]
  },
  {
   "cell_type": "code",
   "execution_count": 38,
   "metadata": {},
   "outputs": [
    {
     "data": {
      "text/plain": [
       "(M̃ = \n",
       "  [1    ,     1]  =  11.5809\n",
       "  [2    ,     1]  =  0.801039\n",
       "  [3    ,     1]  =  -0.820124\n",
       "  [4    ,     1]  =  0.337643\n",
       "  [5    ,     1]  =  -0.0274042\n",
       "  [6    ,     1]  =  -0.0128202\n",
       "  [7    ,     1]  =  -1.09617e-18\n",
       "  [9    ,     1]  =  3.42553e-20\n",
       "  [130  ,     1]  =  0.801039\n",
       "  [259  ,     1]  =  -0.820124\n",
       "  [388  ,     1]  =  0.337643\n",
       "  [517  ,     1]  =  -0.0274042\n",
       "  ⋮\n",
       "  [15996, 16641]  =  -0.0128202\n",
       "  [16125, 16641]  =  -0.0274042\n",
       "  [16254, 16641]  =  0.337643\n",
       "  [16383, 16641]  =  -0.820124\n",
       "  [16512, 16641]  =  0.801039\n",
       "  [16633, 16641]  =  3.42553e-20\n",
       "  [16635, 16641]  =  -1.09617e-18\n",
       "  [16636, 16641]  =  -0.0128202\n",
       "  [16637, 16641]  =  -0.0274042\n",
       "  [16638, 16641]  =  0.337643\n",
       "  [16639, 16641]  =  -0.820124\n",
       "  [16640, 16641]  =  0.801039\n",
       "  [16641, 16641]  =  11.5809, F = (\n",
       "  [1    ,   1]  =  -6.06879\n",
       "  [2    ,   1]  =  -1.2638\n",
       "  [3    ,   1]  =  0.947847\n",
       "  [4    ,   1]  =  -0.421265\n",
       "  [5    ,   1]  =  0.0789873\n",
       "  [130  ,   2]  =  -26.7069\n",
       "  [131  ,   2]  =  -5.56157\n",
       "  [132  ,   2]  =  4.17118\n",
       "  [133  ,   2]  =  -1.85386\n",
       "  [134  ,   2]  =  0.347598\n",
       "  [259  ,   3]  =  -12.054\n",
       "  [260  ,   3]  =  -2.51019\n",
       "  ⋮\n",
       "  [16257, 127]  =  1.88264\n",
       "  [16258, 127]  =  -0.836728\n",
       "  [16259, 127]  =  0.156887\n",
       "  [16384, 128]  =  -26.7069\n",
       "  [16385, 128]  =  -5.56157\n",
       "  [16386, 128]  =  4.17118\n",
       "  [16387, 128]  =  -1.85386\n",
       "  [16388, 128]  =  0.347598\n",
       "  [16513, 129]  =  -6.06879\n",
       "  [16514, 129]  =  -1.2638\n",
       "  [16515, 129]  =  0.947847\n",
       "  [16516, 129]  =  -0.421265\n",
       "  [16517, 129]  =  0.0789873, \n",
       "  [125  ,   1]  =  0.0789873\n",
       "  [126  ,   1]  =  -0.421265\n",
       "  [127  ,   1]  =  0.947847\n",
       "  [128  ,   1]  =  -1.2638\n",
       "  [129  ,   1]  =  -6.06879\n",
       "  [254  ,   2]  =  0.347598\n",
       "  [255  ,   2]  =  -1.85386\n",
       "  [256  ,   2]  =  4.17118\n",
       "  [257  ,   2]  =  -5.56157\n",
       "  [258  ,   2]  =  -26.7069\n",
       "  [383  ,   3]  =  0.156887\n",
       "  [384  ,   3]  =  -0.836728\n",
       "  ⋮\n",
       "  [16381, 127]  =  1.88264\n",
       "  [16382, 127]  =  -2.51019\n",
       "  [16383, 127]  =  -12.054\n",
       "  [16508, 128]  =  0.347598\n",
       "  [16509, 128]  =  -1.85386\n",
       "  [16510, 128]  =  4.17118\n",
       "  [16511, 128]  =  -5.56157\n",
       "  [16512, 128]  =  -26.7069\n",
       "  [16637, 129]  =  0.0789873\n",
       "  [16638, 129]  =  -0.421265\n",
       "  [16639, 129]  =  0.947847\n",
       "  [16640, 129]  =  -1.2638\n",
       "  [16641, 129]  =  -6.06879, \n",
       "  [1  ,   1]  =  -6.06879\n",
       "  [130,   1]  =  -1.2638\n",
       "  [259,   1]  =  0.947847\n",
       "  [388,   1]  =  -0.421265\n",
       "  [517,   1]  =  0.0789873\n",
       "  [2  ,   2]  =  -26.7069\n",
       "  [131,   2]  =  -5.56157\n",
       "  [260,   2]  =  4.17118\n",
       "  [389,   2]  =  -1.85386\n",
       "  [518,   2]  =  0.347598\n",
       "  [3  ,   3]  =  -12.054\n",
       "  [132,   3]  =  -2.51019\n",
       "  ⋮\n",
       "  [385, 127]  =  1.88264\n",
       "  [514, 127]  =  -0.836728\n",
       "  [643, 127]  =  0.156887\n",
       "  [128, 128]  =  -26.7069\n",
       "  [257, 128]  =  -5.56157\n",
       "  [386, 128]  =  4.17118\n",
       "  [515, 128]  =  -1.85386\n",
       "  [644, 128]  =  0.347598\n",
       "  [129, 129]  =  -6.06879\n",
       "  [258, 129]  =  -1.2638\n",
       "  [387, 129]  =  0.947847\n",
       "  [516, 129]  =  -0.421265\n",
       "  [645, 129]  =  0.0789873, \n",
       "  [15997,   1]  =  0.0789873\n",
       "  [16126,   1]  =  -0.421265\n",
       "  [16255,   1]  =  0.947847\n",
       "  [16384,   1]  =  -1.2638\n",
       "  [16513,   1]  =  -6.06879\n",
       "  [15998,   2]  =  0.347598\n",
       "  [16127,   2]  =  -1.85386\n",
       "  [16256,   2]  =  4.17118\n",
       "  [16385,   2]  =  -5.56157\n",
       "  [16514,   2]  =  -26.7069\n",
       "  [15999,   3]  =  0.156887\n",
       "  [16128,   3]  =  -0.836728\n",
       "  ⋮\n",
       "  [16381, 127]  =  1.88264\n",
       "  [16510, 127]  =  -2.51019\n",
       "  [16639, 127]  =  -12.054\n",
       "  [16124, 128]  =  0.347598\n",
       "  [16253, 128]  =  -1.85386\n",
       "  [16382, 128]  =  4.17118\n",
       "  [16511, 128]  =  -5.56157\n",
       "  [16640, 128]  =  -26.7069\n",
       "  [16125, 129]  =  0.0789873\n",
       "  [16254, 129]  =  -0.421265\n",
       "  [16383, 129]  =  0.947847\n",
       "  [16512, 129]  =  -1.2638\n",
       "  [16641, 129]  =  -6.06879), coord = ([0.5 0.498046875 … 0.251953125 0.25; 0.5 0.498046875 … 0.251953125 0.25; … ; 0.5 0.498046875 … 0.251953125 0.25; 0.5 0.498046875 … 0.251953125 0.25], [-0.5 -0.5 … -0.5 -0.5; -0.498046875 -0.498046875 … -0.498046875 -0.498046875; … ; -0.251953125 -0.251953125 … -0.251953125 -0.251953125; -0.25 -0.25 … -0.25 -0.25]), facecoord = (([0.5, 0.498046875, 0.49609375, 0.494140625, 0.4921875, 0.490234375, 0.48828125, 0.486328125, 0.484375, 0.482421875  …  0.267578125, 0.265625, 0.263671875, 0.26171875, 0.259765625, 0.2578125, 0.255859375, 0.25390625, 0.251953125, 0.25], [0.5, 0.498046875, 0.49609375, 0.494140625, 0.4921875, 0.490234375, 0.48828125, 0.486328125, 0.484375, 0.482421875  …  0.267578125, 0.265625, 0.263671875, 0.26171875, 0.259765625, 0.2578125, 0.255859375, 0.25390625, 0.251953125, 0.25], [0.5, 0.5, 0.5, 0.5, 0.5, 0.5, 0.5, 0.5, 0.5, 0.5  …  0.5, 0.5, 0.5, 0.5, 0.5, 0.5, 0.5, 0.5, 0.5, 0.5], [0.25, 0.25, 0.25, 0.25, 0.25, 0.25, 0.25, 0.25, 0.25, 0.25  …  0.25, 0.25, 0.25, 0.25, 0.25, 0.25, 0.25, 0.25, 0.25, 0.25]), ([-0.5, -0.5, -0.5, -0.5, -0.5, -0.5, -0.5, -0.5, -0.5, -0.5  …  -0.5, -0.5, -0.5, -0.5, -0.5, -0.5, -0.5, -0.5, -0.5, -0.5], [-0.25, -0.25, -0.25, -0.25, -0.25, -0.25, -0.25, -0.25, -0.25, -0.25  …  -0.25, -0.25, -0.25, -0.25, -0.25, -0.25, -0.25, -0.25, -0.25, -0.25], [-0.5, -0.498046875, -0.49609375, -0.494140625, -0.4921875, -0.490234375, -0.48828125, -0.486328125, -0.484375, -0.482421875  …  -0.267578125, -0.265625, -0.263671875, -0.26171875, -0.259765625, -0.2578125, -0.255859375, -0.25390625, -0.251953125, -0.25], [-0.5, -0.498046875, -0.49609375, -0.494140625, -0.4921875, -0.490234375, -0.48828125, -0.486328125, -0.484375, -0.482421875  …  -0.267578125, -0.265625, -0.263671875, -0.26171875, -0.259765625, -0.2578125, -0.255859375, -0.25390625, -0.251953125, -0.25])), JH = \n",
       "  [1    ,     1]  =  3.80798e-7\n",
       "  [2    ,     2]  =  1.67577e-6\n",
       "  [3    ,     3]  =  7.5635e-7\n",
       "  [4    ,     4]  =  1.49512e-6\n",
       "  [5    ,     5]  =  1.09881e-6\n",
       "  [6    ,     6]  =  1.22202e-6\n",
       "  [7    ,     7]  =  1.20525e-6\n",
       "  [8    ,     8]  =  1.20525e-6\n",
       "  [9    ,     9]  =  1.20525e-6\n",
       "  [10   ,    10]  =  1.20525e-6\n",
       "  [11   ,    11]  =  1.20525e-6\n",
       "  [12   ,    12]  =  1.20525e-6\n",
       "  ⋮\n",
       "  [16629, 16629]  =  1.20525e-6\n",
       "  [16630, 16630]  =  1.20525e-6\n",
       "  [16631, 16631]  =  1.20525e-6\n",
       "  [16632, 16632]  =  1.20525e-6\n",
       "  [16633, 16633]  =  1.20525e-6\n",
       "  [16634, 16634]  =  1.20525e-6\n",
       "  [16635, 16635]  =  1.20525e-6\n",
       "  [16636, 16636]  =  1.22202e-6\n",
       "  [16637, 16637]  =  1.09881e-6\n",
       "  [16638, 16638]  =  1.49512e-6\n",
       "  [16639, 16639]  =  7.5635e-7\n",
       "  [16640, 16640]  =  1.67577e-6\n",
       "  [16641, 16641]  =  3.80798e-7, sJ = ([0.125, 0.125, 0.125, 0.125, 0.125, 0.125, 0.125, 0.125, 0.125, 0.125  …  0.125, 0.125, 0.125, 0.125, 0.125, 0.125, 0.125, 0.125, 0.125, 0.125], [0.125, 0.125, 0.125, 0.125, 0.125, 0.125, 0.125, 0.125, 0.125, 0.125  …  0.125, 0.125, 0.125, 0.125, 0.125, 0.125, 0.125, 0.125, 0.125, 0.125], [0.125, 0.125, 0.125, 0.125, 0.125, 0.125, 0.125, 0.125, 0.125, 0.125  …  0.125, 0.125, 0.125, 0.125, 0.125, 0.125, 0.125, 0.125, 0.125, 0.125], [0.125, 0.125, 0.125, 0.125, 0.125, 0.125, 0.125, 0.125, 0.125, 0.125  …  0.125, 0.125, 0.125, 0.125, 0.125, 0.125, 0.125, 0.125, 0.125, 0.125]), nx = ([-0.0, -0.0, -0.0, -0.0, -0.0, -0.0, -0.0, -0.0, -0.0, -0.0  …  -0.0, -0.0, -0.0, -0.0, -0.0, -0.0, -0.0, -0.0, -0.0, -0.0], [0.0, 0.0, 0.0, 0.0, 0.0, 0.0, 0.0, 0.0, 0.0, 0.0  …  0.0, 0.0, 0.0, 0.0, 0.0, 0.0, 0.0, 0.0, 0.0, 0.0], [1.0, 1.0, 1.0, 1.0, 1.0, 1.0, 1.0, 1.0, 1.0, 1.0  …  1.0, 1.0, 1.0, 1.0, 1.0, 1.0, 1.0, 1.0, 1.0, 1.0], [-1.0, -1.0, -1.0, -1.0, -1.0, -1.0, -1.0, -1.0, -1.0, -1.0  …  -1.0, -1.0, -1.0, -1.0, -1.0, -1.0, -1.0, -1.0, -1.0, -1.0]), ny = ([-1.0, -1.0, -1.0, -1.0, -1.0, -1.0, -1.0, -1.0, -1.0, -1.0  …  -1.0, -1.0, -1.0, -1.0, -1.0, -1.0, -1.0, -1.0, -1.0, -1.0], [1.0, 1.0, 1.0, 1.0, 1.0, 1.0, 1.0, 1.0, 1.0, 1.0  …  1.0, 1.0, 1.0, 1.0, 1.0, 1.0, 1.0, 1.0, 1.0, 1.0], [-0.0, -0.0, -0.0, -0.0, -0.0, -0.0, -0.0, -0.0, -0.0, -0.0  …  -0.0, -0.0, -0.0, -0.0, -0.0, -0.0, -0.0, -0.0, -0.0, -0.0], [0.0, 0.0, 0.0, 0.0, 0.0, 0.0, 0.0, 0.0, 0.0, 0.0  …  0.0, 0.0, 0.0, 0.0, 0.0, 0.0, 0.0, 0.0, 0.0, 0.0]), Hf = (\n",
       "  [1  ,   1]  =  0.0049367\n",
       "  [2  ,   2]  =  0.0217249\n",
       "  [3  ,   3]  =  0.00980541\n",
       "  [4  ,   4]  =  0.019383\n",
       "  [5  ,   5]  =  0.0142452\n",
       "  [6  ,   6]  =  0.0158424\n",
       "  [7  ,   7]  =  0.015625\n",
       "  [8  ,   8]  =  0.015625\n",
       "  [9  ,   9]  =  0.015625\n",
       "  [10 ,  10]  =  0.015625\n",
       "  [11 ,  11]  =  0.015625\n",
       "  [12 ,  12]  =  0.015625\n",
       "  ⋮\n",
       "  [117, 117]  =  0.015625\n",
       "  [118, 118]  =  0.015625\n",
       "  [119, 119]  =  0.015625\n",
       "  [120, 120]  =  0.015625\n",
       "  [121, 121]  =  0.015625\n",
       "  [122, 122]  =  0.015625\n",
       "  [123, 123]  =  0.015625\n",
       "  [124, 124]  =  0.0158424\n",
       "  [125, 125]  =  0.0142452\n",
       "  [126, 126]  =  0.019383\n",
       "  [127, 127]  =  0.00980541\n",
       "  [128, 128]  =  0.0217249\n",
       "  [129, 129]  =  0.0049367, \n",
       "  [1  ,   1]  =  0.0049367\n",
       "  [2  ,   2]  =  0.0217249\n",
       "  [3  ,   3]  =  0.00980541\n",
       "  [4  ,   4]  =  0.019383\n",
       "  [5  ,   5]  =  0.0142452\n",
       "  [6  ,   6]  =  0.0158424\n",
       "  [7  ,   7]  =  0.015625\n",
       "  [8  ,   8]  =  0.015625\n",
       "  [9  ,   9]  =  0.015625\n",
       "  [10 ,  10]  =  0.015625\n",
       "  [11 ,  11]  =  0.015625\n",
       "  [12 ,  12]  =  0.015625\n",
       "  ⋮\n",
       "  [117, 117]  =  0.015625\n",
       "  [118, 118]  =  0.015625\n",
       "  [119, 119]  =  0.015625\n",
       "  [120, 120]  =  0.015625\n",
       "  [121, 121]  =  0.015625\n",
       "  [122, 122]  =  0.015625\n",
       "  [123, 123]  =  0.015625\n",
       "  [124, 124]  =  0.0158424\n",
       "  [125, 125]  =  0.0142452\n",
       "  [126, 126]  =  0.019383\n",
       "  [127, 127]  =  0.00980541\n",
       "  [128, 128]  =  0.0217249\n",
       "  [129, 129]  =  0.0049367, \n",
       "  [1  ,   1]  =  0.0049367\n",
       "  [2  ,   2]  =  0.0217249\n",
       "  [3  ,   3]  =  0.00980541\n",
       "  [4  ,   4]  =  0.019383\n",
       "  [5  ,   5]  =  0.0142452\n",
       "  [6  ,   6]  =  0.0158424\n",
       "  [7  ,   7]  =  0.015625\n",
       "  [8  ,   8]  =  0.015625\n",
       "  [9  ,   9]  =  0.015625\n",
       "  [10 ,  10]  =  0.015625\n",
       "  [11 ,  11]  =  0.015625\n",
       "  [12 ,  12]  =  0.015625\n",
       "  ⋮\n",
       "  [117, 117]  =  0.015625\n",
       "  [118, 118]  =  0.015625\n",
       "  [119, 119]  =  0.015625\n",
       "  [120, 120]  =  0.015625\n",
       "  [121, 121]  =  0.015625\n",
       "  [122, 122]  =  0.015625\n",
       "  [123, 123]  =  0.015625\n",
       "  [124, 124]  =  0.0158424\n",
       "  [125, 125]  =  0.0142452\n",
       "  [126, 126]  =  0.019383\n",
       "  [127, 127]  =  0.00980541\n",
       "  [128, 128]  =  0.0217249\n",
       "  [129, 129]  =  0.0049367, \n",
       "  [1  ,   1]  =  0.0049367\n",
       "  [2  ,   2]  =  0.0217249\n",
       "  [3  ,   3]  =  0.00980541\n",
       "  [4  ,   4]  =  0.019383\n",
       "  [5  ,   5]  =  0.0142452\n",
       "  [6  ,   6]  =  0.0158424\n",
       "  [7  ,   7]  =  0.015625\n",
       "  [8  ,   8]  =  0.015625\n",
       "  [9  ,   9]  =  0.015625\n",
       "  [10 ,  10]  =  0.015625\n",
       "  [11 ,  11]  =  0.015625\n",
       "  [12 ,  12]  =  0.015625\n",
       "  ⋮\n",
       "  [117, 117]  =  0.015625\n",
       "  [118, 118]  =  0.015625\n",
       "  [119, 119]  =  0.015625\n",
       "  [120, 120]  =  0.015625\n",
       "  [121, 121]  =  0.015625\n",
       "  [122, 122]  =  0.015625\n",
       "  [123, 123]  =  0.015625\n",
       "  [124, 124]  =  0.0158424\n",
       "  [125, 125]  =  0.0142452\n",
       "  [126, 126]  =  0.019383\n",
       "  [127, 127]  =  0.00980541\n",
       "  [128, 128]  =  0.0217249\n",
       "  [129, 129]  =  0.0049367), HfI = (\n",
       "  [1  ,   1]  =  202.564\n",
       "  [2  ,   2]  =  46.0301\n",
       "  [3  ,   3]  =  101.985\n",
       "  [4  ,   4]  =  51.5917\n",
       "  [5  ,   5]  =  70.1993\n",
       "  [6  ,   6]  =  63.1218\n",
       "  [7  ,   7]  =  64.0\n",
       "  [8  ,   8]  =  64.0\n",
       "  [9  ,   9]  =  64.0\n",
       "  [10 ,  10]  =  64.0\n",
       "  [11 ,  11]  =  64.0\n",
       "  [12 ,  12]  =  64.0\n",
       "  ⋮\n",
       "  [117, 117]  =  64.0\n",
       "  [118, 118]  =  64.0\n",
       "  [119, 119]  =  64.0\n",
       "  [120, 120]  =  64.0\n",
       "  [121, 121]  =  64.0\n",
       "  [122, 122]  =  64.0\n",
       "  [123, 123]  =  64.0\n",
       "  [124, 124]  =  63.1218\n",
       "  [125, 125]  =  70.1993\n",
       "  [126, 126]  =  51.5917\n",
       "  [127, 127]  =  101.985\n",
       "  [128, 128]  =  46.0301\n",
       "  [129, 129]  =  202.564, \n",
       "  [1  ,   1]  =  202.564\n",
       "  [2  ,   2]  =  46.0301\n",
       "  [3  ,   3]  =  101.985\n",
       "  [4  ,   4]  =  51.5917\n",
       "  [5  ,   5]  =  70.1993\n",
       "  [6  ,   6]  =  63.1218\n",
       "  [7  ,   7]  =  64.0\n",
       "  [8  ,   8]  =  64.0\n",
       "  [9  ,   9]  =  64.0\n",
       "  [10 ,  10]  =  64.0\n",
       "  [11 ,  11]  =  64.0\n",
       "  [12 ,  12]  =  64.0\n",
       "  ⋮\n",
       "  [117, 117]  =  64.0\n",
       "  [118, 118]  =  64.0\n",
       "  [119, 119]  =  64.0\n",
       "  [120, 120]  =  64.0\n",
       "  [121, 121]  =  64.0\n",
       "  [122, 122]  =  64.0\n",
       "  [123, 123]  =  64.0\n",
       "  [124, 124]  =  63.1218\n",
       "  [125, 125]  =  70.1993\n",
       "  [126, 126]  =  51.5917\n",
       "  [127, 127]  =  101.985\n",
       "  [128, 128]  =  46.0301\n",
       "  [129, 129]  =  202.564, \n",
       "  [1  ,   1]  =  202.564\n",
       "  [2  ,   2]  =  46.0301\n",
       "  [3  ,   3]  =  101.985\n",
       "  [4  ,   4]  =  51.5917\n",
       "  [5  ,   5]  =  70.1993\n",
       "  [6  ,   6]  =  63.1218\n",
       "  [7  ,   7]  =  64.0\n",
       "  [8  ,   8]  =  64.0\n",
       "  [9  ,   9]  =  64.0\n",
       "  [10 ,  10]  =  64.0\n",
       "  [11 ,  11]  =  64.0\n",
       "  [12 ,  12]  =  64.0\n",
       "  ⋮\n",
       "  [117, 117]  =  64.0\n",
       "  [118, 118]  =  64.0\n",
       "  [119, 119]  =  64.0\n",
       "  [120, 120]  =  64.0\n",
       "  [121, 121]  =  64.0\n",
       "  [122, 122]  =  64.0\n",
       "  [123, 123]  =  64.0\n",
       "  [124, 124]  =  63.1218\n",
       "  [125, 125]  =  70.1993\n",
       "  [126, 126]  =  51.5917\n",
       "  [127, 127]  =  101.985\n",
       "  [128, 128]  =  46.0301\n",
       "  [129, 129]  =  202.564, \n",
       "  [1  ,   1]  =  202.564\n",
       "  [2  ,   2]  =  46.0301\n",
       "  [3  ,   3]  =  101.985\n",
       "  [4  ,   4]  =  51.5917\n",
       "  [5  ,   5]  =  70.1993\n",
       "  [6  ,   6]  =  63.1218\n",
       "  [7  ,   7]  =  64.0\n",
       "  [8  ,   8]  =  64.0\n",
       "  [9  ,   9]  =  64.0\n",
       "  [10 ,  10]  =  64.0\n",
       "  [11 ,  11]  =  64.0\n",
       "  [12 ,  12]  =  64.0\n",
       "  ⋮\n",
       "  [117, 117]  =  64.0\n",
       "  [118, 118]  =  64.0\n",
       "  [119, 119]  =  64.0\n",
       "  [120, 120]  =  64.0\n",
       "  [121, 121]  =  64.0\n",
       "  [122, 122]  =  64.0\n",
       "  [123, 123]  =  64.0\n",
       "  [124, 124]  =  63.1218\n",
       "  [125, 125]  =  70.1993\n",
       "  [126, 126]  =  51.5917\n",
       "  [127, 127]  =  101.985\n",
       "  [128, 128]  =  46.0301\n",
       "  [129, 129]  =  202.564), τ = (\n",
       "  [1  ,   1]  =  1362.65\n",
       "  [2  ,   2]  =  1362.65\n",
       "  [3  ,   3]  =  1362.65\n",
       "  [4  ,   4]  =  1362.65\n",
       "  [5  ,   5]  =  1362.65\n",
       "  [6  ,   6]  =  1362.65\n",
       "  [7  ,   7]  =  1362.65\n",
       "  [8  ,   8]  =  1362.65\n",
       "  [9  ,   9]  =  1362.65\n",
       "  [10 ,  10]  =  1362.65\n",
       "  [11 ,  11]  =  1362.65\n",
       "  [12 ,  12]  =  1362.65\n",
       "  ⋮\n",
       "  [117, 117]  =  1362.65\n",
       "  [118, 118]  =  1362.65\n",
       "  [119, 119]  =  1362.65\n",
       "  [120, 120]  =  1362.65\n",
       "  [121, 121]  =  1362.65\n",
       "  [122, 122]  =  1362.65\n",
       "  [123, 123]  =  1362.65\n",
       "  [124, 124]  =  1362.65\n",
       "  [125, 125]  =  1362.65\n",
       "  [126, 126]  =  1362.65\n",
       "  [127, 127]  =  1362.65\n",
       "  [128, 128]  =  1362.65\n",
       "  [129, 129]  =  1362.65, \n",
       "  [1  ,   1]  =  1362.65\n",
       "  [2  ,   2]  =  1362.65\n",
       "  [3  ,   3]  =  1362.65\n",
       "  [4  ,   4]  =  1362.65\n",
       "  [5  ,   5]  =  1362.65\n",
       "  [6  ,   6]  =  1362.65\n",
       "  [7  ,   7]  =  1362.65\n",
       "  [8  ,   8]  =  1362.65\n",
       "  [9  ,   9]  =  1362.65\n",
       "  [10 ,  10]  =  1362.65\n",
       "  [11 ,  11]  =  1362.65\n",
       "  [12 ,  12]  =  1362.65\n",
       "  ⋮\n",
       "  [117, 117]  =  1362.65\n",
       "  [118, 118]  =  1362.65\n",
       "  [119, 119]  =  1362.65\n",
       "  [120, 120]  =  1362.65\n",
       "  [121, 121]  =  1362.65\n",
       "  [122, 122]  =  1362.65\n",
       "  [123, 123]  =  1362.65\n",
       "  [124, 124]  =  1362.65\n",
       "  [125, 125]  =  1362.65\n",
       "  [126, 126]  =  1362.65\n",
       "  [127, 127]  =  1362.65\n",
       "  [128, 128]  =  1362.65\n",
       "  [129, 129]  =  1362.65, \n",
       "  [1  ,   1]  =  1362.65\n",
       "  [2  ,   2]  =  1362.65\n",
       "  [3  ,   3]  =  1362.65\n",
       "  [4  ,   4]  =  1362.65\n",
       "  [5  ,   5]  =  1362.65\n",
       "  [6  ,   6]  =  1362.65\n",
       "  [7  ,   7]  =  1362.65\n",
       "  [8  ,   8]  =  1362.65\n",
       "  [9  ,   9]  =  1362.65\n",
       "  [10 ,  10]  =  1362.65\n",
       "  [11 ,  11]  =  1362.65\n",
       "  [12 ,  12]  =  1362.65\n",
       "  ⋮\n",
       "  [117, 117]  =  1362.65\n",
       "  [118, 118]  =  1362.65\n",
       "  [119, 119]  =  1362.65\n",
       "  [120, 120]  =  1362.65\n",
       "  [121, 121]  =  1362.65\n",
       "  [122, 122]  =  1362.65\n",
       "  [123, 123]  =  1362.65\n",
       "  [124, 124]  =  1362.65\n",
       "  [125, 125]  =  1362.65\n",
       "  [126, 126]  =  1362.65\n",
       "  [127, 127]  =  1362.65\n",
       "  [128, 128]  =  1362.65\n",
       "  [129, 129]  =  1362.65, \n",
       "  [1  ,   1]  =  1362.65\n",
       "  [2  ,   2]  =  1362.65\n",
       "  [3  ,   3]  =  1362.65\n",
       "  [4  ,   4]  =  1362.65\n",
       "  [5  ,   5]  =  1362.65\n",
       "  [6  ,   6]  =  1362.65\n",
       "  [7  ,   7]  =  1362.65\n",
       "  [8  ,   8]  =  1362.65\n",
       "  [9  ,   9]  =  1362.65\n",
       "  [10 ,  10]  =  1362.65\n",
       "  [11 ,  11]  =  1362.65\n",
       "  [12 ,  12]  =  1362.65\n",
       "  ⋮\n",
       "  [117, 117]  =  1362.65\n",
       "  [118, 118]  =  1362.65\n",
       "  [119, 119]  =  1362.65\n",
       "  [120, 120]  =  1362.65\n",
       "  [121, 121]  =  1362.65\n",
       "  [122, 122]  =  1362.65\n",
       "  [123, 123]  =  1362.65\n",
       "  [124, 124]  =  1362.65\n",
       "  [125, 125]  =  1362.65\n",
       "  [126, 126]  =  1362.65\n",
       "  [127, 127]  =  1362.65\n",
       "  [128, 128]  =  1362.65\n",
       "  [129, 129]  =  1362.65), bctype = (1, 0, 1, 0))"
      ]
     },
     "execution_count": 38,
     "metadata": {},
     "output_type": "execute_result"
    }
   ],
   "source": [
    "lop[1]"
   ]
  },
  {
   "cell_type": "code",
   "execution_count": 39,
   "metadata": {},
   "outputs": [],
   "source": [
    "FToδstarts = bcstarts(FToB, FToE, FToLF, BC_JUMP_INTERFACE, Nr, Ns);"
   ]
  },
  {
   "cell_type": "code",
   "execution_count": 40,
   "metadata": {},
   "outputs": [
    {
     "data": {
      "text/plain": [
       "0"
      ]
     },
     "execution_count": 40,
     "metadata": {},
     "output_type": "execute_result"
    }
   ],
   "source": [
    "VNp = vstarts[nelems+1] - 1\n",
    "λNp = FToλstarts[nfaces+1] - 1\n",
    "δNp = FToδstarts[nfaces+1] - 1"
   ]
  },
  {
   "cell_type": "code",
   "execution_count": 41,
   "metadata": {},
   "outputs": [
    {
     "data": {
      "text/plain": [
       "17-element Array{Int64,1}:\n",
       "      1\n",
       "  16642\n",
       "  33283\n",
       "  49924\n",
       "  66565\n",
       "  83206\n",
       "  99847\n",
       " 116488\n",
       " 133129\n",
       " 149770\n",
       " 166411\n",
       " 183052\n",
       " 199693\n",
       " 216334\n",
       " 232975\n",
       " 249616\n",
       " 266257"
      ]
     },
     "execution_count": 41,
     "metadata": {},
     "output_type": "execute_result"
    }
   ],
   "source": [
    "vstarts"
   ]
  },
  {
   "cell_type": "code",
   "execution_count": 42,
   "metadata": {},
   "outputs": [
    {
     "data": {
      "text/plain": [
       "BenchmarkTools.Trial: \n",
       "  memory estimate:  15.80 GiB\n",
       "  allocs estimate:  206099262\n",
       "  --------------\n",
       "  minimum time:     33.368 s (4.35% GC)\n",
       "  median time:      33.368 s (4.35% GC)\n",
       "  mean time:        33.368 s (4.35% GC)\n",
       "  maximum time:     33.368 s (4.35% GC)\n",
       "  --------------\n",
       "  samples:          1\n",
       "  evals/sample:     1"
      ]
     },
     "execution_count": 42,
     "metadata": {},
     "output_type": "execute_result"
    }
   ],
   "source": [
    "@benchmark B = assembleλmatrix(FToλstarts,vstarts,EToF,FToB,locfactors,D,FbarT)"
   ]
  },
  {
   "cell_type": "code",
   "execution_count": 47,
   "metadata": {},
   "outputs": [
    {
     "data": {
      "text/plain": [
       "BenchmarkTools.Trial: \n",
       "  memory estimate:  15.80 GiB\n",
       "  allocs estimate:  206099262\n",
       "  --------------\n",
       "  minimum time:     31.832 s (4.41% GC)\n",
       "  median time:      31.832 s (4.41% GC)\n",
       "  mean time:        31.832 s (4.41% GC)\n",
       "  maximum time:     31.832 s (4.41% GC)\n",
       "  --------------\n",
       "  samples:          1\n",
       "  evals/sample:     1"
      ]
     },
     "execution_count": 47,
     "metadata": {},
     "output_type": "execute_result"
    }
   ],
   "source": [
    "@benchmark B = threaded_assembleλmatrix(FToλstarts,vstarts,EToF,FToB,locfactors,D,FbarT)"
   ]
  },
  {
   "cell_type": "markdown",
   "metadata": {},
   "source": [
    " assembleλmatrix can not be parallelized easily with @threads despite it has for loop over elements"
   ]
  },
  {
   "cell_type": "code",
   "execution_count": 48,
   "metadata": {},
   "outputs": [
    {
     "data": {
      "text/plain": [
       "3096×3096 SparseMatrixCSC{Float64,Int64} with 2130048 stored entries:\n",
       "  [1   ,    1]  =  6.95753\n",
       "  [2   ,    1]  =  0.808076\n",
       "  [3   ,    1]  =  -0.76754\n",
       "  [4   ,    1]  =  0.245415\n",
       "  [5   ,    1]  =  0.027543\n",
       "  [6   ,    1]  =  -0.022876\n",
       "  [7   ,    1]  =  -0.000763745\n",
       "  [8   ,    1]  =  -1.99204e-5\n",
       "  [9   ,    1]  =  -2.22388e-5\n",
       "  [10  ,    1]  =  -7.66852e-6\n",
       "  [11  ,    1]  =  -2.96721e-6\n",
       "  [12  ,    1]  =  -1.29855e-6\n",
       "  ⋮\n",
       "  [3084, 3096]  =  -6.14113e-7\n",
       "  [3085, 3096]  =  -1.29855e-6\n",
       "  [3086, 3096]  =  -2.96721e-6\n",
       "  [3087, 3096]  =  -7.66852e-6\n",
       "  [3088, 3096]  =  -2.22388e-5\n",
       "  [3089, 3096]  =  -1.99204e-5\n",
       "  [3090, 3096]  =  -0.000763745\n",
       "  [3091, 3096]  =  -0.022876\n",
       "  [3092, 3096]  =  0.027543\n",
       "  [3093, 3096]  =  0.245415\n",
       "  [3094, 3096]  =  -0.76754\n",
       "  [3095, 3096]  =  0.808076\n",
       "  [3096, 3096]  =  6.95753"
      ]
     },
     "execution_count": 48,
     "metadata": {},
     "output_type": "execute_result"
    }
   ],
   "source": [
    "B = assembleλmatrix(FToλstarts,vstarts,EToF,FToB,locfactors,D,FbarT)"
   ]
  },
  {
   "cell_type": "code",
   "execution_count": 49,
   "metadata": {},
   "outputs": [
    {
     "data": {
      "text/plain": [
       "SuiteSparse.CHOLMOD.Factor{Float64}\n",
       "type:    LLt\n",
       "method:  supernodal\n",
       "maxnnz:  0\n",
       "nnz:     2181519\n",
       "success: true\n"
      ]
     },
     "execution_count": 49,
     "metadata": {},
     "output_type": "execute_result"
    }
   ],
   "source": [
    "BF = cholesky(Symmetric(B))"
   ]
  },
  {
   "cell_type": "code",
   "execution_count": 50,
   "metadata": {},
   "outputs": [
    {
     "data": {
      "text/plain": [
       "BenchmarkTools.Trial: \n",
       "  memory estimate:  167.96 MiB\n",
       "  allocs estimate:  39\n",
       "  --------------\n",
       "  minimum time:     121.696 ms (0.00% GC)\n",
       "  median time:      137.611 ms (0.00% GC)\n",
       "  mean time:        142.831 ms (0.21% GC)\n",
       "  maximum time:     192.064 ms (0.51% GC)\n",
       "  --------------\n",
       "  samples:          36\n",
       "  evals/sample:     1"
      ]
     },
     "execution_count": 50,
     "metadata": {},
     "output_type": "execute_result"
    }
   ],
   "source": [
    "@benchmark BF = cholesky(Symmetric(B))"
   ]
  },
  {
   "cell_type": "code",
   "execution_count": 79,
   "metadata": {},
   "outputs": [
    {
     "data": {
      "text/latex": [
       "\\begin{verbatim}\n",
       "Symmetric(A, uplo=:U)\n",
       "\\end{verbatim}\n",
       "Construct a \\texttt{Symmetric} view of the upper (if \\texttt{uplo = :U}) or lower (if \\texttt{uplo = :L}) triangle of the matrix \\texttt{A}.\n",
       "\n",
       "\\section{Examples}\n",
       "\\begin{verbatim}\n",
       "julia> A = [1 0 2 0 3; 0 4 0 5 0; 6 0 7 0 8; 0 9 0 1 0; 2 0 3 0 4]\n",
       "5×5 Array{Int64,2}:\n",
       " 1  0  2  0  3\n",
       " 0  4  0  5  0\n",
       " 6  0  7  0  8\n",
       " 0  9  0  1  0\n",
       " 2  0  3  0  4\n",
       "\n",
       "julia> Supper = Symmetric(A)\n",
       "5×5 Symmetric{Int64,Array{Int64,2}}:\n",
       " 1  0  2  0  3\n",
       " 0  4  0  5  0\n",
       " 2  0  7  0  8\n",
       " 0  5  0  1  0\n",
       " 3  0  8  0  4\n",
       "\n",
       "julia> Slower = Symmetric(A, :L)\n",
       "5×5 Symmetric{Int64,Array{Int64,2}}:\n",
       " 1  0  6  0  2\n",
       " 0  4  0  9  0\n",
       " 6  0  7  0  3\n",
       " 0  9  0  1  0\n",
       " 2  0  3  0  4\n",
       "\\end{verbatim}\n",
       "Note that \\texttt{Supper} will not be equal to \\texttt{Slower} unless \\texttt{A} is itself symmetric (e.g. if \\texttt{A == transpose(A)}).\n",
       "\n"
      ],
      "text/markdown": [
       "```\n",
       "Symmetric(A, uplo=:U)\n",
       "```\n",
       "\n",
       "Construct a `Symmetric` view of the upper (if `uplo = :U`) or lower (if `uplo = :L`) triangle of the matrix `A`.\n",
       "\n",
       "# Examples\n",
       "\n",
       "```jldoctest\n",
       "julia> A = [1 0 2 0 3; 0 4 0 5 0; 6 0 7 0 8; 0 9 0 1 0; 2 0 3 0 4]\n",
       "5×5 Array{Int64,2}:\n",
       " 1  0  2  0  3\n",
       " 0  4  0  5  0\n",
       " 6  0  7  0  8\n",
       " 0  9  0  1  0\n",
       " 2  0  3  0  4\n",
       "\n",
       "julia> Supper = Symmetric(A)\n",
       "5×5 Symmetric{Int64,Array{Int64,2}}:\n",
       " 1  0  2  0  3\n",
       " 0  4  0  5  0\n",
       " 2  0  7  0  8\n",
       " 0  5  0  1  0\n",
       " 3  0  8  0  4\n",
       "\n",
       "julia> Slower = Symmetric(A, :L)\n",
       "5×5 Symmetric{Int64,Array{Int64,2}}:\n",
       " 1  0  6  0  2\n",
       " 0  4  0  9  0\n",
       " 6  0  7  0  3\n",
       " 0  9  0  1  0\n",
       " 2  0  3  0  4\n",
       "```\n",
       "\n",
       "Note that `Supper` will not be equal to `Slower` unless `A` is itself symmetric (e.g. if `A == transpose(A)`).\n"
      ],
      "text/plain": [
       "\u001b[36m  Symmetric(A, uplo=:U)\u001b[39m\n",
       "\n",
       "  Construct a \u001b[36mSymmetric\u001b[39m view of the upper (if \u001b[36muplo = :U\u001b[39m) or lower (if \u001b[36muplo =\n",
       "  :L\u001b[39m) triangle of the matrix \u001b[36mA\u001b[39m.\n",
       "\n",
       "\u001b[1m  Examples\u001b[22m\n",
       "\u001b[1m  ≡≡≡≡≡≡≡≡≡≡\u001b[22m\n",
       "\n",
       "\u001b[36m  julia> A = [1 0 2 0 3; 0 4 0 5 0; 6 0 7 0 8; 0 9 0 1 0; 2 0 3 0 4]\u001b[39m\n",
       "\u001b[36m  5×5 Array{Int64,2}:\u001b[39m\n",
       "\u001b[36m   1  0  2  0  3\u001b[39m\n",
       "\u001b[36m   0  4  0  5  0\u001b[39m\n",
       "\u001b[36m   6  0  7  0  8\u001b[39m\n",
       "\u001b[36m   0  9  0  1  0\u001b[39m\n",
       "\u001b[36m   2  0  3  0  4\u001b[39m\n",
       "\u001b[36m  \u001b[39m\n",
       "\u001b[36m  julia> Supper = Symmetric(A)\u001b[39m\n",
       "\u001b[36m  5×5 Symmetric{Int64,Array{Int64,2}}:\u001b[39m\n",
       "\u001b[36m   1  0  2  0  3\u001b[39m\n",
       "\u001b[36m   0  4  0  5  0\u001b[39m\n",
       "\u001b[36m   2  0  7  0  8\u001b[39m\n",
       "\u001b[36m   0  5  0  1  0\u001b[39m\n",
       "\u001b[36m   3  0  8  0  4\u001b[39m\n",
       "\u001b[36m  \u001b[39m\n",
       "\u001b[36m  julia> Slower = Symmetric(A, :L)\u001b[39m\n",
       "\u001b[36m  5×5 Symmetric{Int64,Array{Int64,2}}:\u001b[39m\n",
       "\u001b[36m   1  0  6  0  2\u001b[39m\n",
       "\u001b[36m   0  4  0  9  0\u001b[39m\n",
       "\u001b[36m   6  0  7  0  3\u001b[39m\n",
       "\u001b[36m   0  9  0  1  0\u001b[39m\n",
       "\u001b[36m   2  0  3  0  4\u001b[39m\n",
       "\n",
       "  Note that \u001b[36mSupper\u001b[39m will not be equal to \u001b[36mSlower\u001b[39m unless \u001b[36mA\u001b[39m is itself symmetric\n",
       "  (e.g. if \u001b[36mA == transpose(A)\u001b[39m)."
      ]
     },
     "execution_count": 79,
     "metadata": {},
     "output_type": "execute_result"
    }
   ],
   "source": [
    "@doc Symmetric"
   ]
  },
  {
   "cell_type": "code",
   "execution_count": 80,
   "metadata": {},
   "outputs": [
    {
     "data": {
      "text/plain": [
       "([0.0, 0.0, 0.0, 0.0, 0.0, 0.0, 0.0, 0.0, 0.0, 0.0  …  0.0, 0.0, 0.0, 0.0, 0.0, 0.0, 0.0, 0.0, 0.0, 0.0], [0.0, 0.0, 0.0, 0.0, 0.0, 0.0, 0.0, 0.0, 0.0, 0.0  …  0.0, 0.0, 0.0, 0.0, 0.0, 0.0, 0.0, 0.0, 0.0, 0.0], [0.0, 0.0, 0.0, 0.0, 0.0, 0.0, 0.0, 0.0, 0.0, 0.0  …  0.0, 0.0, 0.0, 0.0, 0.0, 0.0, 0.0, 0.0, 0.0, 0.0])"
      ]
     },
     "execution_count": 80,
     "metadata": {},
     "output_type": "execute_result"
    }
   ],
   "source": [
    "(bλ,λ,gδ) = (zeros(λNp), zeros(λNp), zeros(λNp)) "
   ]
  },
  {
   "cell_type": "code",
   "execution_count": 81,
   "metadata": {},
   "outputs": [
    {
     "data": {
      "text/plain": [
       "([0.0, 0.0, 0.0, 0.0, 0.0, 0.0, 0.0, 0.0, 0.0, 0.0  …  0.0, 0.0, 0.0, 0.0, 0.0, 0.0, 0.0, 0.0, 0.0, 0.0], [0.0, 0.0, 0.0, 0.0, 0.0, 0.0, 0.0, 0.0, 0.0, 0.0  …  0.0, 0.0, 0.0, 0.0, 0.0, 0.0, 0.0, 0.0, 0.0, 0.0], [0.0, 0.0, 0.0, 0.0, 0.0, 0.0, 0.0, 0.0, 0.0, 0.0  …  0.0, 0.0, 0.0, 0.0, 0.0, 0.0, 0.0, 0.0, 0.0, 0.0])"
      ]
     },
     "execution_count": 81,
     "metadata": {},
     "output_type": "execute_result"
    }
   ],
   "source": [
    "(Δ,u,g) = (zeros(VNp), zeros(VNp), zeros(VNp))"
   ]
  },
  {
   "cell_type": "code",
   "execution_count": 82,
   "metadata": {},
   "outputs": [
    {
     "data": {
      "text/plain": [
       "0-element Array{Float64,1}"
      ]
     },
     "execution_count": 82,
     "metadata": {},
     "output_type": "execute_result"
    }
   ],
   "source": [
    "δ = zeros(δNp)"
   ]
  },
  {
   "cell_type": "code",
   "execution_count": 83,
   "metadata": {},
   "outputs": [],
   "source": [
    "for f = 1:nfaces\n",
    "    if FToB[f] == BC_JUMP_INTERFACE\n",
    "        (e1, e2) = FToE[:,f]\n",
    "        (lf1, lf2) = FToLF[:,f]\n",
    "        (xf, yf) = lop[e1].facecoord\n",
    "        @views δ[FToδstarts[f]:(FToδstarts[f+1]-1)] = \n",
    "            vex(xf[lf1],yf[lf1],e2) - vex(xf[lf1],yf[lf1],e1)\n",
    "    end\n",
    "end"
   ]
  },
  {
   "cell_type": "code",
   "execution_count": 84,
   "metadata": {},
   "outputs": [
    {
     "data": {
      "text/plain": [
       "#277 (generic function with 1 method)"
      ]
     },
     "execution_count": 84,
     "metadata": {},
     "output_type": "execute_result"
    }
   ],
   "source": [
    "bc_Dirichlet = (lf, x, y, e, δ) -> vex(x,y,e)\n",
    "bc_Neumann   = (lf, x, y, nx, ny, e, δ) -> (nx .* vex_x(x,y,e) + ny .* vex(x,y,e))"
   ]
  },
  {
   "cell_type": "code",
   "execution_count": 85,
   "metadata": {},
   "outputs": [
    {
     "data": {
      "text/plain": [
       "#279 (generic function with 1 method)"
      ]
     },
     "execution_count": 85,
     "metadata": {},
     "output_type": "execute_result"
    }
   ],
   "source": [
    "in_jump      = (lf, x, y, e, δ) -> begin\n",
    "    f = EToF[lf, e]\n",
    "    if EToS[lf, e] == 1\n",
    "        if EToO[lf, e]\n",
    "            return -δ[FToδstarts[f]:(FToδstarts[f+1]-1)]\n",
    "        else\n",
    "            error(\"shouldn't get here\")\n",
    "        end\n",
    "    else\n",
    "        if EToO[lf,e]\n",
    "            return δ[FToδstarts[f]:(FToδstarts[f+1]-1)]\n",
    "        else\n",
    "            return δ[(FToδstarts[f+1]-1):-1:FToδstarts[f]]\n",
    "        end\n",
    "    end\n",
    "end\n",
    "    "
   ]
  },
  {
   "cell_type": "code",
   "execution_count": 86,
   "metadata": {},
   "outputs": [],
   "source": [
    "# @benchmark \n",
    "for e = 1:nelems\n",
    "      gδe = ntuple(4) do lf\n",
    "        f = EToF[lf, e]\n",
    "        if EToO[lf, e]\n",
    "          return @view gδ[FToλstarts[f]:(FToλstarts[f+1]-1)]\n",
    "        else\n",
    "          return  @view gδ[(FToλstarts[f+1]-1):-1:FToλstarts[f]]\n",
    "        end\n",
    "      end\n",
    "      locbcarray!((@view g[vstarts[e]:vstarts[e+1]-1]), gδe, lop[e],\n",
    "                  FToB[EToF[:,e]], bc_Dirichlet, bc_Neumann, in_jump, (e, δ))\n",
    "\n",
    "      source = (x, y, e) -> (-vex_xx(x, y, e)  - vex_yy(x, y, e))\n",
    "      locsourcearray!((@view g[vstarts[e]:vstarts[e+1]-1]), source, lop[e], e)\n",
    "end\n"
   ]
  },
  {
   "cell_type": "code",
   "execution_count": 87,
   "metadata": {},
   "outputs": [],
   "source": [
    "\n",
    "@threads for e = 1:nelems\n",
    "      gδe = ntuple(4) do lf\n",
    "        f = EToF[lf, e]\n",
    "        if EToO[lf, e]\n",
    "          return @view gδ[FToλstarts[f]:(FToλstarts[f+1]-1)]\n",
    "        else\n",
    "          return  @view gδ[(FToλstarts[f+1]-1):-1:FToλstarts[f]]\n",
    "        end\n",
    "      end\n",
    "      locbcarray!((@view g[vstarts[e]:vstarts[e+1]-1]), gδe, lop[e],\n",
    "                  FToB[EToF[:,e]], bc_Dirichlet, bc_Neumann, in_jump, (e, δ))\n",
    "\n",
    "      source = (x, y, e) -> (-vex_xx(x, y, e)  - vex_yy(x, y, e))\n",
    "      locsourcearray!((@view g[vstarts[e]:vstarts[e+1]-1]), source, lop[e], e)\n",
    "end\n"
   ]
  },
  {
   "cell_type": "code",
   "execution_count": 88,
   "metadata": {},
   "outputs": [
    {
     "data": {
      "text/plain": [
       "3096-element Array{Float64,1}:\n",
       " 1940.4657943660495     \n",
       "  859.955213207742      \n",
       " -144.56456569130378    \n",
       "  243.93951751909827    \n",
       "   67.02128303745845    \n",
       "   75.19413121482606    \n",
       "   64.35031637273443    \n",
       "   57.14497672463439    \n",
       "   52.01883881055562    \n",
       "   48.23180065022449    \n",
       "   45.37218133901549    \n",
       "   43.18143017681698    \n",
       "   41.48834834481405    \n",
       "    ⋮                   \n",
       "    6.3518293511688935  \n",
       "    6.268808152202747   \n",
       "    6.145746315188002   \n",
       "    5.975137128290921   \n",
       "    5.747579814469819   \n",
       "    5.4509835338403585  \n",
       "    5.139827300921717   \n",
       "    4.17638627562361    \n",
       "    4.897093666042742   \n",
       "    1.969053385358868   \n",
       "    2.745755111414145   \n",
       "    0.052214434065504495"
      ]
     },
     "execution_count": 88,
     "metadata": {},
     "output_type": "execute_result"
    }
   ],
   "source": [
    "LocalToGLobalRHS!(bλ, g, gδ,  u, locfactors, FbarT, vstarts)"
   ]
  },
  {
   "cell_type": "code",
   "execution_count": 89,
   "metadata": {},
   "outputs": [
    {
     "data": {
      "text/plain": [
       "BenchmarkTools.Trial: \n",
       "  memory estimate:  8.22 MiB\n",
       "  allocs estimate:  208\n",
       "  --------------\n",
       "  minimum time:     108.817 ms (0.00% GC)\n",
       "  median time:      112.322 ms (0.00% GC)\n",
       "  mean time:        113.837 ms (0.06% GC)\n",
       "  maximum time:     132.732 ms (0.00% GC)\n",
       "  --------------\n",
       "  samples:          44\n",
       "  evals/sample:     1"
      ]
     },
     "execution_count": 89,
     "metadata": {},
     "output_type": "execute_result"
    }
   ],
   "source": [
    "@benchmark LocalToGLobalRHS!(bλ, g, gδ,  u, locfactors, FbarT, vstarts)"
   ]
  },
  {
   "cell_type": "code",
   "execution_count": 90,
   "metadata": {},
   "outputs": [
    {
     "data": {
      "text/plain": [
       "BenchmarkTools.Trial: \n",
       "  memory estimate:  8.22 MiB\n",
       "  allocs estimate:  238\n",
       "  --------------\n",
       "  minimum time:     45.924 ms (0.00% GC)\n",
       "  median time:      49.702 ms (0.00% GC)\n",
       "  mean time:        50.289 ms (0.00% GC)\n",
       "  maximum time:     66.306 ms (0.00% GC)\n",
       "  --------------\n",
       "  samples:          100\n",
       "  evals/sample:     1"
      ]
     },
     "execution_count": 90,
     "metadata": {},
     "output_type": "execute_result"
    }
   ],
   "source": [
    "@benchmark threaded_LocalToGLobalRHS!(bλ, g, gδ, u, locfactors, FbarT, vstarts)"
   ]
  },
  {
   "cell_type": "markdown",
   "metadata": {},
   "source": [
    "Conclusion: threaded_LocalToGLobalRHS! would help but not too much"
   ]
  },
  {
   "cell_type": "code",
   "execution_count": 91,
   "metadata": {},
   "outputs": [
    {
     "name": "stdout",
     "output_type": "stream",
     "text": [
      "bλ = [1940.4657943660495, 859.955213207742, -144.56456569130378, 243.93951751909827, 67.02128303745845, 75.19413121482606, 64.35031637273443, 57.14497672463439, 52.01883881055562, 48.23180065022449, 45.37218133901549, 43.18143017681698, 41.48834834481405, 40.17504449472775, 39.15766447855237, 38.37494650730402, 37.78111436115151, 37.34129749192685, 37.02848581337749, 36.82144994475998, 36.70328738434069, 36.66038523130947, 36.68166654331871, 36.75803379226847, 36.881951795912364, 37.047130978529964, 37.24828388042926, 37.48093587352418, 37.741276490463335, 38.02604153129491, 38.332418739730365, 38.657971705148256, 39.0005779855419, 39.35837841996612, 39.72973531431494, 40.11319771533076, 40.50747238580161, 40.91139939497404, 41.323931467837745, 41.74411641347652, 42.17108208942516, 42.60402346565022, 43.042191435544034, 43.484883087544745, 43.931433203648744, 44.38120679320038, 44.83359250421951, 45.2879967819186, 45.74383866632178, 46.200545139086636, 46.65754694454362, 47.11427482227819, 47.57015609876467, 48.024611594034845, 48.47705280644258, 48.92687934451796, 49.37347657990392, 49.816213499586446, 50.25444073920804, 50.68748878230593, 51.11466631290406, 51.535258711121294, 51.94852668335566, 52.35370502024402, 52.75000147700134, 53.13659577194929, 53.51263870007767, 53.87725135936759, 54.229524488351984, 54.56851791402079, 54.89326010969733, 55.20274786293738, 55.495946053824575, 55.77178754428414, 56.02917317918356, 56.26697190006701, 56.484020972354664, 56.679126326743905, 56.85106301536915, 56.99857578300272, 57.12037975321174, 57.2151612289209, 57.28157860624395, 57.31826339975347, 57.32382137651666, 57.29683379524117, 57.235858745720854, 57.139432582413804, 57.00607144441917, 56.834272852276264, 56.62251736987175, 56.36927031723878, 56.07298351709106, 55.73209705448783, 55.34504102493024, 54.91023724133165, 54.42610086449054, 53.891041914684415, 53.303466613511354, 52.66177849472066, 51.96437920997976, 51.20966893963186, 50.39604629857974, 49.521907602224715, 48.58564532519754, 47.58564554406797, 46.5202841010105, 45.38792115387254, 44.18689368253987, 42.91550539216866, 41.57201327634674, 40.154609855821704, 38.66139975772588, 37.09036879379294, 35.43934294949438, 33.70593356950249, 31.887463279324965, 29.980864394035276, 27.9825369463833, 25.88814548250038, 23.69231921834498, 21.38819180834686, 18.966659914034828, 16.64355671235927, 12.50499983387466, 13.442935054656513, 4.863633159208759, 5.962127279774693, 0.052198890797473786, -1.0390530195080233e6, -457216.7665022755, 79918.02196311778, -124044.60383804786, -30000.93590363532, -32684.9916173804, -26064.946203137733, -21371.116361415796, -17858.54782318697, -15120.380760362188, -12927.958410333693, -11136.260448431904, -9648.237512931817, -8396.28732823612, -7331.732379761845, -6418.545644762805, -5629.437657837626, -4943.323095026368, -4343.627847986272, -3817.1266318866283, -3353.125798752573, -2942.8767686995384, -2579.1471399905495, -2255.9018500561547, -1968.0625759156628, -1711.323691969601, -1482.0097348916174, -1276.9637540525807, -1093.4589370808496, -929.1279814085971, -781.9061429864611, -649.9849323276784, -531.7741767921497, -425.8707140816426, -331.032384599807, -246.15629037352403, -170.26051397476658, -102.4686622759486, -41.99673111913957, 11.858111702462041, 59.727148941441946, 102.17840391578602, 139.72381138803766, 172.82544396957746, 201.90093782337556, 227.32823661586363, 249.44975261149648, 268.5760275108347, 284.9889623308064, 298.94467471239386, 310.6760330457746, 320.3949093556899, 328.29418669778715, 334.54955164723356, 339.321098128114, 342.75476518690607, 344.9836282353485, 346.12906067996863, 346.30178063812554, 345.60279554916997, 344.1242558710017, 341.950227663543, 339.1573926652519, 335.8156834370828, 331.98886025530277, 327.73503565976057, 323.1071518900773, 318.15341585441695, 312.91769576159095, 307.43988309704883, 301.75622322795397, 295.89961757464727, 289.8998999790054, 283.78408962914307, 277.5766226598613, 271.29956433537893, 264.9728035316441, 258.6142310670632, 252.23990328019306, 245.8641921186866, 239.4999228835248, 233.1585006648203, 226.8500264085682, 220.58340346657891, 214.36643540319213, 208.20591576129857, 202.10771042586592, 196.07683316469274, 190.1175148729283, 184.23326699926605, 178.42693958714318, 172.70077432322486, 167.05645294740503, 161.4951413430842, 156.0175295931329, 150.62386825525127, 145.31400107994537, 140.08739436456943, 134.9431631072372, 129.8800940943334, 124.89666602401986, 119.99106673467502, 115.1612075704436, 110.40473487450507, 105.71903855232092, 101.10125758931883, 96.54828233656139, 92.05675328884404, 87.62305596511295, 83.24331135070506, 78.91336115934894, 74.6287468972389, 70.3846813267982, 66.17601037928485, 61.99716276550328, 57.84208333800715, 53.704144420082265, 49.576026401160405, 45.449554101174655, 41.31546716287327, 37.16308778485258, 32.97982015035958, 28.750357857054695, 24.79564739683465, 18.29775858119333, 19.293753367380187, 6.820923681740418, 8.118383437445369, 0.05221440667228618, 1.039053019508047e6, 457218.405121012, -79916.5435413141, 124048.98390825966, 30005.222958936538, 32690.942336800552, 26071.976161210652, 21379.300199072197, 17867.87739540884, 15130.846801938624, 12939.550552918548, 11148.96723955205, 9662.04643688352, 8411.184828802148, 7347.70388467595, 6435.575591843051, 5647.509522706055, 4962.41942032708, 4363.7302740114255, 3838.215928515202, 3375.1818986047356, 2965.878801406282, 2603.073467476416, 2280.7301027311883, 1993.7696896715763, 1737.8859458742959, 1509.402789476042, 1305.1626900839647, 1122.4382947169297, 958.8617996284377, 812.3679991948611, 681.147982031827, 563.6111932514186, 458.3541278337221, 364.134322769251, 279.8486156717496, 204.51486330394002, 137.25648485271327, 77.28932603794108, 23.910441457300408, -23.511528619398575, -65.54464904639255, -102.700861521076, -135.44221188711512, -164.1862767903358, -189.3109086334082, -211.15839771824, -230.03913417227997, -246.2348389527358, -260.00142230938025, -271.5715190914367, -281.15674283686064, -288.9496943904062, -295.12575562751533, -299.8446945284079, -303.2521042016663, -305.4806953787845, -306.65145929321875, -306.87471564029227, -306.2510584231487, -304.87221087187436, -302.82179923425934, -300.1760540415203, -297.0044464207165, -293.3702661328415, -289.3311472408749, -284.93954663821603, -280.24318008022163, -275.28541984791184, -270.10565772282973, -264.7396365569076, -259.2197533734352, -253.5753366286171, -247.83289999228546, -242.01637476647716, -236.14732284782224, -230.2451319506373, -224.32719463924943, -218.40907256795725, -212.5046471928502, -206.62625809962577, -200.78482998382833, -194.98998922319635, -189.25017089470384, -183.57271701034924, -177.96396667476193, -172.4293388034111, -166.97340798182003, -161.59997399304493, -156.3121254920953, -151.1122982614667, -146.0023284409118, -140.98350108658786, -136.0565943792618, -131.22191976793295, -126.47935830355158, -121.82839338704355, -117.26814012607353, -112.79737146536515, -108.41454122530354, -104.11780415222415, -99.90503305032846, -95.77383302840073, -91.72155285291922, -87.74529335080467, -83.84191274722447, -80.0080287529587, -76.24001712670238, -72.5340063231204, -68.88586768705676, -65.29120045272128, -61.7453105310332, -58.24318168358246, -54.77943713319016, -51.348288861138045, -47.94347064524142, -44.5581490548245, -41.18480370299906, -37.81506325949233, -34.439475483755956, -31.047174591817562, -27.625380312608833, -24.15860493966232, -20.914360719878196, -15.504842288067216, -16.442834068954138, -5.859267373328404, -7.052940722934073, -0.05221441106051997, -0.05219889516729521, -4.893540975693536, -3.8989243207208424, -10.581902813797562, -9.70071717131347, -12.74386555506587, -14.34935861136211, -15.998752924814989, -17.529559739040277, -18.95072138230635, -20.268946410524528, -21.489451455883096, -22.61642188059556, -23.653312048456392, -24.603048963244888, -25.468174681304657, -26.25094835053752, -26.953420743954666, -27.57748953726131, -28.124940791001972, -28.597480352195156, -28.996757763837586, -29.324384524042873, -29.581948030112216, -29.77102219207709, -29.893175452781932, -29.949976774016832, -29.94300001882761, -29.873827064522295, -29.744049909293366, -29.5552719811015, -29.30910881584147, -29.007188239539772, -28.651150164047312, -28.24264608567936, -27.783338360271017, -27.274899315220335, -26.719010248605283, -26.11736035684907, -25.471645625289007, -24.783567710059412, -24.054832834709046, -23.287150720744254, -22.48223356768942, -21.641795095164472, -20.76754965681406, -19.861211433612333, -18.92449371204844, -17.95910825093827, -16.966764739054472, -15.949170344402821, -14.908029354767033, -13.845042908075577, -12.761908810200175, -11.660321436957581, -10.541971716345053, -9.408547186386102, -8.261732123385544, -7.103207734887046, -5.934652411186489, -4.7577420288726655, -3.574150299542714, -2.3855491565670213, -1.1936091725554552, -9.523062545938589e-13, 1.193609172553554, 2.3855491565651206, 3.574150299540813, 4.757742028870776, 5.934652411184597, 7.103207734885153, 8.261732123383668, 9.40854718638422, 10.54197171634316, 11.660321436955698, 12.761908810198305, 13.845042908073657, 14.908029354765144, 15.949170344400969, 16.9667647390526, 17.959108250936392, 18.924493712046612, 19.86121143361051, 20.767549656812253, 21.64179509516261, 22.482233567687597, 23.287150720742474, 24.054832834707256, 24.783567710057646, 25.47164562528721, 26.117360356847318, 26.719010248603674, 27.274899315218764, 27.783338360269422, 28.242646085677848, 28.651150164045763, 29.007188239538248, 29.30910881584005, 29.555271981100134, 29.744049909292034, 29.87382706452091, 29.943000018826265, 29.949976774015497, 29.893175452780675, 29.771022192075762, 29.581948030111004, 29.32438452404165, 28.996757763836435, 28.597480352194065, 28.124940791000896, 27.577489537260313, 26.95342074395366, 26.25094835053666, 25.468174681303843, 24.60304896324415, 23.653312048455685, 22.61642188059491, 21.489451455882474, 20.268946410523935, 18.950721382305847, 17.529559739039737, 15.998752924814603, 14.349358611361728, 12.74386555506557, 9.700717171313249, 10.581902813797338, 3.8989243207207647, 4.893540975693448, 0.052198895167295166, -0.00019495648712454294, -0.023979042455631358, -0.01970312648563577, -0.0547353842147054, -0.05109631222752814, -0.06818641272760102, -0.07785275359865274, -0.08790662779048683, -0.09744919491190844, -0.10650457251988722, -0.11508872866209255, -0.12321227505294914, -0.1308822094380715, -0.13810305830754369, -0.1448776579973054, -0.151207706367598, -0.1570941628885813, -0.162537545146397, -0.16753815253570048, -0.17209623749129932, -0.17621213809505354, -0.17988638168982943, -0.18311976634704966, -0.18591342514607623, -0.18826887691696648, -0.19018806617721087, -0.19167339433327263, -0.1927277437378766, -0.19335449584022635, -0.19355754440222658, -0.19334130455432152, -0.19271071831228478, -0.19167125705889693, -0.19022892140304104, -0.18839023875696534, -0.18616225891562532, -0.18355254787660963, -0.18056918010263223, -0.17722072939896544, -0.17351625855399458, -0.16946530787121036, -0.16507788270445584, -0.16036444009455536, -0.1553358745939119, -0.15000350335595009, -0.1443790505580213, -0.13847463121933123, -0.13230273446939184, -0.12587620631726426, -0.11920823196732219, -0.1123123177232952, -0.10520227251890879, -0.09789218911038358, -0.09039642496339295, -0.08272958286472398, -0.07490649128680643, -0.06694218453145903, -0.05885188267757916, -0.05065097135610692, -0.04235498137436092, -0.03397956821078629, -0.025540491400245405, -0.017053593829226443, -0.008534780959717589, -6.2298253988054e-15, 0.008534780959705127, 0.01705359382921398, 0.025540491400232956, 0.033979568210773886, 0.042354981374348594, 0.05065097135609457, 0.05885188267756699, 0.06694218453144675, 0.07490649128679422, 0.08272958286471188, 0.09039642496338113, 0.09789218911037152, 0.1052022725188969, 0.11231231772328361, 0.11920823196731072, 0.12587620631725296, 0.1323027344693804, 0.13847463121932047, 0.14437905055801054, 0.15000350335593907, 0.1553358745939009, 0.16036444009454484, 0.1650778827044454, 0.16946530787120007, 0.1735162585539844, 0.17722072939895536, 0.1805691801026231, 0.18355254787660044, 0.18616225891561594, 0.18839023875695646, 0.19022892140303263, 0.19167125705888874, 0.1927107183122768, 0.1933413045543137, 0.19355754440221917, 0.19335449584021902, 0.19272774373786938, 0.19167339433326622, 0.1901880661772044, 0.1882688769169601, 0.1859134251460703, 0.18311976634704386, 0.17988638168982435, 0.17621213809504804, 0.1720962374912937, 0.16753815253569523, 0.16253754514639204, 0.15709416288857644, 0.15120770636759334, 0.14487765799730096, 0.13810305830753944, 0.1308822094380674, 0.12321227505294538, 0.11508872866208933, 0.10650457251988435, 0.09744919491190564, 0.08790662779048442, 0.07785275359865063, 0.06818641272759927, 0.05109631222752693, 0.054735384214704134, 0.019703126485635353, 0.023979042455630897, 0.00019495648712454346, -0.0001950144829801623, -0.02399963240331835, -0.019771562215715795, -0.055160356173727665, -0.05179785245161814, -0.06964487318745881, -0.08024742035350571, -0.0915871409786927, -0.10278523890461627, -0.1139039071680486, -0.12499546448508514, -0.1361053499458495, -0.14727402835996317, -0.1585382683912952, -0.1699320388209584, -0.18148716013162036, -0.1932337927922268, -0.2052008128431686, -0.21741610747559598, -0.22990681242043282, -0.24269950611018426, -0.25582037112396494, -0.26929533045381976, -0.28315016409854565, -0.2974106100725762, -0.312102452907846, -0.32725160199545317, -0.3428841615758633, -0.3590264937844462, -0.37570527585455415, -0.3929475523463468, -0.41078078308739313, -0.4292328873673292, -0.4483322848138488, -0.4681079332840643, -0.48858936402852077, -0.5098067143209294, -0.5317907576921839, -0.5545729318600017, -0.5781853644039474, -0.6026608961982427, -0.6280331025804564, -0.6543363122021602, -0.681605623477075, -0.7098769185125469, -0.7391868743808503, -0.7695729715573815, -0.8010734993228209, -0.8337275578954805, -0.867575057027848, -0.9026567107676315, -0.9390140280478199, -0.9766892987322509, -1.0157255747024063, -1.0561666455274226, -1.0980570082119185, -1.1414418304652525, -1.186366906880088, -1.232878607347821, -1.281023816972517, -1.3308498666729256, -1.3824044535834454, -1.435735550278407, -1.4908913017493592, -1.547919908960627, -1.606869497693646, -1.667787971263923, -1.7307228455546353, -1.7957210646561634, -1.8628287952294125, -1.9320911975208177, -2.003552170745359, -2.0772540703189972, -2.15323739415926, -2.231540434980089, -2.312198895178638, -2.3952454605443347, -2.4807093286066193, -2.5686156869726746, -2.6589851364805677, -2.751833053398742, -2.8471688842281124, -2.9449953658958092, -3.04530766325483, -3.148092414802771, -3.2533266763849773, -3.360976751325885, -3.4709968939064537, -3.5833278713373984, -3.697895367320685, -3.8146082078904318, -3.9333563874075796, -4.054008869266628, -4.176411131948925, -4.30038242639322, -4.425712705081613, -4.552159176545182, -4.679442430906686, -4.807242072248844, -4.935191781574947, -5.062873719322402, -5.189812158025122, -5.315466212764083, -5.439221508113753, -5.560380583507679, -5.67815179173652, -5.79163638408418, -5.899813395381726, -6.001521835856198, -6.095439553709848, -6.180057937634579, -6.2536513590892895, -6.314239875190513, -6.359543169833815, -6.386922915547695, -6.393309547057369, -6.375107603411533, -6.328070883484381, -6.247133865797668, -6.126177603063271, -5.957693358246678, -5.732278293621251, -5.437839476774416, -5.12870113786396, -4.1683707055395995, -4.88890419366453, -1.9662891636939763, -2.742691369214056, -0.05221443402043406, 0.00019501447486958308, 0.025995000061156844, 0.021572556044235698, 0.060499559447298616, 0.05702841406081977, 0.07691370590544151, 0.08884677174983908, 0.10161479048011339, 0.11423889184347957, 0.12678092639515154, 0.1392928645463583, 0.15181979055983255, 0.16440180720629177, 0.17707531322171527, 0.18987389890563736, 0.20282899705482368, 0.21597037061273738, 0.22932648763619584, 0.24292481627429846, 0.25679206157660833, 0.270954359095151, 0.28543743579213493, 0.30026674579303636, 0.31546758649279644, 0.33106519910432647, 0.34708485672888567, 0.3635519422968236, 0.3804920181891567, 0.39793088894852435, 0.415894658183504, 0.43440978053631035, 0.45350310940173444, 0.47320194094145, 0.49353405482284857, 0.5145277520183092, 0.5362118899240752, 0.5586159149936953, 0.5817698930264705, 0.6057045372041239, 0.6304512339273116, 0.656042066466174, 0.6825098364048457, 0.7098880828277211, 0.7382110991647263, 0.7675139475830131, 0.7978324707831823, 0.8292033010285262, 0.8616638662057474, 0.8952523926846412, 0.9300079047118953, 0.9659702200403143, 1.0031799414588338, 1.0416784438505533, 1.0815078563650204, 1.12271103924708, 1.165331554817111, 1.209413632046084, 1.2550021241131495, 1.3021424582726948, 1.3508805772917716, 1.4012628716464064, 1.4533361015863488, 1.5071473080910132, 1.5627437116443716, 1.6201725976518513, 1.6794811872072173, 1.7407164917903906, 1.803925150337038, 1.8691532469656187, 1.9364461074759964, 2.0058480725430647, 2.0774022453173466, 2.151150210908781, 2.227131724967494, 2.3053843682816026, 2.385943163984218, 2.468840153593258, 2.554103927694248, 2.6417591066102, 2.731825765877024, 2.8243188007477276, 2.9192472232741666, 3.0166133847472425, 3.116412115401764, 3.2186297722908144, 3.323243185086436, 3.430218488241935, 3.5395098264250158, 3.6510579183626235, 3.764788462181596, 3.880610362927275, 3.9984137601261485, 4.118067829942249, 4.239418332553564, 4.362284870711233, 4.486457819871802, 4.611694883599395, 4.7377172198481246, 4.864205073906688, 4.99079284176546, 5.1170634728611795, 5.242542102789897, 5.366688783623012, 5.4888901505300005, 5.6084498266280605, 5.724577320769318, 5.836375111769256, 5.9428235323554475, 6.042762959712792, 6.134872676561959, 6.217645571976765, 6.289357581770592, 6.348030389305254, 6.391385364343702, 6.416785922452978, 6.421164295940505, 6.400926873183219, 6.35182935116889, 6.268808152202748, 6.145746315187999, 5.975137128290917, 5.747579814469814, 5.450983533840357, 5.139827300921718, 4.176386275623611, 4.89709366604274, 1.9690533853588674, 2.745755111414146, 0.05221443406550448, 7.247392213223622, 3.206120733133738, -0.5450713535038417, 0.8958696536294017, 0.2354505717893252, 0.26025078771722854, 0.21608049342914845, 0.18527587213636648, 0.16230520198232712, 0.1444135773775439, 0.13007251021072297, 0.11832521833938678, 0.10854093006197699, 0.10028771134909813, 0.09326047330430276, 0.08723820735630593, 0.08205742332238894, 0.0775950259427351, 0.07375692417266888, 0.0704702472566542, 0.0676778995459764, 0.0653346720823995, 0.06340441456771166, 0.06185794454201904, 0.06067147858397048, 0.05982543934701781, 0.0593035373093699, 0.05909205613090309, 0.05917929086288393, 0.059555102283143355, 0.06021056044163461, 0.061137657460189496, 0.06232907462843692, 0.06377799247009397, 0.06547793512240441, 0.06742264235207168, 0.06960596401499491, 0.07202177288891085, 0.07466389266314166, 0.07752603852658266, 0.08060176830348606, 0.08388444248282986, 0.08736719179789884, 0.09104289125808393, 0.09490413972974826, 0.09894324431862109, 0.10315220893111056, 0.10752272649277497, 0.11204617438397499, 0.11671361271939887, 0.12151578515273878, 0.12644312193270718, 0.1314857449736796, 0.13663347473503912, 0.14187583872895917, 0.1472020814978281, 0.15260117592057154, 0.15806183572232535, 0.16357252907482928, 0.16912149318583553, 0.174696749785196, 0.1802861214232657, 0.18587724850412188, 0.19145760698201322, 0.19701452665451863, 0.20253520999028735, 0.2080067514330131, 0.2134161571265595, 0.2187503650089434, 0.22399626522527744, 0.22914072081180686, 0.23417058860485893, 0.23907274032992668, 0.2438340838272051, 0.24844158437073666, 0.2528822860389024, 0.2571433330943087, 0.2612119913311798, 0.2650756693481776, 0.2687219397040899, 0.2721385599130871, 0.2753134932351732, 0.2782349292160716, 0.2808913039290376, 0.2832713198688939, 0.28536396544596127, 0.2871585340243771, 0.2886446424454965, 0.2898122489725491, 0.290651670587316, 0.2911535995631994, 0.29130911923139213, 0.2911097188477249, 0.29054730745677293, 0.28961422663662983, 0.28830326199176115, 0.2866076532419495, 0.28452110273157316, 0.28203778215429787, 0.279152337252104, 0.27585989020257046, 0.2721560393518083, 0.26803685587902093, 0.2634988768875546, 0.25853909430020194, 0.25315493878450956, 0.24734425773463792, 0.24110528607246964, 0.23443660827708018, 0.22733710957207848, 0.2198059135406629, 0.21184230251754577, 0.2034456158003339, 0.1946151188348204, 0.18534983374351718, 0.17564831736254827, 0.1655083664356486, 0.1549266192007393, 0.14389800535740313, 0.1324149665868382, 0.1204663154371127, 0.10803549453630877, 0.09509778497488784, 0.08275126175017261, 0.061569950254075655, 0.06542097467714156, 0.023306190937813803, 0.02797007599104912, 0.0001949564708038178, -1.039053019508023e6, -457216.7665022755, 79918.02196311772, -124044.60383804786, -30000.935903635298, -32684.99161738038, -26064.946203137755, -21371.116361415796, -17858.547823186986, -15120.380760362186, -12927.958410333697, -11136.260448431896, -9648.237512931819, -8396.287328236132, -7331.732379761844, -6418.545644762793, -5629.437657837628, -4943.323095026362, -4343.627847986272, -3817.126631886632, -3353.125798752576, -2942.876768699538, -2579.1471399905527, -2255.901850056155, -1968.0625759156621, -1711.3236919696024, -1482.009734891618, -1276.963754052584, -1093.4589370808505, -929.1279814085956, -781.906142986462, -649.9849323276794, -531.7741767921506, -425.8707140816431, -331.0323845998071, -246.15629037352477, -170.26051397476678, -102.46866227594879, -41.99673111913974, 11.85811170246183, 59.72714894144173, 102.17840391578576, 139.7238113880375, 172.8254439695774, 201.90093782337536, 227.32823661586406, 249.44975261149665, 268.5760275108351, 284.9889623308068, 298.9446747123942, 310.6760330457751, 320.3949093556902, 328.2941866977874, 334.5495516472336, 339.32109812811456, 342.7547651869064, 344.9836282353494, 346.1290606799693, 346.3017806381261, 345.6027955491706, 344.12425587100216, 341.9502276635438, 339.1573926652528, 335.81568343708346, 331.98886025530317, 327.73503565976097, 323.10715189007783, 318.1534158544177, 312.9176957615917, 307.43988309704974, 301.75622322795493, 295.89961757464783, 289.8998999790064, 283.78408962914415, 277.576622659862, 271.2995643353797, 264.972803531645, 258.61423106706343, 252.23990328019366, 245.86419211868704, 239.49992288352544, 233.15850066482142, 226.8500264085686, 220.58340346657943, 214.36643540319253, 208.20591576129914, 202.10771042586632, 196.07683316469289, 190.11751487292818, 184.23326699926636, 178.42693958714352, 172.70077432322543, 167.05645294740532, 161.49514134308438, 156.01752959313308, 150.62386825525132, 145.31400107994588, 140.08739436456978, 134.9431631072372, 129.88009409433337, 124.89666602402005, 119.99106673467521, 115.16120757044376, 110.4047348745051, 105.71903855232084, 101.10125758931882, 96.5482823365613, 92.05675328884415, 87.6230559651129, 83.2433113507051, 78.91336115934892, 74.62874689723898, 70.38468132679827, 66.17601037928482, 61.99716276550332, 57.8420833380072, 53.70414442008227, 49.57602640116042, 45.449554101174655, 41.31546716287326, 37.163087784852586, 32.97982015035959, 28.75035785705469, 24.795647396834664, 18.29775858119332, 19.293753367380177, 6.820923681740412, 8.118383437445376, 0.0522144066722865, 1940.4657943660495, 859.9552132077422, -144.56456569130378, 243.9395175190981, 67.02128303745823, 75.19413121482586, 64.35031637273424, 57.14497672463419, 52.01883881055531, 48.23180065022413, 45.372181339015036, 43.181430176816534, 41.48834834481354, 40.175044494727146, 39.15766447855172, 38.37494650730337, 37.78111436115084, 37.34129749192622, 37.02848581337684, 36.82144994475936, 36.703287384339916, 36.66038523130875, 36.681666543318, 36.75803379226771, 36.88195179591161, 37.047130978529204, 37.24828388042841, 37.480935873523414, 37.74127649046256, 38.02604153129401, 38.33241873972963, 38.65797170514756, 39.00057798554135, 39.35837841996546, 39.72973531431422, 40.113197715330095, 40.50747238580088, 40.911399394973394, 41.32393146783717, 41.74411641347596, 42.171082089424566, 42.60402346564958, 43.04219143554337, 43.48488308754403, 43.931433203647906, 44.38120679319939, 44.833592504218544, 45.28799678191758, 45.743838666320656, 46.20054513908568, 46.657546944542496, 47.1142748222771, 47.57015609876357, 48.02461159403373, 48.47705280644134, 48.92687934451654, 49.373476579902466, 49.81621349958497, 50.2544407392065, 50.68748878230447, 51.11466631290257, 51.535258711119816, 51.94852668335406, 52.353705020242465, 52.75000147699979, 53.13659577194768, 53.51263870007599, 53.87725135936594, 54.22952448835026, 54.56851791401902, 54.893260109695646, 55.20274786293578, 55.49594605382286, 55.77178754428237, 56.02917317918189, 56.26697190006545, 56.48402097235309, 56.67912632674224, 56.85106301536762, 56.998575783001236, 57.12037975321034, 57.21516122891957, 57.281578606242554, 57.31826339975219, 57.32382137651532, 57.29683379524005, 57.23585874571976, 57.139432582412695, 57.00607144441788, 56.83427285227505, 56.622517369870785, 56.369270317237685, 56.07298351709008, 55.732097054486914, 55.345041024929344, 54.910237241330954, 54.42610086448987, 53.89104191468368, 53.30346661351067, 52.66177849472013, 51.964379209979086, 51.20966893963127, 50.39604629857925, 49.521907602224346, 48.585645325197056, 47.58564554406774, 46.52028410101022, 45.38792115387234, 44.186893682539726, 42.91550539216858, 41.572013276346546, 40.15460985582151, 38.661399757725654, 37.09036879379273, 35.43934294949416, 33.70593356950228, 31.887463279324784, 29.980864394035073, 27.98253694638313, 25.888145482500217, 23.692319218344828, 21.388191808346743, 18.966659914034693, 16.64355671235917, 12.50499983387459, 13.442935054656457, 4.863633159208732, 5.9621272797746725, 0.05219889079747364, -0.05219889516729541, -4.893540975693533, -3.8989243207208455, -10.581902813797564, -9.700717171313455, -12.743865555065863, -14.349358611362092, -15.99875292481506, -17.529559739040277, -18.95072138230638, -20.26894641052453, -21.48945145588316, -22.61642188059559, -23.653312048456428, -24.603048963244923, -25.468174681304678, -26.25094835053756, -26.953420743954624, -27.57748953726135, -28.124940791001947, -28.597480352195106, -28.996757763837575, -29.32438452404276, -29.58194803011216, -29.771022192076952, -29.893175452781858, -29.949976774016733, -29.943000018827448, -29.873827064522096, -29.744049909293214, -29.55527198110134, -29.30910881584121, -29.007188239539477, -28.65115016404703, -28.24264608567904, -27.783338360270626, -27.274899315219965, -26.719010248604846, -26.11736035684858, -25.471645625288502, -24.783567710058858, -24.054832834708545, -23.287150720743718, -22.482233567688898, -21.6417950951639, -20.76754965681356, -19.861211433611818, -18.924493712047926, -17.959108250937728, -16.966764739053918, -15.949170344402274, -14.908029354766478, -13.845042908075, -12.76190881019957, -11.660321436956997, -10.541971716344477, -9.408547186385503, -8.261732123384933, -7.103207734886422, -5.934652411185866, -4.757742028872027, -3.5741502995420626, -2.3855491565663582, -1.1936091725547808, -2.67455947486318e-13, 1.1936091725542435, 2.385549156565817, 3.5741502995415146, 4.7577420288714904, 5.934652411185326, 7.103207734885877, 8.2617321233844, 9.40854718638496, 10.54197171634391, 11.660321436956437, 12.761908810199055, 13.845042908074435, 14.908029354765906, 15.949170344401717, 16.966764739053357, 17.95910825093715, 18.924493712047287, 19.86121143361121, 20.76754965681297, 21.641795095163282, 22.482233567688315, 23.28715072074314, 24.054832834707938, 24.78356771005827, 25.47164562528781, 26.117360356847957, 26.71901024860418, 27.274899315219304, 27.783338360270008, 28.242646085678317, 28.65115016404631, 29.007188239538767, 29.309108815840457, 29.555271981100553, 29.744049909292524, 29.87382706452132, 29.94300001882665, 29.949976774015894, 29.893175452780945, 29.771022192076067, 29.58194803011125, 29.324384524041886, 28.996757763836627, 28.597480352194196, 28.124940791001098, 27.577489537260547, 26.953420743953824, 26.25094835053686, 25.46817468130403, 24.603048963244323, 23.6533120484559, 22.616421880595084, 21.489451455882676, 20.26894641052411, 18.95072138230602, 17.529559739039918, 15.998752924814696, 14.34935861136184, 12.743865555065645, 9.700717171313311, 10.581902813797397, 3.8989243207207824, 4.893540975693475, 0.05219889516729509, 1.0390530195080473e6, 457218.405121012, -79916.54354131411, 124048.98390825967, 30005.222958936545, 32690.94233680056, 26071.976161210652, 21379.300199072197, 17867.877395408846, 15130.846801938626, 12939.550552918545, 11148.967239552047, 9662.046436883524, 8411.18482880215, 7347.7038846759515, 6435.575591843052, 5647.509522706056, 4962.419420327081, 4363.730274011425, 3838.215928515204, 3375.1818986047365, 2965.878801406282, 2603.073467476416, 2280.7301027311883, 1993.7696896715756, 1737.8859458742963, 1509.402789476042, 1305.1626900839651, 1122.4382947169297, 958.8617996284376, 812.3679991948607, 681.147982031827, 563.6111932514186, 458.3541278337221, 364.1343227692509, 279.8486156717496, 204.51486330394016, 137.25648485271324, 77.2893260379411, 23.910441457300408, -23.511528619398568, -65.54464904639255, -102.70086152107599, -135.44221188711512, -164.18627679033585, -189.3109086334081, -211.15839771824008, -230.03913417228003, -246.23483895273583, -260.0014223093803, -271.57151909143664, -281.15674283686076, -288.9496943904061, -295.1257556275154, -299.84469452840784, -303.2521042016664, -305.4806953787845, -306.6514592932188, -306.87471564029227, -306.2510584231487, -304.8722108718745, -302.8217992342594, -300.1760540415203, -297.0044464207165, -293.3702661328415, -289.3311472408749, -284.9395466382161, -280.2431800802216, -275.2854198479117, -270.1056577228297, -264.7396365569076, -259.2197533734352, -253.5753366286171, -247.83289999228543, -242.0163747664772, -236.14732284782235, -230.24513195063736, -224.32719463924937, -218.4090725679573, -212.50464719285023, -206.62625809962577, -200.7848299838284, -194.9899892231964, -189.25017089470379, -183.5727170103492, -177.96396667476193, -172.4293388034111, -166.97340798182006, -161.5999739930449, -156.31212549209528, -151.1122982614666, -146.00232844091187, -140.98350108658792, -136.0565943792618, -131.221919767933, -126.47935830355158, -121.82839338704356, -117.26814012607349, -112.79737146536516, -108.4145412253036, -104.11780415222412, -99.90503305032843, -95.77383302840076, -91.72155285291923, -87.74529335080472, -83.84191274722446, -80.00802875295872, -76.24001712670238, -72.53400632312037, -68.88586768705676, -65.29120045272128, -61.745310531033184, -58.24318168358246, -54.779437133190136, -51.348288861138045, -47.94347064524141, -44.55814905482448, -41.18480370299906, -37.815063259492334, -34.43947548375595, -31.04717459181756, -27.625380312608826, -24.15860493966232, -20.91436071987819, -15.504842288067213, -16.442834068954134, -5.859267373328402, -7.052940722934075, -0.05221441106051996, -0.00019501448298016232, -0.023999632403318354, -0.019771562215715792, -0.055160356173727665, -0.05179785245161812, -0.06964487318745882, -0.08024742035350571, -0.0915871409786927, -0.1027852389046163, -0.1139039071680486, -0.12499546448508514, -0.1361053499458495, -0.14727402835996314, -0.1585382683912952, -0.16993203882095836, -0.18148716013162042, -0.1932337927922268, -0.2052008128431686, -0.21741610747559603, -0.22990681242043287, -0.2426995061101842, -0.25582037112396505, -0.2692953304538197, -0.2831501640985457, -0.2974106100725762, -0.312102452907846, -0.3272516019954532, -0.3428841615758634, -0.3590264937844463, -0.37570527585455404, -0.3929475523463468, -0.4107807830873931, -0.42923288736732923, -0.44833228481384857, -0.46810793328406436, -0.4885893640285208, -0.5098067143209293, -0.531790757692184, -0.5545729318600017, -0.5781853644039473, -0.6026608961982427, -0.6280331025804566, -0.6543363122021603, -0.6816056234770751, -0.7098769185125469, -0.7391868743808502, -0.7695729715573814, -0.8010734993228211, -0.8337275578954804, -0.8675750570278477, -0.9026567107676317, -0.9390140280478195, -0.976689298732251, -1.0157255747024068, -1.0561666455274221, -1.0980570082119188, -1.1414418304652525, -1.186366906880088, -1.2328786073478213, -1.2810238169725163, -1.3308498666729265, -1.382404453583445, -1.435735550278407, -1.4908913017493592, -1.5479199089606275, -1.6068694976936455, -1.6677879712639232, -1.7307228455546357, -1.7957210646561634, -1.8628287952294127, -1.9320911975208175, -2.003552170745359, -2.0772540703189972, -2.1532373941592593, -2.231540434980089, -2.312198895178639, -2.3952454605443347, -2.4807093286066193, -2.568615686972674, -2.6589851364805677, -2.7518330533987414, -2.847168884228112, -2.94499536589581, -3.0453076632548304, -3.148092414802771, -3.253326676384977, -3.360976751325886, -3.470996893906454, -3.5833278713374, -3.6978953673206854, -3.8146082078904326, -3.9333563874075805, -4.054008869266628, -4.176411131948928, -4.30038242639322, -4.425712705081613, -4.552159176545182, -4.679442430906684, -4.8072420722488465, -4.935191781574947, -5.062873719322404, -5.18981215802512, -5.315466212764083, -5.439221508113751, -5.560380583507677, -5.67815179173652, -5.79163638408418, -5.899813395381724, -6.001521835856199, -6.0954395537098485, -6.18005793763458, -6.253651359089293, -6.314239875190514, -6.359543169833814, -6.386922915547693, -6.3933095470573695, -6.375107603411532, -6.328070883484379, -6.247133865797668, -6.126177603063271, -5.957693358246678, -5.732278293621251, -5.437839476774417, -5.12870113786396, -4.1683707055395995, -4.888904193664529, -1.9662891636939772, -2.7426913692140547, -0.05221443402043406, 0.00019501447486958186, 0.025995000061156803, 0.021572556044235656, 0.06049955944729855, 0.0570284140608197, 0.07691370590544137, 0.088846771749839, 0.10161479048011338, 0.11423889184347959, 0.12678092639515126, 0.13929286454635803, 0.15181979055983222, 0.16440180720629138, 0.17707531322171496, 0.18987389890563708, 0.20282899705482288, 0.2159703706127366, 0.22932648763619565, 0.24292481627429788, 0.2567920615766082, 0.2709543590951504, 0.28543743579213454, 0.3002667457930363, 0.31546758649279627, 0.33106519910432636, 0.3470848567288851, 0.36355194229682347, 0.38049201818915657, 0.39793088894852374, 0.41589465818350396, 0.4344097805363105, 0.4535031094017345, 0.47320194094145, 0.49353405482284857, 0.5145277520183089, 0.5362118899240754, 0.5586159149936956, 0.5817698930264704, 0.6057045372041239, 0.6304512339273126, 0.6560420664661754, 0.6825098364048464, 0.7098880828277212, 0.7382110991647259, 0.7675139475830127, 0.7978324707831829, 0.829203301028526, 0.861663866205747, 0.8952523926846404, 0.9300079047118948, 0.965970220040313, 1.0031799414588345, 1.0416784438505522, 1.0815078563650173, 1.122711039247079, 1.16533155481711, 1.2094136320460827, 1.2550021241131486, 1.3021424582726937, 1.350880577291771, 1.4012628716464048, 1.453336101586347, 1.507147308091011, 1.5627437116443703, 1.620172597651851, 1.6794811872072177, 1.7407164917903906, 1.8039251503370355, 1.8691532469656162, 1.9364461074759978, 2.0058480725430647, 2.077402245317343, 2.151150210908782, 2.2271317249674962, 2.3053843682816026, 2.3859431639842166, 2.468840153593257, 2.554103927694247, 2.641759106610202, 2.7318257658770224, 2.8243188007477276, 2.919247223274166, 3.0166133847472385, 3.1164121154017623, 3.218629772290814, 3.323243185086435, 3.4302184882419344, 3.5395098264250184, 3.6510579183626226, 3.7647884621815937, 3.880610362927269, 3.9984137601261467, 4.118067829942247, 4.239418332553567, 4.362284870711235, 4.486457819871806, 4.611694883599398, 4.73771721984813, 4.864205073906688, 4.990792841765463, 5.117063472861183, 5.242542102789897, 5.36668878362301, 5.488890150530004, 5.608449826628068, 5.72457732076932, 5.836375111769259, 5.942823532355451, 6.042762959712797, 6.134872676561964, 6.217645571976765, 6.289357581770598, 6.348030389305259, 6.391385364343714, 6.416785922452982, 6.421164295940502, 6.400926873183217, 6.3518293511688935, 6.268808152202747, 6.145746315188002, 5.975137128290921, 5.747579814469819, 5.4509835338403585, 5.139827300921717, 4.17638627562361, 4.897093666042742, 1.969053385358868, 2.745755111414145, 0.052214434065504495, 1940.4657943660495, 859.955213207742, -144.56456569130378, 243.93951751909827, 67.02128303745845, 75.19413121482606, 64.35031637273443, 57.14497672463439, 52.01883881055562, 48.23180065022449, 45.37218133901549, 43.18143017681698, 41.48834834481405, 40.17504449472775, 39.15766447855237, 38.37494650730402, 37.78111436115151, 37.34129749192685, 37.02848581337749, 36.82144994475998, 36.70328738434069, 36.66038523130947, 36.68166654331871, 36.75803379226847, 36.881951795912364, 37.047130978529964, 37.24828388042926, 37.48093587352418, 37.741276490463335, 38.02604153129491, 38.332418739730365, 38.657971705148256, 39.0005779855419, 39.35837841996612, 39.72973531431494, 40.11319771533076, 40.50747238580161, 40.91139939497404, 41.323931467837745, 41.74411641347652, 42.17108208942516, 42.60402346565022, 43.042191435544034, 43.484883087544745, 43.931433203648744, 44.38120679320038, 44.83359250421951, 45.2879967819186, 45.74383866632178, 46.200545139086636, 46.65754694454362, 47.11427482227819, 47.57015609876467, 48.024611594034845, 48.47705280644258, 48.92687934451796, 49.37347657990392, 49.816213499586446, 50.25444073920804, 50.68748878230593, 51.11466631290406, 51.535258711121294, 51.94852668335566, 52.35370502024402, 52.75000147700134, 53.13659577194929, 53.51263870007767, 53.87725135936759, 54.229524488351984, 54.56851791402079, 54.89326010969733, 55.20274786293738, 55.495946053824575, 55.77178754428414, 56.02917317918356, 56.26697190006701, 56.484020972354664, 56.679126326743905, 56.85106301536915, 56.99857578300272, 57.12037975321174, 57.2151612289209, 57.28157860624395, 57.31826339975347, 57.32382137651666, 57.29683379524117, 57.235858745720854, 57.139432582413804, 57.00607144441917, 56.834272852276264, 56.62251736987175, 56.36927031723878, 56.07298351709106, 55.73209705448783, 55.34504102493024, 54.91023724133165, 54.42610086449054, 53.891041914684415, 53.303466613511354, 52.66177849472066, 51.96437920997976, 51.20966893963186, 50.39604629857974, 49.521907602224715, 48.58564532519754, 47.58564554406797, 46.5202841010105, 45.38792115387254, 44.18689368253987, 42.91550539216866, 41.57201327634674, 40.154609855821704, 38.66139975772588, 37.09036879379294, 35.43934294949438, 33.70593356950249, 31.887463279324965, 29.980864394035276, 27.9825369463833, 25.88814548250038, 23.69231921834498, 21.38819180834686, 18.966659914034828, 16.64355671235927, 12.50499983387466, 13.442935054656513, 4.863633159208759, 5.962127279774693, 0.052198890797473786, -1.0390530195080233e6, -457216.7665022755, 79918.02196311778, -124044.60383804786, -30000.93590363532, -32684.9916173804, -26064.946203137733, -21371.116361415796, -17858.54782318697, -15120.380760362188, -12927.958410333693, -11136.260448431904, -9648.237512931817, -8396.28732823612, -7331.732379761845, -6418.545644762805, -5629.437657837626, -4943.323095026368, -4343.627847986272, -3817.1266318866283, -3353.125798752573, -2942.8767686995384, -2579.1471399905495, -2255.9018500561547, -1968.0625759156628, -1711.323691969601, -1482.0097348916174, -1276.9637540525807, -1093.4589370808496, -929.1279814085971, -781.9061429864611, -649.9849323276784, -531.7741767921497, -425.8707140816426, -331.032384599807, -246.15629037352403, -170.26051397476658, -102.4686622759486, -41.99673111913957, 11.858111702462041, 59.727148941441946, 102.17840391578602, 139.72381138803766, 172.82544396957746, 201.90093782337556, 227.32823661586363, 249.44975261149648, 268.5760275108347, 284.9889623308064, 298.94467471239386, 310.6760330457746, 320.3949093556899, 328.29418669778715, 334.54955164723356, 339.321098128114, 342.75476518690607, 344.9836282353485, 346.12906067996863, 346.30178063812554, 345.60279554916997, 344.1242558710017, 341.950227663543, 339.1573926652519, 335.8156834370828, 331.98886025530277, 327.73503565976057, 323.1071518900773, 318.15341585441695, 312.91769576159095, 307.43988309704883, 301.75622322795397, 295.89961757464727, 289.8998999790054, 283.78408962914307, 277.5766226598613, 271.29956433537893, 264.9728035316441, 258.6142310670632, 252.23990328019306, 245.8641921186866, 239.4999228835248, 233.1585006648203, 226.8500264085682, 220.58340346657891, 214.36643540319213, 208.20591576129857, 202.10771042586592, 196.07683316469274, 190.1175148729283, 184.23326699926605, 178.42693958714318, 172.70077432322486, 167.05645294740503, 161.4951413430842, 156.0175295931329, 150.62386825525127, 145.31400107994537, 140.08739436456943, 134.9431631072372, 129.8800940943334, 124.89666602401986, 119.99106673467502, 115.1612075704436, 110.40473487450507, 105.71903855232092, 101.10125758931883, 96.54828233656139, 92.05675328884404, 87.62305596511295, 83.24331135070506, 78.91336115934894, 74.6287468972389, 70.3846813267982, 66.17601037928485, 61.99716276550328, 57.84208333800715, 53.704144420082265, 49.576026401160405, 45.449554101174655, 41.31546716287327, 37.16308778485258, 32.97982015035958, 28.750357857054695, 24.79564739683465, 18.29775858119333, 19.293753367380187, 6.820923681740418, 8.118383437445369, 0.05221440667228618, 0.00019501447486958308, 0.025995000061156844, 0.021572556044235698, 0.060499559447298616, 0.057028414060819765, 0.0769137059054415, 0.08884677174983906, 0.1016147904801134, 0.11423889184347955, 0.12678092639515154, 0.13929286454635828, 0.15181979055983258, 0.16440180720629177, 0.17707531322171527, 0.1898738989056373, 0.20282899705482366, 0.21597037061273733, 0.2293264876361958, 0.24292481627429846, 0.25679206157660833, 0.270954359095151, 0.28543743579213493, 0.3002667457930364, 0.31546758649279644, 0.33106519910432664, 0.3470848567288858, 0.3635519422968236, 0.38049201818915684, 0.3979308889485245, 0.4158946581835041, 0.43440978053631035, 0.45350310940173444, 0.4732019409414502, 0.49353405482284873, 0.5145277520183095, 0.5362118899240752, 0.5586159149936953, 0.5817698930264706, 0.6057045372041238, 0.6304512339273118, 0.6560420664661742, 0.6825098364048457, 0.7098880828277212, 0.7382110991647265, 0.767513947583013, 0.7978324707831823, 0.8292033010285262, 0.8616638662057472, 0.8952523926846411, 0.9300079047118953, 0.9659702200403143, 1.0031799414588338, 1.0416784438505533, 1.08150785636502, 1.1227110392470798, 1.165331554817111, 1.209413632046084, 1.25500212411315, 1.302142458272695, 1.3508805772917711, 1.4012628716464064, 1.453336101586349, 1.507147308091013, 1.5627437116443716, 1.6201725976518513, 1.6794811872072173, 1.7407164917903908, 1.8039251503370377, 1.8691532469656187, 1.9364461074759964, 2.0058480725430647, 2.0774022453173466, 2.151150210908781, 2.227131724967494, 2.3053843682816026, 2.3859431639842175, 2.468840153593258, 2.554103927694248, 2.6417591066102006, 2.7318257658770246, 2.824318800747728, 2.919247223274167, 3.016613384747241, 3.116412115401764, 3.218629772290815, 3.3232431850864357, 3.4302184882419353, 3.5395098264250167, 3.651057918362623, 3.7647884621815955, 3.8806103629272743, 3.9984137601261485, 4.118067829942249, 4.239418332553565, 4.362284870711234, 4.486457819871803, 4.611694883599394, 4.737717219848126, 4.864205073906689, 4.99079284176546, 5.1170634728611795, 5.242542102789897, 5.366688783623012, 5.48889015053, 5.6084498266280605, 5.7245773207693205, 5.8363751117692555, 5.942823532355448, 6.042762959712793, 6.134872676561958, 6.217645571976767, 6.289357581770592, 6.3480303893052525, 6.391385364343703, 6.416785922452976, 6.421164295940505, 6.40092687318322, 6.351829351168892, 6.26880815220275, 6.145746315187999, 5.975137128290917, 5.747579814469814, 5.4509835338403585, 5.139827300921718, 4.176386275623611, 4.89709366604274, 1.9690533853588679, 2.745755111414146, 0.05221443406550448, 7.247392213223622, 3.206120733133738, -0.5450713535038417, 0.8958696536294017, 0.2354505717893252, 0.26025078771722854, 0.21608049342914845, 0.18527587213636648, 0.16230520198232712, 0.1444135773775439, 0.13007251021072297, 0.11832521833938678, 0.10854093006197699, 0.10028771134909813, 0.09326047330430276, 0.08723820735630593, 0.08205742332238894, 0.0775950259427351, 0.07375692417266888, 0.0704702472566542, 0.0676778995459764, 0.0653346720823995, 0.06340441456771166, 0.06185794454201904, 0.06067147858397048, 0.05982543934701781, 0.0593035373093699, 0.05909205613090309, 0.05917929086288393, 0.059555102283143355, 0.06021056044163461, 0.061137657460189496, 0.06232907462843692, 0.06377799247009397, 0.06547793512240441, 0.06742264235207168, 0.06960596401499491, 0.07202177288891085, 0.07466389266314166, 0.07752603852658266, 0.08060176830348606, 0.08388444248282986, 0.08736719179789884, 0.09104289125808393, 0.09490413972974826, 0.09894324431862109, 0.10315220893111056, 0.10752272649277497, 0.11204617438397499, 0.11671361271939887, 0.12151578515273878, 0.12644312193270718, 0.1314857449736796, 0.13663347473503912, 0.14187583872895917, 0.1472020814978281, 0.15260117592057154, 0.15806183572232535, 0.16357252907482928, 0.16912149318583553, 0.174696749785196, 0.1802861214232657, 0.18587724850412188, 0.19145760698201322, 0.19701452665451863, 0.20253520999028735, 0.2080067514330131, 0.2134161571265595, 0.2187503650089434, 0.22399626522527744, 0.22914072081180686, 0.23417058860485893, 0.23907274032992668, 0.2438340838272051, 0.24844158437073666, 0.2528822860389024, 0.2571433330943087, 0.2612119913311798, 0.2650756693481776, 0.2687219397040899, 0.2721385599130871, 0.2753134932351732, 0.2782349292160716, 0.2808913039290376, 0.2832713198688939, 0.28536396544596127, 0.2871585340243771, 0.2886446424454965, 0.2898122489725491, 0.290651670587316, 0.2911535995631994, 0.29130911923139213, 0.2911097188477249, 0.29054730745677293, 0.28961422663662983, 0.28830326199176115, 0.2866076532419495, 0.28452110273157316, 0.28203778215429787, 0.279152337252104, 0.27585989020257046, 0.2721560393518083, 0.26803685587902093, 0.2634988768875546, 0.25853909430020194, 0.25315493878450956, 0.24734425773463792, 0.24110528607246964, 0.23443660827708018, 0.22733710957207848, 0.2198059135406629, 0.21184230251754577, 0.2034456158003339, 0.1946151188348204, 0.18534983374351718, 0.17564831736254827, 0.1655083664356486, 0.1549266192007393, 0.14389800535740313, 0.1324149665868382, 0.1204663154371127, 0.10803549453630877, 0.09509778497488784, 0.08275126175017261, 0.061569950254075655, 0.06542097467714156, 0.023306190937813803, 0.02797007599104912, 0.0001949564708038178, -0.00019495648712454294, -0.023979042455631358, -0.01970312648563577, -0.0547353842147054, -0.05109631222752814, -0.06818641272760102, -0.07785275359865274, -0.08790662779048683, -0.09744919491190844, -0.10650457251988722, -0.11508872866209255, -0.12321227505294914, -0.1308822094380715, -0.13810305830754369, -0.1448776579973054, -0.151207706367598, -0.1570941628885813, -0.162537545146397, -0.16753815253570048, -0.17209623749129932, -0.17621213809505354, -0.17988638168982943, -0.18311976634704966, -0.18591342514607623, -0.18826887691696648, -0.19018806617721087, -0.19167339433327263, -0.1927277437378766, -0.19335449584022635, -0.19355754440222658, -0.19334130455432152, -0.19271071831228478, -0.19167125705889693, -0.19022892140304104, -0.18839023875696534, -0.18616225891562532, -0.18355254787660963, -0.18056918010263223, -0.17722072939896544, -0.17351625855399458, -0.16946530787121036, -0.16507788270445584, -0.16036444009455536, -0.1553358745939119, -0.15000350335595009, -0.1443790505580213, -0.13847463121933123, -0.13230273446939184, -0.12587620631726426, -0.11920823196732219, -0.1123123177232952, -0.10520227251890879, -0.09789218911038358, -0.09039642496339295, -0.08272958286472398, -0.07490649128680643, -0.06694218453145903, -0.05885188267757916, -0.05065097135610692, -0.04235498137436092, -0.03397956821078629, -0.025540491400245405, -0.017053593829226443, -0.008534780959717589, -6.2298253988054e-15, 0.008534780959705127, 0.01705359382921398, 0.025540491400232956, 0.033979568210773886, 0.042354981374348594, 0.05065097135609457, 0.05885188267756699, 0.06694218453144675, 0.07490649128679422, 0.08272958286471188, 0.09039642496338113, 0.09789218911037152, 0.1052022725188969, 0.11231231772328361, 0.11920823196731072, 0.12587620631725296, 0.1323027344693804, 0.13847463121932047, 0.14437905055801054, 0.15000350335593907, 0.1553358745939009, 0.16036444009454484, 0.1650778827044454, 0.16946530787120007, 0.1735162585539844, 0.17722072939895536, 0.1805691801026231, 0.18355254787660044, 0.18616225891561594, 0.18839023875695646, 0.19022892140303263, 0.19167125705888874, 0.1927107183122768, 0.1933413045543137, 0.19355754440221917, 0.19335449584021902, 0.19272774373786938, 0.19167339433326622, 0.1901880661772044, 0.1882688769169601, 0.1859134251460703, 0.18311976634704386, 0.17988638168982435, 0.17621213809504804, 0.1720962374912937, 0.16753815253569523, 0.16253754514639204, 0.15709416288857644, 0.15120770636759334, 0.14487765799730096, 0.13810305830753944, 0.1308822094380674, 0.12321227505294538, 0.11508872866208933, 0.10650457251988435, 0.09744919491190564, 0.08790662779048442, 0.07785275359865063, 0.06818641272759927, 0.05109631222752693, 0.054735384214704134, 0.019703126485635353, 0.023979042455630897, 0.00019495648712454346, -0.0521988951672952, -4.893540975693536, -3.898924320720842, -10.58190281379756, -9.700717171313473, -12.74386555506587, -14.349358611362106, -15.998752924814989, -17.529559739040277, -18.950721382306355, -20.268946410524528, -21.489451455883103, -22.616421880595563, -23.6533120484564, -24.60304896324489, -25.468174681304667, -26.250948350537517, -26.953420743954652, -27.57748953726131, -28.124940791001965, -28.597480352195156, -28.9967577638376, -29.324384524042866, -29.581948030112212, -29.771022192077076, -29.89317545278193, -29.949976774016836, -29.943000018827604, -29.87382706452229, -29.744049909293377, -29.555271981101512, -29.309108815841473, -29.00718823953978, -28.651150164047323, -28.242646085679354, -27.783338360271024, -27.27489931522033, -26.71901024860528, -26.117360356849062, -25.471645625289003, -24.783567710059412, -24.05483283470904, -23.287150720744254, -22.48223356768942, -21.64179509516447, -20.767549656814065, -19.86121143361233, -18.92449371204844, -17.959108250938275, -16.966764739054476, -15.949170344402818, -14.908029354767033, -13.845042908075575, -12.761908810200179, -11.660321436957581, -10.541971716345055, -9.408547186386102, -8.261732123385546, -7.103207734887045, -5.934652411186489, -4.7577420288726655, -3.5741502995427146, -2.3855491565670217, -1.1936091725554556, -9.523062545938589e-13, 1.193609172553554, 2.385549156565121, 3.5741502995408125, 4.757742028870775, 5.934652411184597, 7.103207734885153, 8.261732123383666, 9.408547186384219, 10.54197171634316, 11.6603214369557, 12.761908810198305, 13.845042908073657, 14.908029354765148, 15.949170344400969, 16.966764739052596, 17.959108250936392, 18.92449371204661, 19.861211433610503, 20.76754965681226, 21.641795095162617, 22.482233567687604, 23.287150720742478, 24.054832834707252, 24.783567710057643, 25.471645625287223, 26.11736035684733, 26.719010248603652, 27.274899315218768, 27.78333836026942, 28.242646085677848, 28.65115016404577, 29.007188239538245, 29.309108815840048, 29.555271981100145, 29.744049909292045, 29.873827064520906, 29.943000018826258, 29.949976774015493, 29.89317545278068, 29.771022192075765, 29.581948030111008, 29.324384524041644, 28.99675776383644, 28.597480352194065, 28.12494079100089, 27.577489537260305, 26.953420743953668, 26.25094835053665, 25.468174681303843, 24.603048963244145, 23.65331204845569, 22.616421880594903, 21.489451455882477, 20.268946410523935, 18.950721382305844, 17.529559739039733, 15.998752924814605, 14.349358611361726, 12.743865555065572, 9.700717171313247, 10.581902813797342, 3.898924320720766, 4.893540975693447, 0.052198895167295166, -1.039053019508023e6, -457216.7665022755, 79918.02196311772, -124044.60383804786, -30000.935903635298, -32684.99161738038, -26064.946203137755, -21371.116361415796, -17858.547823186986, -15120.380760362186, -12927.958410333697, -11136.260448431896, -9648.237512931819, -8396.287328236132, -7331.732379761844, -6418.545644762793, -5629.437657837628, -4943.323095026362, -4343.627847986272, -3817.126631886632, -3353.125798752576, -2942.876768699538, -2579.1471399905527, -2255.901850056155, -1968.0625759156621, -1711.3236919696024, -1482.009734891618, -1276.963754052584, -1093.4589370808505, -929.1279814085956, -781.906142986462, -649.9849323276794, -531.7741767921506, -425.8707140816431, -331.0323845998071, -246.15629037352477, -170.26051397476678, -102.46866227594879, -41.99673111913974, 11.85811170246183, 59.72714894144173, 102.17840391578576, 139.7238113880375, 172.8254439695774, 201.90093782337536, 227.32823661586406, 249.44975261149665, 268.5760275108351, 284.9889623308068, 298.9446747123942, 310.6760330457751, 320.3949093556902, 328.2941866977874, 334.5495516472336, 339.32109812811456, 342.7547651869064, 344.9836282353494, 346.1290606799693, 346.3017806381261, 345.6027955491706, 344.12425587100216, 341.9502276635438, 339.1573926652528, 335.81568343708346, 331.98886025530317, 327.73503565976097, 323.10715189007783, 318.1534158544177, 312.9176957615917, 307.43988309704974, 301.75622322795493, 295.89961757464783, 289.8998999790064, 283.78408962914415, 277.576622659862, 271.2995643353797, 264.972803531645, 258.61423106706343, 252.23990328019366, 245.86419211868704, 239.49992288352544, 233.15850066482142, 226.8500264085686, 220.58340346657943, 214.36643540319253, 208.20591576129914, 202.10771042586632, 196.07683316469289, 190.11751487292818, 184.23326699926636, 178.42693958714352, 172.70077432322543, 167.05645294740532, 161.49514134308438, 156.01752959313308, 150.62386825525132, 145.31400107994588, 140.08739436456978, 134.9431631072372, 129.88009409433337, 124.89666602402005, 119.99106673467521, 115.16120757044376, 110.4047348745051, 105.71903855232084, 101.10125758931882, 96.5482823365613, 92.05675328884415, 87.6230559651129, 83.2433113507051, 78.91336115934892, 74.62874689723898, 70.38468132679827, 66.17601037928482, 61.99716276550332, 57.8420833380072, 53.70414442008227, 49.57602640116042, 45.449554101174655, 41.31546716287326, 37.163087784852586, 32.97982015035959, 28.75035785705469, 24.795647396834664, 18.29775858119332, 19.293753367380177, 6.820923681740412, 8.118383437445376, 0.0522144066722865, 1940.4657943660495, 859.9552132077422, -144.56456569130378, 243.9395175190981, 67.02128303745823, 75.19413121482586, 64.35031637273424, 57.14497672463419, 52.01883881055531, 48.23180065022413, 45.372181339015036, 43.181430176816534, 41.48834834481354, 40.175044494727146, 39.15766447855172, 38.37494650730337, 37.78111436115084, 37.34129749192622, 37.02848581337684, 36.82144994475936, 36.703287384339916, 36.66038523130875, 36.681666543318, 36.75803379226771, 36.88195179591161, 37.047130978529204, 37.24828388042841, 37.480935873523414, 37.74127649046256, 38.02604153129401, 38.33241873972963, 38.65797170514756, 39.00057798554135, 39.35837841996546, 39.72973531431422, 40.113197715330095, 40.50747238580088, 40.911399394973394, 41.32393146783717, 41.74411641347596, 42.171082089424566, 42.60402346564958, 43.04219143554337, 43.48488308754403, 43.931433203647906, 44.38120679319939, 44.833592504218544, 45.28799678191758, 45.743838666320656, 46.20054513908568, 46.657546944542496, 47.1142748222771, 47.57015609876357, 48.02461159403373, 48.47705280644134, 48.92687934451654, 49.373476579902466, 49.81621349958497, 50.2544407392065, 50.68748878230447, 51.11466631290257, 51.535258711119816, 51.94852668335406, 52.353705020242465, 52.75000147699979, 53.13659577194768, 53.51263870007599, 53.87725135936594, 54.22952448835026, 54.56851791401902, 54.893260109695646, 55.20274786293578, 55.49594605382286, 55.77178754428237, 56.02917317918189, 56.26697190006545, 56.48402097235309, 56.67912632674224, 56.85106301536762, 56.998575783001236, 57.12037975321034, 57.21516122891957, 57.281578606242554, 57.31826339975219, 57.32382137651532, 57.29683379524005, 57.23585874571976, 57.139432582412695, 57.00607144441788, 56.83427285227505, 56.622517369870785, 56.369270317237685, 56.07298351709008, 55.732097054486914, 55.345041024929344, 54.910237241330954, 54.42610086448987, 53.89104191468368, 53.30346661351067, 52.66177849472013, 51.964379209979086, 51.20966893963127, 50.39604629857925, 49.521907602224346, 48.585645325197056, 47.58564554406774, 46.52028410101022, 45.38792115387234, 44.186893682539726, 42.91550539216858, 41.572013276346546, 40.15460985582151, 38.661399757725654, 37.09036879379273, 35.43934294949416, 33.70593356950228, 31.887463279324784, 29.980864394035073, 27.98253694638313, 25.888145482500217, 23.692319218344828, 21.388191808346743, 18.966659914034693, 16.64355671235917, 12.50499983387459, 13.442935054656457, 4.863633159208732, 5.9621272797746725, 0.05219889079747364, -0.05219889516729541, -4.893540975693533, -3.8989243207208455, -10.581902813797564, -9.700717171313455, -12.743865555065863, -14.349358611362092, -15.99875292481506, -17.529559739040277, -18.95072138230638, -20.26894641052453, -21.48945145588316, -22.61642188059559, -23.653312048456428, -24.603048963244923, -25.468174681304678, -26.25094835053756, -26.953420743954624, -27.57748953726135, -28.124940791001947, -28.597480352195106, -28.996757763837575, -29.32438452404276, -29.58194803011216, -29.771022192076952, -29.893175452781858, -29.949976774016733, -29.943000018827448, -29.873827064522096, -29.744049909293214, -29.55527198110134, -29.30910881584121, -29.007188239539477, -28.65115016404703, -28.24264608567904, -27.783338360270626, -27.274899315219965, -26.719010248604846, -26.11736035684858, -25.471645625288502, -24.783567710058858, -24.054832834708545, -23.287150720743718, -22.482233567688898, -21.6417950951639, -20.76754965681356, -19.861211433611818, -18.924493712047926, -17.959108250937728, -16.966764739053918, -15.949170344402274, -14.908029354766478, -13.845042908075, -12.76190881019957, -11.660321436956997, -10.541971716344477, -9.408547186385503, -8.261732123384933, -7.103207734886422, -5.934652411185866, -4.757742028872027, -3.5741502995420626, -2.3855491565663582, -1.1936091725547808, -2.67455947486318e-13, 1.1936091725542435, 2.385549156565817, 3.5741502995415146, 4.7577420288714904, 5.934652411185326, 7.103207734885877, 8.2617321233844, 9.40854718638496, 10.54197171634391, 11.660321436956437, 12.761908810199055, 13.845042908074435, 14.908029354765906, 15.949170344401717, 16.966764739053357, 17.95910825093715, 18.924493712047287, 19.86121143361121, 20.76754965681297, 21.641795095163282, 22.482233567688315, 23.28715072074314, 24.054832834707938, 24.78356771005827, 25.47164562528781, 26.117360356847957, 26.71901024860418, 27.274899315219304, 27.783338360270008, 28.242646085678317, 28.65115016404631, 29.007188239538767, 29.309108815840457, 29.555271981100553, 29.744049909292524, 29.87382706452132, 29.94300001882665, 29.949976774015894, 29.893175452780945, 29.771022192076067, 29.58194803011125, 29.324384524041886, 28.996757763836627, 28.597480352194196, 28.124940791001098, 27.577489537260547, 26.953420743953824, 26.25094835053686, 25.46817468130403, 24.603048963244323, 23.6533120484559, 22.616421880595084, 21.489451455882676, 20.26894641052411, 18.95072138230602, 17.529559739039918, 15.998752924814696, 14.34935861136184, 12.743865555065645, 9.700717171313311, 10.581902813797397, 3.8989243207207824, 4.893540975693475, 0.05219889516729509, 0.00019501447486958186, 0.025995000061156803, 0.021572556044235656, 0.06049955944729855, 0.0570284140608197, 0.07691370590544137, 0.088846771749839, 0.10161479048011338, 0.11423889184347959, 0.12678092639515126, 0.13929286454635803, 0.15181979055983222, 0.16440180720629138, 0.17707531322171496, 0.18987389890563708, 0.20282899705482288, 0.2159703706127366, 0.22932648763619565, 0.24292481627429788, 0.2567920615766082, 0.2709543590951504, 0.28543743579213454, 0.3002667457930363, 0.31546758649279627, 0.33106519910432636, 0.3470848567288851, 0.36355194229682347, 0.38049201818915657, 0.39793088894852374, 0.41589465818350396, 0.4344097805363105, 0.4535031094017345, 0.47320194094145, 0.49353405482284857, 0.5145277520183089, 0.5362118899240754, 0.5586159149936956, 0.5817698930264704, 0.6057045372041239, 0.6304512339273126, 0.6560420664661754, 0.6825098364048464, 0.7098880828277212, 0.7382110991647259, 0.7675139475830127, 0.7978324707831829, 0.829203301028526, 0.861663866205747, 0.8952523926846404, 0.9300079047118948, 0.965970220040313, 1.0031799414588345, 1.0416784438505522, 1.0815078563650173, 1.122711039247079, 1.16533155481711, 1.2094136320460827, 1.2550021241131486, 1.3021424582726937, 1.350880577291771, 1.4012628716464048, 1.453336101586347, 1.507147308091011, 1.5627437116443703, 1.620172597651851, 1.6794811872072177, 1.7407164917903906, 1.8039251503370355, 1.8691532469656162, 1.9364461074759978, 2.0058480725430647, 2.077402245317343, 2.151150210908782, 2.2271317249674962, 2.3053843682816026, 2.3859431639842166, 2.468840153593257, 2.554103927694247, 2.641759106610202, 2.7318257658770224, 2.8243188007477276, 2.919247223274166, 3.0166133847472385, 3.1164121154017623, 3.218629772290814, 3.323243185086435, 3.4302184882419344, 3.5395098264250184, 3.6510579183626226, 3.7647884621815937, 3.880610362927269, 3.9984137601261467, 4.118067829942247, 4.239418332553567, 4.362284870711235, 4.486457819871806, 4.611694883599398, 4.73771721984813, 4.864205073906688, 4.990792841765463, 5.117063472861183, 5.242542102789897, 5.36668878362301, 5.488890150530004, 5.608449826628068, 5.72457732076932, 5.836375111769259, 5.942823532355451, 6.042762959712797, 6.134872676561964, 6.217645571976765, 6.289357581770598, 6.348030389305259, 6.391385364343714, 6.416785922452982, 6.421164295940502, 6.400926873183217, 6.3518293511688935, 6.268808152202747, 6.145746315188002, 5.975137128290921, 5.747579814469819, 5.4509835338403585, 5.139827300921717, 4.17638627562361, 4.897093666042742, 1.969053385358868, 2.745755111414145, 0.052214434065504495]\n"
     ]
    },
    {
     "name": "stderr",
     "output_type": "stream",
     "text": [
      "Excessive output truncated after 5705710 bytes."
     ]
    },
    {
     "name": "stdout",
     "output_type": "stream",
     "text": [
      "g = "
     ]
    },
    {
     "data": {
      "text/plain": [
       "17-element Array{Int64,1}:\n",
       "      1\n",
       "  16642\n",
       "  33283\n",
       "  49924\n",
       "  66565\n",
       "  83206\n",
       "  99847\n",
       " 116488\n",
       " 133129\n",
       " 149770\n",
       " 166411\n",
       " 183052\n",
       " 199693\n",
       " 216334\n",
       " 232975\n",
       " 249616\n",
       " 266257"
      ]
     },
     "execution_count": 91,
     "metadata": {},
     "output_type": "execute_result"
    }
   ],
   "source": [
    "@show bλ\n",
    "@show g\n",
    "@show gδ\n",
    "@show u\n",
    "@show locfactors # M\n",
    "@show FbarT \n",
    "@show vstarts"
   ]
  },
  {
   "cell_type": "code",
   "execution_count": 92,
   "metadata": {},
   "outputs": [],
   "source": [
    "for e=1:length(locfactors)\n",
    "    @views u[vstarts[e]:(vstarts[e+1]-1)] = (locfactors[e] \\ g[vstarts[e]:(vstarts[e+1]-1)])\n",
    "end"
   ]
  },
  {
   "cell_type": "code",
   "execution_count": 93,
   "metadata": {},
   "outputs": [
    {
     "data": {
      "text/plain": [
       "3096-element Array{Float64,1}:\n",
       " -1940.4657943660495     \n",
       "  -859.955213207742      \n",
       "   144.56456569130378    \n",
       "  -243.93951751909827    \n",
       "   -67.02128303745845    \n",
       "   -75.19413121482606    \n",
       "   -64.35031637273443    \n",
       "   -57.14497672463439    \n",
       "   -52.01883881055562    \n",
       "   -48.23180065022449    \n",
       "   -45.37218133901549    \n",
       "   -43.18143017681698    \n",
       "   -41.48834834481405    \n",
       "     ⋮                   \n",
       "    -6.3518293511688935  \n",
       "    -6.268808152202747   \n",
       "    -6.145746315188002   \n",
       "    -5.975137128290921   \n",
       "    -5.747579814469819   \n",
       "    -5.4509835338403585  \n",
       "    -5.139827300921717   \n",
       "    -4.17638627562361    \n",
       "    -4.897093666042742   \n",
       "    -1.969053385358868   \n",
       "    -2.745755111414145   \n",
       "    -0.052214434065504495"
      ]
     },
     "execution_count": 93,
     "metadata": {},
     "output_type": "execute_result"
    }
   ],
   "source": [
    "mul!(bλ,FbarT,u)"
   ]
  },
  {
   "cell_type": "code",
   "execution_count": 94,
   "metadata": {},
   "outputs": [
    {
     "name": "stdout",
     "output_type": "stream",
     "text": [
      "typeof(bλ) = Array{Float64,1}\n",
      "typeof(FbarT) = SparseMatrixCSC{Float64,Int64}\n",
      "typeof(u) = Array{Float64,1}\n"
     ]
    },
    {
     "data": {
      "text/plain": [
       "Array{Float64,1}"
      ]
     },
     "execution_count": 94,
     "metadata": {},
     "output_type": "execute_result"
    }
   ],
   "source": [
    "@show typeof(bλ)\n",
    "@show typeof(FbarT)\n",
    "@show typeof(u)"
   ]
  },
  {
   "cell_type": "code",
   "execution_count": 95,
   "metadata": {},
   "outputs": [
    {
     "data": {
      "text/latex": [
       "\\begin{verbatim}\n",
       "mul!(Y, A, B) -> Y\n",
       "\\end{verbatim}\n",
       "Calculates the matrix-matrix or matrix-vector product $AB$ and stores the result in \\texttt{Y}, overwriting the existing value of \\texttt{Y}. Note that \\texttt{Y} must not be aliased with either \\texttt{A} or \\texttt{B}.\n",
       "\n",
       "\\section{Examples}\n",
       "\\begin{verbatim}\n",
       "julia> A=[1.0 2.0; 3.0 4.0]; B=[1.0 1.0; 1.0 1.0]; Y = similar(B); mul!(Y, A, B);\n",
       "\n",
       "julia> Y\n",
       "2×2 Array{Float64,2}:\n",
       " 3.0  3.0\n",
       " 7.0  7.0\n",
       "\\end{verbatim}\n",
       "\\section{Implementation}\n",
       "For custom matrix and vector types, it is recommended to implement 5-argument \\texttt{mul!} rather than implementing 3-argument \\texttt{mul!} directly if possible.\n",
       "\n",
       "\\begin{verbatim}\n",
       "mul!(C, A, B, α, β) -> C\n",
       "\\end{verbatim}\n",
       "Combined inplace matrix-matrix or matrix-vector multiply-add $A B α + C β$. The result is stored in \\texttt{C} by overwriting it.  Note that \\texttt{C} must not be aliased with either \\texttt{A} or \\texttt{B}.\n",
       "\n",
       "\\begin{quote}\n",
       "\\textbf{compat}\n",
       "\n",
       "Julia 1.3\n",
       "\n",
       "Five-argument \\texttt{mul!} requires at least Julia 1.3.\n",
       "\n",
       "\\end{quote}\n",
       "\\section{Examples}\n",
       "\\begin{verbatim}\n",
       "julia> A=[1.0 2.0; 3.0 4.0]; B=[1.0 1.0; 1.0 1.0]; C=[1.0 2.0; 3.0 4.0];\n",
       "\n",
       "julia> mul!(C, A, B, 100.0, 10.0) === C\n",
       "true\n",
       "\n",
       "julia> C\n",
       "2×2 Array{Float64,2}:\n",
       " 310.0  320.0\n",
       " 730.0  740.0\n",
       "\\end{verbatim}\n"
      ],
      "text/markdown": [
       "```\n",
       "mul!(Y, A, B) -> Y\n",
       "```\n",
       "\n",
       "Calculates the matrix-matrix or matrix-vector product $AB$ and stores the result in `Y`, overwriting the existing value of `Y`. Note that `Y` must not be aliased with either `A` or `B`.\n",
       "\n",
       "# Examples\n",
       "\n",
       "```jldoctest\n",
       "julia> A=[1.0 2.0; 3.0 4.0]; B=[1.0 1.0; 1.0 1.0]; Y = similar(B); mul!(Y, A, B);\n",
       "\n",
       "julia> Y\n",
       "2×2 Array{Float64,2}:\n",
       " 3.0  3.0\n",
       " 7.0  7.0\n",
       "```\n",
       "\n",
       "# Implementation\n",
       "\n",
       "For custom matrix and vector types, it is recommended to implement 5-argument `mul!` rather than implementing 3-argument `mul!` directly if possible.\n",
       "\n",
       "```\n",
       "mul!(C, A, B, α, β) -> C\n",
       "```\n",
       "\n",
       "Combined inplace matrix-matrix or matrix-vector multiply-add $A B α + C β$. The result is stored in `C` by overwriting it.  Note that `C` must not be aliased with either `A` or `B`.\n",
       "\n",
       "!!! compat \"Julia 1.3\"\n",
       "    Five-argument `mul!` requires at least Julia 1.3.\n",
       "\n",
       "\n",
       "# Examples\n",
       "\n",
       "```jldoctest\n",
       "julia> A=[1.0 2.0; 3.0 4.0]; B=[1.0 1.0; 1.0 1.0]; C=[1.0 2.0; 3.0 4.0];\n",
       "\n",
       "julia> mul!(C, A, B, 100.0, 10.0) === C\n",
       "true\n",
       "\n",
       "julia> C\n",
       "2×2 Array{Float64,2}:\n",
       " 310.0  320.0\n",
       " 730.0  740.0\n",
       "```\n"
      ],
      "text/plain": [
       "\u001b[36m  mul!(Y, A, B) -> Y\u001b[39m\n",
       "\n",
       "  Calculates the matrix-matrix or matrix-vector product \u001b[35mAB\u001b[39m and stores the\n",
       "  result in \u001b[36mY\u001b[39m, overwriting the existing value of \u001b[36mY\u001b[39m. Note that \u001b[36mY\u001b[39m must not be\n",
       "  aliased with either \u001b[36mA\u001b[39m or \u001b[36mB\u001b[39m.\n",
       "\n",
       "\u001b[1m  Examples\u001b[22m\n",
       "\u001b[1m  ≡≡≡≡≡≡≡≡≡≡\u001b[22m\n",
       "\n",
       "\u001b[36m  julia> A=[1.0 2.0; 3.0 4.0]; B=[1.0 1.0; 1.0 1.0]; Y = similar(B); mul!(Y, A, B);\u001b[39m\n",
       "\u001b[36m  \u001b[39m\n",
       "\u001b[36m  julia> Y\u001b[39m\n",
       "\u001b[36m  2×2 Array{Float64,2}:\u001b[39m\n",
       "\u001b[36m   3.0  3.0\u001b[39m\n",
       "\u001b[36m   7.0  7.0\u001b[39m\n",
       "\n",
       "\u001b[1m  Implementation\u001b[22m\n",
       "\u001b[1m  ≡≡≡≡≡≡≡≡≡≡≡≡≡≡≡≡\u001b[22m\n",
       "\n",
       "  For custom matrix and vector types, it is recommended to implement\n",
       "  5-argument \u001b[36mmul!\u001b[39m rather than implementing 3-argument \u001b[36mmul!\u001b[39m directly if\n",
       "  possible.\n",
       "\n",
       "\u001b[36m  mul!(C, A, B, α, β) -> C\u001b[39m\n",
       "\n",
       "  Combined inplace matrix-matrix or matrix-vector multiply-add \u001b[35mA B α + C β\u001b[39m.\n",
       "  The result is stored in \u001b[36mC\u001b[39m by overwriting it. Note that \u001b[36mC\u001b[39m must not be aliased\n",
       "  with either \u001b[36mA\u001b[39m or \u001b[36mB\u001b[39m.\n",
       "\n",
       "\u001b[39m\u001b[1m  │ \u001b[22m\u001b[39m\u001b[1mJulia 1.3\u001b[22m\n",
       "\u001b[39m\u001b[1m  │\u001b[22m\n",
       "\u001b[39m\u001b[1m  │\u001b[22m  Five-argument \u001b[36mmul!\u001b[39m requires at least Julia 1.3.\n",
       "\n",
       "\u001b[1m  Examples\u001b[22m\n",
       "\u001b[1m  ≡≡≡≡≡≡≡≡≡≡\u001b[22m\n",
       "\n",
       "\u001b[36m  julia> A=[1.0 2.0; 3.0 4.0]; B=[1.0 1.0; 1.0 1.0]; C=[1.0 2.0; 3.0 4.0];\u001b[39m\n",
       "\u001b[36m  \u001b[39m\n",
       "\u001b[36m  julia> mul!(C, A, B, 100.0, 10.0) === C\u001b[39m\n",
       "\u001b[36m  true\u001b[39m\n",
       "\u001b[36m  \u001b[39m\n",
       "\u001b[36m  julia> C\u001b[39m\n",
       "\u001b[36m  2×2 Array{Float64,2}:\u001b[39m\n",
       "\u001b[36m   310.0  320.0\u001b[39m\n",
       "\u001b[36m   730.0  740.0\u001b[39m"
      ]
     },
     "execution_count": 95,
     "metadata": {},
     "output_type": "execute_result"
    }
   ],
   "source": [
    "@doc mul!"
   ]
  },
  {
   "cell_type": "code",
   "execution_count": 46,
   "metadata": {},
   "outputs": [
    {
     "ename": "UndefVarError",
     "evalue": "UndefVarError: BF not defined",
     "output_type": "error",
     "traceback": [
      "UndefVarError: BF not defined",
      "",
      "Stacktrace:",
      " [1] ##core#440() at C:\\Users\\cheny\\.julia\\packages\\BenchmarkTools\\eCEpo\\src\\execution.jl:371",
      " [2] ##sample#441(::BenchmarkTools.Parameters) at C:\\Users\\cheny\\.julia\\packages\\BenchmarkTools\\eCEpo\\src\\execution.jl:377",
      " [3] #_run#141(::Bool, ::String, ::Base.Iterators.Pairs{Symbol,Integer,NTuple{4,Symbol},NamedTuple{(:samples, :evals, :gctrial, :gcsample),Tuple{Int64,Int64,Bool,Bool}}}, ::typeof(BenchmarkTools._run), ::BenchmarkTools.Benchmark{Symbol(\"##benchmark#439\")}, ::BenchmarkTools.Parameters) at C:\\Users\\cheny\\.julia\\packages\\BenchmarkTools\\eCEpo\\src\\execution.jl:405",
      " [4] (::Base.var\"#inner#2\"{Base.Iterators.Pairs{Symbol,Integer,NTuple{5,Symbol},NamedTuple{(:verbose, :samples, :evals, :gctrial, :gcsample),Tuple{Bool,Int64,Int64,Bool,Bool}}},typeof(BenchmarkTools._run),Tuple{BenchmarkTools.Benchmark{Symbol(\"##benchmark#439\")},BenchmarkTools.Parameters}})() at .\\none:0",
      " [5] #invokelatest#1 at .\\essentials.jl:713 [inlined]",
      " [6] #invokelatest at .\\none:0 [inlined]",
      " [7] #run_result#37 at C:\\Users\\cheny\\.julia\\packages\\BenchmarkTools\\eCEpo\\src\\execution.jl:32 [inlined]",
      " [8] #run_result at .\\none:0 [inlined]",
      " [9] #run#40(::Nothing, ::Float64, ::Float64, ::Base.Iterators.Pairs{Symbol,Integer,NTuple{5,Symbol},NamedTuple{(:verbose, :samples, :evals, :gctrial, :gcsample),Tuple{Bool,Int64,Int64,Bool,Bool}}}, ::typeof(run), ::BenchmarkTools.Benchmark{Symbol(\"##benchmark#439\")}, ::BenchmarkTools.Parameters) at C:\\Users\\cheny\\.julia\\packages\\BenchmarkTools\\eCEpo\\src\\execution.jl:94",
      " [10] #run at .\\none:0 [inlined] (repeats 2 times)",
      " [11] #warmup#45 at C:\\Users\\cheny\\.julia\\packages\\BenchmarkTools\\eCEpo\\src\\execution.jl:141 [inlined]",
      " [12] warmup(::BenchmarkTools.Benchmark{Symbol(\"##benchmark#439\")}) at C:\\Users\\cheny\\.julia\\packages\\BenchmarkTools\\eCEpo\\src\\execution.jl:141",
      " [13] top-level scope at C:\\Users\\cheny\\.julia\\packages\\BenchmarkTools\\eCEpo\\src\\execution.jl:287",
      " [14] top-level scope at In[46]:1"
     ]
    }
   ],
   "source": [
    "@benchmark λ[:] = BF \\ bλ"
   ]
  },
  {
   "cell_type": "code",
   "execution_count": 97,
   "metadata": {},
   "outputs": [
    {
     "data": {
      "text/plain": [
       "266256-element Array{Float64,1}:\n",
       " 0.0\n",
       " 0.0\n",
       " 0.0\n",
       " 0.0\n",
       " 0.0\n",
       " 0.0\n",
       " 0.0\n",
       " 0.0\n",
       " 0.0\n",
       " 0.0\n",
       " 0.0\n",
       " 0.0\n",
       " 0.0\n",
       " ⋮  \n",
       " 0.0\n",
       " 0.0\n",
       " 0.0\n",
       " 0.0\n",
       " 0.0\n",
       " 0.0\n",
       " 0.0\n",
       " 0.0\n",
       " 0.0\n",
       " 0.0\n",
       " 0.0\n",
       " 0.0"
      ]
     },
     "execution_count": 97,
     "metadata": {},
     "output_type": "execute_result"
    }
   ],
   "source": [
    "u[:] = -FbarT' * λ"
   ]
  },
  {
   "cell_type": "code",
   "execution_count": null,
   "metadata": {},
   "outputs": [],
   "source": []
  },
  {
   "cell_type": "code",
   "execution_count": 98,
   "metadata": {},
   "outputs": [
    {
     "data": {
      "text/plain": [
       "266256-element view(::Array{Float64,1}, :) with eltype Float64:\n",
       " 1.7402080323534172e6\n",
       " 3.8267805815270967e6\n",
       " 1.4306964391391946e6\n",
       " 3.0088406031459873e6\n",
       " 2.0517795812066875e6\n",
       " 2.184519911731605e6 \n",
       " 2.051338580671833e6 \n",
       " 1.9530752097934955e6\n",
       " 1.8595188581016746e6\n",
       " 1.7704440496186782e6\n",
       " 1.6856361091336065e6\n",
       " 1.6048906448232317e6\n",
       " 1.5280130556564063e6\n",
       " ⋮                   \n",
       " 0.0890929077617104  \n",
       " 0.09357527173480022 \n",
       " 0.098283157283931   \n",
       " 0.10322791067344353 \n",
       " 0.1084214490322637  \n",
       " 0.11387628907484165 \n",
       " 0.12126953448790209 \n",
       " 0.11452932038615814 \n",
       " 0.16367703968945654 \n",
       " 0.08696644403530006 \n",
       " 0.20237734058975668 \n",
       " 0.048301371355733376"
      ]
     },
     "execution_count": 98,
     "metadata": {},
     "output_type": "execute_result"
    }
   ],
   "source": [
    "u[:] .= g .+ u"
   ]
  },
  {
   "cell_type": "code",
   "execution_count": 99,
   "metadata": {},
   "outputs": [
    {
     "data": {
      "text/plain": [
       "0.14700007438659668"
      ]
     },
     "execution_count": 99,
     "metadata": {},
     "output_type": "execute_result"
    }
   ],
   "source": [
    "time_direct_solve_start = time()\n",
    "# @benchmark \n",
    "for e = 1:nelems\n",
    "      F = locfactors[e]\n",
    "      (x, y) = lop[e].coord\n",
    "      JH = lop[e].JH\n",
    "      start = time()\n",
    "      @views u[vstarts[e]:(vstarts[e+1]-1)] = F \\ u[vstarts[e]:(vstarts[e+1]-1)]\n",
    "      #=\n",
    "      ldiv!((@view u[vstarts[e]:(vstarts[e+1]-1)]), F,\n",
    "    \n",
    "            (@view u[vstarts[e]:(vstarts[e+1]-1)]))\n",
    "      =#\n",
    "\n",
    "      @views Δ[vstarts[e]:(vstarts[e+1]-1)] = (u[vstarts[e]:(vstarts[e+1]-1)] -\n",
    "                                               vex(x[:], y[:], e))\n",
    "      ϵ[lvl] += Δ[vstarts[e]:(vstarts[e+1]-1)]' * JH * Δ[vstarts[e]:(vstarts[e+1]-1)]\n",
    " end\n",
    "time_direct_solve_elapsed = time() - time_direct_solve_start"
   ]
  },
  {
   "cell_type": "code",
   "execution_count": 100,
   "metadata": {},
   "outputs": [
    {
     "data": {
      "text/plain": [
       "0.08999991416931152"
      ]
     },
     "execution_count": 100,
     "metadata": {},
     "output_type": "execute_result"
    }
   ],
   "source": [
    "time_direct_solve_threaded_start = time()\n",
    "# @benchmark \n",
    "@threads for e = 1:nelems\n",
    "      F = locfactors[e]\n",
    "      (x, y) = lop[e].coord\n",
    "      JH = lop[e].JH\n",
    "      start = time()\n",
    "      @views u[vstarts[e]:(vstarts[e+1]-1)] = F \\ u[vstarts[e]:(vstarts[e+1]-1)]\n",
    "      #=\n",
    "      ldiv!((@view u[vstarts[e]:(vstarts[e+1]-1)]), F,\n",
    "            (@view u[vstarts[e]:(vstarts[e+1]-1)]))\n",
    "      =#\n",
    "\n",
    "      @views Δ[vstarts[e]:(vstarts[e+1]-1)] = (u[vstarts[e]:(vstarts[e+1]-1)] -\n",
    "                                               vex(x[:], y[:], e))\n",
    "      ϵ[lvl] += Δ[vstarts[e]:(vstarts[e+1]-1)]' * JH * Δ[vstarts[e]:(vstarts[e+1]-1)]\n",
    " end\n",
    "time_direct_solve_threaded_elapsed = time() - time_direct_solve_threaded_start"
   ]
  },
  {
   "cell_type": "markdown",
   "metadata": {},
   "source": [
    "Conclusion: using Multithreading would significantly boost the performance of parallel solve"
   ]
  },
  {
   "cell_type": "code",
   "execution_count": null,
   "metadata": {},
   "outputs": [],
   "source": [
    "nthreads()"
   ]
  },
  {
   "cell_type": "code",
   "execution_count": null,
   "metadata": {},
   "outputs": [],
   "source": []
  }
 ],
 "metadata": {
  "kernelspec": {
   "display_name": "Julia (4 threads) 1.3.1",
   "language": "julia",
   "name": "julia-(4-threads)-1.3"
  },
  "language_info": {
   "file_extension": ".jl",
   "mimetype": "application/julia",
   "name": "julia",
   "version": "1.3.1"
  }
 },
 "nbformat": 4,
 "nbformat_minor": 4
}
