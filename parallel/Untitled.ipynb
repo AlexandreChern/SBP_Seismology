{
 "cells": [
  {
   "cell_type": "markdown",
   "metadata": {},
   "source": [
    "# This is the test on @views macro"
   ]
  },
  {
   "cell_type": "code",
   "execution_count": 2,
   "metadata": {},
   "outputs": [],
   "source": [
    "using LinearAlgebra\n",
    "using BenchmarkTools"
   ]
  },
  {
   "cell_type": "code",
   "execution_count": 26,
   "metadata": {},
   "outputs": [
    {
     "data": {
      "text/plain": [
       "100000-element Array{Int64,1}:\n",
       "      1\n",
       "      2\n",
       "      3\n",
       "      4\n",
       "      5\n",
       "      6\n",
       "      7\n",
       "      8\n",
       "      9\n",
       "     10\n",
       "     11\n",
       "     12\n",
       "     13\n",
       "      ⋮\n",
       "  99989\n",
       "  99990\n",
       "  99991\n",
       "  99992\n",
       "  99993\n",
       "  99994\n",
       "  99995\n",
       "  99996\n",
       "  99997\n",
       "  99998\n",
       "  99999\n",
       " 100000"
      ]
     },
     "execution_count": 26,
     "metadata": {},
     "output_type": "execute_result"
    }
   ],
   "source": [
    "array_len = Int(100_000)\n",
    "\n",
    "A = Array(1:array_len)"
   ]
  },
  {
   "cell_type": "code",
   "execution_count": 42,
   "metadata": {},
   "outputs": [
    {
     "data": {
      "text/plain": [
       "BenchmarkTools.Trial: \n",
       "  memory estimate:  304 bytes\n",
       "  allocs estimate:  12\n",
       "  --------------\n",
       "  minimum time:     15.899 μs (0.00% GC)\n",
       "  median time:      17.000 μs (0.00% GC)\n",
       "  mean time:        17.266 μs (0.00% GC)\n",
       "  maximum time:     181.899 μs (0.00% GC)\n",
       "  --------------\n",
       "  samples:          10000\n",
       "  evals/sample:     1"
      ]
     },
     "execution_count": 42,
     "metadata": {},
     "output_type": "execute_result"
    }
   ],
   "source": [
    "@benchmark @views A[1:Int(array_len/2)] .= A[Int(array_len/2)+1:array_len]"
   ]
  },
  {
   "cell_type": "code",
   "execution_count": 43,
   "metadata": {},
   "outputs": [
    {
     "data": {
      "text/plain": [
       "BenchmarkTools.Trial: \n",
       "  memory estimate:  390.84 KiB\n",
       "  allocs estimate:  9\n",
       "  --------------\n",
       "  minimum time:     45.800 μs (0.00% GC)\n",
       "  median time:      52.400 μs (0.00% GC)\n",
       "  mean time:        67.969 μs (6.83% GC)\n",
       "  maximum time:     3.975 ms (96.71% GC)\n",
       "  --------------\n",
       "  samples:          10000\n",
       "  evals/sample:     1"
      ]
     },
     "execution_count": 43,
     "metadata": {},
     "output_type": "execute_result"
    }
   ],
   "source": [
    "@benchmark A[1:Int(array_len/2)] = A[Int(array_len/2)+1:array_len]"
   ]
  },
  {
   "cell_type": "code",
   "execution_count": 44,
   "metadata": {},
   "outputs": [
    {
     "data": {
      "text/plain": [
       "BenchmarkTools.Trial: \n",
       "  memory estimate:  390.95 KiB\n",
       "  allocs estimate:  13\n",
       "  --------------\n",
       "  minimum time:     43.799 μs (0.00% GC)\n",
       "  median time:      56.000 μs (0.00% GC)\n",
       "  mean time:        73.233 μs (7.42% GC)\n",
       "  maximum time:     4.142 ms (95.88% GC)\n",
       "  --------------\n",
       "  samples:          10000\n",
       "  evals/sample:     1"
      ]
     },
     "execution_count": 44,
     "metadata": {},
     "output_type": "execute_result"
    }
   ],
   "source": []
  },
  {
   "cell_type": "code",
   "execution_count": 37,
   "metadata": {},
   "outputs": [
    {
     "data": {
      "text/plain": [
       "50000-element Array{Int64,1}:\n",
       "  50001\n",
       "  50002\n",
       "  50003\n",
       "  50004\n",
       "  50005\n",
       "  50006\n",
       "  50007\n",
       "  50008\n",
       "  50009\n",
       "  50010\n",
       "  50011\n",
       "  50012\n",
       "  50013\n",
       "      ⋮\n",
       "  99989\n",
       "  99990\n",
       "  99991\n",
       "  99992\n",
       "  99993\n",
       "  99994\n",
       "  99995\n",
       "  99996\n",
       "  99997\n",
       "  99998\n",
       "  99999\n",
       " 100000"
      ]
     },
     "execution_count": 37,
     "metadata": {},
     "output_type": "execute_result"
    }
   ],
   "source": [
    " A[1:Int(array_len/2)]"
   ]
  },
  {
   "cell_type": "code",
   "execution_count": 38,
   "metadata": {},
   "outputs": [
    {
     "data": {
      "text/plain": [
       "50000-element Array{Int64,1}:\n",
       "  50001\n",
       "  50002\n",
       "  50003\n",
       "  50004\n",
       "  50005\n",
       "  50006\n",
       "  50007\n",
       "  50008\n",
       "  50009\n",
       "  50010\n",
       "  50011\n",
       "  50012\n",
       "  50013\n",
       "      ⋮\n",
       "  99989\n",
       "  99990\n",
       "  99991\n",
       "  99992\n",
       "  99993\n",
       "  99994\n",
       "  99995\n",
       "  99996\n",
       "  99997\n",
       "  99998\n",
       "  99999\n",
       " 100000"
      ]
     },
     "execution_count": 38,
     "metadata": {},
     "output_type": "execute_result"
    }
   ],
   "source": [
    " A[Int(array_len/2)+1:array_len]"
   ]
  },
  {
   "cell_type": "code",
   "execution_count": 39,
   "metadata": {},
   "outputs": [
    {
     "data": {
      "text/plain": [
       "50000-element view(::Array{Int64,1}, 1:50000) with eltype Int64:\n",
       "  50001\n",
       "  50002\n",
       "  50003\n",
       "  50004\n",
       "  50005\n",
       "  50006\n",
       "  50007\n",
       "  50008\n",
       "  50009\n",
       "  50010\n",
       "  50011\n",
       "  50012\n",
       "  50013\n",
       "      ⋮\n",
       "  99989\n",
       "  99990\n",
       "  99991\n",
       "  99992\n",
       "  99993\n",
       "  99994\n",
       "  99995\n",
       "  99996\n",
       "  99997\n",
       "  99998\n",
       "  99999\n",
       " 100000"
      ]
     },
     "execution_count": 39,
     "metadata": {},
     "output_type": "execute_result"
    }
   ],
   "source": [
    "A[1:Int(array_len/2)] .= A[Int(array_len/2)+1:array_len]"
   ]
  },
  {
   "cell_type": "code",
   "execution_count": 25,
   "metadata": {},
   "outputs": [
    {
     "data": {
      "text/plain": [
       "1×5 Array{Int64,2}:\n",
       " 1  2  3  4  5"
      ]
     },
     "execution_count": 25,
     "metadata": {},
     "output_type": "execute_result"
    }
   ],
   "source": [
    "B = [1 2 3 4 5]"
   ]
  },
  {
   "cell_type": "code",
   "execution_count": null,
   "metadata": {},
   "outputs": [],
   "source": []
  }
 ],
 "metadata": {
  "kernelspec": {
   "display_name": "Julia (4 threads) 1.3.1",
   "language": "julia",
   "name": "julia-(4-threads)-1.3"
  },
  "language_info": {
   "file_extension": ".jl",
   "mimetype": "application/julia",
   "name": "julia",
   "version": "1.3.1"
  }
 },
 "nbformat": 4,
 "nbformat_minor": 4
}
